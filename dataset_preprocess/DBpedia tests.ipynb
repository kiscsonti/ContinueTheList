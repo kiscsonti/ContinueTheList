{
 "cells": [
  {
   "cell_type": "code",
   "execution_count": 1,
   "metadata": {
    "collapsed": true
   },
   "outputs": [],
   "source": [
    "from SPARQLWrapper import SPARQLWrapper, JSON\n",
    "\n",
    "sparql = SPARQLWrapper(\"http://localhost:8890/sparql\")\n",
    "# \"http://localhost:8890/sparql\"\n",
    "# \"http://dbpedia.org/sparql\"\n",
    "sparql.setReturnFormat(JSON)\n",
    "\n",
    "def run_sparql_query(query):\n",
    "    sparql.setQuery(query)\n",
    "\n",
    "    results = None\n",
    "    try:\n",
    "        ret = sparql.queryAndConvert()\n",
    "\n",
    "        for r in ret[\"results\"][\"bindings\"]:\n",
    "            if results is None:\n",
    "                results = [r]\n",
    "            else:\n",
    "                results.append(r)\n",
    "    except Exception as e:\n",
    "        print(\"Error -->\", e)\n",
    "    return results"
   ]
  },
  {
   "cell_type": "code",
   "execution_count": 2,
   "metadata": {
    "collapsed": false
   },
   "outputs": [
    {
     "data": {
      "text/plain": [
       "[{'type': {'type': 'uri',\n",
       "   'value': 'http://www.w3.org/2002/07/owl#DatatypeProperty'},\n",
       "  'cnt': {'type': 'typed-literal',\n",
       "   'datatype': 'http://www.w3.org/2001/XMLSchema#integer',\n",
       "   'value': '1746'}},\n",
       " {'type': {'type': 'uri',\n",
       "   'value': 'http://www.w3.org/2002/07/owl#ObjectProperty'},\n",
       "  'cnt': {'type': 'typed-literal',\n",
       "   'datatype': 'http://www.w3.org/2001/XMLSchema#integer',\n",
       "   'value': '1103'}},\n",
       " {'type': {'type': 'uri', 'value': 'http://www.w3.org/2002/07/owl#Class'},\n",
       "  'cnt': {'type': 'typed-literal',\n",
       "   'datatype': 'http://www.w3.org/2001/XMLSchema#integer',\n",
       "   'value': '757'}}]"
      ]
     },
     "execution_count": 2,
     "metadata": {},
     "output_type": "execute_result"
    }
   ],
   "source": [
    "run_sparql_query(\"select ?type (count(?entity) as ?cnt) { VALUES ?type { owl:Class owl:ObjectProperty owl:DatatypeProperty} ?entity a ?type } GROUP BY ?type\")"
   ]
  },
  {
   "cell_type": "code",
   "execution_count": null,
   "metadata": {
    "collapsed": false
   },
   "outputs": [],
   "source": []
  }
 ],
 "metadata": {
  "kernelspec": {
   "display_name": "Python 3",
   "language": "python",
   "name": "python3"
  },
  "language_info": {
   "codemirror_mode": {
    "name": "ipython",
    "version": 2
   },
   "file_extension": ".py",
   "mimetype": "text/x-python",
   "name": "python",
   "nbconvert_exporter": "python",
   "pygments_lexer": "ipython2",
   "version": "2.7.6"
  }
 },
 "nbformat": 4,
 "nbformat_minor": 0
}
