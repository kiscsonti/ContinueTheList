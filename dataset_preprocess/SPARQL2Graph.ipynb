{
 "cells": [
  {
   "cell_type": "code",
   "execution_count": 1,
   "metadata": {
    "collapsed": true,
    "pycharm": {
     "name": "#%%\n"
    }
   },
   "outputs": [],
   "source": [
    "ds_lc_quad = \"/home/kardosp/continuethelist/datasets/LC-QuAD/\"\n",
    "ds_lc_quad_train = \"/home/kardosp/continuethelist/datasets/LC-QuAD/lc_quad_dump_valid_train.json\"\n",
    "ds_lc_quad_test = \"/home/kardosp/continuethelist/datasets/LC-QuAD/lc_quad_dump_valid_test.json\"\n",
    "ds_qald = \"/home/kardosp/continuethelist/datasets/QALD/\"\n",
    "ds_qald_train = \"/home/kardosp/continuethelist/datasets/QALD/qald9_dump_w_answers_train.json\"\n",
    "ds_qald_test = \"/home/kardosp/continuethelist/datasets/QALD/qald9_dump_w_answers_test.json\"\n",
    "\n",
    "\n",
    "ds_lc_quad_train_w_graph = \"/home/kardosp/continuethelist/datasets/LC-QuAD/lc_quad_dump_valid_w_graph_train.json\"\n",
    "ds_lc_quad_test_w_graph = \"/home/kardosp/continuethelist/datasets/LC-QuAD/lc_quad_dump_valid_w_graph_test.json\"\n",
    "\n",
    "seed = 123"
   ]
  },
  {
   "cell_type": "code",
   "execution_count": 2,
   "metadata": {
    "collapsed": false,
    "pycharm": {
     "name": "#%%\n"
    }
   },
   "outputs": [],
   "source": [
    "import os\n",
    "import json"
   ]
  },
  {
   "cell_type": "code",
   "execution_count": 3,
   "metadata": {
    "collapsed": false,
    "pycharm": {
     "name": "#%%\n"
    }
   },
   "outputs": [],
   "source": [
    "with open(ds_lc_quad_train, \"r\") as f:\n",
    "    lcquad_train = json.load(f)\n",
    "\n",
    "with open(ds_lc_quad_test, \"r\") as f:\n",
    "    lcquad_test = json.load(f)"
   ]
  },
  {
   "cell_type": "code",
   "execution_count": 4,
   "metadata": {
    "collapsed": false,
    "pycharm": {
     "name": "#%%\n"
    }
   },
   "outputs": [
    {
     "name": "stdout",
     "output_type": "stream",
     "text": [
      "START\n"
     ]
    }
   ],
   "source": [
    "from copy import copy\n",
    "print(\"START\")\n",
    "\n",
    "def discard_empty(triples):\n",
    "    new_triples = list()\n",
    "    for item in triples:\n",
    "        if len(item.strip()) >= 1:\n",
    "            new_triples.append(item)\n",
    "    return new_triples\n",
    "\n",
    "\n",
    "def fix_triple(triple):\n",
    "    new_triple = list()\n",
    "    for item in triple:\n",
    "        if len(item.strip()) >= 1:\n",
    "            new_triple.append(item)\n",
    "    return new_triple\n",
    "\n",
    "lcquad_train2 = list()\n",
    "for t in lcquad_train:\n",
    "    start = t[\"sparql_query\"].find(\"{\")\n",
    "    end = t[\"sparql_query\"].find(\"}\")\n",
    "    query_line = t[\"sparql_query\"][start+1:end].strip()\n",
    "    query_triples = discard_empty(query_line.split(\" . \"))\n",
    "\n",
    "    triples = list()\n",
    "\n",
    "    for triplet in query_triples:\n",
    "        tokens = triplet.strip().replace(\" .\", \"\").split(\" \")\n",
    "        tokens_fix = fix_triple(tokens)\n",
    "        if len(tokens_fix) % 3 != 0:\n",
    "            print(query_triples)\n",
    "            continue\n",
    "            # print(\"SIZE:\", len(tokens_fix))\n",
    "            # print(t[\"sparql_query\"])\n",
    "            # print(query_line)\n",
    "            # print(triplet)\n",
    "            # print(tokens_fix)\n",
    "        triples.append(tokens_fix)\n",
    "    t[\"graph\"] = triples\n",
    "    lcquad_train2.append(t)\n",
    "\n",
    "lcquad_test2 = list()\n",
    "for t in lcquad_test:\n",
    "    start = t[\"sparql_query\"].find(\"{\")\n",
    "    end = t[\"sparql_query\"].find(\"}\")\n",
    "    query_line = t[\"sparql_query\"][start+1:end].strip()\n",
    "    query_triples = discard_empty(query_line.split(\" . \"))\n",
    "\n",
    "    triples = list()\n",
    "\n",
    "    for triplet in query_triples:\n",
    "        tokens = triplet.strip().replace(\" .\", \"\").split(\" \")\n",
    "        tokens_fix = fix_triple(tokens)\n",
    "        if len(tokens_fix) % 3 != 0:\n",
    "            print(query_triples)\n",
    "            continue\n",
    "            # print(\"SIZE:\", len(tokens_fix))\n",
    "            # print(t[\"sparql_query\"])\n",
    "            # print(query_line)\n",
    "            # print(triplet)\n",
    "            # print(tokens_fix)\n",
    "        triples.append(tokens_fix)\n",
    "    t[\"graph\"] = triples\n",
    "    lcquad_test2.append(t)"
   ]
  },
  {
   "cell_type": "code",
   "execution_count": 5,
   "metadata": {
    "collapsed": false,
    "pycharm": {
     "name": "#%%\n"
    }
   },
   "outputs": [],
   "source": [
    "with open(ds_lc_quad_train_w_graph, \"w\") as f:\n",
    "    json.dump(lcquad_train2, f)\n",
    "\n",
    "with open(ds_lc_quad_test_w_graph, \"w\") as f:\n",
    "     json.dump(lcquad_test2, f)"
   ]
  },
  {
   "cell_type": "markdown",
   "metadata": {
    "collapsed": false,
    "pycharm": {
     "name": "#%% md\n"
    }
   },
   "source": [
    "# Stat of - Variables"
   ]
  },
  {
   "cell_type": "code",
   "execution_count": 6,
   "metadata": {
    "collapsed": false,
    "pycharm": {
     "name": "#%%\n"
    }
   },
   "outputs": [
    {
     "name": "stdout",
     "output_type": "stream",
     "text": [
      "Variables: {'?x', '?uri'}\n"
     ]
    }
   ],
   "source": [
    "variables = set()\n",
    "for t in lcquad_train:\n",
    "    for triplet in t[\"graph\"]:\n",
    "        for token in triplet:\n",
    "            if \"?\" in token:\n",
    "                variables.add(token)\n",
    "\n",
    "print(\"Variables:\", variables)"
   ]
  },
  {
   "cell_type": "code",
   "execution_count": null,
   "metadata": {
    "collapsed": false,
    "pycharm": {
     "name": "#%%\n"
    }
   },
   "outputs": [],
   "source": []
  }
 ],
 "metadata": {
  "kernelspec": {
   "display_name": "Python 3",
   "language": "python",
   "name": "python3"
  },
  "language_info": {
   "codemirror_mode": {
    "name": "ipython",
    "version": 2
   },
   "file_extension": ".py",
   "mimetype": "text/x-python",
   "name": "python",
   "nbconvert_exporter": "python",
   "pygments_lexer": "ipython2",
   "version": "2.7.6"
  }
 },
 "nbformat": 4,
 "nbformat_minor": 0
}
