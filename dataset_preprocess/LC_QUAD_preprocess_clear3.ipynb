{
 "cells": [
  {
   "cell_type": "code",
   "execution_count": 32,
   "metadata": {
    "collapsed": true
   },
   "outputs": [],
   "source": [
    "\"\"\"\n",
    "This notebook removes all the resulting nodes that are not valid. For example integer nodes.\n",
    "\"\"\"\n",
    "\n",
    "\n",
    "ds_lc_quad_train_wgraph = \"/home/kardosp/continuethelist/datasets/LC-QuAD/lc_quad_dump_valid_w_graph_train.json\"\n",
    "ds_lc_quad_test_wgraph = \"/home/kardosp/continuethelist/datasets/LC-QuAD/lc_quad_dump_valid_w_graph_test.json\""
   ]
  },
  {
   "cell_type": "code",
   "execution_count": 33,
   "metadata": {
    "collapsed": false
   },
   "outputs": [],
   "source": [
    "import json\n",
    "import os\n",
    "from copy import copy\n",
    "\n",
    "\n",
    "def load_on_path(path):\n",
    "    with open(path, \"r\") as f:\n",
    "        lcquad_train = json.load(f)\n",
    "    return lcquad_train\n"
   ]
  },
  {
   "cell_type": "code",
   "execution_count": 34,
   "metadata": {
    "collapsed": false
   },
   "outputs": [],
   "source": [
    "lcquad_train = load_on_path(ds_lc_quad_train_wgraph)\n",
    "lcquad_test = load_on_path(ds_lc_quad_test_wgraph)"
   ]
  },
  {
   "cell_type": "code",
   "execution_count": 35,
   "metadata": {
    "collapsed": false
   },
   "outputs": [],
   "source": [
    "from dateutil.parser import parse\n",
    "\n",
    "def exclude_int_func(element):\n",
    "\n",
    "    try:\n",
    "\n",
    "        int(element)\n",
    "        return True\n",
    "    except Exception as e:\n",
    "        return False\n",
    "\n",
    "\n",
    "def is_date(string, fuzzy=False):\n",
    "    \"\"\"\n",
    "    Return whether the string can be interpreted as a date.\n",
    "\n",
    "    :param string: str, string to check for date\n",
    "    :param fuzzy: bool, ignore unknown tokens in string if True\n",
    "    \"\"\"\n",
    "    try:\n",
    "        parse(string, fuzzy=fuzzy)\n",
    "        return True\n",
    "\n",
    "    except ValueError:\n",
    "        return False\n",
    "\n",
    "def exclude_date_func(element):\n",
    "    if is_date(element):\n",
    "        return True\n",
    "    return False\n",
    "\n",
    "\n",
    "def http_only_func(element):\n",
    "    if element.startswith(\"http\"):\n",
    "        return False\n",
    "    return True"
   ]
  },
  {
   "cell_type": "code",
   "execution_count": 36,
   "metadata": {
    "collapsed": false
   },
   "outputs": [],
   "source": [
    "resulting_set = [item for item in lcquad_train[102][\"result\"] if not exclude_int_func(item)]"
   ]
  },
  {
   "cell_type": "code",
   "execution_count": 37,
   "metadata": {
    "collapsed": false
   },
   "outputs": [
    {
     "data": {
      "text/plain": [
       "['http://dbpedia.org/resource/Caribbean',\n",
       " 'http://dbpedia.org/resource/Europe',\n",
       " 'http://dbpedia.org/resource/North_America',\n",
       " 'http://dbpedia.org/resource/Aberdeen',\n",
       " 'http://dbpedia.org/resource/Belfast',\n",
       " 'http://dbpedia.org/resource/Glasgow',\n",
       " 'http://dbpedia.org/resource/London',\n",
       " 'http://dbpedia.org/resource/Manchester',\n",
       " 'http://dbpedia.org/resource/Africa']"
      ]
     },
     "execution_count": 37,
     "metadata": {},
     "output_type": "execute_result"
    }
   ],
   "source": [
    "resulting_set"
   ]
  },
  {
   "cell_type": "code",
   "execution_count": 38,
   "metadata": {
    "collapsed": false
   },
   "outputs": [
    {
     "name": "stdout",
     "output_type": "stream",
     "text": [
      "i: 0\n",
      "1900\n",
      "10600\n",
      "i: 1\n",
      "i: 2\n",
      "i: 3\n",
      "i: 4\n",
      "i: 5\n",
      "i: 6\n",
      "i: 7\n",
      "i: 8\n",
      "i: 9\n",
      "i: 10\n",
      "i: 11\n",
      "i: 12\n",
      "i: 13\n",
      "i: 14\n",
      "i: 15\n",
      "i: 16\n",
      "i: 17\n",
      "i: 18\n",
      "i: 19\n",
      "i: 20\n",
      "i: 21\n",
      "i: 22\n",
      "i: 23\n",
      "i: 24\n",
      "i: 25\n",
      "i: 26\n",
      "i: 27\n",
      "i: 28\n",
      "i: 29\n",
      "i: 30\n",
      "i: 31\n",
      "i: 32\n",
      "i: 33\n",
      "i: 34\n",
      "i: 35\n",
      "i: 36\n",
      "i: 37\n",
      "i: 38\n",
      "i: 39\n",
      "i: 40\n",
      "i: 41\n",
      "i: 42\n",
      "i: 43\n",
      "i: 44\n",
      "i: 45\n",
      "i: 46\n",
      "i: 47\n",
      "i: 48\n",
      "i: 49\n",
      "i: 50\n",
      "i: 51\n",
      "i: 52\n",
      "i: 53\n",
      "i: 54\n",
      "i: 55\n",
      "i: 56\n",
      "i: 57\n",
      "i: 58\n",
      "i: 59\n",
      "i: 60\n",
      "i: 61\n",
      "i: 62\n",
      "i: 63\n",
      "i: 64\n",
      "i: 65\n",
      "i: 66\n",
      "i: 67\n",
      "i: 68\n",
      "i: 69\n",
      "i: 70\n",
      "i: 71\n",
      "i: 72\n",
      "i: 73\n",
      "i: 74\n",
      "i: 75\n",
      "i: 76\n",
      "i: 77\n",
      "i: 78\n",
      "i: 79\n",
      "i: 80\n",
      "i: 81\n",
      "i: 82\n",
      "i: 83\n",
      "i: 84\n",
      "i: 85\n",
      "i: 86\n",
      "i: 87\n",
      "i: 88\n",
      "i: 89\n",
      "i: 90\n",
      "i: 91\n",
      "i: 92\n",
      "i: 93\n",
      "i: 94\n",
      "i: 95\n",
      "i: 96\n",
      "i: 97\n",
      "i: 98\n",
      "i: 99\n",
      "i: 100\n",
      "i: 101\n",
      "i: 102\n",
      "i: 103\n",
      "i: 104\n",
      "i: 105\n",
      "i: 106\n",
      "i: 107\n",
      "i: 108\n",
      "1400\n",
      "5906\n",
      "i: 109\n",
      "i: 110\n",
      "i: 111\n",
      "i: 112\n",
      "i: 113\n",
      "i: 114\n",
      "i: 115\n",
      "i: 116\n",
      "i: 117\n",
      "i: 118\n",
      "i: 119\n",
      "i: 120\n",
      "i: 121\n",
      "i: 122\n",
      "i: 123\n",
      "i: 124\n",
      "i: 125\n",
      "i: 126\n",
      "i: 127\n",
      "i: 128\n",
      "i: 129\n",
      "i: 130\n",
      "i: 131\n",
      "i: 132\n",
      "i: 133\n",
      "i: 134\n",
      "i: 135\n",
      "i: 136\n",
      "i: 137\n",
      "i: 138\n",
      "i: 139\n",
      "i: 140\n",
      "i: 141\n",
      "i: 142\n",
      "i: 143\n",
      "i: 144\n",
      "i: 145\n",
      "i: 146\n",
      "i: 147\n",
      "i: 148\n",
      "i: 149\n",
      "i: 150\n",
      "i: 151\n",
      "i: 152\n",
      "i: 153\n",
      "i: 154\n",
      "i: 155\n",
      "i: 156\n",
      "i: 157\n",
      "i: 158\n",
      "i: 159\n",
      "i: 160\n",
      "i: 161\n",
      "i: 162\n",
      "i: 163\n",
      "i: 164\n",
      "i: 165\n",
      "i: 166\n",
      "i: 167\n",
      "i: 168\n",
      "i: 169\n",
      "i: 170\n",
      "i: 171\n",
      "i: 172\n",
      "i: 173\n",
      "i: 174\n",
      "i: 175\n",
      "i: 176\n",
      "i: 177\n",
      "i: 178\n",
      "i: 179\n",
      "i: 180\n",
      "i: 181\n",
      "i: 182\n",
      "1964\n",
      "1971\n",
      "1975\n",
      "1978\n",
      "1958\n",
      "2002\n",
      "2010\n",
      "i: 183\n",
      "i: 184\n",
      "i: 185\n",
      "i: 186\n",
      "i: 187\n",
      "i: 188\n",
      "i: 189\n",
      "i: 190\n",
      "i: 191\n",
      "i: 192\n",
      "i: 193\n",
      "i: 194\n",
      "i: 195\n",
      "i: 196\n",
      "i: 197\n",
      "i: 198\n",
      "i: 199\n",
      "i: 200\n",
      "i: 201\n",
      "i: 202\n",
      "i: 203\n",
      "i: 204\n",
      "i: 205\n",
      "i: 206\n",
      "i: 207\n",
      "i: 208\n",
      "i: 209\n",
      "i: 210\n",
      "i: 211\n",
      "i: 212\n",
      "i: 213\n",
      "i: 214\n",
      "i: 215\n",
      "i: 216\n",
      "i: 217\n",
      "i: 218\n",
      "i: 219\n",
      "i: 220\n",
      "i: 221\n",
      "i: 222\n",
      "i: 223\n",
      "i: 224\n",
      "i: 225\n",
      "1400\n",
      "i: 226\n",
      "i: 227\n",
      "i: 228\n",
      "i: 229\n",
      "i: 230\n",
      "i: 231\n",
      "i: 232\n",
      "i: 233\n",
      "i: 234\n",
      "i: 235\n",
      "i: 236\n",
      "i: 237\n",
      "i: 238\n",
      "i: 239\n",
      "i: 240\n",
      "i: 241\n",
      "i: 242\n",
      "i: 243\n",
      "i: 244\n",
      "i: 245\n",
      "i: 246\n",
      "i: 247\n",
      "i: 248\n",
      "i: 249\n",
      "i: 250\n",
      "i: 251\n",
      "i: 252\n",
      "i: 253\n",
      "i: 254\n",
      "i: 255\n",
      "i: 256\n",
      "i: 257\n",
      "i: 258\n",
      "i: 259\n"
     ]
    }
   ],
   "source": [
    "for i, record in enumerate(lcquad_train):\n",
    "    # print(i, [item for item in record[\"result\"] if not exclude_func(item)])\n",
    "    print(\"i:\", i)\n",
    "    [item for item in record[\"result\"] if not exclude_func(item)]"
   ]
  },
  {
   "cell_type": "code",
   "execution_count": 39,
   "metadata": {
    "collapsed": false
   },
   "outputs": [],
   "source": [
    "ds_lc_quad_train_wgraph_out1 = \"/home/kardosp/continuethelist/datasets/LC-QuAD/lc_quad_dump_valid_w_graph_cleaned_train.json\"\n",
    "ds_lc_quad_test_wgraph_out1 = \"/home/kardosp/continuethelist/datasets/LC-QuAD/lc_quad_dump_valid_w_graph_cleaned_test.json\""
   ]
  },
  {
   "cell_type": "code",
   "execution_count": 40,
   "metadata": {
    "collapsed": false
   },
   "outputs": [],
   "source": [
    "for record in lcquad_train:\n",
    "    record[\"result_cleaned\"] = [item for item in record[\"result\"] if not exclude_int_func(item)]\n",
    "    record[\"result_cleaned\"] = [item for item in record[\"result_cleaned\"] if not exclude_date_func(item)]\n",
    "\n",
    "for record in lcquad_test:\n",
    "    record[\"result_cleaned\"] = [item for item in record[\"result\"] if not exclude_int_func(item)]\n",
    "    record[\"result_cleaned\"] = [item for item in record[\"result_cleaned\"] if not exclude_date_func(item)]"
   ]
  },
  {
   "cell_type": "code",
   "execution_count": 41,
   "metadata": {
    "collapsed": false
   },
   "outputs": [],
   "source": [
    "for record in lcquad_train:\n",
    "    record[\"result_urlonly\"] = [item for item in record[\"result\"] if not http_only_func(item)]\n",
    "    if len(record[\"result_urlonly\"]) == 0:\n",
    "        print(record)\n",
    "\n",
    "for record in lcquad_test:\n",
    "    record[\"result_urlonly\"] = [item for item in record[\"result\"] if not http_only_func(item)]\n",
    "    if len(record[\"result_urlonly\"]) == 0:\n",
    "        print(record)"
   ]
  },
  {
   "cell_type": "code",
   "execution_count": 42,
   "metadata": {
    "collapsed": false
   },
   "outputs": [],
   "source": [
    "with open(ds_lc_quad_train_wgraph_out1, \"w\") as f:\n",
    "    json.dump(lcquad_train, f)\n",
    "\n",
    "with open(ds_lc_quad_test_wgraph_out1, \"w\") as f:\n",
    "    json.dump(lcquad_test, f)"
   ]
  },
  {
   "cell_type": "code",
   "execution_count": 53,
   "metadata": {
    "collapsed": false
   },
   "outputs": [],
   "source": [
    "MIN_N = 8\n",
    "\n",
    "ds_lc_quad_train_wgraph_out2 = f\"/home/kardosp/continuethelist/datasets/LC-QuAD/lc_quad_dump_valid_w_graph_cleaned_min{MIN_N}_train.json\"\n",
    "ds_lc_quad_test_wgraph_out2 = f\"/home/kardosp/continuethelist/datasets/LC-QuAD/lc_quad_dump_valid_w_graph_cleaned_min{MIN_N}_test.json\"\n",
    "\n",
    "lcquad_train_min_n = [item for item in lcquad_train if len(item[\"result_urlonly\"]) >= MIN_N]\n",
    "lcquad_test_min_n = [item for item in lcquad_test if len(item[\"result_urlonly\"]) >= MIN_N]"
   ]
  },
  {
   "cell_type": "code",
   "execution_count": 54,
   "metadata": {
    "collapsed": false
   },
   "outputs": [
    {
     "name": "stdout",
     "output_type": "stream",
     "text": [
      "260 250\n",
      "61 60\n"
     ]
    }
   ],
   "source": [
    "print(len(lcquad_train), len(lcquad_train_min_n))\n",
    "print(len(lcquad_test), len(lcquad_test_min_n))"
   ]
  },
  {
   "cell_type": "code",
   "execution_count": 55,
   "metadata": {
    "collapsed": false
   },
   "outputs": [],
   "source": [
    "with open(ds_lc_quad_train_wgraph_out2, \"w\") as f:\n",
    "    json.dump(lcquad_train_min_n, f)\n",
    "\n",
    "with open(ds_lc_quad_test_wgraph_out2, \"w\") as f:\n",
    "    json.dump(lcquad_test_min_n, f)"
   ]
  },
  {
   "cell_type": "code",
   "execution_count": 56,
   "metadata": {
    "collapsed": false
   },
   "outputs": [
    {
     "data": {
      "text/plain": [
       "['.git',\n",
       " '.github',\n",
       " 'LICENSE.txt',\n",
       " 'README.md',\n",
       " 'graph_imgs',\n",
       " 'lc_quad_dump_valid_test.json',\n",
       " 'lc_quad_dump_valid_test_fix1.json',\n",
       " 'lc_quad_dump_valid_train.json',\n",
       " 'lc_quad_dump_valid_train_fix1.json',\n",
       " 'lc_quad_dump_valid_w_graph_cleaned_min8_test.json',\n",
       " 'lc_quad_dump_valid_w_graph_cleaned_min8_train.json',\n",
       " 'lc_quad_dump_valid_w_graph_cleaned_test.json',\n",
       " 'lc_quad_dump_valid_w_graph_cleaned_train.json',\n",
       " 'lc_quad_dump_valid_w_graph_test.json',\n",
       " 'lc_quad_dump_valid_w_graph_train.json',\n",
       " 'lc_quad_dump_w_answers_test.json',\n",
       " 'lc_quad_dump_w_answers_train.json',\n",
       " 'resources',\n",
       " 'test-data.json',\n",
       " 'train-data.json']"
      ]
     },
     "execution_count": 56,
     "metadata": {},
     "output_type": "execute_result"
    }
   ],
   "source": [
    "sorted(os.listdir(\"/home/kardosp/continuethelist/datasets/LC-QuAD/\"))"
   ]
  },
  {
   "cell_type": "code",
   "execution_count": 15,
   "metadata": {
    "collapsed": false
   },
   "outputs": [
    {
     "data": {
      "text/plain": [
       "{'_id': '4613',\n",
       " 'corrected_question': 'Where were the sportsmen born, who started their careers with Homestead Grays?',\n",
       " 'intermediary_question': 'What is the <born on> of the <baseball players> whose <debutteam> is <Homestead Grays>?',\n",
       " 'sparql_query': 'SELECT DISTINCT ?uri WHERE { ?x <http://dbpedia.org/property/debutteam> <http://dbpedia.org/resource/Homestead_Grays> . ?x <http://dbpedia.org/property/birthDate> ?uri  . ?x <http://www.w3.org/1999/02/22-rdf-syntax-ns#type> <http://dbpedia.org/ontology/Athlete>}',\n",
       " 'sparql_template_id': 305,\n",
       " 'result': ['1911-12-21',\n",
       "  '1921-07-31',\n",
       "  '1910-03-19',\n",
       "  'http://dbpedia.org/resource/Chattanooga,_Tennessee',\n",
       "  '1907-09-08',\n",
       "  'http://dbpedia.org/resource/Rocky_Mount,_North_Carolina',\n",
       "  '1924-09-26',\n",
       "  'http://dbpedia.org/resource/Pittsburgh',\n",
       "  '1888-06-15',\n",
       "  '1930-08-11',\n",
       "  '1923-04-14',\n",
       "  'http://dbpedia.org/resource/Birmingham,_Alabama',\n",
       "  '1913-01-03',\n",
       "  'http://dbpedia.org/resource/Baldwin_County,_Georgia'],\n",
       " 'graph': [['?x',\n",
       "   '<http://dbpedia.org/property/debutteam>',\n",
       "   '<http://dbpedia.org/resource/Homestead_Grays>'],\n",
       "  ['?x', '<http://dbpedia.org/property/birthDate>', '?uri'],\n",
       "  ['?x',\n",
       "   '<http://www.w3.org/1999/02/22-rdf-syntax-ns#type>',\n",
       "   '<http://dbpedia.org/ontology/Athlete>']]}"
      ]
     },
     "execution_count": 15,
     "metadata": {},
     "output_type": "execute_result"
    }
   ],
   "source": [
    "lcquad_train[33]"
   ]
  },
  {
   "cell_type": "code",
   "execution_count": 19,
   "metadata": {
    "collapsed": false
   },
   "outputs": [
    {
     "data": {
      "text/plain": [
       "{'_id': '2366',\n",
       " 'corrected_question': 'Where can I find companies which originated in Canada?',\n",
       " 'intermediary_question': 'What is the <locations> of the <companies> whose <foundation place> is <Canada>?',\n",
       " 'sparql_query': 'SELECT DISTINCT ?uri WHERE { ?x <http://dbpedia.org/ontology/foundationPlace> <http://dbpedia.org/resource/Canada> . ?x <http://dbpedia.org/property/locations> ?uri  . ?x <http://www.w3.org/1999/02/22-rdf-syntax-ns#type> <http://dbpedia.org/ontology/Company>}',\n",
       " 'sparql_template_id': 305,\n",
       " 'result': ['120',\n",
       "  '1',\n",
       "  '3',\n",
       "  '6',\n",
       "  '8',\n",
       "  '800',\n",
       "  '250',\n",
       "  '1400',\n",
       "  '125',\n",
       "  '55',\n",
       "  '54',\n",
       "  '24',\n",
       "  'http://dbpedia.org/resource/Calgary',\n",
       "  'http://dbpedia.org/resource/Grande_Prairie',\n",
       "  'http://dbpedia.org/resource/Lloydminster',\n",
       "  'http://dbpedia.org/resource/Medicine_Hat',\n",
       "  'http://dbpedia.org/resource/Rocky_Mountain_House',\n",
       "  'http://dbpedia.org/resource/Dawson_Creek',\n",
       "  'http://dbpedia.org/resource/Saskatoon',\n",
       "  'http://dbpedia.org/resource/Strathmore,_Alberta',\n",
       "  'http://dbpedia.org/resource/High_River',\n",
       "  'http://dbpedia.org/resource/Ponoka,_Alberta',\n",
       "  'http://dbpedia.org/resource/Bonnyville',\n",
       "  'over 55',\n",
       "  'Manufacturing plants in: Houston, Texas; Oakville, Ontario, Canada; Kirchhain, Germany and Margate, United Kingdom',\n",
       "  '17',\n",
       "  '156',\n",
       "  '89',\n",
       "  '10',\n",
       "  '5',\n",
       "  '5906',\n",
       "  'http://dbpedia.org/resource/File:Flag_of_Ghana.svg',\n",
       "  'http://dbpedia.org/resource/Ghana',\n",
       "  'http://dbpedia.org/resource/Accra',\n",
       "  'Concord, Ontario border|20pxborder|20px',\n",
       "  'Gatineau, Quebec border|15pxborder|20px',\n",
       "  'Lagos, Nigeria border|15px',\n",
       "  'Russia border|15px',\n",
       "  '74',\n",
       "  '96',\n",
       "  '75'],\n",
       " 'graph': [['?x',\n",
       "   '<http://dbpedia.org/ontology/foundationPlace>',\n",
       "   '<http://dbpedia.org/resource/Canada>'],\n",
       "  ['?x', '<http://dbpedia.org/property/locations>', '?uri'],\n",
       "  ['?x',\n",
       "   '<http://www.w3.org/1999/02/22-rdf-syntax-ns#type>',\n",
       "   '<http://dbpedia.org/ontology/Company>']]}"
      ]
     },
     "execution_count": 19,
     "metadata": {},
     "output_type": "execute_result"
    }
   ],
   "source": [
    "lcquad_train[108]"
   ]
  },
  {
   "cell_type": "code",
   "execution_count": null,
   "metadata": {
    "collapsed": false
   },
   "outputs": [],
   "source": []
  }
 ],
 "metadata": {
  "kernelspec": {
   "display_name": "Python 3",
   "language": "python",
   "name": "python3"
  },
  "language_info": {
   "codemirror_mode": {
    "name": "ipython",
    "version": 2
   },
   "file_extension": ".py",
   "mimetype": "text/x-python",
   "name": "python",
   "nbconvert_exporter": "python",
   "pygments_lexer": "ipython2",
   "version": "2.7.6"
  }
 },
 "nbformat": 4,
 "nbformat_minor": 0
}
