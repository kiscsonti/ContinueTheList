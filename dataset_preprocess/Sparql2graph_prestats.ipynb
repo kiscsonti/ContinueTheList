{
 "cells": [
  {
   "cell_type": "code",
   "execution_count": 1,
   "metadata": {
    "collapsed": false
   },
   "outputs": [],
   "source": [
    "ds_lc_quad = \"/home/kardosp/continuethelist/datasets/LC-QuAD/\"\n",
    "ds_lc_quad_train = \"/home/kardosp/continuethelist/datasets/LC-QuAD/lc_quad_dump_valid_train.json\"\n",
    "ds_lc_quad_test = \"/home/kardosp/continuethelist/datasets/LC-QuAD/lc_quad_dump_valid_test.json\"\n",
    "ds_qald = \"/home/kardosp/continuethelist/datasets/QALD/\"\n",
    "ds_qald_train = \"/home/kardosp/continuethelist/datasets/QALD/qald9_dump_w_answers_train.json\"\n",
    "ds_qald_test = \"/home/kardosp/continuethelist/datasets/QALD/qald9_dump_w_answers_test.json\"\n",
    "\n",
    "\n",
    "seed = 123"
   ]
  },
  {
   "cell_type": "code",
   "execution_count": 2,
   "metadata": {
    "collapsed": false
   },
   "outputs": [],
   "source": [
    "import os\n",
    "import json"
   ]
  },
  {
   "cell_type": "code",
   "execution_count": 3,
   "metadata": {
    "collapsed": false
   },
   "outputs": [],
   "source": [
    "with open(ds_lc_quad_train, \"r\") as f:\n",
    "    lcquad_train = json.load(f)\n",
    "\n",
    "with open(ds_lc_quad_test, \"r\") as f:\n",
    "    lcquad_test = json.load(f)"
   ]
  },
  {
   "cell_type": "code",
   "execution_count": 9,
   "metadata": {
    "collapsed": false
   },
   "outputs": [
    {
     "name": "stdout",
     "output_type": "stream",
     "text": [
      "1.0\n"
     ]
    }
   ],
   "source": [
    "start_ok_counter = 0\n",
    "for t in lcquad_train:\n",
    "    if t[\"sparql_query\"].strip().startswith(\"SELECT DISTINCT ?uri WHERE {\"):\n",
    "        start_ok_counter += 1\n",
    "    else:\n",
    "        print(\"NEXT:\")\n",
    "        print(t[\"corrected_question\"])\n",
    "        print(t[\"sparql_query\"])\n",
    "\n",
    "\n",
    "print(start_ok_counter/len(lcquad_train))"
   ]
  },
  {
   "cell_type": "code",
   "execution_count": 10,
   "metadata": {
    "collapsed": false
   },
   "outputs": [
    {
     "name": "stdout",
     "output_type": "stream",
     "text": [
      "1.0\n"
     ]
    }
   ],
   "source": [
    "start_ok_counter = 0\n",
    "for t in lcquad_train:\n",
    "    if str(t[\"sparql_query\"]).strip().count(\"{\") == 1:\n",
    "        start_ok_counter += 1\n",
    "    else:\n",
    "        print(\"NEXT:\")\n",
    "        print(t[\"corrected_question\"])\n",
    "        print(t[\"sparql_query\"])\n",
    "\n",
    "\n",
    "print(start_ok_counter/len(lcquad_train))"
   ]
  },
  {
   "cell_type": "code",
   "execution_count": null,
   "metadata": {
    "collapsed": false
   },
   "outputs": [],
   "source": []
  },
  {
   "cell_type": "code",
   "execution_count": 5,
   "metadata": {
    "collapsed": false
   },
   "outputs": [
    {
     "data": {
      "text/plain": [
       "{'_id': '1144',\n",
       " 'corrected_question': 'Who authored the works published in the Jump Square Magazine?',\n",
       " 'intermediary_question': 'What is the <author> of the <owls> whose <magazine> is <Jump Square>?',\n",
       " 'sparql_query': 'SELECT DISTINCT ?uri WHERE { ?x <http://dbpedia.org/property/magazine> <http://dbpedia.org/resource/Jump_Square> . ?x <http://dbpedia.org/property/author> ?uri  . }',\n",
       " 'sparql_template_id': 5,\n",
       " 'result': ['http://dbpedia.org/resource/Nobuhiro_Watsuki',\n",
       "  'Kaoru Shizuka',\n",
       "  'http://dbpedia.org/resource/Saki_Hasemi',\n",
       "  'Kazue Kato',\n",
       "  'Tomohiro Matsu',\n",
       "  'http://dbpedia.org/resource/Hiroyuki_Asada',\n",
       "  'http://dbpedia.org/resource/Kōsuke_Masuda',\n",
       "  'http://dbpedia.org/resource/Fuyumi_Ono',\n",
       "  'http://dbpedia.org/resource/Tsugumi_Ohba',\n",
       "  'Makoto Fukami',\n",
       "  'Midori Gotou',\n",
       "  'Hikaru Miyoshi',\n",
       "  'http://dbpedia.org/resource/Kentarō_Katayama',\n",
       "  'Kentarou Katayama',\n",
       "  'NAS,Satoshi Kinoshita',\n",
       "  'http://dbpedia.org/resource/Kaoru_Kurosaki',\n",
       "  'http://dbpedia.org/resource/Clamp_(manga_artists)',\n",
       "  'http://dbpedia.org/resource/Stan_Lee',\n",
       "  'http://dbpedia.org/resource/Hiroyuki_Takei',\n",
       "  'Yoshiaki Sukeno',\n",
       "  'http://dbpedia.org/resource/Takeshi_Konomi',\n",
       "  'http://dbpedia.org/resource/Fumihiko_Shimo',\n",
       "  'http://dbpedia.org/resource/Akihisa_Ikeda',\n",
       "  'http://dbpedia.org/resource/Hiroshi_Sakurazaka',\n",
       "  'Hiroshi Sakurazaka',\n",
       "  'http://dbpedia.org/resource/Jin_Kobayashi',\n",
       "  'Keishū Ando',\n",
       "  'Various authors',\n",
       "  'Misaki Harukawa',\n",
       "  'Yomi Hirasaka',\n",
       "  'http://dbpedia.org/resource/Robinson_Haruhara',\n",
       "  'Robinson Haruhara',\n",
       "  'http://dbpedia.org/resource/Takaya_Kagami',\n",
       "  'http://dbpedia.org/resource/Yamato_Yamamoto',\n",
       "  'Daisuke Furuya',\n",
       "  'http://dbpedia.org/resource/Mari_Okada',\n",
       "  'Mari Okada',\n",
       "  'Masanori Ookamigumi Katakura',\n",
       "  'http://dbpedia.org/resource/Hajime_Kazu']}"
      ]
     },
     "execution_count": 5,
     "metadata": {},
     "output_type": "execute_result"
    }
   ],
   "source": [
    "lcquad_train[5][\"sparql_query\"]"
   ]
  },
  {
   "cell_type": "code",
   "execution_count": null,
   "metadata": {
    "collapsed": true
   },
   "outputs": [],
   "source": []
  }
 ],
 "metadata": {
  "kernelspec": {
   "display_name": "Python 3",
   "language": "python",
   "name": "python3"
  },
  "language_info": {
   "codemirror_mode": {
    "name": "ipython",
    "version": 2
   },
   "file_extension": ".py",
   "mimetype": "text/x-python",
   "name": "python",
   "nbconvert_exporter": "python",
   "pygments_lexer": "ipython2",
   "version": "2.7.6"
  }
 },
 "nbformat": 4,
 "nbformat_minor": 0
}
