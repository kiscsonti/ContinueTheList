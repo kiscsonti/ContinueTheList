{
 "cells": [
  {
   "cell_type": "code",
   "execution_count": 4,
   "metadata": {
    "collapsed": true
   },
   "outputs": [
    {
     "name": "stdout",
     "output_type": "stream",
     "text": [
      "The autoreload extension is already loaded. To reload it, use:\n",
      "  %reload_ext autoreload\n"
     ]
    }
   ],
   "source": [
    "import pandas as pd\n",
    "%load_ext autoreload\n",
    "%autoreload 2"
   ]
  },
  {
   "cell_type": "code",
   "execution_count": 5,
   "metadata": {
    "collapsed": false
   },
   "outputs": [],
   "source": [
    "import os\n",
    "import sys\n",
    "module_path = os.path.abspath(os.path.join('..'))\n",
    "if module_path not in sys.path:\n",
    "    sys.path.append(module_path)"
   ]
  },
  {
   "cell_type": "code",
   "execution_count": 6,
   "metadata": {
    "collapsed": false
   },
   "outputs": [],
   "source": [
    "from loaders.loaders import *\n",
    "from evaluation.split_dataset import split_on_seed_dataset"
   ]
  },
  {
   "cell_type": "code",
   "execution_count": 7,
   "metadata": {
    "collapsed": false
   },
   "outputs": [],
   "source": [
    "lc_quad_train = load_on_path(ds_lc_quad_train_chatgpt)"
   ]
  },
  {
   "cell_type": "markdown",
   "metadata": {
    "collapsed": false
   },
   "source": [
    "# Questions:\n",
    "- What connections can you find between the following terms? Give a detailed answer with all connections!\n",
    "- Continue the list:\n",
    "- Are these terms connected to the XY?"
   ]
  },
  {
   "cell_type": "markdown",
   "metadata": {
    "collapsed": false
   },
   "source": [
    "# 0"
   ]
  },
  {
   "cell_type": "code",
   "execution_count": 17,
   "metadata": {
    "collapsed": false
   },
   "outputs": [
    {
     "name": "stdout",
     "output_type": "stream",
     "text": [
      "3718\n",
      "What are the movies whose director of photography is Jordan Cronenweth?\n",
      "SELECT DISTINCT ?uri WHERE {?uri <http://dbpedia.org/property/cinematography> <http://dbpedia.org/resource/Jordan_Cronenweth>  . ?uri <http://www.w3.org/1999/02/22-rdf-syntax-ns#type> <http://dbpedia.org/ontology/Film>}\n",
      "SEED: ['http://dbpedia.org/resource/Peggy_Sue_Got_Married', 'http://dbpedia.org/resource/Rattle_and_Hum', 'http://dbpedia.org/resource/Brewster_McCloud', 'http://dbpedia.org/resource/Handle_with_Care_(1977_film)']\n"
     ]
    }
   ],
   "source": [
    "i = 0\n",
    "print(lc_quad_train[i][\"_id\"])\n",
    "print(lc_quad_train[i][\"corrected_question\"])\n",
    "print(lc_quad_train[i][\"sparql_query\"])\n",
    "print(\"SEED:\", lc_quad_train[i][\"seed\"])"
   ]
  },
  {
   "cell_type": "code",
   "execution_count": 18,
   "metadata": {
    "collapsed": false
   },
   "outputs": [
    {
     "name": "stdout",
     "output_type": "stream",
     "text": [
      "19\n"
     ]
    }
   ],
   "source": [
    "print(len(lc_quad_train[i][\"result_urlonly\"]))"
   ]
  },
  {
   "cell_type": "code",
   "execution_count": 15,
   "metadata": {
    "collapsed": false
   },
   "outputs": [
    {
     "name": "stdout",
     "output_type": "stream",
     "text": [
      "- Peggy Sue Got Married\n",
      "- Rattle and Hum\n",
      "- Brewster McCloud\n",
      "- Handle with Care (1977 film)\n"
     ]
    }
   ],
   "source": [
    "for item in lc_quad_train[i][\"seed\"]:\n",
    "    print(\"-\", item.replace(\"http://dbpedia.org/resource/\", \"\").replace(\"_\", \" \"))"
   ]
  },
  {
   "cell_type": "markdown",
   "metadata": {
    "collapsed": false
   },
   "source": [
    "## What is the connection?\n",
    "\n",
    "Upon examining the terms provided, the connections between them do not directly relate to a common theme or shared elements in terms of plot or production. However, I'll highlight some indirect associations between these terms:\n",
    "\n",
    "Cinematic Period and Style:\n",
    "\n",
    "\"Peggy Sue Got Married\" (1986) is a time-travel comedy-drama directed by Francis Ford Coppola, focusing on a woman transported back in time to her high school years.\n",
    "\"Rattle and Hum\" (1988) is a documentary film showcasing the band U2 during their \"Joshua Tree\" tour. Though not directly related in content, it shares a similar era in filmmaking.\n",
    "\"Brewster McCloud\" (1970) directed by Robert Altman, is a unique comedy about a young man living in a fallout shelter beneath the Houston Astrodome who dreams of flight.\n",
    "\"Handle with Care\" (1977) directed by Jonathan Demme, also known as \"Citizens Band,\" is a comedy-drama centered around the lives of several citizens who use CB radio.\n",
    "Filmmakers and Cast Connections:\n",
    "\n",
    "Francis Ford Coppola directed \"Peggy Sue Got Married.\"\n",
    "Roman Coppola, Francis Ford Coppola's son, directed parts of the U2 documentary \"Rattle and Hum\".\n",
    "While Robert Altman directed \"Brewster McCloud,\" there isn't a direct connection to the other films mentioned.\n",
    "Francis Ford Coppola had a minor uncredited appearance in \"Brewster McCloud\" and was an executive producer for \"Handle with Care.\"\n",
    "Diverse Genres and Themes:\n",
    "\n",
    "Each film represents a different genre and theme: time travel comedy-drama, music documentary, quirky fantasy comedy, and a comedy-drama involving CB radio culture.\n",
    "There are no direct plot or thematic connections among these films.\n",
    "In essence, the connections between these films are somewhat loose and indirect, primarily involving the involvement of Francis Ford Coppola in a couple of them and the era in which they were produced. Otherwise, they differ significantly in genre, plot, and style.\n",
    "\n",
    "\n",
    "## Continue the list:\n",
    "\n",
    "Certainly! Here are some more films to add to the list:\n",
    "\n",
    "Peggy Sue Got Married\n",
    "Rattle and Hum\n",
    "Brewster McCloud\n",
    "Handle with Care (1977 film)\n",
    "The Last Emperor\n",
    "The Breakfast Club\n",
    "Escape from New York\n",
    "The Philadelphia Story\n",
    "Three Days of the Condor\n",
    "The Life Aquatic with Steve Zissou\n",
    "\n",
    "## 19 elements\n",
    "\n",
    "Certainly! Here are 15 more films to add to the list:\n",
    "\n",
    "Peggy Sue Got Married\n",
    "Rattle and Hum\n",
    "Brewster McCloud\n",
    "Handle with Care (1977 film)\n",
    "The Last Emperor\n",
    "The Breakfast Club\n",
    "Escape from New York\n",
    "The Philadelphia Story\n",
    "Three Days of the Condor\n",
    "The Life Aquatic with Steve Zissou\n",
    "The Grand Budapest Hotel\n",
    "Midnight in Paris\n",
    "Lost in Translation\n",
    "Reservoir Dogs\n",
    "Blade Runner\n"
   ]
  },
  {
   "cell_type": "code",
   "execution_count": 22,
   "metadata": {
    "collapsed": false
   },
   "outputs": [
    {
     "data": {
      "text/plain": [
       "['Altered States',\n",
       " 'Best Friends (1982 film)',\n",
       " 'Birds of Prey (1973 film)',\n",
       " 'Blade Runner',\n",
       " 'Brewster McCloud',\n",
       " \"Cutter's Way\",\n",
       " 'Final Analysis',\n",
       " 'Gable and Lombard',\n",
       " 'Gardens of Stone',\n",
       " 'Handle with Care (1977 film)',\n",
       " 'Peggy Sue Got Married',\n",
       " 'Play It as It Lays (film)',\n",
       " 'Rattle and Hum',\n",
       " 'State of Grace (film)',\n",
       " 'Stop Making Sense',\n",
       " 'The Adventures of Buckaroo Banzai Across the 8th Dimension',\n",
       " 'The Front Page (1974 film)',\n",
       " 'The Touch of Satan',\n",
       " \"Zandy's Bride\"]"
      ]
     },
     "execution_count": 22,
     "metadata": {},
     "output_type": "execute_result"
    }
   ],
   "source": [
    "sorted([item.replace(\"http://dbpedia.org/resource/\", \"\").replace(\"_\", \" \") for item in lc_quad_train[i][\"result_urlonly\"]])"
   ]
  },
  {
   "cell_type": "markdown",
   "metadata": {
    "collapsed": false
   },
   "source": [
    "Continue:\n",
    "Continue N:"
   ]
  },
  {
   "cell_type": "code",
   "execution_count": 23,
   "metadata": {
    "collapsed": false
   },
   "outputs": [],
   "source": [
    "# TP, FP, FN\n",
    "lc_quad_train[i][\"tpn\"] = [4, 6, 16]\n",
    "lc_quad_train[i][\"tpn_n\"] = [5, 10, 15]"
   ]
  },
  {
   "cell_type": "markdown",
   "metadata": {
    "collapsed": false
   },
   "source": [
    "# 1"
   ]
  },
  {
   "cell_type": "code",
   "execution_count": 31,
   "metadata": {
    "collapsed": false
   },
   "outputs": [
    {
     "name": "stdout",
     "output_type": "stream",
     "text": [
      "3994\n",
      "List the home town of the bands whose label is Alive Naturalsound Records ?\n",
      "SELECT DISTINCT ?uri WHERE { ?x <http://dbpedia.org/property/label> <http://dbpedia.org/resource/Alive_Naturalsound_Records> . ?x <http://dbpedia.org/ontology/hometown> ?uri  . ?x <http://www.w3.org/1999/02/22-rdf-syntax-ns#type> <http://dbpedia.org/ontology/Band>}\n",
      "SEED: ['http://dbpedia.org/resource/Okinawa_Prefecture', 'http://dbpedia.org/resource/United_States', 'http://dbpedia.org/resource/California', 'http://dbpedia.org/resource/San_Francisco']\n",
      "13\n"
     ]
    }
   ],
   "source": [
    "i = 1\n",
    "print(lc_quad_train[i][\"_id\"])\n",
    "print(lc_quad_train[i][\"corrected_question\"])\n",
    "print(lc_quad_train[i][\"sparql_query\"])\n",
    "print(\"SEED:\", lc_quad_train[i][\"seed\"])\n",
    "print(len(lc_quad_train[i][\"result_urlonly\"]))"
   ]
  },
  {
   "cell_type": "code",
   "execution_count": 32,
   "metadata": {
    "collapsed": false
   },
   "outputs": [
    {
     "name": "stdout",
     "output_type": "stream",
     "text": [
      "- Okinawa Prefecture\n",
      "- United States\n",
      "- California\n",
      "- San Francisco\n"
     ]
    }
   ],
   "source": [
    "for item in lc_quad_train[i][\"seed\"]:\n",
    "    print(\"-\", item.replace(\"http://dbpedia.org/resource/\", \"\").replace(\"_\", \" \"))"
   ]
  },
  {
   "cell_type": "markdown",
   "metadata": {
    "collapsed": false
   },
   "source": [
    "Is there a connection to Alive Naturalsound Records?\n",
    "\n",
    "\n",
    "\n",
    "Golden Gate Bridge\n",
    "Fisherman's Wharf\n",
    "Alcatraz Island\n",
    "Chinatown\n",
    "Cable Cars\n",
    "Lombard Street\n",
    "Palace of Fine Arts\n",
    "Coit Tower\n",
    "Union Square\n",
    "Pier 39\n",
    "Exploratorium\n",
    "Golden Gate Park\n",
    "The Painted Ladies (Victorian houses)\n",
    "Presidio of San Francisco\n",
    "Twin Peaks\n",
    "Mission District\n",
    "Castro District\n",
    "\n",
    "N:\n",
    "\n",
    "Silicon Valley\n",
    "Muir Woods National Monument\n",
    "Sausalito\n",
    "San Jose\n",
    "Oakland\n",
    "Berkeley\n",
    "Stanford University\n",
    "Napa Valley\n",
    "Sonoma County\n",
    "Monterey Bay\n",
    "Big Sur\n",
    "Yosemite National Park\n",
    "Lake Tahoe"
   ]
  },
  {
   "cell_type": "code",
   "execution_count": 33,
   "metadata": {
    "collapsed": false
   },
   "outputs": [
    {
     "data": {
      "text/plain": [
       "['Akron, Ohio',\n",
       " 'Buffalo, New York',\n",
       " 'California',\n",
       " 'Cincinnati',\n",
       " 'Fort Wayne, Indiana',\n",
       " 'Japan',\n",
       " 'Maumee, Ohio',\n",
       " 'Nashville, Tennessee',\n",
       " 'Nebraska',\n",
       " 'Okinawa Prefecture',\n",
       " 'San Francisco',\n",
       " 'Story City, Iowa',\n",
       " 'United States']"
      ]
     },
     "execution_count": 33,
     "metadata": {},
     "output_type": "execute_result"
    }
   ],
   "source": [
    "sorted([item.replace(\"http://dbpedia.org/resource/\", \"\").replace(\"_\", \" \") for item in lc_quad_train[i][\"result_urlonly\"]])"
   ]
  },
  {
   "cell_type": "code",
   "execution_count": 34,
   "metadata": {
    "collapsed": false
   },
   "outputs": [],
   "source": [
    "# TP, FP, FN\n",
    "lc_quad_train[i][\"tpn\"] = [4, 17, 9]\n",
    "lc_quad_train[i][\"tpn_n\"] = [4, 13, 9]"
   ]
  },
  {
   "cell_type": "markdown",
   "metadata": {
    "collapsed": false
   },
   "source": [
    "# 2"
   ]
  },
  {
   "cell_type": "code",
   "execution_count": 35,
   "metadata": {
    "collapsed": false
   },
   "outputs": [
    {
     "name": "stdout",
     "output_type": "stream",
     "text": [
      "4734\n",
      "Who are some basketball players who played for Phoenix Suns?\n",
      "SELECT DISTINCT ?uri WHERE {?uri <http://dbpedia.org/ontology/team> <http://dbpedia.org/resource/Phoenix_Suns>  . ?uri <http://www.w3.org/1999/02/22-rdf-syntax-ns#type> <http://dbpedia.org/ontology/BasketballPlayer>}\n",
      "SEED: ['http://dbpedia.org/resource/T._J._Warren', 'http://dbpedia.org/resource/Corey_Gaines', 'http://dbpedia.org/resource/Mirza_Teletović', 'http://dbpedia.org/resource/Archie_Goodwin_(basketball)']\n",
      "17\n"
     ]
    }
   ],
   "source": [
    "i = 2\n",
    "print(lc_quad_train[i][\"_id\"])\n",
    "print(lc_quad_train[i][\"corrected_question\"])\n",
    "print(lc_quad_train[i][\"sparql_query\"])\n",
    "print(\"SEED:\", lc_quad_train[i][\"seed\"])\n",
    "print(len(lc_quad_train[i][\"result_urlonly\"]))"
   ]
  },
  {
   "cell_type": "code",
   "execution_count": 36,
   "metadata": {
    "collapsed": false
   },
   "outputs": [
    {
     "name": "stdout",
     "output_type": "stream",
     "text": [
      "- T. J. Warren\n",
      "- Corey Gaines\n",
      "- Mirza Teletović\n",
      "- Archie Goodwin (basketball)\n"
     ]
    }
   ],
   "source": [
    "for item in lc_quad_train[i][\"seed\"]:\n",
    "    print(\"-\", item.replace(\"http://dbpedia.org/resource/\", \"\").replace(\"_\", \" \"))"
   ]
  },
  {
   "cell_type": "markdown",
   "metadata": {
    "collapsed": false
   },
   "source": [
    "Jared Dudley\n",
    "Tyson Chandler\n",
    "Alex Len\n",
    "Devin Booker\n",
    "Ronnie Price\n",
    "\n",
    "N:\n",
    "Brandon Knight\n",
    "Tyson Chandler\n",
    "Alex Len\n",
    "Jon Leuer\n",
    "Ronnie Price\n",
    "P.J. Tucker\n",
    "Devin Booker\n",
    "Alan Williams\n",
    "Derrick Jones Jr.\n",
    "John Jenkins\n",
    "Tyler Ulis\n",
    "Marquese Chriss\n",
    "Jared Dudley\n",
    "Dragan Bender\n",
    "Leandro Barbosa\n",
    "Eric Bledsoe"
   ]
  },
  {
   "cell_type": "code",
   "execution_count": 38,
   "metadata": {
    "collapsed": false
   },
   "outputs": [
    {
     "data": {
      "text/plain": [
       "['Alex Len',\n",
       " 'Archie Goodwin (basketball)',\n",
       " 'Brandon Knight (basketball)',\n",
       " 'Corey Gaines',\n",
       " 'Devin Booker',\n",
       " 'Earl Watson',\n",
       " 'Eric Bledsoe',\n",
       " 'John Jenkins (basketball)',\n",
       " 'Jon Leuer',\n",
       " 'Mark West (basketball)',\n",
       " 'Mirza Teletović',\n",
       " 'P. J. Tucker',\n",
       " 'Phil Pressey',\n",
       " 'Ronnie Price',\n",
       " 'Sonny Weems',\n",
       " 'T. J. Warren',\n",
       " 'Tyson Chandler']"
      ]
     },
     "execution_count": 38,
     "metadata": {},
     "output_type": "execute_result"
    }
   ],
   "source": [
    "sorted([item.replace(\"http://dbpedia.org/resource/\", \"\").replace(\"_\", \" \") for item in lc_quad_train[i][\"result_urlonly\"]])"
   ]
  },
  {
   "cell_type": "code",
   "execution_count": 39,
   "metadata": {
    "collapsed": false
   },
   "outputs": [],
   "source": [
    "# TP, FP, FN\n",
    "lc_quad_train[i][\"tpn\"] = [8, 1, 9]\n",
    "lc_quad_train[i][\"tpn_n\"] = [12, 5, 5]"
   ]
  },
  {
   "cell_type": "markdown",
   "metadata": {
    "collapsed": false
   },
   "source": [
    "# 3"
   ]
  },
  {
   "cell_type": "code",
   "execution_count": 40,
   "metadata": {
    "collapsed": false
   },
   "outputs": [
    {
     "name": "stdout",
     "output_type": "stream",
     "text": [
      "3878\n",
      "Which soccer players are currently playing for NYC FC?\n",
      "SELECT DISTINCT ?uri WHERE {?uri <http://dbpedia.org/property/currentclub> <http://dbpedia.org/resource/New_York_City_FC>  . ?uri <http://www.w3.org/1999/02/22-rdf-syntax-ns#type> <http://dbpedia.org/ontology/SoccerPlayer>}\n",
      "SEED: ['http://dbpedia.org/resource/Josh_Saunders', 'http://dbpedia.org/resource/Connor_Brandt', 'http://dbpedia.org/resource/R._J._Allen', 'http://dbpedia.org/resource/Jason_Hernandez']\n",
      "27\n"
     ]
    }
   ],
   "source": [
    "i = 3\n",
    "print(lc_quad_train[i][\"_id\"])\n",
    "print(lc_quad_train[i][\"corrected_question\"])\n",
    "print(lc_quad_train[i][\"sparql_query\"])\n",
    "print(\"SEED:\", lc_quad_train[i][\"seed\"])\n",
    "print(len(lc_quad_train[i][\"result_urlonly\"]))"
   ]
  },
  {
   "cell_type": "code",
   "execution_count": 41,
   "metadata": {
    "collapsed": false
   },
   "outputs": [
    {
     "name": "stdout",
     "output_type": "stream",
     "text": [
      "- Josh Saunders\n",
      "- Connor Brandt\n",
      "- R. J. Allen\n",
      "- Jason Hernandez\n"
     ]
    }
   ],
   "source": [
    "for item in lc_quad_train[i][\"seed\"]:\n",
    "    print(\"-\", item.replace(\"http://dbpedia.org/resource/\", \"\").replace(\"_\", \" \"))"
   ]
  },
  {
   "cell_type": "markdown",
   "metadata": {
    "collapsed": false
   },
   "source": [
    "Mehdi Ballouchy\n",
    "Thomas McNamara\n",
    "Federico Bravo\n",
    "Khiry Shelton\n",
    "\n",
    "N:\n",
    "\n",
    "Khiry Shelton\n",
    "Federico Bravo\n",
    "Frank Lampard\n",
    "Andrea Pirlo\n",
    "Thomas McNamara\n",
    "Mix Diskerud\n",
    "Jack Harrison\n",
    "Tony Taylor\n",
    "Andoni Iraola\n",
    "Ethan White\n",
    "Jefferson Mena\n",
    "Steven Mendoza\n",
    "Ronald Matarrita\n",
    "Frederic Brillant\n",
    "Patrick Vieira\n",
    "David Villa\n",
    "Shannon Gomez\n",
    "Mikey Lopez\n",
    "Pablo Alvarez\n",
    "Mehdi Ballouchy\n",
    "Eirik Johansen\n",
    "Kwadwo Poku"
   ]
  },
  {
   "cell_type": "code",
   "execution_count": 43,
   "metadata": {
    "collapsed": false
   },
   "outputs": [
    {
     "data": {
      "text/plain": [
       "['Andoni Iraola',\n",
       " 'Andre Rawls',\n",
       " 'Andrea Pirlo',\n",
       " 'Andrew Jacobson',\n",
       " 'Connor Brandt',\n",
       " 'David Villa',\n",
       " 'Diego Martínez (Argentinian footballer)',\n",
       " 'Eirik Johansen',\n",
       " 'Ethan White',\n",
       " 'Federico Bravo',\n",
       " 'Frank Lampard',\n",
       " 'Frédéric Brillant',\n",
       " 'Jack Harrison (footballer, born 1996)',\n",
       " 'Jason Hernandez',\n",
       " 'Jefferson Mena',\n",
       " 'Josh Saunders',\n",
       " 'Khiry Shelton',\n",
       " 'Kwadwo Poku (footballer, born 1992)',\n",
       " 'Mehdi Ballouchy',\n",
       " 'Mikey Lopez',\n",
       " 'Mix Diskerud',\n",
       " 'Patrick Mullins',\n",
       " 'Patrick Vieira',\n",
       " 'R. J. Allen',\n",
       " 'Rónald Matarrita',\n",
       " 'Thomas McNamara (soccer)',\n",
       " 'Tony Taylor (soccer)']"
      ]
     },
     "execution_count": 43,
     "metadata": {},
     "output_type": "execute_result"
    }
   ],
   "source": [
    "sorted([item.replace(\"http://dbpedia.org/resource/\", \"\").replace(\"_\", \" \") for item in lc_quad_train[i][\"result_urlonly\"]])"
   ]
  },
  {
   "cell_type": "code",
   "execution_count": 44,
   "metadata": {
    "collapsed": false
   },
   "outputs": [],
   "source": [
    "# TP, FP, FN\n",
    "lc_quad_train[i][\"tpn\"] = [8, 0, 19]\n",
    "lc_quad_train[i][\"tpn_n\"] = [22, 4, 5]"
   ]
  },
  {
   "cell_type": "markdown",
   "metadata": {
    "collapsed": false
   },
   "source": [
    "# 5"
   ]
  },
  {
   "cell_type": "code",
   "execution_count": 48,
   "metadata": {
    "collapsed": false
   },
   "outputs": [
    {
     "name": "stdout",
     "output_type": "stream",
     "text": [
      "803\n",
      "Name the serving line of Daund Junction railway station?\n",
      " SELECT DISTINCT ?uri WHERE { <http://dbpedia.org/resource/Daund_Junction_railway_station> <http://dbpedia.org/ontology/servingRailwayLine> ?uri } \n",
      "SEED: ['http://dbpedia.org/resource/Baramati', 'http://dbpedia.org/resource/Chennai', 'http://dbpedia.org/resource/Mumbai', 'http://dbpedia.org/resource/New_Delhi']\n",
      "13\n"
     ]
    }
   ],
   "source": [
    "i = 5\n",
    "print(lc_quad_train[i][\"_id\"])\n",
    "print(lc_quad_train[i][\"corrected_question\"])\n",
    "print(lc_quad_train[i][\"sparql_query\"])\n",
    "print(\"SEED:\", lc_quad_train[i][\"seed\"])\n",
    "print(len(lc_quad_train[i][\"result_urlonly\"]))"
   ]
  },
  {
   "cell_type": "code",
   "execution_count": 49,
   "metadata": {
    "collapsed": false
   },
   "outputs": [
    {
     "name": "stdout",
     "output_type": "stream",
     "text": [
      "- Baramati\n",
      "- Chennai\n",
      "- Mumbai\n",
      "- New Delhi\n"
     ]
    }
   ],
   "source": [
    "for item in lc_quad_train[i][\"seed\"]:\n",
    "    print(\"-\", item.replace(\"http://dbpedia.org/resource/\", \"\").replace(\"_\", \" \"))"
   ]
  },
  {
   "cell_type": "markdown",
   "metadata": {
    "collapsed": false
   },
   "source": [
    "Bengaluru\n",
    "Hyderabad\n",
    "Kolkata\n",
    "Pune\n",
    "Ahmedabad\n",
    "\n",
    "N:\n",
    "Baramati\n",
    "Chennai\n",
    "Mumbai\n",
    "New Delhi\n",
    "Kolkata\n",
    "Hyderabad\n",
    "Bengaluru\n",
    "Ahmedabad\n",
    "Pune"
   ]
  },
  {
   "cell_type": "code",
   "execution_count": 50,
   "metadata": {
    "collapsed": false
   },
   "outputs": [
    {
     "data": {
      "text/plain": [
       "['Bangalore',\n",
       " 'Baramati',\n",
       " 'Bhusawal–Kalyan section',\n",
       " 'Chennai',\n",
       " 'Hyderabad',\n",
       " 'Kolkata',\n",
       " 'Manmad',\n",
       " 'Miraj',\n",
       " 'Mumbai',\n",
       " 'Mumbai Dadar–Solapur section',\n",
       " 'Mumbai–Chennai line',\n",
       " 'New Delhi',\n",
       " 'Pune']"
      ]
     },
     "execution_count": 50,
     "metadata": {},
     "output_type": "execute_result"
    }
   ],
   "source": [
    "sorted([item.replace(\"http://dbpedia.org/resource/\", \"\").replace(\"_\", \" \") for item in lc_quad_train[i][\"result_urlonly\"]])"
   ]
  },
  {
   "cell_type": "code",
   "execution_count": 51,
   "metadata": {
    "collapsed": false
   },
   "outputs": [],
   "source": [
    "# TP, FP, FN\n",
    "lc_quad_train[i][\"tpn\"] = [8, 1, 5]\n",
    "lc_quad_train[i][\"tpn_n\"] = [8, 1, 5]"
   ]
  },
  {
   "cell_type": "markdown",
   "metadata": {
    "collapsed": false
   },
   "source": [
    "# 6"
   ]
  },
  {
   "cell_type": "code",
   "execution_count": 55,
   "metadata": {
    "collapsed": false
   },
   "outputs": [
    {
     "name": "stdout",
     "output_type": "stream",
     "text": [
      "3071\n",
      "Which movies have someone on their cast from Shelby County in Tennessee?\n",
      "SELECT DISTINCT ?uri WHERE { ?x <http://dbpedia.org/ontology/hometown> <http://dbpedia.org/resource/Shelby_County,_Tennessee> . ?uri <http://dbpedia.org/property/starring> ?x  . ?uri <http://www.w3.org/1999/02/22-rdf-syntax-ns#type> <http://dbpedia.org/ontology/Film>}\n",
      "SEED: ['http://dbpedia.org/resource/Frontera_Sur_(1993_film)', 'http://dbpedia.org/resource/Escape_from_New_York', 'http://dbpedia.org/resource/Truck_Turner', 'http://dbpedia.org/resource/Magic_Island_(film)']\n",
      "13\n"
     ]
    }
   ],
   "source": [
    "i = 6\n",
    "print(lc_quad_train[i][\"_id\"])\n",
    "print(lc_quad_train[i][\"corrected_question\"])\n",
    "print(lc_quad_train[i][\"sparql_query\"])\n",
    "print(\"SEED:\", lc_quad_train[i][\"seed\"])\n",
    "print(len(lc_quad_train[i][\"result_urlonly\"]))"
   ]
  },
  {
   "cell_type": "code",
   "execution_count": 56,
   "metadata": {
    "collapsed": false
   },
   "outputs": [
    {
     "name": "stdout",
     "output_type": "stream",
     "text": [
      "- Frontera Sur (1993 film)\n",
      "- Escape from New York\n",
      "- Truck Turner\n",
      "- Magic Island (film)\n"
     ]
    }
   ],
   "source": [
    "for item in lc_quad_train[i][\"seed\"]:\n",
    "    print(\"-\", item.replace(\"http://dbpedia.org/resource/\", \"\").replace(\"_\", \" \"))"
   ]
  },
  {
   "cell_type": "markdown",
   "metadata": {
    "collapsed": false
   },
   "source": [
    "Short Circuit\n",
    "Big Trouble in Little China\n",
    "The Fly\n",
    "Stand by Me\n",
    "Ferris Bueller's Day Off\n",
    "Aliens\n",
    "The Color of Money\n",
    "Platoon\n",
    "The Untouchables\n",
    "Lethal Weapon\n",
    "\n",
    "N:\n",
    "Highlander (1986 film)\n",
    "The Princess Bride\n",
    "Big Trouble in Little China\n",
    "The Running Man (1987 film)\n",
    "The Goonies"
   ]
  },
  {
   "cell_type": "code",
   "execution_count": 57,
   "metadata": {
    "collapsed": false
   },
   "outputs": [
    {
     "data": {
      "text/plain": [
       "['Anonymous Rex (film)',\n",
       " 'Escape from New York',\n",
       " 'Escuadrón',\n",
       " 'Frontera Sur (1993 film)',\n",
       " \"I'm Gonna Git You Sucka\",\n",
       " 'It Seemed Like a Good Idea at the Time',\n",
       " 'Kill Switch (film)',\n",
       " 'Magic Island (film)',\n",
       " 'Return to Sleepaway Camp',\n",
       " 'Soul Men',\n",
       " 'South Park: Bigger, Longer & Uncut',\n",
       " 'Truck Turner',\n",
       " 'Wattstax']"
      ]
     },
     "execution_count": 57,
     "metadata": {},
     "output_type": "execute_result"
    }
   ],
   "source": [
    "sorted([item.replace(\"http://dbpedia.org/resource/\", \"\").replace(\"_\", \" \") for item in lc_quad_train[i][\"result_urlonly\"]])"
   ]
  },
  {
   "cell_type": "code",
   "execution_count": 58,
   "metadata": {
    "collapsed": false
   },
   "outputs": [],
   "source": [
    "# TP, FP, FN\n",
    "lc_quad_train[i][\"tpn\"] = [4, 10, 9]\n",
    "lc_quad_train[i][\"tpn_n\"] = [4, 5, 9]"
   ]
  },
  {
   "cell_type": "markdown",
   "metadata": {
    "collapsed": false
   },
   "source": [
    "# 7"
   ]
  },
  {
   "cell_type": "code",
   "execution_count": 60,
   "metadata": {
    "collapsed": false
   },
   "outputs": [
    {
     "name": "stdout",
     "output_type": "stream",
     "text": [
      "1080\n",
      "What awards have been given to the anyone who raced in the Lawrence Realization Stakes?\n",
      "SELECT DISTINCT ?uri WHERE { ?x <http://dbpedia.org/property/race> <http://dbpedia.org/resource/Lawrence_Realization_Stakes> . ?x <http://dbpedia.org/ontology/honours> ?uri  . }\n",
      "SEED: ['http://dbpedia.org/resource/Kentucky', 'http://dbpedia.org/resource/Keeneland', 'http://dbpedia.org/resource/National_Museum_of_Racing_and_Hall_of_Fame', \"http://dbpedia.org/resource/Bed_O'_Roses_Handicap\"]\n",
      "28\n"
     ]
    }
   ],
   "source": [
    "i = 7\n",
    "print(lc_quad_train[i][\"_id\"])\n",
    "print(lc_quad_train[i][\"corrected_question\"])\n",
    "print(lc_quad_train[i][\"sparql_query\"])\n",
    "print(\"SEED:\", lc_quad_train[i][\"seed\"])\n",
    "print(len(lc_quad_train[i][\"result_urlonly\"]))"
   ]
  },
  {
   "cell_type": "code",
   "execution_count": 61,
   "metadata": {
    "collapsed": false
   },
   "outputs": [
    {
     "name": "stdout",
     "output_type": "stream",
     "text": [
      "- Kentucky\n",
      "- Keeneland\n",
      "- National Museum of Racing and Hall of Fame\n",
      "- Bed O' Roses Handicap\n"
     ]
    }
   ],
   "source": [
    "for item in lc_quad_train[i][\"seed\"]:\n",
    "    print(\"-\", item.replace(\"http://dbpedia.org/resource/\", \"\").replace(\"_\", \" \"))"
   ]
  },
  {
   "cell_type": "markdown",
   "metadata": {
    "collapsed": false
   },
   "source": [
    "Churchill Downs\n",
    "Preakness Stakes\n",
    "Belmont Park\n",
    "Breeders' Cup\n",
    "Secretariat\n",
    "Seabiscuit\n",
    "Man o' War\n",
    "American Pharoah\n",
    "Saratoga Race Course\n",
    "Dubai World Cup\n",
    "Epsom Derby\n",
    "Grand National\n",
    "Melbourne Cup\n",
    "Triple Crown\n",
    "Kentucky Derby\n",
    "Travers Stakes\n",
    "Santa Anita Park\n",
    "The Jockey Club\n",
    "Eclipse Awards\n",
    "Horse racing handicapping\n",
    "\n",
    "N:\n",
    "Secretariat\n",
    "Belmont Stakes\n",
    "Saratoga Race Course\n",
    "Preakness Stakes\n",
    "Churchill Downs\n",
    "Man o' War\n",
    "Breeders' Cup\n",
    "American Pharoah\n",
    "Seattle Slew\n",
    "Smarty Jones\n",
    "Triple Crown\n",
    "Travers Stakes\n",
    "Rachel Alexandra\n",
    "Zenyatta\n",
    "War Admiral\n",
    "Affirmed\n",
    "Seabiscuit\n",
    "Citation\n",
    "Barbaro\n",
    "Ruffian\n",
    "Affectionately\n",
    "Curlin\n",
    "Monmouth Park\n",
    "American horse racing tradition"
   ]
  },
  {
   "cell_type": "code",
   "execution_count": 62,
   "metadata": {
    "collapsed": false
   },
   "outputs": [
    {
     "data": {
      "text/plain": [
       "['Aqueduct Racetrack',\n",
       " 'BC Sports Hall of Fame',\n",
       " \"Bed O' Roses Handicap\",\n",
       " 'Belmont Park',\n",
       " 'Blood-Horse magazine List of the Top 100 U.S. Racehorses of the 20th Century',\n",
       " 'Bowie, Maryland',\n",
       " \"Canada's Sports Hall of Fame\",\n",
       " 'Canadian Horse Racing Hall of Fame',\n",
       " 'Cardston',\n",
       " 'Fair Grounds Racing Hall of Fame',\n",
       " 'Florence, Kentucky',\n",
       " 'Gallant Fox Handicap',\n",
       " 'Garden State Park Racetrack',\n",
       " 'George Woolf Memorial Jockey Award',\n",
       " 'Hawthorne Race Course',\n",
       " 'Keeneland',\n",
       " 'Kentucky',\n",
       " 'Lexington, Kentucky',\n",
       " 'Mac Diarmida Handicap',\n",
       " \"Man o' War Boulevard\",\n",
       " \"Man o' War Stakes\",\n",
       " 'Mineshaft Handicap',\n",
       " 'National Museum of Racing and Hall of Fame',\n",
       " 'Preston M. Burch Handicap',\n",
       " 'Riddlewood, Pennsylvania',\n",
       " 'Salvator Mile Handicap',\n",
       " 'Statue',\n",
       " 'Whirlaway Stakes']"
      ]
     },
     "execution_count": 62,
     "metadata": {},
     "output_type": "execute_result"
    }
   ],
   "source": [
    "sorted([item.replace(\"http://dbpedia.org/resource/\", \"\").replace(\"_\", \" \") for item in lc_quad_train[i][\"result_urlonly\"]])"
   ]
  },
  {
   "cell_type": "code",
   "execution_count": 63,
   "metadata": {
    "collapsed": false
   },
   "outputs": [],
   "source": [
    "# TP, FP, FN\n",
    "lc_quad_train[i][\"tpn\"] = [5, 19, 23]\n",
    "lc_quad_train[i][\"tpn_n\"] = [6, 22, 22]"
   ]
  },
  {
   "cell_type": "markdown",
   "metadata": {
    "collapsed": false
   },
   "source": [
    "# 8"
   ]
  },
  {
   "cell_type": "code",
   "execution_count": 64,
   "metadata": {
    "collapsed": false
   },
   "outputs": [
    {
     "name": "stdout",
     "output_type": "stream",
     "text": [
      "1552\n",
      "Who has rented the stadiums owned by Toronto?\n",
      "SELECT DISTINCT ?uri WHERE { ?x <http://dbpedia.org/property/owner> <http://dbpedia.org/resource/Toronto> . ?x <http://dbpedia.org/property/tenants> ?uri  . ?x <http://www.w3.org/1999/02/22-rdf-syntax-ns#type> <http://dbpedia.org/ontology/Stadium>}\n",
      "SEED: ['http://dbpedia.org/resource/Serbian_White_Eagles_FC', 'http://dbpedia.org/resource/Toronto_Raptors', 'http://dbpedia.org/resource/Toronto_Maple_Leafs', 'http://dbpedia.org/resource/Hockey_Hall_of_Fame']\n",
      "14\n"
     ]
    }
   ],
   "source": [
    "i = 8\n",
    "print(lc_quad_train[i][\"_id\"])\n",
    "print(lc_quad_train[i][\"corrected_question\"])\n",
    "print(lc_quad_train[i][\"sparql_query\"])\n",
    "print(\"SEED:\", lc_quad_train[i][\"seed\"])\n",
    "print(len(lc_quad_train[i][\"result_urlonly\"]))\n"
   ]
  },
  {
   "cell_type": "code",
   "execution_count": 65,
   "metadata": {
    "collapsed": false
   },
   "outputs": [
    {
     "name": "stdout",
     "output_type": "stream",
     "text": [
      "- Serbian White Eagles FC\n",
      "- Toronto Raptors\n",
      "- Toronto Maple Leafs\n",
      "- Hockey Hall of Fame\n"
     ]
    }
   ],
   "source": [
    "for item in lc_quad_train[i][\"seed\"]:\n",
    "    print(\"-\", item.replace(\"http://dbpedia.org/resource/\", \"\").replace(\"_\", \" \"))"
   ]
  },
  {
   "cell_type": "markdown",
   "metadata": {
    "collapsed": false
   },
   "source": [
    "CN Tower\n",
    "Royal Ontario Museum\n",
    "Niagara Falls\n",
    "Eaton Centre\n",
    "Casa Loma\n",
    "Canada's Wonderland\n",
    "Ontario Science Centre\n",
    "St. Lawrence Market\n",
    "Ripley's Aquarium of Canada\n",
    "\n",
    "N:\n",
    "Niagara Falls\n",
    "CN Tower\n",
    "Royal Ontario Museum\n",
    "Toronto Zoo\n",
    "Casa Loma\n",
    "Ripley's Aquarium of Canada\n",
    "Art Gallery of Ontario\n",
    "St. Lawrence Market\n",
    "Ontario Science Centre\n",
    "Canada's Wonderland"
   ]
  },
  {
   "cell_type": "code",
   "execution_count": 67,
   "metadata": {
    "collapsed": false
   },
   "outputs": [
    {
     "data": {
      "text/plain": [
       "['Canada Basketball',\n",
       " 'Canada national rugby league team',\n",
       " 'Hockey Canada',\n",
       " 'Hockey Hall of Fame',\n",
       " 'SC Toronto',\n",
       " 'Serbian White Eagles FC',\n",
       " 'Toronto Furies',\n",
       " 'Toronto Lady Lynx',\n",
       " 'Toronto Lynx',\n",
       " 'Toronto Maple Leafs',\n",
       " 'Toronto Marlies',\n",
       " 'Toronto Raptors',\n",
       " 'http://etobicokedolphins.ca/',\n",
       " 'http://www.nhlalumni.org']"
      ]
     },
     "execution_count": 67,
     "metadata": {},
     "output_type": "execute_result"
    }
   ],
   "source": [
    "sorted([item.replace(\"http://dbpedia.org/resource/\", \"\").replace(\"_\", \" \") for item in lc_quad_train[i][\"result_urlonly\"]])"
   ]
  },
  {
   "cell_type": "code",
   "execution_count": 68,
   "metadata": {
    "collapsed": false
   },
   "outputs": [],
   "source": [
    "# TP, FP, FN\n",
    "lc_quad_train[i][\"tpn\"] = [4, 9, 10]\n",
    "lc_quad_train[i][\"tpn_n\"] = [4, 10, 10]"
   ]
  },
  {
   "cell_type": "markdown",
   "metadata": {
    "collapsed": false
   },
   "source": [
    "# 9"
   ]
  },
  {
   "cell_type": "code",
   "execution_count": 69,
   "metadata": {
    "collapsed": false
   },
   "outputs": [
    {
     "name": "stdout",
     "output_type": "stream",
     "text": [
      "1101\n",
      "What games are played at institutions affiliated with the international association of universities?\n",
      "SELECT DISTINCT ?uri WHERE { ?x <http://dbpedia.org/property/affiliations> <http://dbpedia.org/resource/International_Association_of_Universities> . ?x <http://dbpedia.org/ontology/sport> ?uri  . ?x <http://www.w3.org/1999/02/22-rdf-syntax-ns#type> <http://dbpedia.org/ontology/EducationalInstitution>}\n",
      "SEED: ['http://dbpedia.org/resource/Brandon_Bobcats', 'http://dbpedia.org/resource/Canadian_Interuniversity_Sport', 'http://dbpedia.org/resource/Canadian_Collegiate_Athletic_Association', 'http://dbpedia.org/resource/Saskatchewan_Huskies']\n",
      "15\n"
     ]
    }
   ],
   "source": [
    "i = 9\n",
    "print(lc_quad_train[i][\"_id\"])\n",
    "print(lc_quad_train[i][\"corrected_question\"])\n",
    "print(lc_quad_train[i][\"sparql_query\"])\n",
    "print(\"SEED:\", lc_quad_train[i][\"seed\"])\n",
    "print(len(lc_quad_train[i][\"result_urlonly\"]))"
   ]
  },
  {
   "cell_type": "code",
   "execution_count": 70,
   "metadata": {
    "collapsed": false
   },
   "outputs": [
    {
     "name": "stdout",
     "output_type": "stream",
     "text": [
      "- Brandon Bobcats\n",
      "- Canadian Interuniversity Sport\n",
      "- Canadian Collegiate Athletic Association\n",
      "- Saskatchewan Huskies\n"
     ]
    }
   ],
   "source": [
    "for item in lc_quad_train[i][\"seed\"]:\n",
    "    print(\"-\", item.replace(\"http://dbpedia.org/resource/\", \"\").replace(\"_\", \" \"))"
   ]
  },
  {
   "cell_type": "markdown",
   "metadata": {
    "collapsed": false
   },
   "source": [
    "University of Saskatchewan\n",
    "U Sports (formerly known as CIS - Canadian Interuniversity Sport)\n",
    "University of Regina\n",
    "Regina Cougars\n",
    "Alberta Golden Bears\n",
    "Alberta Pandas\n",
    "University of Alberta\n",
    "University of Calgary\n",
    "Calgary Dinos\n",
    "University of British Columbia\n",
    "UBC Thunderbirds\n",
    "Simon Fraser\n",
    "\n",
    "N:\n",
    "Regina Cougars\n",
    "University of Alberta Golden Bears\n",
    "University of Calgary Dinos\n",
    "Ontario University Athletics\n",
    "U Sports\n",
    "University of British Columbia Thunderbirds\n",
    "Dalhousie Tigers\n",
    "Atlantic University Sport\n",
    "Concordia Stingers\n",
    "Ryerson Rams"
   ]
  },
  {
   "cell_type": "code",
   "execution_count": 71,
   "metadata": {
    "collapsed": false
   },
   "outputs": [
    {
     "data": {
      "text/plain": [
       "['Atlantic Collegiate Athletic Association',\n",
       " 'Atlantic University Sport',\n",
       " 'Azad University Giant Team',\n",
       " 'Badminton',\n",
       " 'Basketball',\n",
       " 'Brandon Bobcats',\n",
       " 'Canadian Collegiate Athletic Association',\n",
       " 'Canadian Interuniversity Sport',\n",
       " 'Chess',\n",
       " 'Ontario University Athletics',\n",
       " 'Saskatchewan Huskies',\n",
       " 'Tennis',\n",
       " 'Ultimate (sport)',\n",
       " 'Volleyball',\n",
       " 'Wilfrid Laurier Golden Hawks']"
      ]
     },
     "execution_count": 71,
     "metadata": {},
     "output_type": "execute_result"
    }
   ],
   "source": [
    "sorted([item.replace(\"http://dbpedia.org/resource/\", \"\").replace(\"_\", \" \") for item in lc_quad_train[i][\"result_urlonly\"]])"
   ]
  },
  {
   "cell_type": "code",
   "execution_count": 72,
   "metadata": {
    "collapsed": false
   },
   "outputs": [],
   "source": [
    "# TP, FP, FN\n",
    "lc_quad_train[i][\"tpn\"] = [4, 9, 11]\n",
    "lc_quad_train[i][\"tpn_n\"] = [6, 8, 9]"
   ]
  },
  {
   "cell_type": "markdown",
   "metadata": {
    "collapsed": false
   },
   "source": [
    "# 10"
   ]
  },
  {
   "cell_type": "code",
   "execution_count": 73,
   "metadata": {
    "collapsed": false
   },
   "outputs": [
    {
     "name": "stdout",
     "output_type": "stream",
     "text": [
      "1377\n",
      "What famous musicians play the remo?\n",
      "SELECT DISTINCT ?uri WHERE {?uri <http://dbpedia.org/ontology/instrument> <http://dbpedia.org/resource/Remo>  . ?uri <http://www.w3.org/1999/02/22-rdf-syntax-ns#type> <http://dbpedia.org/ontology/MusicalArtist>}\n",
      "SEED: ['http://dbpedia.org/resource/Aaron_Rossi', 'http://dbpedia.org/resource/Ilan_Rubin', 'http://dbpedia.org/resource/Darrin_Pfeiffer', 'http://dbpedia.org/resource/Ray_Luzier']\n",
      "25\n"
     ]
    }
   ],
   "source": [
    "i = 10\n",
    "print(lc_quad_train[i][\"_id\"])\n",
    "print(lc_quad_train[i][\"corrected_question\"])\n",
    "print(lc_quad_train[i][\"sparql_query\"])\n",
    "print(\"SEED:\", lc_quad_train[i][\"seed\"])\n",
    "print(len(lc_quad_train[i][\"result_urlonly\"]))"
   ]
  },
  {
   "cell_type": "code",
   "execution_count": 74,
   "metadata": {
    "collapsed": false
   },
   "outputs": [
    {
     "name": "stdout",
     "output_type": "stream",
     "text": [
      "- Aaron Rossi\n",
      "- Ilan Rubin\n",
      "- Darrin Pfeiffer\n",
      "- Ray Luzier\n"
     ]
    }
   ],
   "source": [
    "for item in lc_quad_train[i][\"seed\"]:\n",
    "    print(\"-\", item.replace(\"http://dbpedia.org/resource/\", \"\").replace(\"_\", \" \"))"
   ]
  },
  {
   "cell_type": "markdown",
   "metadata": {
    "collapsed": false
   },
   "source": [
    "Chad Smith\n",
    "Vinnie Colaiuta\n",
    "Sheila E.\n",
    "Cindy Blackman Santana\n",
    "Matt Cameron\n",
    "Stewart Copeland\n",
    "Joey Jordison\n",
    "Ginger Baker\n",
    "Carter Beauford\n",
    "\n",
    "N:\n",
    "Brooks Wackerman\n",
    "Matt Cameron\n",
    "John Bonham\n",
    "Vinnie Colaiuta\n",
    "Buddy Rich\n",
    "Gene Krupa\n",
    "Travis Barker\n",
    "Questlove\n",
    "Cindy Blackman\n",
    "Sheila E.\n",
    "Stewart Copeland\n",
    "Chad Smith\n",
    "Josh Freese\n",
    "Steve Gadd\n",
    "Tony Royster Jr.\n",
    "Benny Greb\n",
    "Thomas Lang\n",
    "Mike Mangini\n",
    "Jojo Mayer\n",
    "Chris Adler"
   ]
  },
  {
   "cell_type": "code",
   "execution_count": 75,
   "metadata": {
    "collapsed": false
   },
   "outputs": [
    {
     "data": {
      "text/plain": [
       "['Aaron Rossi',\n",
       " 'Alfredo Hernández',\n",
       " 'Babatunde Lea',\n",
       " 'Bev Bevan',\n",
       " 'Brent Fitz',\n",
       " 'Caroline Corr',\n",
       " 'Carter Beauford',\n",
       " 'Collin Leijenaar',\n",
       " 'Darrin Pfeiffer',\n",
       " 'Derek Roddy',\n",
       " 'Don Henley',\n",
       " 'Ilan Rubin',\n",
       " 'Joey Castillo',\n",
       " 'Karen Carpenter',\n",
       " 'Larry Mullen, Jr.',\n",
       " 'Longineu W. Parsons III',\n",
       " 'Neil Peart',\n",
       " 'Patty Schemel',\n",
       " 'Raimund Marasigan',\n",
       " 'Ray Luzier',\n",
       " 'Ringo Starr',\n",
       " 'Roger Taylor (Queen drummer)',\n",
       " 'Shinya (musician)',\n",
       " 'Tico Torres',\n",
       " 'Tommy Lee']"
      ]
     },
     "execution_count": 75,
     "metadata": {},
     "output_type": "execute_result"
    }
   ],
   "source": [
    "sorted([item.replace(\"http://dbpedia.org/resource/\", \"\").replace(\"_\", \" \") for item in lc_quad_train[i][\"result_urlonly\"]])"
   ]
  },
  {
   "cell_type": "code",
   "execution_count": 76,
   "metadata": {
    "collapsed": false
   },
   "outputs": [],
   "source": [
    "# TP, FP, FN\n",
    "lc_quad_train[i][\"tpn\"] = [5, 8, 20]\n",
    "lc_quad_train[i][\"tpn_n\"] = [4, 20, 21]"
   ]
  },
  {
   "cell_type": "markdown",
   "metadata": {
    "collapsed": false
   },
   "source": [
    "# 11"
   ]
  },
  {
   "cell_type": "code",
   "execution_count": 77,
   "metadata": {
    "collapsed": false
   },
   "outputs": [
    {
     "name": "stdout",
     "output_type": "stream",
     "text": [
      "2451\n",
      "What are the other band member of the Bands whose current members is Hynief?\n",
      "SELECT DISTINCT ?uri WHERE { ?x <http://dbpedia.org/property/currentMembers> <http://dbpedia.org/resource/Hynief> . ?x <http://dbpedia.org/ontology/bandMember> ?uri  . ?x <http://www.w3.org/1999/02/22-rdf-syntax-ns#type> <http://dbpedia.org/ontology/Band>}\n",
      "SEED: ['http://dbpedia.org/resource/Starr_(rapper)', 'http://dbpedia.org/resource/Robert_De_Niro', 'http://dbpedia.org/resource/Purple_City_Productions', \"http://dbpedia.org/resource/Big_B'Z\"]\n",
      "12\n"
     ]
    }
   ],
   "source": [
    "i = 11\n",
    "print(lc_quad_train[i][\"_id\"])\n",
    "print(lc_quad_train[i][\"corrected_question\"])\n",
    "print(lc_quad_train[i][\"sparql_query\"])\n",
    "print(\"SEED:\", lc_quad_train[i][\"seed\"])\n",
    "print(len(lc_quad_train[i][\"result_urlonly\"]))"
   ]
  },
  {
   "cell_type": "code",
   "execution_count": 78,
   "metadata": {
    "collapsed": false
   },
   "outputs": [
    {
     "name": "stdout",
     "output_type": "stream",
     "text": [
      "- Starr (rapper)\n",
      "- Robert De Niro\n",
      "- Purple City Productions\n",
      "- Big B'Z\n"
     ]
    }
   ],
   "source": [
    "for item in lc_quad_train[i][\"seed\"]:\n",
    "    print(\"-\", item.replace(\"http://dbpedia.org/resource/\", \"\").replace(\"_\", \" \"))"
   ]
  },
  {
   "cell_type": "markdown",
   "metadata": {
    "collapsed": false
   },
   "source": [
    "The Beatles\n",
    "Taxi Driver (film)\n",
    "Harlem-based rap group affiliated with Dipset\n",
    "Music group specializing in rap and hip-hop\n",
    "\n",
    "N:\n",
    "\n",
    "Erykah Badu\n",
    "The Godfather (film)\n",
    "Wu-Tang Clan\n",
    "Mahershala Ali"
   ]
  },
  {
   "cell_type": "code",
   "execution_count": 79,
   "metadata": {
    "collapsed": false
   },
   "outputs": [
    {
     "data": {
      "text/plain": [
       "[\"Big B'Z\",\n",
       " 'Hynief',\n",
       " 'Johnny Depp',\n",
       " 'Juelz Santana',\n",
       " 'Nick Haze',\n",
       " 'Purple City Productions',\n",
       " 'Richmond Rab',\n",
       " 'Riq Rose',\n",
       " 'Robert De Niro',\n",
       " 'SkullGizzy(Gamer)',\n",
       " 'Starr (rapper)',\n",
       " 'Yung Ja']"
      ]
     },
     "execution_count": 79,
     "metadata": {},
     "output_type": "execute_result"
    }
   ],
   "source": [
    "sorted([item.replace(\"http://dbpedia.org/resource/\", \"\").replace(\"_\", \" \") for item in lc_quad_train[i][\"result_urlonly\"]])"
   ]
  },
  {
   "cell_type": "code",
   "execution_count": 80,
   "metadata": {
    "collapsed": false
   },
   "outputs": [],
   "source": [
    "# TP, FP, FN\n",
    "lc_quad_train[i][\"tpn\"] = [4, 4, 8]\n",
    "lc_quad_train[i][\"tpn_n\"] = [4, 4, 8]"
   ]
  },
  {
   "cell_type": "markdown",
   "metadata": {
    "collapsed": false
   },
   "source": [
    "# 12"
   ]
  },
  {
   "cell_type": "code",
   "execution_count": null,
   "metadata": {
    "collapsed": false
   },
   "outputs": [],
   "source": [
    "i = 12\n",
    "print(lc_quad_train[i][\"_id\"])\n",
    "print(lc_quad_train[i][\"corrected_question\"])\n",
    "print(lc_quad_train[i][\"sparql_query\"])\n",
    "print(\"SEED:\", lc_quad_train[i][\"seed\"])\n",
    "print(len(lc_quad_train[i][\"result_urlonly\"]))\n",
    "\n",
    "for item in lc_quad_train[i][\"seed\"]:\n",
    "    print(\"-\", item.replace(\"http://dbpedia.org/resource/\", \"\").replace(\"_\", \" \"))\n",
    "\n",
    "sorted([item.replace(\"http://dbpedia.org/resource/\", \"\").replace(\"_\", \" \") for item in lc_quad_train[i][\"result_urlonly\"]])\n",
    "\n",
    "# TP, FP, FN\n",
    "lc_quad_train[i][\"tpn\"] = [8, 0, 19]\n",
    "lc_quad_train[i][\"tpn_n\"] = [22, 4, 5]"
   ]
  },
  {
   "cell_type": "markdown",
   "metadata": {
    "collapsed": false
   },
   "source": [
    "# Summary"
   ]
  },
  {
   "cell_type": "code",
   "execution_count": 81,
   "metadata": {
    "collapsed": false
   },
   "outputs": [],
   "source": [
    "import numpy as np"
   ]
  },
  {
   "cell_type": "code",
   "execution_count": 83,
   "metadata": {
    "collapsed": false
   },
   "outputs": [
    {
     "name": "stdout",
     "output_type": "stream",
     "text": [
      "AVG Precision 0.48748196248196246\n",
      "AVG Recall 0.3147217706041236\n",
      "AVG F1 0.36686667722412164\n",
      "AVG Precision N 0.45902137078607674\n",
      "AVG Recall N 0.39952724835077774\n",
      "AVG F1 N 0.4233108622770207\n"
     ]
    }
   ],
   "source": [
    "precs = list()\n",
    "recs = list()\n",
    "f1s = list()\n",
    "\n",
    "precs_n = list()\n",
    "recs_n = list()\n",
    "f1s_n = list()\n",
    "for row in lc_quad_train:\n",
    "    if \"tpn\" not in row:\n",
    "        continue\n",
    "    precision = row[\"tpn\"][0]/ (row[\"tpn\"][0] + row[\"tpn\"][1])\n",
    "    recall = row[\"tpn\"][0]/ (row[\"tpn\"][0] + row[\"tpn\"][2])\n",
    "    f1 = (2*precision*recall) / (precision + recall)\n",
    "\n",
    "    precs.append(precision)\n",
    "    recs.append(recall)\n",
    "    f1s.append(f1)\n",
    "\n",
    "    precision = row[\"tpn_n\"][0]/ (row[\"tpn_n\"][0] + row[\"tpn_n\"][1])\n",
    "    recall = row[\"tpn_n\"][0]/ (row[\"tpn_n\"][0] + row[\"tpn_n\"][2])\n",
    "    f1 = (2*precision*recall) / (precision + recall)\n",
    "\n",
    "    precs_n.append(precision)\n",
    "    recs_n.append(recall)\n",
    "    f1s_n.append(f1)\n",
    "\n",
    "print(\"AVG Precision\", np.mean(precs))\n",
    "print(\"AVG Recall\", np.mean(recs))\n",
    "print(\"AVG F1\", np.mean(f1s))\n",
    "print(\"AVG Precision N\", np.mean(precs_n))\n",
    "print(\"AVG Recall N\", np.mean(recs_n))\n",
    "print(\"AVG F1 N\", np.mean(f1s_n))"
   ]
  },
  {
   "cell_type": "markdown",
   "metadata": {
    "collapsed": false
   },
   "source": []
  }
 ],
 "metadata": {
  "kernelspec": {
   "display_name": "Python 3",
   "language": "python",
   "name": "python3"
  },
  "language_info": {
   "codemirror_mode": {
    "name": "ipython",
    "version": 2
   },
   "file_extension": ".py",
   "mimetype": "text/x-python",
   "name": "python",
   "nbconvert_exporter": "python",
   "pygments_lexer": "ipython2",
   "version": "2.7.6"
  }
 },
 "nbformat": 4,
 "nbformat_minor": 0
}
