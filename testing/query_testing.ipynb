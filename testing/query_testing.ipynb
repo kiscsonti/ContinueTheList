{
 "cells": [
  {
   "cell_type": "code",
   "execution_count": 1,
   "metadata": {
    "collapsed": true
   },
   "outputs": [],
   "source": [
    "import pandas as pd\n",
    "%load_ext autoreload\n",
    "%autoreload 2"
   ]
  },
  {
   "cell_type": "code",
   "execution_count": 2,
   "metadata": {
    "collapsed": false
   },
   "outputs": [],
   "source": [
    "import os\n",
    "import sys\n",
    "module_path = os.path.abspath(os.path.join('..'))\n",
    "if module_path not in sys.path:\n",
    "    sys.path.append(module_path)"
   ]
  },
  {
   "cell_type": "code",
   "execution_count": 3,
   "metadata": {
    "collapsed": false
   },
   "outputs": [],
   "source": [
    "import pickle\n",
    "result_path = \"/home/kardosp/continuethelist/outputs/graphwalk_v2_output_sample4.pickle\"\n",
    "\n",
    "with open(result_path, \"rb\") as f:\n",
    "    result_data = pickle.load(f)"
   ]
  },
  {
   "cell_type": "code",
   "execution_count": 3,
   "metadata": {
    "collapsed": false
   },
   "outputs": [],
   "source": [
    "from evaluation.evaluate_script import graph_eval_relaxed_ds\n",
    "from helper.random_extra_functions import explanation_to_pd\n",
    "from query.query_functions2 import run_sparql_query, get_all_triplets_from_ro"
   ]
  },
  {
   "cell_type": "code",
   "execution_count": 6,
   "metadata": {
    "collapsed": false
   },
   "outputs": [
    {
     "name": "stdout",
     "output_type": "stream",
     "text": [
      "SELECT DISTINCT ?uri WHERE {?uri <http://dbpedia.org/ontology/order> <http://dbpedia.org/resource/Bacillales> . ?uri <http://dbpedia.org/property/domain> <http://dbpedia.org/resource/Bacteria>  . ?uri <http://www.w3.org/1999/02/22-rdf-syntax-ns#type> <http://dbpedia.org/ontology/Bacteria>}\n"
     ]
    }
   ],
   "source": [
    "print(result_data[5][\"sparql_query\"])"
   ]
  },
  {
   "cell_type": "code",
   "execution_count": 11,
   "metadata": {
    "collapsed": false
   },
   "outputs": [],
   "source": [
    "querry_res = get_all_triplets_from_ro(\"http://dbpedia.org/resource/Bacillales\", \"http://dbpedia.org/ontology/order\",)"
   ]
  },
  {
   "cell_type": "code",
   "execution_count": 13,
   "metadata": {
    "collapsed": false
   },
   "outputs": [
    {
     "data": {
      "text/plain": [
       "[['http://dbpedia.org/resource/Virgibacillus_soli',\n",
       "  'http://dbpedia.org/ontology/order',\n",
       "  'http://dbpedia.org/resource/Bacillales'],\n",
       " ['http://dbpedia.org/resource/Virgibacillus_siamensis',\n",
       "  'http://dbpedia.org/ontology/order',\n",
       "  'http://dbpedia.org/resource/Bacillales'],\n",
       " ['http://dbpedia.org/resource/Virgibacillus_salexigens',\n",
       "  'http://dbpedia.org/ontology/order',\n",
       "  'http://dbpedia.org/resource/Bacillales'],\n",
       " ['http://dbpedia.org/resource/Virgibacillus_proomii',\n",
       "  'http://dbpedia.org/ontology/order',\n",
       "  'http://dbpedia.org/resource/Bacillales'],\n",
       " ['http://dbpedia.org/resource/Virgibacillus_necropolis',\n",
       "  'http://dbpedia.org/ontology/order',\n",
       "  'http://dbpedia.org/resource/Bacillales'],\n",
       " ['http://dbpedia.org/resource/Virgibacillus_chiguensis',\n",
       "  'http://dbpedia.org/ontology/order',\n",
       "  'http://dbpedia.org/resource/Bacillales'],\n",
       " ['http://dbpedia.org/resource/Virgibacillus_carmonensis',\n",
       "  'http://dbpedia.org/ontology/order',\n",
       "  'http://dbpedia.org/resource/Bacillales'],\n",
       " ['http://dbpedia.org/resource/Virgibacillus_arcticus',\n",
       "  'http://dbpedia.org/ontology/order',\n",
       "  'http://dbpedia.org/resource/Bacillales'],\n",
       " ['http://dbpedia.org/resource/Virgibacillus_alimentarius',\n",
       "  'http://dbpedia.org/ontology/order',\n",
       "  'http://dbpedia.org/resource/Bacillales'],\n",
       " ['http://dbpedia.org/resource/Virgibacillus',\n",
       "  'http://dbpedia.org/ontology/order',\n",
       "  'http://dbpedia.org/resource/Bacillales'],\n",
       " ['http://dbpedia.org/resource/Ureibacillus_terrenus',\n",
       "  'http://dbpedia.org/ontology/order',\n",
       "  'http://dbpedia.org/resource/Bacillales'],\n",
       " ['http://dbpedia.org/resource/Turicibacteraceae',\n",
       "  'http://dbpedia.org/ontology/order',\n",
       "  'http://dbpedia.org/resource/Bacillales'],\n",
       " ['http://dbpedia.org/resource/Thermoactinomycetaceae',\n",
       "  'http://dbpedia.org/ontology/order',\n",
       "  'http://dbpedia.org/resource/Bacillales'],\n",
       " ['http://dbpedia.org/resource/Thermicanus_aegyptius',\n",
       "  'http://dbpedia.org/ontology/order',\n",
       "  'http://dbpedia.org/resource/Bacillales'],\n",
       " ['http://dbpedia.org/resource/Thermicanus',\n",
       "  'http://dbpedia.org/ontology/order',\n",
       "  'http://dbpedia.org/resource/Bacillales'],\n",
       " ['http://dbpedia.org/resource/Sulfobacillus_thermotolerans',\n",
       "  'http://dbpedia.org/ontology/order',\n",
       "  'http://dbpedia.org/resource/Bacillales'],\n",
       " ['http://dbpedia.org/resource/Sulfobacillus_acidophilus',\n",
       "  'http://dbpedia.org/ontology/order',\n",
       "  'http://dbpedia.org/resource/Bacillales'],\n",
       " ['http://dbpedia.org/resource/Staphylococcus_xylosus',\n",
       "  'http://dbpedia.org/ontology/order',\n",
       "  'http://dbpedia.org/resource/Bacillales'],\n",
       " ['http://dbpedia.org/resource/Staphylococcus_warneri',\n",
       "  'http://dbpedia.org/ontology/order',\n",
       "  'http://dbpedia.org/resource/Bacillales'],\n",
       " ['http://dbpedia.org/resource/Staphylococcus_vitulinus',\n",
       "  'http://dbpedia.org/ontology/order',\n",
       "  'http://dbpedia.org/resource/Bacillales'],\n",
       " ['http://dbpedia.org/resource/Staphylococcus_succinus',\n",
       "  'http://dbpedia.org/ontology/order',\n",
       "  'http://dbpedia.org/resource/Bacillales'],\n",
       " ['http://dbpedia.org/resource/Staphylococcus_stepanovicii',\n",
       "  'http://dbpedia.org/ontology/order',\n",
       "  'http://dbpedia.org/resource/Bacillales'],\n",
       " ['http://dbpedia.org/resource/Staphylococcus_simulans',\n",
       "  'http://dbpedia.org/ontology/order',\n",
       "  'http://dbpedia.org/resource/Bacillales'],\n",
       " ['http://dbpedia.org/resource/Staphylococcus_simiae',\n",
       "  'http://dbpedia.org/ontology/order',\n",
       "  'http://dbpedia.org/resource/Bacillales'],\n",
       " ['http://dbpedia.org/resource/Staphylococcus_sciuri',\n",
       "  'http://dbpedia.org/ontology/order',\n",
       "  'http://dbpedia.org/resource/Bacillales'],\n",
       " ['http://dbpedia.org/resource/Staphylococcus_schleiferi',\n",
       "  'http://dbpedia.org/ontology/order',\n",
       "  'http://dbpedia.org/resource/Bacillales'],\n",
       " ['http://dbpedia.org/resource/Staphylococcus_saprophyticus',\n",
       "  'http://dbpedia.org/ontology/order',\n",
       "  'http://dbpedia.org/resource/Bacillales'],\n",
       " ['http://dbpedia.org/resource/Staphylococcus_saccharolyticus',\n",
       "  'http://dbpedia.org/ontology/order',\n",
       "  'http://dbpedia.org/resource/Bacillales'],\n",
       " ['http://dbpedia.org/resource/Staphylococcus_rostri',\n",
       "  'http://dbpedia.org/ontology/order',\n",
       "  'http://dbpedia.org/resource/Bacillales'],\n",
       " ['http://dbpedia.org/resource/Staphylococcus_pseudintermedius',\n",
       "  'http://dbpedia.org/ontology/order',\n",
       "  'http://dbpedia.org/resource/Bacillales'],\n",
       " ['http://dbpedia.org/resource/Staphylococcus_piscifermentans',\n",
       "  'http://dbpedia.org/ontology/order',\n",
       "  'http://dbpedia.org/resource/Bacillales'],\n",
       " ['http://dbpedia.org/resource/Staphylococcus_pettenkoferi',\n",
       "  'http://dbpedia.org/ontology/order',\n",
       "  'http://dbpedia.org/resource/Bacillales'],\n",
       " ['http://dbpedia.org/resource/Staphylococcus_nepalensis',\n",
       "  'http://dbpedia.org/ontology/order',\n",
       "  'http://dbpedia.org/resource/Bacillales'],\n",
       " ['http://dbpedia.org/resource/Staphylococcus_muscae',\n",
       "  'http://dbpedia.org/ontology/order',\n",
       "  'http://dbpedia.org/resource/Bacillales'],\n",
       " ['http://dbpedia.org/resource/Staphylococcus_microti',\n",
       "  'http://dbpedia.org/ontology/order',\n",
       "  'http://dbpedia.org/resource/Bacillales'],\n",
       " ['http://dbpedia.org/resource/Staphylococcus_massiliensis',\n",
       "  'http://dbpedia.org/ontology/order',\n",
       "  'http://dbpedia.org/resource/Bacillales'],\n",
       " ['http://dbpedia.org/resource/Staphylococcus_lutrae',\n",
       "  'http://dbpedia.org/ontology/order',\n",
       "  'http://dbpedia.org/resource/Bacillales'],\n",
       " ['http://dbpedia.org/resource/Staphylococcus_lugdunensis',\n",
       "  'http://dbpedia.org/ontology/order',\n",
       "  'http://dbpedia.org/resource/Bacillales'],\n",
       " ['http://dbpedia.org/resource/Staphylococcus_lentus',\n",
       "  'http://dbpedia.org/ontology/order',\n",
       "  'http://dbpedia.org/resource/Bacillales'],\n",
       " ['http://dbpedia.org/resource/Staphylococcus_kloosii',\n",
       "  'http://dbpedia.org/ontology/order',\n",
       "  'http://dbpedia.org/resource/Bacillales'],\n",
       " ['http://dbpedia.org/resource/Staphylococcus_intermedius',\n",
       "  'http://dbpedia.org/ontology/order',\n",
       "  'http://dbpedia.org/resource/Bacillales'],\n",
       " ['http://dbpedia.org/resource/Staphylococcus_hyicus',\n",
       "  'http://dbpedia.org/ontology/order',\n",
       "  'http://dbpedia.org/resource/Bacillales'],\n",
       " ['http://dbpedia.org/resource/Staphylococcus_hominis',\n",
       "  'http://dbpedia.org/ontology/order',\n",
       "  'http://dbpedia.org/resource/Bacillales'],\n",
       " ['http://dbpedia.org/resource/Staphylococcus_haemolyticus',\n",
       "  'http://dbpedia.org/ontology/order',\n",
       "  'http://dbpedia.org/resource/Bacillales'],\n",
       " ['http://dbpedia.org/resource/Staphylococcus_gallinarum',\n",
       "  'http://dbpedia.org/ontology/order',\n",
       "  'http://dbpedia.org/resource/Bacillales'],\n",
       " ['http://dbpedia.org/resource/Staphylococcus_fleurettii',\n",
       "  'http://dbpedia.org/ontology/order',\n",
       "  'http://dbpedia.org/resource/Bacillales'],\n",
       " ['http://dbpedia.org/resource/Staphylococcus_felis',\n",
       "  'http://dbpedia.org/ontology/order',\n",
       "  'http://dbpedia.org/resource/Bacillales'],\n",
       " ['http://dbpedia.org/resource/Staphylococcus_equorum',\n",
       "  'http://dbpedia.org/ontology/order',\n",
       "  'http://dbpedia.org/resource/Bacillales'],\n",
       " ['http://dbpedia.org/resource/Staphylococcus_epidermidis',\n",
       "  'http://dbpedia.org/ontology/order',\n",
       "  'http://dbpedia.org/resource/Bacillales'],\n",
       " ['http://dbpedia.org/resource/Staphylococcus_devriesei',\n",
       "  'http://dbpedia.org/ontology/order',\n",
       "  'http://dbpedia.org/resource/Bacillales'],\n",
       " ['http://dbpedia.org/resource/Staphylococcus_delphini',\n",
       "  'http://dbpedia.org/ontology/order',\n",
       "  'http://dbpedia.org/resource/Bacillales'],\n",
       " ['http://dbpedia.org/resource/Staphylococcus_condimenti',\n",
       "  'http://dbpedia.org/ontology/order',\n",
       "  'http://dbpedia.org/resource/Bacillales'],\n",
       " ['http://dbpedia.org/resource/Staphylococcus_cohnii',\n",
       "  'http://dbpedia.org/ontology/order',\n",
       "  'http://dbpedia.org/resource/Bacillales'],\n",
       " ['http://dbpedia.org/resource/Staphylococcus_chromogenes',\n",
       "  'http://dbpedia.org/ontology/order',\n",
       "  'http://dbpedia.org/resource/Bacillales'],\n",
       " ['http://dbpedia.org/resource/Staphylococcus_carnosus',\n",
       "  'http://dbpedia.org/ontology/order',\n",
       "  'http://dbpedia.org/resource/Bacillales'],\n",
       " ['http://dbpedia.org/resource/Staphylococcus_caprae',\n",
       "  'http://dbpedia.org/ontology/order',\n",
       "  'http://dbpedia.org/resource/Bacillales'],\n",
       " ['http://dbpedia.org/resource/Staphylococcus_capitis',\n",
       "  'http://dbpedia.org/ontology/order',\n",
       "  'http://dbpedia.org/resource/Bacillales'],\n",
       " ['http://dbpedia.org/resource/Staphylococcus_aureus',\n",
       "  'http://dbpedia.org/ontology/order',\n",
       "  'http://dbpedia.org/resource/Bacillales'],\n",
       " ['http://dbpedia.org/resource/Staphylococcus_arlettae',\n",
       "  'http://dbpedia.org/ontology/order',\n",
       "  'http://dbpedia.org/resource/Bacillales'],\n",
       " ['http://dbpedia.org/resource/Staphylococcus_agnetis',\n",
       "  'http://dbpedia.org/ontology/order',\n",
       "  'http://dbpedia.org/resource/Bacillales'],\n",
       " ['http://dbpedia.org/resource/Staphylococcus',\n",
       "  'http://dbpedia.org/ontology/order',\n",
       "  'http://dbpedia.org/resource/Bacillales'],\n",
       " ['http://dbpedia.org/resource/Staphylococcaceae',\n",
       "  'http://dbpedia.org/ontology/order',\n",
       "  'http://dbpedia.org/resource/Bacillales'],\n",
       " ['http://dbpedia.org/resource/Sporosarcina_ureae',\n",
       "  'http://dbpedia.org/ontology/order',\n",
       "  'http://dbpedia.org/resource/Bacillales'],\n",
       " ['http://dbpedia.org/resource/Sporosarcina_pasteurii',\n",
       "  'http://dbpedia.org/ontology/order',\n",
       "  'http://dbpedia.org/resource/Bacillales'],\n",
       " ['http://dbpedia.org/resource/Sporosarcina_globispora',\n",
       "  'http://dbpedia.org/ontology/order',\n",
       "  'http://dbpedia.org/resource/Bacillales'],\n",
       " ['http://dbpedia.org/resource/Sporosarcina_aquimarina',\n",
       "  'http://dbpedia.org/ontology/order',\n",
       "  'http://dbpedia.org/resource/Bacillales'],\n",
       " ['http://dbpedia.org/resource/Sporosarcina',\n",
       "  'http://dbpedia.org/ontology/order',\n",
       "  'http://dbpedia.org/resource/Bacillales'],\n",
       " ['http://dbpedia.org/resource/Sporolactobacillus',\n",
       "  'http://dbpedia.org/ontology/order',\n",
       "  'http://dbpedia.org/resource/Bacillales'],\n",
       " ['http://dbpedia.org/resource/Sporolactobacillaceae',\n",
       "  'http://dbpedia.org/ontology/order',\n",
       "  'http://dbpedia.org/resource/Bacillales'],\n",
       " ['http://dbpedia.org/resource/Salinicoccus_jeotgali',\n",
       "  'http://dbpedia.org/ontology/order',\n",
       "  'http://dbpedia.org/resource/Bacillales'],\n",
       " ['http://dbpedia.org/resource/Salinicoccus',\n",
       "  'http://dbpedia.org/ontology/order',\n",
       "  'http://dbpedia.org/resource/Bacillales'],\n",
       " ['http://dbpedia.org/resource/ST8:USA300',\n",
       "  'http://dbpedia.org/ontology/order',\n",
       "  'http://dbpedia.org/resource/Bacillales'],\n",
       " ['http://dbpedia.org/resource/Planomicrobium_koreense',\n",
       "  'http://dbpedia.org/ontology/order',\n",
       "  'http://dbpedia.org/resource/Bacillales'],\n",
       " ['http://dbpedia.org/resource/Planomicrobium',\n",
       "  'http://dbpedia.org/ontology/order',\n",
       "  'http://dbpedia.org/resource/Bacillales'],\n",
       " ['http://dbpedia.org/resource/Planococcaceae',\n",
       "  'http://dbpedia.org/ontology/order',\n",
       "  'http://dbpedia.org/resource/Bacillales'],\n",
       " ['http://dbpedia.org/resource/Pasteuriaceae',\n",
       "  'http://dbpedia.org/ontology/order',\n",
       "  'http://dbpedia.org/resource/Bacillales'],\n",
       " ['http://dbpedia.org/resource/Pasteuria_nishizawae',\n",
       "  'http://dbpedia.org/ontology/order',\n",
       "  'http://dbpedia.org/resource/Bacillales'],\n",
       " ['http://dbpedia.org/resource/Pasteuria',\n",
       "  'http://dbpedia.org/ontology/order',\n",
       "  'http://dbpedia.org/resource/Bacillales'],\n",
       " ['http://dbpedia.org/resource/Paenibacillus_vulneris',\n",
       "  'http://dbpedia.org/ontology/order',\n",
       "  'http://dbpedia.org/resource/Bacillales'],\n",
       " ['http://dbpedia.org/resource/Paenibacillus_vortex',\n",
       "  'http://dbpedia.org/ontology/order',\n",
       "  'http://dbpedia.org/resource/Bacillales'],\n",
       " ['http://dbpedia.org/resource/Paenibacillus_tylopili',\n",
       "  'http://dbpedia.org/ontology/order',\n",
       "  'http://dbpedia.org/resource/Bacillales'],\n",
       " ['http://dbpedia.org/resource/Paenibacillus_polymyxa',\n",
       "  'http://dbpedia.org/ontology/order',\n",
       "  'http://dbpedia.org/resource/Bacillales'],\n",
       " ['http://dbpedia.org/resource/Paenibacillus_macerans',\n",
       "  'http://dbpedia.org/ontology/order',\n",
       "  'http://dbpedia.org/resource/Bacillales'],\n",
       " ['http://dbpedia.org/resource/Paenibacillus_koreensis',\n",
       "  'http://dbpedia.org/ontology/order',\n",
       "  'http://dbpedia.org/resource/Bacillales'],\n",
       " ['http://dbpedia.org/resource/Paenibacillus_durum',\n",
       "  'http://dbpedia.org/ontology/order',\n",
       "  'http://dbpedia.org/resource/Bacillales'],\n",
       " ['http://dbpedia.org/resource/Paenibacillus_dendritiformis',\n",
       "  'http://dbpedia.org/ontology/order',\n",
       "  'http://dbpedia.org/resource/Bacillales'],\n",
       " ['http://dbpedia.org/resource/Paenibacillus_alvei',\n",
       "  'http://dbpedia.org/ontology/order',\n",
       "  'http://dbpedia.org/resource/Bacillales'],\n",
       " ['http://dbpedia.org/resource/Paenibacillus',\n",
       "  'http://dbpedia.org/ontology/order',\n",
       "  'http://dbpedia.org/resource/Bacillales'],\n",
       " ['http://dbpedia.org/resource/Paenibacillaceae',\n",
       "  'http://dbpedia.org/ontology/order',\n",
       "  'http://dbpedia.org/resource/Bacillales'],\n",
       " ['http://dbpedia.org/resource/Oxalophagus_oxalicus',\n",
       "  'http://dbpedia.org/ontology/order',\n",
       "  'http://dbpedia.org/resource/Bacillales'],\n",
       " ['http://dbpedia.org/resource/Oxalophagus',\n",
       "  'http://dbpedia.org/ontology/order',\n",
       "  'http://dbpedia.org/resource/Bacillales'],\n",
       " ['http://dbpedia.org/resource/Oceanobacillus_oncorhynchi',\n",
       "  'http://dbpedia.org/ontology/order',\n",
       "  'http://dbpedia.org/resource/Bacillales'],\n",
       " ['http://dbpedia.org/resource/Oceanobacillus_neutriphilus',\n",
       "  'http://dbpedia.org/ontology/order',\n",
       "  'http://dbpedia.org/resource/Bacillales'],\n",
       " ['http://dbpedia.org/resource/Oceanobacillus_kimchii',\n",
       "  'http://dbpedia.org/ontology/order',\n",
       "  'http://dbpedia.org/resource/Bacillales'],\n",
       " ['http://dbpedia.org/resource/Oceanobacillus_kapialis',\n",
       "  'http://dbpedia.org/ontology/order',\n",
       "  'http://dbpedia.org/resource/Bacillales'],\n",
       " ['http://dbpedia.org/resource/Oceanobacillus_iheyensis',\n",
       "  'http://dbpedia.org/ontology/order',\n",
       "  'http://dbpedia.org/resource/Bacillales'],\n",
       " ['http://dbpedia.org/resource/Oceanobacillus_chironomi',\n",
       "  'http://dbpedia.org/ontology/order',\n",
       "  'http://dbpedia.org/resource/Bacillales'],\n",
       " ['http://dbpedia.org/resource/Nosocomiicoccus',\n",
       "  'http://dbpedia.org/ontology/order',\n",
       "  'http://dbpedia.org/resource/Bacillales'],\n",
       " ['http://dbpedia.org/resource/Milky_spore',\n",
       "  'http://dbpedia.org/ontology/order',\n",
       "  'http://dbpedia.org/resource/Bacillales'],\n",
       " ['http://dbpedia.org/resource/Methicillin-resistant_Staphylococcus_aureus',\n",
       "  'http://dbpedia.org/ontology/order',\n",
       "  'http://dbpedia.org/resource/Bacillales'],\n",
       " ['http://dbpedia.org/resource/Macrococcus_lamae',\n",
       "  'http://dbpedia.org/ontology/order',\n",
       "  'http://dbpedia.org/resource/Bacillales'],\n",
       " ['http://dbpedia.org/resource/Macrococcus_hajekii',\n",
       "  'http://dbpedia.org/ontology/order',\n",
       "  'http://dbpedia.org/resource/Bacillales'],\n",
       " ['http://dbpedia.org/resource/Macrococcus_brunensis',\n",
       "  'http://dbpedia.org/ontology/order',\n",
       "  'http://dbpedia.org/resource/Bacillales'],\n",
       " ['http://dbpedia.org/resource/Macrococcus',\n",
       "  'http://dbpedia.org/ontology/order',\n",
       "  'http://dbpedia.org/resource/Bacillales'],\n",
       " ['http://dbpedia.org/resource/Lysinibacillus_fusiformis',\n",
       "  'http://dbpedia.org/ontology/order',\n",
       "  'http://dbpedia.org/resource/Bacillales'],\n",
       " ['http://dbpedia.org/resource/Lysinibacillus_boronitolerans',\n",
       "  'http://dbpedia.org/ontology/order',\n",
       "  'http://dbpedia.org/resource/Bacillales'],\n",
       " ['http://dbpedia.org/resource/Listeriaceae',\n",
       "  'http://dbpedia.org/ontology/order',\n",
       "  'http://dbpedia.org/resource/Bacillales'],\n",
       " ['http://dbpedia.org/resource/Listeria_rocourtiae',\n",
       "  'http://dbpedia.org/ontology/order',\n",
       "  'http://dbpedia.org/resource/Bacillales'],\n",
       " ['http://dbpedia.org/resource/Listeria_monocytogenes',\n",
       "  'http://dbpedia.org/ontology/order',\n",
       "  'http://dbpedia.org/resource/Bacillales'],\n",
       " ['http://dbpedia.org/resource/Listeria_marthii',\n",
       "  'http://dbpedia.org/ontology/order',\n",
       "  'http://dbpedia.org/resource/Bacillales'],\n",
       " ['http://dbpedia.org/resource/Listeria_ivanovii',\n",
       "  'http://dbpedia.org/ontology/order',\n",
       "  'http://dbpedia.org/resource/Bacillales'],\n",
       " ['http://dbpedia.org/resource/Listeria',\n",
       "  'http://dbpedia.org/ontology/order',\n",
       "  'http://dbpedia.org/resource/Bacillales'],\n",
       " ['http://dbpedia.org/resource/Lentibacillus_salicampi',\n",
       "  'http://dbpedia.org/ontology/order',\n",
       "  'http://dbpedia.org/resource/Bacillales'],\n",
       " ['http://dbpedia.org/resource/Lentibacillus_juripiscarius',\n",
       "  'http://dbpedia.org/ontology/order',\n",
       "  'http://dbpedia.org/resource/Bacillales'],\n",
       " ['http://dbpedia.org/resource/Jeotgalicoccus_psychrophilus',\n",
       "  'http://dbpedia.org/ontology/order',\n",
       "  'http://dbpedia.org/resource/Bacillales'],\n",
       " ['http://dbpedia.org/resource/Jeotgalicoccus_pinnipedialis',\n",
       "  'http://dbpedia.org/ontology/order',\n",
       "  'http://dbpedia.org/resource/Bacillales'],\n",
       " ['http://dbpedia.org/resource/Jeotgalicoccus_nanhaiensis',\n",
       "  'http://dbpedia.org/ontology/order',\n",
       "  'http://dbpedia.org/resource/Bacillales'],\n",
       " ['http://dbpedia.org/resource/Jeotgalicoccus_marinus',\n",
       "  'http://dbpedia.org/ontology/order',\n",
       "  'http://dbpedia.org/resource/Bacillales'],\n",
       " ['http://dbpedia.org/resource/Jeotgalicoccus_huakuii',\n",
       "  'http://dbpedia.org/ontology/order',\n",
       "  'http://dbpedia.org/resource/Bacillales'],\n",
       " ['http://dbpedia.org/resource/Jeotgalicoccus_halotolerans',\n",
       "  'http://dbpedia.org/ontology/order',\n",
       "  'http://dbpedia.org/resource/Bacillales'],\n",
       " ['http://dbpedia.org/resource/Jeotgalicoccus_halophilus',\n",
       "  'http://dbpedia.org/ontology/order',\n",
       "  'http://dbpedia.org/resource/Bacillales'],\n",
       " ['http://dbpedia.org/resource/Jeotgalicoccus_coquinae',\n",
       "  'http://dbpedia.org/ontology/order',\n",
       "  'http://dbpedia.org/resource/Bacillales'],\n",
       " ['http://dbpedia.org/resource/Jeotgalicoccus_aerolatus',\n",
       "  'http://dbpedia.org/ontology/order',\n",
       "  'http://dbpedia.org/resource/Bacillales'],\n",
       " ['http://dbpedia.org/resource/Jeotgalicoccus',\n",
       "  'http://dbpedia.org/ontology/order',\n",
       "  'http://dbpedia.org/resource/Bacillales'],\n",
       " ['http://dbpedia.org/resource/Jeotgalibacillus_alimentarius',\n",
       "  'http://dbpedia.org/ontology/order',\n",
       "  'http://dbpedia.org/resource/Bacillales'],\n",
       " ['http://dbpedia.org/resource/Gracilibacillus_ureilyticus',\n",
       "  'http://dbpedia.org/ontology/order',\n",
       "  'http://dbpedia.org/resource/Bacillales'],\n",
       " ['http://dbpedia.org/resource/Gracilibacillus_halotolerans',\n",
       "  'http://dbpedia.org/ontology/order',\n",
       "  'http://dbpedia.org/resource/Bacillales'],\n",
       " ['http://dbpedia.org/resource/Gracilibacillus_boraciitolerans',\n",
       "  'http://dbpedia.org/ontology/order',\n",
       "  'http://dbpedia.org/resource/Bacillales'],\n",
       " ['http://dbpedia.org/resource/Gracilibacillus',\n",
       "  'http://dbpedia.org/ontology/order',\n",
       "  'http://dbpedia.org/resource/Bacillales'],\n",
       " ['http://dbpedia.org/resource/Geobacillus_toebii',\n",
       "  'http://dbpedia.org/ontology/order',\n",
       "  'http://dbpedia.org/resource/Bacillales'],\n",
       " ['http://dbpedia.org/resource/Geobacillus_thermoglucosidasius',\n",
       "  'http://dbpedia.org/ontology/order',\n",
       "  'http://dbpedia.org/resource/Bacillales'],\n",
       " ['http://dbpedia.org/resource/Geobacillus_jurassicus',\n",
       "  'http://dbpedia.org/ontology/order',\n",
       "  'http://dbpedia.org/resource/Bacillales'],\n",
       " ['http://dbpedia.org/resource/Gemella_sanguinis',\n",
       "  'http://dbpedia.org/ontology/order',\n",
       "  'http://dbpedia.org/resource/Bacillales'],\n",
       " ['http://dbpedia.org/resource/Gemella_palaticanis',\n",
       "  'http://dbpedia.org/ontology/order',\n",
       "  'http://dbpedia.org/resource/Bacillales'],\n",
       " ['http://dbpedia.org/resource/Gemella_morbillorum',\n",
       "  'http://dbpedia.org/ontology/order',\n",
       "  'http://dbpedia.org/resource/Bacillales'],\n",
       " ['http://dbpedia.org/resource/Gemella',\n",
       "  'http://dbpedia.org/ontology/order',\n",
       "  'http://dbpedia.org/resource/Bacillales'],\n",
       " ['http://dbpedia.org/resource/Filobacillus_milensis',\n",
       "  'http://dbpedia.org/ontology/order',\n",
       "  'http://dbpedia.org/resource/Bacillales'],\n",
       " ['http://dbpedia.org/resource/Filobacillus',\n",
       "  'http://dbpedia.org/ontology/order',\n",
       "  'http://dbpedia.org/resource/Bacillales'],\n",
       " ['http://dbpedia.org/resource/Exiguobacterium',\n",
       "  'http://dbpedia.org/ontology/order',\n",
       "  'http://dbpedia.org/resource/Bacillales'],\n",
       " ['http://dbpedia.org/resource/Cohnella_thermotolerans',\n",
       "  'http://dbpedia.org/ontology/order',\n",
       "  'http://dbpedia.org/resource/Bacillales'],\n",
       " ['http://dbpedia.org/resource/Cohnella_hongkongensis',\n",
       "  'http://dbpedia.org/ontology/order',\n",
       "  'http://dbpedia.org/resource/Bacillales'],\n",
       " ['http://dbpedia.org/resource/Caryophanaceae',\n",
       "  'http://dbpedia.org/ontology/order',\n",
       "  'http://dbpedia.org/resource/Bacillales'],\n",
       " ['http://dbpedia.org/resource/Brevibacillus_brevis',\n",
       "  'http://dbpedia.org/ontology/order',\n",
       "  'http://dbpedia.org/resource/Bacillales'],\n",
       " ['http://dbpedia.org/resource/Brevibacillus_borstelensis',\n",
       "  'http://dbpedia.org/ontology/order',\n",
       "  'http://dbpedia.org/resource/Bacillales'],\n",
       " ['http://dbpedia.org/resource/Brevibacillus',\n",
       "  'http://dbpedia.org/ontology/order',\n",
       "  'http://dbpedia.org/resource/Bacillales'],\n",
       " ['http://dbpedia.org/resource/Bacillus_weihenstephanensis',\n",
       "  'http://dbpedia.org/ontology/order',\n",
       "  'http://dbpedia.org/resource/Bacillales'],\n",
       " ['http://dbpedia.org/resource/Bacillus_vallismortis',\n",
       "  'http://dbpedia.org/ontology/order',\n",
       "  'http://dbpedia.org/resource/Bacillales'],\n",
       " ['http://dbpedia.org/resource/Bacillus_thuringiensis',\n",
       "  'http://dbpedia.org/ontology/order',\n",
       "  'http://dbpedia.org/resource/Bacillales'],\n",
       " ['http://dbpedia.org/resource/Bacillus_subtilis',\n",
       "  'http://dbpedia.org/ontology/order',\n",
       "  'http://dbpedia.org/resource/Bacillales'],\n",
       " ['http://dbpedia.org/resource/Bacillus_stratosphericus',\n",
       "  'http://dbpedia.org/ontology/order',\n",
       "  'http://dbpedia.org/resource/Bacillales'],\n",
       " ['http://dbpedia.org/resource/Bacillus_stearothermophilus',\n",
       "  'http://dbpedia.org/ontology/order',\n",
       "  'http://dbpedia.org/resource/Bacillales'],\n",
       " ['http://dbpedia.org/resource/Bacillus_sporothermodurans',\n",
       "  'http://dbpedia.org/ontology/order',\n",
       "  'http://dbpedia.org/resource/Bacillales'],\n",
       " ['http://dbpedia.org/resource/Bacillus_sphaericus',\n",
       "  'http://dbpedia.org/ontology/order',\n",
       "  'http://dbpedia.org/resource/Bacillales'],\n",
       " ['http://dbpedia.org/resource/Bacillus_sonorensis',\n",
       "  'http://dbpedia.org/ontology/order',\n",
       "  'http://dbpedia.org/resource/Bacillales'],\n",
       " ['http://dbpedia.org/resource/Bacillus_selenitireducens',\n",
       "  'http://dbpedia.org/ontology/order',\n",
       "  'http://dbpedia.org/resource/Bacillales'],\n",
       " ['http://dbpedia.org/resource/Bacillus_schlegelii',\n",
       "  'http://dbpedia.org/ontology/order',\n",
       "  'http://dbpedia.org/resource/Bacillales'],\n",
       " ['http://dbpedia.org/resource/Bacillus_safensis',\n",
       "  'http://dbpedia.org/ontology/order',\n",
       "  'http://dbpedia.org/resource/Bacillales'],\n",
       " ['http://dbpedia.org/resource/Bacillus_pumilus',\n",
       "  'http://dbpedia.org/ontology/order',\n",
       "  'http://dbpedia.org/resource/Bacillales'],\n",
       " ['http://dbpedia.org/resource/Bacillus_pseudomycoides',\n",
       "  'http://dbpedia.org/ontology/order',\n",
       "  'http://dbpedia.org/resource/Bacillales'],\n",
       " ['http://dbpedia.org/resource/Bacillus_pseudofirmus',\n",
       "  'http://dbpedia.org/ontology/order',\n",
       "  'http://dbpedia.org/resource/Bacillales'],\n",
       " ['http://dbpedia.org/resource/Bacillus_pseudalcalophilus',\n",
       "  'http://dbpedia.org/ontology/order',\n",
       "  'http://dbpedia.org/resource/Bacillales'],\n",
       " ['http://dbpedia.org/resource/Bacillus_oleronius',\n",
       "  'http://dbpedia.org/ontology/order',\n",
       "  'http://dbpedia.org/resource/Bacillales'],\n",
       " ['http://dbpedia.org/resource/Bacillus_odysseyi',\n",
       "  'http://dbpedia.org/ontology/order',\n",
       "  'http://dbpedia.org/resource/Bacillales'],\n",
       " ['http://dbpedia.org/resource/Bacillus_nealsonii',\n",
       "  'http://dbpedia.org/ontology/order',\n",
       "  'http://dbpedia.org/resource/Bacillales'],\n",
       " ['http://dbpedia.org/resource/Bacillus_mycoides',\n",
       "  'http://dbpedia.org/ontology/order',\n",
       "  'http://dbpedia.org/resource/Bacillales'],\n",
       " ['http://dbpedia.org/resource/Bacillus_mojavensis',\n",
       "  'http://dbpedia.org/ontology/order',\n",
       "  'http://dbpedia.org/resource/Bacillales'],\n",
       " ['http://dbpedia.org/resource/Bacillus_mesentericus',\n",
       "  'http://dbpedia.org/ontology/order',\n",
       "  'http://dbpedia.org/resource/Bacillales'],\n",
       " ['http://dbpedia.org/resource/Bacillus_megaterium',\n",
       "  'http://dbpedia.org/ontology/order',\n",
       "  'http://dbpedia.org/resource/Bacillales'],\n",
       " ['http://dbpedia.org/resource/Bacillus_marinus',\n",
       "  'http://dbpedia.org/ontology/order',\n",
       "  'http://dbpedia.org/resource/Bacillales'],\n",
       " ['http://dbpedia.org/resource/Bacillus_licheniformis',\n",
       "  'http://dbpedia.org/ontology/order',\n",
       "  'http://dbpedia.org/resource/Bacillales'],\n",
       " ['http://dbpedia.org/resource/Bacillus_lentimorbus',\n",
       "  'http://dbpedia.org/ontology/order',\n",
       "  'http://dbpedia.org/resource/Bacillales'],\n",
       " ['http://dbpedia.org/resource/Bacillus_infernus',\n",
       "  'http://dbpedia.org/ontology/order',\n",
       "  'http://dbpedia.org/resource/Bacillales'],\n",
       " ['http://dbpedia.org/resource/Bacillus_horti',\n",
       "  'http://dbpedia.org/ontology/order',\n",
       "  'http://dbpedia.org/resource/Bacillales'],\n",
       " ['http://dbpedia.org/resource/Bacillus_horikoshii',\n",
       "  'http://dbpedia.org/ontology/order',\n",
       "  'http://dbpedia.org/resource/Bacillales'],\n",
       " ['http://dbpedia.org/resource/Bacillus_halodurans',\n",
       "  'http://dbpedia.org/ontology/order',\n",
       "  'http://dbpedia.org/resource/Bacillales'],\n",
       " ['http://dbpedia.org/resource/Bacillus_halmapalus',\n",
       "  'http://dbpedia.org/ontology/order',\n",
       "  'http://dbpedia.org/resource/Bacillales'],\n",
       " ['http://dbpedia.org/resource/Bacillus_gibsonii',\n",
       "  'http://dbpedia.org/ontology/order',\n",
       "  'http://dbpedia.org/resource/Bacillales'],\n",
       " ['http://dbpedia.org/resource/Bacillus_gaemokensis',\n",
       "  'http://dbpedia.org/ontology/order',\n",
       "  'http://dbpedia.org/resource/Bacillales'],\n",
       " ['http://dbpedia.org/resource/Bacillus_fusiformis',\n",
       "  'http://dbpedia.org/ontology/order',\n",
       "  'http://dbpedia.org/resource/Bacillales'],\n",
       " ['http://dbpedia.org/resource/Bacillus_fumarioli',\n",
       "  'http://dbpedia.org/ontology/order',\n",
       "  'http://dbpedia.org/resource/Bacillales'],\n",
       " ['http://dbpedia.org/resource/Bacillus_firmus',\n",
       "  'http://dbpedia.org/ontology/order',\n",
       "  'http://dbpedia.org/resource/Bacillales'],\n",
       " ['http://dbpedia.org/resource/Bacillus_fastidiosus',\n",
       "  'http://dbpedia.org/ontology/order',\n",
       "  'http://dbpedia.org/resource/Bacillales'],\n",
       " ['http://dbpedia.org/resource/Bacillus_coahuilensis',\n",
       "  'http://dbpedia.org/ontology/order',\n",
       "  'http://dbpedia.org/resource/Bacillales'],\n",
       " ['http://dbpedia.org/resource/Bacillus_coagulans',\n",
       "  'http://dbpedia.org/ontology/order',\n",
       "  'http://dbpedia.org/resource/Bacillales'],\n",
       " ['http://dbpedia.org/resource/Bacillus_clausii',\n",
       "  'http://dbpedia.org/ontology/order',\n",
       "  'http://dbpedia.org/resource/Bacillales'],\n",
       " ['http://dbpedia.org/resource/Bacillus_clarkii',\n",
       "  'http://dbpedia.org/ontology/order',\n",
       "  'http://dbpedia.org/resource/Bacillales'],\n",
       " ['http://dbpedia.org/resource/Bacillus_circulans',\n",
       "  'http://dbpedia.org/ontology/order',\n",
       "  'http://dbpedia.org/resource/Bacillales'],\n",
       " ['http://dbpedia.org/resource/Bacillus_cereus',\n",
       "  'http://dbpedia.org/ontology/order',\n",
       "  'http://dbpedia.org/resource/Bacillales'],\n",
       " ['http://dbpedia.org/resource/Bacillus_boroniphilus',\n",
       "  'http://dbpedia.org/ontology/order',\n",
       "  'http://dbpedia.org/resource/Bacillales'],\n",
       " ['http://dbpedia.org/resource/Bacillus_badius',\n",
       "  'http://dbpedia.org/ontology/order',\n",
       "  'http://dbpedia.org/resource/Bacillales'],\n",
       " ['http://dbpedia.org/resource/Bacillus_azotoformans',\n",
       "  'http://dbpedia.org/ontology/order',\n",
       "  'http://dbpedia.org/resource/Bacillales'],\n",
       " ['http://dbpedia.org/resource/Bacillus_atrophaeus',\n",
       "  'http://dbpedia.org/ontology/order',\n",
       "  'http://dbpedia.org/resource/Bacillales'],\n",
       " ['http://dbpedia.org/resource/Bacillus_arsenicus',\n",
       "  'http://dbpedia.org/ontology/order',\n",
       "  'http://dbpedia.org/resource/Bacillales'],\n",
       " ['http://dbpedia.org/resource/Bacillus_arseniciselenatis',\n",
       "  'http://dbpedia.org/ontology/order',\n",
       "  'http://dbpedia.org/resource/Bacillales'],\n",
       " ['http://dbpedia.org/resource/Bacillus_anthracis',\n",
       "  'http://dbpedia.org/ontology/order',\n",
       "  'http://dbpedia.org/resource/Bacillales'],\n",
       " ['http://dbpedia.org/resource/Bacillus_amyloliquefaciens',\n",
       "  'http://dbpedia.org/ontology/order',\n",
       "  'http://dbpedia.org/resource/Bacillales'],\n",
       " ['http://dbpedia.org/resource/Bacillus_aminovorans',\n",
       "  'http://dbpedia.org/ontology/order',\n",
       "  'http://dbpedia.org/resource/Bacillales'],\n",
       " ['http://dbpedia.org/resource/Bacillus_altitudinis',\n",
       "  'http://dbpedia.org/ontology/order',\n",
       "  'http://dbpedia.org/resource/Bacillales'],\n",
       " ['http://dbpedia.org/resource/Bacillus_alcalophilus',\n",
       "  'http://dbpedia.org/ontology/order',\n",
       "  'http://dbpedia.org/resource/Bacillales'],\n",
       " ['http://dbpedia.org/resource/Bacillus_agaradhaerens',\n",
       "  'http://dbpedia.org/ontology/order',\n",
       "  'http://dbpedia.org/resource/Bacillales'],\n",
       " ['http://dbpedia.org/resource/Bacillus_aerophilus',\n",
       "  'http://dbpedia.org/ontology/order',\n",
       "  'http://dbpedia.org/resource/Bacillales'],\n",
       " ['http://dbpedia.org/resource/Bacillus_aerius',\n",
       "  'http://dbpedia.org/ontology/order',\n",
       "  'http://dbpedia.org/resource/Bacillales'],\n",
       " ['http://dbpedia.org/resource/Bacillus',\n",
       "  'http://dbpedia.org/ontology/order',\n",
       "  'http://dbpedia.org/resource/Bacillales'],\n",
       " ['http://dbpedia.org/resource/Bacillaceae',\n",
       "  'http://dbpedia.org/ontology/order',\n",
       "  'http://dbpedia.org/resource/Bacillales'],\n",
       " ['http://dbpedia.org/resource/Anoxybacillus_gonensis',\n",
       "  'http://dbpedia.org/ontology/order',\n",
       "  'http://dbpedia.org/resource/Bacillales'],\n",
       " ['http://dbpedia.org/resource/Amphibacillus_xylanus',\n",
       "  'http://dbpedia.org/ontology/order',\n",
       "  'http://dbpedia.org/resource/Bacillales'],\n",
       " ['http://dbpedia.org/resource/Alkalibacillus',\n",
       "  'http://dbpedia.org/ontology/order',\n",
       "  'http://dbpedia.org/resource/Bacillales'],\n",
       " ['http://dbpedia.org/resource/Alicyclobacillus_acidiphilus',\n",
       "  'http://dbpedia.org/ontology/order',\n",
       "  'http://dbpedia.org/resource/Bacillales'],\n",
       " ['http://dbpedia.org/resource/Alicyclobacillus',\n",
       "  'http://dbpedia.org/ontology/order',\n",
       "  'http://dbpedia.org/resource/Bacillales'],\n",
       " ['http://dbpedia.org/resource/Alicyclobacillaceae',\n",
       "  'http://dbpedia.org/ontology/order',\n",
       "  'http://dbpedia.org/resource/Bacillales'],\n",
       " ['http://dbpedia.org/resource/Aeribacillus',\n",
       "  'http://dbpedia.org/ontology/order',\n",
       "  'http://dbpedia.org/resource/Bacillales']]"
      ]
     },
     "execution_count": 13,
     "metadata": {},
     "output_type": "execute_result"
    }
   ],
   "source": [
    "querry_res"
   ]
  },
  {
   "cell_type": "code",
   "execution_count": 15,
   "metadata": {
    "collapsed": false
   },
   "outputs": [],
   "source": [
    "expected = result_data[5][\"result_urlonly\"]"
   ]
  },
  {
   "cell_type": "code",
   "execution_count": 16,
   "metadata": {
    "collapsed": false
   },
   "outputs": [],
   "source": [
    "uris = set([item[0] for item in querry_res])"
   ]
  },
  {
   "cell_type": "code",
   "execution_count": 17,
   "metadata": {
    "collapsed": false
   },
   "outputs": [
    {
     "data": {
      "text/plain": [
       "set()"
      ]
     },
     "execution_count": 17,
     "metadata": {},
     "output_type": "execute_result"
    }
   ],
   "source": [
    "set(expected) - set(uris)"
   ]
  },
  {
   "cell_type": "code",
   "execution_count": 18,
   "metadata": {
    "collapsed": false
   },
   "outputs": [
    {
     "data": {
      "text/plain": [
       "['http://dbpedia.org/resource/Jeotgalicoccus_halophilus',\n",
       " 'http://dbpedia.org/resource/Bacillus_subtilis',\n",
       " 'http://dbpedia.org/resource/Jeotgalicoccus_marinus',\n",
       " 'http://dbpedia.org/resource/Macrococcus_hajekii']"
      ]
     },
     "execution_count": 18,
     "metadata": {},
     "output_type": "execute_result"
    }
   ],
   "source": [
    "result_data[5][\"seed\"]"
   ]
  },
  {
   "cell_type": "code",
   "execution_count": 32,
   "metadata": {
    "collapsed": false
   },
   "outputs": [],
   "source": [
    "from algorithm.graphwalk_functions_v2 import get_forward1\n",
    "from excludes.basic_excludes import (node_excl_yago_func, node_excl_extra,\n",
    "                                     node_excl_owlthing_func, node_excl_wiki_func)"
   ]
  },
  {
   "cell_type": "code",
   "execution_count": 33,
   "metadata": {
    "collapsed": false
   },
   "outputs": [],
   "source": [
    "exclude_paths = [\n",
    "    [\"\", \"http://www.w3.org/1999/02/22-rdf-syntax-ns#type\", \"http://www.w3.org/2004/02/skos/core#Concept\"]\n",
    "]\n",
    "relation_excludes = [\"http://xmlns.com/foaf/0.1/primaryTopic\",\n",
    "                     \"http://dbpedia.org/property/isCitedBy\",\n",
    "                     \"http://dbpedia.org/ontology/wikiPageWikiLink\",\n",
    "                     \"http://dbpedia.org/ontology/wikiPageWikiLinkText\",\n",
    "                     \"http://dbpedia.org/property/wikiPageUsesTemplate\",\n",
    "                     'http://dbpedia.org/ontology/wikiPageRedirects',\n",
    "                     'http://dbpedia.org/ontology/wikiPageOutDegree',\n",
    "                     \"http://dbpedia.org/ontology/abstract\",\n",
    "                     \"http://www.w3.org/2000/01/rdf-schema#comment\", ]\n",
    "\n",
    "node_excludes_funcs = [node_excl_wiki_func, node_excl_owlthing_func, node_excl_yago_func, node_excl_extra]"
   ]
  },
  {
   "cell_type": "code",
   "execution_count": 38,
   "metadata": {
    "collapsed": false
   },
   "outputs": [],
   "source": [
    "forward_res = get_forward1(result_data[5][\"seed\"],  [], relation_excludes, node_excludes_funcs)\n",
    "forward_res2 = [item[0].split(\"@@@\") for item in forward_res]"
   ]
  },
  {
   "cell_type": "code",
   "execution_count": 39,
   "metadata": {
    "collapsed": false
   },
   "outputs": [
    {
     "data": {
      "text/plain": [
       "[['http://dbpedia.org/property/classis',\n",
       "  'http://dbpedia.org/resource/Bacilli'],\n",
       " ['http://www.w3.org/1999/02/22-rdf-syntax-ns#type',\n",
       "  'http://dbpedia.org/ontology/Species'],\n",
       " ['http://dbpedia.org/property/domain',\n",
       "  'http://dbpedia.org/resource/Bacteria'],\n",
       " ['http://dbpedia.org/property/ordo',\n",
       "  'http://dbpedia.org/resource/Bacillales'],\n",
       " ['http://dbpedia.org/ontology/order',\n",
       "  'http://dbpedia.org/resource/Bacillales'],\n",
       " ['http://dbpedia.org/ontology/phylum',\n",
       "  'http://dbpedia.org/resource/Firmicutes'],\n",
       " ['http://dbpedia.org/property/phylum',\n",
       "  'http://dbpedia.org/resource/Firmicutes'],\n",
       " ['http://dbpedia.org/ontology/class', 'http://dbpedia.org/resource/Bacilli'],\n",
       " ['http://www.w3.org/1999/02/22-rdf-syntax-ns#type',\n",
       "  'http://dbpedia.org/ontology/Bacteria'],\n",
       " ['http://dbpedia.org/ontology/domain',\n",
       "  'http://dbpedia.org/resource/Bacteria']]"
      ]
     },
     "execution_count": 39,
     "metadata": {},
     "output_type": "execute_result"
    }
   ],
   "source": [
    "forward_res2"
   ]
  },
  {
   "cell_type": "code",
   "execution_count": 40,
   "metadata": {
    "collapsed": false
   },
   "outputs": [
    {
     "data": {
      "text/plain": [
       "[['http://dbpedia.org/ontology/order',\n",
       "  'http://dbpedia.org/resource/Bacillales']]"
      ]
     },
     "execution_count": 40,
     "metadata": {},
     "output_type": "execute_result"
    }
   ],
   "source": [
    "list(filter(lambda x: x[0] == \"http://dbpedia.org/ontology/order\", forward_res2))"
   ]
  },
  {
   "cell_type": "code",
   "execution_count": 31,
   "metadata": {
    "collapsed": false
   },
   "outputs": [
    {
     "data": {
      "text/plain": [
       "defaultdict(list,\n",
       "            {'forward': [['?uri',\n",
       "               'http://dbpedia.org/ontology/domain',\n",
       "               'http://dbpedia.org/resource/Bacteria'],\n",
       "              ['?uri',\n",
       "               'http://www.w3.org/1999/02/22-rdf-syntax-ns#type',\n",
       "               'http://dbpedia.org/ontology/Bacteria'],\n",
       "              ['?uri',\n",
       "               'http://www.w3.org/1999/02/22-rdf-syntax-ns#type',\n",
       "               'http://dbpedia.org/ontology/Species'],\n",
       "              ['?uri',\n",
       "               'http://dbpedia.org/property/domain',\n",
       "               'http://dbpedia.org/resource/Bacteria'],\n",
       "              ['?uri',\n",
       "               'http://dbpedia.org/property/classis',\n",
       "               'http://dbpedia.org/resource/Bacilli'],\n",
       "              ['?uri',\n",
       "               'http://dbpedia.org/ontology/class',\n",
       "               'http://dbpedia.org/resource/Bacilli']],\n",
       "             'invalids': [],\n",
       "             'backward2': [],\n",
       "             'backward': []})"
      ]
     },
     "execution_count": 31,
     "metadata": {},
     "output_type": "execute_result"
    }
   ],
   "source": [
    "result_data[5][\"explanation\"]"
   ]
  },
  {
   "cell_type": "code",
   "execution_count": 5,
   "metadata": {
    "collapsed": false
   },
   "outputs": [
    {
     "data": {
      "text/plain": [
       "'SELECT DISTINCT ?uri WHERE { <http://purl.org/dc/terms/subject> <http://dbpedia.org/ontology/birthPlace> ?uri <http://purl.org/dc/terms/subject> <http://dbpedia.org/resource/Category:1983_births> ?aaj } LIMIT 1000'"
      ]
     },
     "execution_count": 5,
     "metadata": {},
     "output_type": "execute_result"
    }
   ],
   "source": []
  },
  {
   "cell_type": "code",
   "execution_count": 9,
   "metadata": {
    "collapsed": false
   },
   "outputs": [],
   "source": [
    "x = run_sparql_query(\"SELECT DISTINCT ?uri WHERE { <http://purl.org/dc/terms/subject> <http://dbpedia.org/ontology/birthPlace> ?uri . <http://purl.org/dc/terms/subject> <http://dbpedia.org/resource/Category:1983_births> ?aaj } LIMIT 1000\")"
   ]
  },
  {
   "cell_type": "code",
   "execution_count": 10,
   "metadata": {
    "collapsed": false
   },
   "outputs": [],
   "source": [
    "x"
   ]
  },
  {
   "cell_type": "code",
   "execution_count": 10,
   "metadata": {
    "collapsed": false
   },
   "outputs": [
    {
     "name": "stdout",
     "output_type": "stream",
     "text": [
      "Error --> QueryBadFormed: A bad request has been sent to the endpoint: probably the SPARQL query is badly formed. \n",
      "\n",
      "Response:\n",
      "b\"Virtuoso 37000 Error SP030: SPARQL compiler, line 3: syntax error at '<' before 'http:'\\n\\nSPARQL query:\\ndefine sql:big-data-const 0\\n#output-format:application/sparql-results+json\\nSELECT DISTINCT ?uri WHERE { ?uri <http://www.w3.org/1999/02/22-rdf-syntax-ns#type> ?am . <http://dbpedia.org/resource/`okinas> <http://www.w3.org/1999/02/22-rdf-syntax-ns#type> ?am } LIMIT 1000\"\n"
     ]
    }
   ],
   "source": [
    "x = run_sparql_query(\"SELECT DISTINCT ?uri WHERE { ?uri <http://www.w3.org/1999/02/22-rdf-syntax-ns#type> ?am . <http://dbpedia.org/resource/`okinas> <http://www.w3.org/1999/02/22-rdf-syntax-ns#type> ?am } LIMIT 1000\")"
   ]
  },
  {
   "cell_type": "code",
   "execution_count": 7,
   "metadata": {
    "collapsed": false
   },
   "outputs": [],
   "source": [
    "x"
   ]
  },
  {
   "cell_type": "code",
   "execution_count": 4,
   "metadata": {
    "collapsed": false
   },
   "outputs": [
    {
     "name": "stdout",
     "output_type": "stream",
     "text": [
      "Error --> QueryBadFormed: A bad request has been sent to the endpoint: probably the SPARQL query is badly formed. \n",
      "\n",
      "Response:\n",
      "b'Virtuoso 37000 Error SP030: SPARQL compiler, line 3: syntax error at \\'Truth\\' before \\'Alone\\'\\n\\nSPARQL query:\\ndefine sql:big-data-const 0\\n#output-format:application/sparql-results+json\\nSELECT DISTINCT ?uri WHERE { ?uri <http://dbpedia.org/ontology/country> ?az . ?az <http://dbpedia.org/property/englishmotto> \"\"Truth Alone Triumphs\"\" . } LIMIT 5000'\n"
     ]
    }
   ],
   "source": [
    "x = run_sparql_query('SELECT DISTINCT ?uri WHERE { ?uri <http://dbpedia.org/ontology/country> ?az . ?az <http://dbpedia.org/property/englishmotto> \"\"Truth Alone Triumphs\"\" . } LIMIT 5000'\n",
    ")"
   ]
  },
  {
   "cell_type": "code",
   "execution_count": 5,
   "metadata": {
    "collapsed": false
   },
   "outputs": [],
   "source": [
    "x = run_sparql_query('SELECT DISTINCT ?uri WHERE { ?uri <http://dbpedia.org/ontology/country> ?az . ?az <http://dbpedia.org/property/englishmotto> \"Truth Alone Triumphs\" . } LIMIT 5000'\n",
    "                     )"
   ]
  },
  {
   "cell_type": "code",
   "execution_count": 6,
   "metadata": {
    "collapsed": false
   },
   "outputs": [],
   "source": [
    "x"
   ]
  },
  {
   "cell_type": "code",
   "execution_count": 7,
   "metadata": {
    "collapsed": false
   },
   "outputs": [
    {
     "data": {
      "text/plain": [
       "NoneType"
      ]
     },
     "execution_count": 7,
     "metadata": {},
     "output_type": "execute_result"
    }
   ],
   "source": [
    "type(x)"
   ]
  },
  {
   "cell_type": "code",
   "execution_count": 8,
   "metadata": {
    "collapsed": false
   },
   "outputs": [
    {
     "name": "stdout",
     "output_type": "stream",
     "text": [
      "Error --> QueryBadFormed: A bad request has been sent to the endpoint: probably the SPARQL query is badly formed. \n",
      "\n",
      "Response:\n",
      "b'Virtuoso 37000 Error SP030: SPARQL compiler, line 0: End-of-line in a short double-quoted string at \\'\"Scientific theories\\n\\'\\n\\nSPARQL query:\\ndefine sql:big-data-const 0\\n#output-format:application/sparql-results+json\\nSELECT DISTINCT ?x ?y WHERE { \"Scientific theories\\n;Characters\\n: Unseen University Staff, Charles Darwin, Auditors of Reality\\n;Locations\\n: Roundworld\" ?x ?y .   }'\n"
     ]
    }
   ],
   "source": [
    "run_sparql_query('SELECT DISTINCT ?x ?y WHERE { \"Scientific theories\\n;Characters\\n: Unseen University Staff, Charles Darwin, Auditors of Reality\\n;Locations\\n: Roundworld\" ?x ?y .   }')"
   ]
  },
  {
   "cell_type": "code",
   "execution_count": null,
   "metadata": {
    "collapsed": false
   },
   "outputs": [],
   "source": []
  }
 ],
 "metadata": {
  "kernelspec": {
   "display_name": "Python [conda env:continue] *",
   "language": "python",
   "name": "conda-env-continue-py"
  },
  "language_info": {
   "codemirror_mode": {
    "name": "ipython",
    "version": 2
   },
   "file_extension": ".py",
   "mimetype": "text/x-python",
   "name": "python",
   "nbconvert_exporter": "python",
   "pygments_lexer": "ipython2",
   "version": "2.7.6"
  }
 },
 "nbformat": 4,
 "nbformat_minor": 0
}
