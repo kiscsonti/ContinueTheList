{
 "cells": [
  {
   "cell_type": "code",
   "execution_count": null,
   "metadata": {},
   "outputs": [],
   "source": [
    "import pandas as pd\n",
    "%load_ext autoreload\n",
    "%autoreload 2"
   ]
  },
  {
   "cell_type": "code",
   "execution_count": null,
   "metadata": {},
   "outputs": [],
   "source": [
    "import os\n",
    "import sys\n",
    "module_path = os.path.abspath(os.path.join('..'))\n",
    "if module_path not in sys.path:\n",
    "    sys.path.append(module_path)"
   ]
  },
  {
   "cell_type": "code",
   "execution_count": null,
   "metadata": {},
   "outputs": [],
   "source": [
    "from algorithm.graphwalk_functions_v3 import (run_on_dataset,\n",
    "                                              run_grapwalk_function_v3)\n",
    "from excludes.basic_excludes import (node_excl_yago_func, node_excl_extra, node_english_only_func, rel_excl_wiki_func,\n",
    "                                     node_excl_owlthing_func, node_excl_wiki_func, long_node_exclude_func)\n",
    "from loaders.loaders import *\n",
    "from evaluation.split_dataset import split_on_seed_dataset\n",
    "import json\n",
    "import pickle\n",
    "\n",
    "exclude_paths = []\n",
    "relation_excludes = [\"http://xmlns.com/foaf/0.1/primaryTopic\",\n",
    "                     'http://xmlns.com/foaf/0.1/isPrimaryTopicOf',\n",
    "                     \"http://dbpedia.org/property/isCitedBy\",\n",
    "                     \"http://dbpedia.org/ontology/abstract\",\n",
    "                     \"http://www.w3.org/2000/01/rdf-schema#comment\",\n",
    "                     'http://www.w3.org/ns/prov#wasDerivedFrom',\n",
    "                     'http://xmlns.com/foaf/0.1/Document',\n",
    "                     'http://purl.org/dc/terms/subject',\n",
    "                     'http://purl.org/dc/elements/1.1/language',\n",
    "                     'http://www.w3.org/2002/07/owl#Class',\n",
    "                     'http://www.w3.org/2004/02/skos/core#Concept',\n",
    "                     'http://purl.org/linguistics/gold/hypernym',\n",
    "\n",
    "                     'http://www.w3.org/2000/01/rdf-schema#label',\n",
    "                     'http://www.w3.org/2002/07/owl#sameAs',\n",
    "                     'http://xmlns.com/foaf/0.1/name',\n",
    "                     'http://dbpedia.org/ontology/wikiPageExternalLink',\n",
    "                     'http://dbpedia.org/property/name',\n",
    "                     'http://xmlns.com/foaf/0.1/depiction',\n",
    "                     'http://dbpedia.org/ontology/thumbnail',\n",
    "                     'http://xmlns.com/foaf/0.1/homepage',\n",
    "                     'http://www.w3.org/2003/01/geo/wgs84_pos#long',\n",
    "                     'http://www.w3.org/2003/01/geo/wgs84_pos#lat',\n",
    "                     'http://www.georss.org/georss/point',\n",
    "\n",
    "                     \"http://dbpedia.org/property/wordnet_type\",\n",
    "                     'http://dbpedia.org/ontology/utcOffset',\n",
    "                     'http://dbpedia.org/property/subdivisionType',\n",
    "                     'http://dbpedia.org/ontology/background',\n",
    "                     'http://dbpedia.org/property/blankName',\n",
    "\n",
    "                     # \"http://dbpedia.org/ontology/wikiPageWikiLink\",\n",
    "                     # \"http://dbpedia.org/ontology/wikiPageWikiLinkText\",\n",
    "                     # \"http://dbpedia.org/property/wikiPageUsesTemplate\",\n",
    "                     # 'http://dbpedia.org/ontology/wikiPageRedirects',\n",
    "                     # 'http://dbpedia.org/ontology/wikiPageOutDegree',\n",
    "                     # 'http://dbpedia.org/ontology/wikiPageDisambiguates',\n",
    "                     # 'http://dbpedia.org/ontology/wikiPageID',\n",
    "                     # 'http://dbpedia.org/ontology/wikiPageLength',\n",
    "                     # 'http://dbpedia.org/ontology/wikiPageRevisionID',\n",
    "                     ]\n",
    "\n",
    "\n",
    "\n",
    "forward_step1_rel_excludes = [\"http://www.w3.org/1999/02/22-rdf-syntax-ns#type\"]\n",
    "backward_step1_rel_excludes = [\"http://www.w3.org/1999/02/22-rdf-syntax-ns#type\"]\n",
    "\n",
    "res_excludes_inside_point_relation = [\"http://purl.org/linguistics/gold/hypernym\",\n",
    "                                      # \"http://www.w3.org/1999/02/22-rdf-syntax-ns#type\"\n",
    "                                      ]\n",
    "res_excludes_inside_point_node = []\n",
    "node_excludes_funcs = [node_excl_wiki_func, node_excl_owlthing_func, node_excl_yago_func, node_excl_extra,\n",
    "                       node_english_only_func, long_node_exclude_func]\n",
    "relation_excludes_funcs = [rel_excl_wiki_func]\n",
    "\n",
    "SEED = 44\n",
    "SAMPLE_SIZE = 4\n",
    "verbose = 1\n",
    "\n",
    "#Dataset load\n",
    "#lc_quad_train = load_lc_quad_train()\n",
    "\n",
    "lc_quad_train = load_on_path(ds_lc_quad_train_cleaned)\n",
    "splitted_lcquad = split_on_seed_dataset(lc_quad_train, SAMPLE_SIZE, SEED)\n",
    "\n",
    "# splitted_lcquad = load_on_path_pickle(\"/home/kardosp/continuethelist/outputs/graphwalk_v2_output_sample4.pickle\")"
   ]
  },
  {
   "cell_type": "code",
   "execution_count": null,
   "metadata": {},
   "outputs": [],
   "source": []
  },
  {
   "cell_type": "code",
   "execution_count": 59,
   "metadata": {},
   "outputs": [],
   "source": []
  },
  {
   "cell_type": "code",
   "execution_count": 60,
   "metadata": {},
   "outputs": [
    {
     "data": {
      "text/plain": [
       "['http://dbpedia.org/resource/Westminster,_Colorado',\n",
       " 'http://dbpedia.org/resource/San_Francisco',\n",
       " 'http://dbpedia.org/resource/Tamil_Nadu',\n",
       " 'http://dbpedia.org/resource/Seattle']"
      ]
     },
     "execution_count": 60,
     "metadata": {},
     "output_type": "execute_result"
    }
   ],
   "source": [
    "splitted_lcquad[0][\"seed\"]"
   ]
  },
  {
   "cell_type": "code",
   "execution_count": 61,
   "metadata": {},
   "outputs": [
    {
     "name": "stdout",
     "output_type": "stream",
     "text": [
      "Forward Done!\n",
      "Backward Done!\n",
      "backward-forward\n"
     ]
    },
    {
     "name": "stderr",
     "output_type": "stream",
     "text": [
      "commonrel: 100%|██████████████████████████████████| 4/4 [00:06<00:00,  1.61s/it]\n"
     ]
    },
    {
     "name": "stdout",
     "output_type": "stream",
     "text": [
      "Backward_forward Done!\n"
     ]
    },
    {
     "name": "stderr",
     "output_type": "stream",
     "text": [
      "commonrel:  48%|███████████████▎                | 12/25 [00:38<00:42,  3.29s/it]"
     ]
    },
    {
     "name": "stdout",
     "output_type": "stream",
     "text": [
      "Error --> QueryBadFormed: A bad request has been sent to the endpoint: probably the SPARQL query is badly formed. \n",
      "\n",
      "Response:\n",
      "b'Virtuoso 37000 Error SP030: SPARQL compiler, line 3: syntax error at \\'Chuy\\' before \\'\" Olivares\"\\'\\n\\nSPARQL query:\\ndefine sql:big-data-const 0\\n#output-format:application/sparql-results+json\\nSELECT DISTINCT ?x ?y WHERE {SELECT DISTINCT ?x ?y WHERE { ?x ?y \"Jesus R. \"Chuy\" Olivares\"  .   }  ORDER BY DESC(?x) DESC(?y) } LIMIT 10000 OFFSET 0'\n"
     ]
    },
    {
     "name": "stderr",
     "output_type": "stream",
     "text": [
      "commonrel: 100%|████████████████████████████████| 25/25 [04:22<00:00, 10.50s/it]\n"
     ]
    },
    {
     "name": "stdout",
     "output_type": "stream",
     "text": [
      "Forward_backward Done!\n",
      "res_forward 14\n",
      "res_backward 2\n",
      "backward_forward 25\n",
      "backward_forward 13\n"
     ]
    },
    {
     "name": "stderr",
     "output_type": "stream",
     "text": [
      "100%|██████████████████████████████████████████| 14/14 [00:00<00:00, 177.24it/s]\n",
      "100%|████████████████████████████████████████████| 2/2 [00:00<00:00, 196.24it/s]\n",
      "100%|██████████████████████████████████████████| 25/25 [00:00<00:00, 138.90it/s]\n",
      "100%|██████████████████████████████████████████| 13/13 [00:00<00:00, 138.03it/s]\n"
     ]
    },
    {
     "name": "stdout",
     "output_type": "stream",
     "text": [
      "Complex2\n",
      "record_seed ['http://dbpedia.org/resource/Marshall,_Texas', 'http://dbpedia.org/resource/Laredo,_Texas', 'http://dbpedia.org/resource/Sallisaw,_Oklahoma', 'http://dbpedia.org/resource/Avoca,_Iowa']\n",
      "record_results:  {'http://dbpedia.org/resource/Marshall,_Texas', 'http://dbpedia.org/resource/Laredo,_Texas', 'http://dbpedia.org/resource/Sallisaw,_Oklahoma', 'http://dbpedia.org/resource/Texarkana,_Texas', 'http://dbpedia.org/resource/Ottawa,_Kansas', 'http://dbpedia.org/resource/Worthington,_Minnesota', 'http://dbpedia.org/resource/Fergus_Falls,_Minnesota', 'http://dbpedia.org/resource/Avoca,_Iowa', 'http://dbpedia.org/resource/Lawrence,_Kansas', 'http://dbpedia.org/resource/Houston'}\n",
      "forward 14 9\n",
      "backward 2 2\n",
      "backward_forward 25 22\n",
      "forward_backward 13 12\n",
      "len record_results:  10\n"
     ]
    }
   ],
   "source": [
    "\n",
    "# lcquad_output = run_on_dataset(splitted_lcquad, exclude_paths, relation_excludes, node_excludes_funcs)\n",
    "record = splitted_lcquad[18]\n",
    "result, explanation = run_grapwalk_function_v3(record[\"seed\"], exclude_paths, relation_excludes,\n",
    "                                               node_excludes_funcs,\n",
    "                                               forward_step1_rel_excludes,\n",
    "                                               backward_step1_rel_excludes,\n",
    "                                               relation_excludes_funcs,\n",
    "                                               verbose=verbose)"
   ]
  },
  {
   "cell_type": "code",
   "execution_count": null,
   "metadata": {},
   "outputs": [],
   "source": [
    "for k, v in explanation.items():\n",
    "    print(k, len(v))"
   ]
  },
  {
   "cell_type": "code",
   "execution_count": null,
   "metadata": {},
   "outputs": [],
   "source": [
    "result"
   ]
  },
  {
   "cell_type": "code",
   "execution_count": null,
   "metadata": {},
   "outputs": [],
   "source": [
    "explanation[\"forward_backward\"]"
   ]
  },
  {
   "cell_type": "markdown",
   "metadata": {},
   "source": [
    "# Record 45 testing"
   ]
  },
  {
   "cell_type": "code",
   "execution_count": null,
   "metadata": {},
   "outputs": [],
   "source": [
    "\n",
    "# lcquad_output = run_on_dataset(splitted_lcquad, exclude_paths, relation_excludes, node_excludes_funcs)\n",
    "record = splitted_lcquad[18]\n",
    "result, explanation = run_grapwalk_function_v3(record[\"seed\"], exclude_paths, relation_excludes,\n",
    "                                               node_excludes_funcs, forward_step1_rel_excludes,\n",
    "                                               relation_excludes_funcs, verbose=verbose)\n"
   ]
  },
  {
   "cell_type": "code",
   "execution_count": null,
   "metadata": {
    "collapsed": false
   },
   "outputs": [],
   "source": [
    "print(\"OK\")"
   ]
  },
  {
   "cell_type": "code",
   "execution_count": null,
   "metadata": {
    "collapsed": false
   },
   "outputs": [],
   "source": [
    "from algorithm.graphwalk_functions_v3 import get_task_solution\n",
    "record = splitted_lcquad[18]\n",
    "\n",
    "result = get_task_solution(record[\"seed\"], exclude_paths, relation_excludes, node_excludes_funcs,\n",
    "                           forward_step1_rel_excludes, backward_step1_rel_excludes, relation_excludes_funcs)"
   ]
  },
  {
   "cell_type": "code",
   "execution_count": null,
   "metadata": {
    "collapsed": false
   },
   "outputs": [],
   "source": []
  },
  {
   "cell_type": "code",
   "execution_count": null,
   "metadata": {
    "collapsed": false
   },
   "outputs": [],
   "source": [
    "from algorithm.graphwalk_functions_v3 import variable_start, get_forward1, get_backward1, get_backward_insidepoint, get_forward_insidepoint\n",
    "from collections import defaultdict\n",
    "record = splitted_lcquad[18]\n",
    "task_seed = record[\"seed\"]\n",
    "variable_state = variable_start\n",
    "final_connection_list = defaultdict(list)\n",
    "res_forward = get_forward1(task_seed, exclude_paths, relation_excludes, node_excludes_funcs,\n",
    "                           relation_excludes_funcs)\n",
    "for item in res_forward:\n",
    "    conn = item[0].split(\"@@@\")\n",
    "    final_connection_list[\"forward\"].append([\"?uri\"] + conn)\n",
    "print(\"Forward Done!\")\n",
    "\n",
    "res_backward = get_backward1(task_seed, exclude_paths, relation_excludes, node_excludes_funcs,\n",
    "                             relation_excludes_funcs)\n",
    "for item in res_backward:\n",
    "    conn = item[0].split(\"@@@\")\n",
    "    final_connection_list[\"backward\"].append(conn + [\"?uri\"])\n",
    "print(\"Backward Done!\")"
   ]
  },
  {
   "cell_type": "code",
   "execution_count": null,
   "metadata": {
    "collapsed": false
   },
   "outputs": [],
   "source": [
    "(res_backward_forward,\n",
    " variable_state, qerror_bf) = get_backward_insidepoint(task_seed, variable_state,\n",
    "                                                       final_connection_list[\"backward\"],\n",
    "                                                       exclude_paths,\n",
    "                                                       relation_excludes,\n",
    "                                                       node_excludes_funcs,\n",
    "                                                       backward_step1_rel_excludes,\n",
    "                                                       relation_excludes_funcs,\n",
    "                                                       )\n",
    "for item in res_backward_forward:\n",
    "    final_connection_list[\"backward_forward\"].append(item)\n",
    "# for item in res_backward_backward:\n",
    "#     final_connection_list[\"backward_backward\"].append(item)\n",
    "print(\"Backward_forward Done!\")\n",
    "\n",
    "(res_forward_backward,\n",
    " variable_state, qerror_fb) = get_forward_insidepoint(task_seed, variable_state,\n",
    "                                                      final_connection_list[\"forward\"],\n",
    "                                                      exclude_paths, relation_excludes,\n",
    "                                                      node_excludes_funcs,\n",
    "                                                      forward_step1_rel_excludes,\n",
    "                                                      relation_excludes_funcs,\n",
    "                                                      )"
   ]
  },
  {
   "cell_type": "code",
   "execution_count": null,
   "metadata": {
    "collapsed": false
   },
   "outputs": [],
   "source": [
    "for k, v in result.items():\n",
    "    print(k, len(v))"
   ]
  },
  {
   "cell_type": "code",
   "execution_count": null,
   "metadata": {
    "collapsed": false
   },
   "outputs": [],
   "source": [
    "from collections import Counter\n",
    "\n",
    "edge1_cont = list()\n",
    "for item in result[\"forward\"]:\n",
    "    edge1_cont.append(item[1])\n",
    "Counter(edge1_cont)"
   ]
  },
  {
   "cell_type": "code",
   "execution_count": null,
   "metadata": {
    "collapsed": false
   },
   "outputs": [],
   "source": [
    "from collections import Counter\n",
    "\n",
    "edge1_cont = list()\n",
    "for item in result[\"forward_backward\"]:\n",
    "    edge1_cont.append(item[0][1])\n",
    "Counter(edge1_cont)"
   ]
  },
  {
   "cell_type": "code",
   "execution_count": null,
   "metadata": {
    "collapsed": false
   },
   "outputs": [],
   "source": [
    "from algorithm.graphwalk_functions_v3 import clear_results\n",
    "from collections import defaultdict\n",
    "\n",
    "filtered_results = defaultdict(list)\n",
    "for k, v in result.items():\n",
    "    valid, invalid = clear_results(v)\n",
    "    filtered_results[k] = valid\n",
    "    filtered_results[\"invalids\"].extend(invalid)"
   ]
  },
  {
   "cell_type": "code",
   "execution_count": null,
   "metadata": {
    "collapsed": false
   },
   "outputs": [],
   "source": [
    "filtered_results[\"backward_forward\"]"
   ]
  },
  {
   "cell_type": "code",
   "execution_count": null,
   "metadata": {
    "collapsed": false
   },
   "outputs": [],
   "source": [
    "final_connection_list[\"backward_forward\"]"
   ]
  },
  {
   "cell_type": "code",
   "execution_count": null,
   "metadata": {
    "collapsed": false
   },
   "outputs": [],
   "source": [
    "from algorithm.graphwalk_functions_v3 import complex_partly_query_run2, count_from_triples\n",
    "\n",
    "backward_forward = list(map(lambda x: [x, count_from_triples(x)], filtered_results[\"backward_forward\"]))\n",
    "filtered_results[\"backward_forward\"] = sorted(backward_forward, key=lambda x: x[1])\n",
    "\n",
    "forward_backward = list(map(lambda x: [x, count_from_triples(x)], filtered_results[\"forward_backward\"]))\n",
    "filtered_results[\"forward_backward\"] = sorted(forward_backward, key=lambda x: x[1])\n",
    "\n",
    "triples_size = (len(filtered_results[\"forward\"]) +\n",
    "                len(filtered_results[\"backward\"]) +\n",
    "                len(filtered_results[\"backward_forward\"]) +\n",
    "                len(filtered_results[\"forward_backward\"])\n",
    "                )\n"
   ]
  },
  {
   "cell_type": "code",
   "execution_count": null,
   "metadata": {
    "collapsed": false
   },
   "outputs": [],
   "source": [
    "print(\"OK\")"
   ]
  },
  {
   "cell_type": "code",
   "execution_count": null,
   "metadata": {
    "collapsed": false
   },
   "outputs": [],
   "source": [
    "record_results = complex_partly_query_run2(filtered_results)"
   ]
  },
  {
   "cell_type": "code",
   "execution_count": null,
   "metadata": {},
   "outputs": [],
   "source": [
    "from collections import defaultdict\n",
    "from algorithm.graphwalk_functions_v3 import get_forward1, get_backward_insidepoint, get_backward1, get_forward_insidepoint, exclude_relations\n",
    "\n",
    "variable_start = \"aaaa\"\n",
    "variable_state = variable_start\n",
    "\n",
    "record = splitted_lcquad[18]\n",
    "task_seed = record[\"seed\"]\n",
    "\n",
    "final_connection_list = defaultdict(list)\n",
    "# res_forward = get_forward1(task_seed, exclude_paths, relation_excludes, node_excludes_funcs, relation_excludes_funcs)\n",
    "# for item in res_forward:\n",
    "#     conn = item[0].split(\"@@@\")\n",
    "#     final_connection_list[\"forward\"].append([\"?uri\"] + conn)\n",
    "# print(\"Forward Done!\")\n",
    "#\n",
    "# res_backward = get_backward1(task_seed, exclude_paths, relation_excludes, node_excludes_funcs, relation_excludes_funcs)\n",
    "# for item in res_backward:\n",
    "#     conn = item[0].split(\"@@@\")\n",
    "#     final_connection_list[\"backward\"].append(conn + [\"?uri\"])\n",
    "# print(\"Backward Done!\")"
   ]
  },
  {
   "cell_type": "code",
   "execution_count": null,
   "metadata": {
    "pycharm": {
     "is_executing": true
    }
   },
   "outputs": [],
   "source": [
    "res_backward2, variable_state, query_error1 = get_backward_insidepoint(task_seed, variable_state,\n",
    "                                                                      exclude_paths, relation_excludes,\n",
    "                                                                      node_excludes_funcs, relation_excludes_funcs)\n",
    "for item in res_backward2:\n",
    "    final_connection_list[\"backward2\"].append(item)\n",
    "print(\"Backward Inside Point Done!\")\n"
   ]
  },
  {
   "cell_type": "code",
   "execution_count": null,
   "metadata": {},
   "outputs": [],
   "source": [
    "res_forward2, variable_state, query_error2 = get_forward_insidepoint(task_seed, variable_state,\n",
    "                                                                     exclude_paths, relation_excludes,\n",
    "                                                                     node_excludes_funcs,\n",
    "                                                                     forward_step1_rel_excludes,\n",
    "                                                                     relation_excludes_funcs)"
   ]
  },
  {
   "cell_type": "code",
   "execution_count": null,
   "metadata": {},
   "outputs": [],
   "source": [
    "from query.query_functions2 import (\n",
    "    get_all_triplets_from_s, get_all_triplets_from_o,\n",
    "    get_all_triplets_from_ro, get_all_triplets_from_sr,\n",
    "    get_all_triplets_from_o_ronly, get_all_triplets_from_s_ronly,\n",
    "    run_sparql_query_paged, run_sparql_query,\n",
    "    get_result_from_triples, count_from_triples\n",
    ")\n",
    "from algorithm.graphwalk_functions_v3 import basic_union\n",
    "\n",
    "nodes = task_seed\n",
    "step1_rel_excludes = forward_step1_rel_excludes\n",
    "exclude_rels = relation_excludes\n",
    "\n",
    "relation_count_container = None\n",
    "for seed_item in nodes:\n",
    "    all_relations = get_all_triplets_from_s_ronly(seed_item, exclude_paths, )\n",
    "    # all_relations = list(filter(lambda x: x not in exclude_rels, all_relations))\n",
    "    all_relations = exclude_relations(all_relations, exclude_rels, relation_excludes_funcs)\n",
    "    # To dict\n",
    "    triples_count_container = {item: 1 for item in all_relations}\n",
    "    relation_count_container = basic_union(relation_count_container, triples_count_container)\n",
    "common_relations_tuple = list(filter(lambda x: x[1] == len(nodes), relation_count_container.items()))\n",
    "common_relations = [item[0] for item in common_relations_tuple]\n",
    "common_relations = list(filter(lambda x: x not in step1_rel_excludes, common_relations))\n",
    "\n",
    "variable_start = variable_state\n",
    "# full_paths_forward, variable_start, query_error1 = from_insidepointforward_moveforward(nodes,\n",
    "#                                                                                        common_relations,\n",
    "#                                                                                        variable_state,\n",
    "#                                                                                        exclude_paths,\n",
    "#                                                                                        exclude_rels,\n",
    "#                                                                                        node_exclude_funcs,\n",
    "#                                                                                        relation_excludes_funcs)\n",
    "\n",
    "# full_paths_backward, variable_start, query_error2 = from_insidepointforward_movebackward(nodes,\n",
    "#                                                                                          common_relations,\n",
    "#                                                                                          variable_start,\n",
    "#                                                                                          exclude_paths,\n",
    "#                                                                                          exclude_rels,\n",
    "#                                                                                          node_exclude_funcs,\n",
    "#                                                                                          relation_excludes_funcs)\n",
    "\n",
    "print(\"YEEEE\")\n"
   ]
  },
  {
   "cell_type": "code",
   "execution_count": null,
   "metadata": {},
   "outputs": [],
   "source": [
    "relation_excludes_funcs"
   ]
  },
  {
   "cell_type": "code",
   "execution_count": null,
   "metadata": {},
   "outputs": [],
   "source": [
    "exclude_relations(all_relations, exclude_rels, relation_excludes_funcs)"
   ]
  },
  {
   "cell_type": "code",
   "execution_count": null,
   "metadata": {},
   "outputs": [],
   "source": [
    "for item in all_relations:\n",
    "    "
   ]
  },
  {
   "cell_type": "code",
   "execution_count": null,
   "metadata": {},
   "outputs": [],
   "source": [
    "from tqdm import tqdm\n",
    "from algorithm.graphwalk_functions_v3 import exclude_nodes, exclude_path, triples_to_dict, deduplicate_union, next_word\n",
    "\n",
    "node_exclude_funcs = node_excludes_funcs\n",
    "upper_limit = 2000\n",
    "variable_name = \"aaaa\"\n",
    "\n",
    "query_error = False\n",
    "full_paths = list()\n",
    "\n",
    "for common_rel in tqdm(common_relations[17:], desc=\"commonrel\"):\n",
    "    q_error_flag = False\n",
    "    common_relation_count_container = None\n",
    "    for seed_item in nodes:\n",
    "        inside_points = get_all_triplets_from_sr(seed_item, common_rel)\n",
    "        if inside_points is None:\n",
    "            query_error = True\n",
    "            q_error_flag = True\n",
    "            break\n",
    "        inside_points_filtered = exclude_nodes(inside_points, node_exclude_funcs, first=False)\n",
    "        inside_points_filtered = exclude_path(inside_points_filtered, exclude_paths)\n",
    "\n",
    "        if len(inside_points_filtered) > upper_limit:\n",
    "            inside_points_filtered = random.sample(inside_points_filtered, k=upper_limit)\n",
    "\n",
    "        inside_point_deduplicated_container = None\n",
    "\n",
    "        for i_point in inside_points_filtered:\n",
    "            sr_endpoints_raw = get_all_triplets_from_o(i_point[2])\n",
    "            break\n",
    "        break\n",
    "    break\n",
    "\n",
    "    #         sr_endpoints_filtered = exclude_nodes(sr_endpoints_raw, node_exclude_funcs, first=True)\n",
    "    #         sr_endpoints_filtered = exclude_relations(sr_endpoints_filtered, exclude_rels, relation_excludes_funcs)\n",
    "    #\n",
    "    #         triples_count_container = triples_to_dict(sr_endpoints_filtered, stay=[0, 1])\n",
    "    #         inside_point_deduplicated_container = deduplicate_union(inside_point_deduplicated_container,\n",
    "    #                                                                 triples_count_container)\n",
    "    #\n",
    "    #     common_relation_count_container = basic_union(common_relation_count_container,\n",
    "    #                                                   inside_point_deduplicated_container)\n",
    "    #\n",
    "    # if q_error_flag:\n",
    "    #     continue\n",
    "    # if common_relation_count_container is None:\n",
    "    #     continue\n",
    "    # valid_insidepoint_paths = list(filter(lambda x: x[1] == len(nodes), common_relation_count_container.items()))\n",
    "    # for item in valid_insidepoint_paths:\n",
    "    #     variable_name = next_word(variable_name)\n",
    "    #     full_paths.append([common_rel] + item[0].split(\"@@@\") + [\"?\" + variable_name])\n",
    "\n",
    "\n",
    "\n",
    "\n",
    "# query_error = any([query_error1, query_error2])\n",
    "# insidepoint_forward = list()\n",
    "# insidepoint_backward = list()\n",
    "# for item in full_paths_forward:\n",
    "#     insidepoint_forward.append([[\"?uri\", item[0], item[1]], [item[1], item[2], item[3]]])\n",
    "\n",
    "# for item in full_paths_backward:\n",
    "#     insidepoint_backward.append([[\"?uri\", item[0], item[3]], [item[1], item[2], item[3]]])\n",
    "\n",
    "# return insidepoint_backward, variable_start, query_error2"
   ]
  },
  {
   "cell_type": "code",
   "execution_count": null,
   "metadata": {},
   "outputs": [],
   "source": [
    "inside_points_filtered"
   ]
  },
  {
   "cell_type": "code",
   "execution_count": null,
   "metadata": {},
   "outputs": [],
   "source": [
    "common_rel"
   ]
  },
  {
   "cell_type": "code",
   "execution_count": null,
   "metadata": {},
   "outputs": [],
   "source": [
    "inside_points_filtered = exclude_nodes(inside_points, node_exclude_funcs, first=False)\n",
    "inside_points_filtered = exclude_path(inside_points_filtered, exclude_paths)"
   ]
  },
  {
   "cell_type": "code",
   "execution_count": null,
   "metadata": {},
   "outputs": [],
   "source": [
    "res_forward2"
   ]
  },
  {
   "cell_type": "code",
   "execution_count": null,
   "metadata": {},
   "outputs": [],
   "source": [
    "len(final_connection_list[\"backward2\"])"
   ]
  },
  {
   "cell_type": "code",
   "execution_count": null,
   "metadata": {},
   "outputs": [],
   "source": []
  },
  {
   "cell_type": "code",
   "execution_count": null,
   "metadata": {},
   "outputs": [],
   "source": [
    "with open(\"/home/kardosp/continuethelist/notebooks/logs/insidepoints_backward_forward.json\", \"r\") as f:\n",
    "    backward_forward = json.load(f)\n",
    "\n",
    "backward_forward"
   ]
  },
  {
   "cell_type": "code",
   "execution_count": null,
   "metadata": {},
   "outputs": [],
   "source": [
    "len(backward_forward)"
   ]
  },
  {
   "cell_type": "code",
   "execution_count": null,
   "metadata": {},
   "outputs": [],
   "source": [
    "backward_forward[15000:]"
   ]
  },
  {
   "cell_type": "code",
   "execution_count": null,
   "metadata": {},
   "outputs": [],
   "source": [
    "from algorithm.graphwalk_functions_v3 import get_task_solution\n",
    "record = splitted_lcquad[45]\n",
    "task_seed = record[\"seed\"]\n",
    "result = get_task_solution(task_seed, exclude_paths, relation_excludes, node_excludes_funcs,\n",
    "                           forward_step1_rel_excludes, relation_excludes_funcs)"
   ]
  },
  {
   "cell_type": "code",
   "execution_count": null,
   "metadata": {},
   "outputs": [],
   "source": [
    "result"
   ]
  },
  {
   "cell_type": "code",
   "execution_count": null,
   "metadata": {},
   "outputs": [],
   "source": [
    "os.listdir(\"/home/kardosp/continuethelist/tempdata\")"
   ]
  },
  {
   "cell_type": "code",
   "execution_count": null,
   "metadata": {},
   "outputs": [],
   "source": [
    "import pickle\n",
    "with open(\"/home/kardosp/continuethelist/tempdata/insidestate.pickle\", \"wb\") as f:\n",
    "    pickle.dump(result, f)"
   ]
  },
  {
   "cell_type": "code",
   "execution_count": null,
   "metadata": {},
   "outputs": [],
   "source": [
    "result.keys()"
   ]
  },
  {
   "cell_type": "code",
   "execution_count": null,
   "metadata": {},
   "outputs": [],
   "source": [
    "for k, v in result.items():\n",
    "    print(k, len(v))"
   ]
  },
  {
   "cell_type": "code",
   "execution_count": null,
   "metadata": {},
   "outputs": [],
   "source": [
    "node_list = list()\n",
    "edge_list = list()\n",
    "for query in result[\"forward2\"]:\n",
    "    for triple in query:\n",
    "        node_list.append(triple[0])\n",
    "        node_list.append(triple[2])\n",
    "        edge_list.append(triple[1])"
   ]
  },
  {
   "cell_type": "code",
   "execution_count": null,
   "metadata": {},
   "outputs": [],
   "source": [
    "from collections import Counter\n",
    "\n",
    "nodecounter = Counter(node_list)\n",
    "edgecounter = Counter(edge_list)"
   ]
  },
  {
   "cell_type": "code",
   "execution_count": null,
   "metadata": {},
   "outputs": [],
   "source": [
    "print(len(nodecounter), len(edgecounter))"
   ]
  },
  {
   "cell_type": "code",
   "execution_count": null,
   "metadata": {},
   "outputs": [],
   "source": [
    "sorted(nodecounter.items(), key=lambda x: x[1], reverse=True)[:50]"
   ]
  },
  {
   "cell_type": "code",
   "execution_count": null,
   "metadata": {},
   "outputs": [],
   "source": [
    "edgecounter"
   ]
  },
  {
   "cell_type": "code",
   "execution_count": null,
   "metadata": {},
   "outputs": [],
   "source": [
    "result[\"forward2\"][0]"
   ]
  },
  {
   "cell_type": "code",
   "execution_count": null,
   "metadata": {},
   "outputs": [],
   "source": [
    "from algorithm.graphwalk_functions_v3 import clear_results, count_from_triples\n",
    "filtered_results = defaultdict(list)\n",
    "for k, v in result.items():\n",
    "    valid, invalid = clear_results(v)\n",
    "    filtered_results[k] = valid\n",
    "    filtered_results[\"invalids\"] = invalid\n",
    "\n",
    "backward2 = list(map(lambda x: [x, count_from_triples(x)], filtered_results[\"backward2\"]))\n",
    "filtered_results[\"backward2\"] = sorted(backward2, key=lambda x: x[1])\n",
    "\n",
    "forward2 = list(map(lambda x: [x, count_from_triples(x)], filtered_results[\"forward2\"]))\n",
    "filtered_results[\"forward2\"] = sorted(forward2, key=lambda x: x[1])\n",
    "\n",
    "triples_size = (len(filtered_results[\"forward\"]) +\n",
    "                len(filtered_results[\"backward\"]) +\n",
    "                len(filtered_results[\"backward2\"]) +\n",
    "                len(filtered_results[\"forward2\"])\n",
    "                )\n",
    "if triples_size == 0:\n",
    "    return [], []\n",
    "\n",
    "record_results = complex_partly_query_run(filtered_results)"
   ]
  }
 ],
 "metadata": {
  "kernelspec": {
   "display_name": "Python [conda env:continue] *",
   "language": "python",
   "name": "conda-env-continue-py"
  },
  "language_info": {
   "codemirror_mode": {
    "name": "ipython",
    "version": 3
   },
   "file_extension": ".py",
   "mimetype": "text/x-python",
   "name": "python",
   "nbconvert_exporter": "python",
   "pygments_lexer": "ipython3",
   "version": "3.11.3"
  }
 },
 "nbformat": 4,
 "nbformat_minor": 1
}
