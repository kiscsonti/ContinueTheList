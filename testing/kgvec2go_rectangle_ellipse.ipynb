{
 "cells": [
  {
   "cell_type": "code",
   "execution_count": 1,
   "metadata": {
    "collapsed": true,
    "pycharm": {
     "name": "#%%\n"
    }
   },
   "outputs": [],
   "source": [
    "import pandas as pd\n",
    "%load_ext autoreload\n",
    "%autoreload 2"
   ]
  },
  {
   "cell_type": "code",
   "execution_count": 2,
   "metadata": {
    "collapsed": false,
    "pycharm": {
     "name": "#%%\n"
    }
   },
   "outputs": [],
   "source": [
    "import os\n",
    "import sys\n",
    "module_path = os.path.abspath(os.path.join('..'))\n",
    "if module_path not in sys.path:\n",
    "    sys.path.append(module_path)"
   ]
  },
  {
   "cell_type": "code",
   "execution_count": 3,
   "metadata": {
    "collapsed": false,
    "pycharm": {
     "name": "#%%\n"
    }
   },
   "outputs": [],
   "source": [
    "from algorithm.kgvec2go_vectors_simple import run_method, load_gensim_model\n",
    "from excludes.basic_excludes import (node_excl_yago_func, node_excl_extra,\n",
    "                                     node_excl_owlthing_func, node_excl_wiki_func)\n",
    "from loaders.loaders import *\n",
    "from evaluation.split_dataset import split_on_seed_dataset\n",
    "import json\n",
    "import pickle\n",
    "import os\n",
    "from tqdm import tqdm\n",
    "\n",
    "\n",
    "exclude_paths = [\n",
    "    [\"\", \"http://www.w3.org/1999/02/22-rdf-syntax-ns#type\", \"http://www.w3.org/2004/02/skos/core#Concept\"]\n",
    "]\n",
    "relation_excludes = [\"http://xmlns.com/foaf/0.1/primaryTopic\",\n",
    "                     \"http://dbpedia.org/property/isCitedBy\",\n",
    "                     \"http://dbpedia.org/ontology/wikiPageWikiLink\",\n",
    "                     \"http://dbpedia.org/ontology/wikiPageWikiLinkText\",\n",
    "                     \"http://dbpedia.org/property/wikiPageUsesTemplate\",\n",
    "                     'http://dbpedia.org/ontology/wikiPageRedirects',\n",
    "                     'http://dbpedia.org/ontology/wikiPageOutDegree',\n",
    "                     \"http://dbpedia.org/ontology/abstract\",\n",
    "                     \"http://www.w3.org/2000/01/rdf-schema#comment\", ]\n",
    "\n",
    "res_excludes_inside_point_relation = [\"http://purl.org/linguistics/gold/hypernym\",\n",
    "                                      \"http://www.w3.org/1999/02/22-rdf-syntax-ns#type\"]\n",
    "res_excludes_inside_point_node = []\n",
    "node_excludes_funcs = [node_excl_wiki_func, node_excl_owlthing_func, node_excl_yago_func, node_excl_extra]\n",
    "\n",
    "SEED = 44\n",
    "SAMPLE_SIZE = 4\n",
    "verbose = 1\n",
    "\n",
    "#Dataset load\n",
    "#lc_quad_train = load_lc_quad_train()\n",
    "\n",
    "lc_quad_train = load_on_path(ds_lc_quad_train_cleaned)\n",
    "splitted_lcquad = split_on_seed_dataset(lc_quad_train, SAMPLE_SIZE, SEED)\n",
    "\n",
    "#splitted_lcquad = load_on_path_pickle(\"/home/kardosp/continuethelist/outputs/graphwalk_v2_output_sample4.pickle\")\n",
    "\n",
    "cwd = \"/home/kardosp/continuethelist/dbpedia_vectors/kgvec2go\"\n",
    "word2vec_path = os.path.join(cwd, 'model.kv')\n",
    "wv_model = load_gensim_model(word2vec_path)\n",
    "missing_counter = 0"
   ]
  },
  {
   "cell_type": "code",
   "execution_count": null,
   "metadata": {
    "collapsed": false,
    "pycharm": {
     "name": "#%%\n"
    }
   },
   "outputs": [],
   "source": [
    "# lcquad_output = run_on_dataset(splitted_lcquad, exclude_paths, relation_excludes, node_excludes_funcs)\n",
    "import numpy as np\n",
    "from scipy.spatial.distance import cdist\n",
    "\n",
    "for i, record in tqdm(list(enumerate(splitted_lcquad[:1]))):\n",
    "    print(i)\n",
    "    if \"output\" in record:\n",
    "        continue\n",
    "    vectors = dict()\n",
    "    missing = 0\n",
    "    for item in record[\"seed\"]:\n",
    "        try:\n",
    "            vectors[item] = list(wv_model[item])\n",
    "        except Exception as e:\n",
    "            missing += 1\n",
    "    center_vector = np.mean(list(vectors.values()), axis=0)\n",
    "\n",
    "\n",
    "\n",
    "\n",
    "    #point_dist = cdist([center_vector], list(vectors.values()), metric=\"euclidean\")\n",
    "    #threshold = np.max(point_dist)\n",
    "    #eps = 1e-5\n",
    "    #all_euclidean_dist = cdist([center_vector], wv_model.vectors, metric=\"euclidean\")\n",
    "    #closer_elements = list()\n",
    "    #for index in all_euclidean_dist.argsort()[0]:\n",
    "    #    if all_euclidean_dist[0][index] > threshold+eps:\n",
    "    #        break\n",
    "    #    closer_elements.append((index, all_euclidean_dist[0][index]))\n",
    "\n",
    "\n",
    "    prediction = [wv_model.index_to_key[item[0]] for item in closer_elements]\n",
    "    result = prediction\n",
    "    record[\"output\"] = result\n",
    "    missing_counter += missing\n",
    "    # TODO - evaluate\n",
    "\n",
    "    with open(\"/home/kardosp/continuethelist/outputs/kgvec2go_v1_output_sample4.pickle\", \"wb\") as f:\n",
    "        pickle.dump(splitted_lcquad, f)\n",
    "\n"
   ]
  },
  {
   "cell_type": "code",
   "execution_count": null,
   "metadata": {
    "collapsed": false,
    "pycharm": {
     "name": "#%%\n"
    }
   },
   "outputs": [],
   "source": []
  },
  {
   "cell_type": "markdown",
   "metadata": {
    "collapsed": false,
    "pycharm": {
     "name": "#%% md\n"
    }
   },
   "source": [
    "# TESTING small"
   ]
  },
  {
   "cell_type": "code",
   "execution_count": 4,
   "metadata": {
    "collapsed": false,
    "pycharm": {
     "name": "#%%\n"
    }
   },
   "outputs": [],
   "source": [
    "from algorithm.kgvec2go_vectors_simple import ellipse_rectangle_dist, get_radius\n",
    "import numpy as np\n",
    "from scipy.spatial.distance import cdist"
   ]
  },
  {
   "cell_type": "code",
   "execution_count": 5,
   "metadata": {
    "collapsed": false,
    "pycharm": {
     "name": "#%%\n"
    }
   },
   "outputs": [],
   "source": [
    "record = splitted_lcquad[1]\n",
    "vectors = dict()\n",
    "missing = 0\n",
    "for item in record[\"seed\"]:\n",
    "    try:\n",
    "        vectors[item] = list(wv_model[item])\n",
    "    except Exception as e:\n",
    "        missing += 1\n",
    "center_vector = np.mean(list(vectors.values()), axis=0)\n",
    "\n",
    "radius = get_radius(center_vector, list(vectors.values()))\n",
    "all_l1ellipse_dist = cdist([center_vector], wv_model.vectors, metric=lambda x, y: ellipse_rectangle_dist(x, radius, y))\n",
    "\n",
    "#prediction = [wv_model.index_to_key[item[0]] for item in closer_elements]\n",
    "#result = prediction\n",
    "#record[\"output\"] = result\n",
    "#missing_counter += missing"
   ]
  },
  {
   "cell_type": "code",
   "execution_count": 6,
   "metadata": {
    "collapsed": false,
    "pycharm": {
     "name": "#%%\n"
    }
   },
   "outputs": [
    {
     "data": {
      "text/plain": [
       "array([0.4202354 , 0.3813632 , 0.97426176, 0.43779105, 0.5417757 ,\n",
       "       1.0694426 , 0.30470932, 0.6588133 , 0.73345053, 1.6430582 ,\n",
       "       0.95992863, 1.0176697 , 1.019561  , 0.84902245, 0.4403092 ,\n",
       "       1.0942907 , 0.49112612, 1.0314772 , 0.15219314, 0.16184996,\n",
       "       0.14828266, 0.32938522, 0.5592884 , 0.9363576 , 0.2766841 ,\n",
       "       0.11928315, 0.37348533, 0.7520633 , 0.36028004, 0.7661077 ,\n",
       "       0.21373959, 0.4735586 , 0.4585205 , 0.33553088, 0.54396194,\n",
       "       0.42406794, 0.62913555, 0.3926924 , 0.69289625, 0.37293473,\n",
       "       0.8079519 , 0.6863488 , 0.20818959, 0.5004904 , 0.5614491 ,\n",
       "       0.57291067, 0.9827553 , 0.6031111 , 0.26760057, 0.7260299 ,\n",
       "       0.43058836, 0.30454913, 0.150023  , 0.37361434, 0.5660397 ,\n",
       "       0.97249043, 0.597338  , 0.9799927 , 0.29632777, 0.3780715 ,\n",
       "       0.11129463, 0.5933902 , 0.3385514 , 0.61557776, 1.0071933 ,\n",
       "       0.29305875, 0.66120726, 0.31413305, 0.3652076 , 0.53897774,\n",
       "       0.689991  , 0.22227061, 0.640576  , 0.5317434 , 0.6381104 ,\n",
       "       0.35487914, 0.18547986, 0.24796   , 0.573457  , 0.63076437,\n",
       "       0.4041412 , 0.6341687 , 0.38989735, 0.24263111, 0.25994325,\n",
       "       0.30288103, 0.04189148, 0.60634625, 0.554258  , 0.15781462,\n",
       "       0.26347804, 0.36734605, 0.21034896, 0.48630276, 0.6879406 ,\n",
       "       0.25035957, 0.63351196, 1.1574008 , 0.32780892, 0.5941657 ,\n",
       "       0.68824375, 0.6336156 , 0.5653236 , 0.5147551 , 0.5978172 ,\n",
       "       1.4947885 , 0.5158828 , 0.50632745, 0.15746589, 0.39978248,\n",
       "       0.27129364, 0.6662967 , 0.20914885, 0.87298894, 0.1826369 ,\n",
       "       0.93898106, 0.478621  , 0.4666347 , 0.29097426, 0.91800934,\n",
       "       0.2822251 , 0.55634207, 0.08083169, 0.45712227, 0.3335802 ,\n",
       "       0.40937465, 0.36656693, 0.22046481, 0.85187644, 0.24025773,\n",
       "       0.60369843, 0.49049255, 0.5969858 , 0.35559142, 0.33978024,\n",
       "       0.35540244, 0.45110226, 0.4443304 , 0.40002483, 0.11710467,\n",
       "       0.294958  , 0.6818919 , 0.19940777, 0.3505603 , 0.8213376 ,\n",
       "       0.26835895, 0.5046271 , 0.33731297, 0.4300688 , 0.8148025 ,\n",
       "       0.6275512 , 0.14082366, 0.53852266, 0.10083364, 0.21086983,\n",
       "       0.58578986, 0.22108392, 0.64195174, 0.7606305 , 0.7449385 ,\n",
       "       0.56174934, 0.33179462, 0.71200097, 0.4180965 , 0.47721723,\n",
       "       0.19560704, 0.09540506, 0.18907142, 0.39067122, 0.61962837,\n",
       "       0.41884637, 0.0970269 , 0.31398588, 0.18289083, 0.21286972,\n",
       "       0.49357188, 0.28395417, 0.31747302, 0.55034995, 0.18462156,\n",
       "       0.6801033 , 0.26264268, 0.4205519 , 0.44994545, 0.3337903 ,\n",
       "       0.20422773, 0.39357853, 0.1476533 , 0.6922023 , 0.17520252,\n",
       "       0.10268508, 0.4909938 , 0.749877  , 0.17025438, 0.37121302,\n",
       "       0.9632232 , 0.25321102, 0.27898842, 0.20873931, 0.33597153],\n",
       "      dtype=float32)"
      ]
     },
     "execution_count": 6,
     "metadata": {},
     "output_type": "execute_result"
    }
   ],
   "source": [
    "radius"
   ]
  },
  {
   "cell_type": "code",
   "execution_count": 7,
   "metadata": {
    "collapsed": false,
    "pycharm": {
     "name": "#%%\n"
    }
   },
   "outputs": [
    {
     "data": {
      "text/plain": [
       "array([[213.08602905, 570.47650146, 262.80407715, ...,   1.14424789,\n",
       "          1.23790288,   1.17283082]])"
      ]
     },
     "execution_count": 7,
     "metadata": {},
     "output_type": "execute_result"
    }
   ],
   "source": [
    "all_l1ellipse_dist"
   ]
  },
  {
   "cell_type": "code",
   "execution_count": 8,
   "metadata": {
    "collapsed": false,
    "pycharm": {
     "name": "#%%\n"
    }
   },
   "outputs": [],
   "source": [
    "sorted_distances = all_l1ellipse_dist.argsort()"
   ]
  },
  {
   "cell_type": "code",
   "execution_count": 9,
   "metadata": {
    "collapsed": false,
    "pycharm": {
     "name": "#%%\n"
    }
   },
   "outputs": [
    {
     "data": {
      "text/plain": [
       "(1, 5818450)"
      ]
     },
     "execution_count": 9,
     "metadata": {},
     "output_type": "execute_result"
    }
   ],
   "source": [
    "sorted_distances.shape"
   ]
  },
  {
   "cell_type": "code",
   "execution_count": 10,
   "metadata": {
    "collapsed": false,
    "pycharm": {
     "name": "#%%\n"
    }
   },
   "outputs": [
    {
     "name": "stdout",
     "output_type": "stream",
     "text": [
      "0.8980002403259277\n",
      "0.9169031381607056\n",
      "0.9207807183265686\n",
      "0.92329341173172\n",
      "0.9239602088928223\n",
      "0.9281923770904541\n",
      "0.9295969605445862\n",
      "0.9342576265335083\n",
      "0.9343723654747009\n",
      "0.9346258044242859\n"
     ]
    }
   ],
   "source": [
    "for item in sorted_distances[0][:10]:\n",
    "    print(all_l1ellipse_dist[0][item])"
   ]
  },
  {
   "cell_type": "markdown",
   "metadata": {
    "collapsed": false,
    "pycharm": {
     "name": "#%% md\n"
    }
   },
   "source": [
    "# Ellipse solution"
   ]
  },
  {
   "cell_type": "code",
   "execution_count": 13,
   "metadata": {
    "collapsed": false,
    "pycharm": {
     "name": "#%%\n"
    }
   },
   "outputs": [],
   "source": [
    "from copy import copy"
   ]
  },
  {
   "cell_type": "code",
   "execution_count": 17,
   "metadata": {
    "collapsed": false,
    "pycharm": {
     "name": "#%%\n"
    }
   },
   "outputs": [],
   "source": [
    "record = splitted_lcquad[1]\n",
    "vectors = dict()\n",
    "missing = 0\n",
    "for item in record[\"seed\"]:\n",
    "    try:\n",
    "        vectors[item] = list(wv_model[item])\n",
    "    except Exception as e:\n",
    "        missing += 1\n",
    "center_vector = np.mean(list(vectors.values()), axis=0)\n",
    "\n",
    "wv_vectors = copy(wv_model.vectors)\n",
    "radius = get_radius(center_vector, list(vectors.values()))\n",
    "#all_l1ellipse_dist = cdist([center_vector], wv_model.vectors, metric=lambda x, y: ellipse_rectangle_dist(x, radius, y))\n",
    "\n",
    "#prediction = [wv_model.index_to_key[item[0]] for item in closer_elements]\n",
    "#result = prediction\n",
    "#record[\"output\"] = result\n",
    "#missing_counter += missing"
   ]
  },
  {
   "cell_type": "code",
   "execution_count": 15,
   "metadata": {
    "collapsed": false,
    "pycharm": {
     "name": "#%%\n"
    }
   },
   "outputs": [
    {
     "data": {
      "text/plain": [
       "numpy.memmap"
      ]
     },
     "execution_count": 15,
     "metadata": {},
     "output_type": "execute_result"
    }
   ],
   "source": [
    "type(wv_vectors)"
   ]
  },
  {
   "cell_type": "code",
   "execution_count": 24,
   "metadata": {
    "collapsed": false,
    "pycharm": {
     "name": "#%%\n"
    }
   },
   "outputs": [
    {
     "data": {
      "text/plain": [
       "(10, 5)"
      ]
     },
     "execution_count": 24,
     "metadata": {},
     "output_type": "execute_result"
    }
   ],
   "source": [
    "wv_vectors_sample = wv_vectors[:10, :5]\n",
    "wv_vectors_sample.shape"
   ]
  },
  {
   "cell_type": "code",
   "execution_count": 25,
   "metadata": {
    "collapsed": false,
    "pycharm": {
     "name": "#%%\n"
    }
   },
   "outputs": [
    {
     "data": {
      "text/plain": [
       "array([[ 0.23574328,  0.30461386, -0.6003029 , -0.60192037, -0.22962554],\n",
       "       [ 0.22316432,  0.16041347, -0.3710722 , -0.4242497 , -0.26547986],\n",
       "       [ 0.12492717,  0.30506092, -0.7972921 , -0.50669885, -0.2456873 ],\n",
       "       [ 0.35329735, -0.13531597, -0.09536346, -0.5517705 , -0.5212886 ],\n",
       "       [ 0.2871616 , -0.08491012, -0.23584919, -0.40193594, -0.57611215],\n",
       "       [ 0.45754758,  0.35635844, -0.60824203, -0.96065724, -0.30236956],\n",
       "       [ 0.3462565 , -0.07093415, -0.5527556 , -0.6642382 , -0.14996691],\n",
       "       [ 0.21384846, -0.02370554,  0.44629025, -0.64765763, -0.9027733 ],\n",
       "       [ 0.43125504, -0.15474823, -0.04339918, -0.7359958 , -0.7884353 ],\n",
       "       [ 0.09070162,  0.16193217, -0.59742916, -0.6666378 , -0.25581402]],\n",
       "      dtype=float32)"
      ]
     },
     "execution_count": 25,
     "metadata": {},
     "output_type": "execute_result"
    }
   ],
   "source": [
    "wv_vectors_sample"
   ]
  },
  {
   "cell_type": "code",
   "execution_count": 26,
   "metadata": {
    "collapsed": false,
    "pycharm": {
     "name": "#%%\n"
    }
   },
   "outputs": [
    {
     "data": {
      "text/plain": [
       "array([[ 0.5609791 ,  0.79875   , -0.6161618 , -1.3749033 , -0.42383876],\n",
       "       [ 0.531046  ,  0.42063174, -0.38087526, -0.96906894, -0.49001804],\n",
       "       [ 0.29727903,  0.7999223 , -0.81835514, -1.1573988 , -0.45348528],\n",
       "       [ 0.84071296, -0.35482177, -0.09788279, -1.2603513 , -0.9621852 ],\n",
       "       [ 0.68333507, -0.22264896, -0.2420799 , -0.91809994, -1.0633776 ],\n",
       "       [ 1.0887887 ,  0.93443316, -0.6243107 , -2.194328  , -0.5581084 ],\n",
       "       [ 0.8239584 , -0.18600154, -0.5673584 , -1.5172495 , -0.27680627],\n",
       "       [ 0.50887775, -0.06216   ,  0.45808044, -1.4793762 , -1.6663231 ],\n",
       "       [ 1.0262226 , -0.4057765 , -0.04454571, -1.6811578 , -1.4552798 ],\n",
       "       [ 0.21583526,  0.42461404, -0.61321217, -1.5227305 , -0.47217697]],\n",
       "      dtype=float32)"
      ]
     },
     "execution_count": 26,
     "metadata": {},
     "output_type": "execute_result"
    }
   ],
   "source": [
    "wv_vectors_sample / radius[:5]"
   ]
  },
  {
   "cell_type": "code",
   "execution_count": null,
   "metadata": {
    "collapsed": false,
    "pycharm": {
     "name": "#%%\n"
    }
   },
   "outputs": [],
   "source": []
  }
 ],
 "metadata": {
  "kernelspec": {
   "display_name": "Python [conda env:continue] *",
   "language": "python",
   "name": "conda-env-continue-py"
  },
  "language_info": {
   "codemirror_mode": {
    "name": "ipython",
    "version": 2
   },
   "file_extension": ".py",
   "mimetype": "text/x-python",
   "name": "python",
   "nbconvert_exporter": "python",
   "pygments_lexer": "ipython2",
   "version": "2.7.6"
  }
 },
 "nbformat": 4,
 "nbformat_minor": 0
}
