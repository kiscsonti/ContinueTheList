{
 "cells": [
  {
   "cell_type": "code",
   "execution_count": 1,
   "metadata": {
    "collapsed": true
   },
   "outputs": [],
   "source": [
    "import pandas as pd\n",
    "%load_ext autoreload\n",
    "%autoreload 2"
   ]
  },
  {
   "cell_type": "code",
   "execution_count": 2,
   "metadata": {
    "collapsed": false
   },
   "outputs": [],
   "source": [
    "import os\n",
    "import sys\n",
    "module_path = os.path.abspath(os.path.join('..'))\n",
    "if module_path not in sys.path:\n",
    "    sys.path.append(module_path)"
   ]
  },
  {
   "cell_type": "code",
   "execution_count": 3,
   "metadata": {
    "collapsed": false
   },
   "outputs": [],
   "source": [
    "from algorithm.graphwalk_functions_v3 import (run_on_dataset,\n",
    "                                              run_grapwalk_function_v3)\n",
    "from excludes.basic_excludes import (node_excl_yago_func, node_excl_extra,\n",
    "                                     node_excl_owlthing_func, node_excl_wiki_func, rel_excl_wiki_func,\n",
    "                                     node_english_only_func, long_node_exclude_func)\n",
    "from loaders.loaders import *\n",
    "from evaluation.split_dataset import split_on_seed_dataset\n",
    "import json\n",
    "import pickle\n",
    "from time import time\n",
    "from datetime import timedelta"
   ]
  },
  {
   "cell_type": "code",
   "execution_count": 5,
   "metadata": {
    "collapsed": false
   },
   "outputs": [],
   "source": [
    "file_path = \"/home/kardosp/continuethelist/outputs/graphwalk_v3_output_sample4_v3.pickle\"\n",
    "oldfile =\"/home/kardosp/continuethelist/outputs/graphwalk_v2_output_sample4.pickle\"\n",
    "\n",
    "with open(file_path, \"rb\") as f:\n",
    "    algo_results = pickle.load(f)\n",
    "\n",
    "with open(oldfile, \"rb\") as f:\n",
    "    old_results = pickle.load(f)"
   ]
  },
  {
   "cell_type": "code",
   "execution_count": 6,
   "metadata": {
    "collapsed": false
   },
   "outputs": [
    {
     "data": {
      "text/plain": [
       "dict_keys(['forward', 'invalids', 'backward2', 'backward'])"
      ]
     },
     "execution_count": 6,
     "metadata": {},
     "output_type": "execute_result"
    }
   ],
   "source": [
    "old_results[0][\"explanation\"].keys()"
   ]
  },
  {
   "cell_type": "code",
   "execution_count": 7,
   "metadata": {
    "collapsed": false
   },
   "outputs": [
    {
     "data": {
      "text/plain": [
       "dict_keys(['forward', 'invalids', 'backward_forward', 'backward2', 'forward2', 'backward'])"
      ]
     },
     "execution_count": 7,
     "metadata": {},
     "output_type": "execute_result"
    }
   ],
   "source": [
    "algo_results[0][\"explanation\"].keys()"
   ]
  },
  {
   "cell_type": "code",
   "execution_count": 15,
   "metadata": {
    "collapsed": false
   },
   "outputs": [],
   "source": [
    "for record in algo_results:\n",
    "    new_item = dict()\n",
    "\n",
    "    if len(record[\"explanation\"]) == 0:\n",
    "        continue\n",
    "    for k, v in record[\"explanation\"].items():\n",
    "        if k in [\"backward2\", \"forward2\"]:\n",
    "            continue\n",
    "\n",
    "        new_item[k] = v\n",
    "\n",
    "    record[\"explanation\"] = new_item"
   ]
  },
  {
   "cell_type": "code",
   "execution_count": null,
   "metadata": {
    "collapsed": false
   },
   "outputs": [],
   "source": []
  },
  {
   "cell_type": "code",
   "execution_count": 13,
   "metadata": {
    "collapsed": false
   },
   "outputs": [
    {
     "name": "stdout",
     "output_type": "stream",
     "text": [
      "[]\n",
      "[]\n",
      "[]\n",
      "[]\n",
      "[]\n",
      "[]\n",
      "[]\n",
      "[]\n",
      "[]\n",
      "[]\n",
      "[]\n",
      "[]\n",
      "[]\n",
      "[]\n",
      "[]\n",
      "[]\n",
      "[]\n",
      "[]\n",
      "[]\n",
      "[]\n",
      "[]\n",
      "[]\n",
      "[]\n",
      "[]\n",
      "[]\n",
      "[]\n",
      "[]\n",
      "[]\n",
      "[]\n",
      "[]\n",
      "[]\n",
      "[]\n",
      "[]\n",
      "[]\n",
      "[]\n",
      "[]\n",
      "[]\n",
      "[]\n",
      "[]\n",
      "[]\n",
      "[]\n",
      "[]\n",
      "[]\n",
      "[]\n",
      "[]\n",
      "[]\n",
      "[]\n",
      "[]\n",
      "[]\n",
      "[]\n",
      "[]\n",
      "[]\n",
      "[]\n",
      "[]\n",
      "[]\n",
      "[]\n",
      "[]\n",
      "[]\n",
      "[]\n",
      "[]\n",
      "[]\n",
      "[]\n",
      "[]\n",
      "[]\n",
      "[]\n",
      "[]\n",
      "[]\n",
      "[]\n",
      "[]\n",
      "[]\n",
      "[]\n",
      "[]\n",
      "[]\n",
      "[]\n",
      "[]\n",
      "[]\n",
      "[]\n",
      "[]\n",
      "[]\n",
      "[]\n",
      "[]\n",
      "[]\n",
      "[]\n",
      "[]\n",
      "[]\n",
      "[]\n",
      "[]\n",
      "[]\n",
      "[]\n",
      "[]\n",
      "[]\n",
      "[]\n",
      "[]\n",
      "[]\n",
      "[]\n",
      "[]\n",
      "[]\n",
      "[]\n",
      "[]\n",
      "[]\n",
      "[]\n",
      "[]\n",
      "[]\n",
      "[]\n",
      "[]\n",
      "[]\n",
      "[]\n",
      "[]\n",
      "[]\n",
      "[]\n",
      "[]\n",
      "[]\n",
      "[]\n",
      "[]\n",
      "[]\n",
      "[]\n",
      "[]\n",
      "[]\n",
      "[]\n",
      "[]\n",
      "[]\n",
      "[]\n",
      "[]\n",
      "[]\n",
      "[]\n",
      "[]\n",
      "[]\n",
      "[]\n",
      "[]\n",
      "[]\n",
      "[]\n",
      "[]\n",
      "[]\n",
      "[]\n",
      "[]\n",
      "[]\n",
      "[]\n",
      "[]\n",
      "[]\n",
      "[]\n",
      "[]\n",
      "[]\n",
      "[]\n",
      "[]\n",
      "[]\n",
      "[]\n",
      "[]\n",
      "[]\n",
      "[]\n",
      "[]\n",
      "[]\n",
      "[]\n",
      "[]\n",
      "[]\n",
      "[]\n",
      "[]\n",
      "[]\n",
      "[]\n",
      "[]\n",
      "[]\n",
      "[]\n",
      "[]\n",
      "[]\n",
      "[]\n",
      "[]\n",
      "[]\n",
      "[]\n",
      "[]\n",
      "[]\n",
      "[]\n",
      "[]\n",
      "[]\n",
      "[]\n",
      "[]\n",
      "[]\n",
      "[]\n",
      "[]\n",
      "[]\n",
      "[]\n",
      "[]\n",
      "[]\n",
      "[]\n",
      "[]\n",
      "[]\n",
      "[]\n",
      "[]\n",
      "[]\n",
      "[]\n",
      "[]\n",
      "[]\n",
      "[]\n",
      "[]\n",
      "[]\n",
      "[]\n",
      "[]\n",
      "[]\n",
      "[]\n",
      "[]\n",
      "[]\n",
      "[]\n",
      "[]\n",
      "[]\n",
      "[]\n",
      "[]\n",
      "[]\n",
      "[]\n",
      "[]\n",
      "[]\n",
      "[]\n",
      "[]\n",
      "[]\n",
      "[]\n",
      "[]\n",
      "[]\n"
     ]
    }
   ],
   "source": [
    "for record in algo_results:\n",
    "    new_item = dict()\n",
    "    if len(record[\"explanation\"]) == 0:\n",
    "        continue\n",
    "    print(record[\"explanation\"][\"forward2\"])"
   ]
  },
  {
   "cell_type": "code",
   "execution_count": 19,
   "metadata": {
    "collapsed": false
   },
   "outputs": [],
   "source": [
    "import pickle\n",
    "from evaluation.evaluate_script import (node_eval_ds, node_eval_ds_no_seed,\n",
    "                                        graph_eval_relaxed_ds, graph_eval_ranking_ds_nodes)\n",
    "from excludes.filters import filter_url, filter_none\n",
    "import os\n",
    "import json\n",
    "\n",
    "\n",
    "class Args:\n",
    "    filter = \"url\"\n",
    "    file = \"/home/kardosp/continuethelist/outputs/graphwalk_v3_output_sample4_v3.pickle\"\n",
    "    # file = \"/home/kardosp/continuethelist/outputs/graphwalk_v2_output_sample4.pickle\"\n",
    "    output = \"/home/kardosp/continuethelist/evals\"\n",
    "\n",
    "\n",
    "args = Args()\n",
    "args2 = Args()\n",
    "args2.file =\"/home/kardosp/continuethelist/outputs/graphwalk_v2_output_sample4.pickle\""
   ]
  },
  {
   "cell_type": "code",
   "execution_count": 20,
   "metadata": {
    "collapsed": false
   },
   "outputs": [],
   "source": [
    "with open(args2.file, \"rb\") as f:\n",
    "    algo_results2 = pickle.load(f)\n",
    "\n",
    "with open(args.file, \"rb\") as f:\n",
    "    algo_results = pickle.load(f)"
   ]
  },
  {
   "cell_type": "code",
   "execution_count": 18,
   "metadata": {
    "collapsed": false
   },
   "outputs": [
    {
     "name": "stdout",
     "output_type": "stream",
     "text": [
      "OK\n"
     ]
    },
    {
     "name": "stderr",
     "output_type": "stream",
     "text": [
      "100%|███████████████████████████████████████| 250/250 [00:00<00:00, 1093.47it/s]\n",
      "100%|███████████████████████████████████████| 250/250 [00:00<00:00, 1130.10it/s]\n",
      "  0%|                                                   | 0/250 [00:00<?, ?it/s]\n"
     ]
    },
    {
     "ename": "AttributeError",
     "evalue": "'list' object has no attribute 'startswith'",
     "output_type": "error",
     "traceback": [
      "\u001b[0;31m---------------------------------------------------------------------------\u001b[0m",
      "\u001b[0;31mAttributeError\u001b[0m                            Traceback (most recent call last)",
      "Cell \u001b[0;32mIn[18], line 11\u001b[0m\n\u001b[1;32m      9\u001b[0m graph_eval_relaxed_score \u001b[38;5;241m=\u001b[39m \u001b[38;5;28;01mNone\u001b[39;00m\n\u001b[1;32m     10\u001b[0m \u001b[38;5;28;01mif\u001b[39;00m \u001b[38;5;124m\"\u001b[39m\u001b[38;5;124mexplanation\u001b[39m\u001b[38;5;124m\"\u001b[39m \u001b[38;5;129;01min\u001b[39;00m algo_results[\u001b[38;5;241m0\u001b[39m]:\n\u001b[0;32m---> 11\u001b[0m     graph_eval_relaxed_score \u001b[38;5;241m=\u001b[39m \u001b[43mgraph_eval_relaxed_ds\u001b[49m\u001b[43m(\u001b[49m\u001b[43malgo_results\u001b[49m\u001b[43m)\u001b[49m\n\u001b[1;32m     12\u001b[0m     rank_metrics \u001b[38;5;241m=\u001b[39m graph_eval_ranking_ds_nodes(algo_results, \u001b[38;5;124m\"\u001b[39m\u001b[38;5;124mexplanation\u001b[39m\u001b[38;5;124m\"\u001b[39m, \u001b[38;5;28;01mFalse\u001b[39;00m)\n\u001b[1;32m     14\u001b[0m     output_dict \u001b[38;5;241m=\u001b[39m {\n\u001b[1;32m     15\u001b[0m         \u001b[38;5;124m\"\u001b[39m\u001b[38;5;124mnode_eval_score\u001b[39m\u001b[38;5;124m\"\u001b[39m: node_eval_score,\n\u001b[1;32m     16\u001b[0m         \u001b[38;5;124m\"\u001b[39m\u001b[38;5;124mnode_eval_noseed_score\u001b[39m\u001b[38;5;124m\"\u001b[39m: node_eval_noseed_score,\n\u001b[0;32m   (...)\u001b[0m\n\u001b[1;32m     22\u001b[0m         \u001b[38;5;124m\"\u001b[39m\u001b[38;5;124mrank_missing\u001b[39m\u001b[38;5;124m\"\u001b[39m: rank_metrics[\u001b[38;5;241m3\u001b[39m],\n\u001b[1;32m     23\u001b[0m     }\n",
      "File \u001b[0;32m~/continuethelist/notebooks/evaluation/evaluate_script.py:168\u001b[0m, in \u001b[0;36mgraph_eval_relaxed_ds\u001b[0;34m(ds, pred_column, extra_info)\u001b[0m\n\u001b[1;32m    166\u001b[0m     \u001b[38;5;28;01mcontinue\u001b[39;00m\n\u001b[1;32m    167\u001b[0m explanation \u001b[38;5;241m=\u001b[39m unpack_explanation(record[pred_column])\n\u001b[0;32m--> 168\u001b[0m graph_score \u001b[38;5;241m=\u001b[39m \u001b[43mgraph_eval_relaxed\u001b[49m\u001b[43m(\u001b[49m\u001b[43mrecord\u001b[49m\u001b[43m[\u001b[49m\u001b[38;5;124;43m\"\u001b[39;49m\u001b[38;5;124;43mgraph\u001b[39;49m\u001b[38;5;124;43m\"\u001b[39;49m\u001b[43m]\u001b[49m\u001b[43m,\u001b[49m\u001b[43m \u001b[49m\u001b[43mexplanation\u001b[49m\u001b[43m)\u001b[49m\n\u001b[1;32m    170\u001b[0m extra\u001b[38;5;241m.\u001b[39mappend(graph_score)\n\u001b[1;32m    171\u001b[0m \u001b[38;5;28;01mif\u001b[39;00m graph_score \u001b[38;5;241m==\u001b[39m \u001b[38;5;241m1\u001b[39m:\n",
      "File \u001b[0;32m~/continuethelist/notebooks/evaluation/evaluate_script.py:129\u001b[0m, in \u001b[0;36mgraph_eval_relaxed\u001b[0;34m(graph, explanation)\u001b[0m\n\u001b[1;32m    126\u001b[0m remaining_graph_normalized_as_string \u001b[38;5;241m=\u001b[39m [\u001b[38;5;124m\"\u001b[39m\u001b[38;5;124m#\u001b[39m\u001b[38;5;124m\"\u001b[39m\u001b[38;5;241m.\u001b[39mjoin(triple) \u001b[38;5;28;01mfor\u001b[39;00m triple \u001b[38;5;129;01min\u001b[39;00m remaining_graph_normalized]\n\u001b[1;32m    128\u001b[0m \u001b[38;5;28;01mfor\u001b[39;00m triple \u001b[38;5;129;01min\u001b[39;00m explanation:\n\u001b[0;32m--> 129\u001b[0m     triple_normalized \u001b[38;5;241m=\u001b[39m \u001b[43mnormalize_triple\u001b[49m\u001b[43m(\u001b[49m\u001b[43mtriple\u001b[49m\u001b[43m,\u001b[49m\u001b[43m \u001b[49m\u001b[38;5;28;43;01mTrue\u001b[39;49;00m\u001b[43m)\u001b[49m\n\u001b[1;32m    130\u001b[0m     triple_normalized_as_string \u001b[38;5;241m=\u001b[39m \u001b[38;5;124m\"\u001b[39m\u001b[38;5;124m#\u001b[39m\u001b[38;5;124m\"\u001b[39m\u001b[38;5;241m.\u001b[39mjoin(triple_normalized)\n\u001b[1;32m    131\u001b[0m     next_remaining_graph_normalized_as_string \u001b[38;5;241m=\u001b[39m \u001b[38;5;28mlist\u001b[39m()\n",
      "File \u001b[0;32m~/continuethelist/notebooks/evaluation/evaluate_script.py:113\u001b[0m, in \u001b[0;36mnormalize_triple\u001b[0;34m(triple, add_sign)\u001b[0m\n\u001b[1;32m    111\u001b[0m new_triple \u001b[38;5;241m=\u001b[39m \u001b[38;5;28mlist\u001b[39m()\n\u001b[1;32m    112\u001b[0m \u001b[38;5;28;01mfor\u001b[39;00m element \u001b[38;5;129;01min\u001b[39;00m triple:\n\u001b[0;32m--> 113\u001b[0m     \u001b[38;5;28;01mif\u001b[39;00m \u001b[43melement\u001b[49m\u001b[38;5;241;43m.\u001b[39;49m\u001b[43mstartswith\u001b[49m(\u001b[38;5;124m\"\u001b[39m\u001b[38;5;124m?\u001b[39m\u001b[38;5;124m\"\u001b[39m):\n\u001b[1;32m    114\u001b[0m         new_triple\u001b[38;5;241m.\u001b[39mappend(\u001b[38;5;124m\"\u001b[39m\u001b[38;5;124mx\u001b[39m\u001b[38;5;124m\"\u001b[39m)\n\u001b[1;32m    115\u001b[0m     \u001b[38;5;28;01melif\u001b[39;00m add_sign \u001b[38;5;129;01mand\u001b[39;00m \u001b[38;5;124m\"\u001b[39m\u001b[38;5;124mhttp\u001b[39m\u001b[38;5;124m\"\u001b[39m \u001b[38;5;129;01min\u001b[39;00m element:\n",
      "\u001b[0;31mAttributeError\u001b[0m: 'list' object has no attribute 'startswith'"
     ]
    }
   ],
   "source": [
    "\n",
    "if args.filter == \"url\":\n",
    "    filter_function = filter_url\n",
    "else:\n",
    "    filter_function = filter_none\n",
    "\n",
    "node_eval_score = node_eval_ds(algo_results, filter_function)\n",
    "node_eval_noseed_score = node_eval_ds_no_seed(algo_results, filter_function)\n",
    "\n",
    "graph_eval_relaxed_score = None\n",
    "if \"explanation\" in algo_results[0]:\n",
    "    graph_eval_relaxed_score = graph_eval_relaxed_ds(algo_results)\n",
    "    rank_metrics = graph_eval_ranking_ds_nodes(algo_results, \"explanation\", False)\n",
    "\n",
    "    output_dict = {\n",
    "        \"node_eval_score\": node_eval_score,\n",
    "        \"node_eval_noseed_score\": node_eval_noseed_score,\n",
    "        \"MR\": rank_metrics[0],\n",
    "        \"MRR\": rank_metrics[1],\n",
    "        \"hits@1\": rank_metrics[2][0],\n",
    "        \"hits@5\": rank_metrics[2][1],\n",
    "        \"hits@10\": rank_metrics[2][2],\n",
    "        \"rank_missing\": rank_metrics[3],\n",
    "    }\n",
    "else:\n",
    "    output_dict = {\n",
    "        \"node_eval_score\": node_eval_score,\n",
    "        \"node_eval_noseed_score\": node_eval_noseed_score,\n",
    "    }\n",
    "\n",
    "file_name = os.path.split(args.file)[-1].split(\".\")[0] + \".json\"\n",
    "\n",
    "\n",
    "if graph_eval_relaxed_score is not None:\n",
    "    output_dict[\"graph_eval_relaxed_score\"] = graph_eval_relaxed_score\n",
    "\n",
    "with open(os.path.join(args.output, file_name), \"w\") as of:\n",
    "    json.dump(output_dict, of, indent=4)\n"
   ]
  },
  {
   "cell_type": "code",
   "execution_count": 24,
   "metadata": {
    "collapsed": false
   },
   "outputs": [
    {
     "data": {
      "text/plain": [
       "defaultdict(list,\n",
       "            {'backward2': [[[['?al',\n",
       "                 'http://dbpedia.org/ontology/nonFictionSubject',\n",
       "                 '?uri'],\n",
       "                ['?al',\n",
       "                 'http://dbpedia.org/property/publisher',\n",
       "                 'http://dbpedia.org/resource/Random_House']],\n",
       "               100],\n",
       "              [[['?at', 'http://dbpedia.org/property/subject', '?uri'],\n",
       "                ['?at',\n",
       "                 'http://dbpedia.org/property/publisher',\n",
       "                 'http://dbpedia.org/resource/Random_House']],\n",
       "               103],\n",
       "              [[['?ah',\n",
       "                 'http://dbpedia.org/ontology/nonFictionSubject',\n",
       "                 '?uri'],\n",
       "                ['?ah',\n",
       "                 'http://dbpedia.org/ontology/publisher',\n",
       "                 'http://dbpedia.org/resource/Random_House']],\n",
       "               106],\n",
       "              [[['?an', 'http://dbpedia.org/property/subject', '?uri'],\n",
       "                ['?an',\n",
       "                 'http://dbpedia.org/ontology/publisher',\n",
       "                 'http://dbpedia.org/resource/Random_House']],\n",
       "               111],\n",
       "              [[['?ag',\n",
       "                 'http://dbpedia.org/ontology/nonFictionSubject',\n",
       "                 '?uri'],\n",
       "                ['?ag',\n",
       "                 'http://purl.org/linguistics/gold/hypernym',\n",
       "                 'http://dbpedia.org/resource/Book']],\n",
       "               3488],\n",
       "              [[['?aq', 'http://dbpedia.org/property/subject', '?uri'],\n",
       "                ['?aq',\n",
       "                 'http://purl.org/linguistics/gold/hypernym',\n",
       "                 'http://dbpedia.org/resource/Book']],\n",
       "               3860],\n",
       "              [[['?ab',\n",
       "                 'http://dbpedia.org/ontology/nonFictionSubject',\n",
       "                 '?uri'],\n",
       "                ['?ab',\n",
       "                 'http://www.w3.org/1999/02/22-rdf-syntax-ns#type',\n",
       "                 'http://dbpedia.org/dbtax/Work']],\n",
       "               4455],\n",
       "              [[['?au', 'http://dbpedia.org/property/subject', '?uri'],\n",
       "                ['?au',\n",
       "                 'http://www.w3.org/1999/02/22-rdf-syntax-ns#type',\n",
       "                 'http://dbpedia.org/dbtax/Work']],\n",
       "               5724],\n",
       "              [[['?af',\n",
       "                 'http://dbpedia.org/ontology/nonFictionSubject',\n",
       "                 '?uri'],\n",
       "                ['?af',\n",
       "                 'http://www.w3.org/1999/02/22-rdf-syntax-ns#type',\n",
       "                 'http://dbpedia.org/dbtax/Book']],\n",
       "               5920],\n",
       "              [[['?am', 'http://dbpedia.org/property/subject', '?uri'],\n",
       "                ['?am',\n",
       "                 'http://www.w3.org/1999/02/22-rdf-syntax-ns#type',\n",
       "                 'http://dbpedia.org/dbtax/Book']],\n",
       "               6788],\n",
       "              [[['?ac',\n",
       "                 'http://dbpedia.org/ontology/nonFictionSubject',\n",
       "                 '?uri'],\n",
       "                ['?ac',\n",
       "                 'http://www.w3.org/1999/02/22-rdf-syntax-ns#type',\n",
       "                 'http://dbpedia.org/ontology/WrittenWork']],\n",
       "               7385],\n",
       "              [[['?ai',\n",
       "                 'http://dbpedia.org/ontology/nonFictionSubject',\n",
       "                 '?uri'],\n",
       "                ['?ai',\n",
       "                 'http://www.w3.org/1999/02/22-rdf-syntax-ns#type',\n",
       "                 'http://dbpedia.org/ontology/Book']],\n",
       "               7385],\n",
       "              [[['?aj',\n",
       "                 'http://dbpedia.org/ontology/nonFictionSubject',\n",
       "                 '?uri'],\n",
       "                ['?aj',\n",
       "                 'http://www.w3.org/1999/02/22-rdf-syntax-ns#type',\n",
       "                 'http://purl.org/ontology/bibo/Book']],\n",
       "               7385],\n",
       "              [[['?ak',\n",
       "                 'http://dbpedia.org/ontology/nonFictionSubject',\n",
       "                 '?uri'],\n",
       "                ['?ak',\n",
       "                 'http://www.w3.org/1999/02/22-rdf-syntax-ns#type',\n",
       "                 'http://dbpedia.org/ontology/Work']],\n",
       "               7385],\n",
       "              [[['?ar', 'http://dbpedia.org/property/subject', '?uri'],\n",
       "                ['?ar',\n",
       "                 'http://www.w3.org/1999/02/22-rdf-syntax-ns#type',\n",
       "                 'http://purl.org/ontology/bibo/Book']],\n",
       "               8333],\n",
       "              [[['?aw', 'http://dbpedia.org/property/subject', '?uri'],\n",
       "                ['?aw',\n",
       "                 'http://www.w3.org/1999/02/22-rdf-syntax-ns#type',\n",
       "                 'http://dbpedia.org/ontology/Book']],\n",
       "               8495],\n",
       "              [[['?ao', 'http://dbpedia.org/property/subject', '?uri'],\n",
       "                ['?ao',\n",
       "                 'http://www.w3.org/1999/02/22-rdf-syntax-ns#type',\n",
       "                 'http://dbpedia.org/ontology/WrittenWork']],\n",
       "               8995],\n",
       "              [[['?as', 'http://dbpedia.org/property/subject', '?uri'],\n",
       "                ['?as',\n",
       "                 'http://www.w3.org/1999/02/22-rdf-syntax-ns#type',\n",
       "                 'http://dbpedia.org/ontology/Work']],\n",
       "               9483]],\n",
       "             'invalids': [[['?ad',\n",
       "                'http://dbpedia.org/ontology/nonFictionSubject',\n",
       "                '?uri'],\n",
       "               ['?ad',\n",
       "                'http://dbpedia.org/property/country',\n",
       "                'United States']],\n",
       "              [['?ae',\n",
       "                'http://dbpedia.org/ontology/nonFictionSubject',\n",
       "                '?uri'],\n",
       "               ['?ae', 'http://dbpedia.org/property/language', 'English']],\n",
       "              [['?ap', 'http://dbpedia.org/property/subject', '?uri'],\n",
       "               ['?ap',\n",
       "                'http://dbpedia.org/property/country',\n",
       "                'United States']],\n",
       "              [['?av', 'http://dbpedia.org/property/subject', '?uri'],\n",
       "               ['?av', 'http://dbpedia.org/property/language', 'English']]],\n",
       "             'forward': [],\n",
       "             'backward': []})"
      ]
     },
     "execution_count": 24,
     "metadata": {},
     "output_type": "execute_result"
    }
   ],
   "source": [
    "algo_results2[1][\"explanation\"]"
   ]
  },
  {
   "cell_type": "code",
   "execution_count": 23,
   "metadata": {
    "collapsed": false
   },
   "outputs": [
    {
     "data": {
      "text/plain": [
       "[]"
      ]
     },
     "execution_count": 23,
     "metadata": {},
     "output_type": "execute_result"
    }
   ],
   "source": [
    "algo_results[1][\"explanation\"]"
   ]
  },
  {
   "cell_type": "code",
   "execution_count": null,
   "metadata": {
    "collapsed": false
   },
   "outputs": [],
   "source": []
  }
 ],
 "metadata": {
  "kernelspec": {
   "display_name": "Python [conda env:continue] *",
   "language": "python",
   "name": "conda-env-continue-py"
  },
  "language_info": {
   "codemirror_mode": {
    "name": "ipython",
    "version": 2
   },
   "file_extension": ".py",
   "mimetype": "text/x-python",
   "name": "python",
   "nbconvert_exporter": "python",
   "pygments_lexer": "ipython2",
   "version": "2.7.6"
  }
 },
 "nbformat": 4,
 "nbformat_minor": 0
}
