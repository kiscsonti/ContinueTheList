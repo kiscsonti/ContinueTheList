{
 "cells": [
  {
   "cell_type": "code",
   "execution_count": 1,
   "metadata": {
    "collapsed": true
   },
   "outputs": [],
   "source": [
    "import numpy as np\n",
    "\n",
    "a = np.random.rand(4, 20)"
   ]
  },
  {
   "cell_type": "code",
   "execution_count": 2,
   "metadata": {
    "collapsed": false
   },
   "outputs": [
    {
     "data": {
      "text/plain": [
       "array([[0.93740713, 0.67294029, 0.57831992, 0.74545231, 0.06513592,\n",
       "        0.0270842 , 0.33856103, 0.28758971, 0.77159594, 0.74092516,\n",
       "        0.8708049 , 0.415844  , 0.41254589, 0.52499925, 0.6966012 ,\n",
       "        0.73079241, 0.78710722, 0.53345653, 0.66054403, 0.09589685],\n",
       "       [0.90383405, 0.37597055, 0.92410091, 0.65559924, 0.55431935,\n",
       "        0.35746149, 0.24148605, 0.6990529 , 0.78501207, 0.88349702,\n",
       "        0.46797279, 0.19928683, 0.91926502, 0.8673235 , 0.7074801 ,\n",
       "        0.57946182, 0.54504199, 0.17326606, 0.42761696, 0.07857604],\n",
       "       [0.15691434, 0.972971  , 0.4469981 , 0.72127221, 0.11947965,\n",
       "        0.63812638, 0.92541641, 0.73789796, 0.87937159, 0.05935069,\n",
       "        0.72466143, 0.7862644 , 0.33905545, 0.29612634, 0.23790685,\n",
       "        0.39733909, 0.72668656, 0.33728282, 0.47373004, 0.24550064],\n",
       "       [0.55170136, 0.25834029, 0.83528532, 0.88061484, 0.04269497,\n",
       "        0.63994631, 0.74640074, 0.8104626 , 0.06303823, 0.81111871,\n",
       "        0.48061739, 0.54525619, 0.28938545, 0.73213384, 0.23816656,\n",
       "        0.57048945, 0.61471998, 0.40229193, 0.73537005, 0.43173718]])"
      ]
     },
     "execution_count": 2,
     "metadata": {},
     "output_type": "execute_result"
    }
   ],
   "source": [
    "a"
   ]
  },
  {
   "cell_type": "code",
   "execution_count": 3,
   "metadata": {
    "collapsed": false
   },
   "outputs": [
    {
     "data": {
      "text/plain": [
       "(4, 20)"
      ]
     },
     "execution_count": 3,
     "metadata": {},
     "output_type": "execute_result"
    }
   ],
   "source": [
    "a.shape"
   ]
  },
  {
   "cell_type": "code",
   "execution_count": 7,
   "metadata": {
    "collapsed": false
   },
   "outputs": [],
   "source": [
    "stdev = a.std(axis=0)"
   ]
  },
  {
   "cell_type": "code",
   "execution_count": 8,
   "metadata": {
    "collapsed": false
   },
   "outputs": [
    {
     "data": {
      "text/plain": [
       "array([ 3, 16, 15, 18, 17, 19, 10,  2,  7,  4, 11, 13, 14, 12,  5,  1,  6,\n",
       "        0,  8,  9])"
      ]
     },
     "execution_count": 8,
     "metadata": {},
     "output_type": "execute_result"
    }
   ],
   "source": [
    "np.argsort(stdev)"
   ]
  },
  {
   "cell_type": "code",
   "execution_count": 12,
   "metadata": {
    "collapsed": false
   },
   "outputs": [
    {
     "data": {
      "text/plain": [
       "array([ 3, 16, 15, 18, 17, 19, 10,  2,  7,  4])"
      ]
     },
     "execution_count": 12,
     "metadata": {},
     "output_type": "execute_result"
    }
   ],
   "source": [
    "np.argsort(stdev)[:10]"
   ]
  },
  {
   "cell_type": "code",
   "execution_count": 15,
   "metadata": {
    "collapsed": false
   },
   "outputs": [],
   "source": [
    "weight_matrix = np.zeros(20)\n",
    "\n",
    "for item in np.argsort(stdev)[:10]:\n",
    "    weight_matrix[item] = 1"
   ]
  },
  {
   "cell_type": "code",
   "execution_count": 16,
   "metadata": {
    "collapsed": false
   },
   "outputs": [
    {
     "data": {
      "text/plain": [
       "array([0., 0., 1., 1., 1., 0., 0., 1., 0., 0., 1., 0., 0., 0., 0., 1., 1.,\n",
       "       1., 1., 1.])"
      ]
     },
     "execution_count": 16,
     "metadata": {},
     "output_type": "execute_result"
    }
   ],
   "source": [
    "weight_matrix"
   ]
  },
  {
   "cell_type": "code",
   "execution_count": 9,
   "metadata": {
    "collapsed": false
   },
   "outputs": [
    {
     "data": {
      "text/plain": [
       "0.08187726974527265"
      ]
     },
     "execution_count": 9,
     "metadata": {},
     "output_type": "execute_result"
    }
   ],
   "source": [
    "stdev[3]"
   ]
  },
  {
   "cell_type": "code",
   "execution_count": 10,
   "metadata": {
    "collapsed": false
   },
   "outputs": [
    {
     "data": {
      "text/plain": [
       "0.09432320934040721"
      ]
     },
     "execution_count": 10,
     "metadata": {},
     "output_type": "execute_result"
    }
   ],
   "source": [
    "stdev[16]"
   ]
  },
  {
   "cell_type": "code",
   "execution_count": 11,
   "metadata": {
    "collapsed": false
   },
   "outputs": [
    {
     "data": {
      "text/plain": [
       "0.32971660158193417"
      ]
     },
     "execution_count": 11,
     "metadata": {},
     "output_type": "execute_result"
    }
   ],
   "source": [
    "stdev[9]"
   ]
  },
  {
   "cell_type": "code",
   "execution_count": null,
   "metadata": {
    "collapsed": false
   },
   "outputs": [],
   "source": []
  }
 ],
 "metadata": {
  "kernelspec": {
   "display_name": "Python [conda env:continue] *",
   "language": "python",
   "name": "conda-env-continue-py"
  },
  "language_info": {
   "codemirror_mode": {
    "name": "ipython",
    "version": 2
   },
   "file_extension": ".py",
   "mimetype": "text/x-python",
   "name": "python",
   "nbconvert_exporter": "python",
   "pygments_lexer": "ipython2",
   "version": "2.7.6"
  }
 },
 "nbformat": 4,
 "nbformat_minor": 0
}
