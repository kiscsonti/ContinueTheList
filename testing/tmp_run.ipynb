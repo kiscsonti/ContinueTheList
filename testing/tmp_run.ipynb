{
 "cells": [
  {
   "cell_type": "code",
   "execution_count": 12,
   "metadata": {
    "collapsed": false
   },
   "outputs": [],
   "source": [
    "import pandas as pd\n",
    "%load_ext autoreload\n",
    "%autoreload 2"
   ]
  },
  {
   "cell_type": "code",
   "execution_count": 18,
   "metadata": {
    "collapsed": false
   },
   "outputs": [],
   "source": [
    "import os\n",
    "import sys\n",
    "module_path = os.path.abspath(os.path.join('..'))\n",
    "if module_path not in sys.path:\n",
    "    sys.path.append(module_path)"
   ]
  },
  {
   "cell_type": "code",
   "execution_count": 20,
   "metadata": {
    "collapsed": false
   },
   "outputs": [],
   "source": [
    "from algorithm.graphwalk_functions_v3 import (run_on_dataset,\n",
    "                                              run_grapwalk_function_v3)\n",
    "from excludes.basic_excludes import (node_excl_yago_func, node_excl_extra,\n",
    "                                     node_excl_owlthing_func, node_excl_wiki_func, rel_excl_wiki_func)\n",
    "from loaders.loaders import *\n",
    "from evaluation.split_dataset import split_on_seed_dataset\n",
    "import json\n",
    "import pickle\n"
   ]
  },
  {
   "cell_type": "code",
   "execution_count": 21,
   "metadata": {
    "collapsed": true
   },
   "outputs": [],
   "source": [
    "\n",
    "exclude_paths = []\n",
    "relation_excludes = [\"http://xmlns.com/foaf/0.1/primaryTopic\",\n",
    "                     'http://xmlns.com/foaf/0.1/isPrimaryTopicOf',\n",
    "                     \"http://dbpedia.org/property/isCitedBy\",\n",
    "                     \"http://dbpedia.org/ontology/abstract\",\n",
    "                     \"http://www.w3.org/2000/01/rdf-schema#comment\",\n",
    "                     'http://www.w3.org/ns/prov#wasDerivedFrom',\n",
    "                     'http://xmlns.com/foaf/0.1/Document',\n",
    "                     'http://purl.org/dc/terms/subject',\n",
    "                     'http://purl.org/dc/elements/1.1/language',\n",
    "                     'http://www.w3.org/2002/07/owl#Class',\n",
    "                     'http://www.w3.org/2004/02/skos/core#Concept',\n",
    "                     'http://purl.org/linguistics/gold/hypernym',\n",
    "\n",
    "                     'http://www.w3.org/2000/01/rdf-schema#label',\n",
    "                     'http://www.w3.org/2002/07/owl#sameAs',\n",
    "                     'http://xmlns.com/foaf/0.1/name',\n",
    "                     'http://dbpedia.org/ontology/wikiPageExternalLink',\n",
    "                     'http://dbpedia.org/property/name',\n",
    "                     'http://xmlns.com/foaf/0.1/depiction',\n",
    "                     'http://dbpedia.org/ontology/thumbnail',\n",
    "                     'http://xmlns.com/foaf/0.1/homepage',\n",
    "                     'http://www.w3.org/2003/01/geo/wgs84_pos#long',\n",
    "                     'http://www.w3.org/2003/01/geo/wgs84_pos#lat',\n",
    "                     'http://www.georss.org/georss/point',\n",
    "\n",
    "                     # \"http://dbpedia.org/ontology/wikiPageWikiLink\",\n",
    "                     # \"http://dbpedia.org/ontology/wikiPageWikiLinkText\",\n",
    "                     # \"http://dbpedia.org/property/wikiPageUsesTemplate\",\n",
    "                     # 'http://dbpedia.org/ontology/wikiPageRedirects',\n",
    "                     # 'http://dbpedia.org/ontology/wikiPageOutDegree',\n",
    "                     # 'http://dbpedia.org/ontology/wikiPageDisambiguates',\n",
    "                     # 'http://dbpedia.org/ontology/wikiPageID',\n",
    "                     # 'http://dbpedia.org/ontology/wikiPageLength',\n",
    "                     # 'http://dbpedia.org/ontology/wikiPageRevisionID',\n",
    "                     ]\n",
    "\n",
    "\n",
    "res_excludes_inside_point_relation = [\"http://purl.org/linguistics/gold/hypernym\",\n",
    "                                      # \"http://www.w3.org/1999/02/22-rdf-syntax-ns#type\"\n",
    "                                      ]\n",
    "\n",
    "forward_step1_rel_excludes = [\"http://www.w3.org/1999/02/22-rdf-syntax-ns#type\"]\n",
    "res_excludes_inside_point_node = []\n",
    "node_excludes_funcs = [node_excl_wiki_func, node_excl_owlthing_func, node_excl_yago_func, node_excl_extra]\n",
    "relation_excludes_funcs = [rel_excl_wiki_func]\n",
    "\n",
    "SEED = 44\n",
    "SAMPLE_SIZE = 4\n",
    "verbose = 1\n",
    "\n",
    "#Dataset load\n",
    "#lc_quad_train = load_lc_quad_train()\n",
    "\n",
    "lc_quad_train = load_on_path(ds_lc_quad_train_cleaned)\n",
    "splitted_lcquad = split_on_seed_dataset(lc_quad_train, SAMPLE_SIZE, SEED)\n",
    "\n",
    "# splitted_lcquad = load_on_path_pickle(\"/home/kardosp/continuethelist/outputs/graphwalk_v3_output_sample4_v2.pickle\")\n",
    "\n"
   ]
  },
  {
   "cell_type": "code",
   "execution_count": null,
   "metadata": {
    "collapsed": false,
    "pycharm": {
     "is_executing": true
    }
   },
   "outputs": [
    {
     "name": "stdout",
     "output_type": "stream",
     "text": [
      "0\n",
      "Forward Done!\n",
      "Backward Done!\n",
      "oj1\n",
      "oj2\n",
      "backward-forward\n"
     ]
    },
    {
     "name": "stderr",
     "output_type": "stream",
     "text": [
      "  9%|███▊                                      | 10/110 [01:20<08:04,  4.84s/it]"
     ]
    }
   ],
   "source": [
    "\n",
    "# lcquad_output = run_on_dataset(splitted_lcquad, exclude_paths, relation_excludes, node_excludes_funcs)\n",
    "for i, record in enumerate(splitted_lcquad[2:3]):\n",
    "    print(i)\n",
    "    if \"output\" in record:\n",
    "        continue\n",
    "    result, explanation = run_grapwalk_function_v3(record[\"seed\"], exclude_paths, relation_excludes,\n",
    "                                                   node_excludes_funcs, forward_step1_rel_excludes,\n",
    "                                                   relation_excludes_funcs, verbose=verbose)\n",
    "    record[\"output\"] = result\n",
    "    record[\"explanation\"] = explanation\n",
    "    # TODO - evaluate\n",
    "\n"
   ]
  },
  {
   "cell_type": "code",
   "execution_count": null,
   "metadata": {
    "collapsed": false
   },
   "outputs": [],
   "source": []
  }
 ],
 "metadata": {
  "kernelspec": {
   "display_name": "Python [conda env:continue] *",
   "language": "python",
   "name": "conda-env-continue-py"
  },
  "language_info": {
   "codemirror_mode": {
    "name": "ipython",
    "version": 2
   },
   "file_extension": ".py",
   "mimetype": "text/x-python",
   "name": "python",
   "nbconvert_exporter": "python",
   "pygments_lexer": "ipython2",
   "version": "2.7.6"
  }
 },
 "nbformat": 4,
 "nbformat_minor": 0
}
