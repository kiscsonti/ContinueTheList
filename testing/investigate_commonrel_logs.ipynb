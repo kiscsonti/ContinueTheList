{
 "cells": [
  {
   "cell_type": "code",
   "execution_count": 7,
   "metadata": {
    "collapsed": true
   },
   "outputs": [],
   "source": [
    "import json\n",
    "from collections import Counter"
   ]
  },
  {
   "cell_type": "code",
   "execution_count": 5,
   "metadata": {
    "collapsed": false
   },
   "outputs": [],
   "source": [
    "with open(\"../logs/common_rels_backward.json\", \"r\") as f:\n",
    "    backward_common_rels = json.load(f)\n",
    "\n",
    "with open(\"../logs/common_rels_forward.json\", \"r\") as f:\n",
    "    forward_common_rels = json.load(f)"
   ]
  },
  {
   "cell_type": "code",
   "execution_count": 8,
   "metadata": {
    "collapsed": false
   },
   "outputs": [],
   "source": [
    "backward_counter = Counter(backward_common_rels)\n",
    "forward_counter = Counter(forward_common_rels)"
   ]
  },
  {
   "cell_type": "code",
   "execution_count": 9,
   "metadata": {
    "collapsed": false
   },
   "outputs": [
    {
     "data": {
      "text/plain": [
       "Counter({'http://dbpedia.org/property/currentMembers': 1,\n",
       "         'http://dbpedia.org/ontology/bandMember': 1,\n",
       "         'http://dbpedia.org/ontology/author': 1,\n",
       "         'http://dbpedia.org/property/author': 1})"
      ]
     },
     "execution_count": 9,
     "metadata": {},
     "output_type": "execute_result"
    }
   ],
   "source": [
    "backward_counter"
   ]
  },
  {
   "cell_type": "code",
   "execution_count": 10,
   "metadata": {
    "collapsed": false
   },
   "outputs": [
    {
     "data": {
      "text/plain": [
       "Counter({'http://dbpedia.org/ontology/wikiPageID': 2,\n",
       "         'http://dbpedia.org/ontology/wikiPageLength': 2,\n",
       "         'http://dbpedia.org/ontology/wikiPageRevisionID': 2,\n",
       "         'http://www.w3.org/2002/07/owl#sameAs': 2,\n",
       "         'http://www.w3.org/2000/01/rdf-schema#label': 2,\n",
       "         'http://dbpedia.org/ontology/phylum': 1,\n",
       "         'http://dbpedia.org/ontology/family': 1,\n",
       "         'http://dbpedia.org/ontology/domain': 1,\n",
       "         'http://dbpedia.org/ontology/genus': 1,\n",
       "         'http://dbpedia.org/property/genus': 1,\n",
       "         'http://dbpedia.org/property/domain': 1,\n",
       "         'http://dbpedia.org/property/binomialAuthority': 1,\n",
       "         'http://dbpedia.org/property/familia': 1,\n",
       "         'http://dbpedia.org/property/regnum': 1,\n",
       "         'http://dbpedia.org/property/phylum': 1,\n",
       "         'http://dbpedia.org/ontology/kingdom': 1,\n",
       "         'http://dbpedia.org/property/binomial': 1,\n",
       "         'http://dbpedia.org/property/ordo': 1,\n",
       "         'http://dbpedia.org/property/classis': 1,\n",
       "         'http://dbpedia.org/ontology/order': 1,\n",
       "         'http://dbpedia.org/property/species': 1,\n",
       "         'http://dbpedia.org/ontology/class': 1})"
      ]
     },
     "execution_count": 10,
     "metadata": {},
     "output_type": "execute_result"
    }
   ],
   "source": [
    "forward_counter"
   ]
  },
  {
   "cell_type": "code",
   "execution_count": null,
   "metadata": {
    "collapsed": false
   },
   "outputs": [],
   "source": []
  }
 ],
 "metadata": {
  "kernelspec": {
   "display_name": "Python 3",
   "language": "python",
   "name": "python3"
  },
  "language_info": {
   "codemirror_mode": {
    "name": "ipython",
    "version": 2
   },
   "file_extension": ".py",
   "mimetype": "text/x-python",
   "name": "python",
   "nbconvert_exporter": "python",
   "pygments_lexer": "ipython2",
   "version": "2.7.6"
  }
 },
 "nbformat": 4,
 "nbformat_minor": 0
}
