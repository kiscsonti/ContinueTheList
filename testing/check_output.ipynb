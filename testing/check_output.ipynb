{
 "cells": [
  {
   "cell_type": "code",
   "execution_count": 1,
   "metadata": {
    "collapsed": true
   },
   "outputs": [],
   "source": [
    "import pickle"
   ]
  },
  {
   "cell_type": "code",
   "execution_count": 2,
   "metadata": {
    "collapsed": false
   },
   "outputs": [],
   "source": [
    "path = \"/home/kardosp/continuethelist/outputs/bertvectors_v1_output_topk_topk_sample4.pickle\""
   ]
  },
  {
   "cell_type": "code",
   "execution_count": 3,
   "metadata": {
    "collapsed": false
   },
   "outputs": [],
   "source": [
    "with open(path, \"rb\") as f:\n",
    "    json_data = pickle.load(f)"
   ]
  },
  {
   "cell_type": "code",
   "execution_count": 17,
   "metadata": {
    "collapsed": false
   },
   "outputs": [
    {
     "name": "stdout",
     "output_type": "stream",
     "text": [
      "GOLD:\n"
     ]
    },
    {
     "data": {
      "text/plain": [
       "['http://dbpedia.org/resource/Akihisa_Ikeda',\n",
       " 'http://dbpedia.org/resource/Clamp_(manga_artists)',\n",
       " 'http://dbpedia.org/resource/Fumihiko_Shimo',\n",
       " 'http://dbpedia.org/resource/Fuyumi_Ono',\n",
       " 'http://dbpedia.org/resource/Hajime_Kazu',\n",
       " 'http://dbpedia.org/resource/Hiroshi_Sakurazaka',\n",
       " 'http://dbpedia.org/resource/Hiroyuki_Asada',\n",
       " 'http://dbpedia.org/resource/Hiroyuki_Takei',\n",
       " 'http://dbpedia.org/resource/Jin_Kobayashi',\n",
       " 'http://dbpedia.org/resource/Kaoru_Kurosaki',\n",
       " 'http://dbpedia.org/resource/Kentarō_Katayama',\n",
       " 'http://dbpedia.org/resource/Kōsuke_Masuda',\n",
       " 'http://dbpedia.org/resource/Mari_Okada',\n",
       " 'http://dbpedia.org/resource/Nobuhiro_Watsuki',\n",
       " 'http://dbpedia.org/resource/Robinson_Haruhara',\n",
       " 'http://dbpedia.org/resource/Saki_Hasemi',\n",
       " 'http://dbpedia.org/resource/Stan_Lee',\n",
       " 'http://dbpedia.org/resource/Takaya_Kagami',\n",
       " 'http://dbpedia.org/resource/Takeshi_Konomi',\n",
       " 'http://dbpedia.org/resource/Tsugumi_Ohba',\n",
       " 'http://dbpedia.org/resource/Yamato_Yamamoto']"
      ]
     },
     "execution_count": 17,
     "metadata": {},
     "output_type": "execute_result"
    }
   ],
   "source": [
    "i = 4\n",
    "print(\"GOLD:\")\n",
    "sorted(json_data[i][\"result_urlonly\"])"
   ]
  },
  {
   "cell_type": "code",
   "execution_count": 16,
   "metadata": {
    "collapsed": false
   },
   "outputs": [
    {
     "data": {
      "text/plain": [
       "[\"http://dbpedia.org/resource/I'll_Be_Lovin'_U_Long_Time\",\n",
       " 'http://dbpedia.org/resource/Iraq_national_football_team_in_2009',\n",
       " 'http://dbpedia.org/resource/James_Barbour_(singer)',\n",
       " 'http://dbpedia.org/resource/Jamshid_Shahmohammadi__13',\n",
       " 'http://dbpedia.org/resource/Jeff_Tackett',\n",
       " 'http://dbpedia.org/resource/Kaizad_Gustad__1',\n",
       " 'http://dbpedia.org/resource/Mikhail_Rushchinsky',\n",
       " 'http://dbpedia.org/resource/Parets_del_Vallès',\n",
       " 'http://dbpedia.org/resource/Paul_Keita__4',\n",
       " 'http://dbpedia.org/resource/Peter_C._Jensen',\n",
       " 'http://dbpedia.org/resource/Purple_City_Productions',\n",
       " 'http://dbpedia.org/resource/Rodrigo_Arroz__6',\n",
       " 'http://dbpedia.org/resource/Samantha_Smith',\n",
       " 'http://dbpedia.org/resource/Starr_(rapper)',\n",
       " 'http://dbpedia.org/resource/Vladimir_Zamansky',\n",
       " 'http://dbpedia.org/resource/Yuri_Zhirkov__4']"
      ]
     },
     "execution_count": 16,
     "metadata": {},
     "output_type": "execute_result"
    }
   ],
   "source": [
    "sorted(json_data[i][\"output\"])"
   ]
  },
  {
   "cell_type": "code",
   "execution_count": null,
   "metadata": {
    "collapsed": false
   },
   "outputs": [],
   "source": []
  }
 ],
 "metadata": {
  "kernelspec": {
   "display_name": "Python [conda env:continue] *",
   "language": "python",
   "name": "conda-env-continue-py"
  },
  "language_info": {
   "codemirror_mode": {
    "name": "ipython",
    "version": 2
   },
   "file_extension": ".py",
   "mimetype": "text/x-python",
   "name": "python",
   "nbconvert_exporter": "python",
   "pygments_lexer": "ipython2",
   "version": "2.7.6"
  }
 },
 "nbformat": 4,
 "nbformat_minor": 0
}
