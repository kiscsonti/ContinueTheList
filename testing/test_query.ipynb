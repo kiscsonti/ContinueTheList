{
 "cells": [
  {
   "cell_type": "code",
   "execution_count": 10,
   "metadata": {
    "collapsed": true
   },
   "outputs": [],
   "source": [
    "%run ../evaluation/evaluate_scripts.ipynb\n",
    "%run ../loaders/loaders.ipynb\n",
    "%run ../query/query_functions.ipynb"
   ]
  },
  {
   "cell_type": "code",
   "execution_count": 7,
   "metadata": {
    "collapsed": false
   },
   "outputs": [
    {
     "name": "stdout",
     "output_type": "stream",
     "text": [
      "Query counter: 0\n",
      "Query: SELECT DISTINCT ?x  WHERE {SELECT DISTINCT ?x  WHERE { ?x <http://dbpedia.org/ontology/firstDriver> <http://dbpedia.org/resource/Damon_Hill>} ORDER BY DESC(?x) } LIMIT 10000 OFFSET 0\n",
      "res_size: 10000\n",
      "return size: 26\n"
     ]
    }
   ],
   "source": [
    "all_triples = get_all_triplets_to_start(\"http://dbpedia.org/ontology/firstDriver\", \"http://dbpedia.org/resource/Damon_Hill\")"
   ]
  },
  {
   "cell_type": "code",
   "execution_count": 8,
   "metadata": {
    "collapsed": false
   },
   "outputs": [
    {
     "data": {
      "text/plain": [
       "[{'x': {'type': 'uri',\n",
       "   'value': 'http://dbpedia.org/resource/Williams_FW17__3'}},\n",
       " {'x': {'type': 'uri',\n",
       "   'value': 'http://dbpedia.org/resource/Williams_FW17__2'}},\n",
       " {'x': {'type': 'uri',\n",
       "   'value': 'http://dbpedia.org/resource/Williams_FW16__2'}},\n",
       " {'x': {'type': 'uri',\n",
       "   'value': 'http://dbpedia.org/resource/Williams_FW15C__2'}},\n",
       " {'x': {'type': 'uri',\n",
       "   'value': 'http://dbpedia.org/resource/1998_Belgian_Grand_Prix'}},\n",
       " {'x': {'type': 'uri',\n",
       "   'value': 'http://dbpedia.org/resource/1996_San_Marino_Grand_Prix'}},\n",
       " {'x': {'type': 'uri',\n",
       "   'value': 'http://dbpedia.org/resource/1996_Japanese_Grand_Prix'}},\n",
       " {'x': {'type': 'uri',\n",
       "   'value': 'http://dbpedia.org/resource/1996_German_Grand_Prix'}},\n",
       " {'x': {'type': 'uri',\n",
       "   'value': 'http://dbpedia.org/resource/1996_French_Grand_Prix'}},\n",
       " {'x': {'type': 'uri',\n",
       "   'value': 'http://dbpedia.org/resource/1996_Canadian_Grand_Prix'}},\n",
       " {'x': {'type': 'uri',\n",
       "   'value': 'http://dbpedia.org/resource/1996_Brazilian_Grand_Prix'}},\n",
       " {'x': {'type': 'uri',\n",
       "   'value': 'http://dbpedia.org/resource/1996_Australian_Grand_Prix'}},\n",
       " {'x': {'type': 'uri',\n",
       "   'value': 'http://dbpedia.org/resource/1996_Argentine_Grand_Prix'}},\n",
       " {'x': {'type': 'uri',\n",
       "   'value': 'http://dbpedia.org/resource/1995_San_Marino_Grand_Prix'}},\n",
       " {'x': {'type': 'uri',\n",
       "   'value': 'http://dbpedia.org/resource/1995_Hungarian_Grand_Prix'}},\n",
       " {'x': {'type': 'uri',\n",
       "   'value': 'http://dbpedia.org/resource/1995_Australian_Grand_Prix'}},\n",
       " {'x': {'type': 'uri',\n",
       "   'value': 'http://dbpedia.org/resource/1995_Argentine_Grand_Prix'}},\n",
       " {'x': {'type': 'uri',\n",
       "   'value': 'http://dbpedia.org/resource/1994_Spanish_Grand_Prix'}},\n",
       " {'x': {'type': 'uri',\n",
       "   'value': 'http://dbpedia.org/resource/1994_Portuguese_Grand_Prix'}},\n",
       " {'x': {'type': 'uri',\n",
       "   'value': 'http://dbpedia.org/resource/1994_Japanese_Grand_Prix'}},\n",
       " {'x': {'type': 'uri',\n",
       "   'value': 'http://dbpedia.org/resource/1994_Italian_Grand_Prix'}},\n",
       " {'x': {'type': 'uri',\n",
       "   'value': 'http://dbpedia.org/resource/1994_British_Grand_Prix'}},\n",
       " {'x': {'type': 'uri',\n",
       "   'value': 'http://dbpedia.org/resource/1994_Belgian_Grand_Prix'}},\n",
       " {'x': {'type': 'uri',\n",
       "   'value': 'http://dbpedia.org/resource/1993_Italian_Grand_Prix'}},\n",
       " {'x': {'type': 'uri',\n",
       "   'value': 'http://dbpedia.org/resource/1993_Hungarian_Grand_Prix'}},\n",
       " {'x': {'type': 'uri',\n",
       "   'value': 'http://dbpedia.org/resource/1993_Belgian_Grand_Prix'}}]"
      ]
     },
     "execution_count": 8,
     "metadata": {},
     "output_type": "execute_result"
    }
   ],
   "source": [
    "all_triples"
   ]
  },
  {
   "cell_type": "code",
   "execution_count": 11,
   "metadata": {
    "collapsed": false
   },
   "outputs": [
    {
     "name": "stdout",
     "output_type": "stream",
     "text": [
      "Query counter: 0\n",
      "Query: SELECT DISTINCT ?x ?y WHERE {SELECT DISTINCT ?x ?y WHERE { <http://dbpedia.org/resource/1993_Hungarian_Grand_Prix> <http://dbpedia.org/ontology/firstDriver> ?y} ORDER BY DESC(?x) DESC(?y) } LIMIT 10000 OFFSET 0\n",
      "res_size: 10000\n",
      "return size: 1\n"
     ]
    }
   ],
   "source": [
    "all_triples = get_all_triplets_from_start2(\"http://dbpedia.org/resource/1993_Hungarian_Grand_Prix\", \"http://dbpedia.org/ontology/firstDriver\")"
   ]
  },
  {
   "cell_type": "code",
   "execution_count": 12,
   "metadata": {
    "collapsed": false
   },
   "outputs": [
    {
     "data": {
      "text/plain": [
       "[{'y': {'type': 'uri', 'value': 'http://dbpedia.org/resource/Damon_Hill'}}]"
      ]
     },
     "execution_count": 12,
     "metadata": {},
     "output_type": "execute_result"
    }
   ],
   "source": [
    "all_triples"
   ]
  },
  {
   "cell_type": "code",
   "execution_count": 4,
   "metadata": {
    "collapsed": false
   },
   "outputs": [
    {
     "ename": "KeyError",
     "evalue": "'start_node'",
     "output_type": "error",
     "traceback": [
      "\u001b[0;31m---------------------------------------------------------------------------\u001b[0m",
      "\u001b[0;31mKeyError\u001b[0m                                  Traceback (most recent call last)",
      "Cell \u001b[0;32mIn[4], line 1\u001b[0m\n\u001b[0;32m----> 1\u001b[0m \u001b[38;5;28mprint\u001b[39m(\u001b[38;5;124;43m\"\"\"\u001b[39;49m\u001b[38;5;124;43mSELECT DISTINCT ?x ?y WHERE \u001b[39;49m\u001b[38;5;124;43m{{\u001b[39;49m\u001b[38;5;124;43m <\u001b[39;49m\u001b[38;5;132;43;01m{start_node}\u001b[39;49;00m\u001b[38;5;124;43m> ?x ?y . \u001b[39;49m\u001b[38;5;132;43;01m{exclude}\u001b[39;49;00m\u001b[38;5;124;43m \u001b[39;49m\u001b[38;5;132;43;01m{reltype_filter}\u001b[39;49;00m\u001b[38;5;124;43m }}  ORDER BY DESC(?x) DESC(?y)\u001b[39;49m\u001b[38;5;124;43m\"\"\"\u001b[39;49m\u001b[38;5;241;43m.\u001b[39;49m\u001b[43mformat\u001b[49m\u001b[43m(\u001b[49m\u001b[38;5;124;43m\"\u001b[39;49m\u001b[38;5;124;43mpetőfi\u001b[39;49m\u001b[38;5;124;43m\"\u001b[39;49m\u001b[43m,\u001b[49m\u001b[43m \u001b[49m\u001b[38;5;124;43m\"\u001b[39;49m\u001b[38;5;124;43mady\u001b[39;49m\u001b[38;5;124;43m\"\u001b[39;49m\u001b[43m,\u001b[49m\u001b[43m \u001b[49m\u001b[38;5;124;43m\"\u001b[39;49m\u001b[38;5;124;43mjózsef\u001b[39;49m\u001b[38;5;124;43m\"\u001b[39;49m\u001b[43m)\u001b[49m)\n",
      "\u001b[0;31mKeyError\u001b[0m: 'start_node'"
     ]
    }
   ],
   "source": [
    "print(\"\"\"SELECT DISTINCT ?x ?y WHERE {{ <{start_node}> ?x ?y . {exclude} {reltype_filter} }}  ORDER BY DESC(?x) DESC(?y)\"\"\".format(\"petőfi\", \"ady\", \"józsef\"))"
   ]
  },
  {
   "cell_type": "code",
   "execution_count": null,
   "metadata": {
    "collapsed": false
   },
   "outputs": [],
   "source": [
    "{\"start_node\": \"petőfi\",\n",
    " \"reltype_filter\": \"ady\",\n",
    " \"exclude\": \"józsef\"}"
   ]
  }
 ],
 "metadata": {
  "kernelspec": {
   "display_name": "Python 3",
   "language": "python",
   "name": "python3"
  },
  "language_info": {
   "codemirror_mode": {
    "name": "ipython",
    "version": 2
   },
   "file_extension": ".py",
   "mimetype": "text/x-python",
   "name": "python",
   "nbconvert_exporter": "python",
   "pygments_lexer": "ipython2",
   "version": "2.7.6"
  }
 },
 "nbformat": 4,
 "nbformat_minor": 0
}
