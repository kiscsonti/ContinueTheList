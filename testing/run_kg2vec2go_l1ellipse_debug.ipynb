{
 "cells": [
  {
   "cell_type": "code",
   "execution_count": 1,
   "metadata": {
    "collapsed": true
   },
   "outputs": [],
   "source": [
    "import pandas as pd\n",
    "%load_ext autoreload\n",
    "%autoreload 2"
   ]
  },
  {
   "cell_type": "code",
   "execution_count": 2,
   "metadata": {
    "collapsed": false
   },
   "outputs": [],
   "source": [
    "import os\n",
    "import sys\n",
    "module_path = os.path.abspath(os.path.join('..'))\n",
    "if module_path not in sys.path:\n",
    "    sys.path.append(module_path)"
   ]
  },
  {
   "cell_type": "code",
   "execution_count": 7,
   "metadata": {
    "collapsed": false
   },
   "outputs": [],
   "source": [
    "from algorithm.kgvec2go_vectors_simple import run_method, load_gensim_model\n",
    "from excludes.basic_excludes import (node_excl_yago_func, node_excl_extra,\n",
    "                                     node_excl_owlthing_func, node_excl_wiki_func)\n",
    "from loaders.loaders import *\n",
    "from evaluation.split_dataset import split_on_seed_dataset\n",
    "import json\n",
    "import pickle\n",
    "import os\n",
    "from tqdm import tqdm\n",
    "\n",
    "exclude_paths = [\n",
    "    [\"\", \"http://www.w3.org/1999/02/22-rdf-syntax-ns#type\", \"http://www.w3.org/2004/02/skos/core#Concept\"]\n",
    "]\n",
    "relation_excludes = [\"http://xmlns.com/foaf/0.1/primaryTopic\",\n",
    "                     \"http://dbpedia.org/property/isCitedBy\",\n",
    "                     \"http://dbpedia.org/ontology/wikiPageWikiLink\",\n",
    "                     \"http://dbpedia.org/ontology/wikiPageWikiLinkText\",\n",
    "                     \"http://dbpedia.org/property/wikiPageUsesTemplate\",\n",
    "                     'http://dbpedia.org/ontology/wikiPageRedirects',\n",
    "                     'http://dbpedia.org/ontology/wikiPageOutDegree',\n",
    "                     \"http://dbpedia.org/ontology/abstract\",\n",
    "                     \"http://www.w3.org/2000/01/rdf-schema#comment\", ]\n",
    "\n",
    "res_excludes_inside_point_relation = [\"http://purl.org/linguistics/gold/hypernym\",\n",
    "                                      \"http://www.w3.org/1999/02/22-rdf-syntax-ns#type\"]\n",
    "res_excludes_inside_point_node = []\n",
    "node_excludes_funcs = [node_excl_wiki_func, node_excl_owlthing_func, node_excl_yago_func, node_excl_extra]\n",
    "\n",
    "SEED = 44\n",
    "SAMPLE_SIZE = 4\n",
    "verbose = 1\n",
    "\n",
    "#Dataset load\n",
    "#lc_quad_train = load_lc_quad_train()\n",
    "\n",
    "lc_quad_train = load_on_path(ds_lc_quad_train_cleaned)\n",
    "splitted_lcquad = split_on_seed_dataset(lc_quad_train, SAMPLE_SIZE, SEED)\n",
    "\n",
    "#splitted_lcquad = load_on_path_pickle(\"/home/kardosp/continuethelist/outputs/graphwalk_v2_output_sample4.pickle\")\n",
    "\n",
    "cwd = \"/home/kardosp/continuethelist/dbpedia_vectors/kgvec2go\"\n",
    "distance_metric = \"l1ellipse\"\n",
    "assert distance_metric in [\"ellipse\", \"circle\", \"l1ellipse\", \"euclidean\"]\n",
    "\n",
    "word2vec_path = os.path.join(cwd, 'model.kv')\n",
    "wv_model = load_gensim_model(word2vec_path)\n",
    "missing_counter = 0"
   ]
  },
  {
   "cell_type": "code",
   "execution_count": null,
   "metadata": {
    "collapsed": false
   },
   "outputs": [],
   "source": [
    "# lcquad_output = run_on_dataset(splitted_lcquad, exclude_paths, relation_excludes, node_excludes_funcs)\n",
    "for i, record in tqdm(list(enumerate(splitted_lcquad))):\n",
    "    print(i)\n",
    "    if \"output\" in record:\n",
    "        continue\n",
    "    result, missing = run_method(record[\"seed\"], wv_model, distance=distance_metric)\n",
    "    record[\"output\"] = result\n",
    "    missing_counter += missing\n",
    "    print(missing_counter)\n",
    "    # TODO - evaluate\n"
   ]
  },
  {
   "cell_type": "code",
   "execution_count": 11,
   "metadata": {
    "collapsed": false
   },
   "outputs": [],
   "source": [
    "from gensim.models import Word2Vec, KeyedVectors\n",
    "from gensim import models\n",
    "import numpy as np\n",
    "from scipy.spatial.distance import cdist\n",
    "from sklearn.neighbors import RadiusNeighborsClassifier\n",
    "from copy import copy\n",
    "\n",
    "\n",
    "def load_gensim_model(path):\n",
    "    w2v_model = models.KeyedVectors.load(\n",
    "        path, mmap=\"r\"\n",
    "    )\n",
    "    return w2v_model\n",
    "\n",
    "\n",
    "def ellipse_rectangle_dist(center, radius, point, eps=1e-4):\n",
    "    res = np.max(np.power(np.divide(np.subtract(center, point), radius), 2))\n",
    "    # res = np.sum(np.power(np.divide(np.subtract(center, point), radius), 2))\n",
    "    return res\n",
    "\n",
    "\n",
    "def get_radius(center, seed):\n",
    "    return np.max(np.abs(np.array(seed) - np.array(center)), axis=0)\n",
    "\n",
    "\n",
    "def run_method(seed, wv_model: KeyedVectors, distance=\"circle\"):\n",
    "    \"\"\"\n",
    "    Input is a single record's seed.\n",
    "    distance can be the following: [\"circle\", \"euclidean\", \"ellipse\", \"l1ellipse\"]\n",
    "    :return:\n",
    "    \"\"\"\n",
    "\n",
    "    vectors = dict()\n",
    "    missing = 0\n",
    "    for item in seed:\n",
    "        try:\n",
    "            vectors[item] = list(wv_model[item])\n",
    "        except Exception as e:\n",
    "            missing += 1\n",
    "    if missing == len(seed):\n",
    "        return None, missing\n",
    "    center_vector = np.mean(list(vectors.values()), axis=0)\n",
    "    closer_elements = list()\n",
    "\n",
    "    if distance == \"circle\" or distance == \"euclidean\":\n",
    "        point_dist = cdist([center_vector], list(vectors.values()), metric=\"euclidean\")\n",
    "        threshold = np.max(point_dist)\n",
    "        eps = 1e-5\n",
    "        all_euclidean_dist = cdist([center_vector], wv_model.vectors, metric=\"euclidean\")\n",
    "        for index in all_euclidean_dist.argsort()[0]:\n",
    "            if all_euclidean_dist[0][index] > threshold:\n",
    "                break\n",
    "            closer_elements.append((index, all_euclidean_dist[0][index]))\n",
    "    elif distance == \"ellipse\":\n",
    "        radius = get_radius(center_vector, list(vectors.values()))\n",
    "        center_vector /= radius\n",
    "        wv_vectors = copy(wv_model.vectors)\n",
    "        wv_vectors /= radius\n",
    "\n",
    "        point_vectors = [v/radius for v in vectors.values()]\n",
    "        point_dist = cdist([center_vector], point_vectors, metric=\"euclidean\")\n",
    "        threshold = np.max(point_dist)\n",
    "        all_euclidean_dist = cdist([center_vector], wv_vectors, metric=\"euclidean\")\n",
    "        for index in all_euclidean_dist.argsort()[0]:\n",
    "            if all_euclidean_dist[0][index] > threshold:\n",
    "                break\n",
    "            closer_elements.append((index, all_euclidean_dist[0][index]))\n",
    "\n",
    "    elif distance == \"l1ellipse\":\n",
    "        radius = get_radius(center_vector, list(vectors.values()))\n",
    "        all_l1ellipse_dist = cdist([center_vector], wv_model.vectors, metric=lambda x, y: ellipse_rectangle_dist(x, radius, y))\n",
    "        all_l1ellipse_dist_1d = all_l1ellipse_dist[0]\n",
    "        sorted_distances = all_l1ellipse_dist_1d.argsort()\n",
    "\n",
    "        for index in sorted_distances:\n",
    "            if all_l1ellipse_dist_1d[index] <= 1:\n",
    "                closer_elements.append((index, all_l1ellipse_dist_1d[index]))\n",
    "            else:\n",
    "                break\n",
    "    prediction = [wv_model.index_to_key[item[0]] for item in closer_elements]\n",
    "    return prediction, missing\n",
    "\n",
    "# distance_result = cdist([center_vector], [wv_model.vectors], metric=lambda x, y: is_inside_ellipse(x, radius, y))\n"
   ]
  },
  {
   "cell_type": "code",
   "execution_count": 12,
   "metadata": {
    "collapsed": false
   },
   "outputs": [],
   "source": [
    "import numpy as np"
   ]
  },
  {
   "cell_type": "code",
   "execution_count": 13,
   "metadata": {
    "collapsed": false
   },
   "outputs": [],
   "source": [
    "record = splitted_lcquad[3]\n",
    "seed = record[\"seed\"]\n",
    "distance=distance_metric\n",
    "\n",
    "vectors = dict()\n",
    "missing = 0\n",
    "for item in seed:\n",
    "    try:\n",
    "        vectors[item] = list(wv_model[item])\n",
    "    except Exception as e:\n",
    "        missing += 1\n",
    "if missing == len(seed):\n",
    "    print(\"END END END END\")\n",
    "center_vector = np.mean(list(vectors.values()), axis=0)\n",
    "closer_elements = list()\n",
    "\n",
    "radius = get_radius(center_vector, list(vectors.values()))\n",
    "all_l1ellipse_dist = cdist([center_vector], wv_model.vectors, metric=lambda x, y: ellipse_rectangle_dist(x, radius, y))\n",
    "all_l1ellipse_dist_1d = all_l1ellipse_dist[0]\n",
    "sorted_distances = all_l1ellipse_dist_1d.argsort()\n",
    "\n",
    "for index in sorted_distances:\n",
    "    if all_l1ellipse_dist_1d[index] <= 1:\n",
    "        closer_elements.append((index, all_l1ellipse_dist_1d[index]))\n",
    "    else:\n",
    "        break\n",
    "prediction = [wv_model.index_to_key[item[0]] for item in closer_elements]"
   ]
  },
  {
   "cell_type": "code",
   "execution_count": 14,
   "metadata": {
    "collapsed": false
   },
   "outputs": [
    {
     "data": {
      "text/plain": [
       "array([0.11844432, 0.97818696, 0.07799672, 0.8200105 , 0.22999752,\n",
       "       0.21914172, 0.01801936, 0.36768246, 0.25332588, 0.29013836,\n",
       "       0.20524928, 0.3717527 , 0.4937508 , 0.14497097, 0.2286574 ,\n",
       "       0.02229915, 0.07086751, 0.54856634, 0.5900674 , 0.20265542,\n",
       "       0.36240995, 0.18179011, 0.06202868, 0.03743804, 0.34904706,\n",
       "       0.00381739, 0.1498371 , 0.3766067 , 0.20934474, 0.40434203,\n",
       "       0.42506683, 0.19579357, 0.760578  , 0.32830268, 0.49670887,\n",
       "       0.22586542, 0.00953475, 0.2868684 , 0.61026686, 0.7729161 ,\n",
       "       0.03186053, 0.2010938 , 0.00843189, 0.44407126, 0.10356328,\n",
       "       0.01474166, 0.06465513, 0.31005275, 0.7670278 , 0.09526935,\n",
       "       0.35222226, 0.02939075, 0.0296835 , 0.3366586 , 0.15370667,\n",
       "       0.55364144, 0.24478333, 0.36557266, 0.4063843 , 0.08941403,\n",
       "       0.2850541 , 0.2321742 , 0.19295101, 0.37854952, 0.03865576,\n",
       "       0.2946167 , 0.44002187, 0.14210726, 0.6190351 , 0.20702215,\n",
       "       0.09911925, 0.5432849 , 0.35490376, 0.34426785, 0.00417974,\n",
       "       0.20315105, 0.08072823, 0.14881282, 0.25788766, 0.39983723,\n",
       "       0.2329728 , 0.30899972, 0.04998258, 0.42888528, 0.33038804,\n",
       "       0.10251382, 0.2601872 , 0.07378915, 0.01767683, 0.11986083,\n",
       "       0.47513953, 0.12747493, 0.12202194, 0.18173617, 0.28811333,\n",
       "       0.25837708, 0.3931162 , 0.34412572, 0.24234486, 0.2649945 ,\n",
       "       0.5111953 , 0.15100044, 0.06438123, 0.12444226, 0.03090656,\n",
       "       0.29625982, 0.13235268, 0.14644477, 0.8180686 , 0.16237974,\n",
       "       0.07078549, 0.3945166 , 0.20355912, 0.17855701, 0.05837381,\n",
       "       0.00851178, 0.39374715, 0.21846545, 0.50374764, 0.27659655,\n",
       "       0.48409963, 0.07911745, 0.1244964 , 0.287573  , 0.16970673,\n",
       "       0.30113322, 0.19456032, 0.11053371, 0.2229622 , 0.05389034,\n",
       "       0.3819976 , 0.2656885 , 0.04718764, 0.33080304, 0.22693855,\n",
       "       0.09753892, 0.15813032, 0.42994958, 0.19772588, 0.08224097,\n",
       "       0.29194176, 0.15238702, 0.8810486 , 0.16617599, 0.18663698,\n",
       "       0.20790112, 0.45953676, 0.14086202, 0.03556398, 0.02666005,\n",
       "       0.19346644, 0.5826486 , 0.26268652, 0.54826134, 0.01970059,\n",
       "       0.10764286, 0.18972921, 0.6280024 , 0.02536271, 0.03516898,\n",
       "       0.1292918 , 0.33421445, 0.00734717, 0.05142981, 0.10369521,\n",
       "       0.07990079, 0.55341095, 0.16468656, 0.10741448, 0.18908125,\n",
       "       0.2639914 , 0.0803203 , 0.05620015, 0.24433182, 0.59595686,\n",
       "       0.26534614, 0.6497553 , 0.04798704, 0.31796902, 0.09160358,\n",
       "       0.00334805, 0.7400332 , 0.5239099 , 0.11714029, 0.39113545,\n",
       "       0.44962215, 0.4870454 , 0.11894459, 0.06831812, 0.02229401,\n",
       "       0.11165911, 0.14729063, 0.3091957 , 0.49959165, 0.25990167,\n",
       "       0.27202445, 0.19698128, 0.5022017 , 0.03545649, 0.04579037],\n",
       "      dtype=float32)"
      ]
     },
     "execution_count": 14,
     "metadata": {},
     "output_type": "execute_result"
    }
   ],
   "source": [
    "radius"
   ]
  },
  {
   "cell_type": "code",
   "execution_count": 15,
   "metadata": {
    "collapsed": false
   },
   "outputs": [
    {
     "data": {
      "text/plain": [
       "array([[17685.09570312, 16285.28808594, 33932.421875  , ...,\n",
       "        19162.18359375, 17290.96679688, 20069.09570312]])"
      ]
     },
     "execution_count": 15,
     "metadata": {},
     "output_type": "execute_result"
    }
   ],
   "source": [
    "all_l1ellipse_dist"
   ]
  },
  {
   "cell_type": "code",
   "execution_count": null,
   "metadata": {
    "collapsed": false
   },
   "outputs": [],
   "source": [
    "len(vectors)"
   ]
  },
  {
   "cell_type": "code",
   "execution_count": 16,
   "metadata": {
    "collapsed": false
   },
   "outputs": [
    {
     "name": "stdout",
     "output_type": "stream",
     "text": [
      "1.0\n",
      "1.0\n"
     ]
    }
   ],
   "source": [
    "for item in vectors.values():\n",
    "    print(ellipse_rectangle_dist(center_vector, radius, item))"
   ]
  },
  {
   "cell_type": "code",
   "execution_count": null,
   "metadata": {
    "collapsed": false
   },
   "outputs": [],
   "source": []
  }
 ],
 "metadata": {
  "kernelspec": {
   "display_name": "Python [conda env:continue] *",
   "language": "python",
   "name": "conda-env-continue-py"
  },
  "language_info": {
   "codemirror_mode": {
    "name": "ipython",
    "version": 2
   },
   "file_extension": ".py",
   "mimetype": "text/x-python",
   "name": "python",
   "nbconvert_exporter": "python",
   "pygments_lexer": "ipython2",
   "version": "2.7.6"
  }
 },
 "nbformat": 4,
 "nbformat_minor": 0
}
