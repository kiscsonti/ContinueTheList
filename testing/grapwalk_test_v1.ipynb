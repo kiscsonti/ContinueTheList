{
 "cells": [
  {
   "cell_type": "code",
   "execution_count": 20,
   "metadata": {
    "collapsed": false
   },
   "outputs": [
    {
     "name": "stdout",
     "output_type": "stream",
     "text": [
      "The autoreload extension is already loaded. To reload it, use:\n",
      "  %reload_ext autoreload\n"
     ]
    }
   ],
   "source": [
    "import pandas as pd\n",
    "%load_ext autoreload\n",
    "%autoreload 2"
   ]
  },
  {
   "cell_type": "code",
   "execution_count": 28,
   "metadata": {
    "collapsed": false
   },
   "outputs": [],
   "source": [
    "import os\n",
    "import sys\n",
    "module_path = os.path.abspath(os.path.join('..'))\n",
    "if module_path not in sys.path:\n",
    "    sys.path.append(module_path)"
   ]
  },
  {
   "cell_type": "code",
   "execution_count": 158,
   "metadata": {
    "collapsed": false
   },
   "outputs": [],
   "source": [
    "from evaluation.evaluate_script import *\n",
    "from loaders.loaders import *\n",
    "from query.query_functions import *\n",
    "from algorithm.grapwalk_functions_v1 import (node_excl_wiki_func, node_excl_owlthing_func, node_excl_yago_func, node_excl_extra,\n",
    "                                             get_task_solution, clear_results, complex_partly_query_run, get_backward1,\n",
    "                                             COUNT_construct_and_run_query_from_list)\n",
    "\n",
    "import random\n",
    "from collections import defaultdict\n",
    "import numpy as np"
   ]
  },
  {
   "cell_type": "code",
   "execution_count": 149,
   "metadata": {
    "collapsed": false
   },
   "outputs": [],
   "source": [
    "lc_quad_train = load_lc_quad_train()"
   ]
  },
  {
   "cell_type": "code",
   "execution_count": 150,
   "metadata": {
    "collapsed": false
   },
   "outputs": [],
   "source": [
    "sample_size = 4\n",
    "seed = 123\n",
    "i = 100\n",
    "random.seed(seed)\n",
    "record = lc_quad_train[i]\n",
    "record_seed = random.sample(record[\"result\"], sample_size)\n",
    "record_gold = list(set(record[\"result\"]) - set(record_seed))"
   ]
  },
  {
   "cell_type": "code",
   "execution_count": 160,
   "metadata": {
    "collapsed": false
   },
   "outputs": [
    {
     "data": {
      "text/plain": [
       "{'_id': '4855',\n",
       " 'corrected_question': 'Who were the first drivers in the grand prix which took place at Autodromo Enzo e Dino Ferrari?',\n",
       " 'intermediary_question': 'What is the <first driver> of the <Grand Prixes> whose <location> is <Autodromo Enzo e Dino Ferrari>?',\n",
       " 'sparql_query': 'SELECT DISTINCT ?uri WHERE { ?x <http://dbpedia.org/ontology/location> <http://dbpedia.org/resource/Autodromo_Enzo_e_Dino_Ferrari> . ?x <http://dbpedia.org/ontology/firstDriver> ?uri  . }',\n",
       " 'sparql_template_id': 5,\n",
       " 'result': ['http://dbpedia.org/resource/Jim_Clark',\n",
       "  'http://dbpedia.org/resource/Ayrton_Senna',\n",
       "  'http://dbpedia.org/resource/Riccardo_Patrese',\n",
       "  'http://dbpedia.org/resource/Nigel_Mansell',\n",
       "  'http://dbpedia.org/resource/Alain_Prost',\n",
       "  'http://dbpedia.org/resource/Damon_Hill',\n",
       "  'http://dbpedia.org/resource/Heinz-Harald_Frentzen',\n",
       "  'http://dbpedia.org/resource/David_Coulthard',\n",
       "  'http://dbpedia.org/resource/Michael_Schumacher',\n",
       "  'http://dbpedia.org/resource/Ralf_Schumacher',\n",
       "  'http://dbpedia.org/resource/Fernando_Alonso',\n",
       "  'http://dbpedia.org/resource/Niki_Lauda',\n",
       "  'http://dbpedia.org/resource/Nelson_Piquet',\n",
       "  'http://dbpedia.org/resource/Didier_Pironi',\n",
       "  'http://dbpedia.org/resource/Patrick_Tambay',\n",
       "  'http://dbpedia.org/resource/Elio_de_Angelis']}"
      ]
     },
     "execution_count": 160,
     "metadata": {},
     "output_type": "execute_result"
    }
   ],
   "source": [
    "record"
   ]
  },
  {
   "cell_type": "code",
   "execution_count": 151,
   "metadata": {
    "collapsed": false
   },
   "outputs": [],
   "source": [
    "exclude_paths = [\n",
    "    [\"\", \"http://www.w3.org/1999/02/22-rdf-syntax-ns#type\", \"http://www.w3.org/2004/02/skos/core#Concept\"]\n",
    "]\n",
    "relation_excludes = [\"http://xmlns.com/foaf/0.1/primaryTopic\",\n",
    "                     \"http://dbpedia.org/property/isCitedBy\",\n",
    "                     \"http://dbpedia.org/ontology/wikiPageWikiLink\",\n",
    "                     \"http://dbpedia.org/ontology/wikiPageWikiLinkText\",\n",
    "                     \"http://dbpedia.org/property/wikiPageUsesTemplate\",\n",
    "                     \"http://dbpedia.org/ontology/abstract\",\n",
    "                     \"http://www.w3.org/2000/01/rdf-schema#comment\", ]\n",
    "\n",
    "res_excludes_inside_point_relation = [\"http://purl.org/linguistics/gold/hypernym\",\n",
    "                                      \"http://www.w3.org/1999/02/22-rdf-syntax-ns#type\"]\n",
    "res_excludes_inside_point_node = []\n",
    "node_excludes_funcs = [node_excl_wiki_func, node_excl_owlthing_func, node_excl_yago_func, node_excl_extra]"
   ]
  },
  {
   "cell_type": "code",
   "execution_count": 152,
   "metadata": {
    "collapsed": false
   },
   "outputs": [
    {
     "name": "stdout",
     "output_type": "stream",
     "text": [
      "Forward Done!\n",
      "Backward Done!\n"
     ]
    },
    {
     "name": "stderr",
     "output_type": "stream",
     "text": [
      "100%|███████████████████████████████████████████| 12/12 [00:16<00:00,  1.41s/it]"
     ]
    },
    {
     "name": "stdout",
     "output_type": "stream",
     "text": [
      "Backward Inside Point Done!\n",
      "res_forward 9\n",
      "res_backward 0\n",
      "res_backward2 462\n"
     ]
    },
    {
     "name": "stderr",
     "output_type": "stream",
     "text": [
      "\n"
     ]
    }
   ],
   "source": [
    "result = get_task_solution(record_seed, exclude_paths, relation_excludes, node_excludes_funcs)"
   ]
  },
  {
   "cell_type": "code",
   "execution_count": 153,
   "metadata": {
    "collapsed": false
   },
   "outputs": [],
   "source": [
    "filtered_results = defaultdict(list)\n",
    "for k, v in result.items():\n",
    "    filtered_results[k] = clear_results(v)\n",
    "\n",
    "backward2 = list(map(lambda x: [x, COUNT_construct_and_run_query_from_list(x)], filtered_results[\"backward2\"]))\n",
    "filtered_results[\"backward2\"] = sorted(backward2, key=lambda x: x[1])"
   ]
  },
  {
   "cell_type": "code",
   "execution_count": 154,
   "metadata": {
    "collapsed": false
   },
   "outputs": [
    {
     "data": {
      "text/plain": [
       "[[[['?bk', 'http://dbpedia.org/ontology/poleDriver', '?uri'],\n",
       "   ['?bk',\n",
       "    'http://dbpedia.org/ontology/location',\n",
       "    'http://dbpedia.org/resource/Jacarepaguá']],\n",
       "  6],\n",
       " [[['?cd', 'http://dbpedia.org/ontology/poleDriver', '?uri'],\n",
       "   ['?cd',\n",
       "    'http://dbpedia.org/property/location',\n",
       "    'http://dbpedia.org/resource/Jacarepaguá']],\n",
       "  6],\n",
       " [[['?bt', 'http://dbpedia.org/ontology/poleDriver', '?uri'],\n",
       "   ['?bt',\n",
       "    'http://dbpedia.org/property/location',\n",
       "    'http://dbpedia.org/resource/Autódromo_Internacional_Nelson_Piquet']],\n",
       "  10],\n",
       " [[['?co', 'http://dbpedia.org/ontology/poleDriver', '?uri'],\n",
       "   ['?co',\n",
       "    'http://dbpedia.org/ontology/location',\n",
       "    'http://dbpedia.org/resource/Autódromo_Internacional_Nelson_Piquet']],\n",
       "  10],\n",
       " [[['?dk', 'http://dbpedia.org/ontology/poleDriver', '?uri'],\n",
       "   ['?dk',\n",
       "    'http://dbpedia.org/property/thirdDriver',\n",
       "    'http://dbpedia.org/resource/Nigel_Mansell']],\n",
       "  11],\n",
       " [[['?dn', 'http://dbpedia.org/ontology/poleDriver', '?uri'],\n",
       "   ['?dn',\n",
       "    'http://dbpedia.org/ontology/thirdDriver',\n",
       "    'http://dbpedia.org/resource/Nigel_Mansell']],\n",
       "  11],\n",
       " [[['?km', 'http://dbpedia.org/property/poleDriver', '?uri'],\n",
       "   ['?km',\n",
       "    'http://dbpedia.org/property/thirdDriver',\n",
       "    'http://dbpedia.org/resource/Nigel_Mansell']],\n",
       "  11],\n",
       " [[['?kp', 'http://dbpedia.org/property/poleDriver', '?uri'],\n",
       "   ['?kp',\n",
       "    'http://dbpedia.org/ontology/thirdDriver',\n",
       "    'http://dbpedia.org/resource/Nigel_Mansell']],\n",
       "  11],\n",
       " [[['?dh', 'http://dbpedia.org/ontology/poleDriver', '?uri'],\n",
       "   ['?dh',\n",
       "    'http://dbpedia.org/property/thirdTeam',\n",
       "    \"http://dbpedia.org/resource/Techniques_d'Avant_Garde\"]],\n",
       "  14],\n",
       " [[['?kj', 'http://dbpedia.org/property/poleDriver', '?uri'],\n",
       "   ['?kj',\n",
       "    'http://dbpedia.org/property/thirdTeam',\n",
       "    \"http://dbpedia.org/resource/Techniques_d'Avant_Garde\"]],\n",
       "  14],\n",
       " [[['?ej', 'http://dbpedia.org/ontology/poleDriver', '?uri'],\n",
       "   ['?ej',\n",
       "    'http://dbpedia.org/property/fastDriver',\n",
       "    'http://dbpedia.org/resource/Ayrton_Senna']],\n",
       "  16],\n",
       " [[['?lh', 'http://dbpedia.org/property/poleDriver', '?uri'],\n",
       "   ['?lh',\n",
       "    'http://dbpedia.org/property/fastDriver',\n",
       "    'http://dbpedia.org/resource/Ayrton_Senna']],\n",
       "  16],\n",
       " [[['?dl', 'http://dbpedia.org/ontology/poleDriver', '?uri'],\n",
       "   ['?dl',\n",
       "    'http://dbpedia.org/property/thirdDriver',\n",
       "    'http://dbpedia.org/resource/Alain_Prost']],\n",
       "  17],\n",
       " [[['?kn', 'http://dbpedia.org/property/poleDriver', '?uri'],\n",
       "   ['?kn',\n",
       "    'http://dbpedia.org/property/thirdDriver',\n",
       "    'http://dbpedia.org/resource/Alain_Prost']],\n",
       "  17],\n",
       " [[['?bq', 'http://dbpedia.org/ontology/poleDriver', '?uri'],\n",
       "   ['?bq',\n",
       "    'http://dbpedia.org/ontology/fastestDriver',\n",
       "    'http://dbpedia.org/resource/Ayrton_Senna']],\n",
       "  19],\n",
       " [[['?iz', 'http://dbpedia.org/property/poleDriver', '?uri'],\n",
       "   ['?iz',\n",
       "    'http://dbpedia.org/ontology/fastestDriver',\n",
       "    'http://dbpedia.org/resource/Ayrton_Senna']],\n",
       "  19],\n",
       " [[['?oo', 'http://dbpedia.org/property/thirdDriver', '?uri'],\n",
       "   ['?oo',\n",
       "    'http://dbpedia.org/property/fastDriver',\n",
       "    'http://dbpedia.org/resource/Nelson_Piquet']],\n",
       "  19],\n",
       " [[['?rt', 'http://dbpedia.org/ontology/thirdDriver', '?uri'],\n",
       "   ['?rt',\n",
       "    'http://dbpedia.org/property/fastDriver',\n",
       "    'http://dbpedia.org/resource/Nelson_Piquet']],\n",
       "  19],\n",
       " [[['?bm', 'http://dbpedia.org/ontology/poleDriver', '?uri'],\n",
       "   ['?bm',\n",
       "    'http://dbpedia.org/ontology/thirdDriver',\n",
       "    'http://dbpedia.org/resource/Alain_Prost']],\n",
       "  20],\n",
       " [[['?bw', 'http://dbpedia.org/ontology/poleDriver', '?uri'],\n",
       "   ['?bw',\n",
       "    'http://dbpedia.org/property/firstDriver',\n",
       "    'http://dbpedia.org/resource/Nelson_Piquet']],\n",
       "  20],\n",
       " [[['?iv', 'http://dbpedia.org/property/poleDriver', '?uri'],\n",
       "   ['?iv',\n",
       "    'http://dbpedia.org/ontology/thirdDriver',\n",
       "    'http://dbpedia.org/resource/Alain_Prost']],\n",
       "  20],\n",
       " [[['?je', 'http://dbpedia.org/property/poleDriver', '?uri'],\n",
       "   ['?je',\n",
       "    'http://dbpedia.org/property/firstDriver',\n",
       "    'http://dbpedia.org/resource/Nelson_Piquet']],\n",
       "  20],\n",
       " [[['?ch', 'http://dbpedia.org/ontology/poleDriver', '?uri'],\n",
       "   ['?ch',\n",
       "    'http://dbpedia.org/ontology/firstDriver',\n",
       "    'http://dbpedia.org/resource/Nelson_Piquet']],\n",
       "  23],\n",
       " [[['?jl', 'http://dbpedia.org/property/poleDriver', '?uri'],\n",
       "   ['?jl',\n",
       "    'http://dbpedia.org/ontology/firstDriver',\n",
       "    'http://dbpedia.org/resource/Nelson_Piquet']],\n",
       "  23],\n",
       " [[['?ga', 'http://dbpedia.org/ontology/firstDriver', '?uri'],\n",
       "   ['?ga',\n",
       "    'http://dbpedia.org/ontology/fastestDriver',\n",
       "    'http://dbpedia.org/resource/Nelson_Piquet']],\n",
       "  24],\n",
       " [[['?mu', 'http://dbpedia.org/property/thirdDriver', '?uri'],\n",
       "   ['?mu',\n",
       "    'http://dbpedia.org/ontology/location',\n",
       "    'http://dbpedia.org/resource/Kyalami']],\n",
       "  24],\n",
       " [[['?ol', 'http://dbpedia.org/property/thirdDriver', '?uri'],\n",
       "   ['?ol',\n",
       "    'http://dbpedia.org/ontology/fastestDriver',\n",
       "    'http://dbpedia.org/resource/Nelson_Piquet']],\n",
       "  24],\n",
       " [[['?pp', 'http://dbpedia.org/ontology/thirdDriver', '?uri'],\n",
       "   ['?pp',\n",
       "    'http://dbpedia.org/ontology/location',\n",
       "    'http://dbpedia.org/resource/Kyalami']],\n",
       "  24],\n",
       " [[['?rp', 'http://dbpedia.org/ontology/thirdDriver', '?uri'],\n",
       "   ['?rp',\n",
       "    'http://dbpedia.org/ontology/fastestDriver',\n",
       "    'http://dbpedia.org/resource/Nelson_Piquet']],\n",
       "  24],\n",
       " [[['?ah', 'http://dbpedia.org/ontology/secondDriver', '?uri'],\n",
       "   ['?ah',\n",
       "    'http://dbpedia.org/ontology/poleDriver',\n",
       "    'http://dbpedia.org/resource/Nelson_Piquet']],\n",
       "  25],\n",
       " [[['?ds', 'http://dbpedia.org/ontology/poleDriver', '?uri'],\n",
       "   ['?ds',\n",
       "    'http://dbpedia.org/property/firstTeam',\n",
       "    \"http://dbpedia.org/resource/Techniques_d'Avant_Garde\"]],\n",
       "  25],\n",
       " [[['?ku', 'http://dbpedia.org/property/poleDriver', '?uri'],\n",
       "   ['?ku',\n",
       "    'http://dbpedia.org/property/firstTeam',\n",
       "    \"http://dbpedia.org/resource/Techniques_d'Avant_Garde\"]],\n",
       "  25],\n",
       " [[['?of', 'http://dbpedia.org/property/thirdDriver', '?uri'],\n",
       "   ['?of',\n",
       "    'http://dbpedia.org/property/location',\n",
       "    'http://dbpedia.org/resource/Kyalami']],\n",
       "  25],\n",
       " [[['?qg', 'http://dbpedia.org/ontology/thirdDriver', '?uri'],\n",
       "   ['?qg',\n",
       "    'http://dbpedia.org/ontology/poleDriver',\n",
       "    'http://dbpedia.org/resource/Nelson_Piquet']],\n",
       "  25],\n",
       " [[['?rj', 'http://dbpedia.org/ontology/thirdDriver', '?uri'],\n",
       "   ['?rj',\n",
       "    'http://dbpedia.org/property/location',\n",
       "    'http://dbpedia.org/resource/Kyalami']],\n",
       "  25],\n",
       " [[['?gd', 'http://dbpedia.org/ontology/firstDriver', '?uri'],\n",
       "   ['?gd',\n",
       "    'http://dbpedia.org/property/location',\n",
       "    'http://dbpedia.org/resource/Autodromo_Enzo_e_Dino_Ferrari']],\n",
       "  27],\n",
       " [[['?in', 'http://dbpedia.org/property/firstDriver', '?uri'],\n",
       "   ['?in',\n",
       "    'http://dbpedia.org/property/location',\n",
       "    'http://dbpedia.org/resource/Autodromo_Enzo_e_Dino_Ferrari']],\n",
       "  27],\n",
       " [[['?fk', 'http://dbpedia.org/ontology/firstDriver', '?uri'],\n",
       "   ['?fk',\n",
       "    'http://dbpedia.org/ontology/location',\n",
       "    'http://dbpedia.org/resource/Autodromo_Enzo_e_Dino_Ferrari']],\n",
       "  28],\n",
       " [[['?hx', 'http://dbpedia.org/property/firstDriver', '?uri'],\n",
       "   ['?hx',\n",
       "    'http://dbpedia.org/ontology/location',\n",
       "    'http://dbpedia.org/resource/Autodromo_Enzo_e_Dino_Ferrari']],\n",
       "  28],\n",
       " [[['?dp', 'http://dbpedia.org/ontology/poleDriver', '?uri'],\n",
       "   ['?dp',\n",
       "    'http://dbpedia.org/property/location',\n",
       "    'http://dbpedia.org/resource/Circuit_Gilles_Villeneuve']],\n",
       "  30],\n",
       " [[['?ev', 'http://dbpedia.org/ontology/firstDriver', '?uri'],\n",
       "   ['?ev',\n",
       "    'http://dbpedia.org/ontology/thirdTeam',\n",
       "    'http://dbpedia.org/resource/Renault_in_Formula_One']],\n",
       "  31],\n",
       " [[['?hj', 'http://dbpedia.org/property/firstDriver', '?uri'],\n",
       "   ['?hj',\n",
       "    'http://dbpedia.org/ontology/thirdTeam',\n",
       "    'http://dbpedia.org/resource/Renault_in_Formula_One']],\n",
       "  31],\n",
       " [[['?cm', 'http://dbpedia.org/ontology/poleDriver', '?uri'],\n",
       "   ['?cm',\n",
       "    'http://dbpedia.org/ontology/location',\n",
       "    'http://dbpedia.org/resource/Circuit_Gilles_Villeneuve']],\n",
       "  32],\n",
       " [[['?cx', 'http://dbpedia.org/ontology/poleDriver', '?uri'],\n",
       "   ['?cx',\n",
       "    'http://dbpedia.org/property/secondDriver',\n",
       "    'http://dbpedia.org/resource/Alain_Prost']],\n",
       "  32],\n",
       " [[['?jq', 'http://dbpedia.org/property/poleDriver', '?uri'],\n",
       "   ['?jq',\n",
       "    'http://dbpedia.org/ontology/location',\n",
       "    'http://dbpedia.org/resource/Circuit_Gilles_Villeneuve']],\n",
       "  32],\n",
       " [[['?ka', 'http://dbpedia.org/property/poleDriver', '?uri'],\n",
       "   ['?ka',\n",
       "    'http://dbpedia.org/property/secondDriver',\n",
       "    'http://dbpedia.org/resource/Alain_Prost']],\n",
       "  32],\n",
       " [[['?qs', 'http://dbpedia.org/ontology/thirdDriver', '?uri'],\n",
       "   ['?qs',\n",
       "    'http://dbpedia.org/ontology/poleDriver',\n",
       "    'http://dbpedia.org/resource/Nigel_Mansell']],\n",
       "  32],\n",
       " [[['?qo', 'http://dbpedia.org/ontology/thirdDriver', '?uri'],\n",
       "   ['?qo',\n",
       "    'http://dbpedia.org/property/poleTeam',\n",
       "    'http://dbpedia.org/resource/BMW_in_Formula_One']],\n",
       "  33],\n",
       " [[['?cc', 'http://dbpedia.org/ontology/poleDriver', '?uri'],\n",
       "   ['?cc',\n",
       "    'http://dbpedia.org/ontology/secondDriver',\n",
       "    'http://dbpedia.org/resource/Alain_Prost']],\n",
       "  35],\n",
       " [[['?jj', 'http://dbpedia.org/property/poleDriver', '?uri'],\n",
       "   ['?jj',\n",
       "    'http://dbpedia.org/ontology/secondDriver',\n",
       "    'http://dbpedia.org/resource/Alain_Prost']],\n",
       "  35],\n",
       " [[['?kr', 'http://dbpedia.org/property/poleDriver', '?uri'],\n",
       "   ['?kr',\n",
       "    'http://dbpedia.org/property/location',\n",
       "    'http://dbpedia.org/resource/Circuit_Gilles_Villeneuve']],\n",
       "  36],\n",
       " [[['?bv', 'http://dbpedia.org/ontology/poleDriver', '?uri'],\n",
       "   ['?bv',\n",
       "    'http://dbpedia.org/property/fastDriver',\n",
       "    'http://dbpedia.org/resource/Alain_Prost']],\n",
       "  39],\n",
       " [[['?jd', 'http://dbpedia.org/property/poleDriver', '?uri'],\n",
       "   ['?jd',\n",
       "    'http://dbpedia.org/property/fastDriver',\n",
       "    'http://dbpedia.org/resource/Alain_Prost']],\n",
       "  39],\n",
       " [[['?nd', 'http://dbpedia.org/property/thirdDriver', '?uri'],\n",
       "   ['?nd',\n",
       "    'http://dbpedia.org/property/fastDriver',\n",
       "    'http://dbpedia.org/resource/Alain_Prost']],\n",
       "  39],\n",
       " [[['?pz', 'http://dbpedia.org/ontology/thirdDriver', '?uri'],\n",
       "   ['?pz',\n",
       "    'http://dbpedia.org/property/fastDriver',\n",
       "    'http://dbpedia.org/resource/Alain_Prost']],\n",
       "  39],\n",
       " [[['?ei', 'http://dbpedia.org/ontology/poleDriver', '?uri'],\n",
       "   ['?ei',\n",
       "    'http://dbpedia.org/ontology/fastestDriver',\n",
       "    'http://dbpedia.org/resource/Alain_Prost']],\n",
       "  41],\n",
       " [[['?lg', 'http://dbpedia.org/property/poleDriver', '?uri'],\n",
       "   ['?lg',\n",
       "    'http://dbpedia.org/ontology/fastestDriver',\n",
       "    'http://dbpedia.org/resource/Alain_Prost']],\n",
       "  41],\n",
       " [[['?on', 'http://dbpedia.org/property/thirdDriver', '?uri'],\n",
       "   ['?on',\n",
       "    'http://dbpedia.org/ontology/fastestDriver',\n",
       "    'http://dbpedia.org/resource/Alain_Prost']],\n",
       "  41],\n",
       " [[['?rr', 'http://dbpedia.org/ontology/thirdDriver', '?uri'],\n",
       "   ['?rr',\n",
       "    'http://dbpedia.org/ontology/fastestDriver',\n",
       "    'http://dbpedia.org/resource/Alain_Prost']],\n",
       "  41],\n",
       " [[['?dg', 'http://dbpedia.org/ontology/poleDriver', '?uri'],\n",
       "   ['?dg',\n",
       "    'http://dbpedia.org/property/firstDriver',\n",
       "    'http://dbpedia.org/resource/Alain_Prost']],\n",
       "  50],\n",
       " [[['?ki', 'http://dbpedia.org/property/poleDriver', '?uri'],\n",
       "   ['?ki',\n",
       "    'http://dbpedia.org/property/firstDriver',\n",
       "    'http://dbpedia.org/resource/Alain_Prost']],\n",
       "  50],\n",
       " [[['?by', 'http://dbpedia.org/ontology/poleDriver', '?uri'],\n",
       "   ['?by',\n",
       "    'http://dbpedia.org/ontology/firstDriver',\n",
       "    'http://dbpedia.org/resource/Alain_Prost']],\n",
       "  52],\n",
       " [[['?jf', 'http://dbpedia.org/property/poleDriver', '?uri'],\n",
       "   ['?jf',\n",
       "    'http://dbpedia.org/ontology/firstDriver',\n",
       "    'http://dbpedia.org/resource/Alain_Prost']],\n",
       "  52],\n",
       " [[['?qp', 'http://dbpedia.org/ontology/thirdDriver', '?uri'],\n",
       "   ['?qp',\n",
       "    'http://dbpedia.org/property/poleTeam',\n",
       "    'http://dbpedia.org/resource/Brabham']],\n",
       "  55],\n",
       " [[['?ra', 'http://dbpedia.org/ontology/thirdDriver', '?uri'],\n",
       "   ['?ra',\n",
       "    'http://dbpedia.org/ontology/poleDriverTeam',\n",
       "    'http://dbpedia.org/resource/Brabham']],\n",
       "  55],\n",
       " [[['?cr', 'http://dbpedia.org/ontology/poleDriver', '?uri'],\n",
       "   ['?cr',\n",
       "    'http://dbpedia.org/property/secondTeam',\n",
       "    'http://dbpedia.org/resource/Honda_in_Formula_One']],\n",
       "  56],\n",
       " [[['?nz', 'http://dbpedia.org/property/thirdDriver', '?uri'],\n",
       "   ['?nz',\n",
       "    'http://dbpedia.org/property/secondTeam',\n",
       "    'http://dbpedia.org/resource/Honda_in_Formula_One']],\n",
       "  56],\n",
       " [[['?rd', 'http://dbpedia.org/ontology/thirdDriver', '?uri'],\n",
       "   ['?rd',\n",
       "    'http://dbpedia.org/property/secondTeam',\n",
       "    'http://dbpedia.org/resource/Honda_in_Formula_One']],\n",
       "  56],\n",
       " [[['?ju', 'http://dbpedia.org/property/poleDriver', '?uri'],\n",
       "   ['?ju',\n",
       "    'http://dbpedia.org/property/secondTeam',\n",
       "    'http://dbpedia.org/resource/Honda_in_Formula_One']],\n",
       "  57],\n",
       " [[['?fr', 'http://dbpedia.org/ontology/firstDriver', '?uri'],\n",
       "   ['?fr',\n",
       "    'http://dbpedia.org/property/poleDriver',\n",
       "    'http://dbpedia.org/resource/Ayrton_Senna']],\n",
       "  59],\n",
       " [[['?id', 'http://dbpedia.org/property/firstDriver', '?uri'],\n",
       "   ['?id',\n",
       "    'http://dbpedia.org/property/poleDriver',\n",
       "    'http://dbpedia.org/resource/Ayrton_Senna']],\n",
       "  59],\n",
       " [[['?no', 'http://dbpedia.org/property/thirdDriver', '?uri'],\n",
       "   ['?no',\n",
       "    'http://dbpedia.org/property/poleDriver',\n",
       "    'http://dbpedia.org/resource/Ayrton_Senna']],\n",
       "  59],\n",
       " [[['?ql', 'http://dbpedia.org/ontology/thirdDriver', '?uri'],\n",
       "   ['?ql',\n",
       "    'http://dbpedia.org/property/poleDriver',\n",
       "    'http://dbpedia.org/resource/Ayrton_Senna']],\n",
       "  59],\n",
       " [[['?pk', 'http://dbpedia.org/ontology/thirdDriver', '?uri'],\n",
       "   ['?pk',\n",
       "    'http://dbpedia.org/ontology/location',\n",
       "    'http://dbpedia.org/resource/Circuit_de_Monaco']],\n",
       "  62],\n",
       " [[['?mp', 'http://dbpedia.org/property/thirdDriver', '?uri'],\n",
       "   ['?mp',\n",
       "    'http://dbpedia.org/ontology/location',\n",
       "    'http://dbpedia.org/resource/Circuit_de_Monaco']],\n",
       "  64],\n",
       " [[['?fq', 'http://dbpedia.org/ontology/firstDriver', '?uri'],\n",
       "   ['?fq',\n",
       "    'http://dbpedia.org/ontology/poleDriver',\n",
       "    'http://dbpedia.org/resource/Ayrton_Senna']],\n",
       "  65],\n",
       " [[['?ic', 'http://dbpedia.org/property/firstDriver', '?uri'],\n",
       "   ['?ic',\n",
       "    'http://dbpedia.org/ontology/poleDriver',\n",
       "    'http://dbpedia.org/resource/Ayrton_Senna']],\n",
       "  65],\n",
       " [[['?nl', 'http://dbpedia.org/property/thirdDriver', '?uri'],\n",
       "   ['?nl',\n",
       "    'http://dbpedia.org/ontology/poleDriver',\n",
       "    'http://dbpedia.org/resource/Ayrton_Senna']],\n",
       "  65],\n",
       " [[['?qi', 'http://dbpedia.org/ontology/thirdDriver', '?uri'],\n",
       "   ['?qi',\n",
       "    'http://dbpedia.org/ontology/poleDriver',\n",
       "    'http://dbpedia.org/resource/Ayrton_Senna']],\n",
       "  65],\n",
       " [[['?rg', 'http://dbpedia.org/ontology/thirdDriver', '?uri'],\n",
       "   ['?rg',\n",
       "    'http://dbpedia.org/property/location',\n",
       "    'http://dbpedia.org/resource/Circuit_de_Monaco']],\n",
       "  65],\n",
       " [[['?oc', 'http://dbpedia.org/property/thirdDriver', '?uri'],\n",
       "   ['?oc',\n",
       "    'http://dbpedia.org/property/location',\n",
       "    'http://dbpedia.org/resource/Circuit_de_Monaco']],\n",
       "  67],\n",
       " [[['?pw', 'http://dbpedia.org/ontology/thirdDriver', '?uri'],\n",
       "   ['?pw',\n",
       "    'http://www.georss.org/georss/point',\n",
       "    '43.73465 7.421333333333333']],\n",
       "  69],\n",
       " [[['?na', 'http://dbpedia.org/property/thirdDriver', '?uri'],\n",
       "   ['?na',\n",
       "    'http://www.georss.org/georss/point',\n",
       "    '43.73465 7.421333333333333']],\n",
       "  71],\n",
       " [[['?pa', 'http://dbpedia.org/ontology/thirdDriver', '?uri'],\n",
       "   ['?pa',\n",
       "    'http://dbpedia.org/property/firstTeam',\n",
       "    'http://dbpedia.org/resource/Honda_in_Formula_One']],\n",
       "  71],\n",
       " [[['?ct', 'http://dbpedia.org/ontology/poleDriver', '?uri'],\n",
       "   ['?ct',\n",
       "    'http://dbpedia.org/ontology/thirdTeam',\n",
       "    'http://dbpedia.org/resource/Team_Lotus']],\n",
       "  80],\n",
       " [[['?de', 'http://dbpedia.org/ontology/poleDriver', '?uri'],\n",
       "   ['?de',\n",
       "    'http://dbpedia.org/property/thirdTeam',\n",
       "    'http://dbpedia.org/resource/Team_Lotus']],\n",
       "  80],\n",
       " [[['?jw', 'http://dbpedia.org/property/poleDriver', '?uri'],\n",
       "   ['?jw',\n",
       "    'http://dbpedia.org/ontology/thirdTeam',\n",
       "    'http://dbpedia.org/resource/Team_Lotus']],\n",
       "  81],\n",
       " [[['?ap', 'http://dbpedia.org/ontology/secondDriver', '?uri'],\n",
       "   ['?ap',\n",
       "    'http://dbpedia.org/property/thirdTeam',\n",
       "    'http://dbpedia.org/resource/Williams_Grand_Prix_Engineering']],\n",
       "  84],\n",
       " [[['?bd', 'http://dbpedia.org/ontology/secondDriver', '?uri'],\n",
       "   ['?bd',\n",
       "    'http://dbpedia.org/ontology/thirdTeam',\n",
       "    'http://dbpedia.org/resource/Williams_Grand_Prix_Engineering']],\n",
       "  84],\n",
       " [[['?kh', 'http://dbpedia.org/property/poleDriver', '?uri'],\n",
       "   ['?kh',\n",
       "    'http://dbpedia.org/property/thirdTeam',\n",
       "    'http://dbpedia.org/resource/Team_Lotus']],\n",
       "  84],\n",
       " [[['?mc', 'http://dbpedia.org/property/secondDriver', '?uri'],\n",
       "   ['?mc',\n",
       "    'http://dbpedia.org/ontology/thirdTeam',\n",
       "    'http://dbpedia.org/resource/Williams_Grand_Prix_Engineering']],\n",
       "  84],\n",
       " [[['?mf', 'http://dbpedia.org/property/secondDriver', '?uri'],\n",
       "   ['?mf',\n",
       "    'http://dbpedia.org/property/thirdTeam',\n",
       "    'http://dbpedia.org/resource/Williams_Grand_Prix_Engineering']],\n",
       "  84],\n",
       " [[['?bh', 'http://dbpedia.org/ontology/poleDriver', '?uri'],\n",
       "   ['?bh',\n",
       "    'http://dbpedia.org/ontology/secondTeam',\n",
       "    'http://dbpedia.org/resource/Williams_Grand_Prix_Engineering']],\n",
       "  110],\n",
       " [[['?bj', 'http://dbpedia.org/ontology/poleDriver', '?uri'],\n",
       "   ['?bj',\n",
       "    'http://dbpedia.org/property/secondTeam',\n",
       "    'http://dbpedia.org/resource/Williams_Grand_Prix_Engineering']],\n",
       "  110],\n",
       " [[['?ep', 'http://dbpedia.org/ontology/firstDriver', '?uri'],\n",
       "   ['?ep',\n",
       "    'http://dbpedia.org/ontology/secondTeam',\n",
       "    'http://dbpedia.org/resource/Williams_Grand_Prix_Engineering']],\n",
       "  110],\n",
       " [[['?eq', 'http://dbpedia.org/ontology/firstDriver', '?uri'],\n",
       "   ['?eq',\n",
       "    'http://dbpedia.org/property/secondTeam',\n",
       "    'http://dbpedia.org/resource/Williams_Grand_Prix_Engineering']],\n",
       "  110],\n",
       " [[['?hd', 'http://dbpedia.org/property/firstDriver', '?uri'],\n",
       "   ['?hd',\n",
       "    'http://dbpedia.org/ontology/secondTeam',\n",
       "    'http://dbpedia.org/resource/Williams_Grand_Prix_Engineering']],\n",
       "  110],\n",
       " [[['?he', 'http://dbpedia.org/property/firstDriver', '?uri'],\n",
       "   ['?he',\n",
       "    'http://dbpedia.org/property/secondTeam',\n",
       "    'http://dbpedia.org/resource/Williams_Grand_Prix_Engineering']],\n",
       "  110],\n",
       " [[['?ir', 'http://dbpedia.org/property/poleDriver', '?uri'],\n",
       "   ['?ir',\n",
       "    'http://dbpedia.org/ontology/secondTeam',\n",
       "    'http://dbpedia.org/resource/Williams_Grand_Prix_Engineering']],\n",
       "  110],\n",
       " [[['?pe', 'http://dbpedia.org/ontology/thirdDriver', '?uri'],\n",
       "   ['?pe',\n",
       "    'http://dbpedia.org/ontology/secondTeam',\n",
       "    'http://dbpedia.org/resource/Williams_Grand_Prix_Engineering']],\n",
       "  110],\n",
       " [[['?pf', 'http://dbpedia.org/ontology/thirdDriver', '?uri'],\n",
       "   ['?pf',\n",
       "    'http://dbpedia.org/property/secondTeam',\n",
       "    'http://dbpedia.org/resource/Williams_Grand_Prix_Engineering']],\n",
       "  110],\n",
       " [[['?it', 'http://dbpedia.org/property/poleDriver', '?uri'],\n",
       "   ['?it',\n",
       "    'http://dbpedia.org/property/secondTeam',\n",
       "    'http://dbpedia.org/resource/Williams_Grand_Prix_Engineering']],\n",
       "  113],\n",
       " [[['?mi', 'http://dbpedia.org/property/thirdDriver', '?uri'],\n",
       "   ['?mi',\n",
       "    'http://dbpedia.org/property/firstTeam',\n",
       "    'http://dbpedia.org/resource/Williams_Grand_Prix_Engineering']],\n",
       "  117],\n",
       " [[['?mx', 'http://dbpedia.org/property/thirdDriver', '?uri'],\n",
       "   ['?mx',\n",
       "    'http://dbpedia.org/ontology/firstDriverTeam',\n",
       "    'http://dbpedia.org/resource/Williams_Grand_Prix_Engineering']],\n",
       "  117],\n",
       " [[['?oz', 'http://dbpedia.org/ontology/thirdDriver', '?uri'],\n",
       "   ['?oz',\n",
       "    'http://dbpedia.org/property/firstTeam',\n",
       "    'http://dbpedia.org/resource/Williams_Grand_Prix_Engineering']],\n",
       "  117],\n",
       " [[['?ps', 'http://dbpedia.org/ontology/thirdDriver', '?uri'],\n",
       "   ['?ps',\n",
       "    'http://dbpedia.org/ontology/firstDriverTeam',\n",
       "    'http://dbpedia.org/resource/Williams_Grand_Prix_Engineering']],\n",
       "  117],\n",
       " [[['?cv', 'http://dbpedia.org/ontology/poleDriver', '?uri'],\n",
       "   ['?cv',\n",
       "    'http://dbpedia.org/property/thirdTeam',\n",
       "    'http://dbpedia.org/resource/Renault_in_Formula_One']],\n",
       "  135],\n",
       " [[['?fh', 'http://dbpedia.org/ontology/firstDriver', '?uri'],\n",
       "   ['?fh',\n",
       "    'http://dbpedia.org/property/thirdTeam',\n",
       "    'http://dbpedia.org/resource/Renault_in_Formula_One']],\n",
       "  135],\n",
       " [[['?hv', 'http://dbpedia.org/property/firstDriver', '?uri'],\n",
       "   ['?hv',\n",
       "    'http://dbpedia.org/property/thirdTeam',\n",
       "    'http://dbpedia.org/resource/Renault_in_Formula_One']],\n",
       "  135],\n",
       " [[['?mv', 'http://dbpedia.org/property/thirdDriver', '?uri'],\n",
       "   ['?mv',\n",
       "    'http://dbpedia.org/ontology/fastestDriverTeam',\n",
       "    'http://dbpedia.org/resource/Williams_Grand_Prix_Engineering']],\n",
       "  136],\n",
       " [[['?mz', 'http://dbpedia.org/property/thirdDriver', '?uri'],\n",
       "   ['?mz',\n",
       "    'http://dbpedia.org/property/fastTeam',\n",
       "    'http://dbpedia.org/resource/Williams_Grand_Prix_Engineering']],\n",
       "  136],\n",
       " [[['?pq', 'http://dbpedia.org/ontology/thirdDriver', '?uri'],\n",
       "   ['?pq',\n",
       "    'http://dbpedia.org/ontology/fastestDriverTeam',\n",
       "    'http://dbpedia.org/resource/Williams_Grand_Prix_Engineering']],\n",
       "  136],\n",
       " [[['?pv', 'http://dbpedia.org/ontology/thirdDriver', '?uri'],\n",
       "   ['?pv',\n",
       "    'http://dbpedia.org/property/fastTeam',\n",
       "    'http://dbpedia.org/resource/Williams_Grand_Prix_Engineering']],\n",
       "  136],\n",
       " [[['?jy', 'http://dbpedia.org/property/poleDriver', '?uri'],\n",
       "   ['?jy',\n",
       "    'http://dbpedia.org/property/thirdTeam',\n",
       "    'http://dbpedia.org/resource/Renault_in_Formula_One']],\n",
       "  141],\n",
       " [[['?br', 'http://dbpedia.org/ontology/poleDriver', '?uri'],\n",
       "   ['?br',\n",
       "    'http://dbpedia.org/property/secondTeam',\n",
       "    'http://dbpedia.org/resource/Renault_in_Formula_One']],\n",
       "  147],\n",
       " [[['?cy', 'http://dbpedia.org/ontology/poleDriver', '?uri'],\n",
       "   ['?cy',\n",
       "    'http://dbpedia.org/property/thirdTeam',\n",
       "    'http://dbpedia.org/resource/McLaren']],\n",
       "  156],\n",
       " [[['?da', 'http://dbpedia.org/ontology/poleDriver', '?uri'],\n",
       "   ['?da',\n",
       "    'http://dbpedia.org/ontology/thirdTeam',\n",
       "    'http://dbpedia.org/resource/McLaren']],\n",
       "  156],\n",
       " [[['?ja', 'http://dbpedia.org/property/poleDriver', '?uri'],\n",
       "   ['?ja',\n",
       "    'http://dbpedia.org/property/secondTeam',\n",
       "    'http://dbpedia.org/resource/Renault_in_Formula_One']],\n",
       "  156],\n",
       " [[['?cp', 'http://dbpedia.org/ontology/poleDriver', '?uri'],\n",
       "   ['?cp',\n",
       "    'http://dbpedia.org/ontology/fastestDriverTeam',\n",
       "    'http://dbpedia.org/resource/McLaren']],\n",
       "  157],\n",
       " [[['?kd', 'http://dbpedia.org/property/poleDriver', '?uri'],\n",
       "   ['?kd',\n",
       "    'http://dbpedia.org/ontology/thirdTeam',\n",
       "    'http://dbpedia.org/resource/McLaren']],\n",
       "  157],\n",
       " [[['?js', 'http://dbpedia.org/property/poleDriver', '?uri'],\n",
       "   ['?js',\n",
       "    'http://dbpedia.org/ontology/fastestDriverTeam',\n",
       "    'http://dbpedia.org/resource/McLaren']],\n",
       "  158],\n",
       " [[['?nw', 'http://dbpedia.org/property/thirdDriver', '?uri'],\n",
       "   ['?nw',\n",
       "    'http://dbpedia.org/ontology/fastestDriverTeam',\n",
       "    'http://dbpedia.org/resource/McLaren']],\n",
       "  158],\n",
       " [[['?qz', 'http://dbpedia.org/ontology/thirdDriver', '?uri'],\n",
       "   ['?qz',\n",
       "    'http://dbpedia.org/ontology/fastestDriverTeam',\n",
       "    'http://dbpedia.org/resource/McLaren']],\n",
       "  158],\n",
       " [[['?cn', 'http://dbpedia.org/ontology/poleDriver', '?uri'],\n",
       "   ['?cn',\n",
       "    'http://dbpedia.org/property/fastTeam',\n",
       "    'http://dbpedia.org/resource/McLaren']],\n",
       "  159],\n",
       " [[['?jr', 'http://dbpedia.org/property/poleDriver', '?uri'],\n",
       "   ['?jr',\n",
       "    'http://dbpedia.org/property/fastTeam',\n",
       "    'http://dbpedia.org/resource/McLaren']],\n",
       "  160],\n",
       " [[['?nv', 'http://dbpedia.org/property/thirdDriver', '?uri'],\n",
       "   ['?nv',\n",
       "    'http://dbpedia.org/property/fastTeam',\n",
       "    'http://dbpedia.org/resource/McLaren']],\n",
       "  160],\n",
       " [[['?qy', 'http://dbpedia.org/ontology/thirdDriver', '?uri'],\n",
       "   ['?qy',\n",
       "    'http://dbpedia.org/property/fastTeam',\n",
       "    'http://dbpedia.org/resource/McLaren']],\n",
       "  160],\n",
       " [[['?et', 'http://dbpedia.org/ontology/firstDriver', '?uri'],\n",
       "   ['?et',\n",
       "    'http://dbpedia.org/property/poleTeam',\n",
       "    'http://dbpedia.org/resource/Team_Lotus']],\n",
       "  161],\n",
       " [[['?fw', 'http://dbpedia.org/ontology/firstDriver', '?uri'],\n",
       "   ['?fw',\n",
       "    'http://dbpedia.org/ontology/poleDriverTeam',\n",
       "    'http://dbpedia.org/resource/Team_Lotus']],\n",
       "  161],\n",
       " [[['?ih', 'http://dbpedia.org/property/firstDriver', '?uri'],\n",
       "   ['?ih',\n",
       "    'http://dbpedia.org/ontology/poleDriverTeam',\n",
       "    'http://dbpedia.org/resource/Team_Lotus']],\n",
       "  162],\n",
       " [[['?ny', 'http://dbpedia.org/property/thirdDriver', '?uri'],\n",
       "   ['?ny',\n",
       "    'http://dbpedia.org/ontology/poleDriverTeam',\n",
       "    'http://dbpedia.org/resource/Team_Lotus']],\n",
       "  162],\n",
       " [[['?pm', 'http://dbpedia.org/ontology/thirdDriver', '?uri'],\n",
       "   ['?pm',\n",
       "    'http://dbpedia.org/property/poleTeam',\n",
       "    'http://dbpedia.org/resource/Team_Lotus']],\n",
       "  162],\n",
       " [[['?rc', 'http://dbpedia.org/ontology/thirdDriver', '?uri'],\n",
       "   ['?rc',\n",
       "    'http://dbpedia.org/ontology/poleDriverTeam',\n",
       "    'http://dbpedia.org/resource/Team_Lotus']],\n",
       "  162],\n",
       " [[['?hh', 'http://dbpedia.org/property/firstDriver', '?uri'],\n",
       "   ['?hh',\n",
       "    'http://dbpedia.org/property/poleTeam',\n",
       "    'http://dbpedia.org/resource/Team_Lotus']],\n",
       "  163],\n",
       " [[['?kb', 'http://dbpedia.org/property/poleDriver', '?uri'],\n",
       "   ['?kb',\n",
       "    'http://dbpedia.org/property/thirdTeam',\n",
       "    'http://dbpedia.org/resource/McLaren']],\n",
       "  163],\n",
       " [[['?mr', 'http://dbpedia.org/property/thirdDriver', '?uri'],\n",
       "   ['?mr',\n",
       "    'http://dbpedia.org/property/poleTeam',\n",
       "    'http://dbpedia.org/resource/Team_Lotus']],\n",
       "  163],\n",
       " [[['?au', 'http://dbpedia.org/ontology/secondDriver', '?uri'],\n",
       "   ['?au',\n",
       "    'http://dbpedia.org/property/firstTeam',\n",
       "    'http://dbpedia.org/resource/Renault_in_Formula_One']],\n",
       "  165],\n",
       " [[['?ln', 'http://dbpedia.org/property/secondDriver', '?uri'],\n",
       "   ['?ln',\n",
       "    'http://dbpedia.org/property/firstTeam',\n",
       "    'http://dbpedia.org/resource/Renault_in_Formula_One']],\n",
       "  165],\n",
       " [[['?bb', 'http://dbpedia.org/ontology/secondDriver', '?uri'],\n",
       "   ['?bb',\n",
       "    'http://dbpedia.org/property/fastTeam',\n",
       "    'http://dbpedia.org/resource/Renault_in_Formula_One']],\n",
       "  169],\n",
       " [[['?dx', 'http://dbpedia.org/ontology/poleDriver', '?uri'],\n",
       "   ['?dx',\n",
       "    'http://dbpedia.org/property/fastTeam',\n",
       "    'http://dbpedia.org/resource/Renault_in_Formula_One']],\n",
       "  169],\n",
       " [[['?ky', 'http://dbpedia.org/property/poleDriver', '?uri'],\n",
       "   ['?ky',\n",
       "    'http://dbpedia.org/property/fastTeam',\n",
       "    'http://dbpedia.org/resource/Renault_in_Formula_One']],\n",
       "  169],\n",
       " [[['?lz', 'http://dbpedia.org/property/secondDriver', '?uri'],\n",
       "   ['?lz',\n",
       "    'http://dbpedia.org/property/fastTeam',\n",
       "    'http://dbpedia.org/resource/Renault_in_Formula_One']],\n",
       "  169],\n",
       " [[['?ci', 'http://dbpedia.org/ontology/poleDriver', '?uri'],\n",
       "   ['?ci',\n",
       "    'http://www.w3.org/1999/02/22-rdf-syntax-ns#type',\n",
       "    'http://dbpedia.org/dbtax/Competition']],\n",
       "  173],\n",
       " [[['?em', 'http://dbpedia.org/ontology/poleDriver', '?uri'],\n",
       "   ['?em',\n",
       "    'http://www.w3.org/1999/02/22-rdf-syntax-ns#type',\n",
       "    'http://dbpedia.org/ontology/Competition']],\n",
       "  173],\n",
       " [[['?aj', 'http://dbpedia.org/ontology/secondDriver', '?uri'],\n",
       "   ['?aj',\n",
       "    'http://www.w3.org/1999/02/22-rdf-syntax-ns#type',\n",
       "    'http://dbpedia.org/dbtax/Competition']],\n",
       "  180],\n",
       " [[['?bg', 'http://dbpedia.org/ontology/secondDriver', '?uri'],\n",
       "   ['?bg',\n",
       "    'http://www.w3.org/1999/02/22-rdf-syntax-ns#type',\n",
       "    'http://dbpedia.org/ontology/Competition']],\n",
       "  180],\n",
       " [[['?qm', 'http://dbpedia.org/ontology/thirdDriver', '?uri'],\n",
       "   ['?qm',\n",
       "    'http://www.w3.org/1999/02/22-rdf-syntax-ns#type',\n",
       "    'http://dbpedia.org/dbtax/Competition']],\n",
       "  181],\n",
       " [[['?ru', 'http://dbpedia.org/ontology/thirdDriver', '?uri'],\n",
       "   ['?ru',\n",
       "    'http://www.w3.org/1999/02/22-rdf-syntax-ns#type',\n",
       "    'http://dbpedia.org/ontology/Competition']],\n",
       "  181],\n",
       " [[['?ck', 'http://dbpedia.org/ontology/poleDriver', '?uri'],\n",
       "   ['?ck',\n",
       "    'http://dbpedia.org/property/firstTeam',\n",
       "    'http://dbpedia.org/resource/McLaren']],\n",
       "  185],\n",
       " [[['?dj', 'http://dbpedia.org/ontology/poleDriver', '?uri'],\n",
       "   ['?dj',\n",
       "    'http://dbpedia.org/ontology/firstDriverTeam',\n",
       "    'http://dbpedia.org/resource/McLaren']],\n",
       "  185],\n",
       " [[['?kl', 'http://dbpedia.org/property/poleDriver', '?uri'],\n",
       "   ['?kl',\n",
       "    'http://dbpedia.org/ontology/firstDriverTeam',\n",
       "    'http://dbpedia.org/resource/McLaren']],\n",
       "  186],\n",
       " [[['?mn', 'http://dbpedia.org/property/thirdDriver', '?uri'],\n",
       "   ['?mn',\n",
       "    'http://dbpedia.org/ontology/firstDriverTeam',\n",
       "    'http://dbpedia.org/resource/McLaren']],\n",
       "  186],\n",
       " [[['?ph', 'http://dbpedia.org/ontology/thirdDriver', '?uri'],\n",
       "   ['?ph',\n",
       "    'http://dbpedia.org/ontology/firstDriverTeam',\n",
       "    'http://dbpedia.org/resource/McLaren']],\n",
       "  186],\n",
       " [[['?qw', 'http://dbpedia.org/ontology/thirdDriver', '?uri'],\n",
       "   ['?qw',\n",
       "    'http://dbpedia.org/property/firstTeam',\n",
       "    'http://dbpedia.org/resource/McLaren']],\n",
       "  186],\n",
       " [[['?jo', 'http://dbpedia.org/property/poleDriver', '?uri'],\n",
       "   ['?jo',\n",
       "    'http://dbpedia.org/property/firstTeam',\n",
       "    'http://dbpedia.org/resource/McLaren']],\n",
       "  187],\n",
       " [[['?nt', 'http://dbpedia.org/property/thirdDriver', '?uri'],\n",
       "   ['?nt',\n",
       "    'http://dbpedia.org/property/firstTeam',\n",
       "    'http://dbpedia.org/resource/McLaren']],\n",
       "  188],\n",
       " [[['?lw', 'http://dbpedia.org/property/secondDriver', '?uri'],\n",
       "   ['?lw',\n",
       "    'http://www.w3.org/1999/02/22-rdf-syntax-ns#type',\n",
       "    'http://dbpedia.org/dbtax/Competition']],\n",
       "  195],\n",
       " [[['?me', 'http://dbpedia.org/property/secondDriver', '?uri'],\n",
       "   ['?me',\n",
       "    'http://www.w3.org/1999/02/22-rdf-syntax-ns#type',\n",
       "    'http://dbpedia.org/ontology/Competition']],\n",
       "  195],\n",
       " [[['?np', 'http://dbpedia.org/property/thirdDriver', '?uri'],\n",
       "   ['?np',\n",
       "    'http://www.w3.org/1999/02/22-rdf-syntax-ns#type',\n",
       "    'http://dbpedia.org/dbtax/Competition']],\n",
       "  196],\n",
       " [[['?op', 'http://dbpedia.org/property/thirdDriver', '?uri'],\n",
       "   ['?op',\n",
       "    'http://www.w3.org/1999/02/22-rdf-syntax-ns#type',\n",
       "    'http://dbpedia.org/ontology/Competition']],\n",
       "  196],\n",
       " [[['?am', 'http://dbpedia.org/ontology/secondDriver', '?uri'],\n",
       "   ['?am',\n",
       "    'http://dbpedia.org/property/poleTeam',\n",
       "    'http://dbpedia.org/resource/Renault_in_Formula_One']],\n",
       "  213],\n",
       " [[['?fg', 'http://dbpedia.org/ontology/firstDriver', '?uri'],\n",
       "   ['?fg',\n",
       "    'http://dbpedia.org/property/poleTeam',\n",
       "    'http://dbpedia.org/resource/Renault_in_Formula_One']],\n",
       "  213],\n",
       " [[['?hu', 'http://dbpedia.org/property/firstDriver', '?uri'],\n",
       "   ['?hu',\n",
       "    'http://dbpedia.org/property/poleTeam',\n",
       "    'http://dbpedia.org/resource/Renault_in_Formula_One']],\n",
       "  213],\n",
       " [[['?ma', 'http://dbpedia.org/property/secondDriver', '?uri'],\n",
       "   ['?ma',\n",
       "    'http://dbpedia.org/property/poleTeam',\n",
       "    'http://dbpedia.org/resource/Renault_in_Formula_One']],\n",
       "  213],\n",
       " [[['?ob', 'http://dbpedia.org/property/thirdDriver', '?uri'],\n",
       "   ['?ob',\n",
       "    'http://dbpedia.org/property/poleTeam',\n",
       "    'http://dbpedia.org/resource/Renault_in_Formula_One']],\n",
       "  213],\n",
       " [[['?rf', 'http://dbpedia.org/ontology/thirdDriver', '?uri'],\n",
       "   ['?rf',\n",
       "    'http://dbpedia.org/property/poleTeam',\n",
       "    'http://dbpedia.org/resource/Renault_in_Formula_One']],\n",
       "  213],\n",
       " [[['?pu', 'http://dbpedia.org/ontology/thirdDriver', '?uri'],\n",
       "   ['?pu',\n",
       "    'http://www.w3.org/1999/02/22-rdf-syntax-ns#type',\n",
       "    'http://www.w3.org/2003/01/geo/wgs84_pos#SpatialThing']],\n",
       "  228],\n",
       " [[['?pg', 'http://dbpedia.org/ontology/thirdDriver', '?uri'],\n",
       "   ['?pg',\n",
       "    'http://dbpedia.org/ontology/poleDriverTeam',\n",
       "    'http://dbpedia.org/resource/Scuderia_Ferrari']],\n",
       "  235],\n",
       " [[['?rk', 'http://dbpedia.org/ontology/thirdDriver', '?uri'],\n",
       "   ['?rk',\n",
       "    'http://dbpedia.org/property/poleTeam',\n",
       "    'http://dbpedia.org/resource/Scuderia_Ferrari']],\n",
       "  236],\n",
       " [[['?mm', 'http://dbpedia.org/property/thirdDriver', '?uri'],\n",
       "   ['?mm',\n",
       "    'http://dbpedia.org/ontology/poleDriverTeam',\n",
       "    'http://dbpedia.org/resource/Scuderia_Ferrari']],\n",
       "  237],\n",
       " [[['?og', 'http://dbpedia.org/property/thirdDriver', '?uri'],\n",
       "   ['?og',\n",
       "    'http://dbpedia.org/property/poleTeam',\n",
       "    'http://dbpedia.org/resource/Scuderia_Ferrari']],\n",
       "  238],\n",
       " [[['?jm', 'http://dbpedia.org/property/poleDriver', '?uri'],\n",
       "   ['?jm',\n",
       "    'http://www.w3.org/1999/02/22-rdf-syntax-ns#type',\n",
       "    'http://dbpedia.org/dbtax/Competition']],\n",
       "  241],\n",
       " [[['?lk', 'http://dbpedia.org/property/poleDriver', '?uri'],\n",
       "   ['?lk',\n",
       "    'http://www.w3.org/1999/02/22-rdf-syntax-ns#type',\n",
       "    'http://dbpedia.org/ontology/Competition']],\n",
       "  241],\n",
       " [[['?ro', 'http://dbpedia.org/ontology/thirdDriver', '?uri'],\n",
       "   ['?ro',\n",
       "    'http://dbpedia.org/property/fastTeam',\n",
       "    'http://dbpedia.org/resource/Scuderia_Ferrari']],\n",
       "  257],\n",
       " [[['?cw', 'http://dbpedia.org/ontology/poleDriver', '?uri'],\n",
       "   ['?cw',\n",
       "    'http://dbpedia.org/property/secondTeam',\n",
       "    'http://dbpedia.org/resource/Scuderia_Ferrari']],\n",
       "  259],\n",
       " [[['?fz', 'http://dbpedia.org/ontology/firstDriver', '?uri'],\n",
       "   ['?fz',\n",
       "    'http://dbpedia.org/property/fastTeam',\n",
       "    'http://dbpedia.org/resource/Scuderia_Ferrari']],\n",
       "  259],\n",
       " [[['?my', 'http://dbpedia.org/property/thirdDriver', '?uri'],\n",
       "   ['?my',\n",
       "    'http://www.w3.org/1999/02/22-rdf-syntax-ns#type',\n",
       "    'http://www.w3.org/2003/01/geo/wgs84_pos#SpatialThing']],\n",
       "  260],\n",
       " [[['?ok', 'http://dbpedia.org/property/thirdDriver', '?uri'],\n",
       "   ['?ok',\n",
       "    'http://dbpedia.org/property/fastTeam',\n",
       "    'http://dbpedia.org/resource/Scuderia_Ferrari']],\n",
       "  260],\n",
       " [[['?ik', 'http://dbpedia.org/property/firstDriver', '?uri'],\n",
       "   ['?ik',\n",
       "    'http://dbpedia.org/property/fastTeam',\n",
       "    'http://dbpedia.org/resource/Scuderia_Ferrari']],\n",
       "  261],\n",
       " [[['?pj', 'http://dbpedia.org/ontology/thirdDriver', '?uri'],\n",
       "   ['?pj',\n",
       "    'http://dbpedia.org/ontology/fastestDriverTeam',\n",
       "    'http://dbpedia.org/resource/Scuderia_Ferrari']],\n",
       "  263],\n",
       " [[['?rl', 'http://dbpedia.org/ontology/thirdDriver', '?uri'],\n",
       "   ['?rl',\n",
       "    'http://dbpedia.org/property/secondTeam',\n",
       "    'http://dbpedia.org/resource/Scuderia_Ferrari']],\n",
       "  263],\n",
       " [[['?fl', 'http://dbpedia.org/ontology/firstDriver', '?uri'],\n",
       "   ['?fl',\n",
       "    'http://dbpedia.org/ontology/fastestDriverTeam',\n",
       "    'http://dbpedia.org/resource/Scuderia_Ferrari']],\n",
       "  265],\n",
       " [[['?jz', 'http://dbpedia.org/property/poleDriver', '?uri'],\n",
       "   ['?jz',\n",
       "    'http://dbpedia.org/property/secondTeam',\n",
       "    'http://dbpedia.org/resource/Scuderia_Ferrari']],\n",
       "  266],\n",
       " [[['?oh', 'http://dbpedia.org/property/thirdDriver', '?uri'],\n",
       "   ['?oh',\n",
       "    'http://dbpedia.org/property/secondTeam',\n",
       "    'http://dbpedia.org/resource/Scuderia_Ferrari']],\n",
       "  266],\n",
       " [[['?hy', 'http://dbpedia.org/property/firstDriver', '?uri'],\n",
       "   ['?hy',\n",
       "    'http://dbpedia.org/ontology/fastestDriverTeam',\n",
       "    'http://dbpedia.org/resource/Scuderia_Ferrari']],\n",
       "  267],\n",
       " [[['?mo', 'http://dbpedia.org/property/thirdDriver', '?uri'],\n",
       "   ['?mo',\n",
       "    'http://dbpedia.org/ontology/fastestDriverTeam',\n",
       "    'http://dbpedia.org/resource/Scuderia_Ferrari']],\n",
       "  267],\n",
       " [[['?do', 'http://dbpedia.org/ontology/poleDriver', '?uri'],\n",
       "   ['?do',\n",
       "    'http://dbpedia.org/ontology/secondTeam',\n",
       "    'http://dbpedia.org/resource/Scuderia_Ferrari']],\n",
       "  275],\n",
       " [[['?kq', 'http://dbpedia.org/property/poleDriver', '?uri'],\n",
       "   ['?kq',\n",
       "    'http://dbpedia.org/ontology/secondTeam',\n",
       "    'http://dbpedia.org/resource/Scuderia_Ferrari']],\n",
       "  276],\n",
       " [[['?qf', 'http://dbpedia.org/ontology/thirdDriver', '?uri'],\n",
       "   ['?qf',\n",
       "    'http://dbpedia.org/ontology/secondTeam',\n",
       "    'http://dbpedia.org/resource/Scuderia_Ferrari']],\n",
       "  280],\n",
       " [[['?nj', 'http://dbpedia.org/property/thirdDriver', '?uri'],\n",
       "   ['?nj',\n",
       "    'http://dbpedia.org/ontology/secondTeam',\n",
       "    'http://dbpedia.org/resource/Scuderia_Ferrari']],\n",
       "  284],\n",
       " [[['?bo', 'http://dbpedia.org/ontology/poleDriver', '?uri'],\n",
       "   ['?bo',\n",
       "    'http://www.w3.org/1999/02/22-rdf-syntax-ns#type',\n",
       "    'http://dbpedia.org/ontology/Race']],\n",
       "  1126],\n",
       " [[['?ca', 'http://dbpedia.org/ontology/poleDriver', '?uri'],\n",
       "   ['?ca',\n",
       "    'http://www.w3.org/1999/02/22-rdf-syntax-ns#type',\n",
       "    'http://dbpedia.org/dbtax/Race']],\n",
       "  1126],\n",
       " [[['?pn', 'http://dbpedia.org/ontology/thirdDriver', '?uri'],\n",
       "   ['?pn',\n",
       "    'http://www.w3.org/1999/02/22-rdf-syntax-ns#type',\n",
       "    'http://dbpedia.org/ontology/Race']],\n",
       "  1157],\n",
       " [[['?qe', 'http://dbpedia.org/ontology/thirdDriver', '?uri'],\n",
       "   ['?qe',\n",
       "    'http://www.w3.org/1999/02/22-rdf-syntax-ns#type',\n",
       "    'http://dbpedia.org/dbtax/Race']],\n",
       "  1157],\n",
       " [[['?ab', 'http://dbpedia.org/ontology/secondDriver', '?uri'],\n",
       "   ['?ab',\n",
       "    'http://www.w3.org/1999/02/22-rdf-syntax-ns#type',\n",
       "    'http://dbpedia.org/ontology/Race']],\n",
       "  1161],\n",
       " [[['?ag', 'http://dbpedia.org/ontology/secondDriver', '?uri'],\n",
       "   ['?ag',\n",
       "    'http://www.w3.org/1999/02/22-rdf-syntax-ns#type',\n",
       "    'http://dbpedia.org/dbtax/Race']],\n",
       "  1161],\n",
       " [[['?eu', 'http://dbpedia.org/ontology/firstDriver', '?uri'],\n",
       "   ['?eu',\n",
       "    'http://www.w3.org/1999/02/22-rdf-syntax-ns#type',\n",
       "    'http://dbpedia.org/ontology/Race']],\n",
       "  1168],\n",
       " [[['?fa', 'http://dbpedia.org/ontology/firstDriver', '?uri'],\n",
       "   ['?fa',\n",
       "    'http://www.w3.org/1999/02/22-rdf-syntax-ns#type',\n",
       "    'http://dbpedia.org/dbtax/Race']],\n",
       "  1168],\n",
       " [[['?os', 'http://dbpedia.org/property/before', '?uri'],\n",
       "   ['?os',\n",
       "    'http://www.w3.org/1999/02/22-rdf-syntax-ns#type',\n",
       "    'http://dbpedia.org/ontology/FormulaOneRacer']],\n",
       "  1184],\n",
       " [[['?dm', 'http://dbpedia.org/ontology/poleDriver', '?uri'],\n",
       "   ['?dm',\n",
       "    'http://purl.org/linguistics/gold/hypernym',\n",
       "    'http://dbpedia.org/resource/Race']],\n",
       "  1192],\n",
       " [[['?gm', 'http://dbpedia.org/property/after', '?uri'],\n",
       "   ['?gm',\n",
       "    'http://www.w3.org/1999/02/22-rdf-syntax-ns#type',\n",
       "    'http://dbpedia.org/ontology/FormulaOneRacer']],\n",
       "  1198],\n",
       " [[['?pr', 'http://dbpedia.org/ontology/thirdDriver', '?uri'],\n",
       "   ['?pr',\n",
       "    'http://purl.org/linguistics/gold/hypernym',\n",
       "    'http://dbpedia.org/resource/Race']],\n",
       "  1225],\n",
       " [[['?av', 'http://dbpedia.org/ontology/secondDriver', '?uri'],\n",
       "   ['?av',\n",
       "    'http://purl.org/linguistics/gold/hypernym',\n",
       "    'http://dbpedia.org/resource/Race']],\n",
       "  1231],\n",
       " [[['?fn', 'http://dbpedia.org/ontology/firstDriver', '?uri'],\n",
       "   ['?fn',\n",
       "    'http://purl.org/linguistics/gold/hypernym',\n",
       "    'http://dbpedia.org/resource/Race']],\n",
       "  1243],\n",
       " [[['?bs', 'http://dbpedia.org/ontology/poleDriver', '?uri'],\n",
       "   ['?bs',\n",
       "    'http://www.w3.org/1999/02/22-rdf-syntax-ns#type',\n",
       "    'http://dbpedia.org/ontology/Event']],\n",
       "  1265],\n",
       " [[['?bu', 'http://dbpedia.org/ontology/poleDriver', '?uri'],\n",
       "   ['?bu',\n",
       "    'http://www.w3.org/1999/02/22-rdf-syntax-ns#type',\n",
       "    'http://dbpedia.org/ontology/SportsEvent']],\n",
       "  1265],\n",
       " [[['?bz', 'http://dbpedia.org/ontology/poleDriver', '?uri'],\n",
       "   ['?bz',\n",
       "    'http://www.w3.org/1999/02/22-rdf-syntax-ns#type',\n",
       "    'http://dbpedia.org/ontology/SocietalEvent']],\n",
       "  1265],\n",
       " [[['?cb', 'http://dbpedia.org/ontology/poleDriver', '?uri'],\n",
       "   ['?cb',\n",
       "    'http://www.w3.org/1999/02/22-rdf-syntax-ns#type',\n",
       "    'http://dbpedia.org/ontology/GrandPrix']],\n",
       "  1265],\n",
       " [[['?jg', 'http://dbpedia.org/property/poleDriver', '?uri'],\n",
       "   ['?jg',\n",
       "    'http://www.w3.org/1999/02/22-rdf-syntax-ns#type',\n",
       "    'http://dbpedia.org/ontology/SocietalEvent']],\n",
       "  1280],\n",
       " [[['?ji', 'http://dbpedia.org/property/poleDriver', '?uri'],\n",
       "   ['?ji',\n",
       "    'http://www.w3.org/1999/02/22-rdf-syntax-ns#type',\n",
       "    'http://dbpedia.org/ontology/GrandPrix']],\n",
       "  1280],\n",
       " [[['?jb', 'http://dbpedia.org/property/poleDriver', '?uri'],\n",
       "   ['?jb',\n",
       "    'http://www.w3.org/1999/02/22-rdf-syntax-ns#type',\n",
       "    'http://dbpedia.org/ontology/Event']],\n",
       "  1297],\n",
       " [[['?px', 'http://dbpedia.org/ontology/thirdDriver', '?uri'],\n",
       "   ['?px',\n",
       "    'http://www.w3.org/1999/02/22-rdf-syntax-ns#type',\n",
       "    'http://dbpedia.org/ontology/Event']],\n",
       "  1302],\n",
       " [[['?py', 'http://dbpedia.org/ontology/thirdDriver', '?uri'],\n",
       "   ['?py',\n",
       "    'http://www.w3.org/1999/02/22-rdf-syntax-ns#type',\n",
       "    'http://dbpedia.org/ontology/SportsEvent']],\n",
       "  1302],\n",
       " [[['?qa', 'http://dbpedia.org/ontology/thirdDriver', '?uri'],\n",
       "   ['?qa',\n",
       "    'http://www.w3.org/1999/02/22-rdf-syntax-ns#type',\n",
       "    'http://dbpedia.org/ontology/SocietalEvent']],\n",
       "  1302],\n",
       " [[['?qh', 'http://dbpedia.org/ontology/thirdDriver', '?uri'],\n",
       "   ['?qh',\n",
       "    'http://www.w3.org/1999/02/22-rdf-syntax-ns#type',\n",
       "    'http://dbpedia.org/ontology/GrandPrix']],\n",
       "  1302],\n",
       " [[['?ad', 'http://dbpedia.org/ontology/secondDriver', '?uri'],\n",
       "   ['?ad',\n",
       "    'http://www.w3.org/1999/02/22-rdf-syntax-ns#type',\n",
       "    'http://dbpedia.org/ontology/Event']],\n",
       "  1307],\n",
       " [[['?ae', 'http://dbpedia.org/ontology/secondDriver', '?uri'],\n",
       "   ['?ae',\n",
       "    'http://www.w3.org/1999/02/22-rdf-syntax-ns#type',\n",
       "    'http://dbpedia.org/ontology/SportsEvent']],\n",
       "  1307],\n",
       " [[['?af', 'http://dbpedia.org/ontology/secondDriver', '?uri'],\n",
       "   ['?af',\n",
       "    'http://www.w3.org/1999/02/22-rdf-syntax-ns#type',\n",
       "    'http://dbpedia.org/ontology/SocietalEvent']],\n",
       "  1307],\n",
       " [[['?ai', 'http://dbpedia.org/ontology/secondDriver', '?uri'],\n",
       "   ['?ai',\n",
       "    'http://www.w3.org/1999/02/22-rdf-syntax-ns#type',\n",
       "    'http://dbpedia.org/ontology/GrandPrix']],\n",
       "  1307],\n",
       " [[['?lp', 'http://dbpedia.org/property/secondDriver', '?uri'],\n",
       "   ['?lp',\n",
       "    'http://purl.org/linguistics/gold/hypernym',\n",
       "    'http://dbpedia.org/resource/Race']],\n",
       "  1318],\n",
       " [[['?ew', 'http://dbpedia.org/ontology/firstDriver', '?uri'],\n",
       "   ['?ew',\n",
       "    'http://www.w3.org/1999/02/22-rdf-syntax-ns#type',\n",
       "    'http://dbpedia.org/ontology/Event']],\n",
       "  1321],\n",
       " [[['?ey', 'http://dbpedia.org/ontology/firstDriver', '?uri'],\n",
       "   ['?ey',\n",
       "    'http://www.w3.org/1999/02/22-rdf-syntax-ns#type',\n",
       "    'http://dbpedia.org/ontology/SportsEvent']],\n",
       "  1321],\n",
       " [[['?ez', 'http://dbpedia.org/ontology/firstDriver', '?uri'],\n",
       "   ['?ez',\n",
       "    'http://www.w3.org/1999/02/22-rdf-syntax-ns#type',\n",
       "    'http://dbpedia.org/ontology/SocietalEvent']],\n",
       "  1321],\n",
       " [[['?fc', 'http://dbpedia.org/ontology/firstDriver', '?uri'],\n",
       "   ['?fc',\n",
       "    'http://www.w3.org/1999/02/22-rdf-syntax-ns#type',\n",
       "    'http://dbpedia.org/ontology/GrandPrix']],\n",
       "  1321],\n",
       " [[['?mw', 'http://dbpedia.org/property/thirdDriver', '?uri'],\n",
       "   ['?mw',\n",
       "    'http://purl.org/linguistics/gold/hypernym',\n",
       "    'http://dbpedia.org/resource/Race']],\n",
       "  1324],\n",
       " [[['?hn', 'http://dbpedia.org/property/firstDriver', '?uri'],\n",
       "   ['?hn',\n",
       "    'http://www.w3.org/1999/02/22-rdf-syntax-ns#type',\n",
       "    'http://dbpedia.org/ontology/SocietalEvent']],\n",
       "  1336],\n",
       " [[['?hq', 'http://dbpedia.org/property/firstDriver', '?uri'],\n",
       "   ['?hq',\n",
       "    'http://www.w3.org/1999/02/22-rdf-syntax-ns#type',\n",
       "    'http://dbpedia.org/ontology/GrandPrix']],\n",
       "  1336],\n",
       " [[['?hk', 'http://dbpedia.org/property/firstDriver', '?uri'],\n",
       "   ['?hk',\n",
       "    'http://www.w3.org/1999/02/22-rdf-syntax-ns#type',\n",
       "    'http://dbpedia.org/ontology/Event']],\n",
       "  1340],\n",
       " [[['?ls', 'http://dbpedia.org/property/secondDriver', '?uri'],\n",
       "   ['?ls',\n",
       "    'http://www.w3.org/1999/02/22-rdf-syntax-ns#type',\n",
       "    'http://dbpedia.org/ontology/SocietalEvent']],\n",
       "  1341],\n",
       " [[['?lv', 'http://dbpedia.org/property/secondDriver', '?uri'],\n",
       "   ['?lv',\n",
       "    'http://www.w3.org/1999/02/22-rdf-syntax-ns#type',\n",
       "    'http://dbpedia.org/ontology/GrandPrix']],\n",
       "  1341],\n",
       " [[['?lq', 'http://dbpedia.org/property/secondDriver', '?uri'],\n",
       "   ['?lq',\n",
       "    'http://www.w3.org/1999/02/22-rdf-syntax-ns#type',\n",
       "    'http://dbpedia.org/ontology/Event']],\n",
       "  1345],\n",
       " [[['?ne', 'http://dbpedia.org/property/thirdDriver', '?uri'],\n",
       "   ['?ne',\n",
       "    'http://www.w3.org/1999/02/22-rdf-syntax-ns#type',\n",
       "    'http://dbpedia.org/ontology/SocietalEvent']],\n",
       "  1347],\n",
       " [[['?nk', 'http://dbpedia.org/property/thirdDriver', '?uri'],\n",
       "   ['?nk',\n",
       "    'http://www.w3.org/1999/02/22-rdf-syntax-ns#type',\n",
       "    'http://dbpedia.org/ontology/GrandPrix']],\n",
       "  1347],\n",
       " [[['?nb', 'http://dbpedia.org/property/thirdDriver', '?uri'],\n",
       "   ['?nb',\n",
       "    'http://www.w3.org/1999/02/22-rdf-syntax-ns#type',\n",
       "    'http://dbpedia.org/ontology/Event']],\n",
       "  1351],\n",
       " [[['?lo', 'http://dbpedia.org/property/secondDriver', '?uri'],\n",
       "   ['?lo',\n",
       "    'http://www.w3.org/1999/02/22-rdf-syntax-ns#type',\n",
       "    'http://dbpedia.org/ontology/Race']],\n",
       "  1381],\n",
       " [[['?lu', 'http://dbpedia.org/property/secondDriver', '?uri'],\n",
       "   ['?lu',\n",
       "    'http://www.w3.org/1999/02/22-rdf-syntax-ns#type',\n",
       "    'http://dbpedia.org/dbtax/Race']],\n",
       "  1381],\n",
       " [[['?ms', 'http://dbpedia.org/property/thirdDriver', '?uri'],\n",
       "   ['?ms',\n",
       "    'http://www.w3.org/1999/02/22-rdf-syntax-ns#type',\n",
       "    'http://dbpedia.org/ontology/Race']],\n",
       "  1386],\n",
       " [[['?ni', 'http://dbpedia.org/property/thirdDriver', '?uri'],\n",
       "   ['?ni',\n",
       "    'http://www.w3.org/1999/02/22-rdf-syntax-ns#type',\n",
       "    'http://dbpedia.org/dbtax/Race']],\n",
       "  1386],\n",
       " [[['?lr', 'http://dbpedia.org/property/secondDriver', '?uri'],\n",
       "   ['?lr',\n",
       "    'http://www.w3.org/1999/02/22-rdf-syntax-ns#type',\n",
       "    'http://dbpedia.org/ontology/SportsEvent']],\n",
       "  1401],\n",
       " [[['?nc', 'http://dbpedia.org/property/thirdDriver', '?uri'],\n",
       "   ['?nc',\n",
       "    'http://www.w3.org/1999/02/22-rdf-syntax-ns#type',\n",
       "    'http://dbpedia.org/ontology/SportsEvent']],\n",
       "  1407],\n",
       " [[['?ia', 'http://dbpedia.org/property/firstDriver', '?uri'],\n",
       "   ['?ia',\n",
       "    'http://purl.org/linguistics/gold/hypernym',\n",
       "    'http://dbpedia.org/resource/Race']],\n",
       "  1748],\n",
       " [[['?ko', 'http://dbpedia.org/property/poleDriver', '?uri'],\n",
       "   ['?ko',\n",
       "    'http://purl.org/linguistics/gold/hypernym',\n",
       "    'http://dbpedia.org/resource/Race']],\n",
       "  1779],\n",
       " [[['?hm', 'http://dbpedia.org/property/firstDriver', '?uri'],\n",
       "   ['?hm',\n",
       "    'http://www.w3.org/1999/02/22-rdf-syntax-ns#type',\n",
       "    'http://dbpedia.org/ontology/SportsEvent']],\n",
       "  1977],\n",
       " [[['?hi', 'http://dbpedia.org/property/firstDriver', '?uri'],\n",
       "   ['?hi',\n",
       "    'http://www.w3.org/1999/02/22-rdf-syntax-ns#type',\n",
       "    'http://dbpedia.org/ontology/Race']],\n",
       "  1980],\n",
       " [[['?ho', 'http://dbpedia.org/property/firstDriver', '?uri'],\n",
       "   ['?ho',\n",
       "    'http://www.w3.org/1999/02/22-rdf-syntax-ns#type',\n",
       "    'http://dbpedia.org/dbtax/Race']],\n",
       "  1980],\n",
       " [[['?ix', 'http://dbpedia.org/property/poleDriver', '?uri'],\n",
       "   ['?ix',\n",
       "    'http://www.w3.org/1999/02/22-rdf-syntax-ns#type',\n",
       "    'http://dbpedia.org/ontology/Race']],\n",
       "  2007],\n",
       " [[['?jh', 'http://dbpedia.org/property/poleDriver', '?uri'],\n",
       "   ['?jh',\n",
       "    'http://www.w3.org/1999/02/22-rdf-syntax-ns#type',\n",
       "    'http://dbpedia.org/dbtax/Race']],\n",
       "  2007],\n",
       " [[['?jc', 'http://dbpedia.org/property/poleDriver', '?uri'],\n",
       "   ['?jc',\n",
       "    'http://www.w3.org/1999/02/22-rdf-syntax-ns#type',\n",
       "    'http://dbpedia.org/ontology/SportsEvent']],\n",
       "  2009],\n",
       " [[['?oy', 'http://dbpedia.org/property/before', '?uri'],\n",
       "   ['?oy',\n",
       "    'http://purl.org/linguistics/gold/hypernym',\n",
       "    'http://dbpedia.org/resource/Driver']],\n",
       "  2815],\n",
       " [[['?ha', 'http://dbpedia.org/property/after', '?uri'],\n",
       "   ['?ha',\n",
       "    'http://purl.org/linguistics/gold/hypernym',\n",
       "    'http://dbpedia.org/resource/Driver']],\n",
       "  2826],\n",
       " [[['?gt', 'http://dbpedia.org/property/after', '?uri'],\n",
       "   ['?gt',\n",
       "    'http://www.w3.org/1999/02/22-rdf-syntax-ns#type',\n",
       "    'http://dbpedia.org/ontology/MotorsportRacer']],\n",
       "  3646],\n",
       " [[['?ox', 'http://dbpedia.org/property/before', '?uri'],\n",
       "   ['?ox',\n",
       "    'http://www.w3.org/1999/02/22-rdf-syntax-ns#type',\n",
       "    'http://dbpedia.org/ontology/MotorsportRacer']],\n",
       "  3646],\n",
       " [[['?ov', 'http://dbpedia.org/property/before', '?uri'],\n",
       "   ['?ov',\n",
       "    'http://www.w3.org/1999/02/22-rdf-syntax-ns#type',\n",
       "    'http://dbpedia.org/ontology/RacingDriver']],\n",
       "  4094],\n",
       " [[['?gr', 'http://dbpedia.org/property/after', '?uri'],\n",
       "   ['?gr',\n",
       "    'http://www.w3.org/1999/02/22-rdf-syntax-ns#type',\n",
       "    'http://dbpedia.org/ontology/RacingDriver']],\n",
       "  4101],\n",
       " [[['?or', 'http://dbpedia.org/property/before', '?uri'],\n",
       "   ['?or',\n",
       "    'http://www.w3.org/1999/02/22-rdf-syntax-ns#type',\n",
       "    'http://dbpedia.org/dbtax/Driver']],\n",
       "  4176],\n",
       " [[['?gk', 'http://dbpedia.org/property/after', '?uri'],\n",
       "   ['?gk',\n",
       "    'http://www.w3.org/1999/02/22-rdf-syntax-ns#type',\n",
       "    'http://dbpedia.org/dbtax/Driver']],\n",
       "  4197],\n",
       " [[['?fj', 'http://dbpedia.org/ontology/firstDriver', '?uri'],\n",
       "   ['?fj',\n",
       "    'http://www.w3.org/1999/02/22-rdf-syntax-ns#type',\n",
       "    'http://dbpedia.org/ontology/SportsSeason']],\n",
       "  8999],\n",
       " [[['?fp', 'http://dbpedia.org/ontology/firstDriver', '?uri'],\n",
       "   ['?fp',\n",
       "    'http://www.w3.org/1999/02/22-rdf-syntax-ns#type',\n",
       "    'http://dbpedia.org/ontology/MotorsportSeason']],\n",
       "  9000],\n",
       " [[['?gn', 'http://dbpedia.org/property/after', '?uri'],\n",
       "   ['?gn',\n",
       "    'http://www.w3.org/1999/02/22-rdf-syntax-ns#type',\n",
       "    'http://dbpedia.org/ontology/Athlete']],\n",
       "  23739],\n",
       " [[['?ot', 'http://dbpedia.org/property/before', '?uri'],\n",
       "   ['?ot',\n",
       "    'http://www.w3.org/1999/02/22-rdf-syntax-ns#type',\n",
       "    'http://dbpedia.org/ontology/Athlete']],\n",
       "  23992],\n",
       " [[['?ou', 'http://dbpedia.org/property/before', '?uri'],\n",
       "   ['?ou',\n",
       "    'http://www.w3.org/1999/02/22-rdf-syntax-ns#type',\n",
       "    'http://xmlns.com/foaf/0.1/Person']],\n",
       "  158119],\n",
       " [[['?gp', 'http://dbpedia.org/property/after', '?uri'],\n",
       "   ['?gp',\n",
       "    'http://www.w3.org/1999/02/22-rdf-syntax-ns#type',\n",
       "    'http://xmlns.com/foaf/0.1/Person']],\n",
       "  158373],\n",
       " [[['?ow', 'http://dbpedia.org/property/before', '?uri'],\n",
       "   ['?ow',\n",
       "    'http://www.w3.org/1999/02/22-rdf-syntax-ns#type',\n",
       "    'http://dbpedia.org/ontology/Agent']],\n",
       "  160025],\n",
       " [[['?gs', 'http://dbpedia.org/property/after', '?uri'],\n",
       "   ['?gs',\n",
       "    'http://www.w3.org/1999/02/22-rdf-syntax-ns#type',\n",
       "    'http://dbpedia.org/ontology/Agent']],\n",
       "  160276],\n",
       " [[['?oq', 'http://dbpedia.org/property/before', '?uri'],\n",
       "   ['?oq',\n",
       "    'http://www.w3.org/1999/02/22-rdf-syntax-ns#type',\n",
       "    'http://dbpedia.org/ontology/Person']],\n",
       "  177604],\n",
       " [[['?gh', 'http://dbpedia.org/property/after', '?uri'],\n",
       "   ['?gh',\n",
       "    'http://www.w3.org/1999/02/22-rdf-syntax-ns#type',\n",
       "    'http://dbpedia.org/ontology/Person']],\n",
       "  178035]]"
      ]
     },
     "execution_count": 154,
     "metadata": {},
     "output_type": "execute_result"
    }
   ],
   "source": [
    "filtered_results[\"backward2\"]"
   ]
  },
  {
   "cell_type": "code",
   "execution_count": 155,
   "metadata": {
    "collapsed": false
   },
   "outputs": [],
   "source": [
    "THRESHOLD = np.mean([item[1] for item in filtered_results[\"backward2\"]])\n"
   ]
  },
  {
   "cell_type": "code",
   "execution_count": 159,
   "metadata": {
    "collapsed": true
   },
   "outputs": [
    {
     "name": "stderr",
     "output_type": "stream",
     "text": [
      "  1%|▎                                          | 2/266 [00:00<00:41,  6.41it/s]"
     ]
    },
    {
     "name": "stdout",
     "output_type": "stream",
     "text": [
      "6\n",
      "6\n"
     ]
    },
    {
     "name": "stderr",
     "output_type": "stream",
     "text": [
      "  2%|▋                                          | 4/266 [00:00<00:41,  6.31it/s]"
     ]
    },
    {
     "name": "stdout",
     "output_type": "stream",
     "text": [
      "8\n",
      "8\n"
     ]
    },
    {
     "name": "stderr",
     "output_type": "stream",
     "text": [
      "  2%|▉                                          | 6/266 [00:00<00:40,  6.36it/s]"
     ]
    },
    {
     "name": "stdout",
     "output_type": "stream",
     "text": [
      "7\n",
      "7\n"
     ]
    },
    {
     "name": "stderr",
     "output_type": "stream",
     "text": [
      "  3%|█▎                                         | 8/266 [00:01<00:40,  6.41it/s]"
     ]
    },
    {
     "name": "stdout",
     "output_type": "stream",
     "text": [
      "7\n",
      "7\n"
     ]
    },
    {
     "name": "stderr",
     "output_type": "stream",
     "text": [
      "  4%|█▌                                        | 10/266 [00:01<00:39,  6.43it/s]"
     ]
    },
    {
     "name": "stdout",
     "output_type": "stream",
     "text": [
      "6\n",
      "6\n"
     ]
    },
    {
     "name": "stderr",
     "output_type": "stream",
     "text": [
      "  5%|█▉                                        | 12/266 [00:01<00:39,  6.36it/s]"
     ]
    },
    {
     "name": "stdout",
     "output_type": "stream",
     "text": [
      "5\n",
      "5\n"
     ]
    },
    {
     "name": "stderr",
     "output_type": "stream",
     "text": [
      "  5%|██▏                                       | 14/266 [00:02<00:39,  6.31it/s]"
     ]
    },
    {
     "name": "stdout",
     "output_type": "stream",
     "text": [
      "6\n",
      "6\n"
     ]
    },
    {
     "name": "stderr",
     "output_type": "stream",
     "text": [
      "  6%|██▌                                       | 16/266 [00:02<00:39,  6.26it/s]"
     ]
    },
    {
     "name": "stdout",
     "output_type": "stream",
     "text": [
      "5\n",
      "5\n"
     ]
    },
    {
     "name": "stderr",
     "output_type": "stream",
     "text": [
      "  7%|██▊                                       | 18/266 [00:02<00:39,  6.31it/s]"
     ]
    },
    {
     "name": "stdout",
     "output_type": "stream",
     "text": [
      "10\n",
      "10\n"
     ]
    },
    {
     "name": "stderr",
     "output_type": "stream",
     "text": [
      "  8%|███▏                                      | 20/266 [00:03<00:38,  6.38it/s]"
     ]
    },
    {
     "name": "stdout",
     "output_type": "stream",
     "text": [
      "6\n",
      "11\n"
     ]
    },
    {
     "name": "stderr",
     "output_type": "stream",
     "text": [
      "  8%|███▍                                      | 22/266 [00:03<00:38,  6.41it/s]"
     ]
    },
    {
     "name": "stdout",
     "output_type": "stream",
     "text": [
      "6\n",
      "11\n"
     ]
    },
    {
     "name": "stderr",
     "output_type": "stream",
     "text": [
      "  9%|███▊                                      | 24/266 [00:03<00:37,  6.45it/s]"
     ]
    },
    {
     "name": "stdout",
     "output_type": "stream",
     "text": [
      "11\n",
      "11\n"
     ]
    },
    {
     "name": "stderr",
     "output_type": "stream",
     "text": [
      " 10%|████                                      | 26/266 [00:04<00:39,  6.13it/s]"
     ]
    },
    {
     "name": "stdout",
     "output_type": "stream",
     "text": [
      "9\n",
      "14\n"
     ]
    },
    {
     "name": "stderr",
     "output_type": "stream",
     "text": [
      " 11%|████▍                                     | 28/266 [00:04<00:38,  6.21it/s]"
     ]
    },
    {
     "name": "stdout",
     "output_type": "stream",
     "text": [
      "10\n",
      "14\n"
     ]
    },
    {
     "name": "stderr",
     "output_type": "stream",
     "text": [
      " 11%|████▋                                     | 30/266 [00:04<00:37,  6.28it/s]"
     ]
    },
    {
     "name": "stdout",
     "output_type": "stream",
     "text": [
      "11\n",
      "14\n"
     ]
    },
    {
     "name": "stderr",
     "output_type": "stream",
     "text": [
      " 12%|█████                                     | 32/266 [00:05<00:36,  6.36it/s]"
     ]
    },
    {
     "name": "stdout",
     "output_type": "stream",
     "text": [
      "9\n",
      "9\n"
     ]
    },
    {
     "name": "stderr",
     "output_type": "stream",
     "text": [
      " 13%|█████▎                                    | 34/266 [00:05<00:36,  6.38it/s]"
     ]
    },
    {
     "name": "stdout",
     "output_type": "stream",
     "text": [
      "14\n",
      "14\n"
     ]
    },
    {
     "name": "stderr",
     "output_type": "stream",
     "text": [
      " 14%|█████▋                                    | 36/266 [00:05<00:37,  6.17it/s]"
     ]
    },
    {
     "name": "stdout",
     "output_type": "stream",
     "text": [
      "14\n",
      "12\n"
     ]
    },
    {
     "name": "stderr",
     "output_type": "stream",
     "text": [
      " 14%|██████                                    | 38/266 [00:06<00:37,  6.10it/s]"
     ]
    },
    {
     "name": "stdout",
     "output_type": "stream",
     "text": [
      "11\n",
      "13\n"
     ]
    },
    {
     "name": "stderr",
     "output_type": "stream",
     "text": [
      " 15%|██████▎                                   | 40/266 [00:06<00:36,  6.27it/s]"
     ]
    },
    {
     "name": "stdout",
     "output_type": "stream",
     "text": [
      "12\n",
      "14\n"
     ]
    },
    {
     "name": "stderr",
     "output_type": "stream",
     "text": [
      " 16%|██████▋                                   | 42/266 [00:06<00:36,  6.06it/s]"
     ]
    },
    {
     "name": "stdout",
     "output_type": "stream",
     "text": [
      "13\n",
      "13\n"
     ]
    },
    {
     "name": "stderr",
     "output_type": "stream",
     "text": [
      " 17%|██████▉                                   | 44/266 [00:07<00:36,  6.15it/s]"
     ]
    },
    {
     "name": "stdout",
     "output_type": "stream",
     "text": [
      "15\n",
      "9\n"
     ]
    },
    {
     "name": "stderr",
     "output_type": "stream",
     "text": [
      " 17%|███████▎                                  | 46/266 [00:07<00:35,  6.24it/s]"
     ]
    },
    {
     "name": "stdout",
     "output_type": "stream",
     "text": [
      "15\n",
      "9\n"
     ]
    },
    {
     "name": "stderr",
     "output_type": "stream",
     "text": [
      " 18%|███████▌                                  | 48/266 [00:07<00:34,  6.32it/s]"
     ]
    },
    {
     "name": "stdout",
     "output_type": "stream",
     "text": [
      "11\n",
      "19\n"
     ]
    },
    {
     "name": "stderr",
     "output_type": "stream",
     "text": [
      " 19%|███████▉                                  | 50/266 [00:07<00:34,  6.28it/s]"
     ]
    },
    {
     "name": "stdout",
     "output_type": "stream",
     "text": [
      "10\n",
      "9\n"
     ]
    },
    {
     "name": "stderr",
     "output_type": "stream",
     "text": [
      " 20%|████████▏                                 | 52/266 [00:08<00:34,  6.27it/s]"
     ]
    },
    {
     "name": "stdout",
     "output_type": "stream",
     "text": [
      "16\n",
      "9\n"
     ]
    },
    {
     "name": "stderr",
     "output_type": "stream",
     "text": [
      " 20%|████████▌                                 | 54/266 [00:08<00:33,  6.26it/s]"
     ]
    },
    {
     "name": "stdout",
     "output_type": "stream",
     "text": [
      "9\n",
      "20\n"
     ]
    },
    {
     "name": "stderr",
     "output_type": "stream",
     "text": [
      " 21%|████████▊                                 | 56/266 [00:08<00:33,  6.25it/s]"
     ]
    },
    {
     "name": "stdout",
     "output_type": "stream",
     "text": [
      "20\n",
      "9\n"
     ]
    },
    {
     "name": "stderr",
     "output_type": "stream",
     "text": [
      " 22%|█████████▏                                | 58/266 [00:09<00:33,  6.25it/s]"
     ]
    },
    {
     "name": "stdout",
     "output_type": "stream",
     "text": [
      "9\n",
      "20\n"
     ]
    },
    {
     "name": "stderr",
     "output_type": "stream",
     "text": [
      " 23%|█████████▍                                | 60/266 [00:09<00:32,  6.32it/s]"
     ]
    },
    {
     "name": "stdout",
     "output_type": "stream",
     "text": [
      "21\n",
      "11\n"
     ]
    },
    {
     "name": "stderr",
     "output_type": "stream",
     "text": [
      " 23%|█████████▊                                | 62/266 [00:09<00:32,  6.32it/s]"
     ]
    },
    {
     "name": "stdout",
     "output_type": "stream",
     "text": [
      "11\n",
      "11\n"
     ]
    },
    {
     "name": "stderr",
     "output_type": "stream",
     "text": [
      " 24%|██████████                                | 64/266 [00:10<00:31,  6.37it/s]"
     ]
    },
    {
     "name": "stdout",
     "output_type": "stream",
     "text": [
      "11\n",
      "22\n"
     ]
    },
    {
     "name": "stderr",
     "output_type": "stream",
     "text": [
      " 25%|██████████▍                               | 66/266 [00:10<00:31,  6.36it/s]"
     ]
    },
    {
     "name": "stdout",
     "output_type": "stream",
     "text": [
      "22\n",
      "14\n"
     ]
    },
    {
     "name": "stderr",
     "output_type": "stream",
     "text": [
      " 26%|██████████▋                               | 68/266 [00:10<00:30,  6.39it/s]"
     ]
    },
    {
     "name": "stdout",
     "output_type": "stream",
     "text": [
      "20\n",
      "21\n"
     ]
    },
    {
     "name": "stderr",
     "output_type": "stream",
     "text": [
      " 26%|███████████                               | 70/266 [00:11<00:32,  6.03it/s]"
     ]
    },
    {
     "name": "stdout",
     "output_type": "stream",
     "text": [
      "14\n",
      "10\n"
     ]
    },
    {
     "name": "stderr",
     "output_type": "stream",
     "text": [
      " 27%|███████████▎                              | 72/266 [00:11<00:31,  6.08it/s]"
     ]
    },
    {
     "name": "stdout",
     "output_type": "stream",
     "text": [
      "10\n",
      "22\n"
     ]
    },
    {
     "name": "stderr",
     "output_type": "stream",
     "text": [
      " 28%|███████████▋                              | 74/266 [00:11<00:30,  6.28it/s]"
     ]
    },
    {
     "name": "stdout",
     "output_type": "stream",
     "text": [
      "22\n",
      "31\n"
     ]
    },
    {
     "name": "stderr",
     "output_type": "stream",
     "text": [
      " 29%|████████████                              | 76/266 [00:12<00:31,  5.99it/s]"
     ]
    },
    {
     "name": "stdout",
     "output_type": "stream",
     "text": [
      "32\n",
      "10\n"
     ]
    },
    {
     "name": "stderr",
     "output_type": "stream",
     "text": [
      " 29%|████████████▎                             | 78/266 [00:12<00:30,  6.08it/s]"
     ]
    },
    {
     "name": "stdout",
     "output_type": "stream",
     "text": [
      "10\n",
      "22\n"
     ]
    },
    {
     "name": "stderr",
     "output_type": "stream",
     "text": [
      " 30%|████████████▋                             | 80/266 [00:12<00:29,  6.30it/s]"
     ]
    },
    {
     "name": "stdout",
     "output_type": "stream",
     "text": [
      "23\n",
      "31\n"
     ]
    },
    {
     "name": "stderr",
     "output_type": "stream",
     "text": [
      " 31%|████████████▉                             | 82/266 [00:13<00:29,  6.32it/s]"
     ]
    },
    {
     "name": "stdout",
     "output_type": "stream",
     "text": [
      "32\n",
      "33\n"
     ]
    },
    {
     "name": "stderr",
     "output_type": "stream",
     "text": [
      " 32%|█████████████▎                            | 84/266 [00:13<00:28,  6.32it/s]"
     ]
    },
    {
     "name": "stdout",
     "output_type": "stream",
     "text": [
      "34\n",
      "22\n"
     ]
    },
    {
     "name": "stderr",
     "output_type": "stream",
     "text": [
      " 32%|█████████████▌                            | 86/266 [00:13<00:29,  6.20it/s]"
     ]
    },
    {
     "name": "stdout",
     "output_type": "stream",
     "text": [
      "17\n",
      "17\n"
     ]
    },
    {
     "name": "stderr",
     "output_type": "stream",
     "text": [
      " 33%|█████████████▉                            | 88/266 [00:14<00:28,  6.18it/s]"
     ]
    },
    {
     "name": "stdout",
     "output_type": "stream",
     "text": [
      "17\n",
      "27\n"
     ]
    },
    {
     "name": "stderr",
     "output_type": "stream",
     "text": [
      " 34%|██████████████▏                           | 90/266 [00:14<00:28,  6.23it/s]"
     ]
    },
    {
     "name": "stdout",
     "output_type": "stream",
     "text": [
      "27\n",
      "17\n"
     ]
    },
    {
     "name": "stderr",
     "output_type": "stream",
     "text": [
      " 35%|██████████████▌                           | 92/266 [00:14<00:27,  6.23it/s]"
     ]
    },
    {
     "name": "stdout",
     "output_type": "stream",
     "text": [
      "26\n",
      "26\n"
     ]
    },
    {
     "name": "stderr",
     "output_type": "stream",
     "text": [
      " 35%|██████████████▊                           | 94/266 [00:15<00:27,  6.16it/s]"
     ]
    },
    {
     "name": "stdout",
     "output_type": "stream",
     "text": [
      "22\n",
      "22\n"
     ]
    },
    {
     "name": "stderr",
     "output_type": "stream",
     "text": [
      " 36%|███████████████▏                          | 96/266 [00:15<00:29,  5.68it/s]"
     ]
    },
    {
     "name": "stdout",
     "output_type": "stream",
     "text": [
      "24\n",
      "24\n"
     ]
    },
    {
     "name": "stderr",
     "output_type": "stream",
     "text": [
      " 37%|███████████████▍                          | 98/266 [00:15<00:28,  5.91it/s]"
     ]
    },
    {
     "name": "stdout",
     "output_type": "stream",
     "text": [
      "21\n",
      "21\n"
     ]
    },
    {
     "name": "stderr",
     "output_type": "stream",
     "text": [
      " 38%|███████████████▍                         | 100/266 [00:16<00:27,  6.06it/s]"
     ]
    },
    {
     "name": "stdout",
     "output_type": "stream",
     "text": [
      "20\n",
      "32\n"
     ]
    },
    {
     "name": "stderr",
     "output_type": "stream",
     "text": [
      " 38%|███████████████▋                         | 102/266 [00:16<00:28,  5.81it/s]"
     ]
    },
    {
     "name": "stdout",
     "output_type": "stream",
     "text": [
      "32\n",
      "20\n"
     ]
    },
    {
     "name": "stderr",
     "output_type": "stream",
     "text": [
      " 39%|████████████████                         | 104/266 [00:16<00:27,  5.94it/s]"
     ]
    },
    {
     "name": "stdout",
     "output_type": "stream",
     "text": [
      "32\n",
      "32\n"
     ]
    },
    {
     "name": "stderr",
     "output_type": "stream",
     "text": [
      " 40%|████████████████▎                        | 106/266 [00:17<00:26,  6.12it/s]"
     ]
    },
    {
     "name": "stdout",
     "output_type": "stream",
     "text": [
      "36\n",
      "36\n"
     ]
    },
    {
     "name": "stderr",
     "output_type": "stream",
     "text": [
      " 41%|████████████████▋                        | 108/266 [00:17<00:27,  5.80it/s]"
     ]
    },
    {
     "name": "stdout",
     "output_type": "stream",
     "text": [
      "25\n",
      "24\n"
     ]
    },
    {
     "name": "stderr",
     "output_type": "stream",
     "text": [
      " 41%|████████████████▉                        | 110/266 [00:17<00:26,  5.81it/s]"
     ]
    },
    {
     "name": "stdout",
     "output_type": "stream",
     "text": [
      "24\n",
      "37\n"
     ]
    },
    {
     "name": "stderr",
     "output_type": "stream",
     "text": [
      " 42%|█████████████████▎                       | 112/266 [00:18<00:25,  6.02it/s]"
     ]
    },
    {
     "name": "stdout",
     "output_type": "stream",
     "text": [
      "37\n",
      "41\n"
     ]
    },
    {
     "name": "stderr",
     "output_type": "stream",
     "text": [
      " 43%|█████████████████▌                       | 114/266 [00:18<00:24,  6.12it/s]"
     ]
    },
    {
     "name": "stdout",
     "output_type": "stream",
     "text": [
      "41\n",
      "23\n"
     ]
    },
    {
     "name": "stderr",
     "output_type": "stream",
     "text": [
      " 44%|█████████████████▉                       | 116/266 [00:18<00:24,  6.12it/s]"
     ]
    },
    {
     "name": "stdout",
     "output_type": "stream",
     "text": [
      "27\n",
      "33\n"
     ]
    },
    {
     "name": "stderr",
     "output_type": "stream",
     "text": [
      " 44%|██████████████████▏                      | 118/266 [00:19<00:24,  5.95it/s]"
     ]
    },
    {
     "name": "stdout",
     "output_type": "stream",
     "text": [
      "33\n",
      "24\n"
     ]
    },
    {
     "name": "stderr",
     "output_type": "stream",
     "text": [
      " 45%|██████████████████▍                      | 120/266 [00:19<00:25,  5.74it/s]"
     ]
    },
    {
     "name": "stdout",
     "output_type": "stream",
     "text": [
      "33\n",
      "32\n"
     ]
    },
    {
     "name": "stderr",
     "output_type": "stream",
     "text": [
      " 46%|██████████████████▊                      | 122/266 [00:19<00:24,  5.81it/s]"
     ]
    },
    {
     "name": "stdout",
     "output_type": "stream",
     "text": [
      "29\n",
      "41\n"
     ]
    },
    {
     "name": "stderr",
     "output_type": "stream",
     "text": [
      " 47%|███████████████████                      | 124/266 [00:20<00:23,  6.04it/s]"
     ]
    },
    {
     "name": "stdout",
     "output_type": "stream",
     "text": [
      "42\n",
      "33\n"
     ]
    },
    {
     "name": "stderr",
     "output_type": "stream",
     "text": [
      " 47%|███████████████████▍                     | 126/266 [00:20<00:23,  5.92it/s]"
     ]
    },
    {
     "name": "stdout",
     "output_type": "stream",
     "text": [
      "29\n",
      "41\n"
     ]
    },
    {
     "name": "stderr",
     "output_type": "stream",
     "text": [
      " 48%|███████████████████▋                     | 128/266 [00:20<00:24,  5.74it/s]"
     ]
    },
    {
     "name": "stdout",
     "output_type": "stream",
     "text": [
      "42\n",
      "23\n"
     ]
    },
    {
     "name": "stderr",
     "output_type": "stream",
     "text": [
      " 49%|████████████████████                     | 130/266 [00:21<00:24,  5.55it/s]"
     ]
    },
    {
     "name": "stdout",
     "output_type": "stream",
     "text": [
      "23\n",
      "23\n"
     ]
    },
    {
     "name": "stderr",
     "output_type": "stream",
     "text": [
      " 50%|████████████████████▎                    | 132/266 [00:21<00:22,  5.87it/s]"
     ]
    },
    {
     "name": "stdout",
     "output_type": "stream",
     "text": [
      "42\n",
      "42\n"
     ]
    },
    {
     "name": "stderr",
     "output_type": "stream",
     "text": [
      " 50%|████████████████████▋                    | 134/266 [00:21<00:21,  6.12it/s]"
     ]
    },
    {
     "name": "stdout",
     "output_type": "stream",
     "text": [
      "42\n",
      "23\n"
     ]
    },
    {
     "name": "stderr",
     "output_type": "stream",
     "text": [
      " 51%|████████████████████▉                    | 136/266 [00:22<00:21,  6.06it/s]"
     ]
    },
    {
     "name": "stdout",
     "output_type": "stream",
     "text": [
      "32\n",
      "42\n"
     ]
    },
    {
     "name": "stderr",
     "output_type": "stream",
     "text": [
      " 52%|█████████████████████▎                   | 138/266 [00:22<00:20,  6.20it/s]"
     ]
    },
    {
     "name": "stdout",
     "output_type": "stream",
     "text": [
      "32\n",
      "32\n"
     ]
    },
    {
     "name": "stderr",
     "output_type": "stream",
     "text": [
      " 53%|█████████████████████▌                   | 140/266 [00:22<00:20,  6.14it/s]"
     ]
    },
    {
     "name": "stdout",
     "output_type": "stream",
     "text": [
      "39\n",
      "24\n"
     ]
    },
    {
     "name": "stderr",
     "output_type": "stream",
     "text": [
      " 53%|█████████████████████▉                   | 142/266 [00:23<00:20,  5.98it/s]"
     ]
    },
    {
     "name": "stdout",
     "output_type": "stream",
     "text": [
      "23\n",
      "39\n"
     ]
    },
    {
     "name": "stderr",
     "output_type": "stream",
     "text": [
      " 54%|██████████████████████▏                  | 144/266 [00:23<00:21,  5.61it/s]"
     ]
    },
    {
     "name": "stdout",
     "output_type": "stream",
     "text": [
      "39\n",
      "39\n"
     ]
    },
    {
     "name": "stderr",
     "output_type": "stream",
     "text": [
      " 55%|██████████████████████▌                  | 146/266 [00:23<00:22,  5.45it/s]"
     ]
    },
    {
     "name": "stdout",
     "output_type": "stream",
     "text": [
      "55\n",
      "55\n"
     ]
    },
    {
     "name": "stderr",
     "output_type": "stream",
     "text": [
      " 56%|██████████████████████▊                  | 148/266 [00:24<00:21,  5.38it/s]"
     ]
    },
    {
     "name": "stdout",
     "output_type": "stream",
     "text": [
      "61\n",
      "61\n"
     ]
    },
    {
     "name": "stderr",
     "output_type": "stream",
     "text": [
      " 56%|███████████████████████                  | 150/266 [00:24<00:20,  5.62it/s]"
     ]
    },
    {
     "name": "stdout",
     "output_type": "stream",
     "text": [
      "34\n",
      "34\n"
     ]
    },
    {
     "name": "stderr",
     "output_type": "stream",
     "text": [
      " 57%|███████████████████████▍                 | 152/266 [00:24<00:20,  5.69it/s]"
     ]
    },
    {
     "name": "stdout",
     "output_type": "stream",
     "text": [
      "31\n",
      "51\n"
     ]
    },
    {
     "name": "stderr",
     "output_type": "stream",
     "text": [
      " 58%|███████████████████████▋                 | 154/266 [00:25<00:18,  5.96it/s]"
     ]
    },
    {
     "name": "stdout",
     "output_type": "stream",
     "text": [
      "52\n",
      "52\n"
     ]
    },
    {
     "name": "stderr",
     "output_type": "stream",
     "text": [
      " 59%|████████████████████████                 | 156/266 [00:25<00:18,  5.85it/s]"
     ]
    },
    {
     "name": "stdout",
     "output_type": "stream",
     "text": [
      "31\n",
      "51\n"
     ]
    },
    {
     "name": "stderr",
     "output_type": "stream",
     "text": [
      " 59%|████████████████████████▎                | 158/266 [00:25<00:19,  5.54it/s]"
     ]
    },
    {
     "name": "stdout",
     "output_type": "stream",
     "text": [
      "54\n",
      "54\n"
     ]
    },
    {
     "name": "stderr",
     "output_type": "stream",
     "text": [
      " 60%|████████████████████████▋                | 160/266 [00:26<00:19,  5.37it/s]"
     ]
    },
    {
     "name": "stdout",
     "output_type": "stream",
     "text": [
      "59\n",
      "59\n"
     ]
    },
    {
     "name": "stderr",
     "output_type": "stream",
     "text": [
      " 61%|████████████████████████▉                | 162/266 [00:26<00:19,  5.45it/s]"
     ]
    },
    {
     "name": "stdout",
     "output_type": "stream",
     "text": [
      "39\n",
      "31\n"
     ]
    },
    {
     "name": "stderr",
     "output_type": "stream",
     "text": [
      " 62%|█████████████████████████▎               | 164/266 [00:27<00:17,  5.72it/s]"
     ]
    },
    {
     "name": "stdout",
     "output_type": "stream",
     "text": [
      "31\n",
      "38\n"
     ]
    },
    {
     "name": "stderr",
     "output_type": "stream",
     "text": [
      " 62%|█████████████████████████▌               | 166/266 [00:27<00:16,  5.97it/s]"
     ]
    },
    {
     "name": "stdout",
     "output_type": "stream",
     "text": [
      "41\n",
      "42\n"
     ]
    },
    {
     "name": "stderr",
     "output_type": "stream",
     "text": [
      " 63%|█████████████████████████▉               | 168/266 [00:27<00:16,  5.80it/s]"
     ]
    },
    {
     "name": "stdout",
     "output_type": "stream",
     "text": [
      "48\n",
      "73\n"
     ]
    },
    {
     "name": "stderr",
     "output_type": "stream",
     "text": [
      " 64%|██████████████████████████▏              | 170/266 [00:28<00:16,  5.80it/s]"
     ]
    },
    {
     "name": "stdout",
     "output_type": "stream",
     "text": [
      "73\n",
      "71\n"
     ]
    },
    {
     "name": "stderr",
     "output_type": "stream",
     "text": [
      " 64%|██████████████████████████▎              | 171/266 [00:28<00:16,  5.82it/s]"
     ]
    },
    {
     "name": "stdout",
     "output_type": "stream",
     "text": [
      "71\n"
     ]
    },
    {
     "name": "stderr",
     "output_type": "stream",
     "text": [
      " 65%|██████████████████████████▌              | 172/266 [00:28<00:17,  5.45it/s]"
     ]
    },
    {
     "name": "stdout",
     "output_type": "stream",
     "text": [
      "43\n"
     ]
    },
    {
     "name": "stderr",
     "output_type": "stream",
     "text": [
      " 65%|██████████████████████████▊              | 174/266 [00:28<00:16,  5.51it/s]"
     ]
    },
    {
     "name": "stdout",
     "output_type": "stream",
     "text": [
      "43\n",
      "73\n"
     ]
    },
    {
     "name": "stderr",
     "output_type": "stream",
     "text": [
      " 66%|███████████████████████████▏             | 176/266 [00:29<00:16,  5.48it/s]"
     ]
    },
    {
     "name": "stdout",
     "output_type": "stream",
     "text": [
      "46\n",
      "45\n"
     ]
    },
    {
     "name": "stderr",
     "output_type": "stream",
     "text": [
      " 67%|███████████████████████████▍             | 178/266 [00:29<00:15,  5.51it/s]"
     ]
    },
    {
     "name": "stdout",
     "output_type": "stream",
     "text": [
      "49\n",
      "74\n"
     ]
    },
    {
     "name": "stderr",
     "output_type": "stream",
     "text": [
      " 68%|███████████████████████████▋             | 180/266 [00:29<00:15,  5.67it/s]"
     ]
    },
    {
     "name": "stdout",
     "output_type": "stream",
     "text": [
      "44\n",
      "75\n"
     ]
    },
    {
     "name": "stderr",
     "output_type": "stream",
     "text": [
      " 68%|████████████████████████████             | 182/266 [00:30<00:14,  5.60it/s]"
     ]
    },
    {
     "name": "stdout",
     "output_type": "stream",
     "text": [
      "72\n",
      "46\n"
     ]
    },
    {
     "name": "stderr",
     "output_type": "stream",
     "text": [
      " 69%|████████████████████████████▎            | 184/266 [00:30<00:14,  5.72it/s]"
     ]
    },
    {
     "name": "stdout",
     "output_type": "stream",
     "text": [
      "44\n",
      "71\n"
     ]
    },
    {
     "name": "stderr",
     "output_type": "stream",
     "text": [
      " 70%|████████████████████████████▋            | 186/266 [00:30<00:14,  5.71it/s]"
     ]
    },
    {
     "name": "stdout",
     "output_type": "stream",
     "text": [
      "45\n",
      "75\n"
     ]
    },
    {
     "name": "stderr",
     "output_type": "stream",
     "text": [
      " 71%|████████████████████████████▉            | 188/266 [00:31<00:13,  5.62it/s]"
     ]
    },
    {
     "name": "stdout",
     "output_type": "stream",
     "text": [
      "46\n",
      "44\n"
     ]
    },
    {
     "name": "stderr",
     "output_type": "stream",
     "text": [
      " 71%|█████████████████████████████▎           | 190/266 [00:31<00:13,  5.67it/s]"
     ]
    },
    {
     "name": "stdout",
     "output_type": "stream",
     "text": [
      "73\n",
      "72\n"
     ]
    },
    {
     "name": "stderr",
     "output_type": "stream",
     "text": [
      " 72%|█████████████████████████████▍           | 191/266 [00:31<00:13,  5.37it/s]"
     ]
    },
    {
     "name": "stdout",
     "output_type": "stream",
     "text": [
      "80\n"
     ]
    },
    {
     "name": "stderr",
     "output_type": "stream",
     "text": [
      " 72%|█████████████████████████████▌           | 192/266 [00:32<00:14,  5.17it/s]"
     ]
    },
    {
     "name": "stdout",
     "output_type": "stream",
     "text": [
      "80\n"
     ]
    },
    {
     "name": "stderr",
     "output_type": "stream",
     "text": [
      " 73%|█████████████████████████████▋           | 193/266 [00:32<00:14,  5.02it/s]"
     ]
    },
    {
     "name": "stdout",
     "output_type": "stream",
     "text": [
      "148\n"
     ]
    },
    {
     "name": "stderr",
     "output_type": "stream",
     "text": [
      " 73%|█████████████████████████████▉           | 194/266 [00:32<00:14,  4.93it/s]"
     ]
    },
    {
     "name": "stdout",
     "output_type": "stream",
     "text": [
      "148\n"
     ]
    },
    {
     "name": "stderr",
     "output_type": "stream",
     "text": [
      " 73%|██████████████████████████████           | 195/266 [00:32<00:14,  4.89it/s]"
     ]
    },
    {
     "name": "stdout",
     "output_type": "stream",
     "text": [
      "112\n"
     ]
    },
    {
     "name": "stderr",
     "output_type": "stream",
     "text": [
      " 74%|██████████████████████████████▏          | 196/266 [00:32<00:14,  4.86it/s]"
     ]
    },
    {
     "name": "stdout",
     "output_type": "stream",
     "text": [
      "112\n"
     ]
    },
    {
     "name": "stderr",
     "output_type": "stream",
     "text": [
      " 74%|██████████████████████████████▎          | 197/266 [00:33<00:15,  4.59it/s]"
     ]
    },
    {
     "name": "stdout",
     "output_type": "stream",
     "text": [
      "89\n"
     ]
    },
    {
     "name": "stderr",
     "output_type": "stream",
     "text": [
      " 74%|██████████████████████████████▌          | 198/266 [00:33<00:15,  4.42it/s]"
     ]
    },
    {
     "name": "stdout",
     "output_type": "stream",
     "text": [
      "89\n"
     ]
    },
    {
     "name": "stderr",
     "output_type": "stream",
     "text": [
      " 75%|██████████████████████████████▊          | 200/266 [00:33<00:14,  4.45it/s]"
     ]
    },
    {
     "name": "stdout",
     "output_type": "stream",
     "text": [
      "210\n",
      "91\n"
     ]
    },
    {
     "name": "stderr",
     "output_type": "stream",
     "text": [
      " 76%|███████████████████████████████▏         | 202/266 [00:34<00:14,  4.48it/s]"
     ]
    },
    {
     "name": "stdout",
     "output_type": "stream",
     "text": [
      "215\n",
      "158\n"
     ]
    },
    {
     "name": "stderr",
     "output_type": "stream",
     "text": [
      " 77%|███████████████████████████████▍         | 204/266 [00:34<00:12,  5.14it/s]"
     ]
    },
    {
     "name": "stdout",
     "output_type": "stream",
     "text": [
      "130\n",
      "98\n"
     ]
    },
    {
     "name": "stderr",
     "output_type": "stream",
     "text": [
      " 77%|███████████████████████████████▌         | 205/266 [00:34<00:11,  5.17it/s]"
     ]
    },
    {
     "name": "stdout",
     "output_type": "stream",
     "text": [
      "96\n"
     ]
    },
    {
     "name": "stderr",
     "output_type": "stream",
     "text": [
      " 78%|███████████████████████████████▉         | 207/266 [00:35<00:11,  5.11it/s]"
     ]
    },
    {
     "name": "stdout",
     "output_type": "stream",
     "text": [
      "96\n",
      "96\n"
     ]
    },
    {
     "name": "stderr",
     "output_type": "stream",
     "text": [
      " 79%|████████████████████████████████▏        | 209/266 [00:35<00:10,  5.20it/s]"
     ]
    },
    {
     "name": "stdout",
     "output_type": "stream",
     "text": [
      "96\n",
      "94\n"
     ]
    },
    {
     "name": "stderr",
     "output_type": "stream",
     "text": [
      " 79%|████████████████████████████████▌        | 211/266 [00:36<00:10,  5.26it/s]"
     ]
    },
    {
     "name": "stdout",
     "output_type": "stream",
     "text": [
      "94\n",
      "95\n"
     ]
    },
    {
     "name": "stderr",
     "output_type": "stream",
     "text": [
      " 80%|████████████████████████████████▊        | 213/266 [00:36<00:10,  5.26it/s]"
     ]
    },
    {
     "name": "stdout",
     "output_type": "stream",
     "text": [
      "164\n",
      "164\n"
     ]
    },
    {
     "name": "stderr",
     "output_type": "stream",
     "text": [
      " 81%|█████████████████████████████████▏       | 215/266 [00:36<00:09,  5.25it/s]"
     ]
    },
    {
     "name": "stdout",
     "output_type": "stream",
     "text": [
      "164\n",
      "164\n"
     ]
    },
    {
     "name": "stderr",
     "output_type": "stream",
     "text": [
      " 82%|█████████████████████████████████▍       | 217/266 [00:37<00:09,  5.22it/s]"
     ]
    },
    {
     "name": "stdout",
     "output_type": "stream",
     "text": [
      "135\n",
      "135\n"
     ]
    },
    {
     "name": "stderr",
     "output_type": "stream",
     "text": [
      " 82%|█████████████████████████████████▊       | 219/266 [00:37<00:09,  5.21it/s]"
     ]
    },
    {
     "name": "stdout",
     "output_type": "stream",
     "text": [
      "135\n",
      "135\n"
     ]
    },
    {
     "name": "stderr",
     "output_type": "stream",
     "text": [
      " 83%|█████████████████████████████████▉       | 220/266 [00:37<00:08,  5.48it/s]"
     ]
    },
    {
     "name": "stdout",
     "output_type": "stream",
     "text": [
      "132\n"
     ]
    },
    {
     "name": "stderr",
     "output_type": "stream",
     "text": [
      " 83%|██████████████████████████████████       | 221/266 [00:37<00:08,  5.08it/s]"
     ]
    },
    {
     "name": "stdout",
     "output_type": "stream",
     "text": [
      "101\n"
     ]
    },
    {
     "name": "stderr",
     "output_type": "stream",
     "text": [
      " 83%|██████████████████████████████████▏      | 222/266 [00:38<00:09,  4.73it/s]"
     ]
    },
    {
     "name": "stdout",
     "output_type": "stream",
     "text": [
      "101\n"
     ]
    },
    {
     "name": "stderr",
     "output_type": "stream",
     "text": [
      " 84%|██████████████████████████████████▎      | 223/266 [00:38<00:09,  4.63it/s]"
     ]
    },
    {
     "name": "stdout",
     "output_type": "stream",
     "text": [
      "101\n"
     ]
    },
    {
     "name": "stderr",
     "output_type": "stream",
     "text": [
      " 85%|██████████████████████████████████▋      | 225/266 [00:38<00:08,  4.95it/s]"
     ]
    },
    {
     "name": "stdout",
     "output_type": "stream",
     "text": [
      "101\n",
      "157\n"
     ]
    },
    {
     "name": "stderr",
     "output_type": "stream",
     "text": [
      " 85%|██████████████████████████████████▉      | 227/266 [00:39<00:07,  5.09it/s]"
     ]
    },
    {
     "name": "stdout",
     "output_type": "stream",
     "text": [
      "100\n",
      "100\n"
     ]
    },
    {
     "name": "stderr",
     "output_type": "stream",
     "text": [
      " 86%|███████████████████████████████████▎     | 229/266 [00:39<00:07,  5.17it/s]"
     ]
    },
    {
     "name": "stdout",
     "output_type": "stream",
     "text": [
      "100\n",
      "135\n"
     ]
    },
    {
     "name": "stderr",
     "output_type": "stream",
     "text": [
      " 87%|███████████████████████████████████▌     | 231/266 [00:39<00:06,  5.21it/s]"
     ]
    },
    {
     "name": "stdout",
     "output_type": "stream",
     "text": [
      "135\n",
      "135\n"
     ]
    },
    {
     "name": "stderr",
     "output_type": "stream",
     "text": [
      " 88%|███████████████████████████████████▉     | 233/266 [00:40<00:06,  5.18it/s]"
     ]
    },
    {
     "name": "stdout",
     "output_type": "stream",
     "text": [
      "160\n",
      "160\n"
     ]
    },
    {
     "name": "stderr",
     "output_type": "stream",
     "text": [
      " 88%|████████████████████████████████████     | 234/266 [00:40<00:06,  5.18it/s]"
     ]
    },
    {
     "name": "stdout",
     "output_type": "stream",
     "text": [
      "160\n"
     ]
    },
    {
     "name": "stderr",
     "output_type": "stream",
     "text": [
      " 88%|████████████████████████████████████▏    | 235/266 [00:40<00:06,  5.06it/s]"
     ]
    },
    {
     "name": "stdout",
     "output_type": "stream",
     "text": [
      "118\n"
     ]
    },
    {
     "name": "stderr",
     "output_type": "stream",
     "text": [
      " 89%|████████████████████████████████████▍    | 236/266 [00:40<00:06,  4.98it/s]"
     ]
    },
    {
     "name": "stdout",
     "output_type": "stream",
     "text": [
      "118\n"
     ]
    },
    {
     "name": "stderr",
     "output_type": "stream",
     "text": [
      " 89%|████████████████████████████████████▌    | 237/266 [00:41<00:05,  4.89it/s]"
     ]
    },
    {
     "name": "stdout",
     "output_type": "stream",
     "text": [
      "149\n"
     ]
    },
    {
     "name": "stderr",
     "output_type": "stream",
     "text": [
      " 90%|████████████████████████████████████▊    | 239/266 [00:41<00:05,  4.95it/s]"
     ]
    },
    {
     "name": "stdout",
     "output_type": "stream",
     "text": [
      "149\n",
      "138\n"
     ]
    },
    {
     "name": "stderr",
     "output_type": "stream",
     "text": [
      " 91%|█████████████████████████████████████▏   | 241/266 [00:41<00:04,  5.39it/s]"
     ]
    },
    {
     "name": "stdout",
     "output_type": "stream",
     "text": [
      "162\n",
      "99\n"
     ]
    },
    {
     "name": "stderr",
     "output_type": "stream",
     "text": [
      " 91%|█████████████████████████████████████▎   | 242/266 [00:42<00:04,  5.66it/s]"
     ]
    },
    {
     "name": "stdout",
     "output_type": "stream",
     "text": [
      "95\n"
     ]
    },
    {
     "name": "stderr",
     "output_type": "stream",
     "text": [
      " 91%|█████████████████████████████████████▍   | 243/266 [00:42<00:04,  5.36it/s]"
     ]
    },
    {
     "name": "stdout",
     "output_type": "stream",
     "text": [
      "102\n"
     ]
    },
    {
     "name": "stderr",
     "output_type": "stream",
     "text": [
      " 92%|█████████████████████████████████████▌   | 244/266 [00:42<00:04,  4.69it/s]"
     ]
    },
    {
     "name": "stdout",
     "output_type": "stream",
     "text": [
      "94\n"
     ]
    },
    {
     "name": "stderr",
     "output_type": "stream",
     "text": [
      " 92%|█████████████████████████████████████▊   | 245/266 [00:42<00:04,  4.58it/s]"
     ]
    },
    {
     "name": "stdout",
     "output_type": "stream",
     "text": [
      "94\n"
     ]
    },
    {
     "name": "stderr",
     "output_type": "stream",
     "text": [
      " 92%|█████████████████████████████████████▉   | 246/266 [00:42<00:04,  4.64it/s]"
     ]
    },
    {
     "name": "stdout",
     "output_type": "stream",
     "text": [
      "85\n"
     ]
    },
    {
     "name": "stderr",
     "output_type": "stream",
     "text": [
      " 93%|██████████████████████████████████████   | 247/266 [00:43<00:04,  4.70it/s]"
     ]
    },
    {
     "name": "stdout",
     "output_type": "stream",
     "text": [
      "85\n"
     ]
    },
    {
     "name": "stderr",
     "output_type": "stream",
     "text": [
      " 93%|██████████████████████████████████████▏  | 248/266 [00:43<00:03,  4.73it/s]"
     ]
    },
    {
     "name": "stdout",
     "output_type": "stream",
     "text": [
      "99\n"
     ]
    },
    {
     "name": "stderr",
     "output_type": "stream",
     "text": [
      " 94%|██████████████████████████████████████▍  | 249/266 [00:43<00:05,  3.26it/s]"
     ]
    },
    {
     "name": "stdout",
     "output_type": "stream",
     "text": [
      "234\n"
     ]
    },
    {
     "name": "stderr",
     "output_type": "stream",
     "text": [
      " 94%|██████████████████████████████████████▌  | 250/266 [00:44<00:04,  3.32it/s]"
     ]
    },
    {
     "name": "stdout",
     "output_type": "stream",
     "text": [
      "236\n"
     ]
    },
    {
     "name": "stderr",
     "output_type": "stream",
     "text": [
      " 94%|██████████████████████████████████████▋  | 251/266 [00:44<00:04,  3.21it/s]"
     ]
    },
    {
     "name": "stdout",
     "output_type": "stream",
     "text": [
      "251\n"
     ]
    },
    {
     "name": "stderr",
     "output_type": "stream",
     "text": [
      " 95%|██████████████████████████████████████▊  | 252/266 [00:44<00:04,  3.09it/s]"
     ]
    },
    {
     "name": "stdout",
     "output_type": "stream",
     "text": [
      "243\n"
     ]
    },
    {
     "name": "stderr",
     "output_type": "stream",
     "text": [
      " 95%|██████████████████████████████████████▉  | 253/266 [00:45<00:04,  3.08it/s]"
     ]
    },
    {
     "name": "stdout",
     "output_type": "stream",
     "text": [
      "256\n"
     ]
    },
    {
     "name": "stderr",
     "output_type": "stream",
     "text": [
      " 95%|███████████████████████████████████████▏ | 254/266 [00:45<00:03,  3.06it/s]"
     ]
    },
    {
     "name": "stdout",
     "output_type": "stream",
     "text": [
      "267\n"
     ]
    },
    {
     "name": "stderr",
     "output_type": "stream",
     "text": [
      " 96%|███████████████████████████████████████▎ | 255/266 [00:45<00:03,  3.05it/s]"
     ]
    },
    {
     "name": "stdout",
     "output_type": "stream",
     "text": [
      "261\n"
     ]
    },
    {
     "name": "stderr",
     "output_type": "stream",
     "text": [
      " 96%|███████████████████████████████████████▍ | 256/266 [00:46<00:03,  3.03it/s]"
     ]
    },
    {
     "name": "stdout",
     "output_type": "stream",
     "text": [
      "267\n"
     ]
    },
    {
     "name": "stderr",
     "output_type": "stream",
     "text": [
      " 97%|███████████████████████████████████████▌ | 257/266 [00:46<00:02,  3.32it/s]"
     ]
    },
    {
     "name": "stdout",
     "output_type": "stream",
     "text": [
      "364\n"
     ]
    },
    {
     "name": "stderr",
     "output_type": "stream",
     "text": [
      " 97%|███████████████████████████████████████▊ | 258/266 [00:46<00:02,  3.48it/s]"
     ]
    },
    {
     "name": "stdout",
     "output_type": "stream",
     "text": [
      "364\n"
     ]
    },
    {
     "name": "stderr",
     "output_type": "stream",
     "text": [
      " 97%|███████████████████████████████████████▉ | 259/266 [00:47<00:02,  3.08it/s]"
     ]
    },
    {
     "name": "stdout",
     "output_type": "stream",
     "text": [
      "251\n"
     ]
    },
    {
     "name": "stderr",
     "output_type": "stream",
     "text": [
      " 98%|████████████████████████████████████████ | 260/266 [00:47<00:01,  3.12it/s]"
     ]
    },
    {
     "name": "stdout",
     "output_type": "stream",
     "text": [
      "243\n"
     ]
    },
    {
     "name": "stderr",
     "output_type": "stream",
     "text": [
      " 98%|████████████████████████████████████████▏| 261/266 [00:47<00:01,  3.09it/s]"
     ]
    },
    {
     "name": "stdout",
     "output_type": "stream",
     "text": [
      "259\n"
     ]
    },
    {
     "name": "stderr",
     "output_type": "stream",
     "text": [
      " 98%|████████████████████████████████████████▍| 262/266 [00:48<00:01,  3.07it/s]"
     ]
    },
    {
     "name": "stdout",
     "output_type": "stream",
     "text": [
      "262\n"
     ]
    },
    {
     "name": "stderr",
     "output_type": "stream",
     "text": [
      " 99%|████████████████████████████████████████▌| 263/266 [00:48<00:00,  3.07it/s]"
     ]
    },
    {
     "name": "stdout",
     "output_type": "stream",
     "text": [
      "259\n"
     ]
    },
    {
     "name": "stderr",
     "output_type": "stream",
     "text": [
      " 99%|████████████████████████████████████████▋| 264/266 [00:48<00:00,  3.06it/s]"
     ]
    },
    {
     "name": "stdout",
     "output_type": "stream",
     "text": [
      "262\n"
     ]
    },
    {
     "name": "stderr",
     "output_type": "stream",
     "text": [
      "100%|████████████████████████████████████████▊| 265/266 [00:49<00:00,  3.02it/s]"
     ]
    },
    {
     "name": "stdout",
     "output_type": "stream",
     "text": [
      "260\n"
     ]
    },
    {
     "name": "stderr",
     "output_type": "stream",
     "text": [
      "100%|█████████████████████████████████████████| 266/266 [00:49<00:00,  5.38it/s]"
     ]
    },
    {
     "name": "stdout",
     "output_type": "stream",
     "text": [
      "264\n",
      "record_seed ['http://dbpedia.org/resource/Ayrton_Senna', 'http://dbpedia.org/resource/Alain_Prost', 'http://dbpedia.org/resource/Elio_de_Angelis', 'http://dbpedia.org/resource/Nelson_Piquet']\n",
      "record_gold:  ['http://dbpedia.org/resource/Nigel_Mansell', 'http://dbpedia.org/resource/Patrick_Tambay', 'http://dbpedia.org/resource/David_Coulthard', 'http://dbpedia.org/resource/Heinz-Harald_Frentzen', 'http://dbpedia.org/resource/Riccardo_Patrese', 'http://dbpedia.org/resource/Jim_Clark', 'http://dbpedia.org/resource/Ralf_Schumacher', 'http://dbpedia.org/resource/Fernando_Alonso', 'http://dbpedia.org/resource/Michael_Schumacher', 'http://dbpedia.org/resource/Damon_Hill', 'http://dbpedia.org/resource/Didier_Pironi', 'http://dbpedia.org/resource/Niki_Lauda']\n",
      "record_results:  {'http://dbpedia.org/resource/Alain_Prost', 'http://dbpedia.org/resource/Elio_de_Angelis', 'http://dbpedia.org/resource/Nelson_Piquet', 'http://dbpedia.org/resource/Ayrton_Senna'}\n",
      "9 9\n",
      "462 266\n",
      "len record_results:  4\n"
     ]
    },
    {
     "name": "stderr",
     "output_type": "stream",
     "text": [
      "\n"
     ]
    }
   ],
   "source": [
    "record_results = complex_partly_query_run(filtered_results)\n",
    "\n",
    "\n",
    "print(\"record_seed\", record_seed)\n",
    "print(\"record_gold: \", record_gold)\n",
    "\n",
    "print(\"record_results: \", record_results)\n",
    "\n",
    "for k in result.keys():\n",
    "    print(len(result[k]), len(filtered_results[k]))\n",
    "\n",
    "print(\"len record_results: \", len(record_results))"
   ]
  },
  {
   "cell_type": "code",
   "execution_count": null,
   "metadata": {
    "collapsed": false
   },
   "outputs": [],
   "source": [
    "last_part = [[item[1], item[0][1][2]] for item in filtered_results[\"backward2\"]]"
   ]
  },
  {
   "cell_type": "code",
   "execution_count": null,
   "metadata": {
    "collapsed": false
   },
   "outputs": [],
   "source": [
    "import pandas as pd\n",
    "from IPython.display import display, HTML\n",
    "pd.set_option('display.max_rows', 500)\n",
    "pdf = pd.DataFrame(last_part, columns = [\"QueryResultCount\", \"EndNode\"])\n",
    "pdf_grouped = pdf.groupby(\"EndNode\").agg({\"QueryResultCount\": lambda x: list(x)}).reset_index()\n",
    "pdf_grouped[\"len\"] = pdf_grouped[\"QueryResultCount\"].apply(lambda x: len(x))\n",
    "pdf_grouped[\"LastPart\"] = pdf_grouped[\"EndNode\"].apply(lambda x: x.split(\"/\")[-1])\n",
    "pdf_grouped[\"CorePart\"] = pdf_grouped[\"EndNode\"].apply(lambda x: \"/\".join(x.split(\"/\")[:-1]))\n",
    "pdf_grouped = pdf_grouped.sort_values(\"LastPart\")"
   ]
  },
  {
   "cell_type": "code",
   "execution_count": 145,
   "metadata": {
    "collapsed": false
   },
   "outputs": [
    {
     "data": {
      "text/html": [
       "<div>\n",
       "<style scoped>\n",
       "    .dataframe tbody tr th:only-of-type {\n",
       "        vertical-align: middle;\n",
       "    }\n",
       "\n",
       "    .dataframe tbody tr th {\n",
       "        vertical-align: top;\n",
       "    }\n",
       "\n",
       "    .dataframe thead th {\n",
       "        text-align: right;\n",
       "    }\n",
       "</style>\n",
       "<table border=\"1\" class=\"dataframe\">\n",
       "  <thead>\n",
       "    <tr style=\"text-align: right;\">\n",
       "      <th></th>\n",
       "      <th>EndNode</th>\n",
       "      <th>QueryResultCount</th>\n",
       "      <th>len</th>\n",
       "      <th>LastPart</th>\n",
       "      <th>CorePart</th>\n",
       "    </tr>\n",
       "  </thead>\n",
       "  <tbody>\n",
       "    <tr>\n",
       "      <th>0</th>\n",
       "      <td>43.73465 7.421333333333333</td>\n",
       "      <td>[69, 71]</td>\n",
       "      <td>2</td>\n",
       "      <td>43.73465 7.421333333333333</td>\n",
       "      <td></td>\n",
       "    </tr>\n",
       "    <tr>\n",
       "      <th>4</th>\n",
       "      <td>http://dbpedia.org/ontology/Agent</td>\n",
       "      <td>[160025, 160276]</td>\n",
       "      <td>2</td>\n",
       "      <td>Agent</td>\n",
       "      <td>http://dbpedia.org/ontology</td>\n",
       "    </tr>\n",
       "    <tr>\n",
       "      <th>18</th>\n",
       "      <td>http://dbpedia.org/resource/Alain_Prost</td>\n",
       "      <td>[17, 17, 20, 20, 32, 32, 35, 35, 39, 39, 39, 3...</td>\n",
       "      <td>20</td>\n",
       "      <td>Alain_Prost</td>\n",
       "      <td>http://dbpedia.org/resource</td>\n",
       "    </tr>\n",
       "    <tr>\n",
       "      <th>5</th>\n",
       "      <td>http://dbpedia.org/ontology/Athlete</td>\n",
       "      <td>[23739, 23992]</td>\n",
       "      <td>2</td>\n",
       "      <td>Athlete</td>\n",
       "      <td>http://dbpedia.org/ontology</td>\n",
       "    </tr>\n",
       "    <tr>\n",
       "      <th>19</th>\n",
       "      <td>http://dbpedia.org/resource/Autodromo_Enzo_e_D...</td>\n",
       "      <td>[27, 27, 28, 28]</td>\n",
       "      <td>4</td>\n",
       "      <td>Autodromo_Enzo_e_Dino_Ferrari</td>\n",
       "      <td>http://dbpedia.org/resource</td>\n",
       "    </tr>\n",
       "    <tr>\n",
       "      <th>20</th>\n",
       "      <td>http://dbpedia.org/resource/Autódromo_Internac...</td>\n",
       "      <td>[10, 10]</td>\n",
       "      <td>2</td>\n",
       "      <td>Autódromo_Internacional_Nelson_Piquet</td>\n",
       "      <td>http://dbpedia.org/resource</td>\n",
       "    </tr>\n",
       "    <tr>\n",
       "      <th>21</th>\n",
       "      <td>http://dbpedia.org/resource/Ayrton_Senna</td>\n",
       "      <td>[16, 16, 19, 19, 59, 59, 59, 59, 65, 65, 65, 65]</td>\n",
       "      <td>12</td>\n",
       "      <td>Ayrton_Senna</td>\n",
       "      <td>http://dbpedia.org/resource</td>\n",
       "    </tr>\n",
       "    <tr>\n",
       "      <th>22</th>\n",
       "      <td>http://dbpedia.org/resource/BMW_in_Formula_One</td>\n",
       "      <td>[33]</td>\n",
       "      <td>1</td>\n",
       "      <td>BMW_in_Formula_One</td>\n",
       "      <td>http://dbpedia.org/resource</td>\n",
       "    </tr>\n",
       "    <tr>\n",
       "      <th>23</th>\n",
       "      <td>http://dbpedia.org/resource/Brabham</td>\n",
       "      <td>[55, 55]</td>\n",
       "      <td>2</td>\n",
       "      <td>Brabham</td>\n",
       "      <td>http://dbpedia.org/resource</td>\n",
       "    </tr>\n",
       "    <tr>\n",
       "      <th>24</th>\n",
       "      <td>http://dbpedia.org/resource/Circuit_Gilles_Vil...</td>\n",
       "      <td>[30, 32, 32, 36]</td>\n",
       "      <td>4</td>\n",
       "      <td>Circuit_Gilles_Villeneuve</td>\n",
       "      <td>http://dbpedia.org/resource</td>\n",
       "    </tr>\n",
       "    <tr>\n",
       "      <th>25</th>\n",
       "      <td>http://dbpedia.org/resource/Circuit_de_Monaco</td>\n",
       "      <td>[62, 64, 65, 67]</td>\n",
       "      <td>4</td>\n",
       "      <td>Circuit_de_Monaco</td>\n",
       "      <td>http://dbpedia.org/resource</td>\n",
       "    </tr>\n",
       "    <tr>\n",
       "      <th>6</th>\n",
       "      <td>http://dbpedia.org/ontology/Competition</td>\n",
       "      <td>[173, 180, 181, 195, 196, 241]</td>\n",
       "      <td>6</td>\n",
       "      <td>Competition</td>\n",
       "      <td>http://dbpedia.org/ontology</td>\n",
       "    </tr>\n",
       "    <tr>\n",
       "      <th>1</th>\n",
       "      <td>http://dbpedia.org/dbtax/Competition</td>\n",
       "      <td>[173, 180, 181, 195, 196, 241]</td>\n",
       "      <td>6</td>\n",
       "      <td>Competition</td>\n",
       "      <td>http://dbpedia.org/dbtax</td>\n",
       "    </tr>\n",
       "    <tr>\n",
       "      <th>26</th>\n",
       "      <td>http://dbpedia.org/resource/Driver</td>\n",
       "      <td>[2815, 2826]</td>\n",
       "      <td>2</td>\n",
       "      <td>Driver</td>\n",
       "      <td>http://dbpedia.org/resource</td>\n",
       "    </tr>\n",
       "    <tr>\n",
       "      <th>2</th>\n",
       "      <td>http://dbpedia.org/dbtax/Driver</td>\n",
       "      <td>[4176, 4197]</td>\n",
       "      <td>2</td>\n",
       "      <td>Driver</td>\n",
       "      <td>http://dbpedia.org/dbtax</td>\n",
       "    </tr>\n",
       "    <tr>\n",
       "      <th>39</th>\n",
       "      <td>http://schema.org/Event</td>\n",
       "      <td>[1265, 1280, 1302, 1307, 1321, 1336, 1341, 1347]</td>\n",
       "      <td>8</td>\n",
       "      <td>Event</td>\n",
       "      <td>http://schema.org</td>\n",
       "    </tr>\n",
       "    <tr>\n",
       "      <th>7</th>\n",
       "      <td>http://dbpedia.org/ontology/Event</td>\n",
       "      <td>[1265, 1297, 1302, 1307, 1321, 1340, 1345, 1351]</td>\n",
       "      <td>8</td>\n",
       "      <td>Event</td>\n",
       "      <td>http://dbpedia.org/ontology</td>\n",
       "    </tr>\n",
       "    <tr>\n",
       "      <th>8</th>\n",
       "      <td>http://dbpedia.org/ontology/FormulaOneRacer</td>\n",
       "      <td>[1184, 1198]</td>\n",
       "      <td>2</td>\n",
       "      <td>FormulaOneRacer</td>\n",
       "      <td>http://dbpedia.org/ontology</td>\n",
       "    </tr>\n",
       "    <tr>\n",
       "      <th>9</th>\n",
       "      <td>http://dbpedia.org/ontology/GrandPrix</td>\n",
       "      <td>[1265, 1280, 1302, 1307, 1321, 1336, 1341, 1347]</td>\n",
       "      <td>8</td>\n",
       "      <td>GrandPrix</td>\n",
       "      <td>http://dbpedia.org/ontology</td>\n",
       "    </tr>\n",
       "    <tr>\n",
       "      <th>27</th>\n",
       "      <td>http://dbpedia.org/resource/Honda_in_Formula_One</td>\n",
       "      <td>[56, 56, 56, 57, 71]</td>\n",
       "      <td>5</td>\n",
       "      <td>Honda_in_Formula_One</td>\n",
       "      <td>http://dbpedia.org/resource</td>\n",
       "    </tr>\n",
       "    <tr>\n",
       "      <th>28</th>\n",
       "      <td>http://dbpedia.org/resource/Jacarepaguá</td>\n",
       "      <td>[6, 6]</td>\n",
       "      <td>2</td>\n",
       "      <td>Jacarepaguá</td>\n",
       "      <td>http://dbpedia.org/resource</td>\n",
       "    </tr>\n",
       "    <tr>\n",
       "      <th>29</th>\n",
       "      <td>http://dbpedia.org/resource/Kyalami</td>\n",
       "      <td>[24, 24, 25, 25]</td>\n",
       "      <td>4</td>\n",
       "      <td>Kyalami</td>\n",
       "      <td>http://dbpedia.org/resource</td>\n",
       "    </tr>\n",
       "    <tr>\n",
       "      <th>30</th>\n",
       "      <td>http://dbpedia.org/resource/McLaren</td>\n",
       "      <td>[156, 156, 157, 157, 158, 158, 158, 159, 160, ...</td>\n",
       "      <td>20</td>\n",
       "      <td>McLaren</td>\n",
       "      <td>http://dbpedia.org/resource</td>\n",
       "    </tr>\n",
       "    <tr>\n",
       "      <th>10</th>\n",
       "      <td>http://dbpedia.org/ontology/MotorsportRacer</td>\n",
       "      <td>[3646, 3646]</td>\n",
       "      <td>2</td>\n",
       "      <td>MotorsportRacer</td>\n",
       "      <td>http://dbpedia.org/ontology</td>\n",
       "    </tr>\n",
       "    <tr>\n",
       "      <th>11</th>\n",
       "      <td>http://dbpedia.org/ontology/MotorsportSeason</td>\n",
       "      <td>[9000]</td>\n",
       "      <td>1</td>\n",
       "      <td>MotorsportSeason</td>\n",
       "      <td>http://dbpedia.org/ontology</td>\n",
       "    </tr>\n",
       "    <tr>\n",
       "      <th>31</th>\n",
       "      <td>http://dbpedia.org/resource/Nelson_Piquet</td>\n",
       "      <td>[19, 19, 20, 20, 23, 23, 24, 24, 24, 25, 25]</td>\n",
       "      <td>11</td>\n",
       "      <td>Nelson_Piquet</td>\n",
       "      <td>http://dbpedia.org/resource</td>\n",
       "    </tr>\n",
       "    <tr>\n",
       "      <th>32</th>\n",
       "      <td>http://dbpedia.org/resource/Nigel_Mansell</td>\n",
       "      <td>[11, 11, 11, 11, 32]</td>\n",
       "      <td>5</td>\n",
       "      <td>Nigel_Mansell</td>\n",
       "      <td>http://dbpedia.org/resource</td>\n",
       "    </tr>\n",
       "    <tr>\n",
       "      <th>40</th>\n",
       "      <td>http://schema.org/Person</td>\n",
       "      <td>[158105, 158359]</td>\n",
       "      <td>2</td>\n",
       "      <td>Person</td>\n",
       "      <td>http://schema.org</td>\n",
       "    </tr>\n",
       "    <tr>\n",
       "      <th>43</th>\n",
       "      <td>http://xmlns.com/foaf/0.1/Person</td>\n",
       "      <td>[158119, 158373]</td>\n",
       "      <td>2</td>\n",
       "      <td>Person</td>\n",
       "      <td>http://xmlns.com/foaf/0.1</td>\n",
       "    </tr>\n",
       "    <tr>\n",
       "      <th>12</th>\n",
       "      <td>http://dbpedia.org/ontology/Person</td>\n",
       "      <td>[177604, 178035]</td>\n",
       "      <td>2</td>\n",
       "      <td>Person</td>\n",
       "      <td>http://dbpedia.org/ontology</td>\n",
       "    </tr>\n",
       "    <tr>\n",
       "      <th>13</th>\n",
       "      <td>http://dbpedia.org/ontology/Race</td>\n",
       "      <td>[1126, 1157, 1161, 1168, 1381, 1386, 1980, 2007]</td>\n",
       "      <td>8</td>\n",
       "      <td>Race</td>\n",
       "      <td>http://dbpedia.org/ontology</td>\n",
       "    </tr>\n",
       "    <tr>\n",
       "      <th>33</th>\n",
       "      <td>http://dbpedia.org/resource/Race</td>\n",
       "      <td>[1192, 1225, 1231, 1243, 1318, 1324, 1748, 1779]</td>\n",
       "      <td>8</td>\n",
       "      <td>Race</td>\n",
       "      <td>http://dbpedia.org/resource</td>\n",
       "    </tr>\n",
       "    <tr>\n",
       "      <th>3</th>\n",
       "      <td>http://dbpedia.org/dbtax/Race</td>\n",
       "      <td>[1126, 1157, 1161, 1168, 1381, 1386, 1980, 2007]</td>\n",
       "      <td>8</td>\n",
       "      <td>Race</td>\n",
       "      <td>http://dbpedia.org/dbtax</td>\n",
       "    </tr>\n",
       "    <tr>\n",
       "      <th>14</th>\n",
       "      <td>http://dbpedia.org/ontology/RacingDriver</td>\n",
       "      <td>[4094, 4101]</td>\n",
       "      <td>2</td>\n",
       "      <td>RacingDriver</td>\n",
       "      <td>http://dbpedia.org/ontology</td>\n",
       "    </tr>\n",
       "    <tr>\n",
       "      <th>34</th>\n",
       "      <td>http://dbpedia.org/resource/Renault_in_Formula...</td>\n",
       "      <td>[31, 31, 135, 135, 135, 141, 147, 156, 165, 16...</td>\n",
       "      <td>20</td>\n",
       "      <td>Renault_in_Formula_One</td>\n",
       "      <td>http://dbpedia.org/resource</td>\n",
       "    </tr>\n",
       "    <tr>\n",
       "      <th>35</th>\n",
       "      <td>http://dbpedia.org/resource/Scuderia_Ferrari</td>\n",
       "      <td>[235, 236, 237, 238, 257, 259, 259, 260, 261, ...</td>\n",
       "      <td>20</td>\n",
       "      <td>Scuderia_Ferrari</td>\n",
       "      <td>http://dbpedia.org/resource</td>\n",
       "    </tr>\n",
       "    <tr>\n",
       "      <th>15</th>\n",
       "      <td>http://dbpedia.org/ontology/SocietalEvent</td>\n",
       "      <td>[1265, 1280, 1302, 1307, 1321, 1336, 1341, 1347]</td>\n",
       "      <td>8</td>\n",
       "      <td>SocietalEvent</td>\n",
       "      <td>http://dbpedia.org/ontology</td>\n",
       "    </tr>\n",
       "    <tr>\n",
       "      <th>16</th>\n",
       "      <td>http://dbpedia.org/ontology/SportsEvent</td>\n",
       "      <td>[1265, 1302, 1307, 1321, 1401, 1407, 1977, 2009]</td>\n",
       "      <td>8</td>\n",
       "      <td>SportsEvent</td>\n",
       "      <td>http://dbpedia.org/ontology</td>\n",
       "    </tr>\n",
       "    <tr>\n",
       "      <th>41</th>\n",
       "      <td>http://schema.org/SportsEvent</td>\n",
       "      <td>[1265, 1280, 1302, 1307, 1321, 1336, 1341, 1347]</td>\n",
       "      <td>8</td>\n",
       "      <td>SportsEvent</td>\n",
       "      <td>http://schema.org</td>\n",
       "    </tr>\n",
       "    <tr>\n",
       "      <th>17</th>\n",
       "      <td>http://dbpedia.org/ontology/SportsSeason</td>\n",
       "      <td>[8999]</td>\n",
       "      <td>1</td>\n",
       "      <td>SportsSeason</td>\n",
       "      <td>http://dbpedia.org/ontology</td>\n",
       "    </tr>\n",
       "    <tr>\n",
       "      <th>36</th>\n",
       "      <td>http://dbpedia.org/resource/Team_Lotus</td>\n",
       "      <td>[80, 80, 81, 84, 161, 161, 162, 162, 162, 162,...</td>\n",
       "      <td>12</td>\n",
       "      <td>Team_Lotus</td>\n",
       "      <td>http://dbpedia.org/resource</td>\n",
       "    </tr>\n",
       "    <tr>\n",
       "      <th>37</th>\n",
       "      <td>http://dbpedia.org/resource/Techniques_d'Avant...</td>\n",
       "      <td>[14, 14, 25, 25]</td>\n",
       "      <td>4</td>\n",
       "      <td>Techniques_d'Avant_Garde</td>\n",
       "      <td>http://dbpedia.org/resource</td>\n",
       "    </tr>\n",
       "    <tr>\n",
       "      <th>38</th>\n",
       "      <td>http://dbpedia.org/resource/Williams_Grand_Pri...</td>\n",
       "      <td>[84, 84, 84, 84, 110, 110, 110, 110, 110, 110,...</td>\n",
       "      <td>22</td>\n",
       "      <td>Williams_Grand_Prix_Engineering</td>\n",
       "      <td>http://dbpedia.org/resource</td>\n",
       "    </tr>\n",
       "    <tr>\n",
       "      <th>42</th>\n",
       "      <td>http://www.w3.org/2003/01/geo/wgs84_pos#Spatia...</td>\n",
       "      <td>[228, 260]</td>\n",
       "      <td>2</td>\n",
       "      <td>wgs84_pos#SpatialThing</td>\n",
       "      <td>http://www.w3.org/2003/01/geo</td>\n",
       "    </tr>\n",
       "  </tbody>\n",
       "</table>\n",
       "</div>"
      ],
      "text/plain": [
       "                                              EndNode   \n",
       "0                          43.73465 7.421333333333333  \\\n",
       "4                   http://dbpedia.org/ontology/Agent   \n",
       "18            http://dbpedia.org/resource/Alain_Prost   \n",
       "5                 http://dbpedia.org/ontology/Athlete   \n",
       "19  http://dbpedia.org/resource/Autodromo_Enzo_e_D...   \n",
       "20  http://dbpedia.org/resource/Autódromo_Internac...   \n",
       "21           http://dbpedia.org/resource/Ayrton_Senna   \n",
       "22     http://dbpedia.org/resource/BMW_in_Formula_One   \n",
       "23                http://dbpedia.org/resource/Brabham   \n",
       "24  http://dbpedia.org/resource/Circuit_Gilles_Vil...   \n",
       "25      http://dbpedia.org/resource/Circuit_de_Monaco   \n",
       "6             http://dbpedia.org/ontology/Competition   \n",
       "1                http://dbpedia.org/dbtax/Competition   \n",
       "26                 http://dbpedia.org/resource/Driver   \n",
       "2                     http://dbpedia.org/dbtax/Driver   \n",
       "39                            http://schema.org/Event   \n",
       "7                   http://dbpedia.org/ontology/Event   \n",
       "8         http://dbpedia.org/ontology/FormulaOneRacer   \n",
       "9               http://dbpedia.org/ontology/GrandPrix   \n",
       "27   http://dbpedia.org/resource/Honda_in_Formula_One   \n",
       "28            http://dbpedia.org/resource/Jacarepaguá   \n",
       "29                http://dbpedia.org/resource/Kyalami   \n",
       "30                http://dbpedia.org/resource/McLaren   \n",
       "10        http://dbpedia.org/ontology/MotorsportRacer   \n",
       "11       http://dbpedia.org/ontology/MotorsportSeason   \n",
       "31          http://dbpedia.org/resource/Nelson_Piquet   \n",
       "32          http://dbpedia.org/resource/Nigel_Mansell   \n",
       "40                           http://schema.org/Person   \n",
       "43                   http://xmlns.com/foaf/0.1/Person   \n",
       "12                 http://dbpedia.org/ontology/Person   \n",
       "13                   http://dbpedia.org/ontology/Race   \n",
       "33                   http://dbpedia.org/resource/Race   \n",
       "3                       http://dbpedia.org/dbtax/Race   \n",
       "14           http://dbpedia.org/ontology/RacingDriver   \n",
       "34  http://dbpedia.org/resource/Renault_in_Formula...   \n",
       "35       http://dbpedia.org/resource/Scuderia_Ferrari   \n",
       "15          http://dbpedia.org/ontology/SocietalEvent   \n",
       "16            http://dbpedia.org/ontology/SportsEvent   \n",
       "41                      http://schema.org/SportsEvent   \n",
       "17           http://dbpedia.org/ontology/SportsSeason   \n",
       "36             http://dbpedia.org/resource/Team_Lotus   \n",
       "37  http://dbpedia.org/resource/Techniques_d'Avant...   \n",
       "38  http://dbpedia.org/resource/Williams_Grand_Pri...   \n",
       "42  http://www.w3.org/2003/01/geo/wgs84_pos#Spatia...   \n",
       "\n",
       "                                     QueryResultCount  len   \n",
       "0                                            [69, 71]    2  \\\n",
       "4                                    [160025, 160276]    2   \n",
       "18  [17, 17, 20, 20, 32, 32, 35, 35, 39, 39, 39, 3...   20   \n",
       "5                                      [23739, 23992]    2   \n",
       "19                                   [27, 27, 28, 28]    4   \n",
       "20                                           [10, 10]    2   \n",
       "21   [16, 16, 19, 19, 59, 59, 59, 59, 65, 65, 65, 65]   12   \n",
       "22                                               [33]    1   \n",
       "23                                           [55, 55]    2   \n",
       "24                                   [30, 32, 32, 36]    4   \n",
       "25                                   [62, 64, 65, 67]    4   \n",
       "6                      [173, 180, 181, 195, 196, 241]    6   \n",
       "1                      [173, 180, 181, 195, 196, 241]    6   \n",
       "26                                       [2815, 2826]    2   \n",
       "2                                        [4176, 4197]    2   \n",
       "39   [1265, 1280, 1302, 1307, 1321, 1336, 1341, 1347]    8   \n",
       "7    [1265, 1297, 1302, 1307, 1321, 1340, 1345, 1351]    8   \n",
       "8                                        [1184, 1198]    2   \n",
       "9    [1265, 1280, 1302, 1307, 1321, 1336, 1341, 1347]    8   \n",
       "27                               [56, 56, 56, 57, 71]    5   \n",
       "28                                             [6, 6]    2   \n",
       "29                                   [24, 24, 25, 25]    4   \n",
       "30  [156, 156, 157, 157, 158, 158, 158, 159, 160, ...   20   \n",
       "10                                       [3646, 3646]    2   \n",
       "11                                             [9000]    1   \n",
       "31       [19, 19, 20, 20, 23, 23, 24, 24, 24, 25, 25]   11   \n",
       "32                               [11, 11, 11, 11, 32]    5   \n",
       "40                                   [158105, 158359]    2   \n",
       "43                                   [158119, 158373]    2   \n",
       "12                                   [177604, 178035]    2   \n",
       "13   [1126, 1157, 1161, 1168, 1381, 1386, 1980, 2007]    8   \n",
       "33   [1192, 1225, 1231, 1243, 1318, 1324, 1748, 1779]    8   \n",
       "3    [1126, 1157, 1161, 1168, 1381, 1386, 1980, 2007]    8   \n",
       "14                                       [4094, 4101]    2   \n",
       "34  [31, 31, 135, 135, 135, 141, 147, 156, 165, 16...   20   \n",
       "35  [235, 236, 237, 238, 257, 259, 259, 260, 261, ...   20   \n",
       "15   [1265, 1280, 1302, 1307, 1321, 1336, 1341, 1347]    8   \n",
       "16   [1265, 1302, 1307, 1321, 1401, 1407, 1977, 2009]    8   \n",
       "41   [1265, 1280, 1302, 1307, 1321, 1336, 1341, 1347]    8   \n",
       "17                                             [8999]    1   \n",
       "36  [80, 80, 81, 84, 161, 161, 162, 162, 162, 162,...   12   \n",
       "37                                   [14, 14, 25, 25]    4   \n",
       "38  [84, 84, 84, 84, 110, 110, 110, 110, 110, 110,...   22   \n",
       "42                                         [228, 260]    2   \n",
       "\n",
       "                                 LastPart                       CorePart  \n",
       "0              43.73465 7.421333333333333                                 \n",
       "4                                   Agent    http://dbpedia.org/ontology  \n",
       "18                            Alain_Prost    http://dbpedia.org/resource  \n",
       "5                                 Athlete    http://dbpedia.org/ontology  \n",
       "19          Autodromo_Enzo_e_Dino_Ferrari    http://dbpedia.org/resource  \n",
       "20  Autódromo_Internacional_Nelson_Piquet    http://dbpedia.org/resource  \n",
       "21                           Ayrton_Senna    http://dbpedia.org/resource  \n",
       "22                     BMW_in_Formula_One    http://dbpedia.org/resource  \n",
       "23                                Brabham    http://dbpedia.org/resource  \n",
       "24              Circuit_Gilles_Villeneuve    http://dbpedia.org/resource  \n",
       "25                      Circuit_de_Monaco    http://dbpedia.org/resource  \n",
       "6                             Competition    http://dbpedia.org/ontology  \n",
       "1                             Competition       http://dbpedia.org/dbtax  \n",
       "26                                 Driver    http://dbpedia.org/resource  \n",
       "2                                  Driver       http://dbpedia.org/dbtax  \n",
       "39                                  Event              http://schema.org  \n",
       "7                                   Event    http://dbpedia.org/ontology  \n",
       "8                         FormulaOneRacer    http://dbpedia.org/ontology  \n",
       "9                               GrandPrix    http://dbpedia.org/ontology  \n",
       "27                   Honda_in_Formula_One    http://dbpedia.org/resource  \n",
       "28                            Jacarepaguá    http://dbpedia.org/resource  \n",
       "29                                Kyalami    http://dbpedia.org/resource  \n",
       "30                                McLaren    http://dbpedia.org/resource  \n",
       "10                        MotorsportRacer    http://dbpedia.org/ontology  \n",
       "11                       MotorsportSeason    http://dbpedia.org/ontology  \n",
       "31                          Nelson_Piquet    http://dbpedia.org/resource  \n",
       "32                          Nigel_Mansell    http://dbpedia.org/resource  \n",
       "40                                 Person              http://schema.org  \n",
       "43                                 Person      http://xmlns.com/foaf/0.1  \n",
       "12                                 Person    http://dbpedia.org/ontology  \n",
       "13                                   Race    http://dbpedia.org/ontology  \n",
       "33                                   Race    http://dbpedia.org/resource  \n",
       "3                                    Race       http://dbpedia.org/dbtax  \n",
       "14                           RacingDriver    http://dbpedia.org/ontology  \n",
       "34                 Renault_in_Formula_One    http://dbpedia.org/resource  \n",
       "35                       Scuderia_Ferrari    http://dbpedia.org/resource  \n",
       "15                          SocietalEvent    http://dbpedia.org/ontology  \n",
       "16                            SportsEvent    http://dbpedia.org/ontology  \n",
       "41                            SportsEvent              http://schema.org  \n",
       "17                           SportsSeason    http://dbpedia.org/ontology  \n",
       "36                             Team_Lotus    http://dbpedia.org/resource  \n",
       "37               Techniques_d'Avant_Garde    http://dbpedia.org/resource  \n",
       "38        Williams_Grand_Prix_Engineering    http://dbpedia.org/resource  \n",
       "42                 wgs84_pos#SpatialThing  http://www.w3.org/2003/01/geo  "
      ]
     },
     "metadata": {},
     "output_type": "display_data"
    }
   ],
   "source": [
    "display(pdf_grouped)"
   ]
  },
  {
   "cell_type": "code",
   "execution_count": 146,
   "metadata": {
    "collapsed": false
   },
   "outputs": [
    {
     "data": {
      "text/plain": [
       "284"
      ]
     },
     "execution_count": 146,
     "metadata": {},
     "output_type": "execute_result"
    }
   ],
   "source": [
    "sum(pdf_grouped[\"len\"].tolist())"
   ]
  },
  {
   "cell_type": "code",
   "execution_count": null,
   "metadata": {
    "collapsed": false
   },
   "outputs": [],
   "source": []
  }
 ],
 "metadata": {
  "kernelspec": {
   "display_name": "Python [conda env:continue] *",
   "language": "python",
   "name": "conda-env-continue-py"
  },
  "language_info": {
   "codemirror_mode": {
    "name": "ipython",
    "version": 2
   },
   "file_extension": ".py",
   "mimetype": "text/x-python",
   "name": "python",
   "nbconvert_exporter": "python",
   "pygments_lexer": "ipython2",
   "version": "2.7.6"
  }
 },
 "nbformat": 4,
 "nbformat_minor": 0
}
