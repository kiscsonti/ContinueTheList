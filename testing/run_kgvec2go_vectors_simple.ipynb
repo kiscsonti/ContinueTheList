{
 "cells": [
  {
   "cell_type": "code",
   "execution_count": 26,
   "metadata": {
    "collapsed": false
   },
   "outputs": [
    {
     "name": "stdout",
     "output_type": "stream",
     "text": [
      "The autoreload extension is already loaded. To reload it, use:\n",
      "  %reload_ext autoreload\n"
     ]
    }
   ],
   "source": [
    "import pandas as pd\n",
    "%load_ext autoreload\n",
    "%autoreload 2"
   ]
  },
  {
   "cell_type": "code",
   "execution_count": 27,
   "metadata": {
    "collapsed": false
   },
   "outputs": [],
   "source": [
    "import os\n",
    "import sys\n",
    "module_path = os.path.abspath(os.path.join('..'))\n",
    "if module_path not in sys.path:\n",
    "    sys.path.append(module_path)"
   ]
  },
  {
   "cell_type": "code",
   "execution_count": 28,
   "metadata": {
    "collapsed": true
   },
   "outputs": [],
   "source": [
    "from algorithm.kgvec2go_vectors_simple import run_method"
   ]
  },
  {
   "cell_type": "code",
   "execution_count": 4,
   "metadata": {
    "collapsed": false
   },
   "outputs": [],
   "source": [
    "from algorithm.kgvec2go_vectors_simple import run_method, load_gensim_model\n",
    "from excludes.basic_excludes import (node_excl_yago_func, node_excl_extra,\n",
    "                                     node_excl_owlthing_func, node_excl_wiki_func)\n",
    "from loaders.loaders import *\n",
    "from evaluation.split_dataset import split_on_seed_dataset\n",
    "import json\n",
    "import pickle\n",
    "import os\n",
    "from tqdm import tqdm\n",
    "\n",
    "\n",
    "exclude_paths = [\n",
    "    [\"\", \"http://www.w3.org/1999/02/22-rdf-syntax-ns#type\", \"http://www.w3.org/2004/02/skos/core#Concept\"]\n",
    "]\n",
    "relation_excludes = [\"http://xmlns.com/foaf/0.1/primaryTopic\",\n",
    "                     \"http://dbpedia.org/property/isCitedBy\",\n",
    "                     \"http://dbpedia.org/ontology/wikiPageWikiLink\",\n",
    "                     \"http://dbpedia.org/ontology/wikiPageWikiLinkText\",\n",
    "                     \"http://dbpedia.org/property/wikiPageUsesTemplate\",\n",
    "                     'http://dbpedia.org/ontology/wikiPageRedirects',\n",
    "                     'http://dbpedia.org/ontology/wikiPageOutDegree',\n",
    "                     \"http://dbpedia.org/ontology/abstract\",\n",
    "                     \"http://www.w3.org/2000/01/rdf-schema#comment\", ]\n",
    "\n",
    "res_excludes_inside_point_relation = [\"http://purl.org/linguistics/gold/hypernym\",\n",
    "                                      \"http://www.w3.org/1999/02/22-rdf-syntax-ns#type\"]\n",
    "res_excludes_inside_point_node = []\n",
    "node_excludes_funcs = [node_excl_wiki_func, node_excl_owlthing_func, node_excl_yago_func, node_excl_extra]\n",
    "\n",
    "SEED = 44\n",
    "SAMPLE_SIZE = 4\n",
    "verbose = 1\n",
    "\n",
    "#Dataset load\n",
    "#lc_quad_train = load_lc_quad_train()\n",
    "\n",
    "lc_quad_train = load_on_path(ds_lc_quad_train_cleaned)\n",
    "splitted_lcquad = split_on_seed_dataset(lc_quad_train, SAMPLE_SIZE, SEED)\n",
    "\n",
    "#splitted_lcquad = load_on_path_pickle(\"/home/kardosp/continuethelist/outputs/graphwalk_v2_output_sample4.pickle\")\n",
    "\n",
    "cwd = \"/home/kardosp/continuethelist/dbpedia_vectors/kgvec2go\"\n",
    "word2vec_path = os.path.join(cwd, 'model.kv')\n",
    "wv_model = load_gensim_model(word2vec_path)\n",
    "\n"
   ]
  },
  {
   "cell_type": "code",
   "execution_count": 5,
   "metadata": {
    "collapsed": false
   },
   "outputs": [
    {
     "name": "stderr",
     "output_type": "stream",
     "text": [
      "0it [00:00, ?it/s]\n"
     ]
    },
    {
     "name": "stdout",
     "output_type": "stream",
     "text": [
      "0\n"
     ]
    },
    {
     "ename": "AxisError",
     "evalue": "axis 0 is out of bounds for array of dimension 0",
     "output_type": "error",
     "traceback": [
      "\u001b[0;31m---------------------------------------------------------------------------\u001b[0m",
      "\u001b[0;31mAxisError\u001b[0m                                 Traceback (most recent call last)",
      "Cell \u001b[0;32mIn[5], line 6\u001b[0m\n\u001b[1;32m      4\u001b[0m \u001b[38;5;28;01mif\u001b[39;00m \u001b[38;5;124m\"\u001b[39m\u001b[38;5;124moutput\u001b[39m\u001b[38;5;124m\"\u001b[39m \u001b[38;5;129;01min\u001b[39;00m record:\n\u001b[1;32m      5\u001b[0m     \u001b[38;5;28;01mcontinue\u001b[39;00m\n\u001b[0;32m----> 6\u001b[0m result \u001b[38;5;241m=\u001b[39m \u001b[43mrun_method\u001b[49m\u001b[43m(\u001b[49m\u001b[43mrecord\u001b[49m\u001b[43m[\u001b[49m\u001b[38;5;124;43m\"\u001b[39;49m\u001b[38;5;124;43mseed\u001b[39;49m\u001b[38;5;124;43m\"\u001b[39;49m\u001b[43m]\u001b[49m\u001b[43m,\u001b[49m\u001b[43m \u001b[49m\u001b[43mwv_model\u001b[49m\u001b[43m)\u001b[49m\n\u001b[1;32m      7\u001b[0m record[\u001b[38;5;124m\"\u001b[39m\u001b[38;5;124moutput\u001b[39m\u001b[38;5;124m\"\u001b[39m] \u001b[38;5;241m=\u001b[39m result\n\u001b[1;32m      8\u001b[0m \u001b[38;5;66;03m# TODO - evaluate\u001b[39;00m\n",
      "File \u001b[0;32m~/continuethelist/notebooks/algorithm/kgvec2go_vectors_simple.py:34\u001b[0m, in \u001b[0;36mrun_method\u001b[0;34m(seed, wv_model)\u001b[0m\n\u001b[1;32m     31\u001b[0m \u001b[38;5;28;01mfor\u001b[39;00m item \u001b[38;5;129;01min\u001b[39;00m seed:\n\u001b[1;32m     32\u001b[0m     vectors[item] \u001b[38;5;241m=\u001b[39m \u001b[38;5;28mlist\u001b[39m(wv_model[item])\n\u001b[0;32m---> 34\u001b[0m center_vector \u001b[38;5;241m=\u001b[39m \u001b[43mnp\u001b[49m\u001b[38;5;241;43m.\u001b[39;49m\u001b[43mmean\u001b[49m\u001b[43m(\u001b[49m\u001b[43mvectors\u001b[49m\u001b[43m,\u001b[49m\u001b[43m \u001b[49m\u001b[43maxis\u001b[49m\u001b[38;5;241;43m=\u001b[39;49m\u001b[38;5;241;43m0\u001b[39;49m\u001b[43m)\u001b[49m\n\u001b[1;32m     35\u001b[0m \u001b[38;5;66;03m#radius = get_radius(center_vector, list(vectors.values()))\u001b[39;00m\n\u001b[1;32m     36\u001b[0m point_dist \u001b[38;5;241m=\u001b[39m cdist([center_vector], \u001b[38;5;28mlist\u001b[39m(vectors\u001b[38;5;241m.\u001b[39mvalues()), metric\u001b[38;5;241m=\u001b[39m\u001b[38;5;124m\"\u001b[39m\u001b[38;5;124meuclidean\u001b[39m\u001b[38;5;124m\"\u001b[39m)\n",
      "File \u001b[0;32m~/miniconda3/envs/continue/lib/python3.11/site-packages/numpy/core/fromnumeric.py:3504\u001b[0m, in \u001b[0;36mmean\u001b[0;34m(a, axis, dtype, out, keepdims, where)\u001b[0m\n\u001b[1;32m   3501\u001b[0m     \u001b[38;5;28;01melse\u001b[39;00m:\n\u001b[1;32m   3502\u001b[0m         \u001b[38;5;28;01mreturn\u001b[39;00m mean(axis\u001b[38;5;241m=\u001b[39maxis, dtype\u001b[38;5;241m=\u001b[39mdtype, out\u001b[38;5;241m=\u001b[39mout, \u001b[38;5;241m*\u001b[39m\u001b[38;5;241m*\u001b[39mkwargs)\n\u001b[0;32m-> 3504\u001b[0m \u001b[38;5;28;01mreturn\u001b[39;00m \u001b[43m_methods\u001b[49m\u001b[38;5;241;43m.\u001b[39;49m\u001b[43m_mean\u001b[49m\u001b[43m(\u001b[49m\u001b[43ma\u001b[49m\u001b[43m,\u001b[49m\u001b[43m \u001b[49m\u001b[43maxis\u001b[49m\u001b[38;5;241;43m=\u001b[39;49m\u001b[43maxis\u001b[49m\u001b[43m,\u001b[49m\u001b[43m \u001b[49m\u001b[43mdtype\u001b[49m\u001b[38;5;241;43m=\u001b[39;49m\u001b[43mdtype\u001b[49m\u001b[43m,\u001b[49m\n\u001b[1;32m   3505\u001b[0m \u001b[43m                      \u001b[49m\u001b[43mout\u001b[49m\u001b[38;5;241;43m=\u001b[39;49m\u001b[43mout\u001b[49m\u001b[43m,\u001b[49m\u001b[43m \u001b[49m\u001b[38;5;241;43m*\u001b[39;49m\u001b[38;5;241;43m*\u001b[39;49m\u001b[43mkwargs\u001b[49m\u001b[43m)\u001b[49m\n",
      "File \u001b[0;32m~/miniconda3/envs/continue/lib/python3.11/site-packages/numpy/core/_methods.py:106\u001b[0m, in \u001b[0;36m_mean\u001b[0;34m(a, axis, dtype, out, keepdims, where)\u001b[0m\n\u001b[1;32m    102\u001b[0m arr \u001b[38;5;241m=\u001b[39m asanyarray(a)\n\u001b[1;32m    104\u001b[0m is_float16_result \u001b[38;5;241m=\u001b[39m \u001b[38;5;28;01mFalse\u001b[39;00m\n\u001b[0;32m--> 106\u001b[0m rcount \u001b[38;5;241m=\u001b[39m \u001b[43m_count_reduce_items\u001b[49m\u001b[43m(\u001b[49m\u001b[43marr\u001b[49m\u001b[43m,\u001b[49m\u001b[43m \u001b[49m\u001b[43maxis\u001b[49m\u001b[43m,\u001b[49m\u001b[43m \u001b[49m\u001b[43mkeepdims\u001b[49m\u001b[38;5;241;43m=\u001b[39;49m\u001b[43mkeepdims\u001b[49m\u001b[43m,\u001b[49m\u001b[43m \u001b[49m\u001b[43mwhere\u001b[49m\u001b[38;5;241;43m=\u001b[39;49m\u001b[43mwhere\u001b[49m\u001b[43m)\u001b[49m\n\u001b[1;32m    107\u001b[0m \u001b[38;5;28;01mif\u001b[39;00m rcount \u001b[38;5;241m==\u001b[39m \u001b[38;5;241m0\u001b[39m \u001b[38;5;28;01mif\u001b[39;00m where \u001b[38;5;129;01mis\u001b[39;00m \u001b[38;5;28;01mTrue\u001b[39;00m \u001b[38;5;28;01melse\u001b[39;00m umr_any(rcount \u001b[38;5;241m==\u001b[39m \u001b[38;5;241m0\u001b[39m, axis\u001b[38;5;241m=\u001b[39m\u001b[38;5;28;01mNone\u001b[39;00m):\n\u001b[1;32m    108\u001b[0m     warnings\u001b[38;5;241m.\u001b[39mwarn(\u001b[38;5;124m\"\u001b[39m\u001b[38;5;124mMean of empty slice.\u001b[39m\u001b[38;5;124m\"\u001b[39m, \u001b[38;5;167;01mRuntimeWarning\u001b[39;00m, stacklevel\u001b[38;5;241m=\u001b[39m\u001b[38;5;241m2\u001b[39m)\n",
      "File \u001b[0;32m~/miniconda3/envs/continue/lib/python3.11/site-packages/numpy/core/_methods.py:77\u001b[0m, in \u001b[0;36m_count_reduce_items\u001b[0;34m(arr, axis, keepdims, where)\u001b[0m\n\u001b[1;32m     75\u001b[0m     items \u001b[38;5;241m=\u001b[39m \u001b[38;5;241m1\u001b[39m\n\u001b[1;32m     76\u001b[0m     \u001b[38;5;28;01mfor\u001b[39;00m ax \u001b[38;5;129;01min\u001b[39;00m axis:\n\u001b[0;32m---> 77\u001b[0m         items \u001b[38;5;241m*\u001b[39m\u001b[38;5;241m=\u001b[39m arr\u001b[38;5;241m.\u001b[39mshape[\u001b[43mmu\u001b[49m\u001b[38;5;241;43m.\u001b[39;49m\u001b[43mnormalize_axis_index\u001b[49m\u001b[43m(\u001b[49m\u001b[43max\u001b[49m\u001b[43m,\u001b[49m\u001b[43m \u001b[49m\u001b[43marr\u001b[49m\u001b[38;5;241;43m.\u001b[39;49m\u001b[43mndim\u001b[49m\u001b[43m)\u001b[49m]\n\u001b[1;32m     78\u001b[0m     items \u001b[38;5;241m=\u001b[39m nt\u001b[38;5;241m.\u001b[39mintp(items)\n\u001b[1;32m     79\u001b[0m \u001b[38;5;28;01melse\u001b[39;00m:\n\u001b[1;32m     80\u001b[0m     \u001b[38;5;66;03m# TODO: Optimize case when `where` is broadcast along a non-reduction\u001b[39;00m\n\u001b[1;32m     81\u001b[0m     \u001b[38;5;66;03m# axis and full sum is more excessive than needed.\u001b[39;00m\n\u001b[1;32m     82\u001b[0m \n\u001b[1;32m     83\u001b[0m     \u001b[38;5;66;03m# guarded to protect circular imports\u001b[39;00m\n",
      "\u001b[0;31mAxisError\u001b[0m: axis 0 is out of bounds for array of dimension 0"
     ]
    }
   ],
   "source": [
    "missing_counter = 0\n",
    "# lcquad_output = run_on_dataset(splitted_lcquad, exclude_paths, relation_excludes, node_excludes_funcs)\n",
    "for i, record in tqdm(enumerate(splitted_lcquad)):\n",
    "    print(i)\n",
    "    if \"output\" in record:\n",
    "        continue\n",
    "    result, missing = run_method(record[\"seed\"], wv_model)\n",
    "    record[\"output\"] = result\n",
    "    missing_counter += missing\n",
    "    # TODO - evaluate\n",
    "\n",
    "    with open(\"/home/kardosp/continuethelist/outputs/kgvec2go_v1_output_sample4.pickle\", \"wb\") as f:\n",
    "        pickle.dump(splitted_lcquad, f)\n"
   ]
  },
  {
   "cell_type": "code",
   "execution_count": 7,
   "metadata": {
    "collapsed": false
   },
   "outputs": [
    {
     "name": "stderr",
     "output_type": "stream",
     "text": [
      "0it [00:00, ?it/s]"
     ]
    },
    {
     "name": "stdout",
     "output_type": "stream",
     "text": [
      "0\n"
     ]
    },
    {
     "name": "stderr",
     "output_type": "stream",
     "text": [
      "1it [00:26, 26.18s/it]"
     ]
    },
    {
     "name": "stdout",
     "output_type": "stream",
     "text": [
      "1\n"
     ]
    },
    {
     "name": "stderr",
     "output_type": "stream",
     "text": [
      "2it [00:54, 27.69s/it]"
     ]
    },
    {
     "name": "stdout",
     "output_type": "stream",
     "text": [
      "2\n"
     ]
    },
    {
     "name": "stderr",
     "output_type": "stream",
     "text": [
      "3it [01:07, 22.61s/it]"
     ]
    },
    {
     "name": "stdout",
     "output_type": "stream",
     "text": [
      "3\n"
     ]
    },
    {
     "name": "stderr",
     "output_type": "stream",
     "text": [
      "\n"
     ]
    },
    {
     "ename": "KeyError",
     "evalue": "\"Key 'http://dbpedia.org/resource/Starr_(rapper)' not present\"",
     "output_type": "error",
     "traceback": [
      "\u001b[0;31m---------------------------------------------------------------------------\u001b[0m",
      "\u001b[0;31mKeyError\u001b[0m                                  Traceback (most recent call last)",
      "Cell \u001b[0;32mIn[7], line 10\u001b[0m\n\u001b[1;32m      8\u001b[0m vectors \u001b[38;5;241m=\u001b[39m \u001b[38;5;28mdict\u001b[39m()\n\u001b[1;32m      9\u001b[0m \u001b[38;5;28;01mfor\u001b[39;00m item \u001b[38;5;129;01min\u001b[39;00m seed:\n\u001b[0;32m---> 10\u001b[0m     vectors[item] \u001b[38;5;241m=\u001b[39m \u001b[38;5;28mlist\u001b[39m(\u001b[43mwv_model\u001b[49m\u001b[43m[\u001b[49m\u001b[43mitem\u001b[49m\u001b[43m]\u001b[49m)\n\u001b[1;32m     12\u001b[0m center_vector \u001b[38;5;241m=\u001b[39m np\u001b[38;5;241m.\u001b[39mmean(\u001b[38;5;28mlist\u001b[39m(vectors\u001b[38;5;241m.\u001b[39mvalues()), axis\u001b[38;5;241m=\u001b[39m\u001b[38;5;241m0\u001b[39m)\n\u001b[1;32m     13\u001b[0m \u001b[38;5;66;03m#radius = get_radius(center_vector, list(vectors.values()))\u001b[39;00m\n",
      "File \u001b[0;32m~/miniconda3/envs/continue/lib/python3.11/site-packages/gensim/models/keyedvectors.py:403\u001b[0m, in \u001b[0;36mKeyedVectors.__getitem__\u001b[0;34m(self, key_or_keys)\u001b[0m\n\u001b[1;32m    389\u001b[0m \u001b[38;5;250m\u001b[39m\u001b[38;5;124;03m\"\"\"Get vector representation of `key_or_keys`.\u001b[39;00m\n\u001b[1;32m    390\u001b[0m \n\u001b[1;32m    391\u001b[0m \u001b[38;5;124;03mParameters\u001b[39;00m\n\u001b[0;32m   (...)\u001b[0m\n\u001b[1;32m    400\u001b[0m \n\u001b[1;32m    401\u001b[0m \u001b[38;5;124;03m\"\"\"\u001b[39;00m\n\u001b[1;32m    402\u001b[0m \u001b[38;5;28;01mif\u001b[39;00m \u001b[38;5;28misinstance\u001b[39m(key_or_keys, _KEY_TYPES):\n\u001b[0;32m--> 403\u001b[0m     \u001b[38;5;28;01mreturn\u001b[39;00m \u001b[38;5;28;43mself\u001b[39;49m\u001b[38;5;241;43m.\u001b[39;49m\u001b[43mget_vector\u001b[49m\u001b[43m(\u001b[49m\u001b[43mkey_or_keys\u001b[49m\u001b[43m)\u001b[49m\n\u001b[1;32m    405\u001b[0m \u001b[38;5;28;01mreturn\u001b[39;00m vstack([\u001b[38;5;28mself\u001b[39m\u001b[38;5;241m.\u001b[39mget_vector(key) \u001b[38;5;28;01mfor\u001b[39;00m key \u001b[38;5;129;01min\u001b[39;00m key_or_keys])\n",
      "File \u001b[0;32m~/miniconda3/envs/continue/lib/python3.11/site-packages/gensim/models/keyedvectors.py:446\u001b[0m, in \u001b[0;36mKeyedVectors.get_vector\u001b[0;34m(self, key, norm)\u001b[0m\n\u001b[1;32m    422\u001b[0m \u001b[38;5;28;01mdef\u001b[39;00m \u001b[38;5;21mget_vector\u001b[39m(\u001b[38;5;28mself\u001b[39m, key, norm\u001b[38;5;241m=\u001b[39m\u001b[38;5;28;01mFalse\u001b[39;00m):\n\u001b[1;32m    423\u001b[0m \u001b[38;5;250m    \u001b[39m\u001b[38;5;124;03m\"\"\"Get the key's vector, as a 1D numpy array.\u001b[39;00m\n\u001b[1;32m    424\u001b[0m \n\u001b[1;32m    425\u001b[0m \u001b[38;5;124;03m    Parameters\u001b[39;00m\n\u001b[0;32m   (...)\u001b[0m\n\u001b[1;32m    444\u001b[0m \n\u001b[1;32m    445\u001b[0m \u001b[38;5;124;03m    \"\"\"\u001b[39;00m\n\u001b[0;32m--> 446\u001b[0m     index \u001b[38;5;241m=\u001b[39m \u001b[38;5;28;43mself\u001b[39;49m\u001b[38;5;241;43m.\u001b[39;49m\u001b[43mget_index\u001b[49m\u001b[43m(\u001b[49m\u001b[43mkey\u001b[49m\u001b[43m)\u001b[49m\n\u001b[1;32m    447\u001b[0m     \u001b[38;5;28;01mif\u001b[39;00m norm:\n\u001b[1;32m    448\u001b[0m         \u001b[38;5;28mself\u001b[39m\u001b[38;5;241m.\u001b[39mfill_norms()\n",
      "File \u001b[0;32m~/miniconda3/envs/continue/lib/python3.11/site-packages/gensim/models/keyedvectors.py:420\u001b[0m, in \u001b[0;36mKeyedVectors.get_index\u001b[0;34m(self, key, default)\u001b[0m\n\u001b[1;32m    418\u001b[0m     \u001b[38;5;28;01mreturn\u001b[39;00m default\n\u001b[1;32m    419\u001b[0m \u001b[38;5;28;01melse\u001b[39;00m:\n\u001b[0;32m--> 420\u001b[0m     \u001b[38;5;28;01mraise\u001b[39;00m \u001b[38;5;167;01mKeyError\u001b[39;00m(\u001b[38;5;124mf\u001b[39m\u001b[38;5;124m\"\u001b[39m\u001b[38;5;124mKey \u001b[39m\u001b[38;5;124m'\u001b[39m\u001b[38;5;132;01m{\u001b[39;00mkey\u001b[38;5;132;01m}\u001b[39;00m\u001b[38;5;124m'\u001b[39m\u001b[38;5;124m not present\u001b[39m\u001b[38;5;124m\"\u001b[39m)\n",
      "\u001b[0;31mKeyError\u001b[0m: \"Key 'http://dbpedia.org/resource/Starr_(rapper)' not present\""
     ]
    }
   ],
   "source": [
    "import numpy as np\n",
    "from scipy.spatial.distance import cdist\n",
    "\n",
    "# lcquad_output = run_on_dataset(splitted_lcquad, exclude_paths, relation_excludes, node_excludes_funcs)\n",
    "for i, record in tqdm(enumerate(splitted_lcquad)):\n",
    "    print(i)\n",
    "    seed = record[\"seed\"]\n",
    "    vectors = dict()\n",
    "    for item in seed:\n",
    "        try:\n",
    "            vectors[item] = list(wv_model[item])\n",
    "        except Exception as e:\n",
    "            pass\n",
    "    center_vector = np.mean(list(vectors.values()), axis=0)\n",
    "    #radius = get_radius(center_vector, list(vectors.values()))\n",
    "    point_dist = cdist([center_vector], list(vectors.values()), metric=\"euclidean\")\n",
    "    threshold = np.max(point_dist)\n",
    "    eps = 1e-5\n",
    "    all_euclidean_dist = cdist([center_vector], wv_model.vectors, metric=\"euclidean\")\n",
    "    closer_elements = list()\n",
    "    for index in all_euclidean_dist.argsort()[0]:\n",
    "        if all_euclidean_dist[0][index] > threshold+eps:\n",
    "            break\n",
    "        closer_elements.append((index, all_euclidean_dist[0][index]))\n",
    "    prediction = [wv_model.index_to_key[item[0]] for item in closer_elements]"
   ]
  },
  {
   "cell_type": "code",
   "execution_count": 7,
   "metadata": {
    "collapsed": false
   },
   "outputs": [
    {
     "ename": "ValueError",
     "evalue": "XA must be a 2-dimensional array.",
     "output_type": "error",
     "traceback": [
      "\u001b[0;31m---------------------------------------------------------------------------\u001b[0m",
      "\u001b[0;31mValueError\u001b[0m                                Traceback (most recent call last)",
      "Cell \u001b[0;32mIn[7], line 15\u001b[0m\n\u001b[1;32m     13\u001b[0m center_vector \u001b[38;5;241m=\u001b[39m np\u001b[38;5;241m.\u001b[39mmean(\u001b[38;5;28mlist\u001b[39m(vectors\u001b[38;5;241m.\u001b[39mvalues()), axis\u001b[38;5;241m=\u001b[39m\u001b[38;5;241m0\u001b[39m)\n\u001b[1;32m     14\u001b[0m \u001b[38;5;66;03m#radius = get_radius(center_vector, list(vectors.values()))\u001b[39;00m\n\u001b[0;32m---> 15\u001b[0m point_dist \u001b[38;5;241m=\u001b[39m \u001b[43mcdist\u001b[49m\u001b[43m(\u001b[49m\u001b[43m[\u001b[49m\u001b[43mcenter_vector\u001b[49m\u001b[43m]\u001b[49m\u001b[43m,\u001b[49m\u001b[43m \u001b[49m\u001b[38;5;28;43mlist\u001b[39;49m\u001b[43m(\u001b[49m\u001b[43mvectors\u001b[49m\u001b[38;5;241;43m.\u001b[39;49m\u001b[43mvalues\u001b[49m\u001b[43m(\u001b[49m\u001b[43m)\u001b[49m\u001b[43m)\u001b[49m\u001b[43m,\u001b[49m\u001b[43m \u001b[49m\u001b[43mmetric\u001b[49m\u001b[38;5;241;43m=\u001b[39;49m\u001b[38;5;124;43m\"\u001b[39;49m\u001b[38;5;124;43meuclidean\u001b[39;49m\u001b[38;5;124;43m\"\u001b[39;49m\u001b[43m)\u001b[49m\n\u001b[1;32m     16\u001b[0m threshold \u001b[38;5;241m=\u001b[39m np\u001b[38;5;241m.\u001b[39mmax(point_dist)\n\u001b[1;32m     17\u001b[0m eps \u001b[38;5;241m=\u001b[39m \u001b[38;5;241m1e-5\u001b[39m\n",
      "File \u001b[0;32m~/miniconda3/envs/continue/lib/python3.11/site-packages/scipy/spatial/distance.py:2916\u001b[0m, in \u001b[0;36mcdist\u001b[0;34m(XA, XB, metric, out, **kwargs)\u001b[0m\n\u001b[1;32m   2913\u001b[0m sB \u001b[38;5;241m=\u001b[39m XB\u001b[38;5;241m.\u001b[39mshape\n\u001b[1;32m   2915\u001b[0m \u001b[38;5;28;01mif\u001b[39;00m \u001b[38;5;28mlen\u001b[39m(s) \u001b[38;5;241m!=\u001b[39m \u001b[38;5;241m2\u001b[39m:\n\u001b[0;32m-> 2916\u001b[0m     \u001b[38;5;28;01mraise\u001b[39;00m \u001b[38;5;167;01mValueError\u001b[39;00m(\u001b[38;5;124m'\u001b[39m\u001b[38;5;124mXA must be a 2-dimensional array.\u001b[39m\u001b[38;5;124m'\u001b[39m)\n\u001b[1;32m   2917\u001b[0m \u001b[38;5;28;01mif\u001b[39;00m \u001b[38;5;28mlen\u001b[39m(sB) \u001b[38;5;241m!=\u001b[39m \u001b[38;5;241m2\u001b[39m:\n\u001b[1;32m   2918\u001b[0m     \u001b[38;5;28;01mraise\u001b[39;00m \u001b[38;5;167;01mValueError\u001b[39;00m(\u001b[38;5;124m'\u001b[39m\u001b[38;5;124mXB must be a 2-dimensional array.\u001b[39m\u001b[38;5;124m'\u001b[39m)\n",
      "\u001b[0;31mValueError\u001b[0m: XA must be a 2-dimensional array."
     ]
    }
   ],
   "source": [
    "import numpy as np\n",
    "from scipy.spatial.distance import cdist\n",
    "\n",
    "record = splitted_lcquad[130]\n",
    "seed = record[\"seed\"]\n",
    "vectors = dict()\n",
    "missing = 0\n",
    "for item in seed:\n",
    "    try:\n",
    "        vectors[item] = list(wv_model[item])\n",
    "    except Exception as e:\n",
    "        missing += 1\n",
    "center_vector = np.mean(list(vectors.values()), axis=0)\n",
    "#radius = get_radius(center_vector, list(vectors.values()))\n",
    "point_dist = cdist([center_vector], list(vectors.values()), metric=\"euclidean\")\n",
    "threshold = np.max(point_dist)\n",
    "eps = 1e-5\n",
    "all_euclidean_dist = cdist([center_vector], wv_model.vectors, metric=\"euclidean\")\n",
    "closer_elements = list()\n",
    "for index in all_euclidean_dist.argsort()[0]:\n",
    "    if all_euclidean_dist[0][index] > threshold+eps:\n",
    "        break\n",
    "    closer_elements.append((index, all_euclidean_dist[0][index]))\n",
    "prediction = [wv_model.index_to_key[item[0]] for item in closer_elements]\n",
    "\n",
    "print(missing)"
   ]
  },
  {
   "cell_type": "code",
   "execution_count": 8,
   "metadata": {
    "collapsed": false
   },
   "outputs": [
    {
     "data": {
      "text/plain": [
       "4"
      ]
     },
     "execution_count": 8,
     "metadata": {},
     "output_type": "execute_result"
    }
   ],
   "source": [
    "missing"
   ]
  },
  {
   "cell_type": "code",
   "execution_count": 76,
   "metadata": {
    "collapsed": false
   },
   "outputs": [],
   "source": [
    "from loaders.loaders import load_on_path, ds_lc_quad_train_cleaned, ds_lc_quad_test_cleaned\n",
    "from evaluation.split_dataset import split_on_seed_dataset\n",
    "from excludes.basic_excludes import node_excl_wiki_func, node_excl_owlthing_func, node_excl_yago_func, node_excl_extra\n",
    "from algorithm.kgvec2go_vectors_simple import load_gensim_model, run_method, get_radius, cdist, is_inside_ellipse\n",
    "import json\n",
    "from gensim import models\n",
    "from gensim.models import Word2Vec\n",
    "import os\n",
    "\n",
    "cwd = \"/home/kardosp/continuethelist/dbpedia_vectors/kgvec2go\"\n",
    "word2vec_path = os.path.join(cwd, 'model.kv')\n",
    "\n",
    "exclude_paths = [\n",
    "    [\"\", \"http://www.w3.org/1999/02/22-rdf-syntax-ns#type\", \"http://www.w3.org/2004/02/skos/core#Concept\"]\n",
    "]\n",
    "relation_excludes = [\"http://xmlns.com/foaf/0.1/primaryTopic\",\n",
    "                     \"http://dbpedia.org/property/isCitedBy\",\n",
    "                     \"http://dbpedia.org/ontology/wikiPageWikiLink\",\n",
    "                     \"http://dbpedia.org/ontology/wikiPageWikiLinkText\",\n",
    "                     \"http://dbpedia.org/property/wikiPageUsesTemplate\",\n",
    "                     \"http://dbpedia.org/ontology/abstract\",\n",
    "                     \"http://www.w3.org/2000/01/rdf-schema#comment\", ]\n",
    "\n",
    "res_excludes_inside_point_relation = [\"http://purl.org/linguistics/gold/hypernym\",\n",
    "                                      \"http://www.w3.org/1999/02/22-rdf-syntax-ns#type\"]\n",
    "res_excludes_inside_point_node = []\n",
    "node_excludes_funcs = [node_excl_wiki_func, node_excl_owlthing_func, node_excl_yago_func, node_excl_extra]\n",
    "\n",
    "SEED = 43\n",
    "SAMPLE_SIZE = 4\n",
    "\n",
    "#Dataset load\n",
    "lc_quad_train = load_on_path(ds_lc_quad_train_cleaned)\n",
    "\n",
    "splitted_lcquad = split_on_seed_dataset(lc_quad_train, SAMPLE_SIZE, SEED)\n",
    "\n",
    "word2vec_model = load_gensim_model(word2vec_path)"
   ]
  },
  {
   "cell_type": "code",
   "execution_count": 4,
   "metadata": {
    "collapsed": false
   },
   "outputs": [
    {
     "name": "stderr",
     "output_type": "stream",
     "text": [
      "0it [00:00, ?it/s]"
     ]
    },
    {
     "name": "stdout",
     "output_type": "stream",
     "text": [
      "0\n"
     ]
    },
    {
     "name": "stderr",
     "output_type": "stream",
     "text": [
      "1it [00:25, 25.41s/it]"
     ]
    },
    {
     "name": "stdout",
     "output_type": "stream",
     "text": [
      "1\n"
     ]
    },
    {
     "name": "stderr",
     "output_type": "stream",
     "text": [
      "2it [00:53, 26.85s/it]"
     ]
    },
    {
     "name": "stdout",
     "output_type": "stream",
     "text": [
      "2\n"
     ]
    },
    {
     "name": "stderr",
     "output_type": "stream",
     "text": [
      "3it [01:10, 22.42s/it]"
     ]
    },
    {
     "name": "stdout",
     "output_type": "stream",
     "text": [
      "3\n"
     ]
    },
    {
     "name": "stderr",
     "output_type": "stream",
     "text": [
      "4it [01:27, 20.45s/it]"
     ]
    },
    {
     "name": "stdout",
     "output_type": "stream",
     "text": [
      "4\n"
     ]
    },
    {
     "name": "stderr",
     "output_type": "stream",
     "text": [
      "5it [01:47, 20.17s/it]"
     ]
    },
    {
     "name": "stdout",
     "output_type": "stream",
     "text": [
      "5\n"
     ]
    },
    {
     "name": "stderr",
     "output_type": "stream",
     "text": [
      "6it [02:09, 20.89s/it]"
     ]
    },
    {
     "name": "stdout",
     "output_type": "stream",
     "text": [
      "6\n"
     ]
    },
    {
     "name": "stderr",
     "output_type": "stream",
     "text": [
      "7it [02:28, 20.02s/it]"
     ]
    },
    {
     "name": "stdout",
     "output_type": "stream",
     "text": [
      "7\n"
     ]
    },
    {
     "name": "stderr",
     "output_type": "stream",
     "text": [
      "8it [02:50, 20.80s/it]"
     ]
    },
    {
     "name": "stdout",
     "output_type": "stream",
     "text": [
      "8\n"
     ]
    },
    {
     "name": "stderr",
     "output_type": "stream",
     "text": [
      "9it [03:14, 21.74s/it]"
     ]
    },
    {
     "name": "stdout",
     "output_type": "stream",
     "text": [
      "9\n"
     ]
    },
    {
     "name": "stderr",
     "output_type": "stream",
     "text": [
      "10it [03:37, 22.32s/it]"
     ]
    },
    {
     "name": "stdout",
     "output_type": "stream",
     "text": [
      "10\n"
     ]
    },
    {
     "name": "stderr",
     "output_type": "stream",
     "text": [
      "11it [03:58, 21.92s/it]"
     ]
    },
    {
     "name": "stdout",
     "output_type": "stream",
     "text": [
      "11\n"
     ]
    },
    {
     "name": "stderr",
     "output_type": "stream",
     "text": [
      "12it [04:18, 21.20s/it]"
     ]
    },
    {
     "name": "stdout",
     "output_type": "stream",
     "text": [
      "12\n"
     ]
    },
    {
     "name": "stderr",
     "output_type": "stream",
     "text": [
      "13it [04:50, 24.55s/it]"
     ]
    },
    {
     "name": "stdout",
     "output_type": "stream",
     "text": [
      "13\n"
     ]
    },
    {
     "name": "stderr",
     "output_type": "stream",
     "text": [
      "14it [05:13, 23.89s/it]"
     ]
    },
    {
     "name": "stdout",
     "output_type": "stream",
     "text": [
      "14\n"
     ]
    },
    {
     "name": "stderr",
     "output_type": "stream",
     "text": [
      "15it [05:36, 23.67s/it]"
     ]
    },
    {
     "name": "stdout",
     "output_type": "stream",
     "text": [
      "15\n"
     ]
    },
    {
     "name": "stderr",
     "output_type": "stream",
     "text": [
      "16it [05:59, 23.52s/it]"
     ]
    },
    {
     "name": "stdout",
     "output_type": "stream",
     "text": [
      "16\n"
     ]
    },
    {
     "name": "stderr",
     "output_type": "stream",
     "text": [
      "17it [06:22, 23.39s/it]"
     ]
    },
    {
     "name": "stdout",
     "output_type": "stream",
     "text": [
      "17\n"
     ]
    },
    {
     "name": "stderr",
     "output_type": "stream",
     "text": [
      "18it [06:52, 25.50s/it]"
     ]
    },
    {
     "name": "stdout",
     "output_type": "stream",
     "text": [
      "18\n"
     ]
    },
    {
     "name": "stderr",
     "output_type": "stream",
     "text": [
      "19it [07:21, 26.40s/it]"
     ]
    },
    {
     "name": "stdout",
     "output_type": "stream",
     "text": [
      "19\n"
     ]
    },
    {
     "name": "stderr",
     "output_type": "stream",
     "text": [
      "20it [07:46, 25.94s/it]"
     ]
    },
    {
     "name": "stdout",
     "output_type": "stream",
     "text": [
      "20\n"
     ]
    },
    {
     "name": "stderr",
     "output_type": "stream",
     "text": [
      "21it [08:10, 25.55s/it]"
     ]
    },
    {
     "name": "stdout",
     "output_type": "stream",
     "text": [
      "21\n"
     ]
    },
    {
     "name": "stderr",
     "output_type": "stream",
     "text": [
      "22it [08:49, 29.32s/it]"
     ]
    },
    {
     "name": "stdout",
     "output_type": "stream",
     "text": [
      "22\n"
     ]
    },
    {
     "name": "stderr",
     "output_type": "stream",
     "text": [
      "23it [09:16, 28.76s/it]"
     ]
    },
    {
     "name": "stdout",
     "output_type": "stream",
     "text": [
      "23\n"
     ]
    },
    {
     "name": "stderr",
     "output_type": "stream",
     "text": [
      "24it [09:43, 28.19s/it]"
     ]
    },
    {
     "name": "stdout",
     "output_type": "stream",
     "text": [
      "24\n"
     ]
    },
    {
     "name": "stderr",
     "output_type": "stream",
     "text": [
      "25it [10:15, 29.22s/it]"
     ]
    },
    {
     "name": "stdout",
     "output_type": "stream",
     "text": [
      "25\n"
     ]
    },
    {
     "name": "stderr",
     "output_type": "stream",
     "text": [
      "26it [10:48, 30.56s/it]"
     ]
    },
    {
     "name": "stdout",
     "output_type": "stream",
     "text": [
      "26\n"
     ]
    },
    {
     "name": "stderr",
     "output_type": "stream",
     "text": [
      "27it [11:16, 29.88s/it]"
     ]
    },
    {
     "name": "stdout",
     "output_type": "stream",
     "text": [
      "27\n"
     ]
    },
    {
     "name": "stderr",
     "output_type": "stream",
     "text": [
      "28it [11:44, 29.29s/it]"
     ]
    },
    {
     "name": "stdout",
     "output_type": "stream",
     "text": [
      "28\n"
     ]
    },
    {
     "name": "stderr",
     "output_type": "stream",
     "text": [
      "29it [12:26, 32.92s/it]"
     ]
    },
    {
     "name": "stdout",
     "output_type": "stream",
     "text": [
      "29\n"
     ]
    },
    {
     "name": "stderr",
     "output_type": "stream",
     "text": [
      "30it [12:57, 32.28s/it]"
     ]
    },
    {
     "name": "stdout",
     "output_type": "stream",
     "text": [
      "30\n"
     ]
    },
    {
     "name": "stderr",
     "output_type": "stream",
     "text": [
      "31it [13:35, 34.10s/it]"
     ]
    },
    {
     "name": "stdout",
     "output_type": "stream",
     "text": [
      "31\n"
     ]
    },
    {
     "name": "stderr",
     "output_type": "stream",
     "text": [
      "32it [14:11, 34.61s/it]"
     ]
    },
    {
     "name": "stdout",
     "output_type": "stream",
     "text": [
      "32\n"
     ]
    },
    {
     "name": "stderr",
     "output_type": "stream",
     "text": [
      "33it [14:47, 35.09s/it]"
     ]
    },
    {
     "name": "stdout",
     "output_type": "stream",
     "text": [
      "33\n"
     ]
    },
    {
     "name": "stderr",
     "output_type": "stream",
     "text": [
      "34it [15:19, 34.25s/it]"
     ]
    },
    {
     "name": "stdout",
     "output_type": "stream",
     "text": [
      "34\n"
     ]
    },
    {
     "name": "stderr",
     "output_type": "stream",
     "text": [
      "35it [15:51, 33.37s/it]"
     ]
    },
    {
     "name": "stdout",
     "output_type": "stream",
     "text": [
      "35\n"
     ]
    },
    {
     "name": "stderr",
     "output_type": "stream",
     "text": [
      "36it [16:22, 32.89s/it]"
     ]
    },
    {
     "name": "stdout",
     "output_type": "stream",
     "text": [
      "36\n"
     ]
    },
    {
     "name": "stderr",
     "output_type": "stream",
     "text": [
      "37it [16:52, 31.98s/it]"
     ]
    },
    {
     "name": "stdout",
     "output_type": "stream",
     "text": [
      "37\n"
     ]
    },
    {
     "name": "stderr",
     "output_type": "stream",
     "text": [
      "38it [17:20, 30.68s/it]"
     ]
    },
    {
     "name": "stdout",
     "output_type": "stream",
     "text": [
      "38\n"
     ]
    },
    {
     "name": "stderr",
     "output_type": "stream",
     "text": [
      "39it [17:46, 29.40s/it]"
     ]
    },
    {
     "name": "stdout",
     "output_type": "stream",
     "text": [
      "39\n"
     ]
    },
    {
     "name": "stderr",
     "output_type": "stream",
     "text": [
      "40it [18:13, 28.69s/it]"
     ]
    },
    {
     "name": "stdout",
     "output_type": "stream",
     "text": [
      "40\n"
     ]
    },
    {
     "name": "stderr",
     "output_type": "stream",
     "text": [
      "41it [18:45, 29.70s/it]"
     ]
    },
    {
     "name": "stdout",
     "output_type": "stream",
     "text": [
      "41\n"
     ]
    },
    {
     "name": "stderr",
     "output_type": "stream",
     "text": [
      "42it [19:19, 30.92s/it]"
     ]
    },
    {
     "name": "stdout",
     "output_type": "stream",
     "text": [
      "42\n"
     ]
    },
    {
     "name": "stderr",
     "output_type": "stream",
     "text": [
      "43it [19:57, 32.93s/it]"
     ]
    },
    {
     "name": "stdout",
     "output_type": "stream",
     "text": [
      "43\n"
     ]
    },
    {
     "name": "stderr",
     "output_type": "stream",
     "text": [
      "44it [20:30, 33.06s/it]"
     ]
    },
    {
     "name": "stdout",
     "output_type": "stream",
     "text": [
      "44\n"
     ]
    },
    {
     "name": "stderr",
     "output_type": "stream",
     "text": [
      "45it [21:15, 36.58s/it]"
     ]
    },
    {
     "name": "stdout",
     "output_type": "stream",
     "text": [
      "45\n"
     ]
    },
    {
     "name": "stderr",
     "output_type": "stream",
     "text": [
      "46it [21:51, 36.35s/it]"
     ]
    },
    {
     "name": "stdout",
     "output_type": "stream",
     "text": [
      "46\n"
     ]
    },
    {
     "name": "stderr",
     "output_type": "stream",
     "text": [
      "47it [22:24, 35.57s/it]"
     ]
    },
    {
     "name": "stdout",
     "output_type": "stream",
     "text": [
      "47\n"
     ]
    },
    {
     "name": "stderr",
     "output_type": "stream",
     "text": [
      "48it [23:04, 36.82s/it]"
     ]
    },
    {
     "name": "stdout",
     "output_type": "stream",
     "text": [
      "48\n"
     ]
    },
    {
     "name": "stderr",
     "output_type": "stream",
     "text": [
      "49it [23:47, 38.65s/it]"
     ]
    },
    {
     "name": "stdout",
     "output_type": "stream",
     "text": [
      "49\n"
     ]
    },
    {
     "name": "stderr",
     "output_type": "stream",
     "text": [
      "50it [24:31, 40.28s/it]"
     ]
    },
    {
     "name": "stdout",
     "output_type": "stream",
     "text": [
      "50\n"
     ]
    },
    {
     "name": "stderr",
     "output_type": "stream",
     "text": [
      "50it [24:41, 29.62s/it]\n"
     ]
    },
    {
     "ename": "KeyboardInterrupt",
     "evalue": "",
     "output_type": "error",
     "traceback": [
      "\u001b[0;31m---------------------------------------------------------------------------\u001b[0m",
      "\u001b[0;31mKeyboardInterrupt\u001b[0m                         Traceback (most recent call last)",
      "Cell \u001b[0;32mIn[4], line 52\u001b[0m\n\u001b[1;32m     50\u001b[0m \u001b[38;5;28;01mif\u001b[39;00m \u001b[38;5;124m\"\u001b[39m\u001b[38;5;124moutput\u001b[39m\u001b[38;5;124m\"\u001b[39m \u001b[38;5;129;01min\u001b[39;00m record:\n\u001b[1;32m     51\u001b[0m     \u001b[38;5;28;01mcontinue\u001b[39;00m\n\u001b[0;32m---> 52\u001b[0m result, missing \u001b[38;5;241m=\u001b[39m \u001b[43mrun_method\u001b[49m\u001b[43m(\u001b[49m\u001b[43mrecord\u001b[49m\u001b[43m[\u001b[49m\u001b[38;5;124;43m\"\u001b[39;49m\u001b[38;5;124;43mseed\u001b[39;49m\u001b[38;5;124;43m\"\u001b[39;49m\u001b[43m]\u001b[49m\u001b[43m,\u001b[49m\u001b[43m \u001b[49m\u001b[43mwv_model\u001b[49m\u001b[43m)\u001b[49m\n\u001b[1;32m     53\u001b[0m record[\u001b[38;5;124m\"\u001b[39m\u001b[38;5;124moutput\u001b[39m\u001b[38;5;124m\"\u001b[39m] \u001b[38;5;241m=\u001b[39m result\n\u001b[1;32m     54\u001b[0m missing_counter \u001b[38;5;241m+\u001b[39m\u001b[38;5;241m=\u001b[39m missing\n",
      "File \u001b[0;32m~/continuethelist/notebooks/algorithm/kgvec2go_vectors_simple.py:42\u001b[0m, in \u001b[0;36mrun_method\u001b[0;34m(seed, wv_model)\u001b[0m\n\u001b[1;32m     40\u001b[0m print(center_vector.shape)\n\u001b[1;32m     41\u001b[0m print(np.array(list(vectors.values())).shape)\n\u001b[0;32m---> 42\u001b[0m #radius = get_radius(center_vector, list(vectors.values()))\n\u001b[1;32m     44\u001b[0m if distance == \"circle\" or distance == \"euclidean\":\n\u001b[1;32m     45\u001b[0m     point_dist = cdist([center_vector], list(vectors.values()), metric=\"euclidean\")\n",
      "File \u001b[0;32m~/miniconda3/envs/continue/lib/python3.11/site-packages/scipy/spatial/distance.py:2939\u001b[0m, in \u001b[0;36mcdist\u001b[0;34m(XA, XB, metric, out, **kwargs)\u001b[0m\n\u001b[1;32m   2937\u001b[0m \u001b[38;5;28;01mif\u001b[39;00m metric_info \u001b[38;5;129;01mis\u001b[39;00m \u001b[38;5;129;01mnot\u001b[39;00m \u001b[38;5;28;01mNone\u001b[39;00m:\n\u001b[1;32m   2938\u001b[0m     cdist_fn \u001b[38;5;241m=\u001b[39m metric_info\u001b[38;5;241m.\u001b[39mcdist_func\n\u001b[0;32m-> 2939\u001b[0m     \u001b[38;5;28;01mreturn\u001b[39;00m \u001b[43mcdist_fn\u001b[49m\u001b[43m(\u001b[49m\u001b[43mXA\u001b[49m\u001b[43m,\u001b[49m\u001b[43m \u001b[49m\u001b[43mXB\u001b[49m\u001b[43m,\u001b[49m\u001b[43m \u001b[49m\u001b[43mout\u001b[49m\u001b[38;5;241;43m=\u001b[39;49m\u001b[43mout\u001b[49m\u001b[43m,\u001b[49m\u001b[43m \u001b[49m\u001b[38;5;241;43m*\u001b[39;49m\u001b[38;5;241;43m*\u001b[39;49m\u001b[43mkwargs\u001b[49m\u001b[43m)\u001b[49m\n\u001b[1;32m   2940\u001b[0m \u001b[38;5;28;01melif\u001b[39;00m mstr\u001b[38;5;241m.\u001b[39mstartswith(\u001b[38;5;124m\"\u001b[39m\u001b[38;5;124mtest_\u001b[39m\u001b[38;5;124m\"\u001b[39m):\n\u001b[1;32m   2941\u001b[0m     metric_info \u001b[38;5;241m=\u001b[39m _TEST_METRICS\u001b[38;5;241m.\u001b[39mget(mstr, \u001b[38;5;28;01mNone\u001b[39;00m)\n",
      "\u001b[0;31mKeyboardInterrupt\u001b[0m: "
     ]
    }
   ],
   "source": [
    "from algorithm.kgvec2go_vectors_simple import run_method, load_gensim_model\n",
    "from excludes.basic_excludes import (node_excl_yago_func, node_excl_extra,\n",
    "                                     node_excl_owlthing_func, node_excl_wiki_func)\n",
    "from loaders.loaders import *\n",
    "from evaluation.split_dataset import split_on_seed_dataset\n",
    "import json\n",
    "import pickle\n",
    "import os\n",
    "from tqdm import tqdm\n",
    "\n",
    "\n",
    "exclude_paths = [\n",
    "    [\"\", \"http://www.w3.org/1999/02/22-rdf-syntax-ns#type\", \"http://www.w3.org/2004/02/skos/core#Concept\"]\n",
    "]\n",
    "relation_excludes = [\"http://xmlns.com/foaf/0.1/primaryTopic\",\n",
    "                     \"http://dbpedia.org/property/isCitedBy\",\n",
    "                     \"http://dbpedia.org/ontology/wikiPageWikiLink\",\n",
    "                     \"http://dbpedia.org/ontology/wikiPageWikiLinkText\",\n",
    "                     \"http://dbpedia.org/property/wikiPageUsesTemplate\",\n",
    "                     'http://dbpedia.org/ontology/wikiPageRedirects',\n",
    "                     'http://dbpedia.org/ontology/wikiPageOutDegree',\n",
    "                     \"http://dbpedia.org/ontology/abstract\",\n",
    "                     \"http://www.w3.org/2000/01/rdf-schema#comment\", ]\n",
    "\n",
    "res_excludes_inside_point_relation = [\"http://purl.org/linguistics/gold/hypernym\",\n",
    "                                      \"http://www.w3.org/1999/02/22-rdf-syntax-ns#type\"]\n",
    "res_excludes_inside_point_node = []\n",
    "node_excludes_funcs = [node_excl_wiki_func, node_excl_owlthing_func, node_excl_yago_func, node_excl_extra]\n",
    "\n",
    "SEED = 44\n",
    "SAMPLE_SIZE = 4\n",
    "verbose = 1\n",
    "\n",
    "#Dataset load\n",
    "#lc_quad_train = load_lc_quad_train()\n",
    "\n",
    "lc_quad_train = load_on_path(ds_lc_quad_train_cleaned)\n",
    "splitted_lcquad = split_on_seed_dataset(lc_quad_train, SAMPLE_SIZE, SEED)\n",
    "\n",
    "#splitted_lcquad = load_on_path_pickle(\"/home/kardosp/continuethelist/outputs/graphwalk_v2_output_sample4.pickle\")\n",
    "\n",
    "cwd = \"/home/kardosp/continuethelist/dbpedia_vectors/kgvec2go\"\n",
    "word2vec_path = os.path.join(cwd, 'model.kv')\n",
    "wv_model = load_gensim_model(word2vec_path)\n",
    "missing_counter = 0\n"
   ]
  },
  {
   "cell_type": "code",
   "execution_count": null,
   "metadata": {
    "collapsed": false
   },
   "outputs": [],
   "source": [
    "# lcquad_output = run_on_dataset(splitted_lcquad, exclude_paths, relation_excludes, node_excludes_funcs)\n",
    "for i, record in tqdm(list(enumerate(splitted_lcquad))):\n",
    "    print(i)\n",
    "    if \"output\" in record:\n",
    "        continue\n",
    "    result, missing = run_method(record[\"seed\"], wv_model)\n",
    "    record[\"output\"] = result\n",
    "    missing_counter += missing\n",
    "    # TODO - evaluate\n",
    "\n",
    "    with open(\"/home/kardosp/continuethelist/outputs/kgvec2go_v1_output_sample4.pickle\", \"wb\") as f:\n",
    "        pickle.dump(splitted_lcquad, f)\n",
    "\n"
   ]
  },
  {
   "cell_type": "code",
   "execution_count": 77,
   "metadata": {
    "collapsed": false
   },
   "outputs": [],
   "source": [
    "i = 10\n",
    "record = splitted_lcquad[i]\n",
    "seed = record[\"seed\"]"
   ]
  },
  {
   "cell_type": "code",
   "execution_count": 95,
   "metadata": {
    "collapsed": false
   },
   "outputs": [],
   "source": [
    "import numpy as np\n",
    "\n",
    "from algorithm.kgvec2go_vectors_simple import load_gensim_model, run_method, get_radius, cdist, is_inside_ellipse"
   ]
  },
  {
   "cell_type": "code",
   "execution_count": 101,
   "metadata": {
    "collapsed": false
   },
   "outputs": [
    {
     "ename": "AttributeError",
     "evalue": "'dict' object has no attribute 'vlues'",
     "output_type": "error",
     "traceback": [
      "\u001b[0;31m---------------------------------------------------------------------------\u001b[0m",
      "\u001b[0;31mAttributeError\u001b[0m                            Traceback (most recent call last)",
      "Cell \u001b[0;32mIn[101], line 5\u001b[0m\n\u001b[1;32m      2\u001b[0m \u001b[38;5;28;01mfor\u001b[39;00m item \u001b[38;5;129;01min\u001b[39;00m seed:\n\u001b[1;32m      3\u001b[0m     vectors[item] \u001b[38;5;241m=\u001b[39m word2vec_model[item]\n\u001b[0;32m----> 5\u001b[0m center_vector \u001b[38;5;241m=\u001b[39m np\u001b[38;5;241m.\u001b[39mmean(\u001b[38;5;28mlist\u001b[39m(\u001b[43mvectors\u001b[49m\u001b[38;5;241;43m.\u001b[39;49m\u001b[43mvlues\u001b[49m()), axis\u001b[38;5;241m=\u001b[39m\u001b[38;5;241m0\u001b[39m)\n\u001b[1;32m      6\u001b[0m radius \u001b[38;5;241m=\u001b[39m get_radius(center_vector, \u001b[38;5;28mlist\u001b[39m(vectors\u001b[38;5;241m.\u001b[39mvalues()))\n\u001b[1;32m      8\u001b[0m distance_result \u001b[38;5;241m=\u001b[39m cdist([center_vector], word2vec_model\u001b[38;5;241m.\u001b[39mvectors, metric\u001b[38;5;241m=\u001b[39m\u001b[38;5;28;01mlambda\u001b[39;00m x, y: is_inside_ellipse(x, radius, y))\n",
      "\u001b[0;31mAttributeError\u001b[0m: 'dict' object has no attribute 'vlues'"
     ]
    }
   ],
   "source": [
    "vectors = dict()\n",
    "for item in seed:\n",
    "    vectors[item] = word2vec_model[item]\n",
    "\n",
    "center_vector = np.mean(list(vectors.values()), axis=0)\n",
    "# radius = get_radius(center_vector, list(vectors.values()))\n",
    "\n",
    "distance_result = cdist([center_vector], word2vec_model.vectors, metric=lambda x, y: is_inside_ellipse(x, radius, y))"
   ]
  },
  {
   "cell_type": "code",
   "execution_count": 170,
   "metadata": {
    "collapsed": false
   },
   "outputs": [],
   "source": [
    "point_dist = cdist([center_vector], list(vectors.values()), metric=\"euclidean\")\n",
    "threshold = np.max(point_dist)\n",
    "eps = 1e-5"
   ]
  },
  {
   "cell_type": "code",
   "execution_count": 166,
   "metadata": {
    "collapsed": false
   },
   "outputs": [
    {
     "name": "stdout",
     "output_type": "stream",
     "text": [
      "9.970340967178345\n"
     ]
    }
   ],
   "source": [
    "import time\n",
    "\n",
    "start_time = time.time()\n",
    "all_euclidean_dist = cdist([center_vector], word2vec_model.vectors, metric=\"euclidean\")\n",
    "end_time = time.time()\n",
    "print(end_time - start_time)"
   ]
  },
  {
   "cell_type": "code",
   "execution_count": null,
   "metadata": {
    "collapsed": false
   },
   "outputs": [],
   "source": []
  },
  {
   "cell_type": "code",
   "execution_count": 174,
   "metadata": {
    "collapsed": false
   },
   "outputs": [
    {
     "data": {
      "text/plain": [
       "(1, 5818450)"
      ]
     },
     "execution_count": 174,
     "metadata": {},
     "output_type": "execute_result"
    }
   ],
   "source": [
    "all_euclidean_dist.argsort().shape"
   ]
  },
  {
   "cell_type": "code",
   "execution_count": 168,
   "metadata": {
    "collapsed": false
   },
   "outputs": [
    {
     "data": {
      "text/plain": [
       "array([[3264077, 3151500, 3278138, ...,   22319,    3454,    6365]])"
      ]
     },
     "execution_count": 168,
     "metadata": {},
     "output_type": "execute_result"
    }
   ],
   "source": [
    "all_euclidean_dist.argsort()"
   ]
  },
  {
   "cell_type": "code",
   "execution_count": 176,
   "metadata": {
    "collapsed": false
   },
   "outputs": [],
   "source": [
    "closer_elements = list()\n",
    "for index in all_euclidean_dist.argsort()[0]:\n",
    "    if all_euclidean_dist[0][index] > threshold+eps:\n",
    "        break\n",
    "    closer_elements.append((index, all_euclidean_dist[0][index]))"
   ]
  },
  {
   "cell_type": "code",
   "execution_count": 177,
   "metadata": {
    "collapsed": false
   },
   "outputs": [
    {
     "data": {
      "text/plain": [
       "[(3264077, 2.8576660941515586),\n",
       " (3151500, 3.003502271744162),\n",
       " (3278138, 3.018716850055249),\n",
       " (2059386, 3.177647115632232),\n",
       " (297180, 3.230246786686437),\n",
       " (852206, 3.2753948312501917),\n",
       " (1782418, 3.3366347479219662),\n",
       " (2891014, 3.46574100630218),\n",
       " (1723168, 3.539235047425996),\n",
       " (3485693, 3.5979133267411476),\n",
       " (2769204, 3.6012446137776495),\n",
       " (3182591, 3.6165668337438097),\n",
       " (4203264, 3.6179511791639323),\n",
       " (3394608, 3.6373511960914318),\n",
       " (2544057, 3.645236906959217),\n",
       " (822992, 3.645255460431268),\n",
       " (4041436, 3.6464656181371464),\n",
       " (2071276, 3.6508653518753404),\n",
       " (3307692, 3.652435629367878),\n",
       " (4112202, 3.663430565592951),\n",
       " (4166608, 3.6641164209432966),\n",
       " (3427958, 3.667007712374275),\n",
       " (4186620, 3.6826326475563804),\n",
       " (4180727, 3.689304592290881),\n",
       " (1025090, 3.694934403467729),\n",
       " (1748621, 3.6996415269469365),\n",
       " (4315478, 3.7009417282059545),\n",
       " (4694121, 3.715005881154567),\n",
       " (3032441, 3.7278324292534335),\n",
       " (3109592, 3.7302005059105228),\n",
       " (1745962, 3.7324876497731907),\n",
       " (2928149, 3.73395948968471),\n",
       " (4198592, 3.7374129316373597),\n",
       " (4173307, 3.740816346006109),\n",
       " (4050610, 3.7484204432006174),\n",
       " (4635245, 3.749961648949091),\n",
       " (4107003, 3.750727794554844),\n",
       " (3291975, 3.753390910050851),\n",
       " (3436838, 3.7575888193159424),\n",
       " (4034189, 3.758103367668857),\n",
       " (3976541, 3.759652719848867),\n",
       " (3348331, 3.7599221508075686),\n",
       " (4178074, 3.7680114447416093),\n",
       " (1564101, 3.769130693393677),\n",
       " (3334889, 3.770538430737841),\n",
       " (3999290, 3.773247267683953),\n",
       " (3821715, 3.775795090486789),\n",
       " (4238332, 3.781592740578809),\n",
       " (4050477, 3.786108329843622),\n",
       " (3986748, 3.78659225812052),\n",
       " (1151587, 3.7868589354121034),\n",
       " (3178194, 3.7878217753623664),\n",
       " (4067134, 3.7885592458355473),\n",
       " (4195641, 3.791605970631477),\n",
       " (4264588, 3.792003302697174),\n",
       " (3071119, 3.7922546631704415),\n",
       " (3331539, 3.798417878884009),\n",
       " (4186001, 3.7996328653544387),\n",
       " (4162468, 3.7997403170394306),\n",
       " (4252673, 3.8006623700626867),\n",
       " (3142557, 3.800892738703354),\n",
       " (889232, 3.8072701206415522),\n",
       " (4220728, 3.8083105604746947),\n",
       " (1653222, 3.8091250185850125),\n",
       " (4772670, 3.810083706595671),\n",
       " (4178354, 3.810953620338606),\n",
       " (3664428, 3.8114631977436724),\n",
       " (4170625, 3.812177968188755),\n",
       " (4183785, 3.815002237635055),\n",
       " (3147330, 3.81710045827115),\n",
       " (4253309, 3.8186327696541076),\n",
       " (4816351, 3.8191949840324493),\n",
       " (4198255, 3.8201498166192267),\n",
       " (4162557, 3.822216222474222),\n",
       " (4005117, 3.8231981252754577),\n",
       " (3179663, 3.823973116828402),\n",
       " (896363, 3.824170801555272),\n",
       " (4066627, 3.825024397191244),\n",
       " (2512572, 3.825867481764233),\n",
       " (1077771, 3.8363281551375255),\n",
       " (3153732, 3.8365218026714754),\n",
       " (3430702, 3.8379496533202766),\n",
       " (1600462, 3.838242476041389),\n",
       " (4178958, 3.838869312454613),\n",
       " (3451484, 3.838897442555019),\n",
       " (4101905, 3.8395212157478245),\n",
       " (98873, 3.8402263536724783)]"
      ]
     },
     "execution_count": 177,
     "metadata": {},
     "output_type": "execute_result"
    }
   ],
   "source": [
    "closer_elements"
   ]
  },
  {
   "cell_type": "code",
   "execution_count": 179,
   "metadata": {
    "collapsed": false
   },
   "outputs": [
    {
     "name": "stdout",
     "output_type": "stream",
     "text": [
      "http://dbpedia.org/resource/Heart_of_Ice_(Batman:_The_Animated_Series)\n",
      "http://dbpedia.org/resource/Heart_of_Steel\n",
      "http://dbpedia.org/resource/Almost_Got_'Im\n",
      "http://dbpedia.org/resource/Nora_Fries\n",
      "http://dbpedia.org/resource/The_New_Batman_Adventures\n",
      "http://dbpedia.org/resource/On_Leather_Wings\n",
      "http://dbpedia.org/resource/Batman_(Terry_McGinnis)\n",
      "http://dbpedia.org/resource/Evicted!\n",
      "http://dbpedia.org/resource/Harley_Quinn\n",
      "http://dbpedia.org/resource/Final_Destination_(film)__Final_Destination:_The_Complete_Original_Motion_Pi__1\n",
      "http://dbpedia.org/resource/Batman_Animated\n",
      "http://dbpedia.org/resource/I'm_Mad\n",
      "http://dbpedia.org/resource/Hanna-Barbera_Productions\n",
      "http://dbpedia.org/resource/Summer_Gleeson\n",
      "http://dbpedia.org/resource/Forerunner_(comics)\n",
      "http://dbpedia.org/resource/The_Modifyers\n",
      "http://dbpedia.org/resource/Charles_Tingwell\n",
      "http://dbpedia.org/resource/Roxy_Rocket\n",
      "http://dbpedia.org/resource/Superman_(TV_series)\n",
      "http://dbpedia.org/resource/Group_Three_Productions\n",
      "http://dbpedia.org/resource/Elizabeth_Morgan_(actor)\n",
      "http://dbpedia.org/resource/Powers_That_Be_(Angel)\n",
      "http://dbpedia.org/resource/New_York_(city)\n",
      "http://dbpedia.org/resource/Fox_Television_Animation\n",
      "http://dbpedia.org/resource/Robin's_Reckoning\n",
      "http://dbpedia.org/resource/Cad_Bane\n",
      "http://dbpedia.org/resource/70/30_Productions\n",
      "http://dbpedia.org/resource/Jim_Fortier\n",
      "http://dbpedia.org/resource/Escape_from_Cluster_Prime\n",
      "http://dbpedia.org/resource/Ice_King\n",
      "http://dbpedia.org/resource/Blindfold_(comics)\n",
      "http://dbpedia.org/resource/Zombie_College\n",
      "http://dbpedia.org/resource/Michael_Ouweleen\n",
      "http://dbpedia.org/resource/Thomas_W._Blackburn\n",
      "http://dbpedia.org/resource/James_Wong_(producer)\n",
      "http://dbpedia.org/resource/Your_Pretty_Face_is_Going_to_Hell\n",
      "http://dbpedia.org/resource/Matt_Thompson_(animator)\n",
      "http://dbpedia.org/resource/Two-Headed_Monster\n",
      "http://dbpedia.org/resource/The_Answer_(Steven_Universe)\n",
      "http://dbpedia.org/resource/Associated_TeleVision\n",
      "http://dbpedia.org/resource/Warner_Bros._Television_Distribution\n",
      "http://dbpedia.org/resource/Nasedo\n",
      "http://dbpedia.org/resource/Sandbanks\n",
      "http://dbpedia.org/resource/Foxy_(Merrie_Melodies)\n",
      "http://dbpedia.org/resource/Wizboy\n",
      "http://dbpedia.org/resource/5.1_surround_sound\n",
      "http://dbpedia.org/resource/Baby_Bottleneck\n",
      "http://dbpedia.org/resource/Douglas_Marland\n",
      "http://dbpedia.org/resource/Dramatic_programming\n",
      "http://dbpedia.org/resource/Starz_Entertainment\n",
      "http://dbpedia.org/resource/Just_Rewards\n",
      "http://dbpedia.org/resource/One_Meat_Brawl\n",
      "http://dbpedia.org/resource/Action_(genre)\n",
      "http://dbpedia.org/resource/Hugh_Benson\n",
      "http://dbpedia.org/resource/Joe_Gannon\n",
      "http://dbpedia.org/resource/It_Came_from_the_Nightosphere\n",
      "http://dbpedia.org/resource/Daffy_Duck_Slept_Here\n",
      "http://dbpedia.org/resource/Animated_television_series\n",
      "http://dbpedia.org/resource/Action_fiction\n",
      "http://dbpedia.org/resource/Primetime_Emmy\n",
      "http://dbpedia.org/resource/Pie-lette\n",
      "http://dbpedia.org/resource/Peace_Out\n",
      "http://dbpedia.org/resource/Showrunner\n",
      "http://dbpedia.org/resource/Independence_Day_(Young_Justice)\n",
      "http://dbpedia.org/resource/Turner_Studios\n",
      "http://dbpedia.org/resource/Angel_(series)\n",
      "http://dbpedia.org/resource/The_Prize_Pest\n",
      "http://dbpedia.org/resource/Surround_sound\n",
      "http://dbpedia.org/resource/Bill_Harris_(director)\n",
      "http://dbpedia.org/resource/Boston_Quackie\n",
      "http://dbpedia.org/resource/Score_Productions\n",
      "http://dbpedia.org/resource/Brett_Butler_(voice_actor)\n",
      "http://dbpedia.org/resource/The_Farseer_Trilogy\n",
      "http://dbpedia.org/resource/Black_and_white\n",
      "http://dbpedia.org/resource/Group_Three\n",
      "http://dbpedia.org/resource/Market_Forces_(The_Spectacular_Spider-Man)\n",
      "http://dbpedia.org/resource/Return_to_the_Nightosphere_/_Daddy's_Little_Monster\n",
      "http://dbpedia.org/resource/Ten_Thirteen_Productions\n",
      "http://dbpedia.org/resource/Boba_Fett:_Maze_of_Deception\n",
      "http://dbpedia.org/resource/The_Six_Messiahs\n",
      "http://dbpedia.org/resource/Design_for_Leaving\n",
      "http://dbpedia.org/resource/Celebrities_Uncensored\n",
      "http://dbpedia.org/resource/Crowley_(Supernatural)\n",
      "http://dbpedia.org/resource/Teen_drama\n",
      "http://dbpedia.org/resource/Death_in_Bloom\n",
      "http://dbpedia.org/resource/Belisarius_Productions\n",
      "http://dbpedia.org/resource/Batman:_The_Animated_Series\n"
     ]
    }
   ],
   "source": [
    "for item in closer_elements:\n",
    "    print(word2vec_model.index_to_key[item[0]])"
   ]
  },
  {
   "cell_type": "code",
   "execution_count": 181,
   "metadata": {
    "collapsed": false
   },
   "outputs": [],
   "source": [
    "prediction = [word2vec_model.index_to_key[item[0]] for item in closer_elements]"
   ]
  },
  {
   "cell_type": "code",
   "execution_count": 183,
   "metadata": {
    "collapsed": false
   },
   "outputs": [
    {
     "name": "stdout",
     "output_type": "stream",
     "text": [
      "True http://dbpedia.org/resource/The_New_Batman_Adventures\n",
      "True http://dbpedia.org/resource/Batman_(Terry_McGinnis)\n",
      "True http://dbpedia.org/resource/Batman:_The_Animated_Series\n",
      "True http://dbpedia.org/resource/Nora_Fries\n"
     ]
    }
   ],
   "source": [
    "for s in seed:\n",
    "    print(s in prediction, s)"
   ]
  },
  {
   "cell_type": "code",
   "execution_count": 165,
   "metadata": {
    "collapsed": false
   },
   "outputs": [
    {
     "data": {
      "text/plain": [
       "3.8402263536724783"
      ]
     },
     "execution_count": 165,
     "metadata": {},
     "output_type": "execute_result"
    }
   ],
   "source": [
    "np.max(euclidean_dist)"
   ]
  },
  {
   "cell_type": "code",
   "execution_count": 99,
   "metadata": {
    "collapsed": false
   },
   "outputs": [
    {
     "data": {
      "text/plain": [
       "array([[ 967.60089111,  891.87341309, 1114.8828125 , ...,  426.81021118,\n",
       "         428.70727539,  428.31793213]])"
      ]
     },
     "execution_count": 99,
     "metadata": {},
     "output_type": "execute_result"
    }
   ],
   "source": [
    "distance_result"
   ]
  },
  {
   "cell_type": "code",
   "execution_count": 100,
   "metadata": {
    "collapsed": false
   },
   "outputs": [
    {
     "data": {
      "text/plain": [
       "array([-0.24487069, -0.43330988, -0.01095669, -0.4691753 , -0.6391381 ,\n",
       "        0.21629414,  0.2412475 , -0.05379175,  0.46091175,  0.35220823,\n",
       "        0.13547418,  0.2589356 ,  0.57979906, -0.22145745, -0.14026454,\n",
       "        0.03666015, -0.5867835 , -0.08355279,  0.0987096 ,  0.52018726,\n",
       "        0.2556819 , -0.10177247, -0.34428543,  0.4969337 , -0.11743161,\n",
       "       -0.12324458, -0.06630582,  0.50019336, -0.05543787, -0.3895045 ,\n",
       "        0.17361636, -0.01562352,  0.02799162,  0.6015708 , -0.10495772,\n",
       "        0.21490431,  0.03942317, -0.29678828,  0.01712695, -0.35524833,\n",
       "        0.08082542, -0.2138988 ,  0.2565303 , -0.24076562,  0.30032223,\n",
       "        0.12958935,  0.22310862, -0.40168822,  0.02951383,  0.17675881,\n",
       "        0.5347029 ,  0.39986014, -0.57051927, -0.36095333,  0.48677784,\n",
       "       -0.40706405, -0.02797299,  0.37395597, -0.24203317,  0.1254861 ,\n",
       "        0.8570829 , -0.46823412, -0.2585688 ,  0.18726903,  0.8025587 ,\n",
       "        0.07052204,  0.90008247,  0.54708904, -0.25661528, -0.13228498,\n",
       "        0.3419291 , -0.05967295,  0.27375737,  0.45127884, -0.00475089,\n",
       "       -0.919675  ,  0.27870062,  0.3525408 ,  0.22073337,  0.07321536,\n",
       "       -0.03997127, -0.47189552, -0.67712194, -0.19685405,  0.42285675,\n",
       "        0.18932052, -0.05650959, -0.03894191, -0.51427424, -0.6392402 ,\n",
       "        0.16031924, -0.48606408, -0.13351601, -0.46359953, -0.34658623,\n",
       "        0.02257475,  0.54142493, -0.21946326, -0.47389784, -0.5625019 ,\n",
       "        0.96943367, -0.2327505 ,  0.1165729 ,  0.10775718, -0.45309383,\n",
       "        0.09203555, -0.2567787 , -0.01550054,  0.2512187 , -0.03733339,\n",
       "       -0.18351647,  0.3706191 ,  0.1772487 , -0.07607966,  0.6584635 ,\n",
       "        0.5122313 , -0.46527982,  0.2116533 ,  0.64635545, -0.50595224,\n",
       "       -0.29672712,  0.21485138,  0.08220483, -0.59122765, -0.17417865,\n",
       "       -0.40668255, -0.14735669, -0.14364249, -0.7281935 , -0.08413541,\n",
       "       -0.31684726, -0.23310661,  0.04970894, -0.444059  ,  0.03626976,\n",
       "        0.43837765,  0.02406614,  0.9328654 ,  0.07962002, -0.04536153,\n",
       "        0.21182126, -0.11536119,  0.531921  ,  0.09652784,  0.20854336,\n",
       "        0.3231019 , -0.32121995,  0.11271302, -0.06040754, -0.88677096,\n",
       "       -0.08639641, -0.48487717, -0.20643184,  0.02497456,  0.08092272,\n",
       "        0.6696171 ,  0.31599808, -0.13221367, -0.34387854,  0.5099882 ,\n",
       "       -0.1696642 , -0.33003664,  0.11581571,  0.09371787,  0.16782439,\n",
       "       -0.2301268 , -0.06934533,  0.75749385,  0.19802418, -0.5638479 ,\n",
       "       -0.00407066,  0.1714952 , -0.15383978,  0.13921797,  0.46486473,\n",
       "        0.3183946 ,  0.25396335,  0.12144208,  0.11301889,  0.12506752,\n",
       "       -0.22722602,  0.06199954,  0.33014515,  0.504659  , -0.13801563,\n",
       "       -0.16577038, -0.11447434,  0.33701462, -0.25710675,  0.2598988 ,\n",
       "       -0.06147507, -0.03820758, -0.58425426,  0.5323308 , -0.5398848 ,\n",
       "        0.11447006, -0.18143758, -0.22416401, -0.1718392 ,  0.36445183],\n",
       "      dtype=float32)"
      ]
     },
     "execution_count": 100,
     "metadata": {},
     "output_type": "execute_result"
    }
   ],
   "source": [
    "center_vector"
   ]
  },
  {
   "cell_type": "code",
   "execution_count": null,
   "metadata": {
    "collapsed": false
   },
   "outputs": [],
   "source": [
    "radius"
   ]
  },
  {
   "cell_type": "code",
   "execution_count": 97,
   "metadata": {
    "collapsed": false
   },
   "outputs": [
    {
     "data": {
      "text/plain": [
       "array([0.22721148, 0.18638851, 0.16163142, 0.4786242 , 0.3477661 ,\n",
       "       0.19516048, 0.2946201 , 0.36003813, 0.37666085, 0.29205766,\n",
       "       0.19383639, 0.45824072, 0.169743  , 0.20972453, 0.05509904,\n",
       "       0.43040913, 0.5158819 , 0.41916597, 0.40390277, 0.610767  ,\n",
       "       0.3376529 , 0.22315463, 0.32678986, 0.53673875, 0.24763006,\n",
       "       0.46904427, 0.20737572, 0.14137697, 0.13416575, 0.45847166,\n",
       "       0.3064791 , 0.35597685, 0.34767467, 0.15990007, 0.16622287,\n",
       "       0.39421266, 0.29333743, 0.28496885, 0.03484388, 0.0710122 ,\n",
       "       0.2933476 , 0.49851424, 0.3164216 , 0.13647011, 0.4075315 ,\n",
       "       0.5474057 , 0.27672854, 0.27714032, 0.35551846, 0.40763837,\n",
       "       0.4669385 , 0.4053213 , 0.40072253, 0.24170792, 0.66091496,\n",
       "       0.3396849 , 0.5170967 , 0.1526084 , 0.23273543, 0.37268272,\n",
       "       0.2941634 , 0.38281548, 0.3397914 , 0.387183  , 0.20045668,\n",
       "       0.2653927 , 0.65557325, 0.15864834, 0.21009728, 0.39071232,\n",
       "       0.3239831 , 0.3156942 , 0.45626983, 0.30183014, 0.5162447 ,\n",
       "       0.43331924, 0.23525147, 0.25744045, 0.4773423 , 0.7501436 ,\n",
       "       0.4727309 , 0.4261065 , 0.18530264, 0.25196564, 0.71173877,\n",
       "       0.38021457, 0.551892  , 0.1663568 , 0.30120564, 0.08423001,\n",
       "       0.42378446, 0.37178576, 0.21308964, 0.6356522 , 0.14391643,\n",
       "       0.19979267, 0.30798292, 0.39835107, 0.24357983, 0.26552624,\n",
       "       0.2985732 , 0.54092944, 0.13432182, 0.32209197, 0.21419579,\n",
       "       0.18200368, 0.2176173 , 0.21805081, 0.36257347, 0.5103993 ,\n",
       "       0.41436917, 0.29810476, 0.27715188, 0.41616133, 0.50880384,\n",
       "       0.22554672, 0.26949483, 0.2623182 , 0.20487869, 0.33961463,\n",
       "       0.20565   , 0.4400301 , 0.03977073, 0.32571375, 0.2526422 ,\n",
       "       0.8443638 , 0.270747  , 0.5566302 , 0.19588143, 0.2920996 ,\n",
       "       0.39797986, 0.48610437, 0.13491519, 0.44780073, 0.28242597,\n",
       "       0.32272813, 0.27955437, 0.48426867, 0.33343667, 0.29964888,\n",
       "       0.33199632, 0.25344306, 0.19351304, 0.4632314 , 0.26817384,\n",
       "       0.13277085, 0.32300818, 0.17055039, 0.46746072, 0.32520747,\n",
       "       0.43205935, 0.3097524 , 0.4118463 , 0.36309832, 0.1226033 ,\n",
       "       0.17025197, 0.25129902, 0.5094844 , 0.47306645, 0.5281309 ,\n",
       "       0.2845205 , 0.12256624, 0.48754984, 0.22127777, 0.14013803,\n",
       "       0.34115776, 0.48911342, 0.19811267, 0.37166741, 0.4167574 ,\n",
       "       0.30452693, 0.22955537, 0.41017365, 0.2007531 , 0.26840615,\n",
       "       0.4329697 , 0.34406704, 0.32327315, 0.12554675, 0.2274995 ,\n",
       "       0.09605795, 0.22811677, 0.27062714, 0.75791854, 0.5746447 ,\n",
       "       0.24874926, 0.06363173, 0.40149665, 0.18294066, 0.28029636,\n",
       "       0.23354703, 0.16438228, 0.5762533 , 0.48728806, 0.10417691,\n",
       "       0.17474626, 0.2077289 , 0.35257983, 0.21743855, 0.3487619 ],\n",
       "      dtype=float32)"
      ]
     },
     "execution_count": 97,
     "metadata": {},
     "output_type": "execute_result"
    }
   ],
   "source": [
    "radius = get_radius(center_vector, list(vectors.values()))\n",
    "radius"
   ]
  },
  {
   "cell_type": "code",
   "execution_count": 103,
   "metadata": {
    "collapsed": false
   },
   "outputs": [
    {
     "data": {
      "text/plain": [
       "2059386"
      ]
     },
     "execution_count": 103,
     "metadata": {},
     "output_type": "execute_result"
    }
   ],
   "source": [
    "np.argmin(distance_result)"
   ]
  },
  {
   "cell_type": "code",
   "execution_count": 106,
   "metadata": {
    "collapsed": false
   },
   "outputs": [],
   "source": [
    "tmp_vector = word2vec_model.vectors[2059386]"
   ]
  },
  {
   "cell_type": "code",
   "execution_count": 108,
   "metadata": {
    "collapsed": false
   },
   "outputs": [
    {
     "data": {
      "text/plain": [
       "84.081055"
      ]
     },
     "execution_count": 108,
     "metadata": {},
     "output_type": "execute_result"
    }
   ],
   "source": [
    "is_inside_ellipse(center_vector, radius, tmp_vector)"
   ]
  },
  {
   "cell_type": "code",
   "execution_count": 122,
   "metadata": {
    "collapsed": false
   },
   "outputs": [
    {
     "data": {
      "text/plain": [
       "array([-0.24487069, -0.43330988, -0.01095669, -0.4691753 , -0.6391381 ,\n",
       "        0.21629414,  0.2412475 , -0.05379175,  0.46091175,  0.35220823,\n",
       "        0.13547418,  0.2589356 ,  0.57979906, -0.22145745, -0.14026454,\n",
       "        0.03666015, -0.5867835 , -0.08355279,  0.0987096 ,  0.52018726,\n",
       "        0.2556819 , -0.10177247, -0.34428543,  0.4969337 , -0.11743161,\n",
       "       -0.12324458, -0.06630582,  0.50019336, -0.05543787, -0.3895045 ,\n",
       "        0.17361636, -0.01562352,  0.02799162,  0.6015708 , -0.10495772,\n",
       "        0.21490431,  0.03942317, -0.29678828,  0.01712695, -0.35524833,\n",
       "        0.08082542, -0.2138988 ,  0.2565303 , -0.24076562,  0.30032223,\n",
       "        0.12958935,  0.22310862, -0.40168822,  0.02951383,  0.17675881,\n",
       "        0.5347029 ,  0.39986014, -0.57051927, -0.36095333,  0.48677784,\n",
       "       -0.40706405, -0.02797299,  0.37395597, -0.24203317,  0.1254861 ,\n",
       "        0.8570829 , -0.46823412, -0.2585688 ,  0.18726903,  0.8025587 ,\n",
       "        0.07052204,  0.90008247,  0.54708904, -0.25661528, -0.13228498,\n",
       "        0.3419291 , -0.05967295,  0.27375737,  0.45127884, -0.00475089,\n",
       "       -0.919675  ,  0.27870062,  0.3525408 ,  0.22073337,  0.07321536,\n",
       "       -0.03997127, -0.47189552, -0.67712194, -0.19685405,  0.42285675,\n",
       "        0.18932052, -0.05650959, -0.03894191, -0.51427424, -0.6392402 ,\n",
       "        0.16031924, -0.48606408, -0.13351601, -0.46359953, -0.34658623,\n",
       "        0.02257475,  0.54142493, -0.21946326, -0.47389784, -0.5625019 ,\n",
       "        0.96943367, -0.2327505 ,  0.1165729 ,  0.10775718, -0.45309383,\n",
       "        0.09203555, -0.2567787 , -0.01550054,  0.2512187 , -0.03733339,\n",
       "       -0.18351647,  0.3706191 ,  0.1772487 , -0.07607966,  0.6584635 ,\n",
       "        0.5122313 , -0.46527982,  0.2116533 ,  0.64635545, -0.50595224,\n",
       "       -0.29672712,  0.21485138,  0.08220483, -0.59122765, -0.17417865,\n",
       "       -0.40668255, -0.14735669, -0.14364249, -0.7281935 , -0.08413541,\n",
       "       -0.31684726, -0.23310661,  0.04970894, -0.444059  ,  0.03626976,\n",
       "        0.43837765,  0.02406614,  0.9328654 ,  0.07962002, -0.04536153,\n",
       "        0.21182126, -0.11536119,  0.531921  ,  0.09652784,  0.20854336,\n",
       "        0.3231019 , -0.32121995,  0.11271302, -0.06040754, -0.88677096,\n",
       "       -0.08639641, -0.48487717, -0.20643184,  0.02497456,  0.08092272,\n",
       "        0.6696171 ,  0.31599808, -0.13221367, -0.34387854,  0.5099882 ,\n",
       "       -0.1696642 , -0.33003664,  0.11581571,  0.09371787,  0.16782439,\n",
       "       -0.2301268 , -0.06934533,  0.75749385,  0.19802418, -0.5638479 ,\n",
       "       -0.00407066,  0.1714952 , -0.15383978,  0.13921797,  0.46486473,\n",
       "        0.3183946 ,  0.25396335,  0.12144208,  0.11301889,  0.12506752,\n",
       "       -0.22722602,  0.06199954,  0.33014515,  0.504659  , -0.13801563,\n",
       "       -0.16577038, -0.11447434,  0.33701462, -0.25710675,  0.2598988 ,\n",
       "       -0.06147507, -0.03820758, -0.58425426,  0.5323308 , -0.5398848 ,\n",
       "        0.11447006, -0.18143758, -0.22416401, -0.1718392 ,  0.36445183],\n",
       "      dtype=float32)"
      ]
     },
     "execution_count": 122,
     "metadata": {},
     "output_type": "execute_result"
    }
   ],
   "source": [
    "center_vector"
   ]
  },
  {
   "cell_type": "code",
   "execution_count": 126,
   "metadata": {
    "collapsed": false
   },
   "outputs": [
    {
     "data": {
      "text/plain": [
       "array([-0.24487069, -0.43330988, -0.01095669, -0.4691753 , -0.6391381 ,\n",
       "        0.21629414,  0.2412475 , -0.05379175,  0.46091175,  0.35220823,\n",
       "        0.13547418,  0.2589356 ,  0.57979906, -0.22145745, -0.14026454,\n",
       "        0.03666015, -0.5867835 , -0.08355279,  0.0987096 ,  0.52018726,\n",
       "        0.2556819 , -0.10177247, -0.34428543,  0.4969337 , -0.11743161,\n",
       "       -0.12324458, -0.06630582,  0.50019336, -0.05543787, -0.3895045 ,\n",
       "        0.17361636, -0.01562352,  0.02799162,  0.6015708 , -0.10495772,\n",
       "        0.21490431,  0.03942317, -0.29678828,  0.01712695, -0.35524833,\n",
       "        0.08082542, -0.2138988 ,  0.2565303 , -0.24076562,  0.30032223,\n",
       "        0.12958935,  0.22310862, -0.40168822,  0.02951383,  0.17675881,\n",
       "        0.5347029 ,  0.39986014, -0.57051927, -0.36095333,  0.48677784,\n",
       "       -0.40706405, -0.02797299,  0.37395597, -0.24203317,  0.1254861 ,\n",
       "        0.8570829 , -0.46823412, -0.2585688 ,  0.18726903,  0.8025587 ,\n",
       "        0.07052204,  0.90008247,  0.54708904, -0.25661528, -0.13228498,\n",
       "        0.3419291 , -0.05967295,  0.27375737,  0.45127884, -0.00475089,\n",
       "       -0.919675  ,  0.27870062,  0.3525408 ,  0.22073337,  0.07321536,\n",
       "       -0.03997127, -0.47189552, -0.67712194, -0.19685405,  0.42285675,\n",
       "        0.18932052, -0.05650959, -0.03894191, -0.51427424, -0.6392402 ,\n",
       "        0.16031924, -0.48606408, -0.13351601, -0.46359953, -0.34658623,\n",
       "        0.02257475,  0.54142493, -0.21946326, -0.47389784, -0.5625019 ,\n",
       "        0.96943367, -0.2327505 ,  0.1165729 ,  0.10775718, -0.45309383,\n",
       "        0.09203555, -0.2567787 , -0.01550054,  0.2512187 , -0.03733339,\n",
       "       -0.18351647,  0.3706191 ,  0.1772487 , -0.07607966,  0.6584635 ,\n",
       "        0.5122313 , -0.46527982,  0.2116533 ,  0.64635545, -0.50595224,\n",
       "       -0.29672712,  0.21485138,  0.08220483, -0.59122765, -0.17417865,\n",
       "       -0.40668255, -0.14735669, -0.14364249, -0.7281935 , -0.08413541,\n",
       "       -0.31684726, -0.23310661,  0.04970894, -0.444059  ,  0.03626976,\n",
       "        0.43837765,  0.02406614,  0.9328654 ,  0.07962002, -0.04536153,\n",
       "        0.21182126, -0.11536119,  0.531921  ,  0.09652784,  0.20854336,\n",
       "        0.3231019 , -0.32121995,  0.11271302, -0.06040754, -0.88677096,\n",
       "       -0.08639641, -0.48487717, -0.20643184,  0.02497456,  0.08092272,\n",
       "        0.6696171 ,  0.31599808, -0.13221367, -0.34387854,  0.5099882 ,\n",
       "       -0.1696642 , -0.33003664,  0.11581571,  0.09371787,  0.16782439,\n",
       "       -0.2301268 , -0.06934533,  0.75749385,  0.19802418, -0.5638479 ,\n",
       "       -0.00407066,  0.1714952 , -0.15383978,  0.13921797,  0.46486473,\n",
       "        0.3183946 ,  0.25396335,  0.12144208,  0.11301889,  0.12506752,\n",
       "       -0.22722602,  0.06199954,  0.33014515,  0.504659  , -0.13801563,\n",
       "       -0.16577038, -0.11447434,  0.33701462, -0.25710675,  0.2598988 ,\n",
       "       -0.06147507, -0.03820758, -0.58425426,  0.5323308 , -0.5398848 ,\n",
       "        0.11447006, -0.18143758, -0.22416401, -0.1718392 ,  0.36445183],\n",
       "      dtype=float32)"
      ]
     },
     "execution_count": 126,
     "metadata": {},
     "output_type": "execute_result"
    }
   ],
   "source": [
    "np.array([word2vec_model[item] for item in seed]).mean(axis=0)"
   ]
  },
  {
   "cell_type": "code",
   "execution_count": 127,
   "metadata": {
    "collapsed": false
   },
   "outputs": [
    {
     "data": {
      "text/plain": [
       "array([-0.24487069, -0.43330988, -0.01095669, -0.4691753 , -0.6391381 ,\n",
       "        0.21629414,  0.2412475 , -0.05379175,  0.46091175,  0.35220823,\n",
       "        0.13547418,  0.2589356 ,  0.57979906, -0.22145745, -0.14026454,\n",
       "        0.03666015, -0.5867835 , -0.08355279,  0.0987096 ,  0.52018726,\n",
       "        0.2556819 , -0.10177247, -0.34428543,  0.4969337 , -0.11743161,\n",
       "       -0.12324458, -0.06630582,  0.50019336, -0.05543787, -0.3895045 ,\n",
       "        0.17361636, -0.01562352,  0.02799162,  0.6015708 , -0.10495772,\n",
       "        0.21490431,  0.03942317, -0.29678828,  0.01712695, -0.35524833,\n",
       "        0.08082542, -0.2138988 ,  0.2565303 , -0.24076562,  0.30032223,\n",
       "        0.12958935,  0.22310862, -0.40168822,  0.02951383,  0.17675881,\n",
       "        0.5347029 ,  0.39986014, -0.57051927, -0.36095333,  0.48677784,\n",
       "       -0.40706405, -0.02797299,  0.37395597, -0.24203317,  0.1254861 ,\n",
       "        0.8570829 , -0.46823412, -0.2585688 ,  0.18726903,  0.8025587 ,\n",
       "        0.07052204,  0.90008247,  0.54708904, -0.25661528, -0.13228498,\n",
       "        0.3419291 , -0.05967295,  0.27375737,  0.45127884, -0.00475089,\n",
       "       -0.919675  ,  0.27870062,  0.3525408 ,  0.22073337,  0.07321536,\n",
       "       -0.03997127, -0.47189552, -0.67712194, -0.19685405,  0.42285675,\n",
       "        0.18932052, -0.05650959, -0.03894191, -0.51427424, -0.6392402 ,\n",
       "        0.16031924, -0.48606408, -0.13351601, -0.46359953, -0.34658623,\n",
       "        0.02257475,  0.54142493, -0.21946326, -0.47389784, -0.5625019 ,\n",
       "        0.96943367, -0.2327505 ,  0.1165729 ,  0.10775718, -0.45309383,\n",
       "        0.09203555, -0.2567787 , -0.01550054,  0.2512187 , -0.03733339,\n",
       "       -0.18351647,  0.3706191 ,  0.1772487 , -0.07607966,  0.6584635 ,\n",
       "        0.5122313 , -0.46527982,  0.2116533 ,  0.64635545, -0.50595224,\n",
       "       -0.29672712,  0.21485138,  0.08220483, -0.59122765, -0.17417865,\n",
       "       -0.40668255, -0.14735669, -0.14364249, -0.7281935 , -0.08413541,\n",
       "       -0.31684726, -0.23310661,  0.04970894, -0.444059  ,  0.03626976,\n",
       "        0.43837765,  0.02406614,  0.9328654 ,  0.07962002, -0.04536153,\n",
       "        0.21182126, -0.11536119,  0.531921  ,  0.09652784,  0.20854336,\n",
       "        0.3231019 , -0.32121995,  0.11271302, -0.06040754, -0.88677096,\n",
       "       -0.08639641, -0.48487717, -0.20643184,  0.02497456,  0.08092272,\n",
       "        0.6696171 ,  0.31599808, -0.13221367, -0.34387854,  0.5099882 ,\n",
       "       -0.1696642 , -0.33003664,  0.11581571,  0.09371787,  0.16782439,\n",
       "       -0.2301268 , -0.06934533,  0.75749385,  0.19802418, -0.5638479 ,\n",
       "       -0.00407066,  0.1714952 , -0.15383978,  0.13921797,  0.46486473,\n",
       "        0.3183946 ,  0.25396335,  0.12144208,  0.11301889,  0.12506752,\n",
       "       -0.22722602,  0.06199954,  0.33014515,  0.504659  , -0.13801563,\n",
       "       -0.16577038, -0.11447434,  0.33701462, -0.25710675,  0.2598988 ,\n",
       "       -0.06147507, -0.03820758, -0.58425426,  0.5323308 , -0.5398848 ,\n",
       "        0.11447006, -0.18143758, -0.22416401, -0.1718392 ,  0.36445183],\n",
       "      dtype=float32)"
      ]
     },
     "execution_count": 127,
     "metadata": {},
     "output_type": "execute_result"
    }
   ],
   "source": [
    "np.array([list(word2vec_model[item]) for item in seed]).mean(axis=0)"
   ]
  },
  {
   "cell_type": "code",
   "execution_count": 129,
   "metadata": {
    "collapsed": false
   },
   "outputs": [
    {
     "data": {
      "text/plain": [
       "array([[-0.43940872, -0.47661203, -0.10702425, ..., -0.07710938,\n",
       "        -0.11144064,  0.01568993],\n",
       "       [-0.13470033, -0.49389145,  0.15067473, ..., -0.43092895,\n",
       "        -0.02278846,  0.5563023 ],\n",
       "       [-0.38771453, -0.5158147 , -0.10378083, ...,  0.12841582,\n",
       "        -0.38927776,  0.3956887 ],\n",
       "       [-0.01765921, -0.24692138,  0.0163036 , ..., -0.5170335 ,\n",
       "        -0.16384993,  0.4901263 ],\n",
       "       [-0.24487069, -0.43330988, -0.01095669, ..., -0.22416401,\n",
       "        -0.1718392 ,  0.36445183],\n",
       "       [ 0.22721148,  0.18638851,  0.16163142, ...,  0.35257983,\n",
       "         0.21743855,  0.3487619 ]], dtype=float32)"
      ]
     },
     "execution_count": 129,
     "metadata": {},
     "output_type": "execute_result"
    }
   ],
   "source": [
    "asd = [list(word2vec_model[item]) for item in seed]\n",
    "asd.append(list(center_vector))\n",
    "asd.append(list(radius))\n",
    "np.array(asd)"
   ]
  },
  {
   "cell_type": "code",
   "execution_count": 131,
   "metadata": {
    "collapsed": false
   },
   "outputs": [
    {
     "data": {
      "text/plain": [
       "array([[-0.43940872, -0.47661203, -0.10702425, ..., -0.07710938,\n",
       "        -0.11144064,  0.01568993],\n",
       "       [-0.13470033, -0.49389145,  0.15067473, ..., -0.43092895,\n",
       "        -0.02278846,  0.5563023 ],\n",
       "       [-0.38771453, -0.5158147 , -0.10378083, ...,  0.12841582,\n",
       "        -0.38927776,  0.3956887 ],\n",
       "       [-0.01765921, -0.24692138,  0.0163036 , ..., -0.5170335 ,\n",
       "        -0.16384993,  0.4901263 ],\n",
       "       [-0.24487069, -0.43330988, -0.01095669, ..., -0.22416401,\n",
       "        -0.1718392 ,  0.36445183],\n",
       "       [ 0.22721148,  0.18638851,  0.16163142, ...,  0.35257983,\n",
       "         0.21743855,  0.3487619 ]], dtype=float32)"
      ]
     },
     "execution_count": 131,
     "metadata": {},
     "output_type": "execute_result"
    }
   ],
   "source": [
    "def get_radius(center, seed):\n",
    "\n",
    "    return np.max(np.abs(np.array(seed) - np.array(center)), axis=0)\n",
    "\n",
    "\n",
    "asd = [list(word2vec_model[item]) for item in seed]\n",
    "asd.append(list(center_vector))\n",
    "asd.append(list(get_radius(center_vector, list(vectors.values()))))\n",
    "np.array(asd)"
   ]
  },
  {
   "cell_type": "code",
   "execution_count": 132,
   "metadata": {
    "collapsed": false
   },
   "outputs": [
    {
     "data": {
      "text/plain": [
       "array([[-1.94538027e-01, -4.33021486e-02, -9.60675627e-02,\n",
       "        -8.35056603e-02, -1.39854193e-01, -9.02162492e-02,\n",
       "        -2.94620097e-01, -3.60038131e-01,  1.43181682e-01,\n",
       "         2.92057663e-01,  1.43901408e-01, -1.89801276e-01,\n",
       "         3.59491706e-02, -1.46039963e-01, -5.50990403e-02,\n",
       "         4.30409133e-01, -1.49289310e-01,  2.04112679e-01,\n",
       "        -3.41434866e-01,  2.67946005e-01,  7.65061378e-03,\n",
       "        -6.58005327e-02,  1.92944765e-01,  5.36738753e-01,\n",
       "        -2.47630060e-01, -9.75107402e-02,  2.07375720e-01,\n",
       "        -8.67150128e-02,  1.34165749e-01, -3.31738114e-01,\n",
       "         3.06479096e-01, -3.36286634e-01,  1.89584568e-01,\n",
       "        -1.24914140e-01, -1.53870344e-01, -1.64419442e-01,\n",
       "        -2.93337435e-01,  1.07596427e-01,  2.92383693e-02,\n",
       "         1.00117028e-02,  2.62810796e-01,  4.98514235e-01,\n",
       "        -1.39800906e-01, -1.33096442e-01,  1.55722111e-01,\n",
       "         2.73632556e-01,  1.77869707e-01, -2.77140319e-01,\n",
       "         2.34493576e-02, -1.05268113e-01,  4.66938496e-01,\n",
       "         4.05321300e-01, -2.53404260e-01,  1.29514039e-02,\n",
       "         3.95516753e-02, -2.72373587e-01, -2.95982331e-01,\n",
       "         1.52608395e-01, -1.90829143e-01,  2.01915056e-01,\n",
       "         6.37263656e-02, -5.66810966e-02,  2.60737836e-01,\n",
       "        -2.01292992e-01,  1.46680772e-01, -1.94263935e-01,\n",
       "         4.61083055e-01,  1.05405509e-01,  2.10097283e-01,\n",
       "         3.90712321e-01, -1.90452814e-01,  2.21009552e-03,\n",
       "        -4.87073660e-02,  3.01830143e-01,  6.67893738e-02,\n",
       "        -1.58575296e-01, -2.35251471e-01, -7.16927052e-02,\n",
       "         1.90464824e-01, -6.51016757e-02, -4.72730905e-01,\n",
       "         1.96512014e-01,  1.85302645e-01, -1.81573778e-02,\n",
       "         2.04828203e-01, -9.25889611e-03, -2.56707966e-02,\n",
       "         5.84950820e-02,  1.59378201e-01,  8.42300057e-02,\n",
       "         1.37552321e-02, -1.43227518e-01, -2.12987036e-01,\n",
       "        -3.10827821e-01,  1.43916428e-01, -7.86940288e-03,\n",
       "        -1.65712684e-01,  3.98351073e-01,  2.40814686e-02,\n",
       "        -1.71291113e-01, -2.98573196e-01,  2.89462447e-01,\n",
       "         3.49249244e-02,  3.22091967e-01,  1.79686040e-01,\n",
       "         1.39251679e-01,  4.22128737e-02,  3.42775248e-02,\n",
       "         2.63131857e-02, -5.10399282e-01, -2.81531483e-01,\n",
       "         2.97830731e-01,  9.15224105e-02, -4.16161329e-01,\n",
       "        -9.54055786e-03, -1.34501517e-01, -2.69494832e-01,\n",
       "         9.03002918e-03, -1.13615692e-01, -1.53710127e-01,\n",
       "        -1.04985088e-01, -3.56115699e-01, -3.97707336e-02,\n",
       "        -1.91891611e-01, -5.07691652e-02,  1.55029416e-01,\n",
       "        -2.70747006e-01, -5.56630194e-01,  6.83372021e-02,\n",
       "        -1.66422337e-01, -3.97979856e-01,  4.07198846e-01,\n",
       "         1.19472936e-01, -3.08111250e-01, -5.75064495e-02,\n",
       "        -1.02066755e-01, -5.13574630e-02,  4.84268665e-01,\n",
       "         3.33436668e-01, -2.88435370e-01, -3.31996322e-01,\n",
       "         1.38093874e-01,  1.93513036e-01, -4.63231415e-01,\n",
       "        -7.32636601e-02,  8.16156268e-02, -1.92359000e-01,\n",
       "         1.24367714e-01,  2.85347044e-01, -1.43244147e-01,\n",
       "         1.14539348e-01, -2.23932862e-02, -4.11846310e-01,\n",
       "        -3.13059092e-01,  9.58903357e-02,  7.81652927e-02,\n",
       "        -2.40382850e-02, -1.95465669e-01, -1.95997745e-01,\n",
       "         3.93246353e-01,  6.75988197e-03,  2.07580328e-02,\n",
       "         4.87549841e-01, -1.92483395e-01, -4.72072735e-02,\n",
       "         3.41157764e-01,  4.89113420e-01,  1.98112667e-01,\n",
       "         3.71667415e-01,  6.78402185e-03,  1.52777493e-01,\n",
       "         9.70839858e-02,  4.10173655e-01,  2.00753093e-01,\n",
       "        -8.93051028e-02, -5.69944680e-02,  1.56147599e-01,\n",
       "        -3.23273152e-01,  1.25546753e-01,  1.56597495e-02,\n",
       "        -9.60579515e-02, -2.16291115e-01,  1.23664141e-01,\n",
       "         1.40911400e-01, -2.42570251e-01,  1.64675474e-01,\n",
       "        -6.36317283e-02,  4.01496649e-01,  1.82940662e-01,\n",
       "        -5.55785745e-02, -2.17090905e-01, -1.64382279e-01,\n",
       "        -1.34523809e-01,  2.74832904e-01, -3.37237120e-02,\n",
       "         1.29076853e-01,  2.07728893e-01,  1.47054628e-01,\n",
       "         6.03985637e-02, -3.48761886e-01],\n",
       "       [ 1.10170364e-01, -6.05815649e-02,  1.61631420e-01,\n",
       "         4.04371500e-01,  6.11956716e-02,  1.63788348e-01,\n",
       "         8.93640518e-02,  4.32535112e-02, -3.76660854e-01,\n",
       "         5.82723618e-02, -1.33579448e-01, -1.52844921e-01,\n",
       "         1.69743001e-01,  2.09724531e-01,  4.88658473e-02,\n",
       "        -2.29380921e-01,  5.15881896e-01, -4.19165969e-01,\n",
       "        -4.62616272e-02, -3.95299077e-01, -1.73361436e-01,\n",
       "         2.13317275e-02, -3.26789856e-01, -4.16947663e-01,\n",
       "         2.01936126e-01, -7.13828653e-02,  1.07097641e-01,\n",
       "         1.41376972e-01, -1.62340440e-02,  1.64220259e-01,\n",
       "        -2.42376655e-01,  1.43522948e-01,  1.51481941e-01,\n",
       "         6.97160959e-02,  6.13163896e-02,  3.94212663e-01,\n",
       "         5.89217767e-02,  2.84968853e-01,  2.46139020e-02,\n",
       "        -2.63661146e-03, -2.93347597e-01, -3.14009190e-01,\n",
       "        -1.65895969e-01,  1.36470109e-01, -1.96014553e-01,\n",
       "        -5.04588246e-01,  1.84487551e-01, -5.85284531e-02,\n",
       "         6.34057447e-04,  4.07638371e-01, -2.78150439e-01,\n",
       "        -2.66703308e-01, -3.02656889e-02,  2.06311300e-01,\n",
       "        -4.47184980e-01,  3.39684904e-01,  5.17096698e-01,\n",
       "        -3.74491215e-02,  2.32735425e-01, -2.77151972e-01,\n",
       "        -2.66273856e-01,  2.92767525e-01, -3.39791387e-01,\n",
       "        -1.37141183e-01, -2.00456679e-01,  2.65392691e-01,\n",
       "        -6.55573249e-01, -3.73174548e-02,  5.23108840e-02,\n",
       "        -1.73942670e-01,  3.23983103e-01, -1.51111230e-01,\n",
       "        -1.41162425e-01, -8.69168639e-02,  4.17468429e-01,\n",
       "        -7.40879774e-02,  2.29974300e-01, -3.24312747e-02,\n",
       "         1.40086502e-01, -2.69194365e-01,  2.19735235e-01,\n",
       "         2.85170257e-01, -8.60658884e-02,  1.35143548e-01,\n",
       "        -2.23702654e-01, -1.96623385e-01,  2.81516522e-01,\n",
       "         8.25743452e-02, -1.68313980e-01, -8.10365677e-02,\n",
       "         2.08729148e-01,  2.17020929e-01,  2.13089645e-01,\n",
       "         5.76085985e-01, -5.43706715e-02, -1.95711657e-01,\n",
       "        -1.20122284e-01,  1.06335528e-01,  1.11347467e-01,\n",
       "         2.65526235e-01,  2.22338676e-01,  1.00026354e-01,\n",
       "        -1.09678484e-01,  2.85482556e-02, -2.12596834e-01,\n",
       "        -1.82003677e-01,  2.05356985e-01,  2.18050808e-01,\n",
       "        -1.66987747e-01,  3.31266463e-01,  2.53316909e-01,\n",
       "        -2.98104763e-01,  2.40502208e-02,  3.45951803e-02,\n",
       "        -1.76295996e-01, -7.26653337e-02,  2.49749929e-01,\n",
       "        -8.26682150e-03,  7.66283274e-02, -3.39614630e-01,\n",
       "        -5.48707545e-02,  9.86010134e-02,  8.71106982e-03,\n",
       "         3.25713754e-01,  5.28646484e-02, -5.84167242e-01,\n",
       "         1.14798248e-01,  4.05303210e-01,  1.61772132e-01,\n",
       "         1.62899122e-01,  3.06434631e-01, -4.86104369e-01,\n",
       "        -1.34915188e-01, -2.73186266e-02,  1.93664089e-01,\n",
       "        -3.08336020e-02,  1.41171329e-02, -4.69728440e-01,\n",
       "        -2.62769699e-01,  2.99648881e-01,  3.27978283e-02,\n",
       "         1.04121432e-01,  2.59767175e-02, -6.77038878e-02,\n",
       "         1.36684984e-01, -6.40347004e-02, -1.41706049e-01,\n",
       "        -1.39711738e-01,  7.87801743e-02,  3.13265324e-01,\n",
       "         1.39976084e-01,  2.48613477e-01, -6.29554987e-02,\n",
       "         3.63098323e-01,  1.08778737e-01, -1.70251966e-01,\n",
       "        -2.51299024e-01,  3.61228764e-01, -4.40075904e-01,\n",
       "        -5.28130889e-01,  8.91095400e-03,  1.22566238e-01,\n",
       "        -3.14127803e-01,  8.86646509e-02,  6.09771907e-02,\n",
       "        -3.21821928e-01, -2.93996602e-01, -8.57719183e-02,\n",
       "        -2.77482808e-01,  1.66355968e-02, -3.64315771e-02,\n",
       "        -2.29555368e-01, -1.05011955e-01, -1.96176454e-01,\n",
       "        -6.88710809e-03,  1.72291249e-01, -3.44067037e-01,\n",
       "         2.30176598e-01, -2.93495506e-02, -1.12449370e-01,\n",
       "        -5.40758669e-03,  1.35387436e-01, -2.70627141e-01,\n",
       "        -6.75650239e-01,  1.69395179e-01, -2.40003437e-01,\n",
       "         6.33469075e-02, -1.09797001e-01, -7.25214779e-02,\n",
       "         1.18389517e-01,  2.33547032e-01,  8.32638219e-02,\n",
       "         3.15963447e-01, -4.87288058e-01, -1.36284232e-02,\n",
       "         5.60350418e-02, -1.68186158e-01, -2.06764936e-01,\n",
       "         1.49050742e-01,  1.91850483e-01],\n",
       "       [-1.42843843e-01, -8.25048387e-02, -9.28241387e-02,\n",
       "        -4.78624195e-01, -2.69107461e-01, -1.95160478e-01,\n",
       "        -1.14853680e-02, -4.24252972e-02,  2.47469366e-01,\n",
       "        -8.15936029e-02,  1.83514416e-01,  4.58240718e-01,\n",
       "        -8.04080665e-02, -1.36889428e-01,  3.98746505e-02,\n",
       "        -7.46545196e-02, -4.00176048e-01,  3.10429990e-01,\n",
       "         4.03902769e-01,  6.10767007e-01,  3.37652892e-01,\n",
       "        -1.78685859e-01,  8.88456702e-02,  2.13755131e-01,\n",
       "        -1.21313274e-01, -3.00150663e-01, -1.88741863e-01,\n",
       "        -1.12879694e-01, -5.82752563e-02, -2.90953696e-01,\n",
       "         1.71509549e-01, -1.63213164e-01, -3.47674668e-01,\n",
       "         1.59900069e-01,  1.66222870e-01, -2.50577509e-01,\n",
       "         2.01629117e-01, -1.53535277e-01, -1.90083925e-02,\n",
       "         6.36370778e-02,  7.24439323e-02,  2.26454705e-01,\n",
       "         3.16421598e-01, -7.80036896e-02,  4.07531500e-01,\n",
       "         5.47405720e-01, -2.76728541e-01,  1.33093327e-01,\n",
       "         3.31435025e-01, -1.87969953e-01, -8.13668966e-03,\n",
       "         2.13251710e-02,  4.00722533e-01,  2.24452317e-02,\n",
       "         6.60914958e-01, -1.75355703e-01, -3.52273405e-01,\n",
       "         4.25308943e-04, -6.91525489e-02,  3.72682720e-01,\n",
       "         2.94163406e-01, -3.82815480e-01,  3.80250663e-02,\n",
       "         3.87183011e-01,  1.66453600e-01, -1.47873670e-01,\n",
       "         2.88154721e-01,  9.05604362e-02, -8.90920758e-02,\n",
       "        -1.37875155e-01, -2.28766292e-01, -1.66793078e-01,\n",
       "         4.56269830e-01, -1.47112787e-01,  3.19868997e-02,\n",
       "        -2.00655818e-01, -5.48599809e-02, -1.53316408e-01,\n",
       "        -4.77342308e-01,  7.50143588e-01, -1.23709641e-01,\n",
       "        -5.55756688e-02, -1.76468253e-01, -2.51965642e-01,\n",
       "         7.11738765e-01,  3.80214572e-01, -5.51891983e-01,\n",
       "        -1.66356802e-01,  3.01205635e-01, -2.86982656e-02,\n",
       "        -4.23784465e-01,  2.97992349e-01, -1.23078853e-01,\n",
       "        -6.35652184e-01,  1.41186416e-02,  1.99792668e-01,\n",
       "        -2.21480131e-02, -3.16275865e-01,  1.08150810e-01,\n",
       "        -1.18120611e-01,  1.82747364e-01, -5.40929437e-01,\n",
       "        -5.95682748e-02, -1.86347514e-01,  2.14195788e-01,\n",
       "        -2.73268893e-02, -2.17617303e-01, -1.57864168e-01,\n",
       "         3.62573475e-01,  1.45209670e-01, -3.86154562e-01,\n",
       "        -6.65130615e-02, -2.77151883e-01,  2.96034366e-01,\n",
       "         5.08803844e-01,  2.25546718e-01, -7.60497451e-02,\n",
       "        -2.62318194e-01,  2.04878688e-01,  2.27736890e-01,\n",
       "         2.05650002e-01, -1.82515472e-01,  3.63024324e-02,\n",
       "        -2.70553231e-01, -2.52642214e-01,  8.44363809e-01,\n",
       "         1.43654302e-01,  1.34205967e-01, -3.42279673e-02,\n",
       "         2.92099595e-01, -1.11894459e-01,  2.98191339e-01,\n",
       "         4.56644781e-02, -1.12370789e-01,  1.46268308e-01,\n",
       "         3.22728127e-01, -2.42314056e-01,  4.12925363e-01,\n",
       "         3.69907171e-03, -4.32960764e-02,  2.42215425e-01,\n",
       "        -2.53443062e-01, -7.21859634e-02,  1.74225301e-01,\n",
       "        -2.68173844e-01,  1.15189880e-01,  1.10567510e-02,\n",
       "         1.70550391e-01,  1.03333488e-01, -3.25207472e-01,\n",
       "        -4.32059348e-01,  8.35322440e-02,  1.73970878e-01,\n",
       "        -1.39060125e-01, -8.20657834e-02,  1.59435689e-01,\n",
       "         8.68179500e-02, -5.09484410e-01,  4.73066449e-01,\n",
       "         3.96282077e-01,  2.68849641e-01, -5.89282513e-02,\n",
       "         1.58668250e-01, -1.17459036e-01, -1.40138030e-01,\n",
       "         2.54725307e-01, -4.33982283e-01, -1.02607846e-01,\n",
       "        -7.38380626e-02, -4.16757405e-01,  1.88181013e-01,\n",
       "         6.26308471e-02,  3.62888053e-02,  5.74124306e-02,\n",
       "         2.68406153e-01, -4.32969689e-01,  2.11392045e-01,\n",
       "         2.51905620e-03, -9.47638601e-02,  2.27499500e-01,\n",
       "         2.09475309e-02, -1.47213101e-01,  7.69898891e-02,\n",
       "         7.57918537e-01, -5.01469612e-01, -1.73421323e-01,\n",
       "        -1.09770596e-02, -5.65849245e-02, -7.28089213e-02,\n",
       "        -2.80296355e-01, -7.60965496e-02, -2.16991827e-03,\n",
       "        -5.76253295e-01,  3.46389055e-01,  1.04176909e-01,\n",
       "        -1.74746260e-01, -7.24493265e-02,  3.52579832e-01,\n",
       "        -2.17438549e-01,  3.12368870e-02],\n",
       "       [ 2.27211475e-01,  1.86388507e-01,  2.72602867e-02,\n",
       "         1.57758325e-01,  3.47766101e-01,  1.21588409e-01,\n",
       "         2.16741413e-01,  3.59209925e-01, -1.39901042e-02,\n",
       "        -2.68736482e-01, -1.93836391e-01, -1.15594566e-01,\n",
       "        -1.25284046e-01,  7.32048750e-02, -3.36414427e-02,\n",
       "        -1.26373693e-01,  3.35835218e-02, -9.53766704e-02,\n",
       "        -1.62062794e-02, -4.83414143e-01, -1.71942115e-01,\n",
       "         2.23154634e-01,  4.49993908e-02, -3.33546132e-01,\n",
       "         1.67007178e-01,  4.69044268e-01, -1.25731513e-01,\n",
       "         5.82177043e-02, -5.96564524e-02,  4.58471656e-01,\n",
       "        -2.35611990e-01,  3.55976850e-01,  6.60815462e-03,\n",
       "        -1.04702026e-01, -7.36689195e-02,  2.07843035e-02,\n",
       "         3.27865332e-02, -2.39030004e-01, -3.48438770e-02,\n",
       "        -7.10121989e-02, -4.19071130e-02, -4.10959780e-01,\n",
       "        -1.07247233e-02,  7.46299922e-02, -3.67238998e-01,\n",
       "        -3.16450000e-01, -8.56287479e-02,  2.02575445e-01,\n",
       "        -3.55518460e-01, -1.14400335e-01, -1.80651426e-01,\n",
       "        -1.59943163e-01, -1.17052555e-01, -2.41707921e-01,\n",
       "        -2.53281683e-01,  1.08044356e-01,  1.31159037e-01,\n",
       "        -1.15584671e-01,  2.72462070e-02, -2.97445774e-01,\n",
       "        -9.16160345e-02,  1.46729112e-01,  4.10285443e-02,\n",
       "        -4.87488210e-02, -1.12677693e-01,  7.67449290e-02,\n",
       "        -9.36646461e-02, -1.58648342e-01, -1.73316061e-01,\n",
       "        -7.88945258e-02,  9.52359736e-02,  3.15694213e-01,\n",
       "        -2.66399950e-01, -6.78005517e-02, -5.16244709e-01,\n",
       "         4.33319241e-01,  6.01370931e-02,  2.57440448e-01,\n",
       "         1.46790981e-01, -4.15847570e-01,  3.76705289e-01,\n",
       "        -4.26106513e-01,  7.72314668e-02,  1.34979457e-01,\n",
       "        -6.92864418e-01, -1.74332291e-01,  2.96046287e-01,\n",
       "         2.52873860e-02, -2.92269945e-01,  2.55047679e-02,\n",
       "         2.01300025e-01, -3.71785760e-01,  1.22976229e-01,\n",
       "         3.70394051e-01, -1.03664458e-01,  3.78839299e-03,\n",
       "         3.07982922e-01, -1.88410759e-01, -2.43579835e-01,\n",
       "         2.38854289e-02, -1.06512964e-01,  1.51440561e-01,\n",
       "         1.34321824e-01, -1.64292723e-01, -1.81284964e-01,\n",
       "         7.00788721e-02, -2.99525559e-02, -9.44641531e-02,\n",
       "        -2.21898943e-01,  3.39231454e-02,  4.14369166e-01,\n",
       "         6.67870641e-02,  1.61579236e-01,  8.55317935e-02,\n",
       "        -3.22967380e-01, -1.83798373e-02,  9.57947075e-02,\n",
       "         2.61555016e-01, -1.67891324e-01,  2.65587866e-01,\n",
       "        -4.57942188e-02,  4.40030098e-01, -5.24278730e-03,\n",
       "         1.36731088e-01,  2.50546724e-01, -4.15226042e-01,\n",
       "         1.22944564e-02,  1.71210468e-02, -1.95881426e-01,\n",
       "        -2.88576394e-01,  2.03439713e-01, -2.19285816e-01,\n",
       "        -3.02222297e-02,  4.47800726e-01, -2.82425970e-01,\n",
       "        -1.89827785e-01,  2.79554367e-01, -4.27465737e-01,\n",
       "        -7.43660256e-02,  3.20825428e-02,  5.69830537e-02,\n",
       "         1.12277567e-02, -1.47303760e-01,  3.56709987e-01,\n",
       "         2.04752505e-01, -1.32770851e-01,  3.23008180e-01,\n",
       "        -1.55206367e-01, -4.67460722e-01,  1.55186415e-01,\n",
       "         1.77543879e-01, -3.09752405e-01,  3.00830930e-01,\n",
       "         8.90209004e-02, -1.22603297e-01, -6.73491359e-02,\n",
       "         1.88519299e-01,  3.43721271e-01,  1.63007140e-01,\n",
       "        -2.61397362e-01, -2.84520507e-01, -8.43960643e-02,\n",
       "        -3.32090288e-01,  2.21277773e-01,  1.26368076e-01,\n",
       "        -2.74061143e-01,  2.38865465e-01, -9.73296165e-03,\n",
       "        -2.03465074e-02,  3.93337965e-01, -3.04526925e-01,\n",
       "         6.98405802e-02, -3.41450512e-01, -6.19890466e-02,\n",
       "        -1.72213912e-01,  3.17672908e-01, -2.34725773e-02,\n",
       "         9.05774832e-02, -1.43337250e-03, -1.30709887e-01,\n",
       "         8.05180073e-02,  2.28116766e-01,  6.99730515e-02,\n",
       "        -2.23179638e-01,  5.74644685e-01,  2.48749256e-01,\n",
       "         1.12618580e-02, -2.35114753e-01, -3.76102626e-02,\n",
       "         2.17485398e-01,  5.96404038e-02,  8.32883716e-02,\n",
       "         3.94813448e-01, -1.33933783e-01, -5.68249226e-02,\n",
       "        -1.03656426e-02,  3.29065919e-02, -2.92869508e-01,\n",
       "         7.98927248e-03,  1.25674486e-01]], dtype=float32)"
      ]
     },
     "execution_count": 132,
     "metadata": {},
     "output_type": "execute_result"
    }
   ],
   "source": [
    "np.array(list(vectors.values())) - np.array(center_vector)"
   ]
  },
  {
   "cell_type": "code",
   "execution_count": 138,
   "metadata": {
    "collapsed": false
   },
   "outputs": [
    {
     "data": {
      "text/plain": [
       "90.677216"
      ]
     },
     "execution_count": 138,
     "metadata": {},
     "output_type": "execute_result"
    }
   ],
   "source": [
    "res = np.sum(np.power(np.subtract(center_vector, word2vec_model[seed[1]]), 2) / np.power(radius, 2))\n",
    "res"
   ]
  },
  {
   "cell_type": "code",
   "execution_count": 143,
   "metadata": {
    "collapsed": false
   },
   "outputs": [
    {
     "data": {
      "text/plain": [
       "array([1.21375090e-02, 3.67012597e-03, 2.61247158e-02, 1.63516313e-01,\n",
       "       3.74491024e-03, 2.68266238e-02, 7.98593368e-03, 1.87086628e-03,\n",
       "       1.41873404e-01, 3.39566823e-03, 1.78434681e-02, 2.33615693e-02,\n",
       "       2.88126860e-02, 4.39843796e-02, 2.38787103e-03, 5.26156053e-02,\n",
       "       2.66134143e-01, 1.75700113e-01, 2.14013807e-03, 1.56261355e-01,\n",
       "       3.00541874e-02, 4.55042609e-04, 1.06791608e-01, 1.73845351e-01,\n",
       "       4.07781973e-02, 5.09551354e-03, 1.14699043e-02, 1.99874490e-02,\n",
       "       2.63544178e-04, 2.69682929e-02, 5.87464422e-02, 2.05988362e-02,\n",
       "       2.29467787e-02, 4.86033410e-03, 3.75969964e-03, 1.55403629e-01,\n",
       "       3.47177568e-03, 8.12072456e-02, 6.05844194e-04, 6.95172002e-06,\n",
       "       8.60528126e-02, 9.86017734e-02, 2.75214724e-02, 1.86240915e-02,\n",
       "       3.84217054e-02, 2.54609287e-01, 3.40356566e-02, 3.42557975e-03,\n",
       "       4.02028860e-07, 1.66169047e-01, 7.73676634e-02, 7.11306557e-02,\n",
       "       9.16011923e-04, 4.25643511e-02, 1.99974403e-01, 1.15385830e-01,\n",
       "       2.67388999e-01, 1.40243676e-03, 5.41657768e-02, 7.68132135e-02,\n",
       "       7.09017664e-02, 8.57128203e-02, 1.15458190e-01, 1.88077036e-02,\n",
       "       4.01828811e-02, 7.04332814e-02, 4.29776281e-01, 1.39259244e-03,\n",
       "       2.73642852e-03, 3.02560534e-02, 1.04965053e-01, 2.28346046e-02,\n",
       "       1.99268311e-02, 7.55454134e-03, 1.74279884e-01, 5.48902852e-03,\n",
       "       5.28881773e-02, 1.05178752e-03, 1.96242277e-02, 7.24656060e-02,\n",
       "       4.82835732e-02, 8.13220739e-02, 7.40733696e-03, 1.82637777e-02,\n",
       "       5.00428788e-02, 3.86607572e-02, 7.92515501e-02, 6.81852270e-03,\n",
       "       2.83295959e-02, 6.56692544e-03, 4.35678586e-02, 4.70980853e-02,\n",
       "       4.54071984e-02, 3.31875056e-01, 2.95616989e-03, 3.83030511e-02,\n",
       "       1.44293634e-02, 1.13072442e-02, 1.23982588e-02, 7.05041811e-02,\n",
       "       4.94344868e-02, 1.00052720e-02, 1.20293703e-02, 8.15002888e-04,\n",
       "       4.51974124e-02, 3.31253372e-02, 4.21714932e-02, 4.75461558e-02,\n",
       "       2.78849080e-02, 1.09737471e-01, 6.41694590e-02, 8.88664499e-02,\n",
       "       5.78413135e-04, 1.19682646e-03, 3.10802776e-02, 5.28025068e-03,\n",
       "       6.23750277e-02, 6.83403414e-05, 5.87190036e-03, 1.15338095e-01,\n",
       "       3.01079964e-03, 9.72216018e-03, 7.58827373e-05, 1.06089450e-01,\n",
       "       2.79467111e-03, 3.41251373e-01, 1.31786373e-02, 1.64270699e-01,\n",
       "       2.61702221e-02, 2.65361238e-02, 9.39021856e-02, 2.36297458e-01,\n",
       "       1.82021074e-02, 7.46307371e-04, 3.75057794e-02, 9.50711023e-04,\n",
       "       1.99293441e-04, 2.20644802e-01, 6.90479130e-02, 8.97894502e-02,\n",
       "       1.07569760e-03, 1.08412728e-02, 6.74789830e-04, 4.58381651e-03,\n",
       "       1.86827853e-02, 4.10044286e-03, 2.00806037e-02, 1.95193700e-02,\n",
       "       6.20631594e-03, 9.81351659e-02, 1.95933040e-02, 6.18086606e-02,\n",
       "       3.96339502e-03, 1.31840393e-01, 1.18328137e-02, 2.89857313e-02,\n",
       "       6.31511956e-02, 1.30486220e-01, 1.93666801e-01, 2.78922230e-01,\n",
       "       7.94051011e-05, 1.50224827e-02, 9.86762792e-02, 7.86142051e-03,\n",
       "       3.71821783e-03, 1.03569351e-01, 8.64339992e-02, 7.35682203e-03,\n",
       "       7.69967064e-02, 2.76743085e-04, 1.32725982e-03, 5.26956655e-02,\n",
       "       1.10275103e-02, 3.84852029e-02, 4.74322587e-05, 2.96842754e-02,\n",
       "       1.18382126e-01, 5.29812649e-02, 8.61396140e-04, 1.26448609e-02,\n",
       "       2.92419936e-05, 1.83297582e-02, 7.32390508e-02, 4.56503242e-01,\n",
       "       2.86947265e-02, 5.76016493e-02, 4.01283056e-03, 1.20553812e-02,\n",
       "       5.25936484e-03, 1.40160779e-02, 5.45442179e-02, 6.93286397e-03,\n",
       "       9.98328999e-02, 2.37449646e-01, 1.85733923e-04, 3.13992589e-03,\n",
       "       2.82865837e-02, 4.27517407e-02, 2.22161245e-02, 3.68066095e-02],\n",
       "      dtype=float32)"
      ]
     },
     "execution_count": 143,
     "metadata": {},
     "output_type": "execute_result"
    }
   ],
   "source": [
    "np.power(np.subtract(center_vector, word2vec_model[seed[1]]), 2)"
   ]
  },
  {
   "cell_type": "code",
   "execution_count": 144,
   "metadata": {
    "collapsed": false
   },
   "outputs": [
    {
     "data": {
      "text/plain": [
       "array([0.05162505, 0.03474068, 0.02612472, 0.22908112, 0.12094126,\n",
       "       0.03808761, 0.086801  , 0.12962745, 0.1418734 , 0.08529768,\n",
       "       0.03757255, 0.20998456, 0.02881269, 0.04398438, 0.0030359 ,\n",
       "       0.18525203, 0.26613414, 0.17570011, 0.16313745, 0.37303632,\n",
       "       0.11400948, 0.04979799, 0.10679161, 0.2880885 , 0.06132065,\n",
       "       0.22000253, 0.04300469, 0.01998745, 0.01800045, 0.21019626,\n",
       "       0.09392944, 0.12671952, 0.12087768, 0.02556803, 0.02763004,\n",
       "       0.15540363, 0.08604685, 0.08120725, 0.0012141 , 0.00504273,\n",
       "       0.08605281, 0.24851644, 0.10012263, 0.01862409, 0.16608192,\n",
       "       0.29965302, 0.07657868, 0.07680675, 0.12639338, 0.16616905,\n",
       "       0.21803156, 0.16428536, 0.16057855, 0.05842272, 0.4368086 ,\n",
       "       0.11538583, 0.267389  , 0.02328932, 0.05416578, 0.13889241,\n",
       "       0.08653211, 0.14654769, 0.11545819, 0.14991069, 0.04018288,\n",
       "       0.07043328, 0.42977628, 0.0251693 , 0.04414087, 0.15265612,\n",
       "       0.10496505, 0.09966283, 0.20818216, 0.09110144, 0.2665086 ,\n",
       "       0.18776557, 0.05534326, 0.06627558, 0.22785568, 0.5627154 ,\n",
       "       0.2234745 , 0.18156676, 0.03433707, 0.06348669, 0.50657207,\n",
       "       0.14456312, 0.30458477, 0.02767459, 0.09072483, 0.00709469,\n",
       "       0.17959327, 0.13822465, 0.0454072 , 0.4040537 , 0.02071194,\n",
       "       0.03991711, 0.09485348, 0.15868358, 0.05933114, 0.07050418,\n",
       "       0.08914595, 0.29260466, 0.01804235, 0.10374323, 0.04587984,\n",
       "       0.03312534, 0.04735729, 0.04754616, 0.13145952, 0.26050743,\n",
       "       0.1717018 , 0.08886645, 0.07681317, 0.17319025, 0.25888136,\n",
       "       0.05087132, 0.07262746, 0.06881084, 0.04197528, 0.11533809,\n",
       "       0.04229192, 0.1936265 , 0.00158171, 0.10608945, 0.06382809,\n",
       "       0.7129502 , 0.07330394, 0.30983716, 0.03836953, 0.08532217,\n",
       "       0.15838796, 0.23629746, 0.01820211, 0.20052549, 0.07976443,\n",
       "       0.10415345, 0.07815064, 0.23451614, 0.11118001, 0.08978945,\n",
       "       0.11022156, 0.06423339, 0.0374473 , 0.21458334, 0.07191721,\n",
       "       0.0176281 , 0.10433429, 0.02908744, 0.21851952, 0.1057599 ,\n",
       "       0.18667528, 0.09594655, 0.16961738, 0.1318404 , 0.01503157,\n",
       "       0.02898573, 0.0631512 , 0.25957435, 0.22379187, 0.27892223,\n",
       "       0.08095192, 0.01502248, 0.23770484, 0.04896385, 0.01963867,\n",
       "       0.11638862, 0.23923194, 0.03924863, 0.13813667, 0.17368673,\n",
       "       0.09273665, 0.05269567, 0.16824242, 0.0403018 , 0.07204186,\n",
       "       0.18746275, 0.11838213, 0.10450553, 0.01576199, 0.05175602,\n",
       "       0.00922713, 0.05203726, 0.07323905, 0.5744405 , 0.33021653,\n",
       "       0.06187619, 0.004049  , 0.16119955, 0.03346729, 0.07856604,\n",
       "       0.05454422, 0.02702153, 0.33206785, 0.23744965, 0.01085283,\n",
       "       0.03053625, 0.04315129, 0.12431253, 0.04727952, 0.12163486],\n",
       "      dtype=float32)"
      ]
     },
     "execution_count": 144,
     "metadata": {},
     "output_type": "execute_result"
    }
   ],
   "source": [
    "np.power(radius, 2)"
   ]
  },
  {
   "cell_type": "code",
   "execution_count": 145,
   "metadata": {
    "collapsed": false
   },
   "outputs": [
    {
     "data": {
      "text/plain": [
       "array([2.3510888e-01, 1.0564348e-01, 1.0000000e+00, 7.1379215e-01,\n",
       "       3.0964704e-02, 7.0433986e-01, 9.2002787e-02, 1.4432640e-02,\n",
       "       1.0000000e+00, 3.9809618e-02, 4.7490707e-01, 1.1125375e-01,\n",
       "       1.0000000e+00, 1.0000000e+00, 7.8654361e-01, 2.8402176e-01,\n",
       "       1.0000000e+00, 1.0000000e+00, 1.3118619e-02, 4.1889045e-01,\n",
       "       2.6361132e-01, 9.1377711e-03, 1.0000000e+00, 6.0344428e-01,\n",
       "       6.6499949e-01, 2.3161158e-02, 2.6671287e-01, 1.0000000e+00,\n",
       "       1.4640979e-02, 1.2830053e-01, 6.2543160e-01, 1.6255456e-01,\n",
       "       1.8983471e-01, 1.9009417e-01, 1.3607289e-01, 1.0000000e+00,\n",
       "       4.0347505e-02, 1.0000000e+00, 4.9900860e-01, 1.3785622e-03,\n",
       "       1.0000000e+00, 3.9676157e-01, 2.7487764e-01, 1.0000000e+00,\n",
       "       2.3134188e-01, 8.4968036e-01, 4.4445339e-01, 4.4599980e-02,\n",
       "       3.1807747e-06, 1.0000000e+00, 3.5484618e-01, 4.3297014e-01,\n",
       "       5.7044476e-03, 7.2855818e-01, 4.5780787e-01, 1.0000000e+00,\n",
       "       1.0000000e+00, 6.0218014e-02, 1.0000000e+00, 5.5304110e-01,\n",
       "       8.1936944e-01, 5.8488005e-01, 1.0000000e+00, 1.2545939e-01,\n",
       "       1.0000000e+00, 1.0000000e+00, 1.0000000e+00, 5.5329017e-02,\n",
       "       6.1993085e-02, 1.9819744e-01, 1.0000000e+00, 2.2911856e-01,\n",
       "       9.5718250e-02, 8.2924500e-02, 6.5393716e-01, 2.9233413e-02,\n",
       "       9.5563906e-01, 1.5869910e-02, 8.6125687e-02, 1.2877843e-01,\n",
       "       2.1605854e-01, 4.4789076e-01, 2.1572420e-01, 2.8767887e-01,\n",
       "       9.8787285e-02, 2.6743168e-01, 2.6019537e-01, 2.4638210e-01,\n",
       "       3.1225845e-01, 9.2561084e-01, 2.4259183e-01, 3.4073579e-01,\n",
       "       1.0000000e+00, 8.2136375e-01, 1.4272782e-01, 9.5956469e-01,\n",
       "       1.5212265e-01, 7.1256548e-02, 2.0896715e-01, 1.0000000e+00,\n",
       "       5.5453432e-01, 3.4193825e-02, 6.6672963e-01, 7.8559620e-03,\n",
       "       9.8512584e-01, 1.0000000e+00, 8.9049631e-01, 1.0000000e+00,\n",
       "       2.1211784e-01, 4.2124507e-01, 3.7372619e-01, 1.0000000e+00,\n",
       "       7.5301300e-03, 6.9104726e-03, 1.2005606e-01, 1.0379622e-01,\n",
       "       8.5883528e-01, 9.9316251e-04, 1.3988949e-01, 1.0000000e+00,\n",
       "       7.1190886e-02, 5.0210897e-02, 4.7975089e-02, 1.0000000e+00,\n",
       "       4.3784346e-02, 4.7864684e-01, 1.7978075e-01, 5.3018397e-01,\n",
       "       6.8205738e-01, 3.1101090e-01, 5.9286189e-01, 1.0000000e+00,\n",
       "       1.0000000e+00, 3.7217580e-03, 4.7020686e-01, 9.1279838e-03,\n",
       "       2.5501191e-03, 9.4085121e-01, 6.2104607e-01, 1.0000000e+00,\n",
       "       9.7594121e-03, 1.6877940e-01, 1.8019721e-02, 2.1361474e-02,\n",
       "       2.5978184e-01, 2.3260833e-01, 1.9246408e-01, 6.7105848e-01,\n",
       "       2.8401654e-02, 9.2790526e-01, 1.0495929e-01, 6.4419889e-01,\n",
       "       2.3366679e-02, 1.0000000e+00, 7.8719753e-01, 1.0000000e+00,\n",
       "       1.0000000e+00, 5.0269306e-01, 8.6538804e-01, 1.0000000e+00,\n",
       "       9.8089210e-04, 1.0000000e+00, 4.1512102e-01, 1.6055560e-01,\n",
       "       1.8933147e-01, 8.8985807e-01, 3.6129791e-01, 1.8744150e-01,\n",
       "       5.5739510e-01, 1.5933462e-03, 1.4312140e-02, 1.0000000e+00,\n",
       "       6.5545358e-02, 9.5492506e-01, 6.5839855e-04, 1.5834759e-01,\n",
       "       1.0000000e+00, 5.0697094e-01, 5.4650228e-02, 2.4431671e-01,\n",
       "       3.1691322e-03, 3.5224298e-01, 1.0000000e+00, 7.9469198e-01,\n",
       "       8.6896703e-02, 9.3091780e-01, 9.9106777e-01, 7.4785449e-02,\n",
       "       1.5714943e-01, 1.7839867e-01, 1.0000000e+00, 2.5656813e-01,\n",
       "       3.0064008e-01, 1.0000000e+00, 1.7113872e-02, 1.0282616e-01,\n",
       "       6.5552109e-01, 3.4390530e-01, 4.6988896e-01, 3.0259919e-01],\n",
       "      dtype=float32)"
      ]
     },
     "execution_count": 145,
     "metadata": {},
     "output_type": "execute_result"
    }
   ],
   "source": [
    "np.power(np.subtract(center_vector, word2vec_model[seed[1]]), 2) / np.power(radius, 2)"
   ]
  },
  {
   "cell_type": "code",
   "execution_count": 146,
   "metadata": {
    "collapsed": false
   },
   "outputs": [
    {
     "data": {
      "text/plain": [
       "array([2.91660347e+01, 1.02895510e+00, 6.77295076e-03, 7.91904032e-01,\n",
       "       3.26363850e+00, 1.58061445e-01, 5.29915541e-02, 3.94268572e-01,\n",
       "       1.41695678e+00, 2.63301224e-01, 6.42619610e-01, 2.90066972e-02,\n",
       "       7.74065065e+00, 1.46255299e-01, 1.13155136e+02, 1.13089327e-02,\n",
       "       8.26324177e+00, 5.19495344e+00, 3.88201214e-02, 1.29487395e+00,\n",
       "       3.93012023e+00, 4.14612961e+00, 1.31170824e-03, 7.65743479e-02,\n",
       "       1.65239245e-01, 8.19866419e-01, 7.56086159e+00, 2.50578079e+01,\n",
       "       1.17186527e+01, 3.76583010e-01, 1.01878643e+01, 1.75213456e+00,\n",
       "       2.03478074e+00, 8.87900639e+00, 3.52000070e+00, 3.42400104e-01,\n",
       "       3.58600283e+00, 5.92158377e-01, 1.09282585e+02, 2.53100243e+01,\n",
       "       4.97763157e+00, 3.29296850e-03, 1.33702335e+01, 2.49556980e+01,\n",
       "       6.18166387e-01, 8.18283021e-01, 8.66755486e-01, 3.57422382e-01,\n",
       "       1.50986910e+00, 7.74612904e-01, 4.06855077e-01, 1.53377593e+00,\n",
       "       7.16513978e-06, 7.64257002e+00, 6.62485778e-01, 1.55715835e+00,\n",
       "       1.71596723e-04, 1.65308505e-01, 2.10697103e+00, 4.00098562e+00,\n",
       "       7.77043462e-01, 6.33219528e+00, 2.20945072e+00, 4.99807930e+00,\n",
       "       1.61105520e-04, 5.34084737e-01, 4.44270764e-03, 4.69776154e+00,\n",
       "       2.90969467e+00, 5.92350960e+00, 3.07873559e+00, 5.34918532e-03,\n",
       "       1.70614123e+00, 5.82254753e-02, 1.56114674e+00, 3.35410619e+00,\n",
       "       3.85209285e-02, 9.32055950e+00, 7.35386372e-01, 1.26744464e-01,\n",
       "       4.70598876e-01, 2.25704026e+00, 5.52913141e+00, 6.38900518e+00,\n",
       "       1.10266590e+00, 2.99835110e+00, 1.72395762e-02, 1.21685610e+01,\n",
       "       9.49772453e+00, 1.18988762e+02, 4.35689831e+00, 1.09196699e+00,\n",
       "       5.24856377e+00, 2.44895506e+00, 2.98967667e+01, 1.09975493e+00,\n",
       "       5.09463772e-02, 4.52618808e-01, 7.34695673e-01, 9.07907560e-02,\n",
       "       2.48442626e+00, 1.59177804e+00, 1.99178066e+01, 2.07639360e+00,\n",
       "       9.12917519e+00, 1.29896271e+00, 7.19998693e+00, 1.36356699e+00,\n",
       "       1.26149386e-01, 3.42234212e-04, 3.09753846e-02, 3.17183971e+00,\n",
       "       5.51227045e+00, 9.52615798e-01, 2.68687510e+00, 1.99686031e+01,\n",
       "       1.30258489e+00, 7.39464474e+00, 3.45923767e+01, 8.82367992e+00,\n",
       "       1.77996528e+00, 9.28185135e-02, 2.91054413e+02, 8.94985294e+00,\n",
       "       2.02804253e-01, 6.45254993e+00, 2.28064084e+00, 9.57036242e-02,\n",
       "       2.38047733e+01, 4.17536783e+00, 1.02879820e+01, 1.59863412e-01,\n",
       "       2.64888535e+01, 3.93083429e+00, 1.78510380e+00, 1.96399558e+00,\n",
       "       1.73723531e+00, 8.90825748e+00, 1.04993272e+00, 1.65813398e+00,\n",
       "       9.68313217e+00, 1.14249265e+00, 4.55050755e+00, 1.43969044e-01,\n",
       "       4.68786329e-01, 2.38571777e+01, 1.29258859e+00, 2.27552414e+00,\n",
       "       4.06328869e+00, 2.89646000e-01, 3.84112024e+00, 3.06263983e-01,\n",
       "       9.08426475e-03, 4.25751600e-03, 1.30841303e+01, 1.94152393e+01,\n",
       "       7.18221903e+00, 1.47499895e+00, 3.72057748e+00, 3.73411238e-01,\n",
       "       7.47002512e-02, 2.65133238e+00, 2.40959239e+00, 1.10928202e+01,\n",
       "       6.50359488e+00, 3.51708007e+00, 1.07127333e+00, 1.00353203e+01,\n",
       "       3.86929989e+00, 4.24550295e+00, 1.36160284e-01, 3.16969728e+00,\n",
       "       2.06572461e+00, 4.30774975e+00, 1.03449769e-01, 1.32984649e-02,\n",
       "       1.66997790e+00, 3.15433502e+00, 7.79987431e+00, 1.01291525e+00,\n",
       "       3.80522461e+01, 2.80337763e+00, 1.74595565e-01, 9.84325707e-01,\n",
       "       1.11337018e+00, 4.22991030e-02, 3.27520027e+01, 1.21934235e+00,\n",
       "       7.39844990e+00, 1.53581107e+00, 3.56939602e+00, 1.49499025e+01,\n",
       "       1.06135529e-04, 5.19271076e-01, 3.55743484e+01, 9.98836696e-01,\n",
       "       2.63896227e+00, 5.09857357e-01, 3.19310069e+00, 3.15926719e+00],\n",
       "      dtype=float32)"
      ]
     },
     "execution_count": 146,
     "metadata": {},
     "output_type": "execute_result"
    }
   ],
   "source": [
    "np.power(np.subtract(center_vector, word2vec_model.vectors[540]), 2) / np.power(radius, 2)"
   ]
  },
  {
   "cell_type": "code",
   "execution_count": 114,
   "metadata": {
    "collapsed": false
   },
   "outputs": [
    {
     "data": {
      "text/plain": [
       "'http://dbpedia.org/resource/The_New_Batman_Adventures'"
      ]
     },
     "execution_count": 114,
     "metadata": {},
     "output_type": "execute_result"
    }
   ],
   "source": [
    "seed[0]"
   ]
  },
  {
   "cell_type": "code",
   "execution_count": 115,
   "metadata": {
    "collapsed": false
   },
   "outputs": [
    {
     "data": {
      "text/plain": [
       "96.24301"
      ]
     },
     "execution_count": 115,
     "metadata": {},
     "output_type": "execute_result"
    }
   ],
   "source": [
    "is_inside_ellipse(center_vector, radius, word2vec_model[seed[0]])"
   ]
  },
  {
   "cell_type": "code",
   "execution_count": 121,
   "metadata": {
    "collapsed": false
   },
   "outputs": [
    {
     "data": {
      "text/plain": [
       "[memmap([-4.39408720e-01, -4.76612031e-01, -1.07024252e-01,\n",
       "         -5.52680969e-01, -7.78992295e-01,  1.26077890e-01,\n",
       "         -5.33726066e-02, -4.13829893e-01,  6.04093432e-01,\n",
       "          6.44265890e-01,  2.79375583e-01,  6.91343248e-02,\n",
       "          6.15748227e-01, -3.67497414e-01, -1.95363581e-01,\n",
       "          4.67069268e-01, -7.36072838e-01,  1.20559886e-01,\n",
       "         -2.42725268e-01,  7.88133264e-01,  2.63332516e-01,\n",
       "         -1.67573005e-01, -1.51340663e-01,  1.03367245e+00,\n",
       "         -3.65061671e-01, -2.20755324e-01,  1.41069904e-01,\n",
       "          4.13478345e-01,  7.87278786e-02, -7.21242607e-01,\n",
       "          4.80095476e-01, -3.51910144e-01,  2.17576191e-01,\n",
       "          4.76656646e-01, -2.58828074e-01,  5.04848659e-02,\n",
       "         -2.53914267e-01, -1.89191848e-01,  4.63653207e-02,\n",
       "         -3.45236629e-01,  3.43636215e-01,  2.84615427e-01,\n",
       "          1.16729401e-01, -3.73862058e-01,  4.56044346e-01,\n",
       "          4.03221905e-01,  4.00978327e-01, -6.78828537e-01,\n",
       "          5.29631861e-02,  7.14906976e-02,  1.00164139e+00,\n",
       "          8.05181444e-01, -8.23923528e-01, -3.48001927e-01,\n",
       "          5.26329517e-01, -6.79437637e-01, -3.23955327e-01,\n",
       "          5.26564360e-01, -4.32862312e-01,  3.27401161e-01,\n",
       "          9.20809269e-01, -5.24915218e-01,  2.16903258e-03,\n",
       "         -1.40239615e-02,  9.49239492e-01, -1.23741895e-01,\n",
       "          1.36116552e+00,  6.52494550e-01, -4.65179905e-02,\n",
       "          2.58427352e-01,  1.51476294e-01, -5.74628562e-02,\n",
       "          2.25050002e-01,  7.53108978e-01,  6.20384850e-02,\n",
       "         -1.07825029e+00,  4.34491523e-02,  2.80848086e-01,\n",
       "          4.11198199e-01,  8.11367948e-03, -5.12702167e-01,\n",
       "         -2.75383502e-01, -4.91819292e-01, -2.15011433e-01,\n",
       "          6.27684951e-01,  1.80061623e-01, -8.21803883e-02,\n",
       "          1.95531677e-02, -3.54896039e-01, -5.55010200e-01,\n",
       "          1.74074471e-01, -6.29291594e-01, -3.46503049e-01,\n",
       "         -7.74427354e-01, -2.02669799e-01,  1.47053497e-02,\n",
       "          3.75712246e-01,  1.78887799e-01, -4.49816376e-01,\n",
       "         -7.33793020e-01,  6.70860469e-01,  5.67119420e-02,\n",
       "          1.51497826e-01,  4.29849148e-01, -2.73407787e-01,\n",
       "          2.31287241e-01, -2.14565814e-01,  1.87769830e-02,\n",
       "          2.77531892e-01, -5.47732651e-01, -4.65047956e-01,\n",
       "          6.68449819e-01,  2.68771112e-01, -4.92240995e-01,\n",
       "          6.48922920e-01,  3.77729774e-01, -7.34774649e-01,\n",
       "          2.20683336e-01,  5.32739758e-01, -6.59662366e-01,\n",
       "         -4.01712209e-01, -1.41264305e-01,  4.24341001e-02,\n",
       "         -7.83119261e-01, -2.24947810e-01, -2.51653135e-01,\n",
       "         -4.18103695e-01, -7.00272679e-01, -6.59856319e-01,\n",
       "         -2.50557750e-01, -7.14827120e-01,  1.74092218e-01,\n",
       "          1.69181883e-01, -7.52170265e-01, -2.12366898e-02,\n",
       "          3.36310893e-01, -2.72913296e-02,  1.41713405e+00,\n",
       "          4.13056672e-01, -3.33796889e-01, -1.20175064e-01,\n",
       "          2.27326769e-02,  7.25434065e-01, -3.66703570e-01,\n",
       "          1.35279700e-01,  4.04717535e-01, -5.13578951e-01,\n",
       "          2.37080738e-01,  2.24939510e-01, -1.03001511e+00,\n",
       "          2.81429365e-02, -5.07270455e-01, -6.18278146e-01,\n",
       "         -2.88084537e-01,  1.76813051e-01,  7.47782409e-01,\n",
       "          2.91959792e-01, -3.27679336e-01, -5.39876282e-01,\n",
       "          9.03234541e-01, -1.62904322e-01, -3.09278607e-01,\n",
       "          6.03365541e-01, -9.87655222e-02,  1.20617114e-01,\n",
       "          1.11030973e-01,  4.19768095e-01,  9.55606520e-01,\n",
       "          5.69691598e-01, -5.57063878e-01,  1.48706824e-01,\n",
       "          2.68579185e-01,  2.56333888e-01,  3.39971066e-01,\n",
       "          3.75559628e-01,  2.61400133e-01,  4.10110950e-01,\n",
       "         -2.01831073e-01,  2.38565639e-01,  1.40727267e-01,\n",
       "         -3.23283970e-01, -1.54291570e-01,  4.53809291e-01,\n",
       "          6.45570397e-01, -3.80585879e-01, -1.09491451e-03,\n",
       "         -1.78106070e-01,  7.38511264e-01, -7.41660893e-02,\n",
       "          2.04320237e-01, -2.78565973e-01, -2.02589869e-01,\n",
       "         -7.18778074e-01,  8.07163715e-01, -5.73608518e-01,\n",
       "          2.43546918e-01,  2.62913182e-02, -7.71093816e-02,\n",
       "         -1.11440644e-01,  1.56899262e-02], dtype=float32),\n",
       " memmap([-0.13470033, -0.49389145,  0.15067473, -0.06480382, -0.57794243,\n",
       "          0.3800825 ,  0.33061156, -0.01053824,  0.08425089,  0.4104806 ,\n",
       "          0.00189472,  0.10609068,  0.74954206, -0.01173293, -0.09139869,\n",
       "         -0.19272077, -0.07090166, -0.50271875,  0.05244797,  0.1248882 ,\n",
       "          0.08232047, -0.08044074, -0.6710753 ,  0.07998603,  0.08450452,\n",
       "         -0.19462745,  0.04079182,  0.6415703 , -0.07167192, -0.22528423,\n",
       "         -0.06876029,  0.12789942,  0.17947356,  0.6712869 , -0.04364133,\n",
       "          0.609117  ,  0.09834494, -0.01181941,  0.04174085, -0.35788494,\n",
       "         -0.2125222 , -0.52790797,  0.09063435, -0.10429551,  0.10430767,\n",
       "         -0.37499887,  0.40759617, -0.46021667,  0.03014789,  0.5843972 ,\n",
       "          0.25655246,  0.13315682, -0.60078496, -0.15464203,  0.03959285,\n",
       "         -0.06737915,  0.48912373,  0.33650684, -0.00929774, -0.15166587,\n",
       "          0.59080905, -0.1754666 , -0.5983602 ,  0.05012785,  0.60210204,\n",
       "          0.33591473,  0.2445092 ,  0.5097716 , -0.2043044 , -0.30622765,\n",
       "          0.6659122 , -0.21078418,  0.13259494,  0.36436197,  0.41271755,\n",
       "         -0.99376297,  0.5086749 ,  0.32010952,  0.36081988, -0.195979  ,\n",
       "          0.17976396, -0.18672527, -0.7631878 , -0.06171051,  0.1991541 ,\n",
       "         -0.00730286,  0.22500692,  0.04363243, -0.6825882 , -0.7202768 ,\n",
       "          0.3690484 , -0.26904315,  0.07957364,  0.11248645, -0.4009569 ,\n",
       "         -0.1731369 ,  0.42130265, -0.11312773, -0.36255038, -0.29697567,\n",
       "          1.1917723 , -0.13272415,  0.00689442,  0.13630544, -0.66569066,\n",
       "         -0.08996812, -0.0514217 ,  0.20255026,  0.08423095,  0.29393306,\n",
       "          0.06980043,  0.07251431,  0.20129892, -0.04148448,  0.48216748,\n",
       "          0.43956596, -0.21552989,  0.20338649,  0.7229838 , -0.84556687,\n",
       "         -0.35159788,  0.3134524 ,  0.0909159 , -0.2655139 , -0.121314  ,\n",
       "         -0.9908498 , -0.03255844,  0.26166072, -0.5664214 ,  0.07876371,\n",
       "         -0.01041263, -0.719211  , -0.08520625, -0.47137764,  0.22993384,\n",
       "          0.40754405,  0.03818327,  0.46313694, -0.1831497 ,  0.25428736,\n",
       "          0.24461909, -0.01123976,  0.55789775,  0.02882395,  0.34522834,\n",
       "          0.2590672 , -0.462926  , -0.02699871,  0.01837264, -0.57350564,\n",
       "          0.05357967, -0.23626369, -0.26938733,  0.38807288,  0.18970145,\n",
       "          0.49936515,  0.06469907,  0.2290151 , -0.78395444, -0.01814268,\n",
       "         -0.16075325, -0.2074704 , -0.19831209,  0.18238252,  0.22880158,\n",
       "         -0.5519487 , -0.36334193,  0.67172194, -0.07945864, -0.5472123 ,\n",
       "         -0.04050224, -0.05806016, -0.25885174, -0.05695849,  0.45797762,\n",
       "          0.49068585, -0.09010368,  0.35161868,  0.08366933,  0.01261814,\n",
       "         -0.2326336 ,  0.19738698,  0.05951802, -0.17099124,  0.03137956,\n",
       "         -0.40577382, -0.05112743,  0.22721761, -0.32962823,  0.37828833,\n",
       "          0.17207196,  0.04505624, -0.26829082,  0.04504275, -0.5535132 ,\n",
       "          0.1705051 , -0.34962374, -0.43092895, -0.02278846,  0.5563023 ],\n",
       "        dtype=float32),\n",
       " memmap([-3.87714535e-01, -5.15814722e-01, -1.03780828e-01,\n",
       "         -9.47799504e-01, -9.08245564e-01,  2.11336538e-02,\n",
       "          2.29762137e-01, -9.62170511e-02,  7.08381116e-01,\n",
       "          2.70614624e-01,  3.18988591e-01,  7.17176318e-01,\n",
       "          4.99390990e-01, -3.58346879e-01, -1.00389890e-01,\n",
       "         -3.79943736e-02, -9.86959577e-01,  2.26877183e-01,\n",
       "          5.02612352e-01,  1.13095427e+00,  5.93334794e-01,\n",
       "         -2.80458331e-01, -2.55439758e-01,  7.10688829e-01,\n",
       "         -2.38744885e-01, -4.23395246e-01, -2.55047679e-01,\n",
       "          3.87313664e-01, -1.13713130e-01, -6.80458188e-01,\n",
       "          3.45125914e-01, -1.78836688e-01, -3.19683045e-01,\n",
       "          7.61470854e-01,  6.12651519e-02, -3.56731936e-02,\n",
       "          2.41052285e-01, -4.50323552e-01, -1.88144075e-03,\n",
       "         -2.91611254e-01,  1.53269351e-01,  1.25559159e-02,\n",
       "          5.72951913e-01, -3.18769306e-01,  7.07853734e-01,\n",
       "          6.76995039e-01, -5.36199287e-02, -2.68594891e-01,\n",
       "          3.60948861e-01, -1.12111485e-02,  5.26566207e-01,\n",
       "          4.21185315e-01, -1.69796735e-01, -3.38508099e-01,\n",
       "          1.14769280e+00, -5.82419753e-01, -3.80246401e-01,\n",
       "          3.74381274e-01, -3.11185718e-01,  4.98168826e-01,\n",
       "          1.15124631e+00, -8.51049602e-01, -2.20543727e-01,\n",
       "          5.74452043e-01,  9.69012320e-01, -7.73516297e-02,\n",
       "          1.18823719e+00,  6.37649477e-01, -3.45707357e-01,\n",
       "         -2.70160139e-01,  1.13162808e-01, -2.26466030e-01,\n",
       "          7.30027199e-01,  3.04166049e-01,  2.72360072e-02,\n",
       "         -1.12033081e+00,  2.23840639e-01,  1.99224383e-01,\n",
       "         -2.56608933e-01,  8.23358953e-01, -1.63680911e-01,\n",
       "         -5.27471185e-01, -8.53590190e-01, -4.48819697e-01,\n",
       "          1.13459551e+00,  5.69535077e-01, -6.08401597e-01,\n",
       "         -2.05298722e-01, -2.13068619e-01, -6.67938471e-01,\n",
       "         -2.63465226e-01, -1.88071713e-01, -2.56594867e-01,\n",
       "         -1.09925175e+00, -3.32467586e-01,  2.22367421e-01,\n",
       "          5.19276917e-01, -5.35739124e-01, -3.65747035e-01,\n",
       "         -6.80622518e-01,  1.15218103e+00, -7.73679912e-01,\n",
       "          5.70046268e-02, -7.85903409e-02, -2.38898039e-01,\n",
       "          6.47086650e-02, -4.74395990e-01, -1.73364714e-01,\n",
       "          6.13792181e-01,  1.07876286e-01, -5.69671035e-01,\n",
       "          3.04106027e-01, -9.99031663e-02,  2.19954714e-01,\n",
       "          1.16726732e+00,  7.37778008e-01, -5.41329563e-01,\n",
       "         -5.06649017e-02,  8.51234138e-01, -2.78215349e-01,\n",
       "         -9.10771191e-02,  3.23359147e-02,  1.18507266e-01,\n",
       "         -8.61780882e-01, -4.26820874e-01,  4.37681258e-01,\n",
       "         -3.70239327e-03, -9.43652447e-03, -7.62421489e-01,\n",
       "          2.07964182e-01, -4.28741723e-01,  6.50847331e-02,\n",
       "          9.53734219e-02, -5.56429803e-01,  1.82538062e-01,\n",
       "          7.61105776e-01, -2.18247920e-01,  1.34579074e+00,\n",
       "          8.33190903e-02, -8.86576027e-02,  4.54036683e-01,\n",
       "         -3.68804246e-01,  4.59735066e-01,  2.70753145e-01,\n",
       "         -5.96304871e-02,  4.38291788e-01, -3.10163200e-01,\n",
       "          2.83263415e-01,  4.29259427e-02, -1.21197844e+00,\n",
       "         -5.18455744e-01, -4.01344925e-01, -3.24609540e-02,\n",
       "         -1.14085570e-01, -1.14306586e-03,  8.29052806e-01,\n",
       "          4.02816027e-01, -6.41698062e-01,  1.29187912e-01,\n",
       "          9.06270266e-01,  9.91854295e-02, -3.88964891e-01,\n",
       "          2.74483949e-01, -2.37411633e-02,  2.76863631e-02,\n",
       "          2.45985184e-02, -5.03327608e-01,  6.54886007e-01,\n",
       "          1.24186121e-01, -9.80605304e-01,  1.84110343e-01,\n",
       "          2.34126046e-01, -1.17550977e-01,  1.96630403e-01,\n",
       "          7.33270884e-01, -1.14575073e-01,  4.65355396e-01,\n",
       "          1.23961136e-01,  1.82550233e-02,  3.52567017e-01,\n",
       "         -2.06278488e-01, -8.52135494e-02,  4.07135040e-01,\n",
       "          1.26257753e+00, -6.39485240e-01, -3.39191705e-01,\n",
       "         -1.25451401e-01,  2.80429691e-01, -3.29915673e-01,\n",
       "         -2.03975346e-02, -1.37571618e-01, -4.03775014e-02,\n",
       "         -1.16050756e+00,  8.78719866e-01, -4.35707897e-01,\n",
       "         -6.02761917e-02, -2.53886908e-01,  1.28415823e-01,\n",
       "         -3.89277756e-01,  3.95688713e-01], dtype=float32),\n",
       " memmap([-0.01765921, -0.24692138,  0.0163036 , -0.31141698, -0.291372  ,\n",
       "          0.33788255,  0.45798892,  0.30541816,  0.44692165,  0.08347176,\n",
       "         -0.05836222,  0.14334103,  0.454515  , -0.14825258, -0.17390598,\n",
       "         -0.08971354, -0.5532    , -0.17892946,  0.08250332,  0.03677311,\n",
       "          0.08373979,  0.12138217, -0.29928604,  0.16338757,  0.04957557,\n",
       "          0.34579968, -0.19203733,  0.55841106, -0.11509433,  0.06896716,\n",
       "         -0.06199562,  0.34035334,  0.03459978,  0.49686876, -0.17862664,\n",
       "          0.23568861,  0.0722097 , -0.5358183 , -0.01771693, -0.42626053,\n",
       "          0.03891831, -0.62485856,  0.24580559, -0.16613562, -0.06691678,\n",
       "         -0.18686065,  0.13747987, -0.19911277, -0.32600462,  0.06235848,\n",
       "          0.35405147,  0.23991698, -0.6875718 , -0.60266125,  0.23349616,\n",
       "         -0.2990197 ,  0.10318605,  0.2583713 , -0.21478696, -0.17195968,\n",
       "          0.76546687, -0.321505  , -0.21754025,  0.13852021,  0.689881  ,\n",
       "          0.14726697,  0.8064178 ,  0.3884407 , -0.42993134, -0.21117951,\n",
       "          0.43716508,  0.25602126,  0.00735741,  0.38347828, -0.5209956 ,\n",
       "         -0.48635575,  0.3388377 ,  0.60998124,  0.36752436, -0.3426322 ,\n",
       "          0.33673403, -0.898002  , -0.5998905 , -0.0618746 , -0.27000764,\n",
       "          0.01498823,  0.2395367 , -0.01365453, -0.8065442 , -0.61373544,\n",
       "          0.36161926, -0.85784984, -0.01053979, -0.0932055 , -0.4502507 ,\n",
       "          0.02636315,  0.84940785, -0.40787402, -0.7174777 , -0.5386165 ,\n",
       "          0.8629207 , -0.08130994,  0.25089473, -0.05653553, -0.6343788 ,\n",
       "          0.16211443, -0.28673124, -0.1099647 ,  0.02931976, -0.00341024,\n",
       "          0.2308527 ,  0.43740615,  0.33882794,  0.00945213,  0.3354961 ,\n",
       "          0.49385145, -0.3694851 ,  0.4732083 ,  0.47846413, -0.24036439,\n",
       "         -0.34252134,  0.6548815 ,  0.07696205, -0.45449656,  0.07636807,\n",
       "         -0.8219086 , -0.13506223, -0.12652144, -0.92407495, -0.3727118 ,\n",
       "         -0.11340755, -0.45239243,  0.01948671,  0.00374172, -0.2461562 ,\n",
       "          0.24854986,  0.30362052,  0.50539964,  0.005254  , -0.01327898,\n",
       "          0.2688043 , -0.10413343,  0.38461727,  0.45323783,  0.41329587,\n",
       "          0.19033106,  0.00178822, -0.04249334, -0.5278683 , -0.73158455,\n",
       "          0.09114747, -0.7946296 ,  0.09439909,  0.11399546, -0.04168058,\n",
       "          0.602268  ,  0.5045174 ,  0.2115076 , -0.1808714 ,  0.24859083,\n",
       "         -0.4541847 , -0.4144327 , -0.21627459,  0.31499565,  0.29419246,\n",
       "         -0.50418794,  0.16952014,  0.7477609 ,  0.17767768, -0.17050995,\n",
       "         -0.3085976 ,  0.24133578, -0.49529028,  0.07722893,  0.29265082,\n",
       "          0.6360675 ,  0.23049077,  0.21201956,  0.11158551, -0.00564236,\n",
       "         -0.14670801,  0.2901163 ,  0.4001182 ,  0.28147936,  0.43662906,\n",
       "          0.08297887, -0.10321248,  0.10189985, -0.294717  ,  0.4773842 ,\n",
       "         -0.00183467,  0.04508079, -0.18944082,  0.39839703, -0.5967097 ,\n",
       "          0.10410442, -0.14853099, -0.5170335 , -0.16384993,  0.4901263 ],\n",
       "        dtype=float32)]"
      ]
     },
     "execution_count": 121,
     "metadata": {},
     "output_type": "execute_result"
    }
   ],
   "source": [
    "list(vectors.values())"
   ]
  },
  {
   "cell_type": "code",
   "execution_count": 86,
   "metadata": {
    "collapsed": false
   },
   "outputs": [
    {
     "name": "stdout",
     "output_type": "stream",
     "text": [
      "0\n"
     ]
    }
   ],
   "source": [
    "counter = 0\n",
    "for item in distance_result[0]:\n",
    "    if item != 0:\n",
    "        print(item)\n",
    "        counter += 1\n",
    "\n",
    "print(counter)"
   ]
  },
  {
   "cell_type": "code",
   "execution_count": 2,
   "metadata": {
    "collapsed": false
   },
   "outputs": [
    {
     "name": "stdout",
     "output_type": "stream",
     "text": [
      "['model.wv.vectors.npy', 'model.kv', 'model']\n"
     ]
    }
   ],
   "source": [
    "print(os.listdir(cwd))"
   ]
  },
  {
   "cell_type": "code",
   "execution_count": 65,
   "metadata": {
    "collapsed": false
   },
   "outputs": [],
   "source": [
    "w2v_model = models.KeyedVectors.load(\n",
    "    word2vec_path, mmap=\"r\"\n",
    ")"
   ]
  },
  {
   "cell_type": "code",
   "execution_count": 67,
   "metadata": {
    "collapsed": false
   },
   "outputs": [
    {
     "data": {
      "text/plain": [
       "5818450"
      ]
     },
     "execution_count": 67,
     "metadata": {},
     "output_type": "execute_result"
    }
   ],
   "source": [
    "len(w2v_model)"
   ]
  },
  {
   "cell_type": "code",
   "execution_count": 72,
   "metadata": {
    "collapsed": false
   },
   "outputs": [
    {
     "name": "stdout",
     "output_type": "stream",
     "text": [
      "[[0.8 0.8 0.8 0.8]\n",
      " [0.3 0.3 0.3 1.3]\n",
      " [0.5 0.5 1.5 0.5]]\n",
      "[0.8 0.8 1.5 1.3]\n"
     ]
    }
   ],
   "source": [
    "import numpy as np\n",
    "tomb = [[1,1,1,1],\n",
    "        [0.5,0.5,0.5,1.5],\n",
    "        [0.7,0.7,1.7,0.7],\n",
    "        ]\n",
    "\n",
    "center = [0.2,0.2,0.2,0.2]\n",
    "\n",
    "print(np.array(tomb) - np.array(center))\n",
    "print(np.max(np.array(tomb) - np.array(center), axis=0))"
   ]
  },
  {
   "cell_type": "code",
   "execution_count": null,
   "metadata": {
    "collapsed": false
   },
   "outputs": [],
   "source": [
    "\n",
    "\n",
    "\n",
    "\n"
   ]
  },
  {
   "cell_type": "code",
   "execution_count": 11,
   "metadata": {
    "collapsed": false
   },
   "outputs": [
    {
     "name": "stdout",
     "output_type": "stream",
     "text": [
      "[0.5 0.5 0.5 0.5 0.5]\n"
     ]
    }
   ],
   "source": [
    "import numpy as np\n",
    "\n",
    "vectors = [[1,1,1,1,1], [0,0,0,0,0]]\n",
    "print(np.mean(vectors, axis=0))"
   ]
  },
  {
   "cell_type": "code",
   "execution_count": 12,
   "metadata": {
    "collapsed": false
   },
   "outputs": [
    {
     "data": {
      "image/png": "[encoded data removed]",
      "text/plain": [
       "<Figure size 600x600 with 2 Axes>"
      ]
     },
     "metadata": {},
     "output_type": "display_data"
    }
   ],
   "source": [
    "import numpy as np\n",
    "import matplotlib.pyplot as plt\n",
    "\n",
    "x = np.arange(0, 32)\n",
    "y = np.arange(0, 32)\n",
    "arr = np.zeros((y.size, x.size))\n",
    "\n",
    "cx = 12.\n",
    "cy = 16.\n",
    "r = 5.\n",
    "\n",
    "# The two lines below could be merged, but I stored the mask\n",
    "# for code clarity.\n",
    "mask = (x[np.newaxis,:]-cx)**2 + (y[:,np.newaxis]-cy)**2 < r**2\n",
    "arr[mask] = 123.\n",
    "\n",
    "# This plot shows that only within the circle the value is set to 123.\n",
    "plt.figure(figsize=(6, 6))\n",
    "plt.pcolormesh(x, y, arr)\n",
    "plt.colorbar()\n",
    "plt.show()"
   ]
  },
  {
   "cell_type": "code",
   "execution_count": 48,
   "metadata": {
    "collapsed": false
   },
   "outputs": [],
   "source": [
    "center = [1,1,1,1,1]\n",
    "point = [1.3,1.3,1.3,1.3,1.3]\n",
    "radius = [0.3,0.3,0.3,0.3,0.3]"
   ]
  },
  {
   "cell_type": "code",
   "execution_count": 42,
   "metadata": {
    "collapsed": false
   },
   "outputs": [
    {
     "data": {
      "text/plain": [
       "4.737777777777779"
      ]
     },
     "execution_count": 42,
     "metadata": {},
     "output_type": "execute_result"
    }
   ],
   "source": [
    "np.sum(np.divide(np.power(np.subtract(center, point), 2), np.power(radius, 2)))"
   ]
  },
  {
   "cell_type": "code",
   "execution_count": 41,
   "metadata": {
    "collapsed": false
   },
   "outputs": [
    {
     "data": {
      "text/plain": [
       "array([0.93444444, 0.93444444, 0.93444444, 1.        , 0.93444444])"
      ]
     },
     "execution_count": 41,
     "metadata": {},
     "output_type": "execute_result"
    }
   ],
   "source": [
    "np.divide(np.power(np.subtract(center, point), 2), np.power(radius, 2))"
   ]
  },
  {
   "cell_type": "code",
   "execution_count": 38,
   "metadata": {
    "collapsed": false
   },
   "outputs": [
    {
     "data": {
      "text/plain": [
       "array([0.04, 0.04, 0.04, 0.09, 0.04])"
      ]
     },
     "execution_count": 38,
     "metadata": {},
     "output_type": "execute_result"
    }
   ],
   "source": [
    "np.power(np.subtract(center, point), 2)"
   ]
  },
  {
   "cell_type": "code",
   "execution_count": 49,
   "metadata": {
    "collapsed": false
   },
   "outputs": [
    {
     "data": {
      "text/plain": [
       "0.3674234614174768"
      ]
     },
     "execution_count": 49,
     "metadata": {},
     "output_type": "execute_result"
    }
   ],
   "source": [
    "w = np.array(radius)\n",
    "q = np.array(center)-np.array(point)\n",
    "np.sqrt((w*q*q).sum())"
   ]
  },
  {
   "cell_type": "code",
   "execution_count": 58,
   "metadata": {
    "collapsed": false
   },
   "outputs": [],
   "source": [
    "def weightedL2(a, b, w):\n",
    "    q = a-b\n",
    "    return np.sqrt((w*q*q).sum())\n",
    "\n",
    "\n",
    "def mathexchange(center, radius, point):\n",
    "    res = np.sum(np.divide(np.power(np.subtract(center, point), 2), np.power(radius, 2)))\n",
    "    return res\n",
    "\n",
    "def mathexchange2(center, radius, point):\n",
    "    # res = np.sum(np.power(np.divide(np.subtract(center, point), ), radius))\n",
    "    res = np.sum(np.power(np.divide(np.subtract(center, point), radius), 2))\n",
    "    return res"
   ]
  },
  {
   "cell_type": "code",
   "execution_count": 59,
   "metadata": {
    "collapsed": false
   },
   "outputs": [
    {
     "name": "stdout",
     "output_type": "stream",
     "text": [
      "5.000000000000001\n",
      "5.000000000000002\n"
     ]
    }
   ],
   "source": [
    "center = [1,1,1,1,1]\n",
    "point = [1.3,1.3,1.3,1.3,1.3]\n",
    "radius = [0.3,0.3,0.3,0.3,0.3]\n",
    "print(mathexchange(center, radius, point))\n",
    "print(mathexchange2(center, radius, point))"
   ]
  },
  {
   "cell_type": "code",
   "execution_count": 64,
   "metadata": {
    "collapsed": false
   },
   "outputs": [
    {
     "name": "stdout",
     "output_type": "stream",
     "text": [
      "0.5555555555555556\n",
      "0.5555555555555556\n"
     ]
    }
   ],
   "source": [
    "center = [1,1,1,1,1]\n",
    "point = [1.0,1.0,1.0,1.1,1.2]\n",
    "radius = [0.3,0.3,0.3,0.3,0.3]\n",
    "print(mathexchange(center, radius, point))\n",
    "print(mathexchange2(center, radius, point))"
   ]
  },
  {
   "cell_type": "code",
   "execution_count": 61,
   "metadata": {
    "collapsed": false
   },
   "outputs": [],
   "source": []
  },
  {
   "cell_type": "code",
   "execution_count": 54,
   "metadata": {
    "collapsed": false
   },
   "outputs": [
    {
     "data": {
      "text/plain": [
       "0.12247448713915901"
      ]
     },
     "execution_count": 54,
     "metadata": {},
     "output_type": "execute_result"
    }
   ],
   "source": [
    "center = [1,1,1,1,1]\n",
    "point = [1.1,1.1,1.1,1.1,1.1]\n",
    "radius = [0.3,0.3,0.3,0.3,0.3]\n",
    "w = np.array(radius)\n",
    "q = np.array(center)-np.array(point)\n",
    "np.sqrt((w*q*q).sum())"
   ]
  },
  {
   "cell_type": "markdown",
   "metadata": {
    "collapsed": false
   },
   "source": [
    "# Ellipse"
   ]
  },
  {
   "cell_type": "code",
   "execution_count": 147,
   "metadata": {
    "collapsed": false
   },
   "outputs": [],
   "source": [
    "from helper.ellipse import main, mvee"
   ]
  },
  {
   "cell_type": "code",
   "execution_count": 148,
   "metadata": {
    "collapsed": false
   },
   "outputs": [
    {
     "name": "stdout",
     "output_type": "stream",
     "text": [
      "0.9905231299861673\n"
     ]
    },
    {
     "data": {
      "image/png": "[encoded data removed]",
      "text/plain": [
       "<Figure size 640x480 with 1 Axes>"
      ]
     },
     "metadata": {},
     "output_type": "display_data"
    }
   ],
   "source": [
    "main()"
   ]
  },
  {
   "cell_type": "code",
   "execution_count": 155,
   "metadata": {
    "collapsed": false
   },
   "outputs": [],
   "source": [
    "mvee_res = mvee(np.array([list(item) for item in vectors.values()]))"
   ]
  },
  {
   "cell_type": "code",
   "execution_count": 153,
   "metadata": {
    "collapsed": false
   },
   "outputs": [
    {
     "data": {
      "text/plain": [
       "array([[-4.39408720e-01, -4.76612031e-01, -1.07024252e-01,\n",
       "        -5.52680969e-01, -7.78992295e-01,  1.26077890e-01,\n",
       "        -5.33726066e-02, -4.13829893e-01,  6.04093432e-01,\n",
       "         6.44265890e-01,  2.79375583e-01,  6.91343248e-02,\n",
       "         6.15748227e-01, -3.67497414e-01, -1.95363581e-01,\n",
       "         4.67069268e-01, -7.36072838e-01,  1.20559886e-01,\n",
       "        -2.42725268e-01,  7.88133264e-01,  2.63332516e-01,\n",
       "        -1.67573005e-01, -1.51340663e-01,  1.03367245e+00,\n",
       "        -3.65061671e-01, -2.20755324e-01,  1.41069904e-01,\n",
       "         4.13478345e-01,  7.87278786e-02, -7.21242607e-01,\n",
       "         4.80095476e-01, -3.51910144e-01,  2.17576191e-01,\n",
       "         4.76656646e-01, -2.58828074e-01,  5.04848659e-02,\n",
       "        -2.53914267e-01, -1.89191848e-01,  4.63653207e-02,\n",
       "        -3.45236629e-01,  3.43636215e-01,  2.84615427e-01,\n",
       "         1.16729401e-01, -3.73862058e-01,  4.56044346e-01,\n",
       "         4.03221905e-01,  4.00978327e-01, -6.78828537e-01,\n",
       "         5.29631861e-02,  7.14906976e-02,  1.00164139e+00,\n",
       "         8.05181444e-01, -8.23923528e-01, -3.48001927e-01,\n",
       "         5.26329517e-01, -6.79437637e-01, -3.23955327e-01,\n",
       "         5.26564360e-01, -4.32862312e-01,  3.27401161e-01,\n",
       "         9.20809269e-01, -5.24915218e-01,  2.16903258e-03,\n",
       "        -1.40239615e-02,  9.49239492e-01, -1.23741895e-01,\n",
       "         1.36116552e+00,  6.52494550e-01, -4.65179905e-02,\n",
       "         2.58427352e-01,  1.51476294e-01, -5.74628562e-02,\n",
       "         2.25050002e-01,  7.53108978e-01,  6.20384850e-02,\n",
       "        -1.07825029e+00,  4.34491523e-02,  2.80848086e-01,\n",
       "         4.11198199e-01,  8.11367948e-03, -5.12702167e-01,\n",
       "        -2.75383502e-01, -4.91819292e-01, -2.15011433e-01,\n",
       "         6.27684951e-01,  1.80061623e-01, -8.21803883e-02,\n",
       "         1.95531677e-02, -3.54896039e-01, -5.55010200e-01,\n",
       "         1.74074471e-01, -6.29291594e-01, -3.46503049e-01,\n",
       "        -7.74427354e-01, -2.02669799e-01,  1.47053497e-02,\n",
       "         3.75712246e-01,  1.78887799e-01, -4.49816376e-01,\n",
       "        -7.33793020e-01,  6.70860469e-01,  5.67119420e-02,\n",
       "         1.51497826e-01,  4.29849148e-01, -2.73407787e-01,\n",
       "         2.31287241e-01, -2.14565814e-01,  1.87769830e-02,\n",
       "         2.77531892e-01, -5.47732651e-01, -4.65047956e-01,\n",
       "         6.68449819e-01,  2.68771112e-01, -4.92240995e-01,\n",
       "         6.48922920e-01,  3.77729774e-01, -7.34774649e-01,\n",
       "         2.20683336e-01,  5.32739758e-01, -6.59662366e-01,\n",
       "        -4.01712209e-01, -1.41264305e-01,  4.24341001e-02,\n",
       "        -7.83119261e-01, -2.24947810e-01, -2.51653135e-01,\n",
       "        -4.18103695e-01, -7.00272679e-01, -6.59856319e-01,\n",
       "        -2.50557750e-01, -7.14827120e-01,  1.74092218e-01,\n",
       "         1.69181883e-01, -7.52170265e-01, -2.12366898e-02,\n",
       "         3.36310893e-01, -2.72913296e-02,  1.41713405e+00,\n",
       "         4.13056672e-01, -3.33796889e-01, -1.20175064e-01,\n",
       "         2.27326769e-02,  7.25434065e-01, -3.66703570e-01,\n",
       "         1.35279700e-01,  4.04717535e-01, -5.13578951e-01,\n",
       "         2.37080738e-01,  2.24939510e-01, -1.03001511e+00,\n",
       "         2.81429365e-02, -5.07270455e-01, -6.18278146e-01,\n",
       "        -2.88084537e-01,  1.76813051e-01,  7.47782409e-01,\n",
       "         2.91959792e-01, -3.27679336e-01, -5.39876282e-01,\n",
       "         9.03234541e-01, -1.62904322e-01, -3.09278607e-01,\n",
       "         6.03365541e-01, -9.87655222e-02,  1.20617114e-01,\n",
       "         1.11030973e-01,  4.19768095e-01,  9.55606520e-01,\n",
       "         5.69691598e-01, -5.57063878e-01,  1.48706824e-01,\n",
       "         2.68579185e-01,  2.56333888e-01,  3.39971066e-01,\n",
       "         3.75559628e-01,  2.61400133e-01,  4.10110950e-01,\n",
       "        -2.01831073e-01,  2.38565639e-01,  1.40727267e-01,\n",
       "        -3.23283970e-01, -1.54291570e-01,  4.53809291e-01,\n",
       "         6.45570397e-01, -3.80585879e-01, -1.09491451e-03,\n",
       "        -1.78106070e-01,  7.38511264e-01, -7.41660893e-02,\n",
       "         2.04320237e-01, -2.78565973e-01, -2.02589869e-01,\n",
       "        -7.18778074e-01,  8.07163715e-01, -5.73608518e-01,\n",
       "         2.43546918e-01,  2.62913182e-02, -7.71093816e-02,\n",
       "        -1.11440644e-01,  1.56899262e-02],\n",
       "       [-1.34700328e-01, -4.93891448e-01,  1.50674731e-01,\n",
       "        -6.48038238e-02, -5.77942431e-01,  3.80082488e-01,\n",
       "         3.30611557e-01, -1.05382409e-02,  8.42508897e-02,\n",
       "         4.10480589e-01,  1.89472316e-03,  1.06090680e-01,\n",
       "         7.49542058e-01, -1.17329266e-02, -9.13986936e-02,\n",
       "        -1.92720771e-01, -7.09016621e-02, -5.02718747e-01,\n",
       "         5.24479710e-02,  1.24888197e-01,  8.23204666e-02,\n",
       "        -8.04407448e-02, -6.71075284e-01,  7.99860284e-02,\n",
       "         8.45045224e-02, -1.94627449e-01,  4.07918207e-02,\n",
       "         6.41570330e-01, -7.16719180e-02, -2.25284234e-01,\n",
       "        -6.87602907e-02,  1.27899423e-01,  1.79473564e-01,\n",
       "         6.71286881e-01, -4.36413325e-02,  6.09116971e-01,\n",
       "         9.83449444e-02, -1.18194129e-02,  4.17408533e-02,\n",
       "        -3.57884943e-01, -2.12522194e-01, -5.27907968e-01,\n",
       "         9.06343460e-02, -1.04295515e-01,  1.04307674e-01,\n",
       "        -3.74998868e-01,  4.07596171e-01, -4.60216671e-01,\n",
       "         3.01478859e-02,  5.84397197e-01,  2.56552458e-01,\n",
       "         1.33156821e-01, -6.00784957e-01, -1.54642031e-01,\n",
       "         3.95928510e-02, -6.73791543e-02,  4.89123732e-01,\n",
       "         3.36506844e-01, -9.29773599e-03, -1.51665866e-01,\n",
       "         5.90809047e-01, -1.75466597e-01, -5.98360181e-01,\n",
       "         5.01278453e-02,  6.02102041e-01,  3.35914731e-01,\n",
       "         2.44509205e-01,  5.09771585e-01, -2.04304397e-01,\n",
       "        -3.06227654e-01,  6.65912211e-01, -2.10784182e-01,\n",
       "         1.32594943e-01,  3.64361972e-01,  4.12717551e-01,\n",
       "        -9.93762970e-01,  5.08674920e-01,  3.20109516e-01,\n",
       "         3.60819876e-01, -1.95978999e-01,  1.79763958e-01,\n",
       "        -1.86725274e-01, -7.63187826e-01, -6.17105141e-02,\n",
       "         1.99154094e-01, -7.30286399e-03,  2.25006923e-01,\n",
       "         4.36324328e-02, -6.82588220e-01, -7.20276773e-01,\n",
       "         3.69048387e-01, -2.69043148e-01,  7.95736387e-02,\n",
       "         1.12486452e-01, -4.00956899e-01, -1.73136905e-01,\n",
       "         4.21302646e-01, -1.13127731e-01, -3.62550378e-01,\n",
       "        -2.96975672e-01,  1.19177234e+00, -1.32724151e-01,\n",
       "         6.89441897e-03,  1.36305436e-01, -6.65690660e-01,\n",
       "        -8.99681225e-02, -5.14216982e-02,  2.02550262e-01,\n",
       "         8.42309520e-02,  2.93933064e-01,  6.98004290e-02,\n",
       "         7.25143105e-02,  2.01298922e-01, -4.14844789e-02,\n",
       "         4.82167482e-01,  4.39565957e-01, -2.15529889e-01,\n",
       "         2.03386486e-01,  7.22983778e-01, -8.45566869e-01,\n",
       "        -3.51597875e-01,  3.13452393e-01,  9.09159034e-02,\n",
       "        -2.65513897e-01, -1.21313997e-01, -9.90849793e-01,\n",
       "        -3.25584412e-02,  2.61660725e-01, -5.66421390e-01,\n",
       "         7.87637085e-02, -1.04126325e-02, -7.19210982e-01,\n",
       "        -8.52062479e-02, -4.71377641e-01,  2.29933843e-01,\n",
       "         4.07544047e-01,  3.81832682e-02,  4.63136941e-01,\n",
       "        -1.83149695e-01,  2.54287362e-01,  2.44619086e-01,\n",
       "        -1.12397578e-02,  5.57897747e-01,  2.88239513e-02,\n",
       "         3.45228344e-01,  2.59067208e-01, -4.62926000e-01,\n",
       "        -2.69987136e-02,  1.83726363e-02, -5.73505640e-01,\n",
       "         5.35796657e-02, -2.36263692e-01, -2.69387335e-01,\n",
       "         3.88072878e-01,  1.89701453e-01,  4.99365151e-01,\n",
       "         6.46990687e-02,  2.29015097e-01, -7.83954442e-01,\n",
       "        -1.81426816e-02, -1.60753250e-01, -2.07470402e-01,\n",
       "        -1.98312089e-01,  1.82382524e-01,  2.28801578e-01,\n",
       "        -5.51948726e-01, -3.63341928e-01,  6.71721935e-01,\n",
       "        -7.94586390e-02, -5.47212303e-01, -4.05022390e-02,\n",
       "        -5.80601618e-02, -2.58851737e-01, -5.69584854e-02,\n",
       "         4.57977623e-01,  4.90685850e-01, -9.01036784e-02,\n",
       "         3.51618677e-01,  8.36693347e-02,  1.26181440e-02,\n",
       "        -2.32633606e-01,  1.97386980e-01,  5.95180169e-02,\n",
       "        -1.70991242e-01,  3.13795581e-02, -4.05773818e-01,\n",
       "        -5.11274338e-02,  2.27217615e-01, -3.29628229e-01,\n",
       "         3.78288329e-01,  1.72071964e-01,  4.50562388e-02,\n",
       "        -2.68290818e-01,  4.50427495e-02, -5.53513229e-01,\n",
       "         1.70505106e-01, -3.49623740e-01, -4.30928946e-01,\n",
       "        -2.27884576e-02,  5.56302309e-01],\n",
       "       [-3.87714535e-01, -5.15814722e-01, -1.03780828e-01,\n",
       "        -9.47799504e-01, -9.08245564e-01,  2.11336538e-02,\n",
       "         2.29762137e-01, -9.62170511e-02,  7.08381116e-01,\n",
       "         2.70614624e-01,  3.18988591e-01,  7.17176318e-01,\n",
       "         4.99390990e-01, -3.58346879e-01, -1.00389890e-01,\n",
       "        -3.79943736e-02, -9.86959577e-01,  2.26877183e-01,\n",
       "         5.02612352e-01,  1.13095427e+00,  5.93334794e-01,\n",
       "        -2.80458331e-01, -2.55439758e-01,  7.10688829e-01,\n",
       "        -2.38744885e-01, -4.23395246e-01, -2.55047679e-01,\n",
       "         3.87313664e-01, -1.13713130e-01, -6.80458188e-01,\n",
       "         3.45125914e-01, -1.78836688e-01, -3.19683045e-01,\n",
       "         7.61470854e-01,  6.12651519e-02, -3.56731936e-02,\n",
       "         2.41052285e-01, -4.50323552e-01, -1.88144075e-03,\n",
       "        -2.91611254e-01,  1.53269351e-01,  1.25559159e-02,\n",
       "         5.72951913e-01, -3.18769306e-01,  7.07853734e-01,\n",
       "         6.76995039e-01, -5.36199287e-02, -2.68594891e-01,\n",
       "         3.60948861e-01, -1.12111485e-02,  5.26566207e-01,\n",
       "         4.21185315e-01, -1.69796735e-01, -3.38508099e-01,\n",
       "         1.14769280e+00, -5.82419753e-01, -3.80246401e-01,\n",
       "         3.74381274e-01, -3.11185718e-01,  4.98168826e-01,\n",
       "         1.15124631e+00, -8.51049602e-01, -2.20543727e-01,\n",
       "         5.74452043e-01,  9.69012320e-01, -7.73516297e-02,\n",
       "         1.18823719e+00,  6.37649477e-01, -3.45707357e-01,\n",
       "        -2.70160139e-01,  1.13162808e-01, -2.26466030e-01,\n",
       "         7.30027199e-01,  3.04166049e-01,  2.72360072e-02,\n",
       "        -1.12033081e+00,  2.23840639e-01,  1.99224383e-01,\n",
       "        -2.56608933e-01,  8.23358953e-01, -1.63680911e-01,\n",
       "        -5.27471185e-01, -8.53590190e-01, -4.48819697e-01,\n",
       "         1.13459551e+00,  5.69535077e-01, -6.08401597e-01,\n",
       "        -2.05298722e-01, -2.13068619e-01, -6.67938471e-01,\n",
       "        -2.63465226e-01, -1.88071713e-01, -2.56594867e-01,\n",
       "        -1.09925175e+00, -3.32467586e-01,  2.22367421e-01,\n",
       "         5.19276917e-01, -5.35739124e-01, -3.65747035e-01,\n",
       "        -6.80622518e-01,  1.15218103e+00, -7.73679912e-01,\n",
       "         5.70046268e-02, -7.85903409e-02, -2.38898039e-01,\n",
       "         6.47086650e-02, -4.74395990e-01, -1.73364714e-01,\n",
       "         6.13792181e-01,  1.07876286e-01, -5.69671035e-01,\n",
       "         3.04106027e-01, -9.99031663e-02,  2.19954714e-01,\n",
       "         1.16726732e+00,  7.37778008e-01, -5.41329563e-01,\n",
       "        -5.06649017e-02,  8.51234138e-01, -2.78215349e-01,\n",
       "        -9.10771191e-02,  3.23359147e-02,  1.18507266e-01,\n",
       "        -8.61780882e-01, -4.26820874e-01,  4.37681258e-01,\n",
       "        -3.70239327e-03, -9.43652447e-03, -7.62421489e-01,\n",
       "         2.07964182e-01, -4.28741723e-01,  6.50847331e-02,\n",
       "         9.53734219e-02, -5.56429803e-01,  1.82538062e-01,\n",
       "         7.61105776e-01, -2.18247920e-01,  1.34579074e+00,\n",
       "         8.33190903e-02, -8.86576027e-02,  4.54036683e-01,\n",
       "        -3.68804246e-01,  4.59735066e-01,  2.70753145e-01,\n",
       "        -5.96304871e-02,  4.38291788e-01, -3.10163200e-01,\n",
       "         2.83263415e-01,  4.29259427e-02, -1.21197844e+00,\n",
       "        -5.18455744e-01, -4.01344925e-01, -3.24609540e-02,\n",
       "        -1.14085570e-01, -1.14306586e-03,  8.29052806e-01,\n",
       "         4.02816027e-01, -6.41698062e-01,  1.29187912e-01,\n",
       "         9.06270266e-01,  9.91854295e-02, -3.88964891e-01,\n",
       "         2.74483949e-01, -2.37411633e-02,  2.76863631e-02,\n",
       "         2.45985184e-02, -5.03327608e-01,  6.54886007e-01,\n",
       "         1.24186121e-01, -9.80605304e-01,  1.84110343e-01,\n",
       "         2.34126046e-01, -1.17550977e-01,  1.96630403e-01,\n",
       "         7.33270884e-01, -1.14575073e-01,  4.65355396e-01,\n",
       "         1.23961136e-01,  1.82550233e-02,  3.52567017e-01,\n",
       "        -2.06278488e-01, -8.52135494e-02,  4.07135040e-01,\n",
       "         1.26257753e+00, -6.39485240e-01, -3.39191705e-01,\n",
       "        -1.25451401e-01,  2.80429691e-01, -3.29915673e-01,\n",
       "        -2.03975346e-02, -1.37571618e-01, -4.03775014e-02,\n",
       "        -1.16050756e+00,  8.78719866e-01, -4.35707897e-01,\n",
       "        -6.02761917e-02, -2.53886908e-01,  1.28415823e-01,\n",
       "        -3.89277756e-01,  3.95688713e-01],\n",
       "       [-1.76592097e-02, -2.46921375e-01,  1.63035989e-02,\n",
       "        -3.11416984e-01, -2.91372001e-01,  3.37882549e-01,\n",
       "         4.57988918e-01,  3.05418164e-01,  4.46921647e-01,\n",
       "         8.34717602e-02, -5.83622158e-02,  1.43341035e-01,\n",
       "         4.54515010e-01, -1.48252577e-01, -1.73905984e-01,\n",
       "        -8.97135437e-02, -5.53200006e-01, -1.78929463e-01,\n",
       "         8.25033188e-02,  3.67731117e-02,  8.37397873e-02,\n",
       "         1.21382169e-01, -2.99286038e-01,  1.63387567e-01,\n",
       "         4.95755710e-02,  3.45799685e-01, -1.92037329e-01,\n",
       "         5.58411062e-01, -1.15094326e-01,  6.89671636e-02,\n",
       "        -6.19956218e-02,  3.40353340e-01,  3.45997773e-02,\n",
       "         4.96868759e-01, -1.78626642e-01,  2.35688612e-01,\n",
       "         7.22097009e-02, -5.35818279e-01, -1.77169256e-02,\n",
       "        -4.26260531e-01,  3.89183052e-02, -6.24858558e-01,\n",
       "         2.45805591e-01, -1.66135624e-01, -6.69167787e-02,\n",
       "        -1.86860651e-01,  1.37479872e-01, -1.99112773e-01,\n",
       "        -3.26004624e-01,  6.23584762e-02,  3.54051471e-01,\n",
       "         2.39916980e-01, -6.87571824e-01, -6.02661252e-01,\n",
       "         2.33496159e-01, -2.99019694e-01,  1.03186049e-01,\n",
       "         2.58371294e-01, -2.14786962e-01, -1.71959683e-01,\n",
       "         7.65466869e-01, -3.21505010e-01, -2.17540249e-01,\n",
       "         1.38520211e-01,  6.89881027e-01,  1.47266969e-01,\n",
       "         8.06417823e-01,  3.88440698e-01, -4.29931343e-01,\n",
       "        -2.11179510e-01,  4.37165082e-01,  2.56021261e-01,\n",
       "         7.35741435e-03,  3.83478284e-01, -5.20995617e-01,\n",
       "        -4.86355752e-01,  3.38837713e-01,  6.09981239e-01,\n",
       "         3.67524356e-01, -3.42632204e-01,  3.36734027e-01,\n",
       "        -8.98002028e-01, -5.99890471e-01, -6.18745983e-02,\n",
       "        -2.70007640e-01,  1.49882333e-02,  2.39536703e-01,\n",
       "        -1.36545263e-02, -8.06544185e-01, -6.13735437e-01,\n",
       "         3.61619264e-01, -8.57849836e-01, -1.05397860e-02,\n",
       "        -9.32054967e-02, -4.50250685e-01,  2.63631456e-02,\n",
       "         8.49407852e-01, -4.07874018e-01, -7.17477679e-01,\n",
       "        -5.38616478e-01,  8.62920702e-01, -8.13099444e-02,\n",
       "         2.50894725e-01, -5.65355346e-02, -6.34378791e-01,\n",
       "         1.62114426e-01, -2.86731243e-01, -1.09964699e-01,\n",
       "         2.93197613e-02, -3.41024343e-03,  2.30852693e-01,\n",
       "         4.37406152e-01,  3.38827938e-01,  9.45213251e-03,\n",
       "         3.35496098e-01,  4.93851453e-01, -3.69485110e-01,\n",
       "         4.73208308e-01,  4.78464127e-01, -2.40364388e-01,\n",
       "        -3.42521340e-01,  6.54881477e-01,  7.69620463e-02,\n",
       "        -4.54496562e-01,  7.63680711e-02, -8.21908593e-01,\n",
       "        -1.35062233e-01, -1.26521438e-01, -9.24074948e-01,\n",
       "        -3.72711807e-01, -1.13407552e-01, -4.52392429e-01,\n",
       "         1.94867142e-02,  3.74171906e-03, -2.46156201e-01,\n",
       "         2.48549864e-01,  3.03620517e-01,  5.05399644e-01,\n",
       "         5.25399577e-03, -1.32789835e-02,  2.68804312e-01,\n",
       "        -1.04133435e-01,  3.84617269e-01,  4.53237832e-01,\n",
       "         4.13295865e-01,  1.90331057e-01,  1.78822211e-03,\n",
       "        -4.24933434e-02, -5.27868271e-01, -7.31584549e-01,\n",
       "         9.11474749e-02, -7.94629574e-01,  9.43990946e-02,\n",
       "         1.13995455e-01, -4.16805781e-02,  6.02267981e-01,\n",
       "         5.04517376e-01,  2.11507604e-01, -1.80871397e-01,\n",
       "         2.48590827e-01, -4.54184711e-01, -4.14432704e-01,\n",
       "        -2.16274589e-01,  3.14995646e-01,  2.94192463e-01,\n",
       "        -5.04187942e-01,  1.69520140e-01,  7.47760892e-01,\n",
       "         1.77677676e-01, -1.70509949e-01, -3.08597594e-01,\n",
       "         2.41335779e-01, -4.95290279e-01,  7.72289261e-02,\n",
       "         2.92650819e-01,  6.36067510e-01,  2.30490774e-01,\n",
       "         2.12019563e-01,  1.11585513e-01, -5.64236287e-03,\n",
       "        -1.46708012e-01,  2.90116310e-01,  4.00118202e-01,\n",
       "         2.81479359e-01,  4.36629057e-01,  8.29788744e-02,\n",
       "        -1.03212483e-01,  1.01899855e-01, -2.94717014e-01,\n",
       "         4.77384210e-01, -1.83466659e-03,  4.50807884e-02,\n",
       "        -1.89440817e-01,  3.98397028e-01, -5.96709728e-01,\n",
       "         1.04104422e-01, -1.48530990e-01, -5.17033517e-01,\n",
       "        -1.63849935e-01,  4.90126312e-01]], dtype=float32)"
      ]
     },
     "execution_count": 153,
     "metadata": {},
     "output_type": "execute_result"
    }
   ],
   "source": [
    "np.array([list(item) for item in vectors.values()])"
   ]
  },
  {
   "cell_type": "code",
   "execution_count": 156,
   "metadata": {
    "collapsed": false
   },
   "outputs": [
    {
     "data": {
      "text/plain": [
       "array([[2.21843491e-20, 1.41325964e-23, 4.86451094e-19, ...,\n",
       "        2.78917052e-20, 3.66733797e-20, 7.98411841e-19],\n",
       "       [2.18241299e-20, 8.70127351e-25, 2.94520165e-18, ...,\n",
       "        7.10648437e-22, 6.15684351e-23, 7.76886304e-17],\n",
       "       [3.91599678e-17, 2.07597844e-23, 3.02395089e-19, ...,\n",
       "        2.80230904e-20, 1.17759854e-21, 3.43787717e-15],\n",
       "       ...,\n",
       "       [1.89823555e-19, 1.02440598e-18, 3.50651094e-18, ...,\n",
       "        1.75494135e-19, 1.55978187e-20, 1.09943014e-16],\n",
       "       [1.41120455e-20, 1.61052122e-22, 4.07832321e-18, ...,\n",
       "        1.16693173e-20, 3.02087601e-22, 2.71739565e-18],\n",
       "       [4.30915016e-19, 8.84003628e-22, 2.11342904e-17, ...,\n",
       "        3.30178840e-19, 5.23418975e-20, 3.39813021e-17]])"
      ]
     },
     "execution_count": 156,
     "metadata": {},
     "output_type": "execute_result"
    }
   ],
   "source": [
    "np.power(np.subtract(mvee_res[1], word2vec_model[seed[1]]), 2) / np.power(mvee_res[0], 2)"
   ]
  },
  {
   "cell_type": "code",
   "execution_count": 159,
   "metadata": {
    "collapsed": false
   },
   "outputs": [
    {
     "data": {
      "text/plain": [
       "array([[ 6.12379748e+10, -1.98442405e+11, -1.13622814e+10, ...,\n",
       "        -6.36937827e+10, -1.46901870e+10, -1.83856540e+10],\n",
       "       [-6.17412895e+10,  7.99749631e+11,  4.61772023e+09, ...,\n",
       "         3.99031492e+11,  3.58528540e+11, -1.86386234e+09],\n",
       "       [ 1.45754846e+09, -1.63732178e+11,  1.44111211e+10, ...,\n",
       "        -6.35442943e+10,  8.19792915e+10, -2.80186618e+08],\n",
       "       ...,\n",
       "       [-2.09348143e+10,  7.37071140e+08, -4.23201829e+09, ...,\n",
       "         2.53923720e+10, -2.25253141e+10,  1.56678263e+09],\n",
       "       [-7.67801896e+10, -5.87844194e+10, -3.92413838e+09, ...,\n",
       "         9.84717941e+10,  1.61858809e+11,  9.96589092e+09],\n",
       "       [-1.38946737e+10,  2.50910268e+10,  1.72381756e+09, ...,\n",
       "         1.85122820e+10,  1.22964022e+10,  2.81820486e+09]])"
      ]
     },
     "execution_count": 159,
     "metadata": {},
     "output_type": "execute_result"
    }
   ],
   "source": [
    "mvee_res[0]"
   ]
  },
  {
   "cell_type": "code",
   "execution_count": 29,
   "metadata": {
    "collapsed": false
   },
   "outputs": [],
   "source": [
    "from algorithm.kgvec2go_vectors_simple import run_method, load_gensim_model\n",
    "from excludes.basic_excludes import (node_excl_yago_func, node_excl_extra,\n",
    "                                     node_excl_owlthing_func, node_excl_wiki_func)\n",
    "from loaders.loaders import *\n",
    "from evaluation.split_dataset import split_on_seed_dataset\n",
    "import json\n",
    "import pickle\n",
    "import os\n",
    "from tqdm import tqdm\n",
    "\n",
    "\n",
    "exclude_paths = [\n",
    "    [\"\", \"http://www.w3.org/1999/02/22-rdf-syntax-ns#type\", \"http://www.w3.org/2004/02/skos/core#Concept\"]\n",
    "]\n",
    "relation_excludes = [\"http://xmlns.com/foaf/0.1/primaryTopic\",\n",
    "                     \"http://dbpedia.org/property/isCitedBy\",\n",
    "                     \"http://dbpedia.org/ontology/wikiPageWikiLink\",\n",
    "                     \"http://dbpedia.org/ontology/wikiPageWikiLinkText\",\n",
    "                     \"http://dbpedia.org/property/wikiPageUsesTemplate\",\n",
    "                     'http://dbpedia.org/ontology/wikiPageRedirects',\n",
    "                     'http://dbpedia.org/ontology/wikiPageOutDegree',\n",
    "                     \"http://dbpedia.org/ontology/abstract\",\n",
    "                     \"http://www.w3.org/2000/01/rdf-schema#comment\", ]\n",
    "\n",
    "res_excludes_inside_point_relation = [\"http://purl.org/linguistics/gold/hypernym\",\n",
    "                                      \"http://www.w3.org/1999/02/22-rdf-syntax-ns#type\"]\n",
    "res_excludes_inside_point_node = []\n",
    "node_excludes_funcs = [node_excl_wiki_func, node_excl_owlthing_func, node_excl_yago_func, node_excl_extra]\n",
    "\n",
    "SEED = 44\n",
    "SAMPLE_SIZE = 4\n",
    "verbose = 1\n",
    "\n",
    "#Dataset load\n",
    "#lc_quad_train = load_lc_quad_train()\n",
    "\n",
    "lc_quad_train = load_on_path(ds_lc_quad_train_cleaned)\n",
    "splitted_lcquad = split_on_seed_dataset(lc_quad_train, SAMPLE_SIZE, SEED)\n",
    "\n",
    "#splitted_lcquad = load_on_path_pickle(\"/home/kardosp/continuethelist/outputs/graphwalk_v2_output_sample4.pickle\")\n",
    "\n",
    "cwd = \"/home/kardosp/continuethelist/dbpedia_vectors/kgvec2go\"\n",
    "word2vec_path = os.path.join(cwd, 'model.kv')\n",
    "wv_model = load_gensim_model(word2vec_path)\n",
    "missing_counter = 0\n"
   ]
  },
  {
   "cell_type": "code",
   "execution_count": 30,
   "metadata": {
    "collapsed": false
   },
   "outputs": [],
   "source": [
    "from gensim.models import Word2Vec, KeyedVectors\n",
    "from gensim import models\n",
    "import numpy as np\n",
    "from scipy.spatial.distance import cdist\n",
    "from sklearn.neighbors import RadiusNeighborsClassifier\n",
    "from copy import copy\n",
    "\n",
    "\n",
    "def load_gensim_model(path):\n",
    "    w2v_model = models.KeyedVectors.load(\n",
    "        path, mmap=\"r\"\n",
    "    )\n",
    "    return w2v_model\n",
    "\n",
    "\n",
    "def ellipse_rectangle_dist(center, radius, point, eps=1e-4):\n",
    "    res = np.max(np.power(np.divide(np.subtract(center, point), radius), 2))\n",
    "    # res = np.sum(np.power(np.divide(np.subtract(center, point), radius), 2))\n",
    "    return res\n",
    "\n",
    "\n",
    "def get_radius(center, seed):\n",
    "    return np.max(np.abs(np.array(seed) - np.array(center)), axis=0)\n"
   ]
  },
  {
   "cell_type": "code",
   "execution_count": null,
   "metadata": {
    "collapsed": false,
    "pycharm": {
     "name": "#%%\n"
    }
   },
   "outputs": [],
   "source": [
    "record = splitted_lcquad[0]\n",
    "seed = record[\"seed\"]\n",
    "vectors = dict()\n",
    "missing = 0\n",
    "for item in seed:\n",
    "    try:\n",
    "        vectors[item] = list(wv_model[item])\n",
    "    except Exception as e:\n",
    "        missing += 1\n",
    "if missing == len(seed):\n",
    "    print(\"Sztoj\")\n",
    "center_vector = np.mean(list(vectors.values()), axis=0)\n",
    "closer_elements = list()\n",
    "\n",
    "radius = get_radius(center_vector, list(vectors.values()))\n",
    "all_l1ellipse_dist = cdist([center_vector], wv_model.vectors, metric=lambda x, y: ellipse_rectangle_dist(x, radius, y))\n",
    "all_l1ellipse_dist_1d = all_l1ellipse_dist[0]\n",
    "sorted_distances = all_l1ellipse_dist_1d.argsort()\n",
    "\n",
    "for index in sorted_distances.argsort():\n",
    "    if all_l1ellipse_dist_1d[index] <= 1.0:\n",
    "        closer_elements.append((index, all_l1ellipse_dist_1d[index]))\n",
    "    else:\n",
    "        break\n",
    "prediction = [wv_model.index_to_key[item[0]] for item in closer_elements]\n",
    "\n",
    "# distance_result = cdist([center_vector], [wv_model.vectors], metric=lambda x, y: is_inside_ellipse(x, radius, y))"
   ]
  },
  {
   "cell_type": "code",
   "execution_count": null,
   "metadata": {
    "collapsed": false,
    "pycharm": {
     "name": "#%%\n"
    }
   },
   "outputs": [],
   "source": [
    "ellipse_rectangle_dist(center_vector, radius, list(vectors.values())[0])"
   ]
  },
  {
   "cell_type": "code",
   "execution_count": null,
   "metadata": {
    "collapsed": false,
    "pycharm": {
     "name": "#%%\n"
    }
   },
   "outputs": [],
   "source": [
    "from copy import copy\n",
    "all_l1ellipse_dist_1d_sorted = copy(all_l1ellipse_dist_1d)\n",
    "all_l1ellipse_dist_1d_sorted.sort()\n",
    "all_l1ellipse_dist_1d_sorted"
   ]
  },
  {
   "cell_type": "code",
   "execution_count": null,
   "metadata": {
    "collapsed": false,
    "pycharm": {
     "name": "#%%\n"
    }
   },
   "outputs": [],
   "source": [
    "all_l1ellipse_dist_1d.sort()\n",
    "all_l1ellipse_dist_1d"
   ]
  },
  {
   "cell_type": "code",
   "execution_count": null,
   "metadata": {
    "collapsed": false,
    "pycharm": {
     "name": "#%%\n"
    }
   },
   "outputs": [],
   "source": [
    "all_l1ellipse_dist_1d.argsort()"
   ]
  },
  {
   "cell_type": "code",
   "execution_count": null,
   "metadata": {
    "collapsed": false,
    "pycharm": {
     "name": "#%%\n"
    }
   },
   "outputs": [],
   "source": [
    "all_l1ellipse_dist_1d.argsort()[::-1]"
   ]
  },
  {
   "cell_type": "code",
   "execution_count": null,
   "metadata": {
    "collapsed": false,
    "pycharm": {
     "name": "#%%\n"
    }
   },
   "outputs": [],
   "source": [
    "all_l1ellipse_dist_1d[1016]"
   ]
  },
  {
   "cell_type": "code",
   "execution_count": null,
   "metadata": {
    "collapsed": false,
    "pycharm": {
     "name": "#%%\n"
    }
   },
   "outputs": [],
   "source": [
    "all_l1ellipse_dist_1d[118310]"
   ]
  },
  {
   "cell_type": "code",
   "execution_count": null,
   "metadata": {
    "collapsed": false,
    "pycharm": {
     "name": "#%%\n"
    }
   },
   "outputs": [],
   "source": [
    "all_l1ellipse_dist_1d = all_l1ellipse_dist[0]\n",
    "sorted_distances = all_l1ellipse_dist_1d.argsort()\n",
    "\n",
    "for index in sorted_distances:\n",
    "    print(index, all_l1ellipse_dist_1d[index])\n",
    "    if all_l1ellipse_dist_1d[index] <= 1.0:\n",
    "        closer_elements.append((index, all_l1ellipse_dist_1d[index]))\n",
    "    else:\n",
    "        break\n",
    "prediction = [wv_model.index_to_key[item[0]] for item in closer_elements]"
   ]
  },
  {
   "cell_type": "code",
   "execution_count": null,
   "metadata": {
    "collapsed": false,
    "pycharm": {
     "name": "#%%\n"
    }
   },
   "outputs": [],
   "source": [
    "prediction"
   ]
  },
  {
   "cell_type": "code",
   "execution_count": null,
   "metadata": {
    "collapsed": false,
    "pycharm": {
     "name": "#%%\n"
    }
   },
   "outputs": [],
   "source": [
    "record"
   ]
  },
  {
   "cell_type": "code",
   "execution_count": 49,
   "metadata": {
    "collapsed": false
   },
   "outputs": [
    {
     "data": {
      "text/plain": [
       "1.0"
      ]
     },
     "execution_count": 49,
     "metadata": {},
     "output_type": "execute_result"
    }
   ],
   "source": [
    "all_l1ellipse_dist_1d[1016]"
   ]
  },
  {
   "cell_type": "code",
   "execution_count": 50,
   "metadata": {
    "collapsed": false
   },
   "outputs": [
    {
     "data": {
      "text/plain": [
       "1330.4549560546875"
      ]
     },
     "execution_count": 50,
     "metadata": {},
     "output_type": "execute_result"
    }
   ],
   "source": [
    "all_l1ellipse_dist_1d[118310]"
   ]
  },
  {
   "cell_type": "code",
   "execution_count": 56,
   "metadata": {
    "collapsed": false
   },
   "outputs": [
    {
     "name": "stdout",
     "output_type": "stream",
     "text": [
      "1016 1.0\n",
      "1803 1.0\n",
      "76324 1.0\n",
      "2129 1.0\n",
      "3574303 4.064646244049072\n"
     ]
    }
   ],
   "source": [
    "all_l1ellipse_dist_1d = all_l1ellipse_dist[0]\n",
    "sorted_distances = all_l1ellipse_dist_1d.argsort()\n",
    "\n",
    "for index in sorted_distances:\n",
    "    print(index, all_l1ellipse_dist_1d[index])\n",
    "    if all_l1ellipse_dist_1d[index] <= 1.0:\n",
    "        closer_elements.append((index, all_l1ellipse_dist_1d[index]))\n",
    "    else:\n",
    "        break\n",
    "prediction = [wv_model.index_to_key[item[0]] for item in closer_elements]"
   ]
  },
  {
   "cell_type": "code",
   "execution_count": 57,
   "metadata": {
    "collapsed": false
   },
   "outputs": [
    {
     "data": {
      "text/plain": [
       "['http://dbpedia.org/resource/San_Francisco',\n",
       " 'http://dbpedia.org/resource/Seattle',\n",
       " 'http://dbpedia.org/resource/Westminster,_Colorado',\n",
       " 'http://dbpedia.org/resource/Tamil_Nadu']"
      ]
     },
     "execution_count": 57,
     "metadata": {},
     "output_type": "execute_result"
    }
   ],
   "source": [
    "prediction"
   ]
  },
  {
   "cell_type": "code",
   "execution_count": 58,
   "metadata": {
    "collapsed": false
   },
   "outputs": [
    {
     "data": {
      "text/plain": [
       "{'_id': '2413',\n",
       " 'corrected_question': 'Starwood operates in which places?',\n",
       " 'intermediary_question': 'What is the <address> of the <hotels> whose <operator> is <Starwood Hotels and Resorts Worldwide>?',\n",
       " 'sparql_query': 'SELECT DISTINCT ?uri WHERE { ?x <http://dbpedia.org/property/operator> <http://dbpedia.org/resource/Starwood_Hotels_and_Resorts_Worldwide> . ?x <http://dbpedia.org/property/address> ?uri  . }',\n",
       " 'sparql_template_id': 5,\n",
       " 'result': ['181',\n",
       "  'http://dbpedia.org/resource/California',\n",
       "  'http://dbpedia.org/resource/San_Francisco',\n",
       "  '2',\n",
       "  'Calle San Fernando, 2',\n",
       "  '1',\n",
       "  'http://dbpedia.org/resource/Chennai',\n",
       "  'http://dbpedia.org/resource/Tamil_Nadu',\n",
       "  'Krakowskie Przedmiescie 42/44',\n",
       "  '1900',\n",
       "  'http://dbpedia.org/resource/Seattle',\n",
       "  '811',\n",
       "  '333',\n",
       "  '210',\n",
       "  'http://dbpedia.org/resource/Atlanta',\n",
       "  '10600',\n",
       "  'http://dbpedia.org/resource/Westminster,_Colorado',\n",
       "  'Main Gulshan Avenue, Plot-01, Road 45, Gulshan-2, Dhaka 1212, Bangladesh',\n",
       "  '211',\n",
       "  'http://dbpedia.org/resource/San_Jose,_California'],\n",
       " 'graph': [['?x',\n",
       "   '<http://dbpedia.org/property/operator>',\n",
       "   '<http://dbpedia.org/resource/Starwood_Hotels_and_Resorts_Worldwide>'],\n",
       "  ['?x', '<http://dbpedia.org/property/address>', '?uri']],\n",
       " 'result_cleaned': ['http://dbpedia.org/resource/California',\n",
       "  'http://dbpedia.org/resource/San_Francisco',\n",
       "  'Calle San Fernando, 2',\n",
       "  'http://dbpedia.org/resource/Chennai',\n",
       "  'http://dbpedia.org/resource/Tamil_Nadu',\n",
       "  'Krakowskie Przedmiescie 42/44',\n",
       "  'http://dbpedia.org/resource/Seattle',\n",
       "  'http://dbpedia.org/resource/Atlanta',\n",
       "  'http://dbpedia.org/resource/Westminster,_Colorado',\n",
       "  'Main Gulshan Avenue, Plot-01, Road 45, Gulshan-2, Dhaka 1212, Bangladesh',\n",
       "  'http://dbpedia.org/resource/San_Jose,_California'],\n",
       " 'result_urlonly': ['http://dbpedia.org/resource/California',\n",
       "  'http://dbpedia.org/resource/San_Francisco',\n",
       "  'http://dbpedia.org/resource/Chennai',\n",
       "  'http://dbpedia.org/resource/Tamil_Nadu',\n",
       "  'http://dbpedia.org/resource/Seattle',\n",
       "  'http://dbpedia.org/resource/Atlanta',\n",
       "  'http://dbpedia.org/resource/Westminster,_Colorado',\n",
       "  'http://dbpedia.org/resource/San_Jose,_California'],\n",
       " 'seed': ['http://dbpedia.org/resource/Westminster,_Colorado',\n",
       "  'http://dbpedia.org/resource/San_Francisco',\n",
       "  'http://dbpedia.org/resource/Tamil_Nadu',\n",
       "  'http://dbpedia.org/resource/Seattle'],\n",
       " 'gold': ['http://dbpedia.org/resource/Atlanta',\n",
       "  'http://dbpedia.org/resource/Chennai',\n",
       "  'http://dbpedia.org/resource/California',\n",
       "  'http://dbpedia.org/resource/San_Jose,_California']}"
      ]
     },
     "execution_count": 58,
     "metadata": {},
     "output_type": "execute_result"
    }
   ],
   "source": [
    "record"
   ]
  },
  {
   "cell_type": "code",
   "execution_count": null,
   "metadata": {
    "collapsed": false
   },
   "outputs": [],
   "source": []
  }
 ],
 "metadata": {
  "kernelspec": {
   "display_name": "Python [conda env:continue] *",
   "language": "python",
   "name": "conda-env-continue-py"
  },
  "language_info": {
   "codemirror_mode": {
    "name": "ipython",
    "version": 2
   },
   "file_extension": ".py",
   "mimetype": "text/x-python",
   "name": "python",
   "nbconvert_exporter": "python",
   "pygments_lexer": "ipython2",
   "version": "2.7.6"
  }
 },
 "nbformat": 4,
 "nbformat_minor": 0
}
