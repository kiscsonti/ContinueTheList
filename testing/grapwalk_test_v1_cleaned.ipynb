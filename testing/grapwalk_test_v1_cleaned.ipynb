{
 "cells": [
  {
   "cell_type": "code",
   "execution_count": 29,
   "metadata": {
    "collapsed": false
   },
   "outputs": [
    {
     "name": "stdout",
     "output_type": "stream",
     "text": [
      "The autoreload extension is already loaded. To reload it, use:\n",
      "  %reload_ext autoreload\n"
     ]
    }
   ],
   "source": [
    "import pandas as pd\n",
    "%load_ext autoreload\n",
    "%autoreload 2"
   ]
  },
  {
   "cell_type": "code",
   "execution_count": 77,
   "metadata": {
    "collapsed": false
   },
   "outputs": [],
   "source": [
    "import os\n",
    "import sys\n",
    "module_path = os.path.abspath(os.path.join('..'))\n",
    "if module_path not in sys.path:\n",
    "    sys.path.append(module_path)"
   ]
  },
  {
   "cell_type": "code",
   "execution_count": 78,
   "metadata": {
    "collapsed": false
   },
   "outputs": [],
   "source": [
    "from evaluation.evaluate_script import *\n",
    "from loaders.loaders import *\n",
    "from query.query_functions import *\n",
    "from algorithm.grapwalk_functions_v1 import (node_excl_wiki_func, node_excl_owlthing_func, node_excl_yago_func, node_excl_extra,\n",
    "                                             get_task_solution, clear_results, complex_partly_query_run, get_backward1,\n",
    "                                             COUNT_construct_and_run_query_from_list)\n",
    "\n",
    "import random\n",
    "from collections import defaultdict\n",
    "import numpy as np"
   ]
  },
  {
   "cell_type": "code",
   "execution_count": 89,
   "metadata": {
    "collapsed": false
   },
   "outputs": [],
   "source": [
    "lc_quad_train = load_on_path(ds_lc_quad_train_cleaned)"
   ]
  },
  {
   "cell_type": "code",
   "execution_count": 90,
   "metadata": {
    "collapsed": false
   },
   "outputs": [],
   "source": [
    "sample_size = 4\n",
    "seed = 42\n",
    "i = 99\n",
    "random.seed(seed)\n",
    "record = lc_quad_train[i]\n",
    "record_seed = random.sample(record[\"result_urlonly\"], sample_size)\n",
    "record_gold = list(set(record[\"result_urlonly\"]) - set(record_seed))"
   ]
  },
  {
   "cell_type": "code",
   "execution_count": 91,
   "metadata": {
    "collapsed": false
   },
   "outputs": [
    {
     "data": {
      "text/plain": [
       "{'_id': '1729',\n",
       " 'corrected_question': 'What other destinations do airlines go to, whose flights also come to Glasgow?',\n",
       " 'intermediary_question': 'What is the <destinations> of the <airlines> whose <target airport> is <Glasgow Airport>?',\n",
       " 'sparql_query': 'SELECT DISTINCT ?uri WHERE { ?x <http://dbpedia.org/ontology/targetAirport> <http://dbpedia.org/resource/Glasgow_Airport> . ?x <http://dbpedia.org/property/destinations> ?uri  . ?x <http://www.w3.org/1999/02/22-rdf-syntax-ns#type> <http://dbpedia.org/ontology/Airline>}',\n",
       " 'sparql_template_id': 305,\n",
       " 'result': ['58',\n",
       "  '42',\n",
       "  '95',\n",
       "  '102',\n",
       "  '24',\n",
       "  '96',\n",
       "  'http://dbpedia.org/resource/Caribbean',\n",
       "  'http://dbpedia.org/resource/Europe',\n",
       "  'http://dbpedia.org/resource/North_America',\n",
       "  '15',\n",
       "  'http://dbpedia.org/resource/Aberdeen',\n",
       "  'http://dbpedia.org/resource/Belfast',\n",
       "  'http://dbpedia.org/resource/Glasgow',\n",
       "  'http://dbpedia.org/resource/London',\n",
       "  'http://dbpedia.org/resource/Manchester',\n",
       "  '0',\n",
       "  'http://dbpedia.org/resource/Africa',\n",
       "  '30'],\n",
       " 'graph': [['?x',\n",
       "   '<http://dbpedia.org/ontology/targetAirport>',\n",
       "   '<http://dbpedia.org/resource/Glasgow_Airport>'],\n",
       "  ['?x', '<http://dbpedia.org/property/destinations>', '?uri'],\n",
       "  ['?x',\n",
       "   '<http://www.w3.org/1999/02/22-rdf-syntax-ns#type>',\n",
       "   '<http://dbpedia.org/ontology/Airline>']],\n",
       " 'result_cleaned': ['http://dbpedia.org/resource/Caribbean',\n",
       "  'http://dbpedia.org/resource/Europe',\n",
       "  'http://dbpedia.org/resource/North_America',\n",
       "  'http://dbpedia.org/resource/Aberdeen',\n",
       "  'http://dbpedia.org/resource/Belfast',\n",
       "  'http://dbpedia.org/resource/Glasgow',\n",
       "  'http://dbpedia.org/resource/London',\n",
       "  'http://dbpedia.org/resource/Manchester',\n",
       "  'http://dbpedia.org/resource/Africa'],\n",
       " 'result_urlonly': ['http://dbpedia.org/resource/Caribbean',\n",
       "  'http://dbpedia.org/resource/Europe',\n",
       "  'http://dbpedia.org/resource/North_America',\n",
       "  'http://dbpedia.org/resource/Aberdeen',\n",
       "  'http://dbpedia.org/resource/Belfast',\n",
       "  'http://dbpedia.org/resource/Glasgow',\n",
       "  'http://dbpedia.org/resource/London',\n",
       "  'http://dbpedia.org/resource/Manchester',\n",
       "  'http://dbpedia.org/resource/Africa']}"
      ]
     },
     "execution_count": 91,
     "metadata": {},
     "output_type": "execute_result"
    }
   ],
   "source": [
    "record"
   ]
  },
  {
   "cell_type": "code",
   "execution_count": 92,
   "metadata": {
    "collapsed": false
   },
   "outputs": [],
   "source": [
    "exclude_paths = [\n",
    "    [\"\", \"http://www.w3.org/1999/02/22-rdf-syntax-ns#type\", \"http://www.w3.org/2004/02/skos/core#Concept\"]\n",
    "]\n",
    "relation_excludes = [\"http://xmlns.com/foaf/0.1/primaryTopic\",\n",
    "                     \"http://dbpedia.org/property/isCitedBy\",\n",
    "                     \"http://dbpedia.org/ontology/wikiPageWikiLink\",\n",
    "                     \"http://dbpedia.org/ontology/wikiPageWikiLinkText\",\n",
    "                     \"http://dbpedia.org/property/wikiPageUsesTemplate\",\n",
    "                     \"http://dbpedia.org/ontology/abstract\",\n",
    "                     \"http://www.w3.org/2000/01/rdf-schema#comment\", ]\n",
    "\n",
    "res_excludes_inside_point_relation = [\"http://purl.org/linguistics/gold/hypernym\",\n",
    "                                      \"http://www.w3.org/1999/02/22-rdf-syntax-ns#type\"]\n",
    "res_excludes_inside_point_node = []\n",
    "node_excludes_funcs = [node_excl_wiki_func, node_excl_owlthing_func, node_excl_yago_func, node_excl_extra]"
   ]
  },
  {
   "cell_type": "code",
   "execution_count": 93,
   "metadata": {
    "collapsed": false
   },
   "outputs": [
    {
     "name": "stdout",
     "output_type": "stream",
     "text": [
      "Forward Done!\n",
      "Backward Done!\n"
     ]
    },
    {
     "name": "stderr",
     "output_type": "stream",
     "text": [
      "100%|███████████████████████████████████████████| 29/29 [05:09<00:00, 10.69s/it]"
     ]
    },
    {
     "name": "stdout",
     "output_type": "stream",
     "text": [
      "Backward Inside Point Done!\n",
      "res_forward 2\n",
      "res_backward 0\n",
      "res_backward2 17\n"
     ]
    },
    {
     "name": "stderr",
     "output_type": "stream",
     "text": [
      "\n"
     ]
    }
   ],
   "source": [
    "result = get_task_solution(record_seed, exclude_paths, relation_excludes, node_excludes_funcs)"
   ]
  },
  {
   "cell_type": "code",
   "execution_count": 86,
   "metadata": {
    "collapsed": false
   },
   "outputs": [
    {
     "name": "stdout",
     "output_type": "stream",
     "text": [
      "Forward Done!\n",
      "Backward Done!\n"
     ]
    },
    {
     "name": "stderr",
     "output_type": "stream",
     "text": [
      "100%|███████████████████████████████████████████| 24/24 [01:20<00:00,  3.36s/it]\n"
     ]
    },
    {
     "name": "stdout",
     "output_type": "stream",
     "text": [
      "Backward Inside Point Done!\n",
      "res_forward 2\n",
      "res_backward 0\n",
      "res_backward2 47\n",
      "record_seed ['http://dbpedia.org/resource/Caribbean', 'http://dbpedia.org/resource/Belfast', 'http://dbpedia.org/resource/Africa', 'http://dbpedia.org/resource/Aberdeen']\n",
      "record_results:  {'http://dbpedia.org/resource/Brazil', 'http://dbpedia.org/resource/Queensland', 'http://dbpedia.org/resource/Singapore', 'http://dbpedia.org/resource/Germany', 'http://dbpedia.org/resource/Poland', 'http://dbpedia.org/resource/Hamburg', 'http://dbpedia.org/resource/Gujarat', 'http://dbpedia.org/resource/Israel', 'http://dbpedia.org/resource/Argentina', 'http://dbpedia.org/resource/England', 'http://dbpedia.org/resource/Uruguay', 'http://dbpedia.org/resource/Tehran', 'http://dbpedia.org/resource/Canada', 'http://dbpedia.org/resource/Pakistan', 'http://dbpedia.org/resource/Hungary', 'http://dbpedia.org/resource/Bristol', 'http://dbpedia.org/resource/Slovakia', 'http://dbpedia.org/resource/Algeria', 'http://dbpedia.org/resource/Kenya', 'http://dbpedia.org/resource/Switzerland', 'http://dbpedia.org/resource/Warwickshire', 'http://dbpedia.org/resource/Caribbean', 'http://dbpedia.org/resource/Portugal', 'http://dbpedia.org/resource/Finland', 'http://dbpedia.org/resource/Bulgaria', 'http://dbpedia.org/resource/Namibia', 'http://dbpedia.org/resource/Chile', 'http://dbpedia.org/resource/Afghanistan', 'http://dbpedia.org/resource/Ecuador', 'http://dbpedia.org/resource/Peru', 'http://dbpedia.org/resource/Iran', 'http://dbpedia.org/resource/Mumbai', 'http://dbpedia.org/resource/Spain', 'http://dbpedia.org/resource/Zimbabwe', 'http://dbpedia.org/resource/France', 'http://dbpedia.org/resource/Pennsylvania', 'http://dbpedia.org/resource/Italy', 'http://dbpedia.org/resource/Greece', 'http://dbpedia.org/resource/Taiwan', 'http://dbpedia.org/resource/Scotland', 'http://dbpedia.org/resource/Denmark', 'http://dbpedia.org/resource/Ottawa', 'http://dbpedia.org/resource/Nigeria', 'http://dbpedia.org/resource/Malaysia', 'http://dbpedia.org/resource/Toronto', 'http://dbpedia.org/resource/Indonesia', 'http://dbpedia.org/resource/Belfast', 'http://dbpedia.org/resource/Cyprus', 'http://dbpedia.org/resource/Kuwait', 'http://dbpedia.org/resource/Brisbane', 'http://dbpedia.org/resource/Melbourne', 'http://dbpedia.org/resource/Russia', 'http://dbpedia.org/resource/Texas', 'http://dbpedia.org/resource/Austria', 'http://dbpedia.org/resource/Lebanon', 'http://dbpedia.org/resource/Estonia', 'http://dbpedia.org/resource/Wales', 'http://dbpedia.org/resource/Yorkshire', 'http://dbpedia.org/resource/Croatia', 'http://dbpedia.org/resource/Ireland', 'http://dbpedia.org/resource/Massachusetts', 'http://dbpedia.org/resource/Tasmania', 'http://dbpedia.org/resource/Colombia', 'http://dbpedia.org/resource/Tunisia', 'http://dbpedia.org/resource/Sweden', 'http://dbpedia.org/resource/Kerala', 'http://dbpedia.org/resource/Quebec', 'http://dbpedia.org/resource/Egypt', 'http://dbpedia.org/resource/Iraq', 'http://dbpedia.org/resource/Luxembourg', 'http://dbpedia.org/resource/Delhi', 'http://dbpedia.org/resource/Tokyo', 'http://dbpedia.org/resource/Perth', 'http://dbpedia.org/resource/Jamaica', 'http://dbpedia.org/resource/Ontario', 'http://dbpedia.org/resource/London', 'http://dbpedia.org/resource/Zambia', 'http://dbpedia.org/resource/Sydney', 'http://dbpedia.org/resource/Dubai', 'http://dbpedia.org/resource/Africa', 'http://dbpedia.org/resource/Montenegro', 'http://dbpedia.org/resource/Lithuania', 'http://dbpedia.org/resource/Panama', 'http://dbpedia.org/resource/China', 'http://dbpedia.org/resource/India', 'http://dbpedia.org/resource/Mexico', 'http://dbpedia.org/resource/Oslo', 'http://dbpedia.org/resource/Montreal', 'http://dbpedia.org/resource/Australia', 'http://dbpedia.org/resource/Belgium', 'http://dbpedia.org/resource/Ukraine', 'http://dbpedia.org/resource/Netherlands', 'http://dbpedia.org/resource/Connecticut', 'http://dbpedia.org/resource/Morocco', 'http://dbpedia.org/resource/Japan', 'http://dbpedia.org/resource/Aberdeen', 'http://dbpedia.org/resource/Norway', 'http://dbpedia.org/resource/Adelaide', 'http://dbpedia.org/resource/Malta'}\n",
      "forward 2 2\n",
      "backward2 47 40\n",
      "len record_results:  99\n"
     ]
    }
   ],
   "source": [
    "from algorithm.grapwalk_functions_v1 import run_grapwalk_function_v1\n",
    "result, explanation = run_grapwalk_function_v1(record_seed, exclude_paths, relation_excludes,\n",
    "                                               node_excludes_funcs, verbose=1)"
   ]
  },
  {
   "cell_type": "code",
   "execution_count": 58,
   "metadata": {
    "collapsed": false
   },
   "outputs": [
    {
     "name": "stdout",
     "output_type": "stream",
     "text": [
      "None\n"
     ]
    }
   ],
   "source": [
    "from query.query_functions import get_all_triplets_from_ro_excludes\n",
    "a = \"http://dbpedia.org/resource/Caribbean\"\n",
    "b =\"http://purl.org/dc/terms/subject\"\n",
    "inside_points_raw = get_all_triplets_from_ro_excludes(a, b, excludes=exclude_paths)\n",
    "print(inside_points_raw)"
   ]
  },
  {
   "cell_type": "code",
   "execution_count": 48,
   "metadata": {
    "collapsed": false
   },
   "outputs": [],
   "source": [
    "asd = [{'y': {'type': 'uri', 'value': 'http://dbpedia.org/resource/Society_of_Advocates_in_Aberdeen'}}, {'y': {'type': 'uri', 'value': 'http://dbpedia.org/resource/Aberdeen_City_Youth_Council'}}]"
   ]
  },
  {
   "cell_type": "code",
   "execution_count": 49,
   "metadata": {
    "collapsed": false
   },
   "outputs": [
    {
     "name": "stdout",
     "output_type": "stream",
     "text": [
      "['http://dbpedia.org/resource/Society_of_Advocates_in_Aberdeen', 'http://dbpedia.org/resource/Aberdeen_City_Youth_Council']\n"
     ]
    }
   ],
   "source": [
    "print([item[\"y\"][\"value\"] for item in asd])"
   ]
  },
  {
   "cell_type": "code",
   "execution_count": null,
   "metadata": {
    "collapsed": false
   },
   "outputs": [],
   "source": [
    "filtered_results = defaultdict(list)\n",
    "for k, v in result.items():\n",
    "    filtered_results[k] = clear_results(v)\n",
    "\n",
    "backward2 = list(map(lambda x: [x, COUNT_construct_and_run_query_from_list(x)], filtered_results[\"backward2\"]))\n",
    "filtered_results[\"backward2\"] = sorted(backward2, key=lambda x: x[1])"
   ]
  },
  {
   "cell_type": "code",
   "execution_count": 9,
   "metadata": {
    "collapsed": false
   },
   "outputs": [
    {
     "ename": "NameError",
     "evalue": "name 'filtered_results' is not defined",
     "output_type": "error",
     "traceback": [
      "\u001b[0;31m---------------------------------------------------------------------------\u001b[0m",
      "\u001b[0;31mNameError\u001b[0m                                 Traceback (most recent call last)",
      "Cell \u001b[0;32mIn[9], line 1\u001b[0m\n\u001b[0;32m----> 1\u001b[0m \u001b[43mfiltered_results\u001b[49m[\u001b[38;5;124m\"\u001b[39m\u001b[38;5;124mbackward2\u001b[39m\u001b[38;5;124m\"\u001b[39m]\n",
      "\u001b[0;31mNameError\u001b[0m: name 'filtered_results' is not defined"
     ]
    }
   ],
   "source": [
    "filtered_results[\"backward2\"]"
   ]
  },
  {
   "cell_type": "code",
   "execution_count": 155,
   "metadata": {
    "collapsed": false
   },
   "outputs": [],
   "source": [
    "THRESHOLD = np.mean([item[1] for item in filtered_results[\"backward2\"]])\n"
   ]
  },
  {
   "cell_type": "code",
   "execution_count": 159,
   "metadata": {
    "collapsed": true
   },
   "outputs": [
    {
     "name": "stderr",
     "output_type": "stream",
     "text": [
      "  1%|▎                                          | 2/266 [00:00<00:41,  6.41it/s]"
     ]
    },
    {
     "name": "stdout",
     "output_type": "stream",
     "text": [
      "6\n",
      "6\n"
     ]
    },
    {
     "name": "stderr",
     "output_type": "stream",
     "text": [
      "  2%|▋                                          | 4/266 [00:00<00:41,  6.31it/s]"
     ]
    },
    {
     "name": "stdout",
     "output_type": "stream",
     "text": [
      "8\n",
      "8\n"
     ]
    },
    {
     "name": "stderr",
     "output_type": "stream",
     "text": [
      "  2%|▉                                          | 6/266 [00:00<00:40,  6.36it/s]"
     ]
    },
    {
     "name": "stdout",
     "output_type": "stream",
     "text": [
      "7\n",
      "7\n"
     ]
    },
    {
     "name": "stderr",
     "output_type": "stream",
     "text": [
      "  3%|█▎                                         | 8/266 [00:01<00:40,  6.41it/s]"
     ]
    },
    {
     "name": "stdout",
     "output_type": "stream",
     "text": [
      "7\n",
      "7\n"
     ]
    },
    {
     "name": "stderr",
     "output_type": "stream",
     "text": [
      "  4%|█▌                                        | 10/266 [00:01<00:39,  6.43it/s]"
     ]
    },
    {
     "name": "stdout",
     "output_type": "stream",
     "text": [
      "6\n",
      "6\n"
     ]
    },
    {
     "name": "stderr",
     "output_type": "stream",
     "text": [
      "  5%|█▉                                        | 12/266 [00:01<00:39,  6.36it/s]"
     ]
    },
    {
     "name": "stdout",
     "output_type": "stream",
     "text": [
      "5\n",
      "5\n"
     ]
    },
    {
     "name": "stderr",
     "output_type": "stream",
     "text": [
      "  5%|██▏                                       | 14/266 [00:02<00:39,  6.31it/s]"
     ]
    },
    {
     "name": "stdout",
     "output_type": "stream",
     "text": [
      "6\n",
      "6\n"
     ]
    },
    {
     "name": "stderr",
     "output_type": "stream",
     "text": [
      "  6%|██▌                                       | 16/266 [00:02<00:39,  6.26it/s]"
     ]
    },
    {
     "name": "stdout",
     "output_type": "stream",
     "text": [
      "5\n",
      "5\n"
     ]
    },
    {
     "name": "stderr",
     "output_type": "stream",
     "text": [
      "  7%|██▊                                       | 18/266 [00:02<00:39,  6.31it/s]"
     ]
    },
    {
     "name": "stdout",
     "output_type": "stream",
     "text": [
      "10\n",
      "10\n"
     ]
    },
    {
     "name": "stderr",
     "output_type": "stream",
     "text": [
      "  8%|███▏                                      | 20/266 [00:03<00:38,  6.38it/s]"
     ]
    },
    {
     "name": "stdout",
     "output_type": "stream",
     "text": [
      "6\n",
      "11\n"
     ]
    },
    {
     "name": "stderr",
     "output_type": "stream",
     "text": [
      "  8%|███▍                                      | 22/266 [00:03<00:38,  6.41it/s]"
     ]
    },
    {
     "name": "stdout",
     "output_type": "stream",
     "text": [
      "6\n",
      "11\n"
     ]
    },
    {
     "name": "stderr",
     "output_type": "stream",
     "text": [
      "  9%|███▊                                      | 24/266 [00:03<00:37,  6.45it/s]"
     ]
    },
    {
     "name": "stdout",
     "output_type": "stream",
     "text": [
      "11\n",
      "11\n"
     ]
    },
    {
     "name": "stderr",
     "output_type": "stream",
     "text": [
      " 10%|████                                      | 26/266 [00:04<00:39,  6.13it/s]"
     ]
    },
    {
     "name": "stdout",
     "output_type": "stream",
     "text": [
      "9\n",
      "14\n"
     ]
    },
    {
     "name": "stderr",
     "output_type": "stream",
     "text": [
      " 11%|████▍                                     | 28/266 [00:04<00:38,  6.21it/s]"
     ]
    },
    {
     "name": "stdout",
     "output_type": "stream",
     "text": [
      "10\n",
      "14\n"
     ]
    },
    {
     "name": "stderr",
     "output_type": "stream",
     "text": [
      " 11%|████▋                                     | 30/266 [00:04<00:37,  6.28it/s]"
     ]
    },
    {
     "name": "stdout",
     "output_type": "stream",
     "text": [
      "11\n",
      "14\n"
     ]
    },
    {
     "name": "stderr",
     "output_type": "stream",
     "text": [
      " 12%|█████                                     | 32/266 [00:05<00:36,  6.36it/s]"
     ]
    },
    {
     "name": "stdout",
     "output_type": "stream",
     "text": [
      "9\n",
      "9\n"
     ]
    },
    {
     "name": "stderr",
     "output_type": "stream",
     "text": [
      " 13%|█████▎                                    | 34/266 [00:05<00:36,  6.38it/s]"
     ]
    },
    {
     "name": "stdout",
     "output_type": "stream",
     "text": [
      "14\n",
      "14\n"
     ]
    },
    {
     "name": "stderr",
     "output_type": "stream",
     "text": [
      " 14%|█████▋                                    | 36/266 [00:05<00:37,  6.17it/s]"
     ]
    },
    {
     "name": "stdout",
     "output_type": "stream",
     "text": [
      "14\n",
      "12\n"
     ]
    },
    {
     "name": "stderr",
     "output_type": "stream",
     "text": [
      " 14%|██████                                    | 38/266 [00:06<00:37,  6.10it/s]"
     ]
    },
    {
     "name": "stdout",
     "output_type": "stream",
     "text": [
      "11\n",
      "13\n"
     ]
    },
    {
     "name": "stderr",
     "output_type": "stream",
     "text": [
      " 15%|██████▎                                   | 40/266 [00:06<00:36,  6.27it/s]"
     ]
    },
    {
     "name": "stdout",
     "output_type": "stream",
     "text": [
      "12\n",
      "14\n"
     ]
    },
    {
     "name": "stderr",
     "output_type": "stream",
     "text": [
      " 16%|██████▋                                   | 42/266 [00:06<00:36,  6.06it/s]"
     ]
    },
    {
     "name": "stdout",
     "output_type": "stream",
     "text": [
      "13\n",
      "13\n"
     ]
    },
    {
     "name": "stderr",
     "output_type": "stream",
     "text": [
      " 17%|██████▉                                   | 44/266 [00:07<00:36,  6.15it/s]"
     ]
    },
    {
     "name": "stdout",
     "output_type": "stream",
     "text": [
      "15\n",
      "9\n"
     ]
    },
    {
     "name": "stderr",
     "output_type": "stream",
     "text": [
      " 17%|███████▎                                  | 46/266 [00:07<00:35,  6.24it/s]"
     ]
    },
    {
     "name": "stdout",
     "output_type": "stream",
     "text": [
      "15\n",
      "9\n"
     ]
    },
    {
     "name": "stderr",
     "output_type": "stream",
     "text": [
      " 18%|███████▌                                  | 48/266 [00:07<00:34,  6.32it/s]"
     ]
    },
    {
     "name": "stdout",
     "output_type": "stream",
     "text": [
      "11\n",
      "19\n"
     ]
    },
    {
     "name": "stderr",
     "output_type": "stream",
     "text": [
      " 19%|███████▉                                  | 50/266 [00:07<00:34,  6.28it/s]"
     ]
    },
    {
     "name": "stdout",
     "output_type": "stream",
     "text": [
      "10\n",
      "9\n"
     ]
    },
    {
     "name": "stderr",
     "output_type": "stream",
     "text": [
      " 20%|████████▏                                 | 52/266 [00:08<00:34,  6.27it/s]"
     ]
    },
    {
     "name": "stdout",
     "output_type": "stream",
     "text": [
      "16\n",
      "9\n"
     ]
    },
    {
     "name": "stderr",
     "output_type": "stream",
     "text": [
      " 20%|████████▌                                 | 54/266 [00:08<00:33,  6.26it/s]"
     ]
    },
    {
     "name": "stdout",
     "output_type": "stream",
     "text": [
      "9\n",
      "20\n"
     ]
    },
    {
     "name": "stderr",
     "output_type": "stream",
     "text": [
      " 21%|████████▊                                 | 56/266 [00:08<00:33,  6.25it/s]"
     ]
    },
    {
     "name": "stdout",
     "output_type": "stream",
     "text": [
      "20\n",
      "9\n"
     ]
    },
    {
     "name": "stderr",
     "output_type": "stream",
     "text": [
      " 22%|█████████▏                                | 58/266 [00:09<00:33,  6.25it/s]"
     ]
    },
    {
     "name": "stdout",
     "output_type": "stream",
     "text": [
      "9\n",
      "20\n"
     ]
    },
    {
     "name": "stderr",
     "output_type": "stream",
     "text": [
      " 23%|█████████▍                                | 60/266 [00:09<00:32,  6.32it/s]"
     ]
    },
    {
     "name": "stdout",
     "output_type": "stream",
     "text": [
      "21\n",
      "11\n"
     ]
    },
    {
     "name": "stderr",
     "output_type": "stream",
     "text": [
      " 23%|█████████▊                                | 62/266 [00:09<00:32,  6.32it/s]"
     ]
    },
    {
     "name": "stdout",
     "output_type": "stream",
     "text": [
      "11\n",
      "11\n"
     ]
    },
    {
     "name": "stderr",
     "output_type": "stream",
     "text": [
      " 24%|██████████                                | 64/266 [00:10<00:31,  6.37it/s]"
     ]
    },
    {
     "name": "stdout",
     "output_type": "stream",
     "text": [
      "11\n",
      "22\n"
     ]
    },
    {
     "name": "stderr",
     "output_type": "stream",
     "text": [
      " 25%|██████████▍                               | 66/266 [00:10<00:31,  6.36it/s]"
     ]
    },
    {
     "name": "stdout",
     "output_type": "stream",
     "text": [
      "22\n",
      "14\n"
     ]
    },
    {
     "name": "stderr",
     "output_type": "stream",
     "text": [
      " 26%|██████████▋                               | 68/266 [00:10<00:30,  6.39it/s]"
     ]
    },
    {
     "name": "stdout",
     "output_type": "stream",
     "text": [
      "20\n",
      "21\n"
     ]
    },
    {
     "name": "stderr",
     "output_type": "stream",
     "text": [
      " 26%|███████████                               | 70/266 [00:11<00:32,  6.03it/s]"
     ]
    },
    {
     "name": "stdout",
     "output_type": "stream",
     "text": [
      "14\n",
      "10\n"
     ]
    },
    {
     "name": "stderr",
     "output_type": "stream",
     "text": [
      " 27%|███████████▎                              | 72/266 [00:11<00:31,  6.08it/s]"
     ]
    },
    {
     "name": "stdout",
     "output_type": "stream",
     "text": [
      "10\n",
      "22\n"
     ]
    },
    {
     "name": "stderr",
     "output_type": "stream",
     "text": [
      " 28%|███████████▋                              | 74/266 [00:11<00:30,  6.28it/s]"
     ]
    },
    {
     "name": "stdout",
     "output_type": "stream",
     "text": [
      "22\n",
      "31\n"
     ]
    },
    {
     "name": "stderr",
     "output_type": "stream",
     "text": [
      " 29%|████████████                              | 76/266 [00:12<00:31,  5.99it/s]"
     ]
    },
    {
     "name": "stdout",
     "output_type": "stream",
     "text": [
      "32\n",
      "10\n"
     ]
    },
    {
     "name": "stderr",
     "output_type": "stream",
     "text": [
      " 29%|████████████▎                             | 78/266 [00:12<00:30,  6.08it/s]"
     ]
    },
    {
     "name": "stdout",
     "output_type": "stream",
     "text": [
      "10\n",
      "22\n"
     ]
    },
    {
     "name": "stderr",
     "output_type": "stream",
     "text": [
      " 30%|████████████▋                             | 80/266 [00:12<00:29,  6.30it/s]"
     ]
    },
    {
     "name": "stdout",
     "output_type": "stream",
     "text": [
      "23\n",
      "31\n"
     ]
    },
    {
     "name": "stderr",
     "output_type": "stream",
     "text": [
      " 31%|████████████▉                             | 82/266 [00:13<00:29,  6.32it/s]"
     ]
    },
    {
     "name": "stdout",
     "output_type": "stream",
     "text": [
      "32\n",
      "33\n"
     ]
    },
    {
     "name": "stderr",
     "output_type": "stream",
     "text": [
      " 32%|█████████████▎                            | 84/266 [00:13<00:28,  6.32it/s]"
     ]
    },
    {
     "name": "stdout",
     "output_type": "stream",
     "text": [
      "34\n",
      "22\n"
     ]
    },
    {
     "name": "stderr",
     "output_type": "stream",
     "text": [
      " 32%|█████████████▌                            | 86/266 [00:13<00:29,  6.20it/s]"
     ]
    },
    {
     "name": "stdout",
     "output_type": "stream",
     "text": [
      "17\n",
      "17\n"
     ]
    },
    {
     "name": "stderr",
     "output_type": "stream",
     "text": [
      " 33%|█████████████▉                            | 88/266 [00:14<00:28,  6.18it/s]"
     ]
    },
    {
     "name": "stdout",
     "output_type": "stream",
     "text": [
      "17\n",
      "27\n"
     ]
    },
    {
     "name": "stderr",
     "output_type": "stream",
     "text": [
      " 34%|██████████████▏                           | 90/266 [00:14<00:28,  6.23it/s]"
     ]
    },
    {
     "name": "stdout",
     "output_type": "stream",
     "text": [
      "27\n",
      "17\n"
     ]
    },
    {
     "name": "stderr",
     "output_type": "stream",
     "text": [
      " 35%|██████████████▌                           | 92/266 [00:14<00:27,  6.23it/s]"
     ]
    },
    {
     "name": "stdout",
     "output_type": "stream",
     "text": [
      "26\n",
      "26\n"
     ]
    },
    {
     "name": "stderr",
     "output_type": "stream",
     "text": [
      " 35%|██████████████▊                           | 94/266 [00:15<00:27,  6.16it/s]"
     ]
    },
    {
     "name": "stdout",
     "output_type": "stream",
     "text": [
      "22\n",
      "22\n"
     ]
    },
    {
     "name": "stderr",
     "output_type": "stream",
     "text": [
      " 36%|███████████████▏                          | 96/266 [00:15<00:29,  5.68it/s]"
     ]
    },
    {
     "name": "stdout",
     "output_type": "stream",
     "text": [
      "24\n",
      "24\n"
     ]
    },
    {
     "name": "stderr",
     "output_type": "stream",
     "text": [
      " 37%|███████████████▍                          | 98/266 [00:15<00:28,  5.91it/s]"
     ]
    },
    {
     "name": "stdout",
     "output_type": "stream",
     "text": [
      "21\n",
      "21\n"
     ]
    },
    {
     "name": "stderr",
     "output_type": "stream",
     "text": [
      " 38%|███████████████▍                         | 100/266 [00:16<00:27,  6.06it/s]"
     ]
    },
    {
     "name": "stdout",
     "output_type": "stream",
     "text": [
      "20\n",
      "32\n"
     ]
    },
    {
     "name": "stderr",
     "output_type": "stream",
     "text": [
      " 38%|███████████████▋                         | 102/266 [00:16<00:28,  5.81it/s]"
     ]
    },
    {
     "name": "stdout",
     "output_type": "stream",
     "text": [
      "32\n",
      "20\n"
     ]
    },
    {
     "name": "stderr",
     "output_type": "stream",
     "text": [
      " 39%|████████████████                         | 104/266 [00:16<00:27,  5.94it/s]"
     ]
    },
    {
     "name": "stdout",
     "output_type": "stream",
     "text": [
      "32\n",
      "32\n"
     ]
    },
    {
     "name": "stderr",
     "output_type": "stream",
     "text": [
      " 40%|████████████████▎                        | 106/266 [00:17<00:26,  6.12it/s]"
     ]
    },
    {
     "name": "stdout",
     "output_type": "stream",
     "text": [
      "36\n",
      "36\n"
     ]
    },
    {
     "name": "stderr",
     "output_type": "stream",
     "text": [
      " 41%|████████████████▋                        | 108/266 [00:17<00:27,  5.80it/s]"
     ]
    },
    {
     "name": "stdout",
     "output_type": "stream",
     "text": [
      "25\n",
      "24\n"
     ]
    },
    {
     "name": "stderr",
     "output_type": "stream",
     "text": [
      " 41%|████████████████▉                        | 110/266 [00:17<00:26,  5.81it/s]"
     ]
    },
    {
     "name": "stdout",
     "output_type": "stream",
     "text": [
      "24\n",
      "37\n"
     ]
    },
    {
     "name": "stderr",
     "output_type": "stream",
     "text": [
      " 42%|█████████████████▎                       | 112/266 [00:18<00:25,  6.02it/s]"
     ]
    },
    {
     "name": "stdout",
     "output_type": "stream",
     "text": [
      "37\n",
      "41\n"
     ]
    },
    {
     "name": "stderr",
     "output_type": "stream",
     "text": [
      " 43%|█████████████████▌                       | 114/266 [00:18<00:24,  6.12it/s]"
     ]
    },
    {
     "name": "stdout",
     "output_type": "stream",
     "text": [
      "41\n",
      "23\n"
     ]
    },
    {
     "name": "stderr",
     "output_type": "stream",
     "text": [
      " 44%|█████████████████▉                       | 116/266 [00:18<00:24,  6.12it/s]"
     ]
    },
    {
     "name": "stdout",
     "output_type": "stream",
     "text": [
      "27\n",
      "33\n"
     ]
    },
    {
     "name": "stderr",
     "output_type": "stream",
     "text": [
      " 44%|██████████████████▏                      | 118/266 [00:19<00:24,  5.95it/s]"
     ]
    },
    {
     "name": "stdout",
     "output_type": "stream",
     "text": [
      "33\n",
      "24\n"
     ]
    },
    {
     "name": "stderr",
     "output_type": "stream",
     "text": [
      " 45%|██████████████████▍                      | 120/266 [00:19<00:25,  5.74it/s]"
     ]
    },
    {
     "name": "stdout",
     "output_type": "stream",
     "text": [
      "33\n",
      "32\n"
     ]
    },
    {
     "name": "stderr",
     "output_type": "stream",
     "text": [
      " 46%|██████████████████▊                      | 122/266 [00:19<00:24,  5.81it/s]"
     ]
    },
    {
     "name": "stdout",
     "output_type": "stream",
     "text": [
      "29\n",
      "41\n"
     ]
    },
    {
     "name": "stderr",
     "output_type": "stream",
     "text": [
      " 47%|███████████████████                      | 124/266 [00:20<00:23,  6.04it/s]"
     ]
    },
    {
     "name": "stdout",
     "output_type": "stream",
     "text": [
      "42\n",
      "33\n"
     ]
    },
    {
     "name": "stderr",
     "output_type": "stream",
     "text": [
      " 47%|███████████████████▍                     | 126/266 [00:20<00:23,  5.92it/s]"
     ]
    },
    {
     "name": "stdout",
     "output_type": "stream",
     "text": [
      "29\n",
      "41\n"
     ]
    },
    {
     "name": "stderr",
     "output_type": "stream",
     "text": [
      " 48%|███████████████████▋                     | 128/266 [00:20<00:24,  5.74it/s]"
     ]
    },
    {
     "name": "stdout",
     "output_type": "stream",
     "text": [
      "42\n",
      "23\n"
     ]
    },
    {
     "name": "stderr",
     "output_type": "stream",
     "text": [
      " 49%|████████████████████                     | 130/266 [00:21<00:24,  5.55it/s]"
     ]
    },
    {
     "name": "stdout",
     "output_type": "stream",
     "text": [
      "23\n",
      "23\n"
     ]
    },
    {
     "name": "stderr",
     "output_type": "stream",
     "text": [
      " 50%|████████████████████▎                    | 132/266 [00:21<00:22,  5.87it/s]"
     ]
    },
    {
     "name": "stdout",
     "output_type": "stream",
     "text": [
      "42\n",
      "42\n"
     ]
    },
    {
     "name": "stderr",
     "output_type": "stream",
     "text": [
      " 50%|████████████████████▋                    | 134/266 [00:21<00:21,  6.12it/s]"
     ]
    },
    {
     "name": "stdout",
     "output_type": "stream",
     "text": [
      "42\n",
      "23\n"
     ]
    },
    {
     "name": "stderr",
     "output_type": "stream",
     "text": [
      " 51%|████████████████████▉                    | 136/266 [00:22<00:21,  6.06it/s]"
     ]
    },
    {
     "name": "stdout",
     "output_type": "stream",
     "text": [
      "32\n",
      "42\n"
     ]
    },
    {
     "name": "stderr",
     "output_type": "stream",
     "text": [
      " 52%|█████████████████████▎                   | 138/266 [00:22<00:20,  6.20it/s]"
     ]
    },
    {
     "name": "stdout",
     "output_type": "stream",
     "text": [
      "32\n",
      "32\n"
     ]
    },
    {
     "name": "stderr",
     "output_type": "stream",
     "text": [
      " 53%|█████████████████████▌                   | 140/266 [00:22<00:20,  6.14it/s]"
     ]
    },
    {
     "name": "stdout",
     "output_type": "stream",
     "text": [
      "39\n",
      "24\n"
     ]
    },
    {
     "name": "stderr",
     "output_type": "stream",
     "text": [
      " 53%|█████████████████████▉                   | 142/266 [00:23<00:20,  5.98it/s]"
     ]
    },
    {
     "name": "stdout",
     "output_type": "stream",
     "text": [
      "23\n",
      "39\n"
     ]
    },
    {
     "name": "stderr",
     "output_type": "stream",
     "text": [
      " 54%|██████████████████████▏                  | 144/266 [00:23<00:21,  5.61it/s]"
     ]
    },
    {
     "name": "stdout",
     "output_type": "stream",
     "text": [
      "39\n",
      "39\n"
     ]
    },
    {
     "name": "stderr",
     "output_type": "stream",
     "text": [
      " 55%|██████████████████████▌                  | 146/266 [00:23<00:22,  5.45it/s]"
     ]
    },
    {
     "name": "stdout",
     "output_type": "stream",
     "text": [
      "55\n",
      "55\n"
     ]
    },
    {
     "name": "stderr",
     "output_type": "stream",
     "text": [
      " 56%|██████████████████████▊                  | 148/266 [00:24<00:21,  5.38it/s]"
     ]
    },
    {
     "name": "stdout",
     "output_type": "stream",
     "text": [
      "61\n",
      "61\n"
     ]
    },
    {
     "name": "stderr",
     "output_type": "stream",
     "text": [
      " 56%|███████████████████████                  | 150/266 [00:24<00:20,  5.62it/s]"
     ]
    },
    {
     "name": "stdout",
     "output_type": "stream",
     "text": [
      "34\n",
      "34\n"
     ]
    },
    {
     "name": "stderr",
     "output_type": "stream",
     "text": [
      " 57%|███████████████████████▍                 | 152/266 [00:24<00:20,  5.69it/s]"
     ]
    },
    {
     "name": "stdout",
     "output_type": "stream",
     "text": [
      "31\n",
      "51\n"
     ]
    },
    {
     "name": "stderr",
     "output_type": "stream",
     "text": [
      " 58%|███████████████████████▋                 | 154/266 [00:25<00:18,  5.96it/s]"
     ]
    },
    {
     "name": "stdout",
     "output_type": "stream",
     "text": [
      "52\n",
      "52\n"
     ]
    },
    {
     "name": "stderr",
     "output_type": "stream",
     "text": [
      " 59%|████████████████████████                 | 156/266 [00:25<00:18,  5.85it/s]"
     ]
    },
    {
     "name": "stdout",
     "output_type": "stream",
     "text": [
      "31\n",
      "51\n"
     ]
    },
    {
     "name": "stderr",
     "output_type": "stream",
     "text": [
      " 59%|████████████████████████▎                | 158/266 [00:25<00:19,  5.54it/s]"
     ]
    },
    {
     "name": "stdout",
     "output_type": "stream",
     "text": [
      "54\n",
      "54\n"
     ]
    },
    {
     "name": "stderr",
     "output_type": "stream",
     "text": [
      " 60%|████████████████████████▋                | 160/266 [00:26<00:19,  5.37it/s]"
     ]
    },
    {
     "name": "stdout",
     "output_type": "stream",
     "text": [
      "59\n",
      "59\n"
     ]
    },
    {
     "name": "stderr",
     "output_type": "stream",
     "text": [
      " 61%|████████████████████████▉                | 162/266 [00:26<00:19,  5.45it/s]"
     ]
    },
    {
     "name": "stdout",
     "output_type": "stream",
     "text": [
      "39\n",
      "31\n"
     ]
    },
    {
     "name": "stderr",
     "output_type": "stream",
     "text": [
      " 62%|█████████████████████████▎               | 164/266 [00:27<00:17,  5.72it/s]"
     ]
    },
    {
     "name": "stdout",
     "output_type": "stream",
     "text": [
      "31\n",
      "38\n"
     ]
    },
    {
     "name": "stderr",
     "output_type": "stream",
     "text": [
      " 62%|█████████████████████████▌               | 166/266 [00:27<00:16,  5.97it/s]"
     ]
    },
    {
     "name": "stdout",
     "output_type": "stream",
     "text": [
      "41\n",
      "42\n"
     ]
    },
    {
     "name": "stderr",
     "output_type": "stream",
     "text": [
      " 63%|█████████████████████████▉               | 168/266 [00:27<00:16,  5.80it/s]"
     ]
    },
    {
     "name": "stdout",
     "output_type": "stream",
     "text": [
      "48\n",
      "73\n"
     ]
    },
    {
     "name": "stderr",
     "output_type": "stream",
     "text": [
      " 64%|██████████████████████████▏              | 170/266 [00:28<00:16,  5.80it/s]"
     ]
    },
    {
     "name": "stdout",
     "output_type": "stream",
     "text": [
      "73\n",
      "71\n"
     ]
    },
    {
     "name": "stderr",
     "output_type": "stream",
     "text": [
      " 64%|██████████████████████████▎              | 171/266 [00:28<00:16,  5.82it/s]"
     ]
    },
    {
     "name": "stdout",
     "output_type": "stream",
     "text": [
      "71\n"
     ]
    },
    {
     "name": "stderr",
     "output_type": "stream",
     "text": [
      " 65%|██████████████████████████▌              | 172/266 [00:28<00:17,  5.45it/s]"
     ]
    },
    {
     "name": "stdout",
     "output_type": "stream",
     "text": [
      "43\n"
     ]
    },
    {
     "name": "stderr",
     "output_type": "stream",
     "text": [
      " 65%|██████████████████████████▊              | 174/266 [00:28<00:16,  5.51it/s]"
     ]
    },
    {
     "name": "stdout",
     "output_type": "stream",
     "text": [
      "43\n",
      "73\n"
     ]
    },
    {
     "name": "stderr",
     "output_type": "stream",
     "text": [
      " 66%|███████████████████████████▏             | 176/266 [00:29<00:16,  5.48it/s]"
     ]
    },
    {
     "name": "stdout",
     "output_type": "stream",
     "text": [
      "46\n",
      "45\n"
     ]
    },
    {
     "name": "stderr",
     "output_type": "stream",
     "text": [
      " 67%|███████████████████████████▍             | 178/266 [00:29<00:15,  5.51it/s]"
     ]
    },
    {
     "name": "stdout",
     "output_type": "stream",
     "text": [
      "49\n",
      "74\n"
     ]
    },
    {
     "name": "stderr",
     "output_type": "stream",
     "text": [
      " 68%|███████████████████████████▋             | 180/266 [00:29<00:15,  5.67it/s]"
     ]
    },
    {
     "name": "stdout",
     "output_type": "stream",
     "text": [
      "44\n",
      "75\n"
     ]
    },
    {
     "name": "stderr",
     "output_type": "stream",
     "text": [
      " 68%|████████████████████████████             | 182/266 [00:30<00:14,  5.60it/s]"
     ]
    },
    {
     "name": "stdout",
     "output_type": "stream",
     "text": [
      "72\n",
      "46\n"
     ]
    },
    {
     "name": "stderr",
     "output_type": "stream",
     "text": [
      " 69%|████████████████████████████▎            | 184/266 [00:30<00:14,  5.72it/s]"
     ]
    },
    {
     "name": "stdout",
     "output_type": "stream",
     "text": [
      "44\n",
      "71\n"
     ]
    },
    {
     "name": "stderr",
     "output_type": "stream",
     "text": [
      " 70%|████████████████████████████▋            | 186/266 [00:30<00:14,  5.71it/s]"
     ]
    },
    {
     "name": "stdout",
     "output_type": "stream",
     "text": [
      "45\n",
      "75\n"
     ]
    },
    {
     "name": "stderr",
     "output_type": "stream",
     "text": [
      " 71%|████████████████████████████▉            | 188/266 [00:31<00:13,  5.62it/s]"
     ]
    },
    {
     "name": "stdout",
     "output_type": "stream",
     "text": [
      "46\n",
      "44\n"
     ]
    },
    {
     "name": "stderr",
     "output_type": "stream",
     "text": [
      " 71%|█████████████████████████████▎           | 190/266 [00:31<00:13,  5.67it/s]"
     ]
    },
    {
     "name": "stdout",
     "output_type": "stream",
     "text": [
      "73\n",
      "72\n"
     ]
    },
    {
     "name": "stderr",
     "output_type": "stream",
     "text": [
      " 72%|█████████████████████████████▍           | 191/266 [00:31<00:13,  5.37it/s]"
     ]
    },
    {
     "name": "stdout",
     "output_type": "stream",
     "text": [
      "80\n"
     ]
    },
    {
     "name": "stderr",
     "output_type": "stream",
     "text": [
      " 72%|█████████████████████████████▌           | 192/266 [00:32<00:14,  5.17it/s]"
     ]
    },
    {
     "name": "stdout",
     "output_type": "stream",
     "text": [
      "80\n"
     ]
    },
    {
     "name": "stderr",
     "output_type": "stream",
     "text": [
      " 73%|█████████████████████████████▋           | 193/266 [00:32<00:14,  5.02it/s]"
     ]
    },
    {
     "name": "stdout",
     "output_type": "stream",
     "text": [
      "148\n"
     ]
    },
    {
     "name": "stderr",
     "output_type": "stream",
     "text": [
      " 73%|█████████████████████████████▉           | 194/266 [00:32<00:14,  4.93it/s]"
     ]
    },
    {
     "name": "stdout",
     "output_type": "stream",
     "text": [
      "148\n"
     ]
    },
    {
     "name": "stderr",
     "output_type": "stream",
     "text": [
      " 73%|██████████████████████████████           | 195/266 [00:32<00:14,  4.89it/s]"
     ]
    },
    {
     "name": "stdout",
     "output_type": "stream",
     "text": [
      "112\n"
     ]
    },
    {
     "name": "stderr",
     "output_type": "stream",
     "text": [
      " 74%|██████████████████████████████▏          | 196/266 [00:32<00:14,  4.86it/s]"
     ]
    },
    {
     "name": "stdout",
     "output_type": "stream",
     "text": [
      "112\n"
     ]
    },
    {
     "name": "stderr",
     "output_type": "stream",
     "text": [
      " 74%|██████████████████████████████▎          | 197/266 [00:33<00:15,  4.59it/s]"
     ]
    },
    {
     "name": "stdout",
     "output_type": "stream",
     "text": [
      "89\n"
     ]
    },
    {
     "name": "stderr",
     "output_type": "stream",
     "text": [
      " 74%|██████████████████████████████▌          | 198/266 [00:33<00:15,  4.42it/s]"
     ]
    },
    {
     "name": "stdout",
     "output_type": "stream",
     "text": [
      "89\n"
     ]
    },
    {
     "name": "stderr",
     "output_type": "stream",
     "text": [
      " 75%|██████████████████████████████▊          | 200/266 [00:33<00:14,  4.45it/s]"
     ]
    },
    {
     "name": "stdout",
     "output_type": "stream",
     "text": [
      "210\n",
      "91\n"
     ]
    },
    {
     "name": "stderr",
     "output_type": "stream",
     "text": [
      " 76%|███████████████████████████████▏         | 202/266 [00:34<00:14,  4.48it/s]"
     ]
    },
    {
     "name": "stdout",
     "output_type": "stream",
     "text": [
      "215\n",
      "158\n"
     ]
    },
    {
     "name": "stderr",
     "output_type": "stream",
     "text": [
      " 77%|███████████████████████████████▍         | 204/266 [00:34<00:12,  5.14it/s]"
     ]
    },
    {
     "name": "stdout",
     "output_type": "stream",
     "text": [
      "130\n",
      "98\n"
     ]
    },
    {
     "name": "stderr",
     "output_type": "stream",
     "text": [
      " 77%|███████████████████████████████▌         | 205/266 [00:34<00:11,  5.17it/s]"
     ]
    },
    {
     "name": "stdout",
     "output_type": "stream",
     "text": [
      "96\n"
     ]
    },
    {
     "name": "stderr",
     "output_type": "stream",
     "text": [
      " 78%|███████████████████████████████▉         | 207/266 [00:35<00:11,  5.11it/s]"
     ]
    },
    {
     "name": "stdout",
     "output_type": "stream",
     "text": [
      "96\n",
      "96\n"
     ]
    },
    {
     "name": "stderr",
     "output_type": "stream",
     "text": [
      " 79%|████████████████████████████████▏        | 209/266 [00:35<00:10,  5.20it/s]"
     ]
    },
    {
     "name": "stdout",
     "output_type": "stream",
     "text": [
      "96\n",
      "94\n"
     ]
    },
    {
     "name": "stderr",
     "output_type": "stream",
     "text": [
      " 79%|████████████████████████████████▌        | 211/266 [00:36<00:10,  5.26it/s]"
     ]
    },
    {
     "name": "stdout",
     "output_type": "stream",
     "text": [
      "94\n",
      "95\n"
     ]
    },
    {
     "name": "stderr",
     "output_type": "stream",
     "text": [
      " 80%|████████████████████████████████▊        | 213/266 [00:36<00:10,  5.26it/s]"
     ]
    },
    {
     "name": "stdout",
     "output_type": "stream",
     "text": [
      "164\n",
      "164\n"
     ]
    },
    {
     "name": "stderr",
     "output_type": "stream",
     "text": [
      " 81%|█████████████████████████████████▏       | 215/266 [00:36<00:09,  5.25it/s]"
     ]
    },
    {
     "name": "stdout",
     "output_type": "stream",
     "text": [
      "164\n",
      "164\n"
     ]
    },
    {
     "name": "stderr",
     "output_type": "stream",
     "text": [
      " 82%|█████████████████████████████████▍       | 217/266 [00:37<00:09,  5.22it/s]"
     ]
    },
    {
     "name": "stdout",
     "output_type": "stream",
     "text": [
      "135\n",
      "135\n"
     ]
    },
    {
     "name": "stderr",
     "output_type": "stream",
     "text": [
      " 82%|█████████████████████████████████▊       | 219/266 [00:37<00:09,  5.21it/s]"
     ]
    },
    {
     "name": "stdout",
     "output_type": "stream",
     "text": [
      "135\n",
      "135\n"
     ]
    },
    {
     "name": "stderr",
     "output_type": "stream",
     "text": [
      " 83%|█████████████████████████████████▉       | 220/266 [00:37<00:08,  5.48it/s]"
     ]
    },
    {
     "name": "stdout",
     "output_type": "stream",
     "text": [
      "132\n"
     ]
    },
    {
     "name": "stderr",
     "output_type": "stream",
     "text": [
      " 83%|██████████████████████████████████       | 221/266 [00:37<00:08,  5.08it/s]"
     ]
    },
    {
     "name": "stdout",
     "output_type": "stream",
     "text": [
      "101\n"
     ]
    },
    {
     "name": "stderr",
     "output_type": "stream",
     "text": [
      " 83%|██████████████████████████████████▏      | 222/266 [00:38<00:09,  4.73it/s]"
     ]
    },
    {
     "name": "stdout",
     "output_type": "stream",
     "text": [
      "101\n"
     ]
    },
    {
     "name": "stderr",
     "output_type": "stream",
     "text": [
      " 84%|██████████████████████████████████▎      | 223/266 [00:38<00:09,  4.63it/s]"
     ]
    },
    {
     "name": "stdout",
     "output_type": "stream",
     "text": [
      "101\n"
     ]
    },
    {
     "name": "stderr",
     "output_type": "stream",
     "text": [
      " 85%|██████████████████████████████████▋      | 225/266 [00:38<00:08,  4.95it/s]"
     ]
    },
    {
     "name": "stdout",
     "output_type": "stream",
     "text": [
      "101\n",
      "157\n"
     ]
    },
    {
     "name": "stderr",
     "output_type": "stream",
     "text": [
      " 85%|██████████████████████████████████▉      | 227/266 [00:39<00:07,  5.09it/s]"
     ]
    },
    {
     "name": "stdout",
     "output_type": "stream",
     "text": [
      "100\n",
      "100\n"
     ]
    },
    {
     "name": "stderr",
     "output_type": "stream",
     "text": [
      " 86%|███████████████████████████████████▎     | 229/266 [00:39<00:07,  5.17it/s]"
     ]
    },
    {
     "name": "stdout",
     "output_type": "stream",
     "text": [
      "100\n",
      "135\n"
     ]
    },
    {
     "name": "stderr",
     "output_type": "stream",
     "text": [
      " 87%|███████████████████████████████████▌     | 231/266 [00:39<00:06,  5.21it/s]"
     ]
    },
    {
     "name": "stdout",
     "output_type": "stream",
     "text": [
      "135\n",
      "135\n"
     ]
    },
    {
     "name": "stderr",
     "output_type": "stream",
     "text": [
      " 88%|███████████████████████████████████▉     | 233/266 [00:40<00:06,  5.18it/s]"
     ]
    },
    {
     "name": "stdout",
     "output_type": "stream",
     "text": [
      "160\n",
      "160\n"
     ]
    },
    {
     "name": "stderr",
     "output_type": "stream",
     "text": [
      " 88%|████████████████████████████████████     | 234/266 [00:40<00:06,  5.18it/s]"
     ]
    },
    {
     "name": "stdout",
     "output_type": "stream",
     "text": [
      "160\n"
     ]
    },
    {
     "name": "stderr",
     "output_type": "stream",
     "text": [
      " 88%|████████████████████████████████████▏    | 235/266 [00:40<00:06,  5.06it/s]"
     ]
    },
    {
     "name": "stdout",
     "output_type": "stream",
     "text": [
      "118\n"
     ]
    },
    {
     "name": "stderr",
     "output_type": "stream",
     "text": [
      " 89%|████████████████████████████████████▍    | 236/266 [00:40<00:06,  4.98it/s]"
     ]
    },
    {
     "name": "stdout",
     "output_type": "stream",
     "text": [
      "118\n"
     ]
    },
    {
     "name": "stderr",
     "output_type": "stream",
     "text": [
      " 89%|████████████████████████████████████▌    | 237/266 [00:41<00:05,  4.89it/s]"
     ]
    },
    {
     "name": "stdout",
     "output_type": "stream",
     "text": [
      "149\n"
     ]
    },
    {
     "name": "stderr",
     "output_type": "stream",
     "text": [
      " 90%|████████████████████████████████████▊    | 239/266 [00:41<00:05,  4.95it/s]"
     ]
    },
    {
     "name": "stdout",
     "output_type": "stream",
     "text": [
      "149\n",
      "138\n"
     ]
    },
    {
     "name": "stderr",
     "output_type": "stream",
     "text": [
      " 91%|█████████████████████████████████████▏   | 241/266 [00:41<00:04,  5.39it/s]"
     ]
    },
    {
     "name": "stdout",
     "output_type": "stream",
     "text": [
      "162\n",
      "99\n"
     ]
    },
    {
     "name": "stderr",
     "output_type": "stream",
     "text": [
      " 91%|█████████████████████████████████████▎   | 242/266 [00:42<00:04,  5.66it/s]"
     ]
    },
    {
     "name": "stdout",
     "output_type": "stream",
     "text": [
      "95\n"
     ]
    },
    {
     "name": "stderr",
     "output_type": "stream",
     "text": [
      " 91%|█████████████████████████████████████▍   | 243/266 [00:42<00:04,  5.36it/s]"
     ]
    },
    {
     "name": "stdout",
     "output_type": "stream",
     "text": [
      "102\n"
     ]
    },
    {
     "name": "stderr",
     "output_type": "stream",
     "text": [
      " 92%|█████████████████████████████████████▌   | 244/266 [00:42<00:04,  4.69it/s]"
     ]
    },
    {
     "name": "stdout",
     "output_type": "stream",
     "text": [
      "94\n"
     ]
    },
    {
     "name": "stderr",
     "output_type": "stream",
     "text": [
      " 92%|█████████████████████████████████████▊   | 245/266 [00:42<00:04,  4.58it/s]"
     ]
    },
    {
     "name": "stdout",
     "output_type": "stream",
     "text": [
      "94\n"
     ]
    },
    {
     "name": "stderr",
     "output_type": "stream",
     "text": [
      " 92%|█████████████████████████████████████▉   | 246/266 [00:42<00:04,  4.64it/s]"
     ]
    },
    {
     "name": "stdout",
     "output_type": "stream",
     "text": [
      "85\n"
     ]
    },
    {
     "name": "stderr",
     "output_type": "stream",
     "text": [
      " 93%|██████████████████████████████████████   | 247/266 [00:43<00:04,  4.70it/s]"
     ]
    },
    {
     "name": "stdout",
     "output_type": "stream",
     "text": [
      "85\n"
     ]
    },
    {
     "name": "stderr",
     "output_type": "stream",
     "text": [
      " 93%|██████████████████████████████████████▏  | 248/266 [00:43<00:03,  4.73it/s]"
     ]
    },
    {
     "name": "stdout",
     "output_type": "stream",
     "text": [
      "99\n"
     ]
    },
    {
     "name": "stderr",
     "output_type": "stream",
     "text": [
      " 94%|██████████████████████████████████████▍  | 249/266 [00:43<00:05,  3.26it/s]"
     ]
    },
    {
     "name": "stdout",
     "output_type": "stream",
     "text": [
      "234\n"
     ]
    },
    {
     "name": "stderr",
     "output_type": "stream",
     "text": [
      " 94%|██████████████████████████████████████▌  | 250/266 [00:44<00:04,  3.32it/s]"
     ]
    },
    {
     "name": "stdout",
     "output_type": "stream",
     "text": [
      "236\n"
     ]
    },
    {
     "name": "stderr",
     "output_type": "stream",
     "text": [
      " 94%|██████████████████████████████████████▋  | 251/266 [00:44<00:04,  3.21it/s]"
     ]
    },
    {
     "name": "stdout",
     "output_type": "stream",
     "text": [
      "251\n"
     ]
    },
    {
     "name": "stderr",
     "output_type": "stream",
     "text": [
      " 95%|██████████████████████████████████████▊  | 252/266 [00:44<00:04,  3.09it/s]"
     ]
    },
    {
     "name": "stdout",
     "output_type": "stream",
     "text": [
      "243\n"
     ]
    },
    {
     "name": "stderr",
     "output_type": "stream",
     "text": [
      " 95%|██████████████████████████████████████▉  | 253/266 [00:45<00:04,  3.08it/s]"
     ]
    },
    {
     "name": "stdout",
     "output_type": "stream",
     "text": [
      "256\n"
     ]
    },
    {
     "name": "stderr",
     "output_type": "stream",
     "text": [
      " 95%|███████████████████████████████████████▏ | 254/266 [00:45<00:03,  3.06it/s]"
     ]
    },
    {
     "name": "stdout",
     "output_type": "stream",
     "text": [
      "267\n"
     ]
    },
    {
     "name": "stderr",
     "output_type": "stream",
     "text": [
      " 96%|███████████████████████████████████████▎ | 255/266 [00:45<00:03,  3.05it/s]"
     ]
    },
    {
     "name": "stdout",
     "output_type": "stream",
     "text": [
      "261\n"
     ]
    },
    {
     "name": "stderr",
     "output_type": "stream",
     "text": [
      " 96%|███████████████████████████████████████▍ | 256/266 [00:46<00:03,  3.03it/s]"
     ]
    },
    {
     "name": "stdout",
     "output_type": "stream",
     "text": [
      "267\n"
     ]
    },
    {
     "name": "stderr",
     "output_type": "stream",
     "text": [
      " 97%|███████████████████████████████████████▌ | 257/266 [00:46<00:02,  3.32it/s]"
     ]
    },
    {
     "name": "stdout",
     "output_type": "stream",
     "text": [
      "364\n"
     ]
    },
    {
     "name": "stderr",
     "output_type": "stream",
     "text": [
      " 97%|███████████████████████████████████████▊ | 258/266 [00:46<00:02,  3.48it/s]"
     ]
    },
    {
     "name": "stdout",
     "output_type": "stream",
     "text": [
      "364\n"
     ]
    },
    {
     "name": "stderr",
     "output_type": "stream",
     "text": [
      " 97%|███████████████████████████████████████▉ | 259/266 [00:47<00:02,  3.08it/s]"
     ]
    },
    {
     "name": "stdout",
     "output_type": "stream",
     "text": [
      "251\n"
     ]
    },
    {
     "name": "stderr",
     "output_type": "stream",
     "text": [
      " 98%|████████████████████████████████████████ | 260/266 [00:47<00:01,  3.12it/s]"
     ]
    },
    {
     "name": "stdout",
     "output_type": "stream",
     "text": [
      "243\n"
     ]
    },
    {
     "name": "stderr",
     "output_type": "stream",
     "text": [
      " 98%|████████████████████████████████████████▏| 261/266 [00:47<00:01,  3.09it/s]"
     ]
    },
    {
     "name": "stdout",
     "output_type": "stream",
     "text": [
      "259\n"
     ]
    },
    {
     "name": "stderr",
     "output_type": "stream",
     "text": [
      " 98%|████████████████████████████████████████▍| 262/266 [00:48<00:01,  3.07it/s]"
     ]
    },
    {
     "name": "stdout",
     "output_type": "stream",
     "text": [
      "262\n"
     ]
    },
    {
     "name": "stderr",
     "output_type": "stream",
     "text": [
      " 99%|████████████████████████████████████████▌| 263/266 [00:48<00:00,  3.07it/s]"
     ]
    },
    {
     "name": "stdout",
     "output_type": "stream",
     "text": [
      "259\n"
     ]
    },
    {
     "name": "stderr",
     "output_type": "stream",
     "text": [
      " 99%|████████████████████████████████████████▋| 264/266 [00:48<00:00,  3.06it/s]"
     ]
    },
    {
     "name": "stdout",
     "output_type": "stream",
     "text": [
      "262\n"
     ]
    },
    {
     "name": "stderr",
     "output_type": "stream",
     "text": [
      "100%|████████████████████████████████████████▊| 265/266 [00:49<00:00,  3.02it/s]"
     ]
    },
    {
     "name": "stdout",
     "output_type": "stream",
     "text": [
      "260\n"
     ]
    },
    {
     "name": "stderr",
     "output_type": "stream",
     "text": [
      "100%|█████████████████████████████████████████| 266/266 [00:49<00:00,  5.38it/s]"
     ]
    },
    {
     "name": "stdout",
     "output_type": "stream",
     "text": [
      "264\n",
      "record_seed ['http://dbpedia.org/resource/Ayrton_Senna', 'http://dbpedia.org/resource/Alain_Prost', 'http://dbpedia.org/resource/Elio_de_Angelis', 'http://dbpedia.org/resource/Nelson_Piquet']\n",
      "record_gold:  ['http://dbpedia.org/resource/Nigel_Mansell', 'http://dbpedia.org/resource/Patrick_Tambay', 'http://dbpedia.org/resource/David_Coulthard', 'http://dbpedia.org/resource/Heinz-Harald_Frentzen', 'http://dbpedia.org/resource/Riccardo_Patrese', 'http://dbpedia.org/resource/Jim_Clark', 'http://dbpedia.org/resource/Ralf_Schumacher', 'http://dbpedia.org/resource/Fernando_Alonso', 'http://dbpedia.org/resource/Michael_Schumacher', 'http://dbpedia.org/resource/Damon_Hill', 'http://dbpedia.org/resource/Didier_Pironi', 'http://dbpedia.org/resource/Niki_Lauda']\n",
      "record_results:  {'http://dbpedia.org/resource/Alain_Prost', 'http://dbpedia.org/resource/Elio_de_Angelis', 'http://dbpedia.org/resource/Nelson_Piquet', 'http://dbpedia.org/resource/Ayrton_Senna'}\n",
      "9 9\n",
      "462 266\n",
      "len record_results:  4\n"
     ]
    },
    {
     "name": "stderr",
     "output_type": "stream",
     "text": [
      "\n"
     ]
    }
   ],
   "source": [
    "record_results = complex_partly_query_run(filtered_results)\n",
    "\n",
    "\n",
    "print(\"record_seed\", record_seed)\n",
    "print(\"record_gold: \", record_gold)\n",
    "\n",
    "print(\"record_results: \", record_results)\n",
    "\n",
    "for k in result.keys():\n",
    "    print(len(result[k]), len(filtered_results[k]))\n",
    "\n",
    "print(\"len record_results: \", len(record_results))"
   ]
  },
  {
   "cell_type": "code",
   "execution_count": null,
   "metadata": {
    "collapsed": false
   },
   "outputs": [],
   "source": [
    "last_part = [[item[1], item[0][1][2]] for item in filtered_results[\"backward2\"]]"
   ]
  },
  {
   "cell_type": "code",
   "execution_count": null,
   "metadata": {
    "collapsed": false
   },
   "outputs": [],
   "source": [
    "import pandas as pd\n",
    "from IPython.display import display, HTML\n",
    "pd.set_option('display.max_rows', 500)\n",
    "pdf = pd.DataFrame(last_part, columns = [\"QueryResultCount\", \"EndNode\"])\n",
    "pdf_grouped = pdf.groupby(\"EndNode\").agg({\"QueryResultCount\": lambda x: list(x)}).reset_index()\n",
    "pdf_grouped[\"len\"] = pdf_grouped[\"QueryResultCount\"].apply(lambda x: len(x))\n",
    "pdf_grouped[\"LastPart\"] = pdf_grouped[\"EndNode\"].apply(lambda x: x.split(\"/\")[-1])\n",
    "pdf_grouped[\"CorePart\"] = pdf_grouped[\"EndNode\"].apply(lambda x: \"/\".join(x.split(\"/\")[:-1]))\n",
    "pdf_grouped = pdf_grouped.sort_values(\"LastPart\")"
   ]
  },
  {
   "cell_type": "code",
   "execution_count": 145,
   "metadata": {
    "collapsed": false
   },
   "outputs": [
    {
     "data": {
      "text/html": [
       "<div>\n",
       "<style scoped>\n",
       "    .dataframe tbody tr th:only-of-type {\n",
       "        vertical-align: middle;\n",
       "    }\n",
       "\n",
       "    .dataframe tbody tr th {\n",
       "        vertical-align: top;\n",
       "    }\n",
       "\n",
       "    .dataframe thead th {\n",
       "        text-align: right;\n",
       "    }\n",
       "</style>\n",
       "<table border=\"1\" class=\"dataframe\">\n",
       "  <thead>\n",
       "    <tr style=\"text-align: right;\">\n",
       "      <th></th>\n",
       "      <th>EndNode</th>\n",
       "      <th>QueryResultCount</th>\n",
       "      <th>len</th>\n",
       "      <th>LastPart</th>\n",
       "      <th>CorePart</th>\n",
       "    </tr>\n",
       "  </thead>\n",
       "  <tbody>\n",
       "    <tr>\n",
       "      <th>0</th>\n",
       "      <td>43.73465 7.421333333333333</td>\n",
       "      <td>[69, 71]</td>\n",
       "      <td>2</td>\n",
       "      <td>43.73465 7.421333333333333</td>\n",
       "      <td></td>\n",
       "    </tr>\n",
       "    <tr>\n",
       "      <th>4</th>\n",
       "      <td>http://dbpedia.org/ontology/Agent</td>\n",
       "      <td>[160025, 160276]</td>\n",
       "      <td>2</td>\n",
       "      <td>Agent</td>\n",
       "      <td>http://dbpedia.org/ontology</td>\n",
       "    </tr>\n",
       "    <tr>\n",
       "      <th>18</th>\n",
       "      <td>http://dbpedia.org/resource/Alain_Prost</td>\n",
       "      <td>[17, 17, 20, 20, 32, 32, 35, 35, 39, 39, 39, 3...</td>\n",
       "      <td>20</td>\n",
       "      <td>Alain_Prost</td>\n",
       "      <td>http://dbpedia.org/resource</td>\n",
       "    </tr>\n",
       "    <tr>\n",
       "      <th>5</th>\n",
       "      <td>http://dbpedia.org/ontology/Athlete</td>\n",
       "      <td>[23739, 23992]</td>\n",
       "      <td>2</td>\n",
       "      <td>Athlete</td>\n",
       "      <td>http://dbpedia.org/ontology</td>\n",
       "    </tr>\n",
       "    <tr>\n",
       "      <th>19</th>\n",
       "      <td>http://dbpedia.org/resource/Autodromo_Enzo_e_D...</td>\n",
       "      <td>[27, 27, 28, 28]</td>\n",
       "      <td>4</td>\n",
       "      <td>Autodromo_Enzo_e_Dino_Ferrari</td>\n",
       "      <td>http://dbpedia.org/resource</td>\n",
       "    </tr>\n",
       "    <tr>\n",
       "      <th>20</th>\n",
       "      <td>http://dbpedia.org/resource/Autódromo_Internac...</td>\n",
       "      <td>[10, 10]</td>\n",
       "      <td>2</td>\n",
       "      <td>Autódromo_Internacional_Nelson_Piquet</td>\n",
       "      <td>http://dbpedia.org/resource</td>\n",
       "    </tr>\n",
       "    <tr>\n",
       "      <th>21</th>\n",
       "      <td>http://dbpedia.org/resource/Ayrton_Senna</td>\n",
       "      <td>[16, 16, 19, 19, 59, 59, 59, 59, 65, 65, 65, 65]</td>\n",
       "      <td>12</td>\n",
       "      <td>Ayrton_Senna</td>\n",
       "      <td>http://dbpedia.org/resource</td>\n",
       "    </tr>\n",
       "    <tr>\n",
       "      <th>22</th>\n",
       "      <td>http://dbpedia.org/resource/BMW_in_Formula_One</td>\n",
       "      <td>[33]</td>\n",
       "      <td>1</td>\n",
       "      <td>BMW_in_Formula_One</td>\n",
       "      <td>http://dbpedia.org/resource</td>\n",
       "    </tr>\n",
       "    <tr>\n",
       "      <th>23</th>\n",
       "      <td>http://dbpedia.org/resource/Brabham</td>\n",
       "      <td>[55, 55]</td>\n",
       "      <td>2</td>\n",
       "      <td>Brabham</td>\n",
       "      <td>http://dbpedia.org/resource</td>\n",
       "    </tr>\n",
       "    <tr>\n",
       "      <th>24</th>\n",
       "      <td>http://dbpedia.org/resource/Circuit_Gilles_Vil...</td>\n",
       "      <td>[30, 32, 32, 36]</td>\n",
       "      <td>4</td>\n",
       "      <td>Circuit_Gilles_Villeneuve</td>\n",
       "      <td>http://dbpedia.org/resource</td>\n",
       "    </tr>\n",
       "    <tr>\n",
       "      <th>25</th>\n",
       "      <td>http://dbpedia.org/resource/Circuit_de_Monaco</td>\n",
       "      <td>[62, 64, 65, 67]</td>\n",
       "      <td>4</td>\n",
       "      <td>Circuit_de_Monaco</td>\n",
       "      <td>http://dbpedia.org/resource</td>\n",
       "    </tr>\n",
       "    <tr>\n",
       "      <th>6</th>\n",
       "      <td>http://dbpedia.org/ontology/Competition</td>\n",
       "      <td>[173, 180, 181, 195, 196, 241]</td>\n",
       "      <td>6</td>\n",
       "      <td>Competition</td>\n",
       "      <td>http://dbpedia.org/ontology</td>\n",
       "    </tr>\n",
       "    <tr>\n",
       "      <th>1</th>\n",
       "      <td>http://dbpedia.org/dbtax/Competition</td>\n",
       "      <td>[173, 180, 181, 195, 196, 241]</td>\n",
       "      <td>6</td>\n",
       "      <td>Competition</td>\n",
       "      <td>http://dbpedia.org/dbtax</td>\n",
       "    </tr>\n",
       "    <tr>\n",
       "      <th>26</th>\n",
       "      <td>http://dbpedia.org/resource/Driver</td>\n",
       "      <td>[2815, 2826]</td>\n",
       "      <td>2</td>\n",
       "      <td>Driver</td>\n",
       "      <td>http://dbpedia.org/resource</td>\n",
       "    </tr>\n",
       "    <tr>\n",
       "      <th>2</th>\n",
       "      <td>http://dbpedia.org/dbtax/Driver</td>\n",
       "      <td>[4176, 4197]</td>\n",
       "      <td>2</td>\n",
       "      <td>Driver</td>\n",
       "      <td>http://dbpedia.org/dbtax</td>\n",
       "    </tr>\n",
       "    <tr>\n",
       "      <th>39</th>\n",
       "      <td>http://schema.org/Event</td>\n",
       "      <td>[1265, 1280, 1302, 1307, 1321, 1336, 1341, 1347]</td>\n",
       "      <td>8</td>\n",
       "      <td>Event</td>\n",
       "      <td>http://schema.org</td>\n",
       "    </tr>\n",
       "    <tr>\n",
       "      <th>7</th>\n",
       "      <td>http://dbpedia.org/ontology/Event</td>\n",
       "      <td>[1265, 1297, 1302, 1307, 1321, 1340, 1345, 1351]</td>\n",
       "      <td>8</td>\n",
       "      <td>Event</td>\n",
       "      <td>http://dbpedia.org/ontology</td>\n",
       "    </tr>\n",
       "    <tr>\n",
       "      <th>8</th>\n",
       "      <td>http://dbpedia.org/ontology/FormulaOneRacer</td>\n",
       "      <td>[1184, 1198]</td>\n",
       "      <td>2</td>\n",
       "      <td>FormulaOneRacer</td>\n",
       "      <td>http://dbpedia.org/ontology</td>\n",
       "    </tr>\n",
       "    <tr>\n",
       "      <th>9</th>\n",
       "      <td>http://dbpedia.org/ontology/GrandPrix</td>\n",
       "      <td>[1265, 1280, 1302, 1307, 1321, 1336, 1341, 1347]</td>\n",
       "      <td>8</td>\n",
       "      <td>GrandPrix</td>\n",
       "      <td>http://dbpedia.org/ontology</td>\n",
       "    </tr>\n",
       "    <tr>\n",
       "      <th>27</th>\n",
       "      <td>http://dbpedia.org/resource/Honda_in_Formula_One</td>\n",
       "      <td>[56, 56, 56, 57, 71]</td>\n",
       "      <td>5</td>\n",
       "      <td>Honda_in_Formula_One</td>\n",
       "      <td>http://dbpedia.org/resource</td>\n",
       "    </tr>\n",
       "    <tr>\n",
       "      <th>28</th>\n",
       "      <td>http://dbpedia.org/resource/Jacarepaguá</td>\n",
       "      <td>[6, 6]</td>\n",
       "      <td>2</td>\n",
       "      <td>Jacarepaguá</td>\n",
       "      <td>http://dbpedia.org/resource</td>\n",
       "    </tr>\n",
       "    <tr>\n",
       "      <th>29</th>\n",
       "      <td>http://dbpedia.org/resource/Kyalami</td>\n",
       "      <td>[24, 24, 25, 25]</td>\n",
       "      <td>4</td>\n",
       "      <td>Kyalami</td>\n",
       "      <td>http://dbpedia.org/resource</td>\n",
       "    </tr>\n",
       "    <tr>\n",
       "      <th>30</th>\n",
       "      <td>http://dbpedia.org/resource/McLaren</td>\n",
       "      <td>[156, 156, 157, 157, 158, 158, 158, 159, 160, ...</td>\n",
       "      <td>20</td>\n",
       "      <td>McLaren</td>\n",
       "      <td>http://dbpedia.org/resource</td>\n",
       "    </tr>\n",
       "    <tr>\n",
       "      <th>10</th>\n",
       "      <td>http://dbpedia.org/ontology/MotorsportRacer</td>\n",
       "      <td>[3646, 3646]</td>\n",
       "      <td>2</td>\n",
       "      <td>MotorsportRacer</td>\n",
       "      <td>http://dbpedia.org/ontology</td>\n",
       "    </tr>\n",
       "    <tr>\n",
       "      <th>11</th>\n",
       "      <td>http://dbpedia.org/ontology/MotorsportSeason</td>\n",
       "      <td>[9000]</td>\n",
       "      <td>1</td>\n",
       "      <td>MotorsportSeason</td>\n",
       "      <td>http://dbpedia.org/ontology</td>\n",
       "    </tr>\n",
       "    <tr>\n",
       "      <th>31</th>\n",
       "      <td>http://dbpedia.org/resource/Nelson_Piquet</td>\n",
       "      <td>[19, 19, 20, 20, 23, 23, 24, 24, 24, 25, 25]</td>\n",
       "      <td>11</td>\n",
       "      <td>Nelson_Piquet</td>\n",
       "      <td>http://dbpedia.org/resource</td>\n",
       "    </tr>\n",
       "    <tr>\n",
       "      <th>32</th>\n",
       "      <td>http://dbpedia.org/resource/Nigel_Mansell</td>\n",
       "      <td>[11, 11, 11, 11, 32]</td>\n",
       "      <td>5</td>\n",
       "      <td>Nigel_Mansell</td>\n",
       "      <td>http://dbpedia.org/resource</td>\n",
       "    </tr>\n",
       "    <tr>\n",
       "      <th>40</th>\n",
       "      <td>http://schema.org/Person</td>\n",
       "      <td>[158105, 158359]</td>\n",
       "      <td>2</td>\n",
       "      <td>Person</td>\n",
       "      <td>http://schema.org</td>\n",
       "    </tr>\n",
       "    <tr>\n",
       "      <th>43</th>\n",
       "      <td>http://xmlns.com/foaf/0.1/Person</td>\n",
       "      <td>[158119, 158373]</td>\n",
       "      <td>2</td>\n",
       "      <td>Person</td>\n",
       "      <td>http://xmlns.com/foaf/0.1</td>\n",
       "    </tr>\n",
       "    <tr>\n",
       "      <th>12</th>\n",
       "      <td>http://dbpedia.org/ontology/Person</td>\n",
       "      <td>[177604, 178035]</td>\n",
       "      <td>2</td>\n",
       "      <td>Person</td>\n",
       "      <td>http://dbpedia.org/ontology</td>\n",
       "    </tr>\n",
       "    <tr>\n",
       "      <th>13</th>\n",
       "      <td>http://dbpedia.org/ontology/Race</td>\n",
       "      <td>[1126, 1157, 1161, 1168, 1381, 1386, 1980, 2007]</td>\n",
       "      <td>8</td>\n",
       "      <td>Race</td>\n",
       "      <td>http://dbpedia.org/ontology</td>\n",
       "    </tr>\n",
       "    <tr>\n",
       "      <th>33</th>\n",
       "      <td>http://dbpedia.org/resource/Race</td>\n",
       "      <td>[1192, 1225, 1231, 1243, 1318, 1324, 1748, 1779]</td>\n",
       "      <td>8</td>\n",
       "      <td>Race</td>\n",
       "      <td>http://dbpedia.org/resource</td>\n",
       "    </tr>\n",
       "    <tr>\n",
       "      <th>3</th>\n",
       "      <td>http://dbpedia.org/dbtax/Race</td>\n",
       "      <td>[1126, 1157, 1161, 1168, 1381, 1386, 1980, 2007]</td>\n",
       "      <td>8</td>\n",
       "      <td>Race</td>\n",
       "      <td>http://dbpedia.org/dbtax</td>\n",
       "    </tr>\n",
       "    <tr>\n",
       "      <th>14</th>\n",
       "      <td>http://dbpedia.org/ontology/RacingDriver</td>\n",
       "      <td>[4094, 4101]</td>\n",
       "      <td>2</td>\n",
       "      <td>RacingDriver</td>\n",
       "      <td>http://dbpedia.org/ontology</td>\n",
       "    </tr>\n",
       "    <tr>\n",
       "      <th>34</th>\n",
       "      <td>http://dbpedia.org/resource/Renault_in_Formula...</td>\n",
       "      <td>[31, 31, 135, 135, 135, 141, 147, 156, 165, 16...</td>\n",
       "      <td>20</td>\n",
       "      <td>Renault_in_Formula_One</td>\n",
       "      <td>http://dbpedia.org/resource</td>\n",
       "    </tr>\n",
       "    <tr>\n",
       "      <th>35</th>\n",
       "      <td>http://dbpedia.org/resource/Scuderia_Ferrari</td>\n",
       "      <td>[235, 236, 237, 238, 257, 259, 259, 260, 261, ...</td>\n",
       "      <td>20</td>\n",
       "      <td>Scuderia_Ferrari</td>\n",
       "      <td>http://dbpedia.org/resource</td>\n",
       "    </tr>\n",
       "    <tr>\n",
       "      <th>15</th>\n",
       "      <td>http://dbpedia.org/ontology/SocietalEvent</td>\n",
       "      <td>[1265, 1280, 1302, 1307, 1321, 1336, 1341, 1347]</td>\n",
       "      <td>8</td>\n",
       "      <td>SocietalEvent</td>\n",
       "      <td>http://dbpedia.org/ontology</td>\n",
       "    </tr>\n",
       "    <tr>\n",
       "      <th>16</th>\n",
       "      <td>http://dbpedia.org/ontology/SportsEvent</td>\n",
       "      <td>[1265, 1302, 1307, 1321, 1401, 1407, 1977, 2009]</td>\n",
       "      <td>8</td>\n",
       "      <td>SportsEvent</td>\n",
       "      <td>http://dbpedia.org/ontology</td>\n",
       "    </tr>\n",
       "    <tr>\n",
       "      <th>41</th>\n",
       "      <td>http://schema.org/SportsEvent</td>\n",
       "      <td>[1265, 1280, 1302, 1307, 1321, 1336, 1341, 1347]</td>\n",
       "      <td>8</td>\n",
       "      <td>SportsEvent</td>\n",
       "      <td>http://schema.org</td>\n",
       "    </tr>\n",
       "    <tr>\n",
       "      <th>17</th>\n",
       "      <td>http://dbpedia.org/ontology/SportsSeason</td>\n",
       "      <td>[8999]</td>\n",
       "      <td>1</td>\n",
       "      <td>SportsSeason</td>\n",
       "      <td>http://dbpedia.org/ontology</td>\n",
       "    </tr>\n",
       "    <tr>\n",
       "      <th>36</th>\n",
       "      <td>http://dbpedia.org/resource/Team_Lotus</td>\n",
       "      <td>[80, 80, 81, 84, 161, 161, 162, 162, 162, 162,...</td>\n",
       "      <td>12</td>\n",
       "      <td>Team_Lotus</td>\n",
       "      <td>http://dbpedia.org/resource</td>\n",
       "    </tr>\n",
       "    <tr>\n",
       "      <th>37</th>\n",
       "      <td>http://dbpedia.org/resource/Techniques_d'Avant...</td>\n",
       "      <td>[14, 14, 25, 25]</td>\n",
       "      <td>4</td>\n",
       "      <td>Techniques_d'Avant_Garde</td>\n",
       "      <td>http://dbpedia.org/resource</td>\n",
       "    </tr>\n",
       "    <tr>\n",
       "      <th>38</th>\n",
       "      <td>http://dbpedia.org/resource/Williams_Grand_Pri...</td>\n",
       "      <td>[84, 84, 84, 84, 110, 110, 110, 110, 110, 110,...</td>\n",
       "      <td>22</td>\n",
       "      <td>Williams_Grand_Prix_Engineering</td>\n",
       "      <td>http://dbpedia.org/resource</td>\n",
       "    </tr>\n",
       "    <tr>\n",
       "      <th>42</th>\n",
       "      <td>http://www.w3.org/2003/01/geo/wgs84_pos#Spatia...</td>\n",
       "      <td>[228, 260]</td>\n",
       "      <td>2</td>\n",
       "      <td>wgs84_pos#SpatialThing</td>\n",
       "      <td>http://www.w3.org/2003/01/geo</td>\n",
       "    </tr>\n",
       "  </tbody>\n",
       "</table>\n",
       "</div>"
      ],
      "text/plain": [
       "                                              EndNode   \n",
       "0                          43.73465 7.421333333333333  \\\n",
       "4                   http://dbpedia.org/ontology/Agent   \n",
       "18            http://dbpedia.org/resource/Alain_Prost   \n",
       "5                 http://dbpedia.org/ontology/Athlete   \n",
       "19  http://dbpedia.org/resource/Autodromo_Enzo_e_D...   \n",
       "20  http://dbpedia.org/resource/Autódromo_Internac...   \n",
       "21           http://dbpedia.org/resource/Ayrton_Senna   \n",
       "22     http://dbpedia.org/resource/BMW_in_Formula_One   \n",
       "23                http://dbpedia.org/resource/Brabham   \n",
       "24  http://dbpedia.org/resource/Circuit_Gilles_Vil...   \n",
       "25      http://dbpedia.org/resource/Circuit_de_Monaco   \n",
       "6             http://dbpedia.org/ontology/Competition   \n",
       "1                http://dbpedia.org/dbtax/Competition   \n",
       "26                 http://dbpedia.org/resource/Driver   \n",
       "2                     http://dbpedia.org/dbtax/Driver   \n",
       "39                            http://schema.org/Event   \n",
       "7                   http://dbpedia.org/ontology/Event   \n",
       "8         http://dbpedia.org/ontology/FormulaOneRacer   \n",
       "9               http://dbpedia.org/ontology/GrandPrix   \n",
       "27   http://dbpedia.org/resource/Honda_in_Formula_One   \n",
       "28            http://dbpedia.org/resource/Jacarepaguá   \n",
       "29                http://dbpedia.org/resource/Kyalami   \n",
       "30                http://dbpedia.org/resource/McLaren   \n",
       "10        http://dbpedia.org/ontology/MotorsportRacer   \n",
       "11       http://dbpedia.org/ontology/MotorsportSeason   \n",
       "31          http://dbpedia.org/resource/Nelson_Piquet   \n",
       "32          http://dbpedia.org/resource/Nigel_Mansell   \n",
       "40                           http://schema.org/Person   \n",
       "43                   http://xmlns.com/foaf/0.1/Person   \n",
       "12                 http://dbpedia.org/ontology/Person   \n",
       "13                   http://dbpedia.org/ontology/Race   \n",
       "33                   http://dbpedia.org/resource/Race   \n",
       "3                       http://dbpedia.org/dbtax/Race   \n",
       "14           http://dbpedia.org/ontology/RacingDriver   \n",
       "34  http://dbpedia.org/resource/Renault_in_Formula...   \n",
       "35       http://dbpedia.org/resource/Scuderia_Ferrari   \n",
       "15          http://dbpedia.org/ontology/SocietalEvent   \n",
       "16            http://dbpedia.org/ontology/SportsEvent   \n",
       "41                      http://schema.org/SportsEvent   \n",
       "17           http://dbpedia.org/ontology/SportsSeason   \n",
       "36             http://dbpedia.org/resource/Team_Lotus   \n",
       "37  http://dbpedia.org/resource/Techniques_d'Avant...   \n",
       "38  http://dbpedia.org/resource/Williams_Grand_Pri...   \n",
       "42  http://www.w3.org/2003/01/geo/wgs84_pos#Spatia...   \n",
       "\n",
       "                                     QueryResultCount  len   \n",
       "0                                            [69, 71]    2  \\\n",
       "4                                    [160025, 160276]    2   \n",
       "18  [17, 17, 20, 20, 32, 32, 35, 35, 39, 39, 39, 3...   20   \n",
       "5                                      [23739, 23992]    2   \n",
       "19                                   [27, 27, 28, 28]    4   \n",
       "20                                           [10, 10]    2   \n",
       "21   [16, 16, 19, 19, 59, 59, 59, 59, 65, 65, 65, 65]   12   \n",
       "22                                               [33]    1   \n",
       "23                                           [55, 55]    2   \n",
       "24                                   [30, 32, 32, 36]    4   \n",
       "25                                   [62, 64, 65, 67]    4   \n",
       "6                      [173, 180, 181, 195, 196, 241]    6   \n",
       "1                      [173, 180, 181, 195, 196, 241]    6   \n",
       "26                                       [2815, 2826]    2   \n",
       "2                                        [4176, 4197]    2   \n",
       "39   [1265, 1280, 1302, 1307, 1321, 1336, 1341, 1347]    8   \n",
       "7    [1265, 1297, 1302, 1307, 1321, 1340, 1345, 1351]    8   \n",
       "8                                        [1184, 1198]    2   \n",
       "9    [1265, 1280, 1302, 1307, 1321, 1336, 1341, 1347]    8   \n",
       "27                               [56, 56, 56, 57, 71]    5   \n",
       "28                                             [6, 6]    2   \n",
       "29                                   [24, 24, 25, 25]    4   \n",
       "30  [156, 156, 157, 157, 158, 158, 158, 159, 160, ...   20   \n",
       "10                                       [3646, 3646]    2   \n",
       "11                                             [9000]    1   \n",
       "31       [19, 19, 20, 20, 23, 23, 24, 24, 24, 25, 25]   11   \n",
       "32                               [11, 11, 11, 11, 32]    5   \n",
       "40                                   [158105, 158359]    2   \n",
       "43                                   [158119, 158373]    2   \n",
       "12                                   [177604, 178035]    2   \n",
       "13   [1126, 1157, 1161, 1168, 1381, 1386, 1980, 2007]    8   \n",
       "33   [1192, 1225, 1231, 1243, 1318, 1324, 1748, 1779]    8   \n",
       "3    [1126, 1157, 1161, 1168, 1381, 1386, 1980, 2007]    8   \n",
       "14                                       [4094, 4101]    2   \n",
       "34  [31, 31, 135, 135, 135, 141, 147, 156, 165, 16...   20   \n",
       "35  [235, 236, 237, 238, 257, 259, 259, 260, 261, ...   20   \n",
       "15   [1265, 1280, 1302, 1307, 1321, 1336, 1341, 1347]    8   \n",
       "16   [1265, 1302, 1307, 1321, 1401, 1407, 1977, 2009]    8   \n",
       "41   [1265, 1280, 1302, 1307, 1321, 1336, 1341, 1347]    8   \n",
       "17                                             [8999]    1   \n",
       "36  [80, 80, 81, 84, 161, 161, 162, 162, 162, 162,...   12   \n",
       "37                                   [14, 14, 25, 25]    4   \n",
       "38  [84, 84, 84, 84, 110, 110, 110, 110, 110, 110,...   22   \n",
       "42                                         [228, 260]    2   \n",
       "\n",
       "                                 LastPart                       CorePart  \n",
       "0              43.73465 7.421333333333333                                 \n",
       "4                                   Agent    http://dbpedia.org/ontology  \n",
       "18                            Alain_Prost    http://dbpedia.org/resource  \n",
       "5                                 Athlete    http://dbpedia.org/ontology  \n",
       "19          Autodromo_Enzo_e_Dino_Ferrari    http://dbpedia.org/resource  \n",
       "20  Autódromo_Internacional_Nelson_Piquet    http://dbpedia.org/resource  \n",
       "21                           Ayrton_Senna    http://dbpedia.org/resource  \n",
       "22                     BMW_in_Formula_One    http://dbpedia.org/resource  \n",
       "23                                Brabham    http://dbpedia.org/resource  \n",
       "24              Circuit_Gilles_Villeneuve    http://dbpedia.org/resource  \n",
       "25                      Circuit_de_Monaco    http://dbpedia.org/resource  \n",
       "6                             Competition    http://dbpedia.org/ontology  \n",
       "1                             Competition       http://dbpedia.org/dbtax  \n",
       "26                                 Driver    http://dbpedia.org/resource  \n",
       "2                                  Driver       http://dbpedia.org/dbtax  \n",
       "39                                  Event              http://schema.org  \n",
       "7                                   Event    http://dbpedia.org/ontology  \n",
       "8                         FormulaOneRacer    http://dbpedia.org/ontology  \n",
       "9                               GrandPrix    http://dbpedia.org/ontology  \n",
       "27                   Honda_in_Formula_One    http://dbpedia.org/resource  \n",
       "28                            Jacarepaguá    http://dbpedia.org/resource  \n",
       "29                                Kyalami    http://dbpedia.org/resource  \n",
       "30                                McLaren    http://dbpedia.org/resource  \n",
       "10                        MotorsportRacer    http://dbpedia.org/ontology  \n",
       "11                       MotorsportSeason    http://dbpedia.org/ontology  \n",
       "31                          Nelson_Piquet    http://dbpedia.org/resource  \n",
       "32                          Nigel_Mansell    http://dbpedia.org/resource  \n",
       "40                                 Person              http://schema.org  \n",
       "43                                 Person      http://xmlns.com/foaf/0.1  \n",
       "12                                 Person    http://dbpedia.org/ontology  \n",
       "13                                   Race    http://dbpedia.org/ontology  \n",
       "33                                   Race    http://dbpedia.org/resource  \n",
       "3                                    Race       http://dbpedia.org/dbtax  \n",
       "14                           RacingDriver    http://dbpedia.org/ontology  \n",
       "34                 Renault_in_Formula_One    http://dbpedia.org/resource  \n",
       "35                       Scuderia_Ferrari    http://dbpedia.org/resource  \n",
       "15                          SocietalEvent    http://dbpedia.org/ontology  \n",
       "16                            SportsEvent    http://dbpedia.org/ontology  \n",
       "41                            SportsEvent              http://schema.org  \n",
       "17                           SportsSeason    http://dbpedia.org/ontology  \n",
       "36                             Team_Lotus    http://dbpedia.org/resource  \n",
       "37               Techniques_d'Avant_Garde    http://dbpedia.org/resource  \n",
       "38        Williams_Grand_Prix_Engineering    http://dbpedia.org/resource  \n",
       "42                 wgs84_pos#SpatialThing  http://www.w3.org/2003/01/geo  "
      ]
     },
     "metadata": {},
     "output_type": "display_data"
    }
   ],
   "source": [
    "display(pdf_grouped)"
   ]
  },
  {
   "cell_type": "code",
   "execution_count": 146,
   "metadata": {
    "collapsed": false
   },
   "outputs": [
    {
     "data": {
      "text/plain": [
       "284"
      ]
     },
     "execution_count": 146,
     "metadata": {},
     "output_type": "execute_result"
    }
   ],
   "source": [
    "sum(pdf_grouped[\"len\"].tolist())"
   ]
  },
  {
   "cell_type": "code",
   "execution_count": null,
   "metadata": {
    "collapsed": false
   },
   "outputs": [],
   "source": []
  }
 ],
 "metadata": {
  "kernelspec": {
   "display_name": "Python [conda env:continue] *",
   "language": "python",
   "name": "conda-env-continue-py"
  },
  "language_info": {
   "codemirror_mode": {
    "name": "ipython",
    "version": 2
   },
   "file_extension": ".py",
   "mimetype": "text/x-python",
   "name": "python",
   "nbconvert_exporter": "python",
   "pygments_lexer": "ipython2",
   "version": "2.7.6"
  }
 },
 "nbformat": 4,
 "nbformat_minor": 0
}
