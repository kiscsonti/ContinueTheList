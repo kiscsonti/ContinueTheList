{
 "cells": [
  {
   "cell_type": "code",
   "execution_count": 8,
   "metadata": {
    "collapsed": false
   },
   "outputs": [
    {
     "name": "stdout",
     "output_type": "stream",
     "text": [
      "The autoreload extension is already loaded. To reload it, use:\n",
      "  %reload_ext autoreload\n"
     ]
    }
   ],
   "source": [
    "import pandas as pd\n",
    "%load_ext autoreload\n",
    "%autoreload 2"
   ]
  },
  {
   "cell_type": "code",
   "execution_count": 9,
   "metadata": {
    "collapsed": false
   },
   "outputs": [],
   "source": [
    "import os\n",
    "import sys\n",
    "module_path = os.path.abspath(os.path.join('..'))\n",
    "if module_path not in sys.path:\n",
    "    sys.path.append(module_path)"
   ]
  },
  {
   "cell_type": "code",
   "execution_count": 10,
   "metadata": {
    "collapsed": true
   },
   "outputs": [],
   "source": [
    "import argparse\n",
    "import pickle\n",
    "from evaluation.evaluate_script import (node_eval_ds, node_eval_ds_no_seed,\n",
    "                                        graph_eval_relaxed_ds, graph_eval_ranking_ds_nodes)\n",
    "from excludes.filters import filter_url, filter_none\n",
    "from evaluation.evaluation_script_v2 import MAIN_node_eval_ds_aggregated, MAIN_graph_ranking_on_nodes\n",
    "from evaluation.query_selectors import select_min, select_xth, select_thresholded, select_average\n",
    "import os\n",
    "import json"
   ]
  },
  {
   "cell_type": "code",
   "execution_count": null,
   "metadata": {
    "collapsed": false,
    "pycharm": {
     "is_executing": true
    }
   },
   "outputs": [
    {
     "name": "stdout",
     "output_type": "stream",
     "text": [
      "0 : graphwalk_v4_output_sample4_seed50_all.pickle\n",
      "Node eval TOP3\n"
     ]
    },
    {
     "name": "stderr",
     "output_type": "stream",
     "text": [
      "100%|█████████████████████████████████████████| 310/310 [00:15<00:00, 20.31it/s]\n"
     ]
    },
    {
     "name": "stdout",
     "output_type": "stream",
     "text": [
      "Node eval TOP3 Done!\n",
      "OK\n"
     ]
    },
    {
     "name": "stderr",
     "output_type": "stream",
     "text": [
      "100%|█████████████████████████████████████████| 310/310 [00:45<00:00,  6.78it/s]\n"
     ]
    },
    {
     "name": "stdout",
     "output_type": "stream",
     "text": [
      "1 : graphwalk_v4_output_sample4_seed80.pickle\n",
      "Node eval TOP3\n"
     ]
    },
    {
     "name": "stderr",
     "output_type": "stream",
     "text": [
      "100%|█████████████████████████████████████████| 250/250 [00:11<00:00, 21.66it/s]\n"
     ]
    },
    {
     "name": "stdout",
     "output_type": "stream",
     "text": [
      "Node eval TOP3 Done!\n",
      "OK\n"
     ]
    },
    {
     "name": "stderr",
     "output_type": "stream",
     "text": [
      "100%|█████████████████████████████████████████| 250/250 [00:19<00:00, 12.80it/s]\n"
     ]
    },
    {
     "name": "stdout",
     "output_type": "stream",
     "text": [
      "2 : graphwalk_v4_output_sample8_seed50_all.pickle\n",
      "Node eval TOP3\n"
     ]
    },
    {
     "name": "stderr",
     "output_type": "stream",
     "text": [
      "100%|█████████████████████████████████████████| 310/310 [00:13<00:00, 23.12it/s]\n"
     ]
    },
    {
     "name": "stdout",
     "output_type": "stream",
     "text": [
      "Node eval TOP3 Done!\n",
      "OK\n"
     ]
    },
    {
     "name": "stderr",
     "output_type": "stream",
     "text": [
      "100%|█████████████████████████████████████████| 310/310 [00:18<00:00, 17.08it/s]\n"
     ]
    },
    {
     "name": "stdout",
     "output_type": "stream",
     "text": [
      "3 : graphwalk_v4_output_sample8_seed70_all.pickle\n",
      "Node eval TOP3\n"
     ]
    },
    {
     "name": "stderr",
     "output_type": "stream",
     "text": [
      "100%|█████████████████████████████████████████| 310/310 [00:13<00:00, 22.86it/s]\n"
     ]
    },
    {
     "name": "stdout",
     "output_type": "stream",
     "text": [
      "Node eval TOP3 Done!\n",
      "OK\n"
     ]
    },
    {
     "name": "stderr",
     "output_type": "stream",
     "text": [
      "100%|█████████████████████████████████████████| 310/310 [00:18<00:00, 16.66it/s]\n"
     ]
    },
    {
     "name": "stdout",
     "output_type": "stream",
     "text": [
      "4 : graphwalk_v4_output_sample6_seed70.pickle\n",
      "Node eval TOP3\n"
     ]
    },
    {
     "name": "stderr",
     "output_type": "stream",
     "text": [
      "100%|█████████████████████████████████████████| 250/250 [00:11<00:00, 22.61it/s]\n"
     ]
    },
    {
     "name": "stdout",
     "output_type": "stream",
     "text": [
      "Node eval TOP3 Done!\n",
      "OK\n"
     ]
    },
    {
     "name": "stderr",
     "output_type": "stream",
     "text": [
      "100%|█████████████████████████████████████████| 250/250 [00:16<00:00, 15.40it/s]\n"
     ]
    },
    {
     "name": "stdout",
     "output_type": "stream",
     "text": [
      "5 : graphwalk_v4_output_sample4_seed70_all.pickle\n",
      "Node eval TOP3\n"
     ]
    },
    {
     "name": "stderr",
     "output_type": "stream",
     "text": [
      "100%|█████████████████████████████████████████| 310/310 [00:15<00:00, 19.60it/s]\n"
     ]
    },
    {
     "name": "stdout",
     "output_type": "stream",
     "text": [
      "Node eval TOP3 Done!\n",
      "OK\n"
     ]
    },
    {
     "name": "stderr",
     "output_type": "stream",
     "text": [
      "100%|█████████████████████████████████████████| 310/310 [00:24<00:00, 12.75it/s]\n"
     ]
    },
    {
     "name": "stdout",
     "output_type": "stream",
     "text": [
      "6 : graphwalk_v4_output_sample6_seed50_all.pickle\n",
      "Node eval TOP3\n"
     ]
    },
    {
     "name": "stderr",
     "output_type": "stream",
     "text": [
      "100%|█████████████████████████████████████████| 310/310 [00:14<00:00, 21.98it/s]\n"
     ]
    },
    {
     "name": "stdout",
     "output_type": "stream",
     "text": [
      "Node eval TOP3 Done!\n",
      "OK\n"
     ]
    },
    {
     "name": "stderr",
     "output_type": "stream",
     "text": [
      "100%|█████████████████████████████████████████| 310/310 [00:19<00:00, 15.63it/s]\n"
     ]
    },
    {
     "name": "stdout",
     "output_type": "stream",
     "text": [
      "7 : bertvectors_v1_output_topk_topk_10_sample8_seed44.pickle\n"
     ]
    },
    {
     "name": "stderr",
     "output_type": "stream",
     "text": [
      "100%|██████████████████████████████████████| 250/250 [00:00<00:00, 24449.17it/s]\n"
     ]
    },
    {
     "name": "stdout",
     "output_type": "stream",
     "text": [
      "8 : graphwalk_v4_output_sample8_seed60.pickle\n",
      "Node eval TOP3\n"
     ]
    },
    {
     "name": "stderr",
     "output_type": "stream",
     "text": [
      "100%|█████████████████████████████████████████| 250/250 [00:10<00:00, 24.34it/s]\n"
     ]
    },
    {
     "name": "stdout",
     "output_type": "stream",
     "text": [
      "Node eval TOP3 Done!\n",
      "OK\n"
     ]
    },
    {
     "name": "stderr",
     "output_type": "stream",
     "text": [
      "100%|█████████████████████████████████████████| 250/250 [00:14<00:00, 17.34it/s]\n"
     ]
    },
    {
     "name": "stdout",
     "output_type": "stream",
     "text": [
      "9 : graphwalk_v4_output_sample4_seed60.pickle\n",
      "Node eval TOP3\n"
     ]
    },
    {
     "name": "stderr",
     "output_type": "stream",
     "text": [
      "100%|█████████████████████████████████████████| 250/250 [00:14<00:00, 17.52it/s]\n"
     ]
    },
    {
     "name": "stdout",
     "output_type": "stream",
     "text": [
      "Node eval TOP3 Done!\n",
      "OK\n"
     ]
    },
    {
     "name": "stderr",
     "output_type": "stream",
     "text": [
      "100%|█████████████████████████████████████████| 250/250 [00:20<00:00, 12.32it/s]\n"
     ]
    },
    {
     "name": "stdout",
     "output_type": "stream",
     "text": [
      "10 : graphwalk_v4_output_sample8_seed70.pickle\n",
      "Node eval TOP3\n"
     ]
    },
    {
     "name": "stderr",
     "output_type": "stream",
     "text": [
      "100%|█████████████████████████████████████████| 250/250 [00:12<00:00, 20.41it/s]\n"
     ]
    },
    {
     "name": "stdout",
     "output_type": "stream",
     "text": [
      "Node eval TOP3 Done!\n",
      "OK\n"
     ]
    },
    {
     "name": "stderr",
     "output_type": "stream",
     "text": [
      "100%|█████████████████████████████████████████| 250/250 [00:16<00:00, 15.21it/s]\n"
     ]
    },
    {
     "name": "stdout",
     "output_type": "stream",
     "text": [
      "11 : bertvectors_v1_output_topk_topk_10_sample6_seed44.pickle\n"
     ]
    },
    {
     "name": "stderr",
     "output_type": "stream",
     "text": [
      "100%|██████████████████████████████████████| 250/250 [00:00<00:00, 24682.83it/s]\n"
     ]
    },
    {
     "name": "stdout",
     "output_type": "stream",
     "text": [
      "12 : graphwalk_v4_output_sample6_seed60_all.pickle\n",
      "Node eval TOP3\n"
     ]
    },
    {
     "name": "stderr",
     "output_type": "stream",
     "text": [
      "100%|█████████████████████████████████████████| 310/310 [00:13<00:00, 22.37it/s]\n"
     ]
    },
    {
     "name": "stdout",
     "output_type": "stream",
     "text": [
      "Node eval TOP3 Done!\n",
      "OK\n"
     ]
    },
    {
     "name": "stderr",
     "output_type": "stream",
     "text": [
      "100%|█████████████████████████████████████████| 310/310 [00:23<00:00, 13.12it/s]\n"
     ]
    },
    {
     "name": "stdout",
     "output_type": "stream",
     "text": [
      "13 : graphwalk_v4_output_sample4_seed70.pickle\n",
      "Node eval TOP3\n"
     ]
    },
    {
     "name": "stderr",
     "output_type": "stream",
     "text": [
      "100%|█████████████████████████████████████████| 250/250 [00:12<00:00, 20.28it/s]\n"
     ]
    },
    {
     "name": "stdout",
     "output_type": "stream",
     "text": [
      "Node eval TOP3 Done!\n",
      "OK\n"
     ]
    },
    {
     "name": "stderr",
     "output_type": "stream",
     "text": [
      "100%|█████████████████████████████████████████| 250/250 [00:20<00:00, 12.41it/s]\n"
     ]
    },
    {
     "name": "stdout",
     "output_type": "stream",
     "text": [
      "14 : graphwalk_v4_output_sample6_seed50.pickle\n",
      "Node eval TOP3\n"
     ]
    },
    {
     "name": "stderr",
     "output_type": "stream",
     "text": [
      "100%|█████████████████████████████████████████| 250/250 [00:11<00:00, 22.63it/s]\n"
     ]
    },
    {
     "name": "stdout",
     "output_type": "stream",
     "text": [
      "Node eval TOP3 Done!\n",
      "OK\n"
     ]
    },
    {
     "name": "stderr",
     "output_type": "stream",
     "text": [
      "100%|█████████████████████████████████████████| 250/250 [00:15<00:00, 16.11it/s]\n"
     ]
    },
    {
     "name": "stdout",
     "output_type": "stream",
     "text": [
      "15 : graphwalk_v4_output_sample6_seed80_all.pickle\n",
      "Node eval TOP3\n"
     ]
    },
    {
     "name": "stderr",
     "output_type": "stream",
     "text": [
      "100%|█████████████████████████████████████████| 310/310 [00:14<00:00, 21.47it/s]\n"
     ]
    },
    {
     "name": "stdout",
     "output_type": "stream",
     "text": [
      "Node eval TOP3 Done!\n",
      "OK\n"
     ]
    },
    {
     "name": "stderr",
     "output_type": "stream",
     "text": [
      "100%|█████████████████████████████████████████| 310/310 [00:20<00:00, 15.18it/s]\n"
     ]
    },
    {
     "name": "stdout",
     "output_type": "stream",
     "text": [
      "16 : graphwalk_v4_output_sample6_seed70_all.pickle\n",
      "Node eval TOP3\n"
     ]
    },
    {
     "name": "stderr",
     "output_type": "stream",
     "text": [
      "100%|█████████████████████████████████████████| 310/310 [00:14<00:00, 21.01it/s]\n"
     ]
    },
    {
     "name": "stdout",
     "output_type": "stream",
     "text": [
      "Node eval TOP3 Done!\n",
      "OK\n"
     ]
    },
    {
     "name": "stderr",
     "output_type": "stream",
     "text": [
      "100%|█████████████████████████████████████████| 310/310 [00:20<00:00, 15.19it/s]\n"
     ]
    },
    {
     "name": "stdout",
     "output_type": "stream",
     "text": [
      "17 : graphwalk_v4_output_sample6_seed60.pickle\n",
      "Node eval TOP3\n"
     ]
    },
    {
     "name": "stderr",
     "output_type": "stream",
     "text": [
      "100%|█████████████████████████████████████████| 250/250 [00:11<00:00, 21.64it/s]\n"
     ]
    },
    {
     "name": "stdout",
     "output_type": "stream",
     "text": [
      "Node eval TOP3 Done!\n",
      "OK\n"
     ]
    },
    {
     "name": "stderr",
     "output_type": "stream",
     "text": [
      "100%|█████████████████████████████████████████| 250/250 [00:15<00:00, 16.09it/s]\n"
     ]
    },
    {
     "name": "stdout",
     "output_type": "stream",
     "text": [
      "18 : graphwalk_v4_output_sample4_seed50.pickle\n",
      "Node eval TOP3\n"
     ]
    },
    {
     "name": "stderr",
     "output_type": "stream",
     "text": [
      "100%|█████████████████████████████████████████| 250/250 [00:11<00:00, 21.11it/s]\n"
     ]
    },
    {
     "name": "stdout",
     "output_type": "stream",
     "text": [
      "Node eval TOP3 Done!\n",
      "OK\n"
     ]
    },
    {
     "name": "stderr",
     "output_type": "stream",
     "text": [
      "100%|█████████████████████████████████████████| 250/250 [00:17<00:00, 14.33it/s]\n"
     ]
    },
    {
     "name": "stdout",
     "output_type": "stream",
     "text": [
      "19 : graphwalk_v4_output_sample8_seed80_all.pickle\n",
      "Node eval TOP3\n"
     ]
    },
    {
     "name": "stderr",
     "output_type": "stream",
     "text": [
      "100%|█████████████████████████████████████████| 310/310 [00:13<00:00, 23.42it/s]\n"
     ]
    },
    {
     "name": "stdout",
     "output_type": "stream",
     "text": [
      "Node eval TOP3 Done!\n",
      "OK\n"
     ]
    },
    {
     "name": "stderr",
     "output_type": "stream",
     "text": [
      "100%|█████████████████████████████████████████| 310/310 [00:18<00:00, 16.81it/s]\n"
     ]
    },
    {
     "name": "stdout",
     "output_type": "stream",
     "text": [
      "20 : graphwalk_v4_output_sample8_seed50.pickle\n",
      "Node eval TOP3\n"
     ]
    },
    {
     "name": "stderr",
     "output_type": "stream",
     "text": [
      "100%|█████████████████████████████████████████| 250/250 [00:10<00:00, 23.88it/s]\n"
     ]
    },
    {
     "name": "stdout",
     "output_type": "stream",
     "text": [
      "Node eval TOP3 Done!\n",
      "OK\n"
     ]
    },
    {
     "name": "stderr",
     "output_type": "stream",
     "text": [
      " 26%|██████████▊                               | 64/250 [00:02<00:08, 22.24it/s]"
     ]
    }
   ],
   "source": [
    "\n",
    "folder = \"/home/kardosp/continuethelist/automatic_outputs/\"\n",
    "output = \"/home/kardosp/continuethelist/evals2\"\n",
    "filter = \"url\"\n",
    "\n",
    "\n",
    "a = select_min\n",
    "# b = lambda x: select_xth(x, 2)\n",
    "b = lambda x: select_average(x, 100)\n",
    "c = lambda x: select_thresholded(x, 100)\n",
    "top_funcs = [a, b, c]\n",
    "\n",
    "files = os.listdir(folder)\n",
    "\n",
    "for i, file in enumerate(files):\n",
    "    print(i, \":\", file)\n",
    "    #if \"bert\" not in file:\n",
    "    #    continue\n",
    "\n",
    "    fpath = os.path.join(folder, file)\n",
    "\n",
    "\n",
    "    with open(fpath, \"rb\") as f:\n",
    "        algo_results = pickle.load(f)\n",
    "\n",
    "    if filter == \"url\":\n",
    "        filter_function = filter_url\n",
    "    else:\n",
    "        filter_function = filter_none\n",
    "\n",
    "    output_dict = MAIN_node_eval_ds_aggregated(algo_results, filter_function, pred_column=\"output\",\n",
    "                                               gold_column=\"result_urlonly\", top_funcs=top_funcs)\n",
    "\n",
    "    if \"explanation\" in algo_results[0]:\n",
    "        # graph_eval_relaxed_score = graph_eval_relaxed_ds(algo_results)\n",
    "        rank_metrics = MAIN_graph_ranking_on_nodes(algo_results, \"explanation\", False)\n",
    "\n",
    "        for k, v in rank_metrics.items():\n",
    "            output_dict[k] = v\n",
    "\n",
    "    # node_eval_score = node_eval_ds(algo_results, filter_function)\n",
    "    # node_eval_noseed_score = node_eval_ds_no_seed(algo_results, filter_function)\n",
    "    #\n",
    "    # graph_eval_relaxed_score = None\n",
    "    # if \"explanation\" in algo_results[0]:\n",
    "    #     graph_eval_relaxed_score = graph_eval_relaxed_ds(algo_results)\n",
    "    #     rank_metrics = graph_eval_ranking_ds_nodes(algo_results, \"explanation\", False)\n",
    "    #\n",
    "    #     output_dict = {\n",
    "    #         \"node_eval_score\": node_eval_score,\n",
    "    #         \"node_eval_noseed_score\": node_eval_noseed_score,\n",
    "    #         \"MR\": rank_metrics[0],\n",
    "    #         \"MRR\": rank_metrics[1],\n",
    "    #         \"hits@1\": rank_metrics[2][0],\n",
    "    #         \"hits@5\": rank_metrics[2][1],\n",
    "    #         \"hits@10\": rank_metrics[2][2],\n",
    "    #         \"rank_missing\": rank_metrics[3],\n",
    "    #     }\n",
    "    # else:\n",
    "    #     output_dict = {\n",
    "    #         \"node_eval_score\": node_eval_score,\n",
    "    #         \"node_eval_noseed_score\": node_eval_noseed_score,\n",
    "    #     }\n",
    "    # if graph_eval_relaxed_score is not None:\n",
    "    #     output_dict[\"graph_eval_relaxed_score\"] = graph_eval_relaxed_score\n",
    "\n",
    "    file_name = os.path.split(fpath)[-1].split(\".\")[0] + \".json\"\n",
    "\n",
    "    with open(os.path.join(output, file_name), \"w\") as of:\n",
    "        json.dump(output_dict, of, indent=4)\n"
   ]
  },
  {
   "cell_type": "code",
   "execution_count": null,
   "metadata": {
    "collapsed": false
   },
   "outputs": [],
   "source": []
  }
 ],
 "metadata": {
  "kernelspec": {
   "display_name": "Python [conda env:continue] *",
   "language": "python",
   "name": "conda-env-continue-py"
  },
  "language_info": {
   "codemirror_mode": {
    "name": "ipython",
    "version": 2
   },
   "file_extension": ".py",
   "mimetype": "text/x-python",
   "name": "python",
   "nbconvert_exporter": "python",
   "pygments_lexer": "ipython2",
   "version": "2.7.6"
  }
 },
 "nbformat": 4,
 "nbformat_minor": 0
}
