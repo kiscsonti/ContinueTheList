{
 "cells": [
  {
   "cell_type": "code",
   "execution_count": 1,
   "metadata": {
    "collapsed": true,
    "pycharm": {
     "name": "#%%\n"
    }
   },
   "outputs": [],
   "source": [
    "import pandas as pd\n",
    "%load_ext autoreload\n",
    "%autoreload 2"
   ]
  },
  {
   "cell_type": "code",
   "execution_count": 2,
   "metadata": {
    "collapsed": false,
    "pycharm": {
     "name": "#%%\n"
    }
   },
   "outputs": [],
   "source": [
    "import os\n",
    "import sys\n",
    "module_path = os.path.abspath(os.path.join('..'))\n",
    "if module_path not in sys.path:\n",
    "    sys.path.append(module_path)"
   ]
  },
  {
   "cell_type": "code",
   "execution_count": 71,
   "metadata": {
    "collapsed": false,
    "pycharm": {
     "name": "#%%\n"
    }
   },
   "outputs": [],
   "source": [
    "from query.query_functions2 import get_result_from_triples\n",
    "from copy import copy, deepcopy"
   ]
  },
  {
   "cell_type": "code",
   "execution_count": 64,
   "metadata": {
    "collapsed": false,
    "pycharm": {
     "name": "#%%\n"
    }
   },
   "outputs": [],
   "source": [
    "from loaders.loaders import *\n",
    "lc_quad_train = load_on_path(ds_lc_quad_train_cleaned)"
   ]
  },
  {
   "cell_type": "code",
   "execution_count": 80,
   "metadata": {
    "collapsed": false,
    "pycharm": {
     "name": "#%%\n"
    }
   },
   "outputs": [],
   "source": [
    "def is_ontology_property_replacable(record):\n",
    "    original_results = get_result_from_triples(record[\"graph\"])\n",
    "\n",
    "    ontology_only_query = []\n",
    "    for i, triple in enumerate(record[\"graph\"]):\n",
    "        triple_copy = deepcopy(triple)\n",
    "        if \"property\" in triple_copy[1]:\n",
    "            triple_copy[1] = triple_copy[1].replace(\"property\", \"ontology\")\n",
    "        ontology_only_query.append(triple_copy)\n",
    "\n",
    "    ontology_only_results = get_result_from_triples(ontology_only_query)\n",
    "\n",
    "    property_only_query = []\n",
    "    for i, triple in enumerate(record[\"graph\"]):\n",
    "        triple_copy = deepcopy(triple)\n",
    "        if \"ontology\" in triple_copy[1]:\n",
    "            triple_copy[1] = triple_copy[1].replace(\"ontology\", \"property\")\n",
    "        property_only_query.append(triple_copy)\n",
    "\n",
    "    property_only_results = get_result_from_triples(property_only_query)\n",
    "\n",
    "    if ontology_only_results is None:\n",
    "        vs_ontology_flag = False\n",
    "    else:\n",
    "        vs_ontology_only_difference = set(original_results).intersection(set(ontology_only_results))\n",
    "        vs_ontology_flag = (len(vs_ontology_only_difference) == len(set(original_results))) and (len(original_results) == len(ontology_only_results))\n",
    "\n",
    "    if property_only_results is None:\n",
    "        vs_property_flag = False\n",
    "    else:\n",
    "        vs_property_only_difference = set(original_results).intersection(set(property_only_results))\n",
    "        vs_property_flag = (len(vs_property_only_difference) == len(set(original_results))) and (len(original_results) == len(property_only_results))\n",
    "\n",
    "    return [vs_property_flag, vs_ontology_flag]"
   ]
  },
  {
   "cell_type": "code",
   "execution_count": 81,
   "metadata": {
    "collapsed": false,
    "pycharm": {
     "name": "#%%\n"
    }
   },
   "outputs": [
    {
     "name": "stdout",
     "output_type": "stream",
     "text": [
      "0\n",
      "1\n",
      "2\n",
      "3\n",
      "4\n",
      "5\n",
      "6\n",
      "7\n",
      "8\n",
      "9\n",
      "10\n",
      "11\n",
      "12\n",
      "13\n",
      "14\n",
      "15\n",
      "16\n",
      "17\n",
      "18\n",
      "19\n",
      "20\n",
      "21\n",
      "22\n",
      "23\n",
      "24\n",
      "25\n",
      "26\n",
      "27\n",
      "28\n",
      "29\n",
      "30\n",
      "31\n",
      "32\n",
      "33\n",
      "34\n",
      "35\n",
      "36\n",
      "37\n",
      "38\n",
      "39\n",
      "40\n",
      "41\n",
      "42\n",
      "43\n",
      "44\n",
      "45\n",
      "46\n",
      "47\n",
      "48\n",
      "49\n",
      "50\n",
      "51\n",
      "52\n",
      "53\n",
      "54\n",
      "55\n",
      "56\n",
      "57\n",
      "58\n",
      "59\n",
      "60\n",
      "61\n",
      "62\n",
      "63\n",
      "64\n",
      "65\n",
      "66\n",
      "67\n",
      "68\n",
      "69\n",
      "70\n",
      "71\n",
      "72\n",
      "73\n",
      "74\n",
      "75\n",
      "76\n",
      "77\n",
      "78\n",
      "79\n",
      "80\n",
      "81\n",
      "82\n",
      "83\n",
      "84\n",
      "85\n",
      "86\n",
      "87\n",
      "88\n",
      "89\n",
      "90\n",
      "91\n",
      "92\n",
      "93\n",
      "94\n",
      "95\n",
      "96\n",
      "97\n",
      "98\n",
      "99\n",
      "100\n",
      "101\n",
      "102\n",
      "103\n",
      "104\n",
      "105\n",
      "106\n",
      "107\n",
      "108\n",
      "109\n",
      "110\n",
      "111\n",
      "112\n",
      "113\n",
      "114\n",
      "115\n",
      "116\n",
      "117\n",
      "118\n",
      "119\n",
      "120\n",
      "121\n",
      "122\n",
      "123\n",
      "124\n",
      "125\n",
      "126\n",
      "127\n",
      "128\n",
      "129\n",
      "130\n",
      "131\n",
      "132\n",
      "133\n",
      "134\n",
      "135\n",
      "136\n",
      "137\n",
      "138\n",
      "139\n",
      "140\n",
      "141\n",
      "142\n",
      "143\n",
      "144\n",
      "145\n",
      "146\n",
      "147\n",
      "148\n",
      "149\n",
      "150\n",
      "151\n",
      "152\n",
      "153\n",
      "154\n",
      "155\n",
      "156\n",
      "157\n",
      "158\n",
      "159\n",
      "160\n",
      "161\n",
      "162\n",
      "163\n",
      "164\n",
      "165\n",
      "166\n",
      "167\n",
      "168\n",
      "169\n",
      "170\n",
      "171\n",
      "172\n",
      "173\n",
      "174\n",
      "175\n",
      "176\n",
      "177\n",
      "178\n",
      "179\n",
      "180\n",
      "181\n",
      "182\n",
      "183\n",
      "184\n",
      "185\n",
      "186\n",
      "187\n",
      "188\n",
      "189\n",
      "190\n",
      "191\n",
      "192\n",
      "193\n",
      "194\n",
      "195\n",
      "196\n",
      "197\n",
      "198\n",
      "199\n",
      "200\n",
      "201\n",
      "202\n",
      "203\n",
      "204\n",
      "205\n",
      "206\n",
      "207\n",
      "208\n",
      "209\n",
      "210\n",
      "211\n",
      "212\n",
      "213\n",
      "214\n",
      "215\n",
      "216\n",
      "217\n",
      "218\n",
      "219\n",
      "220\n",
      "221\n",
      "222\n",
      "223\n",
      "224\n",
      "225\n",
      "226\n",
      "227\n",
      "228\n",
      "229\n",
      "230\n",
      "231\n",
      "232\n",
      "233\n",
      "234\n",
      "235\n",
      "236\n",
      "237\n",
      "238\n",
      "239\n",
      "240\n",
      "241\n",
      "242\n",
      "243\n",
      "244\n",
      "245\n",
      "246\n",
      "247\n",
      "248\n",
      "249\n"
     ]
    }
   ],
   "source": [
    "prop_ont_replacable_flags = list()\n",
    "for i, record in enumerate(lc_quad_train):\n",
    "    print(i)\n",
    "    prop_ont_replacable_flags.append(is_ontology_property_replacable(record))"
   ]
  },
  {
   "cell_type": "code",
   "execution_count": 83,
   "metadata": {
    "collapsed": false,
    "pycharm": {
     "name": "#%%\n"
    }
   },
   "outputs": [],
   "source": [
    "from collections import Counter\n",
    "cnt_prop = Counter(list(map(lambda x: x[0], prop_ont_replacable_flags)))\n",
    "cnt_ont = Counter(list(map(lambda x: x[1], prop_ont_replacable_flags)))"
   ]
  },
  {
   "cell_type": "code",
   "execution_count": 84,
   "metadata": {
    "collapsed": false,
    "pycharm": {
     "name": "#%%\n"
    }
   },
   "outputs": [
    {
     "data": {
      "text/plain": [
       "Counter({False: 171, True: 79})"
      ]
     },
     "execution_count": 84,
     "metadata": {},
     "output_type": "execute_result"
    }
   ],
   "source": [
    "cnt_prop"
   ]
  },
  {
   "cell_type": "code",
   "execution_count": 85,
   "metadata": {
    "collapsed": false,
    "pycharm": {
     "name": "#%%\n"
    }
   },
   "outputs": [
    {
     "data": {
      "text/plain": [
       "Counter({False: 137, True: 113})"
      ]
     },
     "execution_count": 85,
     "metadata": {},
     "output_type": "execute_result"
    }
   ],
   "source": [
    "cnt_ont"
   ]
  },
  {
   "cell_type": "markdown",
   "metadata": {
    "collapsed": false,
    "pycharm": {
     "name": "#%% md\n"
    }
   },
   "source": [
    "# Stage"
   ]
  },
  {
   "cell_type": "code",
   "execution_count": 47,
   "metadata": {
    "collapsed": false,
    "pycharm": {
     "name": "#%%\n"
    }
   },
   "outputs": [
    {
     "name": "stdout",
     "output_type": "stream",
     "text": [
      "AYE: [['?uri', '<http://dbpedia.org/ontology/formerTeam>', '<http://dbpedia.org/resource/Indianapolis_Colts>'], ['?uri', '<http://dbpedia.org/ontology/formerTeam>', '<http://dbpedia.org/resource/Carolina_Panthers>']]\n",
      "AYE: ['http://dbpedia.org/resource/Jim_Harbaugh', 'http://dbpedia.org/resource/Kerry_Collins', 'http://dbpedia.org/resource/Josh_Vaughan', 'http://dbpedia.org/resource/Mike_Pollak', 'http://dbpedia.org/resource/Bryan_Jurewicz', 'http://dbpedia.org/resource/Matt_Blanchard', 'http://dbpedia.org/resource/Drake_Nevis', 'http://dbpedia.org/resource/Kevin_McMahan', 'http://dbpedia.org/resource/Mike_Seidman', 'http://dbpedia.org/resource/Jim_Kubiak', 'http://dbpedia.org/resource/Jerome_Felton', 'http://dbpedia.org/resource/Tupe_Peko', 'http://dbpedia.org/resource/Pat_Ross_(American_football)', 'http://dbpedia.org/resource/Thomas_Austin_(American_football)', 'http://dbpedia.org/resource/Tanard_Davis', 'http://dbpedia.org/resource/Jason_Shirley', 'http://dbpedia.org/resource/Tauren_Poole', 'http://dbpedia.org/resource/DeMario_Pressley', 'http://dbpedia.org/resource/Steve_Justice', 'http://dbpedia.org/resource/Stevie_Brown', 'http://dbpedia.org/resource/Andre_Royal', 'http://dbpedia.org/resource/Mike_Teeter', 'http://dbpedia.org/resource/Terrance_Taylor_(American_football)', 'http://dbpedia.org/resource/Ben_Hartsock', 'http://dbpedia.org/resource/Kenneth_Moore_(American_football)', 'http://dbpedia.org/resource/Mario_Addison', 'http://dbpedia.org/resource/Tyrone_Poole', 'http://dbpedia.org/resource/Adam_Seward', 'http://dbpedia.org/resource/Jason_Pociask', 'http://dbpedia.org/resource/Andre_Brown_(running_back)', 'http://dbpedia.org/resource/Idrees_Bashir', 'http://dbpedia.org/resource/Jordan_Senn', 'http://dbpedia.org/resource/Jason_Baker', 'http://dbpedia.org/resource/Lee_Ziemba', 'http://dbpedia.org/resource/Mark_Thomas_(American_football)', 'http://dbpedia.org/resource/Nate_Jacquet', 'http://dbpedia.org/resource/Jermale_Hines', 'http://dbpedia.org/resource/Andrew_McDonald_(American_football)', 'http://dbpedia.org/resource/Shawn_King', 'http://dbpedia.org/resource/Emmanuel_McDaniel', 'http://dbpedia.org/resource/Brad_Scioli', 'http://dbpedia.org/resource/Josh_Thomas_(cornerback)', 'http://dbpedia.org/resource/Jeff_Zgonina', 'http://dbpedia.org/resource/Jermaine_Wiggins', 'http://dbpedia.org/resource/Tyler_Brayton', 'http://dbpedia.org/resource/Darius_Butler', 'http://dbpedia.org/resource/Cleveland_Pinkney', 'http://dbpedia.org/resource/Fred_Lane_(American_football)', 'http://dbpedia.org/resource/Aaron_Francisco', 'http://dbpedia.org/resource/Dewell_Brewer', 'http://dbpedia.org/resource/Alan_Campos', 'http://dbpedia.org/resource/Jamie_Petrowski', 'http://dbpedia.org/resource/Teddy_Williams_(American_football)', 'http://dbpedia.org/resource/Tony_Hills_(American_football)', 'http://dbpedia.org/resource/Anthony_Johnson_(running_back)', 'http://dbpedia.org/resource/Ed_Johnson_(American_football)', 'http://dbpedia.org/resource/Hayworth_Hicks', 'http://dbpedia.org/resource/Chris_Hetherington', 'http://dbpedia.org/resource/Jeff_Brady', 'http://dbpedia.org/resource/Devin_Moore_(American_football)', 'http://dbpedia.org/resource/DeCori_Birmingham', 'http://dbpedia.org/resource/Marlon_Favorite', 'http://dbpedia.org/resource/Mike_McNeill_(American_football)']\n"
     ]
    },
    {
     "ename": "TypeError",
     "evalue": "'NoneType' object is not iterable",
     "output_type": "error",
     "traceback": [
      "\u001b[0;31m---------------------------------------------------------------------------\u001b[0m",
      "\u001b[0;31mTypeError\u001b[0m                                 Traceback (most recent call last)",
      "Cell \u001b[0;32mIn[47], line 28\u001b[0m\n\u001b[1;32m     26\u001b[0m     vs_ontology_flag \u001b[38;5;241m=\u001b[39m \u001b[38;5;28;01mFalse\u001b[39;00m\n\u001b[1;32m     27\u001b[0m \u001b[38;5;28;01melse\u001b[39;00m:\n\u001b[0;32m---> 28\u001b[0m     vs_ontology_only_difference \u001b[38;5;241m=\u001b[39m \u001b[38;5;28;43mset\u001b[39;49m\u001b[43m(\u001b[49m\u001b[43moriginal_results\u001b[49m\u001b[43m)\u001b[49m\u001b[38;5;241m.\u001b[39mintersection(\u001b[38;5;28mset\u001b[39m(ontology_only_results))\n\u001b[1;32m     29\u001b[0m     vs_ontology_flag \u001b[38;5;241m=\u001b[39m (\u001b[38;5;28mlen\u001b[39m(vs_ontology_only_difference) \u001b[38;5;241m==\u001b[39m \u001b[38;5;28mlen\u001b[39m(\u001b[38;5;28mset\u001b[39m(original_results))) \u001b[38;5;129;01mand\u001b[39;00m (\u001b[38;5;28mlen\u001b[39m(original_results) \u001b[38;5;241m==\u001b[39m \u001b[38;5;28mlen\u001b[39m(ontology_only_results))\n\u001b[1;32m     31\u001b[0m \u001b[38;5;28;01mif\u001b[39;00m property_only_results \u001b[38;5;129;01mis\u001b[39;00m \u001b[38;5;28;01mNone\u001b[39;00m:\n",
      "\u001b[0;31mTypeError\u001b[0m: 'NoneType' object is not iterable"
     ]
    }
   ],
   "source": [
    "# Single\n",
    "record = lc_quad_train[6]\n",
    "original_results = get_result_from_triples(record[\"graph\"])\n",
    "\n",
    "ontology_only_query = []\n",
    "for i, triple in enumerate(record[\"graph\"]):\n",
    "    triple_copy = copy(triple)\n",
    "    if \"property\" in triple_copy[1]:\n",
    "        triple_copy[1] = triple_copy[1].replace(\"property\", \"ontology\")\n",
    "    ontology_only_query.append(triple_copy)\n",
    "\n",
    "ontology_only_results = get_result_from_triples(ontology_only_query)\n",
    "print(\"AYE:\", ontology_only_query)\n",
    "print(\"AYE:\", ontology_only_results)\n",
    "\n",
    "property_only_query = []\n",
    "for i, triple in enumerate(record[\"graph\"]):\n",
    "    triple_copy = copy(triple)\n",
    "    if \"ontology\" in triple_copy[1]:\n",
    "        triple_copy[1] = triple_copy[1].replace(\"ontology\", \"property\")\n",
    "    property_only_query.append(triple_copy)\n",
    "\n",
    "property_only_results = get_result_from_triples(property_only_query)\n",
    "\n",
    "if ontology_only_results is None:\n",
    "    vs_ontology_flag = False\n",
    "else:\n",
    "    vs_ontology_only_difference = set(original_results).intersection(set(ontology_only_results))\n",
    "    vs_ontology_flag = (len(vs_ontology_only_difference) == len(set(original_results))) and (len(original_results) == len(ontology_only_results))\n",
    "\n",
    "if property_only_results is None:\n",
    "    vs_property_flag = False\n",
    "else:\n",
    "    vs_property_only_difference = set(original_results).intersection(set(property_only_results))\n",
    "    vs_property_flag = (len(vs_property_only_difference) == len(set(original_results))) and (len(original_results) == len(property_only_results))\n",
    "\n",
    "print([vs_property_flag, vs_ontology_flag])"
   ]
  }
 ],
 "metadata": {
  "kernelspec": {
   "display_name": "Python [conda env:continue] *",
   "language": "python",
   "name": "conda-env-continue-py"
  },
  "language_info": {
   "codemirror_mode": {
    "name": "ipython",
    "version": 2
   },
   "file_extension": ".py",
   "mimetype": "text/x-python",
   "name": "python",
   "nbconvert_exporter": "python",
   "pygments_lexer": "ipython2",
   "version": "2.7.6"
  }
 },
 "nbformat": 4,
 "nbformat_minor": 0
}
