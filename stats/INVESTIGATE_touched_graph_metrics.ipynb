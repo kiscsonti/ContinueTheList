{
 "cells": [
  {
   "cell_type": "code",
   "execution_count": 1,
   "metadata": {
    "collapsed": false
   },
   "outputs": [],
   "source": [
    "import pandas as pd\n",
    "%load_ext autoreload\n",
    "%autoreload 2"
   ]
  },
  {
   "cell_type": "code",
   "execution_count": 2,
   "metadata": {
    "collapsed": false
   },
   "outputs": [],
   "source": [
    "import os\n",
    "import sys\n",
    "module_path = os.path.abspath(os.path.join('..'))\n",
    "if module_path not in sys.path:\n",
    "    sys.path.append(module_path)"
   ]
  },
  {
   "cell_type": "code",
   "execution_count": 3,
   "metadata": {
    "collapsed": false
   },
   "outputs": [],
   "source": [
    "import pickle\n",
    "from evaluation.evaluate_script import graph_eval_ranking_first\n",
    "import os\n",
    "import json\n",
    "\n",
    "file = \"/home/kardosp/continuethelist/outputs/graphwalk_v2_output_sample4.pickle\"\n",
    "\n",
    "with open(file, \"rb\") as f:\n",
    "    algo_results = pickle.load(f)"
   ]
  },
  {
   "cell_type": "code",
   "execution_count": 6,
   "metadata": {
    "collapsed": true
   },
   "outputs": [],
   "source": [
    "from helper.query_helpers import get_all_nodes_touched, get_all_connections_between_nodes, get_all_triplets_from_s, get_graph_metrics, get_metrics_for_record"
   ]
  },
  {
   "cell_type": "code",
   "execution_count": 7,
   "metadata": {
    "collapsed": false
   },
   "outputs": [],
   "source": [
    "record = algo_results[0]\n",
    "nodes_touched = get_all_nodes_touched(record[\"graph\"])\n",
    "all_connections = get_all_connections_between_nodes(nodes_touched)\n",
    "metrics = get_graph_metrics(nodes_touched, all_connections)"
   ]
  },
  {
   "cell_type": "code",
   "execution_count": 8,
   "metadata": {
    "collapsed": false
   },
   "outputs": [
    {
     "data": {
      "text/plain": [
       "(4,\n",
       " 3.484848484848485,\n",
       " 0.10795454545454546,\n",
       " 2.778409090909091,\n",
       " 0.13463203463203463)"
      ]
     },
     "execution_count": 8,
     "metadata": {},
     "output_type": "execute_result"
    }
   ],
   "source": [
    "metrics"
   ]
  },
  {
   "cell_type": "code",
   "execution_count": null,
   "metadata": {
    "collapsed": false
   },
   "outputs": [],
   "source": [
    "from tqdm import tqdm"
   ]
  },
  {
   "cell_type": "code",
   "execution_count": null,
   "metadata": {
    "collapsed": false
   },
   "outputs": [],
   "source": [
    "metrics_container = list()\n",
    "for i, record in enumerate(algo_results):\n",
    "    print(i)\n",
    "    record_metrics = get_metrics_for_record(record[\"graph\"])\n",
    "    metrics_container.append(record_metrics)"
   ]
  },
  {
   "cell_type": "code",
   "execution_count": 14,
   "metadata": {
    "collapsed": false
   },
   "outputs": [
    {
     "name": "stdout",
     "output_type": "stream",
     "text": [
      "0\n",
      "1\n",
      "Error --> QueryBadFormed: A bad request has been sent to the endpoint: probably the SPARQL query is badly formed. \n",
      "\n",
      "Response:\n",
      "b'Virtuoso 37000 Error SP030: SPARQL compiler, line 0: End-of-line in a short double-quoted string at \\'\"Scientific theories\\n\\'\\n\\nSPARQL query:\\ndefine sql:big-data-const 0\\n#output-format:application/sparql-results+json\\nSELECT DISTINCT ?x ?y WHERE {SELECT DISTINCT ?x ?y WHERE { \"Scientific theories\\n;Characters\\n: Unseen University Staff, Marjorie Dawes, Rincewind, Havelock Vetinari\\n;Locations\\n: Roundworld, Discworld\" ?x ?y .   }  ORDER BY DESC(?x) DESC(?y) } LIMIT 10000 OFFSET 0'\n",
      "Error --> QueryBadFormed: A bad request has been sent to the endpoint: probably the SPARQL query is badly formed. \n",
      "\n",
      "Response:\n",
      "b'Virtuoso 37000 Error SP030: SPARQL compiler, line 0: End-of-line in a short double-quoted string at \\'\"Scientific theories\\n\\'\\n\\nSPARQL query:\\ndefine sql:big-data-const 0\\n#output-format:application/sparql-results+json\\nSELECT DISTINCT ?x ?y WHERE {SELECT DISTINCT ?x ?y WHERE { \"Scientific theories\\n;Characters\\n: Unseen University Staff, Charles Darwin, Auditors of Reality\\n;Locations\\n: Roundworld\" ?x ?y .   }  ORDER BY DESC(?x) DESC(?y) } LIMIT 10000 OFFSET 0'\n",
      "2\n",
      "3\n",
      "4\n",
      "5\n",
      "6\n",
      "7\n",
      "8\n",
      "9\n",
      "10\n",
      "11\n",
      "12\n",
      "13\n",
      "14\n",
      "15\n",
      "16\n",
      "17\n",
      "18\n",
      "19\n",
      "20\n",
      "21\n",
      "22\n",
      "23\n",
      "24\n",
      "25\n",
      "26\n",
      "27\n",
      "28\n",
      "29\n",
      "30\n",
      "31\n",
      "32\n",
      "33\n",
      "34\n",
      "35\n",
      "36\n",
      "37\n",
      "38\n",
      "39\n",
      "40\n",
      "41\n",
      "42\n",
      "43\n",
      "44\n",
      "45\n",
      "46\n",
      "47\n",
      "48\n",
      "49\n",
      "50\n",
      "51\n",
      "52\n",
      "53\n",
      "54\n",
      "55\n",
      "56\n",
      "57\n",
      "58\n",
      "59\n",
      "60\n",
      "61\n",
      "62\n",
      "63\n",
      "64\n",
      "65\n",
      "Error --> QueryBadFormed: A bad request has been sent to the endpoint: probably the SPARQL query is badly formed. \n",
      "\n",
      "Response:\n",
      "b'Virtuoso 37000 Error SP030: SPARQL compiler, line 0: End-of-line in a short double-quoted string at \\'\"Persian Gulf War\\n\\'\\n\\nSPARQL query:\\ndefine sql:big-data-const 0\\n#output-format:application/sparql-results+json\\nSELECT DISTINCT ?x ?y WHERE {SELECT DISTINCT ?x ?y WHERE { \"Persian Gulf War\\n*Operation Desert Storm\\nIraq War\\n*Operation Iraqi Freedom\" ?x ?y .   }  ORDER BY DESC(?x) DESC(?y) } LIMIT 10000 OFFSET 0'\n",
      "Error --> QueryBadFormed: A bad request has been sent to the endpoint: probably the SPARQL query is badly formed. \n",
      "\n",
      "Response:\n",
      "b'Virtuoso 37000 Error SP030: SPARQL compiler, line 0: End-of-line in a short double-quoted string at \\'\"Shia insurgency in Yemen\\n\\'\\n\\nSPARQL query:\\ndefine sql:big-data-const 0\\n#output-format:application/sparql-results+json\\nSELECT DISTINCT ?x ?y WHERE {SELECT DISTINCT ?x ?y WHERE { \"Shia insurgency in Yemen\\n*Operation Scorched Earth\" ?x ?y .   }  ORDER BY DESC(?x) DESC(?y) } LIMIT 10000 OFFSET 0'\n",
      "66\n",
      "67\n",
      "68\n",
      "69\n",
      "70\n",
      "71\n",
      "72\n",
      "73\n",
      "74\n",
      "75\n",
      "76\n",
      "77\n",
      "78\n",
      "79\n",
      "80\n",
      "81\n",
      "82\n",
      "83\n",
      "84\n",
      "85\n",
      "86\n",
      "87\n",
      "88\n",
      "89\n",
      "90\n",
      "91\n",
      "92\n",
      "93\n",
      "94\n",
      "95\n",
      "96\n",
      "97\n",
      "98\n",
      "99\n",
      "100\n",
      "101\n",
      "102\n",
      "103\n",
      "104\n",
      "105\n",
      "106\n",
      "107\n",
      "108\n",
      "109\n",
      "110\n",
      "111\n",
      "112\n",
      "113\n",
      "114\n",
      "115\n",
      "116\n",
      "117\n",
      "Error --> QueryBadFormed: A bad request has been sent to the endpoint: probably the SPARQL query is badly formed. \n",
      "\n",
      "Response:\n",
      "b'Virtuoso 37000 Error SP030: SPARQL compiler, line 0: End-of-line in a short double-quoted string at \\'\"* Leo Damian\\n\\'\\n\\nSPARQL query:\\ndefine sql:big-data-const 0\\n#output-format:application/sparql-results+json\\nSELECT DISTINCT ?x ?y WHERE {SELECT DISTINCT ?x ?y WHERE { \"* Leo Damian\\n*\" ?x ?y .   }  ORDER BY DESC(?x) DESC(?y) } LIMIT 10000 OFFSET 0'\n",
      "Error --> QueryBadFormed: A bad request has been sent to the endpoint: probably the SPARQL query is badly formed. \n",
      "\n",
      "Response:\n",
      "b'Virtuoso 37000 Error SP030: SPARQL compiler, line 0: End-of-line in a short double-quoted string at \\'\"* Bo Derek\\n\\'\\n\\nSPARQL query:\\ndefine sql:big-data-const 0\\n#output-format:application/sparql-results+json\\nSELECT DISTINCT ?x ?y WHERE {SELECT DISTINCT ?x ?y WHERE { \"* Bo Derek\\n*\" ?x ?y .   }  ORDER BY DESC(?x) DESC(?y) } LIMIT 10000 OFFSET 0'\n",
      "118\n",
      "119\n",
      "120\n",
      "121\n",
      "122\n",
      "123\n",
      "124\n",
      "125\n",
      "126\n",
      "127\n",
      "128\n",
      "129\n",
      "130\n",
      "131\n",
      "132\n",
      "133\n",
      "134\n",
      "135\n",
      "136\n",
      "137\n",
      "138\n",
      "139\n",
      "140\n",
      "141\n",
      "142\n",
      "143\n",
      "144\n",
      "145\n",
      "146\n",
      "147\n",
      "148\n",
      "149\n",
      "150\n",
      "151\n",
      "152\n",
      "153\n",
      "154\n",
      "155\n",
      "156\n",
      "157\n",
      "158\n",
      "159\n",
      "160\n",
      "161\n",
      "162\n",
      "163\n",
      "164\n",
      "165\n",
      "166\n",
      "167\n",
      "168\n",
      "169\n",
      "170\n",
      "171\n",
      "172\n",
      "173\n",
      "Error --> QueryBadFormed: A bad request has been sent to the endpoint: probably the SPARQL query is badly formed. \n",
      "\n",
      "Response:\n",
      "b'Virtuoso 37000 Error SP030: SPARQL compiler, line 0: End-of-line in a short double-quoted string at \\'\"* Jordan Horowitz\\n\\'\\n\\nSPARQL query:\\ndefine sql:big-data-const 0\\n#output-format:application/sparql-results+json\\nSELECT DISTINCT ?x ?y WHERE {SELECT DISTINCT ?x ?y WHERE { \"* Jordan Horowitz\\n*\" ?x ?y .   }  ORDER BY DESC(?x) DESC(?y) } LIMIT 10000 OFFSET 0'\n",
      "Error --> QueryBadFormed: A bad request has been sent to the endpoint: probably the SPARQL query is badly formed. \n",
      "\n",
      "Response:\n",
      "b'Virtuoso 37000 Error SP030: SPARQL compiler, line 0: End-of-line in a short double-quoted string at \\'\"* Pamela Abdy\\n\\'\\n\\nSPARQL query:\\ndefine sql:big-data-const 0\\n#output-format:application/sparql-results+json\\nSELECT DISTINCT ?x ?y WHERE {SELECT DISTINCT ?x ?y WHERE { \"* Pamela Abdy\\n* Naomi Despres\\n*\" ?x ?y .   }  ORDER BY DESC(?x) DESC(?y) } LIMIT 10000 OFFSET 0'\n",
      "Error --> QueryBadFormed: A bad request has been sent to the endpoint: probably the SPARQL query is badly formed. \n",
      "\n",
      "Response:\n",
      "b'Virtuoso 37000 Error SP030: SPARQL compiler, line 0: End-of-line in a short double-quoted string at \\'\"* Fred Berger\\n\\'\\n\\nSPARQL query:\\ndefine sql:big-data-const 0\\n#output-format:application/sparql-results+json\\nSELECT DISTINCT ?x ?y WHERE {SELECT DISTINCT ?x ?y WHERE { \"* Fred Berger\\n*\" ?x ?y .   }  ORDER BY DESC(?x) DESC(?y) } LIMIT 10000 OFFSET 0'\n",
      "174\n",
      "175\n",
      "Error --> QueryBadFormed: A bad request has been sent to the endpoint: probably the SPARQL query is badly formed. \n",
      "\n",
      "Response:\n",
      "b'Virtuoso 37000 Error SP030: SPARQL compiler, line 0: End-of-line in a short double-quoted string at \\'\", militaires\\n\\'\\n\\nSPARQL query:\\ndefine sql:big-data-const 0\\n#output-format:application/sparql-results+json\\nSELECT DISTINCT ?x ?y WHERE {SELECT DISTINCT ?x ?y WHERE { \", militaires\\n*\" ?x ?y .   }  ORDER BY DESC(?x) DESC(?y) } LIMIT 10000 OFFSET 0'\n",
      "Error --> QueryBadFormed: A bad request has been sent to the endpoint: probably the SPARQL query is badly formed. \n",
      "\n",
      "Response:\n",
      "b'Virtuoso 37000 Error SP030: SPARQL compiler, line 3: syntax error at \\'live\\' before \\'goose\\'\\n\\nSPARQL query:\\ndefine sql:big-data-const 0\\n#output-format:application/sparql-results+json\\nSELECT DISTINCT ?x ?y WHERE {SELECT DISTINCT ?x ?y WHERE { \"Mazur\\'s \"live goose\" for solving \"Scottish Book\" Problem 153\" ?x ?y .   }  ORDER BY DESC(?x) DESC(?y) } LIMIT 10000 OFFSET 0'\n",
      "176\n",
      "177\n",
      "178\n",
      "179\n",
      "180\n",
      "181\n",
      "182\n",
      "183\n",
      "184\n",
      "185\n",
      "186\n",
      "187\n",
      "188\n",
      "189\n",
      "190\n",
      "191\n",
      "192\n",
      "193\n",
      "194\n",
      "195\n",
      "196\n",
      "197\n",
      "198\n",
      "199\n",
      "200\n",
      "201\n",
      "202\n",
      "203\n",
      "204\n",
      "205\n",
      "206\n",
      "207\n",
      "208\n",
      "209\n",
      "210\n",
      "211\n",
      "212\n",
      "213\n",
      "214\n",
      "215\n",
      "216\n",
      "217\n",
      "218\n",
      "219\n",
      "220\n",
      "221\n",
      "222\n",
      "223\n",
      "224\n",
      "225\n",
      "226\n",
      "227\n",
      "228\n",
      "229\n",
      "230\n",
      "231\n",
      "232\n",
      "233\n",
      "234\n",
      "235\n",
      "236\n",
      "237\n",
      "238\n",
      "239\n",
      "240\n",
      "241\n",
      "242\n",
      "243\n",
      "244\n",
      "245\n",
      "246\n",
      "247\n",
      "248\n",
      "249\n"
     ]
    }
   ],
   "source": [
    "metrics_container = list()\n",
    "for i, record in enumerate(algo_results):\n",
    "    print(i)\n",
    "    nodes_touched = get_all_nodes_touched(record[\"graph\"])\n",
    "    all_connections = get_all_connections_between_nodes(nodes_touched)\n",
    "    record_metrics = get_graph_metrics(nodes_touched, all_connections)\n",
    "    metrics_container.append(record_metrics)"
   ]
  },
  {
   "cell_type": "code",
   "execution_count": 13,
   "metadata": {
    "collapsed": false
   },
   "outputs": [
    {
     "data": {
      "text/plain": [
       "{'1960.0',\n",
       " '20',\n",
       " 'Advice',\n",
       " 'Autobiography',\n",
       " 'Comets',\n",
       " 'Cookery',\n",
       " 'Female friendships',\n",
       " 'Forbidden love, Racism',\n",
       " 'International economic relations, globalization, ethnic conflict',\n",
       " 'Memoir',\n",
       " 'More than 10,000 of the best Rock, Pop, Hip-Hop, and Soul Records, Reviewed and Rated',\n",
       " 'Music, Jazz, Discography, Sound recording, Reviews',\n",
       " 'Music, Popular music, Discography, Sound recording, Reviews',\n",
       " 'Physics',\n",
       " 'Political convictions',\n",
       " 'Pre-judicial life of author',\n",
       " 'Scientific theories\\n;Characters\\n: Unseen University Staff, Charles Darwin, Auditors of Reality\\n;Locations\\n: Roundworld',\n",
       " 'Scientific theories\\n;Characters\\n: Unseen University Staff, Marjorie Dawes, Rincewind, Havelock Vetinari\\n;Locations\\n: Roundworld, Discworld',\n",
       " 'Social criticism, satire, adventure, fantasy',\n",
       " 'Social science, ethnic studies, popular culture',\n",
       " 'Sociology',\n",
       " 'The Bell Curve',\n",
       " 'The surrender of General Lee to General Grant near the end of the American Civil War',\n",
       " 'Tibetan diaspora, Tibet, refugees, Switzerland',\n",
       " 'Tree-climbing',\n",
       " 'Western; love story',\n",
       " 'http://dbpedia.org/ontology/Book',\n",
       " 'http://dbpedia.org/resource/A_History_of_English_Food',\n",
       " 'http://dbpedia.org/resource/African-American_history',\n",
       " 'http://dbpedia.org/resource/American_Civil_War',\n",
       " 'http://dbpedia.org/resource/American_College_Dictionary',\n",
       " 'http://dbpedia.org/resource/Anti-globalization_movement',\n",
       " 'http://dbpedia.org/resource/Armed_forces',\n",
       " 'http://dbpedia.org/resource/Astounding:_John_W._Campbell_Memorial_Anthology',\n",
       " 'http://dbpedia.org/resource/Astronomy',\n",
       " 'http://dbpedia.org/resource/Atheism',\n",
       " 'http://dbpedia.org/resource/Autobiography',\n",
       " 'http://dbpedia.org/resource/BDSM',\n",
       " 'http://dbpedia.org/resource/Bad_Science:_The_Short_Life_and_Weird_Times_of_Cold_Fusion',\n",
       " 'http://dbpedia.org/resource/Better_Than_Sex_(book)',\n",
       " 'http://dbpedia.org/resource/Bill_Clinton',\n",
       " 'http://dbpedia.org/resource/Biography',\n",
       " 'http://dbpedia.org/resource/Biology',\n",
       " 'http://dbpedia.org/resource/Boy_Meets_Girl:_Say_Hello_to_Courtship',\n",
       " 'http://dbpedia.org/resource/Brain',\n",
       " \"http://dbpedia.org/resource/Broca's_Brain\",\n",
       " 'http://dbpedia.org/resource/Buck:_A_Memoir',\n",
       " 'http://dbpedia.org/resource/Character_Is_Destiny',\n",
       " 'http://dbpedia.org/resource/Charity_(practice)',\n",
       " 'http://dbpedia.org/resource/Check_the_Technique',\n",
       " 'http://dbpedia.org/resource/Christianity',\n",
       " 'http://dbpedia.org/resource/Civil_and_political_rights',\n",
       " 'http://dbpedia.org/resource/Cold_fusion',\n",
       " 'http://dbpedia.org/resource/Comet_(book)',\n",
       " 'http://dbpedia.org/resource/Cosmos',\n",
       " 'http://dbpedia.org/resource/Cosmos_(Carl_Sagan_book)',\n",
       " 'http://dbpedia.org/resource/Counter-Enlightenment',\n",
       " 'http://dbpedia.org/resource/Courtship',\n",
       " 'http://dbpedia.org/resource/Covering:_The_Hidden_Assault_on_Our_Civil_Rights',\n",
       " 'http://dbpedia.org/resource/Creative_class',\n",
       " 'http://dbpedia.org/resource/Crime_fiction',\n",
       " 'http://dbpedia.org/resource/Cycling',\n",
       " 'http://dbpedia.org/resource/Diary',\n",
       " 'http://dbpedia.org/resource/Disenfranchisement_after_the_Reconstruction_Era',\n",
       " 'http://dbpedia.org/resource/Eisenvogel',\n",
       " 'http://dbpedia.org/resource/Environmental_psychology',\n",
       " 'http://dbpedia.org/resource/Ethics',\n",
       " 'http://dbpedia.org/resource/Evolution',\n",
       " 'http://dbpedia.org/resource/Family_Memoir',\n",
       " 'http://dbpedia.org/resource/Fantasy',\n",
       " 'http://dbpedia.org/resource/Fences_and_Windows',\n",
       " 'http://dbpedia.org/resource/Finance',\n",
       " 'http://dbpedia.org/resource/Go_East,_Young_Man',\n",
       " 'http://dbpedia.org/resource/Hip_hop_music',\n",
       " 'http://dbpedia.org/resource/History',\n",
       " 'http://dbpedia.org/resource/Human_evolution',\n",
       " 'http://dbpedia.org/resource/Human_rights',\n",
       " 'http://dbpedia.org/resource/Humanitarianism',\n",
       " 'http://dbpedia.org/resource/Hunting_Evil',\n",
       " 'http://dbpedia.org/resource/I_May_Be_Wrong_but_I_Doubt_It',\n",
       " 'http://dbpedia.org/resource/I_Sold_My_Soul_on_eBay',\n",
       " 'http://dbpedia.org/resource/Imprisonment',\n",
       " 'http://dbpedia.org/resource/Intellect',\n",
       " 'http://dbpedia.org/resource/Intelligence',\n",
       " 'http://dbpedia.org/resource/Into_the_Abyss_(book)',\n",
       " 'http://dbpedia.org/resource/Iran',\n",
       " 'http://dbpedia.org/resource/Journalism',\n",
       " 'http://dbpedia.org/resource/Kingsblood_Royal',\n",
       " 'http://dbpedia.org/resource/Lee_and_Grant_at_Appomattox',\n",
       " 'http://dbpedia.org/resource/Lions,_Donkeys_and_Dinosaurs',\n",
       " 'http://dbpedia.org/resource/Lysine_price-fixing_conspiracy',\n",
       " 'http://dbpedia.org/resource/Made_to_Stick',\n",
       " 'http://dbpedia.org/resource/Memoir',\n",
       " 'http://dbpedia.org/resource/Modern_Meat',\n",
       " 'http://dbpedia.org/resource/Morality',\n",
       " 'http://dbpedia.org/resource/Nazism',\n",
       " 'http://dbpedia.org/resource/Near-death_experience',\n",
       " 'http://dbpedia.org/resource/Noughts_&_Crosses_(novel_series)',\n",
       " 'http://dbpedia.org/resource/Occult',\n",
       " 'http://dbpedia.org/resource/One_Month_to_Live',\n",
       " 'http://dbpedia.org/resource/Our_Mathematical_Universe',\n",
       " 'http://dbpedia.org/resource/Outline_of_space_science',\n",
       " 'http://dbpedia.org/resource/Paul_Broca',\n",
       " 'http://dbpedia.org/resource/Politics',\n",
       " 'http://dbpedia.org/resource/Poverty',\n",
       " 'http://dbpedia.org/resource/Psychology',\n",
       " 'http://dbpedia.org/resource/Pym_(novel)',\n",
       " 'http://dbpedia.org/resource/Racism',\n",
       " 'http://dbpedia.org/resource/Random_House',\n",
       " 'http://dbpedia.org/resource/Reference_work',\n",
       " 'http://dbpedia.org/resource/Revolution_in_the_Head',\n",
       " 'http://dbpedia.org/resource/Rough_Ride_(book)',\n",
       " 'http://dbpedia.org/resource/Science_fiction',\n",
       " 'http://dbpedia.org/resource/Shatterpoint',\n",
       " 'http://dbpedia.org/resource/Short_story',\n",
       " 'http://dbpedia.org/resource/Slavery_by_Another_Name',\n",
       " 'http://dbpedia.org/resource/Social_anthropology',\n",
       " 'http://dbpedia.org/resource/Social_psychology',\n",
       " 'http://dbpedia.org/resource/Sociology',\n",
       " 'http://dbpedia.org/resource/Star_Wars',\n",
       " 'http://dbpedia.org/resource/Stars_of_David:_Prominent_Jews_Talk_About_Being_Jewish',\n",
       " 'http://dbpedia.org/resource/Terrorism',\n",
       " 'http://dbpedia.org/resource/The_120_Days_of_Sodom',\n",
       " 'http://dbpedia.org/resource/The_Accidental_Asian',\n",
       " 'http://dbpedia.org/resource/The_Bell_Curve_Debate',\n",
       " 'http://dbpedia.org/resource/The_Century_for_Young_People',\n",
       " 'http://dbpedia.org/resource/The_Civil_War:_A_Narrative',\n",
       " 'http://dbpedia.org/resource/The_Dark_Arena',\n",
       " 'http://dbpedia.org/resource/The_Dragons_of_Eden',\n",
       " 'http://dbpedia.org/resource/The_Enough_Moment',\n",
       " 'http://dbpedia.org/resource/The_Facts_of_Life:_And_Other_Dirty_Jokes',\n",
       " 'http://dbpedia.org/resource/The_Faithful_Spy',\n",
       " 'http://dbpedia.org/resource/The_Freedom_Writers_Diary',\n",
       " 'http://dbpedia.org/resource/The_Greening_of_America',\n",
       " 'http://dbpedia.org/resource/The_Harvey_Girls_(novel)',\n",
       " 'http://dbpedia.org/resource/The_Informant_(book)',\n",
       " 'http://dbpedia.org/resource/The_Last_Don',\n",
       " 'http://dbpedia.org/resource/The_Life_You_Can_Save',\n",
       " 'http://dbpedia.org/resource/The_Living_Cosmos',\n",
       " 'http://dbpedia.org/resource/The_Occult:_A_History',\n",
       " 'http://dbpedia.org/resource/The_Presentation_of_Self_in_Everyday_Life',\n",
       " \"http://dbpedia.org/resource/The_Rise_of_Rome:_The_Making_of_the_World's_Greatest_Empire\",\n",
       " 'http://dbpedia.org/resource/The_Road_to_Character',\n",
       " 'http://dbpedia.org/resource/The_Rolling_Stone_Album_Guide',\n",
       " \"http://dbpedia.org/resource/The_Science_of_Discworld_III:_Darwin's_Watch\",\n",
       " 'http://dbpedia.org/resource/The_Science_of_Discworld_IV:_Judgement_Day',\n",
       " 'http://dbpedia.org/resource/The_Second_Coming_of_Steve_Jobs',\n",
       " 'http://dbpedia.org/resource/The_Seekers_(book)',\n",
       " 'http://dbpedia.org/resource/The_Social_Animal_(Brooks_book)',\n",
       " 'http://dbpedia.org/resource/The_Social_Construction_of_Reality',\n",
       " 'http://dbpedia.org/resource/The_Twisted_Sisterhood',\n",
       " 'http://dbpedia.org/resource/The_Wild_Trees',\n",
       " 'http://dbpedia.org/resource/The_Wolf_Gift',\n",
       " 'http://dbpedia.org/resource/The_Wolves_of_Midwinter',\n",
       " 'http://dbpedia.org/resource/Then_They_Came_for_Me',\n",
       " 'http://dbpedia.org/resource/Three_Critics_of_the_Enlightenment',\n",
       " 'http://dbpedia.org/resource/Time_travel',\n",
       " 'http://dbpedia.org/resource/Unlikely_Brothers',\n",
       " 'http://dbpedia.org/resource/Vietnam_War',\n",
       " 'http://dbpedia.org/resource/War',\n",
       " 'http://dbpedia.org/resource/We_Were_Soldiers_Once…_And_Young',\n",
       " 'http://dbpedia.org/resource/Werewolf',\n",
       " 'http://dbpedia.org/resource/When_Genius_Failed',\n",
       " \"http://dbpedia.org/resource/Who's_Your_City%3F\",\n",
       " 'http://dbpedia.org/resource/World_on_Fire_(book)',\n",
       " 'intensive animal farming and antibiotic use in livestock',\n",
       " 'rise of the Roman Republic and Roman Empire'}"
      ]
     },
     "execution_count": 13,
     "metadata": {},
     "output_type": "execute_result"
    }
   ],
   "source": [
    "nodes_touched"
   ]
  },
  {
   "cell_type": "code",
   "execution_count": 12,
   "metadata": {
    "collapsed": false
   },
   "outputs": [
    {
     "data": {
      "text/plain": [
       "[['?x',\n",
       "  '<http://dbpedia.org/property/publisher>',\n",
       "  '<http://dbpedia.org/resource/Random_House>'],\n",
       " ['?x', '<http://dbpedia.org/property/subject>', '?uri'],\n",
       " ['?x',\n",
       "  '<http://www.w3.org/1999/02/22-rdf-syntax-ns#type>',\n",
       "  '<http://dbpedia.org/ontology/Book>']]"
      ]
     },
     "execution_count": 12,
     "metadata": {},
     "output_type": "execute_result"
    }
   ],
   "source": [
    "algo_results[1][\"graph\"]"
   ]
  },
  {
   "cell_type": "code",
   "execution_count": null,
   "metadata": {
    "collapsed": false
   },
   "outputs": [],
   "source": [
    "all_connections = list()\n",
    "for node in nodes:\n",
    "    node_conns = get_all_triplets_from_s(node)\n",
    "    all_connections.extend(node_conns)\n",
    "\n",
    "# TODO filter\n",
    "node_connections = list(filter(lambda x: x[0] in nodes and x[2] in nodes, all_connections))"
   ]
  },
  {
   "cell_type": "code",
   "execution_count": null,
   "metadata": {
    "collapsed": false
   },
   "outputs": [],
   "source": [
    "node_connections"
   ]
  },
  {
   "cell_type": "code",
   "execution_count": null,
   "metadata": {
    "collapsed": false
   },
   "outputs": [],
   "source": [
    "len(node_connections)"
   ]
  },
  {
   "cell_type": "code",
   "execution_count": null,
   "metadata": {
    "collapsed": false
   },
   "outputs": [],
   "source": [
    "import networkx as nx"
   ]
  },
  {
   "cell_type": "code",
   "execution_count": null,
   "metadata": {
    "collapsed": false
   },
   "outputs": [],
   "source": [
    "G = nx.Graph()\n",
    "for edge in node_connections:\n",
    "    G.add_edge(edge[0], edge[2], label=edge[1])"
   ]
  },
  {
   "cell_type": "code",
   "execution_count": 53,
   "metadata": {
    "collapsed": false
   },
   "outputs": [],
   "source": [
    "diameter = nx.diameter(G)\n",
    "avg_degree = len(node_connections)/len(nodes)\n",
    "average_neighbor_degree = nx.average_neighbor_degree(G)\n",
    "density = nx.density(G)\n",
    "avg_path_length = nx.average_shortest_path_length(G)\n",
    "clustering_coefficient = nx.average_clustering(G)"
   ]
  },
  {
   "cell_type": "code",
   "execution_count": 54,
   "metadata": {
    "collapsed": false
   },
   "outputs": [
    {
     "name": "stdout",
     "output_type": "stream",
     "text": [
      "Diameter: 4\n",
      "Average degree: 3.484848484848485\n",
      "Density: 0.10795454545454546\n",
      "Average path length: 2.778409090909091\n",
      "Clustering coefficient: 0.1346320346320346\n"
     ]
    }
   ],
   "source": [
    "print(\"Diameter:\", diameter)\n",
    "print(\"Average degree:\", avg_degree)\n",
    "print(\"Density:\", density)\n",
    "print(\"Average path length:\", avg_path_length)\n",
    "print(\"Clustering coefficient:\", clustering_coefficient)"
   ]
  },
  {
   "cell_type": "code",
   "execution_count": null,
   "metadata": {
    "collapsed": false
   },
   "outputs": [],
   "source": [
    "density"
   ]
  },
  {
   "cell_type": "code",
   "execution_count": null,
   "metadata": {
    "collapsed": false
   },
   "outputs": [],
   "source": [
    "\n",
    "nodes, edges count\n",
    "diameter, mean degfree, density, avg path length, clustering coefficient"
   ]
  }
 ],
 "metadata": {
  "kernelspec": {
   "display_name": "Python [conda env:continue] *",
   "language": "python",
   "name": "conda-env-continue-py"
  },
  "language_info": {
   "codemirror_mode": {
    "name": "ipython",
    "version": 2
   },
   "file_extension": ".py",
   "mimetype": "text/x-python",
   "name": "python",
   "nbconvert_exporter": "python",
   "pygments_lexer": "ipython2",
   "version": "2.7.6"
  }
 },
 "nbformat": 4,
 "nbformat_minor": 0
}
