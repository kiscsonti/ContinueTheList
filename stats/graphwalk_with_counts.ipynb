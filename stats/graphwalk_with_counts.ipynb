{
 "cells": [
  {
   "cell_type": "code",
   "execution_count": 7,
   "metadata": {
    "collapsed": false
   },
   "outputs": [],
   "source": [
    "import pandas as pd\n",
    "%load_ext autoreload\n",
    "%autoreload 2"
   ]
  },
  {
   "cell_type": "code",
   "execution_count": 8,
   "metadata": {
    "collapsed": false
   },
   "outputs": [],
   "source": [
    "import os\n",
    "import sys\n",
    "module_path = os.path.abspath(os.path.join('..'))\n",
    "if module_path not in sys.path:\n",
    "    sys.path.append(module_path)"
   ]
  },
  {
   "cell_type": "code",
   "execution_count": 33,
   "metadata": {
    "collapsed": false
   },
   "outputs": [],
   "source": [
    "from query.query_functions2 import count_from_triples, make_triplet"
   ]
  },
  {
   "cell_type": "code",
   "execution_count": 9,
   "metadata": {
    "collapsed": true
   },
   "outputs": [],
   "source": [
    "import os\n",
    "import pandas\n",
    "import json\n",
    "import pickle"
   ]
  },
  {
   "cell_type": "code",
   "execution_count": 10,
   "metadata": {
    "collapsed": false
   },
   "outputs": [],
   "source": [
    "folder = \"/home/kardosp/continuethelist/outputs/\"\n",
    "file = \"graphwalk_v2_output_sample4.pickle\""
   ]
  },
  {
   "cell_type": "code",
   "execution_count": 11,
   "metadata": {
    "collapsed": false
   },
   "outputs": [],
   "source": [
    "path = os.path.join(folder, file)"
   ]
  },
  {
   "cell_type": "code",
   "execution_count": 12,
   "metadata": {
    "collapsed": false
   },
   "outputs": [],
   "source": [
    "with open(path, \"rb\") as f:\n",
    "    ds = pickle.load(f)"
   ]
  },
  {
   "cell_type": "code",
   "execution_count": 72,
   "metadata": {
    "collapsed": false
   },
   "outputs": [],
   "source": [
    "i = 3"
   ]
  },
  {
   "cell_type": "code",
   "execution_count": 73,
   "metadata": {
    "collapsed": false
   },
   "outputs": [
    {
     "data": {
      "text/plain": [
       "dict_keys(['backward', 'invalids', 'backward2', 'forward'])"
      ]
     },
     "execution_count": 73,
     "metadata": {},
     "output_type": "execute_result"
    }
   ],
   "source": [
    "ds[i][\"explanation\"].keys()"
   ]
  },
  {
   "cell_type": "code",
   "execution_count": 74,
   "metadata": {
    "collapsed": false
   },
   "outputs": [
    {
     "name": "stdout",
     "output_type": "stream",
     "text": [
      "backward 2\n",
      "invalids 16\n",
      "backward2 124\n",
      "forward 0\n"
     ]
    }
   ],
   "source": [
    "for k, v in ds[i][\"explanation\"].items():\n",
    "    print(k, len(v))"
   ]
  },
  {
   "cell_type": "code",
   "execution_count": 75,
   "metadata": {
    "collapsed": false
   },
   "outputs": [
    {
     "name": "stdout",
     "output_type": "stream",
     "text": [
      "backward\n",
      "backward2\n",
      "forward\n"
     ]
    }
   ],
   "source": [
    "container = list()\n",
    "for k, v in ds[i][\"explanation\"].items():\n",
    "    if k == \"invalids\":\n",
    "        continue\n",
    "    print(k)\n",
    "    for triples in v:\n",
    "        if k == \"backward2\":\n",
    "            triples = triples[0]\n",
    "        row_name = ' . '.join([make_triplet(item) for item in triples]) if isinstance(triples[0], list) else make_triplet(triples)\n",
    "        count = count_from_triples(triples)\n",
    "        container.append([row_name, k, count])"
   ]
  },
  {
   "cell_type": "code",
   "execution_count": 76,
   "metadata": {
    "collapsed": false
   },
   "outputs": [
    {
     "data": {
      "text/plain": [
       "dict_keys(['_id', 'corrected_question', 'intermediary_question', 'sparql_query', 'sparql_template_id', 'result', 'graph', 'result_cleaned', 'result_urlonly', 'seed', 'gold', 'output', 'explanation'])"
      ]
     },
     "execution_count": 76,
     "metadata": {},
     "output_type": "execute_result"
    }
   ],
   "source": [
    "ds[i].keys()"
   ]
  },
  {
   "cell_type": "code",
   "execution_count": 77,
   "metadata": {
    "collapsed": false
   },
   "outputs": [
    {
     "name": "stdout",
     "output_type": "stream",
     "text": [
      "What are the other band member of the Bands whose current members is Hynief?\n",
      "SELECT DISTINCT ?uri WHERE { ?x <http://dbpedia.org/property/currentMembers> <http://dbpedia.org/resource/Hynief> . ?x <http://dbpedia.org/ontology/bandMember> ?uri  . ?x <http://www.w3.org/1999/02/22-rdf-syntax-ns#type> <http://dbpedia.org/ontology/Band>}\n",
      "['http://dbpedia.org/resource/Starr_(rapper)', 'http://dbpedia.org/resource/Robert_De_Niro', 'http://dbpedia.org/resource/Purple_City_Productions', \"http://dbpedia.org/resource/Big_B'Z\"]\n"
     ]
    }
   ],
   "source": [
    "print(ds[i][\"corrected_question\"])\n",
    "print(ds[i][\"sparql_query\"])\n",
    "print(ds[i][\"seed\"])"
   ]
  },
  {
   "cell_type": "code",
   "execution_count": 78,
   "metadata": {
    "collapsed": false
   },
   "outputs": [],
   "source": [
    "pdf = pd.DataFrame(container, columns=[\"query\", \"template\", \"count\"])"
   ]
  },
  {
   "cell_type": "code",
   "execution_count": 79,
   "metadata": {
    "collapsed": false
   },
   "outputs": [
    {
     "data": {
      "text/plain": [
       "126"
      ]
     },
     "execution_count": 79,
     "metadata": {},
     "output_type": "execute_result"
    }
   ],
   "source": [
    "len(pdf)"
   ]
  },
  {
   "cell_type": "code",
   "execution_count": 80,
   "metadata": {
    "collapsed": false
   },
   "outputs": [
    {
     "data": {
      "text/html": [
       "<div>\n",
       "<style scoped>\n",
       "    .dataframe tbody tr th:only-of-type {\n",
       "        vertical-align: middle;\n",
       "    }\n",
       "\n",
       "    .dataframe tbody tr th {\n",
       "        vertical-align: top;\n",
       "    }\n",
       "\n",
       "    .dataframe thead th {\n",
       "        text-align: right;\n",
       "    }\n",
       "</style>\n",
       "<table border=\"1\" class=\"dataframe\">\n",
       "  <thead>\n",
       "    <tr style=\"text-align: right;\">\n",
       "      <th></th>\n",
       "      <th>query</th>\n",
       "      <th>template</th>\n",
       "      <th>count</th>\n",
       "    </tr>\n",
       "  </thead>\n",
       "  <tbody>\n",
       "    <tr>\n",
       "      <th>0</th>\n",
       "      <td>&lt;http://dbpedia.org/resource/Skull_Gang&gt; &lt;http...</td>\n",
       "      <td>backward</td>\n",
       "      <td>12</td>\n",
       "    </tr>\n",
       "    <tr>\n",
       "      <th>1</th>\n",
       "      <td>&lt;http://dbpedia.org/resource/Skull_Gang&gt; &lt;http...</td>\n",
       "      <td>backward</td>\n",
       "      <td>12</td>\n",
       "    </tr>\n",
       "    <tr>\n",
       "      <th>2</th>\n",
       "      <td>?ac &lt;http://dbpedia.org/ontology/bandMember&gt; ?...</td>\n",
       "      <td>backward2</td>\n",
       "      <td>12</td>\n",
       "    </tr>\n",
       "    <tr>\n",
       "      <th>3</th>\n",
       "      <td>?ah &lt;http://dbpedia.org/ontology/bandMember&gt; ?...</td>\n",
       "      <td>backward2</td>\n",
       "      <td>12</td>\n",
       "    </tr>\n",
       "    <tr>\n",
       "      <th>4</th>\n",
       "      <td>?am &lt;http://dbpedia.org/ontology/bandMember&gt; ?...</td>\n",
       "      <td>backward2</td>\n",
       "      <td>12</td>\n",
       "    </tr>\n",
       "    <tr>\n",
       "      <th>...</th>\n",
       "      <td>...</td>\n",
       "      <td>...</td>\n",
       "      <td>...</td>\n",
       "    </tr>\n",
       "    <tr>\n",
       "      <th>121</th>\n",
       "      <td>?eb &lt;http://dbpedia.org/property/currentMember...</td>\n",
       "      <td>backward2</td>\n",
       "      <td>85364</td>\n",
       "    </tr>\n",
       "    <tr>\n",
       "      <th>122</th>\n",
       "      <td>?cy &lt;http://dbpedia.org/property/currentMember...</td>\n",
       "      <td>backward2</td>\n",
       "      <td>87058</td>\n",
       "    </tr>\n",
       "    <tr>\n",
       "      <th>123</th>\n",
       "      <td>?cv &lt;http://dbpedia.org/property/currentMember...</td>\n",
       "      <td>backward2</td>\n",
       "      <td>87148</td>\n",
       "    </tr>\n",
       "    <tr>\n",
       "      <th>124</th>\n",
       "      <td>?dg &lt;http://dbpedia.org/property/currentMember...</td>\n",
       "      <td>backward2</td>\n",
       "      <td>87164</td>\n",
       "    </tr>\n",
       "    <tr>\n",
       "      <th>125</th>\n",
       "      <td>?dc &lt;http://dbpedia.org/property/currentMember...</td>\n",
       "      <td>backward2</td>\n",
       "      <td>87308</td>\n",
       "    </tr>\n",
       "  </tbody>\n",
       "</table>\n",
       "<p>126 rows × 3 columns</p>\n",
       "</div>"
      ],
      "text/plain": [
       "                                                 query   template  count\n",
       "0    <http://dbpedia.org/resource/Skull_Gang> <http...   backward     12\n",
       "1    <http://dbpedia.org/resource/Skull_Gang> <http...   backward     12\n",
       "2    ?ac <http://dbpedia.org/ontology/bandMember> ?...  backward2     12\n",
       "3    ?ah <http://dbpedia.org/ontology/bandMember> ?...  backward2     12\n",
       "4    ?am <http://dbpedia.org/ontology/bandMember> ?...  backward2     12\n",
       "..                                                 ...        ...    ...\n",
       "121  ?eb <http://dbpedia.org/property/currentMember...  backward2  85364\n",
       "122  ?cy <http://dbpedia.org/property/currentMember...  backward2  87058\n",
       "123  ?cv <http://dbpedia.org/property/currentMember...  backward2  87148\n",
       "124  ?dg <http://dbpedia.org/property/currentMember...  backward2  87164\n",
       "125  ?dc <http://dbpedia.org/property/currentMember...  backward2  87308\n",
       "\n",
       "[126 rows x 3 columns]"
      ]
     },
     "execution_count": 80,
     "metadata": {},
     "output_type": "execute_result"
    }
   ],
   "source": [
    "pdf"
   ]
  },
  {
   "cell_type": "code",
   "execution_count": 71,
   "metadata": {
    "collapsed": false
   },
   "outputs": [],
   "source": [
    "pdf.to_csv(f\"/home/kardosp/continuethelist/stats/graphwalk_saves/record{i}.csv\")"
   ]
  },
  {
   "cell_type": "code",
   "execution_count": null,
   "metadata": {
    "collapsed": false
   },
   "outputs": [],
   "source": []
  }
 ],
 "metadata": {
  "kernelspec": {
   "display_name": "Python 3",
   "language": "python",
   "name": "python3"
  },
  "language_info": {
   "codemirror_mode": {
    "name": "ipython",
    "version": 2
   },
   "file_extension": ".py",
   "mimetype": "text/x-python",
   "name": "python",
   "nbconvert_exporter": "python",
   "pygments_lexer": "ipython2",
   "version": "2.7.6"
  }
 },
 "nbformat": 4,
 "nbformat_minor": 0
}
