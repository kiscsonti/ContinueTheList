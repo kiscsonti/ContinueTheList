{
 "cells": [
  {
   "cell_type": "code",
   "execution_count": 1,
   "metadata": {
    "collapsed": true
   },
   "outputs": [],
   "source": [
    "import pandas as pd\n",
    "%load_ext autoreload\n",
    "%autoreload 2"
   ]
  },
  {
   "cell_type": "code",
   "execution_count": 2,
   "metadata": {
    "collapsed": false
   },
   "outputs": [],
   "source": [
    "import os\n",
    "import sys\n",
    "module_path = os.path.abspath(os.path.join('..'))\n",
    "if module_path not in sys.path:\n",
    "    sys.path.append(module_path)"
   ]
  },
  {
   "cell_type": "code",
   "execution_count": 3,
   "metadata": {
    "collapsed": false
   },
   "outputs": [],
   "source": [
    "import pickle\n",
    "from evaluation.evaluate_script import graph_eval_ranking_ds, graph_eval_ranking_first\n",
    "import os\n",
    "import json\n",
    "\n",
    "file = \"/home/kardosp/continuethelist/outputs/graphwalk_v2_output_sample4.pickle\"\n",
    "\n",
    "with open(file, \"rb\") as f:\n",
    "    algo_results = pickle.load(f)"
   ]
  },
  {
   "cell_type": "code",
   "execution_count": 4,
   "metadata": {
    "collapsed": false
   },
   "outputs": [
    {
     "name": "stderr",
     "output_type": "stream",
     "text": [
      "100%|█████████████████████████████████████████| 250/250 [00:11<00:00, 21.66it/s]\n"
     ]
    }
   ],
   "source": [
    "metrics, extra_info = graph_eval_ranking_ds(algo_results, pred_column=\"explanation\", recalculate=True, extra_info=True)"
   ]
  },
  {
   "cell_type": "code",
   "execution_count": 6,
   "metadata": {
    "collapsed": false
   },
   "outputs": [],
   "source": [
    "valid_ranks = list(filter(lambda x: x != -1, extra_info))"
   ]
  },
  {
   "cell_type": "code",
   "execution_count": 10,
   "metadata": {
    "collapsed": false
   },
   "outputs": [],
   "source": [
    "import matplotlib.pyplot as plt\n",
    "import numpy as np"
   ]
  },
  {
   "cell_type": "code",
   "execution_count": 25,
   "metadata": {
    "collapsed": false
   },
   "outputs": [
    {
     "data": {
      "image/png": "[encoded data removed]",
      "text/plain": [
       "<Figure size 640x480 with 1 Axes>"
      ]
     },
     "metadata": {},
     "output_type": "display_data"
    }
   ],
   "source": [
    "plt.hist(valid_ranks, bins=np.logspace(np.log10(1),np.log10(200), 20))\n",
    "plt.gca().set_xscale(\"log\")"
   ]
  },
  {
   "cell_type": "code",
   "execution_count": 22,
   "metadata": {
    "collapsed": false
   },
   "outputs": [
    {
     "data": {
      "text/plain": [
       "(array([102.,  39.,  21.,  10.,   4.,   0.,   0.,   0.,   0.,   2.,   1.,\n",
       "          0.,   0.,   4.,   0.,   2.,   0.,   0.,   1.,   1.,   0.,   2.,\n",
       "          2.,   0.,   0.,   0.,   1.,   0.,   0.,   1.]),\n",
       " array([ 1.        ,  1.83333333,  2.66666667,  3.5       ,  4.33333333,\n",
       "         5.16666667,  6.        ,  6.83333333,  7.66666667,  8.5       ,\n",
       "         9.33333333, 10.16666667, 11.        , 11.83333333, 12.66666667,\n",
       "        13.5       , 14.33333333, 15.16666667, 16.        , 16.83333333,\n",
       "        17.66666667, 18.5       , 19.33333333, 20.16666667, 21.        ,\n",
       "        21.83333333, 22.66666667, 23.5       , 24.33333333, 25.16666667,\n",
       "        26.        ]),\n",
       " <BarContainer object of 30 artists>)"
      ]
     },
     "execution_count": 22,
     "metadata": {},
     "output_type": "execute_result"
    },
    {
     "data": {
      "image/png": "[encoded data removed]",
      "text/plain": [
       "<Figure size 640x480 with 1 Axes>"
      ]
     },
     "metadata": {},
     "output_type": "display_data"
    }
   ],
   "source": [
    "plt.hist(list(filter(lambda x: x<=30, valid_ranks)), bins=30)"
   ]
  },
  {
   "cell_type": "code",
   "execution_count": null,
   "metadata": {
    "collapsed": false
   },
   "outputs": [],
   "source": []
  }
 ],
 "metadata": {
  "kernelspec": {
   "display_name": "Python [conda env:continue] *",
   "language": "python",
   "name": "conda-env-continue-py"
  },
  "language_info": {
   "codemirror_mode": {
    "name": "ipython",
    "version": 2
   },
   "file_extension": ".py",
   "mimetype": "text/x-python",
   "name": "python",
   "nbconvert_exporter": "python",
   "pygments_lexer": "ipython2",
   "version": "2.7.6"
  }
 },
 "nbformat": 4,
 "nbformat_minor": 0
}
