{
 "cells": [
  {
   "cell_type": "code",
   "execution_count": 5,
   "metadata": {
    "collapsed": true,
    "pycharm": {
     "name": "#%%\n"
    }
   },
   "outputs": [
    {
     "name": "stdout",
     "output_type": "stream",
     "text": [
      "The autoreload extension is already loaded. To reload it, use:\n",
      "  %reload_ext autoreload\n"
     ]
    }
   ],
   "source": [
    "import pandas as pd\n",
    "%load_ext autoreload\n",
    "%autoreload 2"
   ]
  },
  {
   "cell_type": "code",
   "execution_count": 8,
   "metadata": {
    "collapsed": false,
    "pycharm": {
     "name": "#%%\n"
    }
   },
   "outputs": [],
   "source": [
    "import os\n",
    "import sys\n",
    "module_path = os.path.abspath(os.path.join('..'))\n",
    "if module_path not in sys.path:\n",
    "    sys.path.append(module_path)"
   ]
  },
  {
   "cell_type": "code",
   "execution_count": 9,
   "metadata": {
    "collapsed": false,
    "pycharm": {
     "name": "#%%\n"
    }
   },
   "outputs": [],
   "source": [
    "from evaluation.evaluate_script import graph_eval_ranking_ds_nodes, graph_eval_ranking_first_nodes, get_query_counts, get_mr_metrics_triples\n",
    "import os\n",
    "import json\n",
    "import pickle\n",
    "\n",
    "file = \"/home/kardosp/continuethelist/outputs/graphwalk_v2_output_sample4.pickle\"\n",
    "\n",
    "with open(file, \"rb\") as f:\n",
    "    algo_results = pickle.load(f)"
   ]
  },
  {
   "cell_type": "code",
   "execution_count": 10,
   "metadata": {
    "collapsed": false,
    "pycharm": {
     "name": "#%%\n"
    }
   },
   "outputs": [
    {
     "name": "stderr",
     "output_type": "stream",
     "text": [
      "100%|█████████████████████████████████████████| 250/250 [08:58<00:00,  2.16s/it]\n"
     ]
    }
   ],
   "source": [
    "metrics, ranks, query_sizes = graph_eval_ranking_ds_nodes(algo_results, \"explanation\", True)"
   ]
  },
  {
   "cell_type": "code",
   "execution_count": 11,
   "metadata": {
    "collapsed": false,
    "pycharm": {
     "name": "#%%\n"
    }
   },
   "outputs": [
    {
     "data": {
      "text/plain": [
       "(5.825174825174825,\n",
       " 0.7561983002211421,\n",
       " [0.357429718875502, 0.5341365461847389, 0.5421686746987951],\n",
       " 106)"
      ]
     },
     "execution_count": 11,
     "metadata": {},
     "output_type": "execute_result"
    }
   ],
   "source": [
    "metrics"
   ]
  },
  {
   "cell_type": "code",
   "execution_count": 7,
   "metadata": {
    "collapsed": false,
    "pycharm": {
     "name": "#%%\n"
    }
   },
   "outputs": [
    {
     "data": {
      "text/plain": [
       "[2,\n",
       " 2,\n",
       " 1,\n",
       " 1,\n",
       " 3,\n",
       " -1,\n",
       " -1,\n",
       " -1,\n",
       " -1,\n",
       " -1,\n",
       " 1,\n",
       " 2,\n",
       " -1,\n",
       " -1,\n",
       " -1,\n",
       " 1,\n",
       " -1,\n",
       " 4,\n",
       " 2,\n",
       " 4,\n",
       " -1,\n",
       " 1,\n",
       " 28,\n",
       " 118,\n",
       " 1,\n",
       " 1,\n",
       " -1,\n",
       " 4,\n",
       " -1,\n",
       " 2,\n",
       " 1,\n",
       " 2,\n",
       " 1,\n",
       " 3,\n",
       " 2,\n",
       " -1,\n",
       " 335,\n",
       " 6,\n",
       " 2,\n",
       " -1,\n",
       " -1,\n",
       " 1,\n",
       " 1,\n",
       " -1,\n",
       " 1,\n",
       " 1,\n",
       " 1,\n",
       " 2,\n",
       " -1,\n",
       " -1,\n",
       " 1,\n",
       " 1,\n",
       " 1,\n",
       " -1,\n",
       " -1,\n",
       " 1,\n",
       " -1,\n",
       " 2,\n",
       " -1,\n",
       " 1,\n",
       " -1,\n",
       " 1,\n",
       " -1,\n",
       " 1,\n",
       " -1,\n",
       " 1,\n",
       " 1,\n",
       " 1,\n",
       " -1,\n",
       " 1,\n",
       " -1,\n",
       " -1,\n",
       " 1,\n",
       " 1,\n",
       " -1,\n",
       " -1,\n",
       " -1,\n",
       " -1,\n",
       " 4,\n",
       " -1,\n",
       " 1,\n",
       " 1,\n",
       " 1,\n",
       " 2,\n",
       " -1,\n",
       " 1,\n",
       " 2,\n",
       " -1,\n",
       " 2,\n",
       " 1,\n",
       " 5,\n",
       " -1,\n",
       " -1,\n",
       " 1,\n",
       " -1,\n",
       " -1,\n",
       " 35,\n",
       " 2,\n",
       " 3,\n",
       " -1,\n",
       " 1,\n",
       " -1,\n",
       " -1,\n",
       " 1,\n",
       " 1,\n",
       " -1,\n",
       " -1,\n",
       " -1,\n",
       " 2,\n",
       " -1,\n",
       " 13,\n",
       " 1,\n",
       " 2,\n",
       " -1,\n",
       " 1,\n",
       " 1,\n",
       " 3,\n",
       " -1,\n",
       " -1,\n",
       " -1,\n",
       " -1,\n",
       " -1,\n",
       " 1,\n",
       " 2,\n",
       " -1,\n",
       " 2,\n",
       " 1,\n",
       " -1,\n",
       " -1,\n",
       " 1,\n",
       " 2,\n",
       " 1,\n",
       " 1,\n",
       " 1,\n",
       " -1,\n",
       " -1,\n",
       " 1,\n",
       " -1,\n",
       " 1,\n",
       " -1,\n",
       " 1,\n",
       " 19,\n",
       " 1,\n",
       " -1,\n",
       " 1,\n",
       " 1,\n",
       " -1,\n",
       " 1,\n",
       " 1,\n",
       " 1,\n",
       " -1,\n",
       " 2,\n",
       " -1,\n",
       " 25,\n",
       " -1,\n",
       " 1,\n",
       " -1,\n",
       " -1,\n",
       " 1,\n",
       " 1,\n",
       " 1,\n",
       " 1,\n",
       " 2,\n",
       " -1,\n",
       " -1,\n",
       " -1,\n",
       " 1,\n",
       " 1,\n",
       " -1,\n",
       " 1,\n",
       " -1,\n",
       " -1,\n",
       " -1,\n",
       " -1,\n",
       " 1,\n",
       " -1,\n",
       " 2,\n",
       " -1,\n",
       " 1,\n",
       " 1,\n",
       " -1,\n",
       " -1,\n",
       " -1,\n",
       " -1,\n",
       " 1,\n",
       " 1,\n",
       " 1,\n",
       " 1,\n",
       " 1,\n",
       " 2,\n",
       " 5,\n",
       " -1,\n",
       " -1,\n",
       " 1,\n",
       " -1,\n",
       " 3,\n",
       " 1,\n",
       " -1,\n",
       " 1,\n",
       " 1,\n",
       " -1,\n",
       " 1,\n",
       " -1,\n",
       " -1,\n",
       " -1,\n",
       " 1,\n",
       " -1,\n",
       " 1,\n",
       " 3,\n",
       " 10,\n",
       " -1,\n",
       " -1,\n",
       " -1,\n",
       " -1,\n",
       " 3,\n",
       " -1,\n",
       " 1,\n",
       " 2,\n",
       " -1,\n",
       " 1,\n",
       " 1,\n",
       " 2,\n",
       " 1,\n",
       " -1,\n",
       " 1,\n",
       " 1,\n",
       " 3,\n",
       " 5,\n",
       " -1,\n",
       " 1,\n",
       " 1,\n",
       " 1,\n",
       " 2,\n",
       " -1,\n",
       " -1,\n",
       " 1,\n",
       " -1,\n",
       " -1,\n",
       " 1,\n",
       " -1,\n",
       " -1,\n",
       " -1,\n",
       " -1,\n",
       " -1,\n",
       " 1,\n",
       " 3,\n",
       " 41,\n",
       " 2,\n",
       " 2]"
      ]
     },
     "execution_count": 7,
     "metadata": {},
     "output_type": "execute_result"
    }
   ],
   "source": [
    "ranks"
   ]
  },
  {
   "cell_type": "code",
   "execution_count": 12,
   "metadata": {
    "collapsed": false,
    "pycharm": {
     "name": "#%%\n"
    }
   },
   "outputs": [],
   "source": [
    "import matplotlib.pyplot as plt\n",
    "import numpy as np"
   ]
  },
  {
   "cell_type": "code",
   "execution_count": 13,
   "metadata": {
    "collapsed": false,
    "pycharm": {
     "name": "#%%\n"
    }
   },
   "outputs": [
    {
     "data": {
      "text/plain": [
       "(array([106.,   0.,  89.,  28.,   9.,   4.,   3.,   1.,   0.,   0.,   0.,\n",
       "          1.,   0.,   0.,   1.,   0.,   0.,   0.,   0.,   0.,   1.]),\n",
       " array([-1.        , -0.04761905,  0.9047619 ,  1.85714286,  2.80952381,\n",
       "         3.76190476,  4.71428571,  5.66666667,  6.61904762,  7.57142857,\n",
       "         8.52380952,  9.47619048, 10.42857143, 11.38095238, 12.33333333,\n",
       "        13.28571429, 14.23809524, 15.19047619, 16.14285714, 17.0952381 ,\n",
       "        18.04761905, 19.        ]),\n",
       " <BarContainer object of 21 artists>)"
      ]
     },
     "execution_count": 13,
     "metadata": {},
     "output_type": "execute_result"
    },
    {
     "data": {
      "image/png": "[encoded data removed]",
      "text/plain": [
       "<Figure size 640x480 with 1 Axes>"
      ]
     },
     "metadata": {},
     "output_type": "display_data"
    }
   ],
   "source": [
    "plt.hist(list(filter(lambda x: x<20, ranks)), bins=21)\n",
    "# plt.hist(ranks, bins=40)\n",
    "# plt.gca().set_xscale(\"log\")"
   ]
  },
  {
   "cell_type": "markdown",
   "metadata": {
    "collapsed": false,
    "pycharm": {
     "name": "#%% md\n"
    }
   },
   "source": [
    "# Examples"
   ]
  },
  {
   "cell_type": "code",
   "execution_count": 14,
   "metadata": {
    "collapsed": false,
    "pycharm": {
     "name": "#%%\n"
    }
   },
   "outputs": [],
   "source": [
    "i = 4\n",
    "record = algo_results[i]\n",
    "res = graph_eval_ranking_first_nodes(record[\"graph\"], record[\"explanation\"], True)"
   ]
  },
  {
   "cell_type": "code",
   "execution_count": 17,
   "metadata": {
    "collapsed": false,
    "pycharm": {
     "name": "#%%\n"
    }
   },
   "outputs": [
    {
     "data": {
      "text/plain": [
       "[[[['?as', 'http://dbpedia.org/ontology/author', '?uri'],\n",
       "   ['?as',\n",
       "    'http://dbpedia.org/property/magazine',\n",
       "    'http://dbpedia.org/resource/Jump_Square']],\n",
       "  25],\n",
       " [[['?au', 'http://dbpedia.org/ontology/author', '?uri'],\n",
       "   ['?au',\n",
       "    'http://dbpedia.org/ontology/magazine',\n",
       "    'http://dbpedia.org/resource/Jump_Square']],\n",
       "  30],\n",
       " [[['?ai', 'http://dbpedia.org/property/author', '?uri'],\n",
       "   ['?ai',\n",
       "    'http://dbpedia.org/property/magazine',\n",
       "    'http://dbpedia.org/resource/Jump_Square']],\n",
       "  41]]"
      ]
     },
     "execution_count": 17,
     "metadata": {},
     "output_type": "execute_result"
    }
   ],
   "source": [
    "res[1][:ranks[i]]"
   ]
  },
  {
   "cell_type": "code",
   "execution_count": 34,
   "metadata": {
    "collapsed": false,
    "pycharm": {
     "name": "#%%\n"
    }
   },
   "outputs": [
    {
     "data": {
      "text/plain": [
       "[[[['?as', 'http://dbpedia.org/ontology/author', '?uri'],\n",
       "   ['?as',\n",
       "    'http://dbpedia.org/property/magazine',\n",
       "    'http://dbpedia.org/resource/Jump_Square']],\n",
       "  25],\n",
       " [[['?au', 'http://dbpedia.org/ontology/author', '?uri'],\n",
       "   ['?au',\n",
       "    'http://dbpedia.org/ontology/magazine',\n",
       "    'http://dbpedia.org/resource/Jump_Square']],\n",
       "  30],\n",
       " [[['?ai', 'http://dbpedia.org/property/author', '?uri'],\n",
       "   ['?ai',\n",
       "    'http://dbpedia.org/property/magazine',\n",
       "    'http://dbpedia.org/resource/Jump_Square']],\n",
       "  41]]"
      ]
     },
     "execution_count": 34,
     "metadata": {},
     "output_type": "execute_result"
    }
   ],
   "source": [
    "res[1][:3]"
   ]
  },
  {
   "cell_type": "code",
   "execution_count": null,
   "metadata": {
    "collapsed": false,
    "pycharm": {
     "name": "#%%\n"
    }
   },
   "outputs": [],
   "source": []
  },
  {
   "cell_type": "markdown",
   "metadata": {
    "collapsed": false,
    "pycharm": {
     "name": "#%% md\n"
    }
   },
   "source": [
    "# How big the Rank 1 groups?"
   ]
  },
  {
   "cell_type": "code",
   "execution_count": 18,
   "metadata": {
    "collapsed": false,
    "pycharm": {
     "name": "#%%\n"
    }
   },
   "outputs": [
    {
     "name": "stdout",
     "output_type": "stream",
     "text": [
      "Average Rank 1 size 13.63855421686747\n"
     ]
    }
   ],
   "source": [
    "import numpy as np\n",
    "\n",
    "rank1_sizes = list()\n",
    "for item in query_sizes:\n",
    "    # TODO - calculate top1 rank size\n",
    "    res_size = item[0][1]\n",
    "    size = 0\n",
    "    for query in item:\n",
    "        if query[1] == res_size:\n",
    "            size += 1\n",
    "        else:\n",
    "            break\n",
    "    rank1_sizes.append(size)\n",
    "\n",
    "print(\"Average Rank 1 size\", np.mean(rank1_sizes))"
   ]
  }
 ],
 "metadata": {
  "kernelspec": {
   "display_name": "Python [conda env:continue] *",
   "language": "python",
   "name": "conda-env-continue-py"
  },
  "language_info": {
   "codemirror_mode": {
    "name": "ipython",
    "version": 2
   },
   "file_extension": ".py",
   "mimetype": "text/x-python",
   "name": "python",
   "nbconvert_exporter": "python",
   "pygments_lexer": "ipython2",
   "version": "2.7.6"
  }
 },
 "nbformat": 4,
 "nbformat_minor": 0
}
