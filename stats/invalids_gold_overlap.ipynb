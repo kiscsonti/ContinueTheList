{
 "cells": [
  {
   "cell_type": "code",
   "execution_count": 1,
   "metadata": {
    "collapsed": true
   },
   "outputs": [],
   "source": [
    "import pandas as pd\n",
    "%load_ext autoreload\n",
    "%autoreload 2"
   ]
  },
  {
   "cell_type": "code",
   "execution_count": 2,
   "metadata": {
    "collapsed": false
   },
   "outputs": [],
   "source": [
    "import os\n",
    "import sys\n",
    "module_path = os.path.abspath(os.path.join('..'))\n",
    "if module_path not in sys.path:\n",
    "    sys.path.append(module_path)"
   ]
  },
  {
   "cell_type": "code",
   "execution_count": 3,
   "metadata": {
    "collapsed": false
   },
   "outputs": [],
   "source": [
    "from algorithm.graphwalk_functions_v3 import (run_on_dataset,\n",
    "                                              run_grapwalk_function_v3)\n",
    "from excludes.basic_excludes import (node_excl_yago_func, node_excl_extra,\n",
    "                                     node_excl_owlthing_func, node_excl_wiki_func, rel_excl_wiki_func,\n",
    "                                     node_english_only_func, long_node_exclude_func)\n",
    "from loaders.loaders import *\n",
    "from evaluation.split_dataset import split_on_seed_dataset\n",
    "import json\n",
    "import pickle\n",
    "from time import time\n",
    "from datetime import timedelta"
   ]
  },
  {
   "cell_type": "code",
   "execution_count": 30,
   "metadata": {
    "collapsed": false
   },
   "outputs": [],
   "source": [
    "file_path = \"/home/kardosp/continuethelist/outputs/graphwalk_v3_output_sample4_v3.pickle\"\n",
    "\n",
    "with open(file_path, \"rb\") as f:\n",
    "    algo_results = pickle.load(f)"
   ]
  },
  {
   "cell_type": "code",
   "execution_count": 6,
   "metadata": {
    "collapsed": false
   },
   "outputs": [
    {
     "data": {
      "text/plain": [
       "[[['?azba', 'http://dbpedia.org/property/location', '?uri'],\n",
       "  ['?azba', 'http://dbpedia.org/property/areaServed', 'Worldwide']],\n",
       " [['?aw', 'http://dbpedia.org/property/location', '?uri'],\n",
       "  ['?aw', 'http://dbpedia.org/ontology/foundingYear', '1992']],\n",
       " [['?aq', 'http://dbpedia.org/ontology/headquarter', '?uri'],\n",
       "  ['?aq', 'http://dbpedia.org/property/leaderTitle', 'President']],\n",
       " [['?ab', 'http://dbpedia.org/ontology/location', '?uri'],\n",
       "  ['?ab', 'http://dbpedia.org/property/imageWidth', '250']],\n",
       " [['?azba', 'http://dbpedia.org/ontology/location', '?uri'],\n",
       "  ['?azba', 'http://dbpedia.org/ontology/foundingYear', '1997']],\n",
       " [['?ac', 'http://dbpedia.org/ontology/location', '?uri'],\n",
       "  ['?ac', 'http://dbpedia.org/property/areaServed', 'Worldwide']],\n",
       " [['?ag', 'http://dbpedia.org/ontology/location', '?uri'],\n",
       "  ['?ag', 'http://dbpedia.org/ontology/foundingYear', '1992']],\n",
       " [['?an', 'http://dbpedia.org/ontology/deathPlace', '?uri'],\n",
       "  ['?an', 'http://dbpedia.org/ontology/deathYear', '1986']],\n",
       " [['?ao', 'http://dbpedia.org/ontology/deathPlace', '?uri'],\n",
       "  ['?ao', 'http://dbpedia.org/ontology/birthYear', '1919']],\n",
       " [['?aq', 'http://dbpedia.org/ontology/deathPlace', '?uri'],\n",
       "  ['?aq', 'http://dbpedia.org/ontology/deathYear', '2013']],\n",
       " [['?at', 'http://dbpedia.org/property/placeOfDeath', '?uri'],\n",
       "  ['?at', 'http://dbpedia.org/ontology/deathYear', '2013']],\n",
       " [['?av', 'http://dbpedia.org/property/deathPlace', '?uri'],\n",
       "  ['?av', 'http://dbpedia.org/ontology/deathYear', '1986']],\n",
       " [['?ab', 'http://dbpedia.org/property/deathPlace', '?uri'],\n",
       "  ['?ab', 'http://dbpedia.org/ontology/deathYear', '2013']],\n",
       " [['?ak', 'http://dbpedia.org/ontology/hometown', '?uri'],\n",
       "  ['?ak', 'http://dbpedia.org/ontology/activeYearsStartYear', '1990']],\n",
       " [['?ar', 'http://dbpedia.org/ontology/hometown', '?uri'],\n",
       "  ['?ar', 'http://dbpedia.org/property/background', 'group_or_band']],\n",
       " [['?av', 'http://dbpedia.org/ontology/hometown', '?uri'],\n",
       "  ['?av', 'http://dbpedia.org/property/yearsActive', '1990']],\n",
       " [['?aw', 'http://dbpedia.org/property/birthPlace', '?uri'],\n",
       "  ['?aw', 'http://dbpedia.org/ontology/activeYearsStartYear', '2005']],\n",
       " [['?ab', 'http://dbpedia.org/property/birthPlace', '?uri'],\n",
       "  ['?ab', 'http://dbpedia.org/ontology/birthYear', '1985']],\n",
       " [['?ac', 'http://dbpedia.org/property/birthPlace', '?uri'],\n",
       "  ['?ac', 'http://dbpedia.org/ontology/activeYearsStartYear', '2006']],\n",
       " [['?ad', 'http://dbpedia.org/property/birthPlace', '?uri'],\n",
       "  ['?ad', 'http://dbpedia.org/ontology/birthYear', '1983']],\n",
       " [['?ag', 'http://dbpedia.org/property/birthPlace', '?uri'],\n",
       "  ['?ag', 'http://dbpedia.org/property/yearsActive', '2005']],\n",
       " [['?ap', 'http://dbpedia.org/property/origin', '?uri'],\n",
       "  ['?ap', 'http://dbpedia.org/property/background', 'group_or_band']],\n",
       " [['?at', 'http://dbpedia.org/property/placeOfBirth', '?uri'],\n",
       "  ['?at', 'http://dbpedia.org/ontology/birthYear', '1983']],\n",
       " [['?au', 'http://dbpedia.org/property/placeOfBirth', '?uri'],\n",
       "  ['?au', 'http://dbpedia.org/ontology/activeYearsStartYear', '2005']],\n",
       " [['?ac', 'http://dbpedia.org/property/placeOfBirth', '?uri'],\n",
       "  ['?ac', 'http://dbpedia.org/ontology/birthYear', '1985']],\n",
       " [['?ae', 'http://dbpedia.org/ontology/birthPlace', '?uri'],\n",
       "  ['?ae', 'http://dbpedia.org/ontology/activeYearsStartYear', '2005']],\n",
       " [['?ah', 'http://dbpedia.org/ontology/birthPlace', '?uri'],\n",
       "  ['?ah', 'http://dbpedia.org/ontology/birthYear', '1985']],\n",
       " [['?ai', 'http://dbpedia.org/ontology/birthPlace', '?uri'],\n",
       "  ['?ai', 'http://dbpedia.org/ontology/activeYearsStartYear', '2006']],\n",
       " [['?ak', 'http://dbpedia.org/ontology/birthPlace', '?uri'],\n",
       "  ['?ak', 'http://dbpedia.org/property/yearsActive', '2005']],\n",
       " [['?ao', 'http://dbpedia.org/ontology/birthPlace', '?uri'],\n",
       "  ['?ao', 'http://dbpedia.org/ontology/birthYear', '1983']]]"
      ]
     },
     "execution_count": 6,
     "metadata": {},
     "output_type": "execute_result"
    }
   ],
   "source": [
    "algo_results[0][\"explanation\"][\"invalids\"]"
   ]
  },
  {
   "cell_type": "code",
   "execution_count": 9,
   "metadata": {
    "collapsed": false
   },
   "outputs": [],
   "source": [
    "from evaluation.evaluate_script import normalize_triple"
   ]
  },
  {
   "cell_type": "code",
   "execution_count": 33,
   "metadata": {
    "collapsed": false
   },
   "outputs": [
    {
     "name": "stdout",
     "output_type": "stream",
     "text": [
      "0\n",
      "1\n",
      "2\n",
      "3\n",
      "4\n",
      "5\n",
      "6\n",
      "7\n",
      "8\n",
      "9\n",
      "10\n",
      "11\n",
      "12\n",
      "13\n",
      "14\n",
      "15\n",
      "16\n",
      "17\n",
      "18\n",
      "19\n",
      "20\n",
      "21\n",
      "22\n",
      "23\n",
      "24\n",
      "25\n",
      "26\n",
      "27\n",
      "28\n",
      "29\n",
      "30\n",
      "31\n",
      "32\n",
      "33\n",
      "34\n",
      "35\n",
      "36\n",
      "37\n",
      "38\n",
      "39\n",
      "40\n",
      "41\n",
      "42\n",
      "43\n",
      "44\n",
      "45\n",
      "46\n",
      "47\n",
      "48\n",
      "49\n",
      "50\n",
      "51\n",
      "52\n",
      "53\n",
      "54\n",
      "55\n",
      "56\n",
      "57\n",
      "58\n",
      "59\n",
      "60\n",
      "61\n",
      "62\n",
      "63\n",
      "64\n",
      "65\n",
      "66\n",
      "67\n",
      "68\n",
      "69\n",
      "70\n",
      "71\n",
      "72\n",
      "73\n",
      "74\n",
      "75\n",
      "76\n",
      "77\n",
      "78\n",
      "79\n",
      "80\n",
      "81\n",
      "82\n",
      "83\n",
      "84\n",
      "85\n",
      "86\n",
      "87\n",
      "88\n",
      "89\n",
      "90\n",
      "91\n",
      "92\n",
      "93\n",
      "94\n",
      "95\n",
      "96\n",
      "97\n",
      "98\n",
      "99\n",
      "100\n",
      "101\n",
      "102\n",
      "103\n",
      "104\n",
      "105\n",
      "106\n",
      "107\n",
      "108\n",
      "109\n",
      "110\n",
      "111\n",
      "112\n",
      "113\n",
      "114\n",
      "115\n",
      "116\n",
      "117\n",
      "118\n",
      "119\n",
      "120\n",
      "121\n",
      "122\n",
      "123\n",
      "124\n",
      "125\n",
      "126\n",
      "127\n",
      "128\n",
      "129\n",
      "130\n",
      "131\n",
      "132\n",
      "133\n",
      "134\n",
      "135\n",
      "136\n",
      "137\n",
      "138\n",
      "139\n",
      "140\n",
      "141\n",
      "142\n",
      "143\n",
      "144\n",
      "145\n",
      "146\n",
      "147\n",
      "148\n",
      "149\n",
      "150\n",
      "151\n",
      "152\n",
      "153\n",
      "154\n",
      "155\n",
      "156\n",
      "157\n",
      "158\n",
      "159\n",
      "160\n",
      "161\n",
      "162\n",
      "163\n",
      "164\n",
      "165\n",
      "166\n",
      "167\n",
      "168\n",
      "169\n",
      "170\n",
      "171\n",
      "172\n",
      "173\n",
      "174\n",
      "175\n",
      "176\n",
      "177\n",
      "178\n",
      "179\n",
      "180\n",
      "181\n",
      "182\n",
      "183\n",
      "184\n",
      "185\n",
      "186\n",
      "187\n",
      "188\n",
      "189\n",
      "190\n",
      "191\n",
      "192\n",
      "193\n",
      "194\n",
      "195\n",
      "196\n",
      "197\n",
      "198\n",
      "199\n",
      "200\n",
      "201\n",
      "202\n",
      "203\n",
      "204\n",
      "205\n",
      "206\n",
      "207\n",
      "208\n",
      "209\n",
      "210\n",
      "211\n",
      "212\n",
      "213\n",
      "214\n",
      "215\n",
      "216\n",
      "217\n",
      "218\n",
      "219\n",
      "220\n",
      "221\n",
      "222\n",
      "223\n",
      "224\n",
      "225\n",
      "226\n",
      "227\n",
      "228\n",
      "229\n",
      "230\n",
      "231\n",
      "232\n",
      "233\n",
      "234\n",
      "235\n",
      "236\n",
      "237\n",
      "238\n",
      "239\n",
      "240\n",
      "241\n",
      "242\n",
      "243\n",
      "244\n",
      "245\n",
      "246\n",
      "247\n",
      "248\n",
      "249\n"
     ]
    }
   ],
   "source": [
    "overlap = []\n",
    "for i, record in enumerate(algo_results):\n",
    "    print(i)\n",
    "    if len(record[\"explanation\"]) == 0:\n",
    "        continue\n",
    "    for gold in record[\"graph\"]:\n",
    "        gold_normalized = normalize_triple(gold, True)\n",
    "        for invalid in record[\"explanation\"][\"invalids\"]:\n",
    "            invalid2 = invalid\n",
    "            # print(type(invalid2[0]))\n",
    "            if isinstance(invalid2[0], str):\n",
    "                invalid2 = [invalid2]\n",
    "            # print(invalid2)\n",
    "            for triple in invalid2:\n",
    "                triple_normalized = normalize_triple(triple, False)\n",
    "                same = True\n",
    "                for j in range(3):\n",
    "                    if gold_normalized[j] != triple_normalized[j]:\n",
    "                        same = False\n",
    "                        break\n",
    "\n",
    "                if same is True:\n",
    "                    overlap.append([i, gold, triple])\n"
   ]
  },
  {
   "cell_type": "code",
   "execution_count": 34,
   "metadata": {
    "collapsed": false
   },
   "outputs": [
    {
     "data": {
      "text/plain": [
       "[]"
      ]
     },
     "execution_count": 34,
     "metadata": {},
     "output_type": "execute_result"
    }
   ],
   "source": [
    "overlap"
   ]
  },
  {
   "cell_type": "code",
   "execution_count": 16,
   "metadata": {
    "collapsed": false
   },
   "outputs": [
    {
     "data": {
      "text/plain": [
       "[['?ac', 'http://dbpedia.org/ontology/location', '?uri'],\n",
       " ['?ac', 'http://dbpedia.org/property/areaServed', 'Worldwide']]"
      ]
     },
     "execution_count": 16,
     "metadata": {},
     "output_type": "execute_result"
    }
   ],
   "source": [
    "record[\"explanation\"][\"invalids\"][5]"
   ]
  },
  {
   "cell_type": "code",
   "execution_count": 27,
   "metadata": {
    "collapsed": false
   },
   "outputs": [
    {
     "ename": "TypeError",
     "evalue": "list indices must be integers or slices, not str",
     "output_type": "error",
     "traceback": [
      "\u001b[0;31m---------------------------------------------------------------------------\u001b[0m",
      "\u001b[0;31mTypeError\u001b[0m                                 Traceback (most recent call last)",
      "Cell \u001b[0;32mIn[27], line 1\u001b[0m\n\u001b[0;32m----> 1\u001b[0m \u001b[43malgo_results\u001b[49m\u001b[43m[\u001b[49m\u001b[38;5;124;43m\"\u001b[39;49m\u001b[38;5;124;43mexplanation\u001b[39;49m\u001b[38;5;124;43m\"\u001b[39;49m\u001b[43m]\u001b[49m[\u001b[38;5;124m\"\u001b[39m\u001b[38;5;124minvalids\u001b[39m\u001b[38;5;124m\"\u001b[39m]\n",
      "\u001b[0;31mTypeError\u001b[0m: list indices must be integers or slices, not str"
     ]
    }
   ],
   "source": [
    "algo_results[\"explanation\"][\"invalids\"]"
   ]
  },
  {
   "cell_type": "code",
   "execution_count": 31,
   "metadata": {
    "collapsed": false
   },
   "outputs": [
    {
     "data": {
      "text/plain": [
       "[]"
      ]
     },
     "execution_count": 31,
     "metadata": {},
     "output_type": "execute_result"
    }
   ],
   "source": [
    "algo_results[1][\"explanation\"]"
   ]
  },
  {
   "cell_type": "code",
   "execution_count": null,
   "metadata": {
    "collapsed": false
   },
   "outputs": [],
   "source": []
  }
 ],
 "metadata": {
  "kernelspec": {
   "display_name": "Python [conda env:continue] *",
   "language": "python",
   "name": "conda-env-continue-py"
  },
  "language_info": {
   "codemirror_mode": {
    "name": "ipython",
    "version": 2
   },
   "file_extension": ".py",
   "mimetype": "text/x-python",
   "name": "python",
   "nbconvert_exporter": "python",
   "pygments_lexer": "ipython2",
   "version": "2.7.6"
  }
 },
 "nbformat": 4,
 "nbformat_minor": 0
}
