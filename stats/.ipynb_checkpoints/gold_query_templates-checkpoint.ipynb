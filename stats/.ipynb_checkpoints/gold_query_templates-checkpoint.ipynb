{
 "cells": [
  {
   "cell_type": "code",
   "execution_count": 4,
   "metadata": {
    "collapsed": true
   },
   "outputs": [],
   "source": [
    "import pandas as pd\n",
    "%load_ext autoreload\n",
    "%autoreload 2"
   ]
  },
  {
   "cell_type": "code",
   "execution_count": 5,
   "metadata": {
    "collapsed": false
   },
   "outputs": [],
   "source": [
    "import os\n",
    "import sys\n",
    "module_path = os.path.abspath(os.path.join('..'))\n",
    "if module_path not in sys.path:\n",
    "    sys.path.append(module_path)"
   ]
  },
  {
   "cell_type": "code",
   "execution_count": 6,
   "metadata": {
    "collapsed": false
   },
   "outputs": [],
   "source": [
    "from loaders.loaders import *\n",
    "from evaluation.split_dataset import split_on_seed_dataset\n",
    "import json\n",
    "import pickle\n",
    "\n",
    "lc_quad_train = load_on_path(ds_lc_quad_train_cleaned)"
   ]
  },
  {
   "cell_type": "code",
   "execution_count": 7,
   "metadata": {
    "collapsed": false
   },
   "outputs": [],
   "source": [
    "def filter_graph(graph):\n",
    "    valid_triples = list()\n",
    "\n",
    "    for triple in graph:\n",
    "        if triple[0].startswith(\"?\") and \"uri\" not in triple[0]:\n",
    "            valid_triples.append(triple)\n",
    "        if triple[2].startswith(\"?\") and \"uri\" not in triple[2]:\n",
    "            valid_triples.append(triple)\n",
    "    return valid_triples"
   ]
  },
  {
   "cell_type": "code",
   "execution_count": 9,
   "metadata": {
    "collapsed": false
   },
   "outputs": [
    {
     "name": "stdout",
     "output_type": "stream",
     "text": [
      "[] [['?uri', '<http://dbpedia.org/ontology/order>', '<http://dbpedia.org/resource/Bacillales>'], ['?uri', '<http://dbpedia.org/property/domain>', '<http://dbpedia.org/resource/Bacteria>'], ['?uri', '<http://www.w3.org/1999/02/22-rdf-syntax-ns#type>', '<http://dbpedia.org/ontology/Bacteria>']]\n",
      "[] [['?uri', '<http://dbpedia.org/ontology/formerTeam>', '<http://dbpedia.org/resource/Indianapolis_Colts>'], ['?uri', '<http://dbpedia.org/ontology/formerTeam>', '<http://dbpedia.org/resource/Carolina_Panthers>']]\n",
      "[] [['?uri', '<http://dbpedia.org/ontology/origin>', '<http://dbpedia.org/resource/England>']]\n",
      "[] [['?uri', '<http://dbpedia.org/property/distributor>', '<http://dbpedia.org/resource/HBO>'], ['?uri', '<http://www.w3.org/1999/02/22-rdf-syntax-ns#type>', '<http://dbpedia.org/ontology/TelevisionShow>']]\n",
      "[] [['?uri', '<http://dbpedia.org/ontology/creator>', '<http://dbpedia.org/resource/Bruce_Timm>']]\n",
      "[] [['?uri', '<http://dbpedia.org/property/music>', '<http://dbpedia.org/resource/Laurie_Johnson>'], ['?uri', '<http://www.w3.org/1999/02/22-rdf-syntax-ns#type>', '<http://dbpedia.org/ontology/Film>']]\n",
      "[] [['<http://dbpedia.org/resource/U.S._Route_59>', '<http://dbpedia.org/property/junction>', '?uri']]\n",
      "[] [['?uri', '<http://dbpedia.org/ontology/primeMinister>', '<http://dbpedia.org/resource/Bob_Hawke>']]\n",
      "[] [['<http://dbpedia.org/resource/Mediterranean_Sea>', '<http://dbpedia.org/property/cities>', '?uri']]\n",
      "[] [['?uri', '<http://dbpedia.org/ontology/producer>', '<http://dbpedia.org/resource/Larry_J._Franco>']]\n",
      "[] [['?uri', '<http://dbpedia.org/ontology/director>', '<http://dbpedia.org/resource/Stanley_Kubrick>'], ['?uri', '<http://www.w3.org/1999/02/22-rdf-syntax-ns#type>', '<http://dbpedia.org/ontology/Film>']]\n",
      "[] [['?uri', '<http://dbpedia.org/ontology/producer>', '<http://dbpedia.org/resource/Michael_Deeley>'], ['?uri', '<http://www.w3.org/1999/02/22-rdf-syntax-ns#type>', '<http://dbpedia.org/ontology/Film>']]\n",
      "[] [['?uri', '<http://dbpedia.org/ontology/operatingSystem>', '<http://dbpedia.org/resource/Mac_OS>'], ['?uri', '<http://dbpedia.org/ontology/programmingLanguage>', '<http://dbpedia.org/resource/C++>'], ['?uri', '<http://www.w3.org/1999/02/22-rdf-syntax-ns#type>', '<http://dbpedia.org/ontology/Software>']]\n",
      "[] [['<http://dbpedia.org/resource/Daund_Junction_railway_station>', '<http://dbpedia.org/ontology/servingRailwayLine>', '?uri']]\n",
      "[] [['?uri', '<http://dbpedia.org/property/employer>', '<http://dbpedia.org/resource/ITV_(TV_network)>']]\n",
      "[] [['?uri', '<http://dbpedia.org/ontology/instrument>', '<http://dbpedia.org/resource/Rickenbacker>'], ['?uri', '<http://www.w3.org/1999/02/22-rdf-syntax-ns#type>', '<http://dbpedia.org/ontology/MusicalArtist>']]\n",
      "[] [['<http://dbpedia.org/resource/Ragout_fin>', '<http://dbpedia.org/ontology/ingredient>', '?uri']]\n",
      "[] [['?uri', '<http://dbpedia.org/ontology/team>', '<http://dbpedia.org/resource/Phoenix_Suns>'], ['?uri', '<http://www.w3.org/1999/02/22-rdf-syntax-ns#type>', '<http://dbpedia.org/ontology/BasketballPlayer>']]\n",
      "[] [['?uri', '<http://dbpedia.org/ontology/hubAirport>', '<http://dbpedia.org/resource/Los_Angeles_International_Airport>'], ['?uri', '<http://www.w3.org/1999/02/22-rdf-syntax-ns#type>', '<http://dbpedia.org/ontology/Airline>']]\n",
      "[] [['?uri', '<http://dbpedia.org/property/music>', '<http://dbpedia.org/resource/Waddy_Wachtel>'], ['?uri', '<http://www.w3.org/1999/02/22-rdf-syntax-ns#type>', '<http://dbpedia.org/ontology/Film>']]\n",
      "[] [['?uri', '<http://dbpedia.org/ontology/place>', '<http://dbpedia.org/resource/Israel>'], ['?uri', '<http://www.w3.org/1999/02/22-rdf-syntax-ns#type>', '<http://dbpedia.org/ontology/MilitaryConflict>']]\n",
      "[] [['?uri', '<http://dbpedia.org/property/canonizedBy>', '<http://dbpedia.org/resource/Pope_Paul_VI>']]\n",
      "[] [['?uri', '<http://dbpedia.org/ontology/associatedBand>', '<http://dbpedia.org/resource/Foxy_Brown_(rapper)>']]\n",
      "[] [['?uri', '<http://dbpedia.org/ontology/residence>', '<http://dbpedia.org/resource/Beverly_Hills,_California>'], ['?uri', '<http://www.w3.org/1999/02/22-rdf-syntax-ns#type>', '<http://dbpedia.org/ontology/Person>']]\n",
      "[] [['?uri', '<http://dbpedia.org/property/editing>', '<http://dbpedia.org/resource/Mark_Stevens_(film_editor)>'], ['?uri', '<http://www.w3.org/1999/02/22-rdf-syntax-ns#type>', '<http://dbpedia.org/ontology/Film>']]\n",
      "[] [['?uri', '<http://dbpedia.org/ontology/executiveProducer>', '<http://dbpedia.org/resource/Steven_Moffat>'], ['?uri', '<http://www.w3.org/1999/02/22-rdf-syntax-ns#type>', '<http://dbpedia.org/ontology/TelevisionShow>']]\n",
      "[] [['?uri', '<http://dbpedia.org/ontology/cinematography>', '<http://dbpedia.org/resource/Gregg_Toland>'], ['?uri', '<http://www.w3.org/1999/02/22-rdf-syntax-ns#type>', '<http://dbpedia.org/ontology/Film>']]\n",
      "[] [['?uri', '<http://dbpedia.org/property/leaderName>', '<http://dbpedia.org/resource/Elizabeth_II>'], ['?uri', '<http://www.w3.org/1999/02/22-rdf-syntax-ns#type>', '<http://dbpedia.org/ontology/Country>']]\n",
      "[] [['?uri', '<http://dbpedia.org/ontology/primeMinister>', '<http://dbpedia.org/resource/Gough_Whitlam>']]\n",
      "[] [['?uri', '<http://dbpedia.org/property/doctoralAdvisor>', '<http://dbpedia.org/resource/Ernest_Rutherford>']]\n",
      "[] [['<http://dbpedia.org/resource/North_Sea>', '<http://dbpedia.org/property/inflow>', '?uri']]\n",
      "[] [['?uri', '<http://dbpedia.org/property/youthclubs>', \"<http://dbpedia.org/resource/Newell's_Old_Boys>\"]]\n",
      "[] [['<http://dbpedia.org/resource/European_Go_Federation>', '<http://dbpedia.org/property/membership>', '?uri']]\n",
      "[] [['?uri', '<http://dbpedia.org/property/draftTeam>', '<http://dbpedia.org/resource/Los_Angeles_Clippers>'], ['?uri', '<http://www.w3.org/1999/02/22-rdf-syntax-ns#type>', '<http://dbpedia.org/ontology/BasketballPlayer>']]\n",
      "[] [['?uri', '<http://dbpedia.org/property/purpose>', '<http://dbpedia.org/resource/Environmentalism>'], ['?uri', '<http://www.w3.org/1999/02/22-rdf-syntax-ns#type>', '<http://dbpedia.org/ontology/Organisation>']]\n",
      "[] [['?uri', '<http://dbpedia.org/ontology/creator>', '<http://dbpedia.org/resource/Bill_Finger>'], ['?uri', '<http://www.w3.org/1999/02/22-rdf-syntax-ns#type>', '<http://dbpedia.org/ontology/ComicsCharacter>']]\n",
      "[] [['?uri', '<http://dbpedia.org/ontology/order>', '<http://dbpedia.org/resource/Primate>'], ['?uri', '<http://dbpedia.org/ontology/family>', '<http://dbpedia.org/resource/Ape>'], ['?uri', '<http://www.w3.org/1999/02/22-rdf-syntax-ns#type>', '<http://dbpedia.org/ontology/Mammal>']]\n",
      "[] [['?uri', '<http://dbpedia.org/property/producer>', '<http://dbpedia.org/resource/Michael_Deeley>'], ['?uri', '<http://www.w3.org/1999/02/22-rdf-syntax-ns#type>', '<http://dbpedia.org/ontology/Film>']]\n",
      "[] [['?uri', '<http://dbpedia.org/ontology/instrument>', '<http://dbpedia.org/resource/Remo>'], ['?uri', '<http://www.w3.org/1999/02/22-rdf-syntax-ns#type>', '<http://dbpedia.org/ontology/MusicalArtist>']]\n",
      "[] [['?uri', '<http://dbpedia.org/ontology/format>', '<http://dbpedia.org/resource/5.1_surround_sound>'], ['?uri', '<http://www.w3.org/1999/02/22-rdf-syntax-ns#type>', '<http://dbpedia.org/ontology/TelevisionShow>']]\n",
      "[] [['?uri', '<http://dbpedia.org/property/currentclub>', '<http://dbpedia.org/resource/Stoke_City_F.C.>']]\n",
      "[] [['?uri', '<http://dbpedia.org/property/city>', '<http://dbpedia.org/resource/Reading,_Berkshire>'], ['?uri', '<http://www.w3.org/1999/02/22-rdf-syntax-ns#type>', '<http://dbpedia.org/ontology/School>']]\n",
      "[] [['?uri', '<http://dbpedia.org/property/composer>', '<http://dbpedia.org/resource/Hirokazu_Tanaka>'], ['?uri', '<http://www.w3.org/1999/02/22-rdf-syntax-ns#type>', '<http://dbpedia.org/ontology/VideoGame>']]\n",
      "[] [['?uri', '<http://dbpedia.org/property/cinematography>', '<http://dbpedia.org/resource/Jordan_Cronenweth>'], ['?uri', '<http://www.w3.org/1999/02/22-rdf-syntax-ns#type>', '<http://dbpedia.org/ontology/Film>']]\n",
      "[] [['?uri', '<http://dbpedia.org/ontology/computingPlatform>', '<http://dbpedia.org/resource/ARM_architecture>'], ['?uri', '<http://www.w3.org/1999/02/22-rdf-syntax-ns#type>', '<http://dbpedia.org/ontology/Software>']]\n",
      "[] [['?uri', '<http://dbpedia.org/property/music>', '<http://dbpedia.org/resource/Akira_Ifukube>'], ['?uri', '<http://www.w3.org/1999/02/22-rdf-syntax-ns#type>', '<http://dbpedia.org/ontology/Film>']]\n",
      "[] [['?uri', '<http://dbpedia.org/ontology/commandStructure>', '<http://dbpedia.org/resource/United_States_Department_of_Defense>']]\n",
      "[] [['?uri', '<http://dbpedia.org/property/associatedActs>', '<http://dbpedia.org/resource/Johnny_Cash>'], ['?uri', '<http://www.w3.org/1999/02/22-rdf-syntax-ns#type>', '<http://dbpedia.org/ontology/Person>']]\n",
      "[] [['?uri', '<http://dbpedia.org/ontology/network>', '<http://dbpedia.org/resource/BBC_HD>'], ['?uri', '<http://www.w3.org/1999/02/22-rdf-syntax-ns#type>', '<http://dbpedia.org/ontology/TelevisionShow>']]\n",
      "[] [['?uri', '<http://dbpedia.org/ontology/associatedMusicalArtist>', '<http://dbpedia.org/resource/Waylon_Jennings>'], ['?uri', '<http://www.w3.org/1999/02/22-rdf-syntax-ns#type>', '<http://dbpedia.org/ontology/MusicalArtist>']]\n",
      "[] [['?uri', '<http://dbpedia.org/property/birthPlace>', '<http://dbpedia.org/resource/Ridgewood,_New_Jersey>'], ['?uri', '<http://www.w3.org/1999/02/22-rdf-syntax-ns#type>', '<http://dbpedia.org/ontology/Person>']]\n",
      "[] [['?uri', '<http://dbpedia.org/ontology/musicComposer>', '<http://dbpedia.org/resource/Akira_Ifukube>'], ['?uri', '<http://www.w3.org/1999/02/22-rdf-syntax-ns#type>', '<http://dbpedia.org/ontology/Film>']]\n",
      "[] [['?uri', '<http://dbpedia.org/property/director>', '<http://dbpedia.org/resource/Orson_Welles>'], ['?uri', '<http://www.w3.org/1999/02/22-rdf-syntax-ns#type>', '<http://dbpedia.org/ontology/Film>']]\n",
      "[] [['?uri', '<http://dbpedia.org/property/mascot>', '<http://dbpedia.org/resource/Bison>'], ['?uri', '<http://www.w3.org/1999/02/22-rdf-syntax-ns#type>', '<http://dbpedia.org/ontology/School>']]\n",
      "[] [['?uri', '<http://dbpedia.org/ontology/editing>', '<http://dbpedia.org/resource/Robert_Wise>'], ['?uri', '<http://www.w3.org/1999/02/22-rdf-syntax-ns#type>', '<http://dbpedia.org/ontology/Film>']]\n",
      "[] [['?uri', '<http://dbpedia.org/property/currentclub>', '<http://dbpedia.org/resource/New_York_City_FC>'], ['?uri', '<http://www.w3.org/1999/02/22-rdf-syntax-ns#type>', '<http://dbpedia.org/ontology/SoccerPlayer>']]\n",
      "[] [['?uri', '<http://dbpedia.org/property/prizes>', '<http://dbpedia.org/resource/Gold_Medal_of_the_Royal_Astronomical_Society>'], ['?uri', '<http://www.w3.org/1999/02/22-rdf-syntax-ns#type>', '<http://dbpedia.org/ontology/Scientist>']]\n",
      "[] [['<http://dbpedia.org/resource/Skull_Gang>', '<http://dbpedia.org/ontology/bandMember>', '?uri']]\n",
      "[] [['?uri', '<http://dbpedia.org/ontology/musicComposer>', '<http://dbpedia.org/resource/Vangelis>'], ['?uri', '<http://www.w3.org/1999/02/22-rdf-syntax-ns#type>', '<http://dbpedia.org/ontology/Film>']]\n",
      "[] [['?uri', '<http://dbpedia.org/ontology/foundationPlace>', '<http://dbpedia.org/resource/Texas>'], ['?uri', '<http://www.w3.org/1999/02/22-rdf-syntax-ns#type>', '<http://dbpedia.org/ontology/Company>']]\n",
      "[] [['?uri', '<http://dbpedia.org/property/programmingLanguage>', '<http://dbpedia.org/resource/GTK+>'], ['?uri', '<http://www.w3.org/1999/02/22-rdf-syntax-ns#type>', '<http://dbpedia.org/ontology/Software>']]\n",
      "[] [['?uri', '<http://dbpedia.org/property/creators>', '<http://dbpedia.org/resource/Jerry_Siegel>']]\n",
      "[] [['?uri', '<http://dbpedia.org/property/athletics>', '<http://dbpedia.org/resource/NCAA_Division_I_Football_Bowl_Subdivision>'], ['?uri', '<http://www.w3.org/1999/02/22-rdf-syntax-ns#type>', '<http://dbpedia.org/ontology/University>']]\n",
      "[] [['?uri', '<http://dbpedia.org/ontology/foundationPlace>', '<http://dbpedia.org/resource/Texas>'], ['?uri', '<http://dbpedia.org/ontology/foundationPlace>', '<http://dbpedia.org/resource/Dallas>'], ['?uri', '<http://www.w3.org/1999/02/22-rdf-syntax-ns#type>', '<http://dbpedia.org/ontology/Organisation>']]\n",
      "[] [['?uri', '<http://dbpedia.org/ontology/team>', '<http://dbpedia.org/resource/Los_Angeles_Angels_of_Anaheim>'], ['?uri', '<http://www.w3.org/1999/02/22-rdf-syntax-ns#type>', '<http://dbpedia.org/ontology/BaseballPlayer>']]\n",
      "[] [['?uri', '<http://dbpedia.org/property/starring>', '<http://dbpedia.org/resource/Isaac_Hayes>'], ['?uri', '<http://www.w3.org/1999/02/22-rdf-syntax-ns#type>', '<http://dbpedia.org/ontology/Film>'], ['?uri', '<http://www.w3.org/1999/02/22-rdf-syntax-ns#type>', '<http://dbpedia.org/ontology/Film>']]\n",
      "[] [['?uri', '<http://dbpedia.org/ontology/license>', '<http://dbpedia.org/resource/Software_as_a_service>'], ['?uri', '<http://www.w3.org/1999/02/22-rdf-syntax-ns#type>', '<http://dbpedia.org/ontology/Software>']]\n",
      "[] [['?uri', '<http://dbpedia.org/ontology/veneratedIn>', '<http://dbpedia.org/resource/Islam>'], ['?uri', '<http://www.w3.org/1999/02/22-rdf-syntax-ns#type>', '<http://dbpedia.org/ontology/Saint>']]\n",
      "[] [['?uri', '<http://dbpedia.org/property/creator>', '<http://dbpedia.org/resource/Simon_Fuller>'], ['?uri', '<http://www.w3.org/1999/02/22-rdf-syntax-ns#type>', '<http://dbpedia.org/ontology/TelevisionShow>']]\n",
      "[] [['?uri', '<http://dbpedia.org/ontology/managerClub>', '<http://dbpedia.org/resource/Middlesbrough_F.C.>']]\n",
      "[] [['<http://dbpedia.org/resource/Lake_Victoria>', '<http://dbpedia.org/ontology/nearestCity>', '?uri']]\n",
      "[] [['?uri', '<http://dbpedia.org/ontology/operatingSystem>', '<http://dbpedia.org/resource/Mac_OS>'], ['?uri', '<http://dbpedia.org/property/programmingLanguage>', '<http://dbpedia.org/resource/C++>'], ['?uri', '<http://www.w3.org/1999/02/22-rdf-syntax-ns#type>', '<http://dbpedia.org/ontology/Software>']]\n",
      "[] [['?uri', '<http://dbpedia.org/ontology/manufacturer>', '<http://dbpedia.org/resource/Sony>']]\n",
      "[] [['?uri', '<http://dbpedia.org/ontology/team>', '<http://dbpedia.org/resource/San_Francisco_Giants>'], ['?uri', '<http://www.w3.org/1999/02/22-rdf-syntax-ns#type>', '<http://dbpedia.org/ontology/BaseballPlayer>']]\n",
      "[] [['?uri', '<http://dbpedia.org/ontology/city>', '<http://dbpedia.org/resource/Reading,_Berkshire>']]\n",
      "[] [['?uri', '<http://dbpedia.org/property/network>', '<http://dbpedia.org/resource/Comedy_Central>'], ['?uri', '<http://www.w3.org/1999/02/22-rdf-syntax-ns#type>', '<http://dbpedia.org/ontology/TelevisionShow>']]\n",
      "[] [['?uri', '<http://dbpedia.org/ontology/director>', '<http://dbpedia.org/resource/Joel_Schumacher>'], ['?uri', '<http://www.w3.org/1999/02/22-rdf-syntax-ns#type>', '<http://dbpedia.org/ontology/Film>']]\n"
     ]
    }
   ],
   "source": [
    "templates = list()\n",
    "direction_types = {\"bf1\":[], \"bf2\":[], \"fb1\":[], \"fb2\":[], \"1\":[]}\n",
    "\n",
    "for record in lc_quad_train:\n",
    "    gold_graph_filtered = filter_graph(record[\"graph\"])\n",
    "    uri_direction = \"\"\n",
    "    variable_direction = \"\"\n",
    "\n",
    "    step1_type = \"\"\n",
    "    step2_type = \"\"\n",
    "\n",
    "    for triple in gold_graph_filtered:\n",
    "        if triple[0].startswith(\"?\") and \"uri\" not in triple[0]:\n",
    "            variable_direction = \"f\"\n",
    "            step2_type = triple[1]\n",
    "        if triple[2].startswith(\"?\") and \"uri\" not in triple[2]:\n",
    "            variable_direction = \"b\"\n",
    "            step2_type = triple[1]\n",
    "        if \"uri\" in triple[0]:\n",
    "            uri_direction = \"f\"\n",
    "            step1_type = triple[1]\n",
    "        if \"uri\" in triple[2]:\n",
    "            uri_direction = \"b\"\n",
    "            step1_type = triple[1]\n",
    "    if uri_direction+variable_direction == \"\":\n",
    "        print(gold_graph_filtered, record[\"graph\"])\n",
    "        direction_types[\"1\"].append(step1_type)\n",
    "    else:\n",
    "        direction_types[uri_direction+variable_direction+\"1\"].append(step1_type)\n",
    "        direction_types[uri_direction+variable_direction+\"2\"].append(step2_type)\n",
    "\n",
    "    templates.append(uri_direction+variable_direction)"
   ]
  },
  {
   "cell_type": "code",
   "execution_count": 10,
   "metadata": {
    "collapsed": false
   },
   "outputs": [
    {
     "data": {
      "text/plain": [
       "Counter({'bf': 125, '': 77, 'fb': 48})"
      ]
     },
     "execution_count": 10,
     "metadata": {},
     "output_type": "execute_result"
    }
   ],
   "source": [
    "from collections import Counter\n",
    "\n",
    "Counter(templates)"
   ]
  },
  {
   "cell_type": "code",
   "execution_count": 11,
   "metadata": {
    "collapsed": false
   },
   "outputs": [
    {
     "data": {
      "text/plain": [
       "250"
      ]
     },
     "execution_count": 11,
     "metadata": {},
     "output_type": "execute_result"
    }
   ],
   "source": [
    "125+77+48"
   ]
  },
  {
   "cell_type": "code",
   "execution_count": 11,
   "metadata": {
    "collapsed": false
   },
   "outputs": [
    {
     "name": "stdout",
     "output_type": "stream",
     "text": [
      "bf1\n",
      "[('<http://dbpedia.org/ontology/sport>', 5), ('<http://dbpedia.org/ontology/bandMember>', 4), ('<http://dbpedia.org/ontology/team>', 4), ('<http://dbpedia.org/property/cities>', 4), ('<http://dbpedia.org/ontology/leader>', 4), ('<http://dbpedia.org/ontology/predecessor>', 3), ('<http://dbpedia.org/ontology/tenant>', 3), ('<http://dbpedia.org/ontology/birthPlace>', 3), ('<http://dbpedia.org/property/starring>', 3), ('<http://dbpedia.org/ontology/award>', 3), ('<http://dbpedia.org/property/subject>', 2), ('<http://dbpedia.org/property/region>', 2), ('<http://dbpedia.org/property/genre>', 2), ('<http://dbpedia.org/ontology/poleDriver>', 2), ('<http://dbpedia.org/ontology/manufacturer>', 2), ('<http://dbpedia.org/ontology/firstAscentPerson>', 2), ('<http://dbpedia.org/property/notableworks>', 2), ('<http://dbpedia.org/property/related>', 2), ('<http://dbpedia.org/ontology/associatedBand>', 2), ('<http://dbpedia.org/ontology/producer>', 2), ('<http://dbpedia.org/property/awards>', 2), ('<http://dbpedia.org/ontology/maintainedBy>', 2), ('<http://dbpedia.org/ontology/party>', 2), ('<http://dbpedia.org/ontology/genre>', 2), ('<http://dbpedia.org/ontology/firstDriver>', 2), ('<http://dbpedia.org/property/crosses>', 2), ('<http://dbpedia.org/ontology/religion>', 2), ('<http://dbpedia.org/property/name>', 2), ('<http://dbpedia.org/ontology/influencedBy>', 2), ('<http://dbpedia.org/ontology/owner>', 2), ('<http://dbpedia.org/property/address>', 1), ('<http://dbpedia.org/property/author>', 1), ('<http://dbpedia.org/ontology/relation>', 1), ('<http://dbpedia.org/property/services>', 1), ('<http://dbpedia.org/ontology/residence>', 1), ('<http://dbpedia.org/ontology/layout>', 1), ('<http://dbpedia.org/ontology/formerTeam>', 1), ('<http://dbpedia.org/property/draftTeam>', 1), ('<http://dbpedia.org/ontology/knownFor>', 1), ('<http://dbpedia.org/ontology/deathCause>', 1), ('<http://dbpedia.org/property/deathPlace>', 1), ('<http://dbpedia.org/ontology/type>', 1), ('<http://dbpedia.org/property/race>', 1), ('<http://dbpedia.org/ontology/occupation>', 1), ('<http://dbpedia.org/property/battles>', 1), ('<http://dbpedia.org/ontology/sourceCountry>', 1), ('<http://dbpedia.org/ontology/state>', 1), ('<http://dbpedia.org/ontology/battle>', 1), ('<http://dbpedia.org/ontology/majorShrine>', 1), ('<http://dbpedia.org/ontology/product>', 1), ('<http://dbpedia.org/property/destinations>', 1), ('<http://dbpedia.org/ontology/draftTeam>', 1), ('<http://dbpedia.org/property/locations>', 1), ('<http://dbpedia.org/ontology/currency>', 1), ('<http://dbpedia.org/property/placeOfDeath>', 1), ('<http://dbpedia.org/ontology/starring>', 1), ('<http://dbpedia.org/property/membership>', 1), ('<http://dbpedia.org/property/tenants>', 1), ('<http://dbpedia.org/ontology/recordedIn>', 1), ('<http://dbpedia.org/ontology/formerPartner>', 1), ('<http://dbpedia.org/property/poleDriver>', 1), ('<http://dbpedia.org/ontology/broadcastNetwork>', 1), ('<http://dbpedia.org/property/debutteam>', 1), ('<http://dbpedia.org/ontology/programmeFormat>', 1), ('<http://dbpedia.org/ontology/voice>', 1), ('<http://dbpedia.org/property/placeOfBurial>', 1), ('<http://dbpedia.org/ontology/honours>', 1), ('<http://dbpedia.org/property/producer>', 1), ('<http://dbpedia.org/ontology/hometown>', 1), ('<http://dbpedia.org/property/religion>', 1), ('<http://dbpedia.org/property/judges>', 1), ('<http://dbpedia.org/ontology/associatedMusicalArtist>', 1), ('<http://dbpedia.org/ontology/basedOn>', 1), ('<http://dbpedia.org/property/associatedActs>', 1), ('<http://dbpedia.org/ontology/homeStadium>', 1), ('<http://dbpedia.org/property/label>', 1), ('<http://dbpedia.org/property/athletics>', 1), ('<http://dbpedia.org/ontology/ingredient>', 1), ('<http://dbpedia.org/property/artist>', 1)]\n",
      "bf2\n",
      "[('<http://www.w3.org/1999/02/22-rdf-syntax-ns#type>', 93), ('<http://dbpedia.org/ontology/sport>', 3), ('<http://dbpedia.org/property/cities>', 2), ('<http://dbpedia.org/ontology/party>', 2), ('<http://dbpedia.org/property/address>', 1), ('<http://dbpedia.org/property/author>', 1), ('<http://dbpedia.org/ontology/team>', 1), ('<http://dbpedia.org/ontology/residence>', 1), ('<http://dbpedia.org/ontology/leader>', 1), ('<http://dbpedia.org/ontology/associatedBand>', 1), ('<http://dbpedia.org/ontology/knownFor>', 1), ('<http://dbpedia.org/ontology/deathCause>', 1), ('<http://dbpedia.org/property/battles>', 1), ('<http://dbpedia.org/ontology/manufacturer>', 1), ('<http://dbpedia.org/ontology/genre>', 1), ('<http://dbpedia.org/ontology/firstDriver>', 1), ('<http://dbpedia.org/ontology/recordedIn>', 1), ('<http://dbpedia.org/ontology/formerPartner>', 1), ('<http://dbpedia.org/ontology/broadcastNetwork>', 1), ('<http://dbpedia.org/ontology/honours>', 1), ('<http://dbpedia.org/property/crosses>', 1), ('<http://dbpedia.org/ontology/award>', 1), ('<http://dbpedia.org/ontology/associatedMusicalArtist>', 1), ('<http://dbpedia.org/ontology/homeStadium>', 1), ('<http://dbpedia.org/ontology/firstAscentPerson>', 1), ('<http://dbpedia.org/property/label>', 1), ('<http://dbpedia.org/ontology/ingredient>', 1), ('<http://dbpedia.org/property/notableworks>', 1), ('<http://dbpedia.org/ontology/religion>', 1)]\n",
      "fb1\n",
      "[('<http://dbpedia.org/ontology/musicComposer>', 4), ('<http://dbpedia.org/ontology/manufacturer>', 4), ('<http://dbpedia.org/property/music>', 4), ('<http://dbpedia.org/property/starring>', 3), ('<http://dbpedia.org/ontology/religion>', 2), ('<http://dbpedia.org/property/network>', 2), ('<http://dbpedia.org/property/programmingLanguage>', 2), ('<http://dbpedia.org/property/owners>', 2), ('<http://dbpedia.org/property/knownFor>', 2), ('<http://dbpedia.org/ontology/foundationPlace>', 2), ('<http://dbpedia.org/property/currentMembers>', 1), ('<http://dbpedia.org/property/director>', 1), ('<http://dbpedia.org/ontology/board>', 1), ('<http://dbpedia.org/property/themeMusicComposer>', 1), ('<http://dbpedia.org/ontology/leader>', 1), ('<http://dbpedia.org/ontology/managerClub>', 1), ('<http://dbpedia.org/ontology/company>', 1), ('<http://dbpedia.org/ontology/associatedMusicalArtist>', 1), ('<http://dbpedia.org/ontology/editing>', 1), ('<http://dbpedia.org/property/composer>', 1), ('<http://dbpedia.org/property/voices>', 1), ('<http://dbpedia.org/ontology/ingredient>', 1), ('<http://dbpedia.org/property/artist>', 1), ('<http://dbpedia.org/ontology/network>', 1), ('<http://dbpedia.org/property/cities>', 1), ('<http://dbpedia.org/property/mascot>', 1), ('<http://dbpedia.org/property/author>', 1), ('<http://dbpedia.org/ontology/manager>', 1), ('<http://dbpedia.org/property/training>', 1), ('<http://dbpedia.org/ontology/residence>', 1), ('<http://dbpedia.org/ontology/commandStructure>', 1)]\n",
      "fb2\n",
      "[('<http://dbpedia.org/ontology/musicComposer>', 4), ('<http://dbpedia.org/ontology/manufacturer>', 4), ('<http://dbpedia.org/property/music>', 4), ('<http://dbpedia.org/property/starring>', 3), ('<http://dbpedia.org/ontology/religion>', 2), ('<http://dbpedia.org/property/network>', 2), ('<http://dbpedia.org/property/programmingLanguage>', 2), ('<http://dbpedia.org/property/owners>', 2), ('<http://dbpedia.org/property/knownFor>', 2), ('<http://dbpedia.org/ontology/foundationPlace>', 2), ('<http://dbpedia.org/property/currentMembers>', 1), ('<http://dbpedia.org/property/director>', 1), ('<http://dbpedia.org/ontology/board>', 1), ('<http://dbpedia.org/property/themeMusicComposer>', 1), ('<http://dbpedia.org/ontology/leader>', 1), ('<http://dbpedia.org/ontology/managerClub>', 1), ('<http://dbpedia.org/ontology/company>', 1), ('<http://dbpedia.org/ontology/associatedMusicalArtist>', 1), ('<http://dbpedia.org/ontology/editing>', 1), ('<http://dbpedia.org/property/composer>', 1), ('<http://dbpedia.org/property/voices>', 1), ('<http://dbpedia.org/ontology/ingredient>', 1), ('<http://dbpedia.org/property/artist>', 1), ('<http://dbpedia.org/ontology/network>', 1), ('<http://dbpedia.org/property/cities>', 1), ('<http://dbpedia.org/property/mascot>', 1), ('<http://dbpedia.org/property/author>', 1), ('<http://dbpedia.org/ontology/manager>', 1), ('<http://dbpedia.org/property/training>', 1), ('<http://dbpedia.org/ontology/residence>', 1), ('<http://dbpedia.org/ontology/commandStructure>', 1)]\n",
      "1\n",
      "[('', 77)]\n"
     ]
    }
   ],
   "source": [
    "for k, v in direction_types.items():\n",
    "    print(k)\n",
    "    print(sorted(Counter(v).items(), key=lambda x: x[1], reverse=True))"
   ]
  },
  {
   "cell_type": "code",
   "execution_count": 12,
   "metadata": {
    "collapsed": false,
    "pycharm": {
     "name": "#%%\n"
    }
   },
   "outputs": [
    {
     "name": "stdout",
     "output_type": "stream",
     "text": [
      "bf1\n",
      "False\n",
      "bf2\n",
      "True\n",
      "fb1\n",
      "False\n",
      "fb2\n",
      "False\n",
      "1\n",
      "False\n"
     ]
    }
   ],
   "source": [
    "for k, v in direction_types.items():\n",
    "    print(k)\n",
    "    print(\"<http://www.w3.org/1999/02/22-rdf-syntax-ns#type>\" in v)"
   ]
  },
  {
   "cell_type": "code",
   "execution_count": null,
   "metadata": {
    "collapsed": false,
    "pycharm": {
     "name": "#%%\n"
    }
   },
   "outputs": [],
   "source": []
  }
 ],
 "metadata": {
  "kernelspec": {
   "display_name": "Python [conda env:continue] *",
   "language": "python",
   "name": "conda-env-continue-py"
  },
  "language_info": {
   "codemirror_mode": {
    "name": "ipython",
    "version": 2
   },
   "file_extension": ".py",
   "mimetype": "text/x-python",
   "name": "python",
   "nbconvert_exporter": "python",
   "pygments_lexer": "ipython2",
   "version": "2.7.6"
  }
 },
 "nbformat": 4,
 "nbformat_minor": 0
}
