{
 "cells": [
  {
   "cell_type": "code",
   "execution_count": 1,
   "metadata": {
    "collapsed": true
   },
   "outputs": [],
   "source": [
    "import pandas as pd\n",
    "%load_ext autoreload\n",
    "%autoreload 2"
   ]
  },
  {
   "cell_type": "code",
   "execution_count": 2,
   "metadata": {
    "collapsed": false
   },
   "outputs": [],
   "source": [
    "import os\n",
    "import sys\n",
    "module_path = os.path.abspath(os.path.join('..'))\n",
    "if module_path not in sys.path:\n",
    "    sys.path.append(module_path)"
   ]
  },
  {
   "cell_type": "code",
   "execution_count": 17,
   "metadata": {
    "collapsed": false
   },
   "outputs": [],
   "source": [
    "from loaders.loaders import *\n",
    "from query.query_functions2 import make_triplet, run_sparql_query_paged\n",
    "lc_quad_train = load_on_path(ds_lc_quad_train_cleaned)"
   ]
  },
  {
   "cell_type": "code",
   "execution_count": 18,
   "metadata": {
    "collapsed": false
   },
   "outputs": [],
   "source": [
    "from copy import deepcopy\n",
    "\n",
    "def get_uri_triple(triples):\n",
    "    valid_triples = list()\n",
    "    for trip in triples:\n",
    "        qmark_counter = 0\n",
    "        for element in trip:\n",
    "            if element[0] == \"?\":\n",
    "                qmark_counter += 1\n",
    "        if qmark_counter > 1:\n",
    "            valid_triples.append(trip)\n",
    "    return valid_triples\n",
    "\n",
    "def replace_uri(trip, element):\n",
    "    trip_copy = deepcopy(trip)\n",
    "    for i, item in enumerate(trip):\n",
    "        if item == \"?uri\":\n",
    "            trip_copy[i] = element\n",
    "    return trip_copy"
   ]
  },
  {
   "cell_type": "code",
   "execution_count": 30,
   "metadata": {
    "collapsed": false
   },
   "outputs": [
    {
     "name": "stderr",
     "output_type": "stream",
     "text": [
      " 23%|█████████▌                                | 57/250 [00:14<01:53,  1.71it/s]"
     ]
    },
    {
     "name": "stdout",
     "output_type": "stream",
     "text": [
      "200000\n",
      "['?x', '<http://dbpedia.org/ontology/type>', 'http://dbpedia.org/resource/Privately_held_company']\n"
     ]
    },
    {
     "name": "stderr",
     "output_type": "stream",
     "text": [
      " 25%|██████████▍                               | 62/250 [00:22<03:56,  1.26s/it]"
     ]
    },
    {
     "name": "stdout",
     "output_type": "stream",
     "text": [
      "200000\n",
      "['?x', '<http://dbpedia.org/ontology/occupation>', 'http://dbpedia.org/resource/Actor']\n"
     ]
    },
    {
     "name": "stderr",
     "output_type": "stream",
     "text": [
      " 26%|███████████                               | 66/250 [00:29<04:40,  1.53s/it]"
     ]
    },
    {
     "name": "stdout",
     "output_type": "stream",
     "text": [
      "200000\n",
      "['?x', '<http://dbpedia.org/property/battles>', 'http://dbpedia.org/resource/World_War_II']\n"
     ]
    },
    {
     "name": "stderr",
     "output_type": "stream",
     "text": [
      " 30%|████████████▊                             | 76/250 [00:31<01:31,  1.91it/s]"
     ]
    },
    {
     "name": "stdout",
     "output_type": "stream",
     "text": [
      "200000\n",
      "['?x', '<http://dbpedia.org/ontology/battle>', 'http://dbpedia.org/resource/World_War_II']\n"
     ]
    },
    {
     "name": "stderr",
     "output_type": "stream",
     "text": [
      " 33%|█████████████▉                            | 83/250 [00:37<01:59,  1.39it/s]"
     ]
    },
    {
     "name": "stdout",
     "output_type": "stream",
     "text": [
      "200000\n",
      "['?x', '<http://dbpedia.org/ontology/birthPlace>', 'http://dbpedia.org/resource/England']\n"
     ]
    },
    {
     "name": "stderr",
     "output_type": "stream",
     "text": [
      " 57%|███████████████████████▎                 | 142/250 [00:52<00:06, 17.60it/s]"
     ]
    },
    {
     "name": "stdout",
     "output_type": "stream",
     "text": [
      "200000\n",
      "['?x', '<http://dbpedia.org/ontology/birthPlace>', 'http://dbpedia.org/resource/United_States']\n"
     ]
    },
    {
     "name": "stderr",
     "output_type": "stream",
     "text": [
      " 73%|█████████████████████████████▊           | 182/250 [01:03<00:10,  6.63it/s]"
     ]
    },
    {
     "name": "stdout",
     "output_type": "stream",
     "text": [
      "200000\n",
      "['?x', '<http://dbpedia.org/property/religion>', 'http://dbpedia.org/resource/Catholic_Church']\n"
     ]
    },
    {
     "name": "stderr",
     "output_type": "stream",
     "text": [
      "100%|█████████████████████████████████████████| 250/250 [01:20<00:00,  3.12it/s]\n"
     ]
    }
   ],
   "source": [
    "from tqdm import tqdm\n",
    "res_size = list()\n",
    "\n",
    "big_connection_list = list()\n",
    "\n",
    "for record in tqdm(lc_quad_train):\n",
    "    uri_triples = get_uri_triple(record[\"graph\"])\n",
    "\n",
    "    for trip in uri_triples:\n",
    "        for gold in record[\"result_urlonly\"]:\n",
    "            runnable_trip = replace_uri(trip, gold)\n",
    "            query_command = f\"SELECT DISTINCT ?x WHERE {{ {' . '.join([make_triplet(item) for item in runnable_trip]) if isinstance(runnable_trip[0], list) else make_triplet(runnable_trip)} . }}\"\n",
    "            query_results = run_sparql_query_paged(query_command, 20)\n",
    "            if query_results is None:\n",
    "                continue\n",
    "\n",
    "            if len(query_results) >= 20000:\n",
    "                print(len(query_results))\n",
    "                print(runnable_trip)\n",
    "            res_size.append(len([item['x']['value'] for item in query_results]))"
   ]
  },
  {
   "cell_type": "code",
   "execution_count": 24,
   "metadata": {
    "collapsed": false
   },
   "outputs": [
    {
     "name": "stdout",
     "output_type": "stream",
     "text": [
      "5194\n",
      "1\n",
      "50000\n",
      "151.62090874085484\n",
      "1883.3496068798697\n"
     ]
    }
   ],
   "source": [
    "import numpy as np\n",
    "\n",
    "print(len(res_size))\n",
    "print(np.min(res_size))\n",
    "print(np.max(res_size))\n",
    "print(np.mean(res_size))\n",
    "print(np.std(res_size))"
   ]
  },
  {
   "cell_type": "code",
   "execution_count": 13,
   "metadata": {
    "collapsed": false
   },
   "outputs": [
    {
     "data": {
      "text/plain": [
       "['181',\n",
       " 'http://dbpedia.org/resource/California',\n",
       " 'http://dbpedia.org/resource/San_Francisco',\n",
       " '2',\n",
       " 'Calle San Fernando, 2',\n",
       " '1',\n",
       " 'http://dbpedia.org/resource/Chennai',\n",
       " 'http://dbpedia.org/resource/Tamil_Nadu',\n",
       " 'Krakowskie Przedmiescie 42/44',\n",
       " '1900',\n",
       " 'http://dbpedia.org/resource/Seattle',\n",
       " '811',\n",
       " '333',\n",
       " '210',\n",
       " 'http://dbpedia.org/resource/Atlanta',\n",
       " '10600',\n",
       " 'http://dbpedia.org/resource/Westminster,_Colorado',\n",
       " 'Main Gulshan Avenue, Plot-01, Road 45, Gulshan-2, Dhaka 1212, Bangladesh',\n",
       " '211',\n",
       " 'http://dbpedia.org/resource/San_Jose,_California']"
      ]
     },
     "execution_count": 13,
     "metadata": {},
     "output_type": "execute_result"
    }
   ],
   "source": [
    "lc_quad_train[0][\"result_urlonly\"]"
   ]
  },
  {
   "cell_type": "code",
   "execution_count": null,
   "metadata": {
    "collapsed": false
   },
   "outputs": [],
   "source": []
  }
 ],
 "metadata": {
  "kernelspec": {
   "display_name": "Python [conda env:continue] *",
   "language": "python",
   "name": "conda-env-continue-py"
  },
  "language_info": {
   "codemirror_mode": {
    "name": "ipython",
    "version": 2
   },
   "file_extension": ".py",
   "mimetype": "text/x-python",
   "name": "python",
   "nbconvert_exporter": "python",
   "pygments_lexer": "ipython2",
   "version": "2.7.6"
  }
 },
 "nbformat": 4,
 "nbformat_minor": 0
}
