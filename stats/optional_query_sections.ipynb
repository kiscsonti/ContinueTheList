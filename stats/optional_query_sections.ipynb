{
 "cells": [
  {
   "cell_type": "code",
   "execution_count": 1,
   "metadata": {
    "collapsed": true
   },
   "outputs": [],
   "source": [
    "import pandas as pd\n",
    "%load_ext autoreload\n",
    "%autoreload 2"
   ]
  },
  {
   "cell_type": "code",
   "execution_count": 2,
   "metadata": {
    "collapsed": false
   },
   "outputs": [],
   "source": [
    "import os\n",
    "import sys\n",
    "module_path = os.path.abspath(os.path.join('..'))\n",
    "if module_path not in sys.path:\n",
    "    sys.path.append(module_path)"
   ]
  },
  {
   "cell_type": "code",
   "execution_count": 3,
   "metadata": {
    "collapsed": false
   },
   "outputs": [],
   "source": [
    "from loaders.loaders import *\n",
    "lc_quad_train = load_on_path(ds_lc_quad_train_cleaned)"
   ]
  },
  {
   "cell_type": "code",
   "execution_count": 4,
   "metadata": {
    "collapsed": false
   },
   "outputs": [],
   "source": [
    "from query.query_functions2 import (\n",
    "    run_sparql_query_paged, run_sparql_query,\n",
    "    get_result_from_triples, count_from_triples\n",
    ")"
   ]
  },
  {
   "cell_type": "code",
   "execution_count": 144,
   "metadata": {
    "collapsed": false
   },
   "outputs": [],
   "source": [
    "import itertools\n",
    "from copy import copy\n",
    "\n",
    "\n",
    "def split_graph(graph):\n",
    "    possible = list()\n",
    "    for i in range(len(graph) - 1):\n",
    "        combinations = list(itertools.combinations(graph, i+1))\n",
    "        possible.extend(combinations)\n",
    "    return possible\n",
    "\n",
    "def get_missing(selection, alltriples):\n",
    "    remaining = copy(alltriples)\n",
    "    exclude_index = list()\n",
    "\n",
    "    for triple in selection:\n",
    "        for ind, rem in enumerate(remaining):\n",
    "            cool = True\n",
    "            for i in range(len(triple)):\n",
    "                if triple[i] != rem[i]:\n",
    "                    cool = False\n",
    "                    break\n",
    "            if cool:\n",
    "                exclude_index.append(ind)\n",
    "                break\n",
    "\n",
    "    final_list = [row for i, row in enumerate(remaining) if i not in exclude_index]\n",
    "    return final_list\n"
   ]
  },
  {
   "cell_type": "code",
   "execution_count": 145,
   "metadata": {
    "collapsed": false
   },
   "outputs": [],
   "source": [
    "def make_triplet(triple):\n",
    "    query_triplet = []\n",
    "    for item in triple:\n",
    "        if item.startswith(\"?\"):\n",
    "            query_triplet.append(item)\n",
    "        elif item.startswith(\"http\"):\n",
    "            query_triplet.append(f\"<{item}>\")\n",
    "        else:\n",
    "            query_triplet.append('\"' + item + '\"')\n",
    "    return \" \".join(query_triplet)\n",
    "\n",
    "\n",
    "def clear_query(query):\n",
    "    res = list()\n",
    "    for item in query:\n",
    "        if \"uri\" not in item:\n",
    "            continue\n",
    "        res.append(item[\"uri\"][\"value\"])\n",
    "    return res\n",
    "\n",
    "def same_result(res, expected):\n",
    "    remaining_a = list()\n",
    "    remaining_b = list()\n",
    "    for a in res:\n",
    "        if a not in expected:\n",
    "            remaining_a.append(a)\n",
    "\n",
    "    for b in expected:\n",
    "        if b not in res:\n",
    "            remaining_b.append(b)\n",
    "\n",
    "    return remaining_a + remaining_b"
   ]
  },
  {
   "cell_type": "code",
   "execution_count": 146,
   "metadata": {
    "collapsed": false
   },
   "outputs": [],
   "source": [
    "from collections import Counter, defaultdict\n",
    "optional_rows = set()\n",
    "optional_query_part = defaultdict(list)\n",
    "\n",
    "\n",
    "for i, record in enumerate(lc_quad_train):\n",
    "    # all_count = count_from_triples(record[\"graph\"])\n",
    "    triples_str = \" . \".join([\" \".join(item) for item in record['graph']])\n",
    "    #query_command = f\"SELECT count(?uri) WHERE {{ {triples_str} }}\"\n",
    "    query_command = f\"SELECT ?uri WHERE {{ {triples_str} }}\"\n",
    "    #all_count = run_sparql_query(query_command)\n",
    "    all_nodes = clear_query(run_sparql_query(query_command))\n",
    "\n",
    "    parts = split_graph(record[\"graph\"])\n",
    "    for item in parts:\n",
    "        triples_str = \" . \".join([\" \".join(item) for item in item])\n",
    "        #part_command = f\"SELECT count(?uri) WHERE {{ {triples_str} }}\"\n",
    "        part_command = f\"SELECT ?uri WHERE {{ {triples_str} }}\"\n",
    "        part_nodes = clear_query(run_sparql_query(part_command))\n",
    "        #part_count = run_sparql_query(query_command)\n",
    "        # part_count = count_from_triples(item)\n",
    "        difference = same_result(part_nodes, all_nodes)\n",
    "        if len(difference) == 0:\n",
    "            optional_rows.add(i)\n",
    "            optional_query_part[i].append(get_missing(item, record[\"graph\"]))\n"
   ]
  },
  {
   "cell_type": "code",
   "execution_count": 147,
   "metadata": {
    "collapsed": false
   },
   "outputs": [
    {
     "data": {
      "text/plain": [
       "131"
      ]
     },
     "execution_count": 147,
     "metadata": {},
     "output_type": "execute_result"
    }
   ],
   "source": [
    "len(optional_rows)"
   ]
  },
  {
   "cell_type": "code",
   "execution_count": 148,
   "metadata": {
    "collapsed": false
   },
   "outputs": [
    {
     "data": {
      "text/plain": [
       "{1,\n",
       " 2,\n",
       " 3,\n",
       " 5,\n",
       " 11,\n",
       " 12,\n",
       " 15,\n",
       " 19,\n",
       " 22,\n",
       " 23,\n",
       " 24,\n",
       " 27,\n",
       " 30,\n",
       " 31,\n",
       " 33,\n",
       " 34,\n",
       " 35,\n",
       " 36,\n",
       " 37,\n",
       " 38,\n",
       " 40,\n",
       " 41,\n",
       " 44,\n",
       " 46,\n",
       " 48,\n",
       " 49,\n",
       " 50,\n",
       " 51,\n",
       " 56,\n",
       " 57,\n",
       " 58,\n",
       " 59,\n",
       " 61,\n",
       " 63,\n",
       " 64,\n",
       " 68,\n",
       " 69,\n",
       " 71,\n",
       " 74,\n",
       " 76,\n",
       " 79,\n",
       " 83,\n",
       " 84,\n",
       " 86,\n",
       " 89,\n",
       " 90,\n",
       " 91,\n",
       " 94,\n",
       " 98,\n",
       " 99,\n",
       " 101,\n",
       " 103,\n",
       " 104,\n",
       " 105,\n",
       " 107,\n",
       " 109,\n",
       " 111,\n",
       " 113,\n",
       " 114,\n",
       " 117,\n",
       " 120,\n",
       " 121,\n",
       " 123,\n",
       " 124,\n",
       " 125,\n",
       " 127,\n",
       " 131,\n",
       " 132,\n",
       " 134,\n",
       " 137,\n",
       " 142,\n",
       " 143,\n",
       " 145,\n",
       " 147,\n",
       " 148,\n",
       " 149,\n",
       " 154,\n",
       " 155,\n",
       " 156,\n",
       " 159,\n",
       " 160,\n",
       " 161,\n",
       " 165,\n",
       " 167,\n",
       " 168,\n",
       " 170,\n",
       " 172,\n",
       " 175,\n",
       " 177,\n",
       " 178,\n",
       " 179,\n",
       " 180,\n",
       " 182,\n",
       " 184,\n",
       " 185,\n",
       " 187,\n",
       " 188,\n",
       " 189,\n",
       " 191,\n",
       " 193,\n",
       " 197,\n",
       " 198,\n",
       " 199,\n",
       " 201,\n",
       " 202,\n",
       " 203,\n",
       " 204,\n",
       " 206,\n",
       " 207,\n",
       " 209,\n",
       " 210,\n",
       " 212,\n",
       " 213,\n",
       " 216,\n",
       " 221,\n",
       " 222,\n",
       " 223,\n",
       " 224,\n",
       " 225,\n",
       " 228,\n",
       " 230,\n",
       " 232,\n",
       " 233,\n",
       " 234,\n",
       " 238,\n",
       " 239,\n",
       " 242,\n",
       " 243,\n",
       " 245,\n",
       " 248,\n",
       " 249}"
      ]
     },
     "execution_count": 148,
     "metadata": {},
     "output_type": "execute_result"
    }
   ],
   "source": [
    "optional_rows"
   ]
  },
  {
   "cell_type": "code",
   "execution_count": 149,
   "metadata": {
    "collapsed": false
   },
   "outputs": [
    {
     "name": "stdout",
     "output_type": "stream",
     "text": [
      "K: 1\n",
      "[[['?x', '<http://www.w3.org/1999/02/22-rdf-syntax-ns#type>', '<http://dbpedia.org/ontology/Book>']]]\n",
      "K: 2\n",
      "[[['?x', '<http://www.w3.org/1999/02/22-rdf-syntax-ns#type>', '<http://dbpedia.org/ontology/EthnicGroup>']]]\n",
      "K: 3\n",
      "[[['?x', '<http://www.w3.org/1999/02/22-rdf-syntax-ns#type>', '<http://dbpedia.org/ontology/Band>']]]\n",
      "K: 5\n",
      "[[['?uri', '<http://www.w3.org/1999/02/22-rdf-syntax-ns#type>', '<http://dbpedia.org/ontology/Bacteria>']]]\n",
      "K: 11\n",
      "[[['?x', '<http://www.w3.org/1999/02/22-rdf-syntax-ns#type>', '<http://dbpedia.org/ontology/Person>']]]\n",
      "K: 12\n",
      "[[['?x', '<http://www.w3.org/1999/02/22-rdf-syntax-ns#type>', '<http://dbpedia.org/ontology/Automobile>']]]\n",
      "K: 15\n",
      "[[['?x', '<http://www.w3.org/1999/02/22-rdf-syntax-ns#type>', '<http://dbpedia.org/ontology/Band>']]]\n",
      "K: 19\n",
      "[[['?x', '<http://www.w3.org/1999/02/22-rdf-syntax-ns#type>', '<http://dbpedia.org/ontology/Company>']]]\n",
      "K: 22\n",
      "[[['?x', '<http://www.w3.org/1999/02/22-rdf-syntax-ns#type>', '<http://dbpedia.org/ontology/GrandPrix>']]]\n",
      "K: 23\n",
      "[[['?x', '<http://www.w3.org/1999/02/22-rdf-syntax-ns#type>', '<http://dbpedia.org/ontology/Automobile>']]]\n",
      "K: 24\n",
      "[[['?x', '<http://www.w3.org/1999/02/22-rdf-syntax-ns#type>', '<http://dbpedia.org/ontology/Sea>']]]\n",
      "K: 27\n",
      "[[['?x', '<http://www.w3.org/1999/02/22-rdf-syntax-ns#type>', '<http://dbpedia.org/ontology/Band>']]]\n",
      "K: 30\n",
      "[[['?x', '<http://www.w3.org/1999/02/22-rdf-syntax-ns#type>', '<http://dbpedia.org/ontology/Rocket>']]]\n",
      "K: 31\n",
      "[[['?x', '<http://www.w3.org/1999/02/22-rdf-syntax-ns#type>', '<http://dbpedia.org/ontology/Mountain>']]]\n",
      "K: 33\n",
      "[[['?x', '<http://www.w3.org/1999/02/22-rdf-syntax-ns#type>', '<http://dbpedia.org/ontology/Person>']]]\n",
      "K: 34\n",
      "[[['?x', '<http://www.w3.org/1999/02/22-rdf-syntax-ns#type>', '<http://dbpedia.org/ontology/Automobile>']]]\n",
      "K: 35\n",
      "[[['?uri', '<http://www.w3.org/1999/02/22-rdf-syntax-ns#type>', '<http://dbpedia.org/ontology/Film>']]]\n",
      "K: 36\n",
      "[[['?x', '<http://www.w3.org/1999/02/22-rdf-syntax-ns#type>', '<http://dbpedia.org/ontology/Person>']]]\n",
      "K: 37\n",
      "[[['?x', '<http://www.w3.org/1999/02/22-rdf-syntax-ns#type>', '<http://dbpedia.org/ontology/EducationalInstitution>']]]\n",
      "K: 38\n",
      "[[['?uri', '<http://www.w3.org/1999/02/22-rdf-syntax-ns#type>', '<http://dbpedia.org/ontology/Film>']]]\n",
      "K: 40\n",
      "[[['?uri', '<http://www.w3.org/1999/02/22-rdf-syntax-ns#type>', '<http://dbpedia.org/ontology/Software>']]]\n",
      "K: 41\n",
      "[[['?x', '<http://www.w3.org/1999/02/22-rdf-syntax-ns#type>', '<http://dbpedia.org/ontology/TelevisionShow>']]]\n",
      "K: 44\n",
      "[[['?x', '<http://www.w3.org/1999/02/22-rdf-syntax-ns#type>', '<http://dbpedia.org/ontology/Automobile>']]]\n",
      "K: 46\n",
      "[[['?x', '<http://www.w3.org/1999/02/22-rdf-syntax-ns#type>', '<http://dbpedia.org/ontology/MusicalArtist>']]]\n",
      "K: 48\n",
      "[[['?x', '<http://www.w3.org/1999/02/22-rdf-syntax-ns#type>', '<http://dbpedia.org/ontology/SoccerPlayer>']]]\n",
      "K: 49\n",
      "[[['?uri', '<http://www.w3.org/1999/02/22-rdf-syntax-ns#type>', '<http://dbpedia.org/ontology/Person>']]]\n",
      "K: 50\n",
      "[[['?uri', '<http://www.w3.org/1999/02/22-rdf-syntax-ns#type>', '<http://dbpedia.org/ontology/Film>']]]\n",
      "K: 51\n",
      "[[['?x', '<http://www.w3.org/1999/02/22-rdf-syntax-ns#type>', '<http://dbpedia.org/ontology/Person>']]]\n",
      "K: 56\n",
      "[[['?uri', '<http://www.w3.org/1999/02/22-rdf-syntax-ns#type>', '<http://dbpedia.org/ontology/TelevisionShow>']]]\n",
      "K: 57\n",
      "[[['?x', '<http://www.w3.org/1999/02/22-rdf-syntax-ns#type>', '<http://dbpedia.org/ontology/RaceHorse>']]]\n",
      "K: 58\n",
      "[[['?x', '<http://www.w3.org/1999/02/22-rdf-syntax-ns#type>', '<http://dbpedia.org/ontology/Stadium>']]]\n",
      "K: 59\n",
      "[[['?x', '<http://www.w3.org/1999/02/22-rdf-syntax-ns#type>', '<http://dbpedia.org/ontology/GovernmentAgency>']]]\n",
      "K: 61\n",
      "[[['?x', '<http://www.w3.org/1999/02/22-rdf-syntax-ns#type>', '<http://dbpedia.org/ontology/Person>']]]\n",
      "K: 63\n",
      "[[['?uri', '<http://www.w3.org/1999/02/22-rdf-syntax-ns#type>', '<http://dbpedia.org/ontology/Airline>']]]\n",
      "K: 64\n",
      "[[['?uri', '<http://www.w3.org/1999/02/22-rdf-syntax-ns#type>', '<http://dbpedia.org/ontology/Device>']]]\n",
      "K: 68\n",
      "[[['?x', '<http://www.w3.org/1999/02/22-rdf-syntax-ns#type>', '<http://dbpedia.org/ontology/River>']]]\n",
      "K: 69\n",
      "[[['?uri', '<http://www.w3.org/1999/02/22-rdf-syntax-ns#type>', '<http://dbpedia.org/ontology/SportsManager>']]]\n",
      "K: 71\n",
      "[[['?uri', '<http://www.w3.org/1999/02/22-rdf-syntax-ns#type>', '<http://dbpedia.org/ontology/Film>']]]\n",
      "K: 74\n",
      "[[['?x', '<http://www.w3.org/1999/02/22-rdf-syntax-ns#type>', '<http://dbpedia.org/ontology/Band>']]]\n",
      "K: 76\n",
      "[[['?uri', '<http://www.w3.org/1999/02/22-rdf-syntax-ns#type>', '<http://dbpedia.org/ontology/MilitaryConflict>']]]\n",
      "K: 79\n",
      "[[['?x', '<http://www.w3.org/1999/02/22-rdf-syntax-ns#type>', '<http://dbpedia.org/ontology/Bridge>']]]\n",
      "K: 83\n",
      "[[['?x', '<http://www.w3.org/1999/02/22-rdf-syntax-ns#type>', '<http://dbpedia.org/ontology/SoccerPlayer>']]]\n",
      "K: 84\n",
      "[[['?uri', '<http://www.w3.org/1999/02/22-rdf-syntax-ns#type>', '<http://dbpedia.org/ontology/TelevisionShow>']]]\n",
      "K: 86\n",
      "[[['?x', '<http://www.w3.org/1999/02/22-rdf-syntax-ns#type>', '<http://dbpedia.org/ontology/Saint>']]]\n",
      "K: 89\n",
      "[[['?x', '<http://www.w3.org/1999/02/22-rdf-syntax-ns#type>', '<http://dbpedia.org/ontology/Company>']]]\n",
      "K: 90\n",
      "[[['?uri', '<http://www.w3.org/1999/02/22-rdf-syntax-ns#type>', '<http://dbpedia.org/ontology/Person>']]]\n",
      "K: 91\n",
      "[[['?x', '<http://www.w3.org/1999/02/22-rdf-syntax-ns#type>', '<http://dbpedia.org/ontology/GrandPrix>']]]\n",
      "K: 94\n",
      "[[['?uri', '<http://www.w3.org/1999/02/22-rdf-syntax-ns#type>', '<http://dbpedia.org/ontology/Film>']]]\n",
      "K: 98\n",
      "[[['?uri', '<http://www.w3.org/1999/02/22-rdf-syntax-ns#type>', '<http://dbpedia.org/ontology/Film>']]]\n",
      "K: 99\n",
      "[[['?x', '<http://www.w3.org/1999/02/22-rdf-syntax-ns#type>', '<http://dbpedia.org/ontology/Airline>']]]\n",
      "K: 101\n",
      "[[['?uri', '<http://www.w3.org/1999/02/22-rdf-syntax-ns#type>', '<http://dbpedia.org/ontology/Film>']]]\n",
      "K: 103\n",
      "[[['?x', '<http://www.w3.org/1999/02/22-rdf-syntax-ns#type>', '<http://dbpedia.org/ontology/IceHockeyPlayer>']]]\n",
      "K: 104\n",
      "[[['?x', '<http://www.w3.org/1999/02/22-rdf-syntax-ns#type>', '<http://dbpedia.org/ontology/Automobile>']]]\n",
      "K: 105\n",
      "[[['?x', '<http://www.w3.org/1999/02/22-rdf-syntax-ns#type>', '<http://dbpedia.org/ontology/Company>']]]\n",
      "K: 107\n",
      "[[['?x', '<http://www.w3.org/1999/02/22-rdf-syntax-ns#type>', '<http://dbpedia.org/ontology/Person>']]]\n",
      "K: 109\n",
      "[[['?x', '<http://www.w3.org/1999/02/22-rdf-syntax-ns#type>', '<http://dbpedia.org/ontology/Person>']]]\n",
      "K: 111\n",
      "[[['?x', '<http://www.w3.org/1999/02/22-rdf-syntax-ns#type>', '<http://dbpedia.org/ontology/Person>']]]\n",
      "K: 113\n",
      "[[['?x', '<http://www.w3.org/1999/02/22-rdf-syntax-ns#type>', '<http://dbpedia.org/ontology/Film>']]]\n",
      "K: 114\n",
      "[[['?uri', '<http://www.w3.org/1999/02/22-rdf-syntax-ns#type>', '<http://dbpedia.org/ontology/Film>']]]\n",
      "K: 117\n",
      "[[['?x', '<http://www.w3.org/1999/02/22-rdf-syntax-ns#type>', '<http://dbpedia.org/ontology/Film>']]]\n",
      "K: 120\n",
      "[[['?uri', '<http://www.w3.org/1999/02/22-rdf-syntax-ns#type>', '<http://dbpedia.org/ontology/Organisation>']]]\n",
      "K: 121\n",
      "[[['?x', '<http://www.w3.org/1999/02/22-rdf-syntax-ns#type>', '<http://dbpedia.org/ontology/Organisation>']]]\n",
      "K: 123\n",
      "[[['?x', '<http://www.w3.org/1999/02/22-rdf-syntax-ns#type>', '<http://dbpedia.org/ontology/Person>']]]\n",
      "K: 124\n",
      "[[['?x', '<http://www.w3.org/1999/02/22-rdf-syntax-ns#type>', '<http://dbpedia.org/ontology/Stadium>']]]\n",
      "K: 125\n",
      "[[['?uri', '<http://www.w3.org/1999/02/22-rdf-syntax-ns#type>', '<http://dbpedia.org/ontology/Newspaper>']]]\n",
      "K: 127\n",
      "[[['?uri', '<http://www.w3.org/1999/02/22-rdf-syntax-ns#type>', '<http://dbpedia.org/ontology/Company>']]]\n",
      "K: 131\n",
      "[[['?uri', '<http://dbpedia.org/ontology/order>', '<http://dbpedia.org/resource/Primate>'], ['?uri', '<http://www.w3.org/1999/02/22-rdf-syntax-ns#type>', '<http://dbpedia.org/ontology/Mammal>']], [['?uri', '<http://www.w3.org/1999/02/22-rdf-syntax-ns#type>', '<http://dbpedia.org/ontology/Mammal>']], [['?uri', '<http://dbpedia.org/ontology/order>', '<http://dbpedia.org/resource/Primate>']]]\n",
      "K: 132\n",
      "[[['?uri', '<http://www.w3.org/1999/02/22-rdf-syntax-ns#type>', '<http://dbpedia.org/ontology/Film>']]]\n",
      "K: 134\n",
      "[[['?uri', '<http://www.w3.org/1999/02/22-rdf-syntax-ns#type>', '<http://dbpedia.org/ontology/MusicalArtist>']]]\n",
      "K: 137\n",
      "[[['?x', '<http://www.w3.org/1999/02/22-rdf-syntax-ns#type>', '<http://dbpedia.org/ontology/Comedian>']]]\n",
      "K: 142\n",
      "[[['?x', '<http://www.w3.org/1999/02/22-rdf-syntax-ns#type>', '<http://dbpedia.org/ontology/GrandPrix>']]]\n",
      "K: 143\n",
      "[[['?uri', '<http://www.w3.org/1999/02/22-rdf-syntax-ns#type>', '<http://dbpedia.org/ontology/VideoGame>']]]\n",
      "K: 145\n",
      "[[['?uri', '<http://www.w3.org/1999/02/22-rdf-syntax-ns#type>', '<http://dbpedia.org/ontology/Film>']]]\n",
      "K: 147\n",
      "[[['?uri', '<http://www.w3.org/1999/02/22-rdf-syntax-ns#type>', '<http://dbpedia.org/ontology/Software>']]]\n",
      "K: 148\n",
      "[[['?uri', '<http://www.w3.org/1999/02/22-rdf-syntax-ns#type>', '<http://dbpedia.org/ontology/Film>']]]\n",
      "K: 149\n",
      "[[['?uri', '<http://www.w3.org/1999/02/22-rdf-syntax-ns#type>', '<http://dbpedia.org/ontology/VideoGame>']]]\n",
      "K: 154\n",
      "[[['?x', '<http://www.w3.org/1999/02/22-rdf-syntax-ns#type>', '<http://dbpedia.org/ontology/GrandPrix>']]]\n",
      "K: 155\n",
      "[[['?x', '<http://www.w3.org/1999/02/22-rdf-syntax-ns#type>', '<http://dbpedia.org/ontology/Person>']]]\n",
      "K: 156\n",
      "[[['?x', '<http://www.w3.org/1999/02/22-rdf-syntax-ns#type>', '<http://dbpedia.org/ontology/RadioStation>']]]\n",
      "K: 159\n",
      "[[['?x', '<http://www.w3.org/1999/02/22-rdf-syntax-ns#type>', '<http://dbpedia.org/ontology/FictionalCharacter>']]]\n",
      "K: 160\n",
      "[[['?x', '<http://www.w3.org/1999/02/22-rdf-syntax-ns#type>', '<http://dbpedia.org/ontology/Royalty>']]]\n",
      "K: 161\n",
      "[[['?x', '<http://www.w3.org/1999/02/22-rdf-syntax-ns#type>', '<http://dbpedia.org/ontology/TelevisionShow>']]]\n",
      "K: 165\n",
      "[[['?uri', '<http://www.w3.org/1999/02/22-rdf-syntax-ns#type>', '<http://dbpedia.org/ontology/TelevisionShow>']]]\n",
      "K: 167\n",
      "[[['?x', '<http://www.w3.org/1999/02/22-rdf-syntax-ns#type>', '<http://dbpedia.org/ontology/Automobile>']]]\n",
      "K: 168\n",
      "[[['?uri', '<http://www.w3.org/1999/02/22-rdf-syntax-ns#type>', '<http://dbpedia.org/ontology/Person>']]]\n",
      "K: 170\n",
      "[[['?x', '<http://www.w3.org/1999/02/22-rdf-syntax-ns#type>', '<http://dbpedia.org/ontology/Stadium>']]]\n",
      "K: 172\n",
      "[[['?uri', '<http://www.w3.org/1999/02/22-rdf-syntax-ns#type>', '<http://dbpedia.org/ontology/Film>']]]\n",
      "K: 175\n",
      "[[['?x', '<http://www.w3.org/1999/02/22-rdf-syntax-ns#type>', '<http://dbpedia.org/ontology/Person>']]]\n",
      "K: 177\n",
      "[[['?x', '<http://www.w3.org/1999/02/22-rdf-syntax-ns#type>', '<http://dbpedia.org/ontology/Book>']]]\n",
      "K: 178\n",
      "[[['?x', '<http://www.w3.org/1999/02/22-rdf-syntax-ns#type>', '<http://dbpedia.org/ontology/Band>']]]\n",
      "K: 179\n",
      "[[['?x', '<http://www.w3.org/1999/02/22-rdf-syntax-ns#type>', '<http://dbpedia.org/ontology/Bridge>']]]\n",
      "K: 180\n",
      "[[['?uri', '<http://www.w3.org/1999/02/22-rdf-syntax-ns#type>', '<http://dbpedia.org/ontology/Film>']]]\n",
      "K: 182\n",
      "[[['?uri', '<http://www.w3.org/1999/02/22-rdf-syntax-ns#type>', '<http://dbpedia.org/ontology/SoccerPlayer>']]]\n",
      "K: 184\n",
      "[[['?x', '<http://www.w3.org/1999/02/22-rdf-syntax-ns#type>', '<http://dbpedia.org/ontology/Person>']]]\n",
      "K: 185\n",
      "[[['?uri', '<http://www.w3.org/1999/02/22-rdf-syntax-ns#type>', '<http://dbpedia.org/ontology/Scientist>']]]\n",
      "K: 187\n",
      "[[['?uri', '<http://www.w3.org/1999/02/22-rdf-syntax-ns#type>', '<http://dbpedia.org/ontology/Device>']]]\n",
      "K: 188\n",
      "[[['?uri', '<http://www.w3.org/1999/02/22-rdf-syntax-ns#type>', '<http://dbpedia.org/ontology/Film>']]]\n",
      "K: 189\n",
      "[[['?x', '<http://www.w3.org/1999/02/22-rdf-syntax-ns#type>', '<http://dbpedia.org/ontology/SoccerClub>']]]\n",
      "K: 191\n",
      "[[['?x', '<http://www.w3.org/1999/02/22-rdf-syntax-ns#type>', '<http://dbpedia.org/ontology/TelevisionShow>']]]\n",
      "K: 193\n",
      "[[['?uri', '<http://www.w3.org/1999/02/22-rdf-syntax-ns#type>', '<http://dbpedia.org/ontology/Company>']]]\n",
      "K: 197\n",
      "[[['?uri', '<http://www.w3.org/1999/02/22-rdf-syntax-ns#type>', '<http://dbpedia.org/ontology/Film>']]]\n",
      "K: 198\n",
      "[[['?uri', '<http://www.w3.org/1999/02/22-rdf-syntax-ns#type>', '<http://dbpedia.org/ontology/Software>']]]\n",
      "K: 199\n",
      "[[['?x', '<http://www.w3.org/1999/02/22-rdf-syntax-ns#type>', '<http://dbpedia.org/ontology/University>']]]\n",
      "K: 201\n",
      "[[['?x', '<http://www.w3.org/1999/02/22-rdf-syntax-ns#type>', '<http://dbpedia.org/ontology/EthnicGroup>']]]\n",
      "K: 202\n",
      "[[['?uri', '<http://www.w3.org/1999/02/22-rdf-syntax-ns#type>', '<http://dbpedia.org/ontology/University>']]]\n",
      "K: 203\n",
      "[[['?uri', '<http://www.w3.org/1999/02/22-rdf-syntax-ns#type>', '<http://dbpedia.org/ontology/Organisation>']]]\n",
      "K: 204\n",
      "[[['?uri', '<http://www.w3.org/1999/02/22-rdf-syntax-ns#type>', '<http://dbpedia.org/ontology/BaseballPlayer>']]]\n",
      "K: 206\n",
      "[[['?uri', '<http://www.w3.org/1999/02/22-rdf-syntax-ns#type>', '<http://dbpedia.org/ontology/Film>'], ['?uri', '<http://www.w3.org/1999/02/22-rdf-syntax-ns#type>', '<http://dbpedia.org/ontology/Film>']], [['?uri', '<http://www.w3.org/1999/02/22-rdf-syntax-ns#type>', '<http://dbpedia.org/ontology/Film>']], [['?uri', '<http://www.w3.org/1999/02/22-rdf-syntax-ns#type>', '<http://dbpedia.org/ontology/Film>']]]\n",
      "K: 207\n",
      "[[['?uri', '<http://www.w3.org/1999/02/22-rdf-syntax-ns#type>', '<http://dbpedia.org/ontology/Software>']]]\n",
      "K: 209\n",
      "[[['?x', '<http://www.w3.org/1999/02/22-rdf-syntax-ns#type>', '<http://dbpedia.org/ontology/Musical>']]]\n",
      "K: 210\n",
      "[[['?x', '<http://www.w3.org/1999/02/22-rdf-syntax-ns#type>', '<http://dbpedia.org/ontology/VideoGame>']]]\n",
      "K: 212\n",
      "[[['?x', '<http://www.w3.org/1999/02/22-rdf-syntax-ns#type>', '<http://dbpedia.org/ontology/MusicalArtist>']]]\n",
      "K: 213\n",
      "[[['?uri', '<http://www.w3.org/1999/02/22-rdf-syntax-ns#type>', '<http://dbpedia.org/ontology/Saint>']]]\n",
      "K: 216\n",
      "[[['?uri', '<http://www.w3.org/1999/02/22-rdf-syntax-ns#type>', '<http://dbpedia.org/ontology/BaseballTeam>']]]\n",
      "K: 221\n",
      "[[['?uri', '<http://www.w3.org/1999/02/22-rdf-syntax-ns#type>', '<http://dbpedia.org/ontology/TelevisionShow>']]]\n",
      "K: 222\n",
      "[[['?x', '<http://www.w3.org/1999/02/22-rdf-syntax-ns#type>', '<http://dbpedia.org/ontology/GovernmentAgency>']]]\n",
      "K: 223\n",
      "[[['?x', '<http://www.w3.org/1999/02/22-rdf-syntax-ns#type>', '<http://dbpedia.org/ontology/Horse>']]]\n",
      "K: 224\n",
      "[[['?uri', '<http://www.w3.org/1999/02/22-rdf-syntax-ns#type>', '<http://dbpedia.org/ontology/Work>']]]\n",
      "K: 225\n",
      "[[['?uri', '<http://www.w3.org/1999/02/22-rdf-syntax-ns#type>', '<http://dbpedia.org/ontology/Film>']]]\n",
      "K: 228\n",
      "[[['?x', '<http://www.w3.org/1999/02/22-rdf-syntax-ns#type>', '<http://dbpedia.org/ontology/Athlete>']]]\n",
      "K: 230\n",
      "[[['?x', '<http://www.w3.org/1999/02/22-rdf-syntax-ns#type>', '<http://dbpedia.org/ontology/GovernmentAgency>']]]\n",
      "K: 232\n",
      "[[['?x', '<http://www.w3.org/1999/02/22-rdf-syntax-ns#type>', '<http://dbpedia.org/ontology/Artwork>']]]\n",
      "K: 233\n",
      "[[['?x', '<http://www.w3.org/1999/02/22-rdf-syntax-ns#type>', '<http://dbpedia.org/ontology/Stadium>']]]\n",
      "K: 234\n",
      "[[['?uri', '<http://www.w3.org/1999/02/22-rdf-syntax-ns#type>', '<http://dbpedia.org/ontology/Software>']]]\n",
      "K: 238\n",
      "[[['?uri', '<http://www.w3.org/1999/02/22-rdf-syntax-ns#type>', '<http://dbpedia.org/ontology/MilitaryUnit>']]]\n",
      "K: 239\n",
      "[[['?uri', '<http://www.w3.org/1999/02/22-rdf-syntax-ns#type>', '<http://dbpedia.org/ontology/BaseballPlayer>']]]\n",
      "K: 242\n",
      "[[['?uri', '<http://www.w3.org/1999/02/22-rdf-syntax-ns#type>', '<http://dbpedia.org/ontology/Film>']]]\n",
      "K: 243\n",
      "[[['?x', '<http://www.w3.org/1999/02/22-rdf-syntax-ns#type>', '<http://dbpedia.org/ontology/Person>']]]\n",
      "K: 245\n",
      "[[['?x', '<http://www.w3.org/1999/02/22-rdf-syntax-ns#type>', '<http://dbpedia.org/ontology/Artist>']]]\n",
      "K: 248\n",
      "[[['?x', '<http://www.w3.org/1999/02/22-rdf-syntax-ns#type>', '<http://dbpedia.org/ontology/Film>']]]\n",
      "K: 249\n",
      "[[['?x', '<http://www.w3.org/1999/02/22-rdf-syntax-ns#type>', '<http://dbpedia.org/ontology/TelevisionShow>']]]\n"
     ]
    }
   ],
   "source": [
    "for k,v in optional_query_part.items():\n",
    "    print(\"K:\", k)\n",
    "    print(v)"
   ]
  },
  {
   "cell_type": "code",
   "execution_count": null,
   "metadata": {
    "collapsed": false
   },
   "outputs": [],
   "source": [
    "\n",
    "\n",
    "\n",
    "\n",
    "\n"
   ]
  },
  {
   "cell_type": "code",
   "execution_count": 150,
   "metadata": {
    "collapsed": false
   },
   "outputs": [],
   "source": [
    "i = list(optional_rows)[4]\n",
    "record = lc_quad_train[i]"
   ]
  },
  {
   "cell_type": "code",
   "execution_count": 151,
   "metadata": {
    "collapsed": false
   },
   "outputs": [
    {
     "name": "stdout",
     "output_type": "stream",
     "text": [
      "Len: (['?x', '<http://dbpedia.org/ontology/battle>', '<http://dbpedia.org/resource/Operation_Barbarossa>'], ['?x', '<http://dbpedia.org/ontology/relation>', '?uri'])\n",
      "Diff: (['?x', '<http://dbpedia.org/ontology/battle>', '<http://dbpedia.org/resource/Operation_Barbarossa>'], ['?x', '<http://dbpedia.org/ontology/relation>', '?uri'])\n",
      "PART NODES: ['http://dbpedia.org/resource/Paul_von_Hindenburg', 'http://dbpedia.org/resource/Albrecht_Gustav_von_Manstein', 'http://dbpedia.org/resource/Edel-Heinrich_Zachariae-Lingenthal', 'http://dbpedia.org/resource/Eduard_von_Lewinski', 'http://dbpedia.org/resource/Heinz_Günther_Guderian', 'http://dbpedia.org/resource/Karl_Ernst_Rahtgens', 'http://dbpedia.org/resource/Wolfgang_von_Kluge', 'http://dbpedia.org/resource/Joachim_von_Ribbentrop', 'http://dbpedia.org/resource/Hans-Karl_Stepp', 'http://dbpedia.org/resource/Kurt_von_der_Chevallerie', 'http://dbpedia.org/resource/Kurt_von_Tippelskirch', 'http://dbpedia.org/resource/Helmut_Friebe', 'http://dbpedia.org/resource/Gottfried_von_Erdmannsdorff', 'http://dbpedia.org/resource/Friedrich_Sixt_von_Armin', 'http://dbpedia.org/resource/Eduard_Zorn', 'http://dbpedia.org/resource/Heinrich_Himmler', 'http://dbpedia.org/resource/Johannes_Mayer', 'http://dbpedia.org/resource/Ferdinand_Sauerbruch', 'http://dbpedia.org/resource/Johann_Pflugbeil', 'http://dbpedia.org/resource/Werner_Friebe', 'http://dbpedia.org/resource/Generalleutnant', 'http://dbpedia.org/resource/Erich_von_Manstein', 'http://dbpedia.org/resource/Ludwig_Hahn', 'http://dbpedia.org/resource/Michael_Bird_(politician)', 'http://dbpedia.org/resource/Eberhard_Kinzel', 'http://dbpedia.org/resource/Kurt_von_Priesdorff', 'http://dbpedia.org/resource/Friedrich_Lützow', 'http://dbpedia.org/resource/Günther_von_Kluge', 'http://dbpedia.org/resource/Siegfried_Geisler', 'http://dbpedia.org/resource/Friedrich_von_Scotti', 'http://dbpedia.org/resource/William_Patrick_Stuart-Houston', 'http://dbpedia.org/resource/Rudolf_von_Bünau_(father)', 'http://dbpedia.org/resource/Hellmut_von_der_Chevallerie', 'http://dbpedia.org/resource/Eckardt_Köppen', 'http://dbpedia.org/resource/Franz_Ruhl', 'http://dbpedia.org/resource/Helmut_Haugk', 'http://dbpedia.org/resource/Hans_Zorn', 'http://dbpedia.org/resource/Maximilian_Fretter-Pico', 'http://dbpedia.org/resource/Kurt_Pflugbeil', 'http://dbpedia.org/resource/Fritz_Schlieper', 'http://dbpedia.org/resource/Werner_von_Erdmannsdorff', 'http://dbpedia.org/resource/Hans-Jürgen_Stumpff', 'http://dbpedia.org/resource/Heinz_Bäumler']\n",
      "ALL NODES: ['http://dbpedia.org/resource/Paul_von_Hindenburg', 'http://dbpedia.org/resource/Albrecht_Gustav_von_Manstein', 'http://dbpedia.org/resource/Edel-Heinrich_Zachariae-Lingenthal', 'http://dbpedia.org/resource/Eduard_von_Lewinski', 'http://dbpedia.org/resource/Heinz_Günther_Guderian', 'http://dbpedia.org/resource/Karl_Ernst_Rahtgens', 'http://dbpedia.org/resource/Wolfgang_von_Kluge', 'http://dbpedia.org/resource/Joachim_von_Ribbentrop', 'http://dbpedia.org/resource/Hans-Karl_Stepp', 'http://dbpedia.org/resource/Kurt_von_der_Chevallerie', 'http://dbpedia.org/resource/Kurt_von_Tippelskirch', 'http://dbpedia.org/resource/Helmut_Friebe', 'http://dbpedia.org/resource/Gottfried_von_Erdmannsdorff', 'http://dbpedia.org/resource/Friedrich_Sixt_von_Armin', 'http://dbpedia.org/resource/Eduard_Zorn', 'http://dbpedia.org/resource/Heinrich_Himmler', 'http://dbpedia.org/resource/Johannes_Mayer', 'http://dbpedia.org/resource/Ferdinand_Sauerbruch', 'http://dbpedia.org/resource/Johann_Pflugbeil', 'http://dbpedia.org/resource/Werner_Friebe', 'http://dbpedia.org/resource/Generalleutnant', 'http://dbpedia.org/resource/Erich_von_Manstein', 'http://dbpedia.org/resource/Ludwig_Hahn', 'http://dbpedia.org/resource/Michael_Bird_(politician)', 'http://dbpedia.org/resource/Eberhard_Kinzel', 'http://dbpedia.org/resource/Kurt_von_Priesdorff', 'http://dbpedia.org/resource/Friedrich_Lützow', 'http://dbpedia.org/resource/Günther_von_Kluge', 'http://dbpedia.org/resource/Siegfried_Geisler', 'http://dbpedia.org/resource/Friedrich_von_Scotti', 'http://dbpedia.org/resource/William_Patrick_Stuart-Houston', 'http://dbpedia.org/resource/Rudolf_von_Bünau_(father)', 'http://dbpedia.org/resource/Hellmut_von_der_Chevallerie', 'http://dbpedia.org/resource/Eckardt_Köppen', 'http://dbpedia.org/resource/Franz_Ruhl', 'http://dbpedia.org/resource/Helmut_Haugk', 'http://dbpedia.org/resource/Hans_Zorn', 'http://dbpedia.org/resource/Maximilian_Fretter-Pico', 'http://dbpedia.org/resource/Kurt_Pflugbeil', 'http://dbpedia.org/resource/Fritz_Schlieper', 'http://dbpedia.org/resource/Werner_von_Erdmannsdorff', 'http://dbpedia.org/resource/Hans-Jürgen_Stumpff', 'http://dbpedia.org/resource/Heinz_Bäumler']\n"
     ]
    }
   ],
   "source": [
    "triples_str = \" . \".join([\" \".join(item) for item in record['graph']])\n",
    "query_command = f\"SELECT ?uri WHERE {{ {triples_str} }}\"\n",
    "all_nodes = clear_query(run_sparql_query(query_command))\n",
    "\n",
    "parts = split_graph(record[\"graph\"])\n",
    "for item in parts:\n",
    "    part_triples_str = \" . \".join([\" \".join(elem) for elem in item])\n",
    "    part_command = f\"SELECT ?uri WHERE {{ {part_triples_str} }}\"\n",
    "    part_nodes = clear_query(run_sparql_query(part_command))\n",
    "\n",
    "    difference = same_result(part_nodes, all_nodes)\n",
    "    if len(part_nodes) == len(all_nodes):\n",
    "        print(\"Len:\", item)\n",
    "\n",
    "    if len(difference) == 0:\n",
    "        print(\"Diff:\", item)\n",
    "        print(\"PART NODES:\", part_nodes)\n",
    "        print(\"ALL NODES:\", all_nodes)\n",
    "        break"
   ]
  },
  {
   "cell_type": "code",
   "execution_count": 152,
   "metadata": {
    "collapsed": false
   },
   "outputs": [
    {
     "data": {
      "text/plain": [
       "['http://dbpedia.org/resource/Paul_von_Hindenburg',\n",
       " 'http://dbpedia.org/resource/Albrecht_Gustav_von_Manstein',\n",
       " 'http://dbpedia.org/resource/Edel-Heinrich_Zachariae-Lingenthal',\n",
       " 'http://dbpedia.org/resource/Eduard_von_Lewinski',\n",
       " 'http://dbpedia.org/resource/Heinz_Günther_Guderian',\n",
       " 'http://dbpedia.org/resource/Karl_Ernst_Rahtgens',\n",
       " 'http://dbpedia.org/resource/Wolfgang_von_Kluge',\n",
       " 'http://dbpedia.org/resource/Joachim_von_Ribbentrop',\n",
       " 'http://dbpedia.org/resource/Hans-Karl_Stepp',\n",
       " 'http://dbpedia.org/resource/Kurt_von_der_Chevallerie',\n",
       " 'http://dbpedia.org/resource/Kurt_von_Tippelskirch',\n",
       " 'http://dbpedia.org/resource/Helmut_Friebe',\n",
       " 'http://dbpedia.org/resource/Gottfried_von_Erdmannsdorff',\n",
       " 'http://dbpedia.org/resource/Friedrich_Sixt_von_Armin',\n",
       " 'http://dbpedia.org/resource/Eduard_Zorn',\n",
       " 'http://dbpedia.org/resource/Heinrich_Himmler',\n",
       " 'http://dbpedia.org/resource/Johannes_Mayer',\n",
       " 'http://dbpedia.org/resource/Ferdinand_Sauerbruch',\n",
       " 'http://dbpedia.org/resource/Johann_Pflugbeil',\n",
       " 'http://dbpedia.org/resource/Werner_Friebe',\n",
       " 'http://dbpedia.org/resource/Generalleutnant',\n",
       " 'http://dbpedia.org/resource/Erich_von_Manstein',\n",
       " 'http://dbpedia.org/resource/Ludwig_Hahn',\n",
       " 'http://dbpedia.org/resource/Michael_Bird_(politician)',\n",
       " 'http://dbpedia.org/resource/Eberhard_Kinzel',\n",
       " 'http://dbpedia.org/resource/Kurt_von_Priesdorff',\n",
       " 'http://dbpedia.org/resource/Friedrich_Lützow',\n",
       " 'http://dbpedia.org/resource/Günther_von_Kluge',\n",
       " 'http://dbpedia.org/resource/Siegfried_Geisler',\n",
       " 'http://dbpedia.org/resource/Friedrich_von_Scotti',\n",
       " 'http://dbpedia.org/resource/William_Patrick_Stuart-Houston',\n",
       " 'http://dbpedia.org/resource/Rudolf_von_Bünau_(father)',\n",
       " 'http://dbpedia.org/resource/Hellmut_von_der_Chevallerie',\n",
       " 'http://dbpedia.org/resource/Eckardt_Köppen',\n",
       " 'http://dbpedia.org/resource/Franz_Ruhl',\n",
       " 'http://dbpedia.org/resource/Helmut_Haugk',\n",
       " 'http://dbpedia.org/resource/Hans_Zorn',\n",
       " 'http://dbpedia.org/resource/Maximilian_Fretter-Pico',\n",
       " 'http://dbpedia.org/resource/Kurt_Pflugbeil',\n",
       " 'http://dbpedia.org/resource/Fritz_Schlieper',\n",
       " 'http://dbpedia.org/resource/Werner_von_Erdmannsdorff',\n",
       " 'http://dbpedia.org/resource/Hans-Jürgen_Stumpff',\n",
       " 'http://dbpedia.org/resource/Heinz_Bäumler']"
      ]
     },
     "execution_count": 152,
     "metadata": {},
     "output_type": "execute_result"
    }
   ],
   "source": [
    "all_nodes"
   ]
  },
  {
   "cell_type": "code",
   "execution_count": 153,
   "metadata": {
    "collapsed": false
   },
   "outputs": [
    {
     "data": {
      "text/plain": [
       "['http://dbpedia.org/resource/Paul_von_Hindenburg',\n",
       " 'http://dbpedia.org/resource/Albrecht_Gustav_von_Manstein',\n",
       " 'http://dbpedia.org/resource/Edel-Heinrich_Zachariae-Lingenthal',\n",
       " 'http://dbpedia.org/resource/Eduard_von_Lewinski',\n",
       " 'http://dbpedia.org/resource/Heinz_Günther_Guderian',\n",
       " 'http://dbpedia.org/resource/Karl_Ernst_Rahtgens',\n",
       " 'http://dbpedia.org/resource/Wolfgang_von_Kluge',\n",
       " 'http://dbpedia.org/resource/Joachim_von_Ribbentrop',\n",
       " 'http://dbpedia.org/resource/Hans-Karl_Stepp',\n",
       " 'http://dbpedia.org/resource/Kurt_von_der_Chevallerie',\n",
       " 'http://dbpedia.org/resource/Kurt_von_Tippelskirch',\n",
       " 'http://dbpedia.org/resource/Helmut_Friebe',\n",
       " 'http://dbpedia.org/resource/Gottfried_von_Erdmannsdorff',\n",
       " 'http://dbpedia.org/resource/Friedrich_Sixt_von_Armin',\n",
       " 'http://dbpedia.org/resource/Eduard_Zorn',\n",
       " 'http://dbpedia.org/resource/Heinrich_Himmler',\n",
       " 'http://dbpedia.org/resource/Johannes_Mayer',\n",
       " 'http://dbpedia.org/resource/Ferdinand_Sauerbruch',\n",
       " 'http://dbpedia.org/resource/Johann_Pflugbeil',\n",
       " 'http://dbpedia.org/resource/Werner_Friebe',\n",
       " 'http://dbpedia.org/resource/Generalleutnant',\n",
       " 'http://dbpedia.org/resource/Erich_von_Manstein',\n",
       " 'http://dbpedia.org/resource/Ludwig_Hahn',\n",
       " 'http://dbpedia.org/resource/Michael_Bird_(politician)',\n",
       " 'http://dbpedia.org/resource/Eberhard_Kinzel',\n",
       " 'http://dbpedia.org/resource/Kurt_von_Priesdorff',\n",
       " 'http://dbpedia.org/resource/Friedrich_Lützow',\n",
       " 'http://dbpedia.org/resource/Günther_von_Kluge',\n",
       " 'http://dbpedia.org/resource/Siegfried_Geisler',\n",
       " 'http://dbpedia.org/resource/Friedrich_von_Scotti',\n",
       " 'http://dbpedia.org/resource/William_Patrick_Stuart-Houston',\n",
       " 'http://dbpedia.org/resource/Rudolf_von_Bünau_(father)',\n",
       " 'http://dbpedia.org/resource/Hellmut_von_der_Chevallerie',\n",
       " 'http://dbpedia.org/resource/Eckardt_Köppen',\n",
       " 'http://dbpedia.org/resource/Franz_Ruhl',\n",
       " 'http://dbpedia.org/resource/Helmut_Haugk',\n",
       " 'http://dbpedia.org/resource/Hans_Zorn',\n",
       " 'http://dbpedia.org/resource/Maximilian_Fretter-Pico',\n",
       " 'http://dbpedia.org/resource/Kurt_Pflugbeil',\n",
       " 'http://dbpedia.org/resource/Fritz_Schlieper',\n",
       " 'http://dbpedia.org/resource/Werner_von_Erdmannsdorff',\n",
       " 'http://dbpedia.org/resource/Hans-Jürgen_Stumpff',\n",
       " 'http://dbpedia.org/resource/Heinz_Bäumler']"
      ]
     },
     "execution_count": 153,
     "metadata": {},
     "output_type": "execute_result"
    }
   ],
   "source": [
    "part_nodes"
   ]
  },
  {
   "cell_type": "code",
   "execution_count": 154,
   "metadata": {
    "collapsed": false
   },
   "outputs": [
    {
     "data": {
      "text/plain": [
       "'SELECT ?uri WHERE { ?x <http://dbpedia.org/ontology/battle> <http://dbpedia.org/resource/Operation_Barbarossa> . ?x <http://dbpedia.org/ontology/relation> ?uri }'"
      ]
     },
     "execution_count": 154,
     "metadata": {},
     "output_type": "execute_result"
    }
   ],
   "source": [
    "part_command"
   ]
  },
  {
   "cell_type": "code",
   "execution_count": 155,
   "metadata": {
    "collapsed": false
   },
   "outputs": [
    {
     "data": {
      "text/plain": [
       "'SELECT ?uri WHERE { ?x <http://dbpedia.org/ontology/battle> <http://dbpedia.org/resource/Operation_Barbarossa> . ?x <http://dbpedia.org/ontology/relation> ?uri . ?x <http://www.w3.org/1999/02/22-rdf-syntax-ns#type> <http://dbpedia.org/ontology/Person> }'"
      ]
     },
     "execution_count": 155,
     "metadata": {},
     "output_type": "execute_result"
    }
   ],
   "source": [
    "query_command"
   ]
  },
  {
   "cell_type": "code",
   "execution_count": 156,
   "metadata": {
    "collapsed": false
   },
   "outputs": [
    {
     "data": {
      "text/plain": [
       "[[['?x',\n",
       "   '<http://www.w3.org/1999/02/22-rdf-syntax-ns#type>',\n",
       "   '<http://dbpedia.org/ontology/Person>']]]"
      ]
     },
     "execution_count": 156,
     "metadata": {},
     "output_type": "execute_result"
    }
   ],
   "source": [
    "optional_query_part[i]"
   ]
  },
  {
   "cell_type": "code",
   "execution_count": 130,
   "metadata": {
    "collapsed": false
   },
   "outputs": [
    {
     "data": {
      "text/plain": [
       "[['?x',\n",
       "  '<http://dbpedia.org/ontology/battle>',\n",
       "  '<http://dbpedia.org/resource/Operation_Barbarossa>'],\n",
       " ['?x', '<http://dbpedia.org/ontology/relation>', '?uri'],\n",
       " ['?x',\n",
       "  '<http://www.w3.org/1999/02/22-rdf-syntax-ns#type>',\n",
       "  '<http://dbpedia.org/ontology/Person>']]"
      ]
     },
     "execution_count": 130,
     "metadata": {},
     "output_type": "execute_result"
    }
   ],
   "source": [
    "get_missing(item, record[\"graph\"])"
   ]
  },
  {
   "cell_type": "code",
   "execution_count": 142,
   "metadata": {
    "collapsed": false
   },
   "outputs": [
    {
     "name": "stdout",
     "output_type": "stream",
     "text": [
      "0\n",
      "1\n"
     ]
    }
   ],
   "source": [
    "alltriples = copy(record[\"graph\"])\n",
    "selection = copy(item)\n",
    "remaining = copy(alltriples)\n",
    "\n",
    "exclude_index = list()\n",
    "\n",
    "for triple in selection:\n",
    "    for ind, rem in enumerate(remaining):\n",
    "        cool = True\n",
    "        for i in range(len(triple)):\n",
    "            if triple[i] != rem[i]:\n",
    "                cool = False\n",
    "                break\n",
    "        if cool:\n",
    "            print(ind)\n",
    "            exclude_index.append(ind)\n",
    "            break"
   ]
  },
  {
   "cell_type": "code",
   "execution_count": 143,
   "metadata": {
    "collapsed": false
   },
   "outputs": [
    {
     "data": {
      "text/plain": [
       "[['?x',\n",
       "  '<http://www.w3.org/1999/02/22-rdf-syntax-ns#type>',\n",
       "  '<http://dbpedia.org/ontology/Person>']]"
      ]
     },
     "execution_count": 143,
     "metadata": {},
     "output_type": "execute_result"
    }
   ],
   "source": [
    "final_list = [row for i, row in enumerate(remaining) if i not in exclude_index]\n",
    "final_list"
   ]
  },
  {
   "cell_type": "code",
   "execution_count": null,
   "metadata": {
    "collapsed": false
   },
   "outputs": [],
   "source": []
  }
 ],
 "metadata": {
  "kernelspec": {
   "display_name": "Python [conda env:continue] *",
   "language": "python",
   "name": "conda-env-continue-py"
  },
  "language_info": {
   "codemirror_mode": {
    "name": "ipython",
    "version": 2
   },
   "file_extension": ".py",
   "mimetype": "text/x-python",
   "name": "python",
   "nbconvert_exporter": "python",
   "pygments_lexer": "ipython2",
   "version": "2.7.6"
  }
 },
 "nbformat": 4,
 "nbformat_minor": 0
}
