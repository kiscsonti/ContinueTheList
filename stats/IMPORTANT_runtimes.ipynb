{
 "cells": [
  {
   "cell_type": "code",
   "execution_count": 17,
   "metadata": {
    "collapsed": true
   },
   "outputs": [],
   "source": [
    "import os\n",
    "import json\n",
    "import numpy as np\n",
    "from datetime import timedelta\n",
    "import pandas as pd"
   ]
  },
  {
   "cell_type": "code",
   "execution_count": 2,
   "metadata": {
    "collapsed": false
   },
   "outputs": [],
   "source": [
    "folder_path = \"/home/kardosp/continuethelist/automatic_outputs_stats\""
   ]
  },
  {
   "cell_type": "code",
   "execution_count": 14,
   "metadata": {
    "collapsed": false
   },
   "outputs": [],
   "source": [
    "datas = list()\n",
    "for file in os.listdir(folder_path):\n",
    "    full_path = os.path.join(folder_path, file)\n",
    "\n",
    "    with open(full_path, \"r\") as f:\n",
    "        json_data = json.load(f)\n",
    "        json_data[\"name\"] = file\n",
    "    datas.append(json_data)"
   ]
  },
  {
   "cell_type": "code",
   "execution_count": 15,
   "metadata": {
    "collapsed": false
   },
   "outputs": [
    {
     "data": {
      "text/plain": [
       "{'runtime': 59456.8785712719,\n",
       " 'name': 'graphwalk_v4_output_sample8_seed50_all.pickle'}"
      ]
     },
     "execution_count": 15,
     "metadata": {},
     "output_type": "execute_result"
    }
   ],
   "source": [
    "datas[0]"
   ]
  },
  {
   "cell_type": "code",
   "execution_count": 19,
   "metadata": {
    "collapsed": false
   },
   "outputs": [],
   "source": [
    "pdf = pd.DataFrame(datas)\n",
    "# pdf[\"seed\"] = pdf[\"name\"].apply(lambda x: x.replace(\".pickle\", \"\").split(\"_\"))"
   ]
  },
  {
   "cell_type": "code",
   "execution_count": 20,
   "metadata": {
    "collapsed": false
   },
   "outputs": [
    {
     "name": "stdout",
     "output_type": "stream",
     "text": [
      "Average runtime Graphwalk: 14:27:21\n"
     ]
    }
   ],
   "source": [
    "avg_runtime = np.mean([d[\"runtime\"] for d in datas])\n",
    "print(\"Average runtime Graphwalk:\", str(timedelta(seconds=int(avg_runtime))))"
   ]
  },
  {
   "cell_type": "code",
   "execution_count": null,
   "metadata": {
    "collapsed": false
   },
   "outputs": [],
   "source": []
  }
 ],
 "metadata": {
  "kernelspec": {
   "display_name": "Python [conda env:continue] *",
   "language": "python",
   "name": "conda-env-continue-py"
  },
  "language_info": {
   "codemirror_mode": {
    "name": "ipython",
    "version": 2
   },
   "file_extension": ".py",
   "mimetype": "text/x-python",
   "name": "python",
   "nbconvert_exporter": "python",
   "pygments_lexer": "ipython2",
   "version": "2.7.6"
  }
 },
 "nbformat": 4,
 "nbformat_minor": 0
}
