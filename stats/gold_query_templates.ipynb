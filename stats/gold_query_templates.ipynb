{
 "cells": [
  {
   "cell_type": "code",
   "execution_count": 1,
   "metadata": {
    "ExecuteTime": {
     "end_time": "2023-11-17T12:16:44.074680Z",
     "start_time": "2023-11-17T12:16:43.630040Z"
    },
    "collapsed": true
   },
   "outputs": [],
   "source": [
    "import pandas as pd\n",
    "%load_ext autoreload\n",
    "%autoreload 2"
   ]
  },
  {
   "cell_type": "code",
   "execution_count": 2,
   "metadata": {
    "ExecuteTime": {
     "end_time": "2023-11-17T12:16:44.092956Z",
     "start_time": "2023-11-17T12:16:44.072980Z"
    },
    "collapsed": false
   },
   "outputs": [],
   "source": [
    "import os\n",
    "import sys\n",
    "module_path = os.path.abspath(os.path.join('..'))\n",
    "if module_path not in sys.path:\n",
    "    sys.path.append(module_path)"
   ]
  },
  {
   "cell_type": "code",
   "execution_count": 3,
   "metadata": {
    "ExecuteTime": {
     "end_time": "2023-11-17T12:16:44.993456Z",
     "start_time": "2023-11-17T12:16:44.088604Z"
    },
    "collapsed": false
   },
   "outputs": [],
   "source": [
    "from loaders.loaders import *\n",
    "from evaluation.split_dataset import split_on_seed_dataset\n",
    "import json\n",
    "import pickle\n",
    "\n",
    "lc_quad_train = load_on_path(ds_lc_quad_train_cleaned)"
   ]
  },
  {
   "cell_type": "code",
   "execution_count": 4,
   "metadata": {
    "ExecuteTime": {
     "end_time": "2023-11-17T12:16:44.999078Z",
     "start_time": "2023-11-17T12:16:44.993377Z"
    },
    "collapsed": false
   },
   "outputs": [],
   "source": [
    "def filter_graph(graph):\n",
    "    valid_triples = list()\n",
    "\n",
    "    for triple in graph:\n",
    "        if triple[0].startswith(\"?\") and \"uri\" not in triple[0]:\n",
    "            valid_triples.append(triple)\n",
    "        if triple[2].startswith(\"?\") and \"uri\" not in triple[2]:\n",
    "            valid_triples.append(triple)\n",
    "    return valid_triples"
   ]
  },
  {
   "cell_type": "code",
   "execution_count": 30,
   "metadata": {
    "ExecuteTime": {
     "end_time": "2023-11-17T12:52:37.013006Z",
     "start_time": "2023-11-17T12:52:36.967092Z"
    },
    "collapsed": false
   },
   "outputs": [],
   "source": [
    "templates = list()\n",
    "direction_types = {\"bf1\":[], \"bf2\":[], \"fb1\":[], \"fb2\":[], \"f\":[], \"b\":[], \"ff1\":[], \"ff2\":[], \"bb1\":[], \"bb2\":[],}\n",
    "\n",
    "for i, record in enumerate(lc_quad_train):\n",
    "    # print(\"NEXT:\", i)\n",
    "    # gold_graph_filtered = filter_graph(record[\"graph\"])\n",
    "    gold_graph_filtered = record[\"graph\"]\n",
    "    uri_direction = \"\"\n",
    "    variable_direction = \"\"\n",
    "\n",
    "    step1_type = \"\"\n",
    "    step2_type = \"\"\n",
    "\n",
    "    for triple in gold_graph_filtered:\n",
    "        if triple[0].startswith(\"?\") and \"uri\" not in triple[0] and \"?uri\" in triple[2]:\n",
    "            # print(\"0\", triple)\n",
    "            uri_direction = \"b\"\n",
    "            step1_type = triple[1]\n",
    "        elif triple[0].startswith(\"?\") and \"uri\" not in triple[0]:\n",
    "            # print(\"1\", triple)\n",
    "            variable_direction = \"f\"\n",
    "            step2_type = triple[1]\n",
    "        elif triple[2].startswith(\"?\") and \"uri\" not in triple[2] and \"?uri\" in triple[0]:\n",
    "            # print(\"2\", triple)\n",
    "            uri_direction = \"f\"\n",
    "            step1_type = triple[1]\n",
    "        elif triple[2].startswith(\"?\") and \"uri\" not in triple[2]:\n",
    "            # print(\"3\", triple)\n",
    "            variable_direction = \"b\"\n",
    "            step2_type = triple[1]\n",
    "        elif \"?uri\" in triple[0]:\n",
    "            # print(\"4\", triple)\n",
    "            uri_direction = \"f\"\n",
    "            step1_type = triple[1]\n",
    "        elif \"?uri\" in triple[2]:\n",
    "            # print(\"5\", triple)\n",
    "            uri_direction = \"b\"\n",
    "            step1_type = triple[1]\n",
    "    if variable_direction == \"\":\n",
    "        # print(gold_graph_filtered, record[\"graph\"])\n",
    "        direction_types[uri_direction].append(step1_type)\n",
    "    else:\n",
    "        direction_types[uri_direction+variable_direction+\"1\"].append(step1_type)\n",
    "        direction_types[uri_direction+variable_direction+\"2\"].append(step2_type)\n",
    "\n",
    "    templates.append(uri_direction+variable_direction)"
   ]
  },
  {
   "cell_type": "code",
   "execution_count": 28,
   "metadata": {
    "ExecuteTime": {
     "end_time": "2023-11-17T12:51:25.252719Z",
     "start_time": "2023-11-17T12:51:25.202600Z"
    },
    "collapsed": false
   },
   "outputs": [
    {
     "data": {
      "text/plain": [
       "Counter({'bf': 119, 'f': 69, 'ff': 48, 'b': 8, 'bb': 6})"
      ]
     },
     "execution_count": 28,
     "metadata": {},
     "output_type": "execute_result"
    }
   ],
   "source": [
    "from collections import Counter\n",
    "\n",
    "Counter(templates)"
   ]
  },
  {
   "cell_type": "code",
   "execution_count": 11,
   "metadata": {
    "collapsed": false
   },
   "outputs": [
    {
     "data": {
      "text/plain": [
       "250"
      ]
     },
     "execution_count": 11,
     "metadata": {},
     "output_type": "execute_result"
    }
   ],
   "source": [
    "125+77+48"
   ]
  },
  {
   "cell_type": "code",
   "execution_count": 11,
   "metadata": {
    "collapsed": false
   },
   "outputs": [
    {
     "name": "stdout",
     "output_type": "stream",
     "text": [
      "bf1\n",
      "[('<http://dbpedia.org/ontology/sport>', 5), ('<http://dbpedia.org/ontology/bandMember>', 4), ('<http://dbpedia.org/ontology/team>', 4), ('<http://dbpedia.org/property/cities>', 4), ('<http://dbpedia.org/ontology/leader>', 4), ('<http://dbpedia.org/ontology/predecessor>', 3), ('<http://dbpedia.org/ontology/tenant>', 3), ('<http://dbpedia.org/ontology/birthPlace>', 3), ('<http://dbpedia.org/property/starring>', 3), ('<http://dbpedia.org/ontology/award>', 3), ('<http://dbpedia.org/property/subject>', 2), ('<http://dbpedia.org/property/region>', 2), ('<http://dbpedia.org/property/genre>', 2), ('<http://dbpedia.org/ontology/poleDriver>', 2), ('<http://dbpedia.org/ontology/manufacturer>', 2), ('<http://dbpedia.org/ontology/firstAscentPerson>', 2), ('<http://dbpedia.org/property/notableworks>', 2), ('<http://dbpedia.org/property/related>', 2), ('<http://dbpedia.org/ontology/associatedBand>', 2), ('<http://dbpedia.org/ontology/producer>', 2), ('<http://dbpedia.org/property/awards>', 2), ('<http://dbpedia.org/ontology/maintainedBy>', 2), ('<http://dbpedia.org/ontology/party>', 2), ('<http://dbpedia.org/ontology/genre>', 2), ('<http://dbpedia.org/ontology/firstDriver>', 2), ('<http://dbpedia.org/property/crosses>', 2), ('<http://dbpedia.org/ontology/religion>', 2), ('<http://dbpedia.org/property/name>', 2), ('<http://dbpedia.org/ontology/influencedBy>', 2), ('<http://dbpedia.org/ontology/owner>', 2), ('<http://dbpedia.org/property/address>', 1), ('<http://dbpedia.org/property/author>', 1), ('<http://dbpedia.org/ontology/relation>', 1), ('<http://dbpedia.org/property/services>', 1), ('<http://dbpedia.org/ontology/residence>', 1), ('<http://dbpedia.org/ontology/layout>', 1), ('<http://dbpedia.org/ontology/formerTeam>', 1), ('<http://dbpedia.org/property/draftTeam>', 1), ('<http://dbpedia.org/ontology/knownFor>', 1), ('<http://dbpedia.org/ontology/deathCause>', 1), ('<http://dbpedia.org/property/deathPlace>', 1), ('<http://dbpedia.org/ontology/type>', 1), ('<http://dbpedia.org/property/race>', 1), ('<http://dbpedia.org/ontology/occupation>', 1), ('<http://dbpedia.org/property/battles>', 1), ('<http://dbpedia.org/ontology/sourceCountry>', 1), ('<http://dbpedia.org/ontology/state>', 1), ('<http://dbpedia.org/ontology/battle>', 1), ('<http://dbpedia.org/ontology/majorShrine>', 1), ('<http://dbpedia.org/ontology/product>', 1), ('<http://dbpedia.org/property/destinations>', 1), ('<http://dbpedia.org/ontology/draftTeam>', 1), ('<http://dbpedia.org/property/locations>', 1), ('<http://dbpedia.org/ontology/currency>', 1), ('<http://dbpedia.org/property/placeOfDeath>', 1), ('<http://dbpedia.org/ontology/starring>', 1), ('<http://dbpedia.org/property/membership>', 1), ('<http://dbpedia.org/property/tenants>', 1), ('<http://dbpedia.org/ontology/recordedIn>', 1), ('<http://dbpedia.org/ontology/formerPartner>', 1), ('<http://dbpedia.org/property/poleDriver>', 1), ('<http://dbpedia.org/ontology/broadcastNetwork>', 1), ('<http://dbpedia.org/property/debutteam>', 1), ('<http://dbpedia.org/ontology/programmeFormat>', 1), ('<http://dbpedia.org/ontology/voice>', 1), ('<http://dbpedia.org/property/placeOfBurial>', 1), ('<http://dbpedia.org/ontology/honours>', 1), ('<http://dbpedia.org/property/producer>', 1), ('<http://dbpedia.org/ontology/hometown>', 1), ('<http://dbpedia.org/property/religion>', 1), ('<http://dbpedia.org/property/judges>', 1), ('<http://dbpedia.org/ontology/associatedMusicalArtist>', 1), ('<http://dbpedia.org/ontology/basedOn>', 1), ('<http://dbpedia.org/property/associatedActs>', 1), ('<http://dbpedia.org/ontology/homeStadium>', 1), ('<http://dbpedia.org/property/label>', 1), ('<http://dbpedia.org/property/athletics>', 1), ('<http://dbpedia.org/ontology/ingredient>', 1), ('<http://dbpedia.org/property/artist>', 1)]\n",
      "bf2\n",
      "[('<http://www.w3.org/1999/02/22-rdf-syntax-ns#type>', 93), ('<http://dbpedia.org/ontology/sport>', 3), ('<http://dbpedia.org/property/cities>', 2), ('<http://dbpedia.org/ontology/party>', 2), ('<http://dbpedia.org/property/address>', 1), ('<http://dbpedia.org/property/author>', 1), ('<http://dbpedia.org/ontology/team>', 1), ('<http://dbpedia.org/ontology/residence>', 1), ('<http://dbpedia.org/ontology/leader>', 1), ('<http://dbpedia.org/ontology/associatedBand>', 1), ('<http://dbpedia.org/ontology/knownFor>', 1), ('<http://dbpedia.org/ontology/deathCause>', 1), ('<http://dbpedia.org/property/battles>', 1), ('<http://dbpedia.org/ontology/manufacturer>', 1), ('<http://dbpedia.org/ontology/genre>', 1), ('<http://dbpedia.org/ontology/firstDriver>', 1), ('<http://dbpedia.org/ontology/recordedIn>', 1), ('<http://dbpedia.org/ontology/formerPartner>', 1), ('<http://dbpedia.org/ontology/broadcastNetwork>', 1), ('<http://dbpedia.org/ontology/honours>', 1), ('<http://dbpedia.org/property/crosses>', 1), ('<http://dbpedia.org/ontology/award>', 1), ('<http://dbpedia.org/ontology/associatedMusicalArtist>', 1), ('<http://dbpedia.org/ontology/homeStadium>', 1), ('<http://dbpedia.org/ontology/firstAscentPerson>', 1), ('<http://dbpedia.org/property/label>', 1), ('<http://dbpedia.org/ontology/ingredient>', 1), ('<http://dbpedia.org/property/notableworks>', 1), ('<http://dbpedia.org/ontology/religion>', 1)]\n",
      "fb1\n",
      "[('<http://dbpedia.org/ontology/musicComposer>', 4), ('<http://dbpedia.org/ontology/manufacturer>', 4), ('<http://dbpedia.org/property/music>', 4), ('<http://dbpedia.org/property/starring>', 3), ('<http://dbpedia.org/ontology/religion>', 2), ('<http://dbpedia.org/property/network>', 2), ('<http://dbpedia.org/property/programmingLanguage>', 2), ('<http://dbpedia.org/property/owners>', 2), ('<http://dbpedia.org/property/knownFor>', 2), ('<http://dbpedia.org/ontology/foundationPlace>', 2), ('<http://dbpedia.org/property/currentMembers>', 1), ('<http://dbpedia.org/property/director>', 1), ('<http://dbpedia.org/ontology/board>', 1), ('<http://dbpedia.org/property/themeMusicComposer>', 1), ('<http://dbpedia.org/ontology/leader>', 1), ('<http://dbpedia.org/ontology/managerClub>', 1), ('<http://dbpedia.org/ontology/company>', 1), ('<http://dbpedia.org/ontology/associatedMusicalArtist>', 1), ('<http://dbpedia.org/ontology/editing>', 1), ('<http://dbpedia.org/property/composer>', 1), ('<http://dbpedia.org/property/voices>', 1), ('<http://dbpedia.org/ontology/ingredient>', 1), ('<http://dbpedia.org/property/artist>', 1), ('<http://dbpedia.org/ontology/network>', 1), ('<http://dbpedia.org/property/cities>', 1), ('<http://dbpedia.org/property/mascot>', 1), ('<http://dbpedia.org/property/author>', 1), ('<http://dbpedia.org/ontology/manager>', 1), ('<http://dbpedia.org/property/training>', 1), ('<http://dbpedia.org/ontology/residence>', 1), ('<http://dbpedia.org/ontology/commandStructure>', 1)]\n",
      "fb2\n",
      "[('<http://dbpedia.org/ontology/musicComposer>', 4), ('<http://dbpedia.org/ontology/manufacturer>', 4), ('<http://dbpedia.org/property/music>', 4), ('<http://dbpedia.org/property/starring>', 3), ('<http://dbpedia.org/ontology/religion>', 2), ('<http://dbpedia.org/property/network>', 2), ('<http://dbpedia.org/property/programmingLanguage>', 2), ('<http://dbpedia.org/property/owners>', 2), ('<http://dbpedia.org/property/knownFor>', 2), ('<http://dbpedia.org/ontology/foundationPlace>', 2), ('<http://dbpedia.org/property/currentMembers>', 1), ('<http://dbpedia.org/property/director>', 1), ('<http://dbpedia.org/ontology/board>', 1), ('<http://dbpedia.org/property/themeMusicComposer>', 1), ('<http://dbpedia.org/ontology/leader>', 1), ('<http://dbpedia.org/ontology/managerClub>', 1), ('<http://dbpedia.org/ontology/company>', 1), ('<http://dbpedia.org/ontology/associatedMusicalArtist>', 1), ('<http://dbpedia.org/ontology/editing>', 1), ('<http://dbpedia.org/property/composer>', 1), ('<http://dbpedia.org/property/voices>', 1), ('<http://dbpedia.org/ontology/ingredient>', 1), ('<http://dbpedia.org/property/artist>', 1), ('<http://dbpedia.org/ontology/network>', 1), ('<http://dbpedia.org/property/cities>', 1), ('<http://dbpedia.org/property/mascot>', 1), ('<http://dbpedia.org/property/author>', 1), ('<http://dbpedia.org/ontology/manager>', 1), ('<http://dbpedia.org/property/training>', 1), ('<http://dbpedia.org/ontology/residence>', 1), ('<http://dbpedia.org/ontology/commandStructure>', 1)]\n",
      "1\n",
      "[('', 77)]\n"
     ]
    }
   ],
   "source": [
    "for k, v in direction_types.items():\n",
    "    print(k)\n",
    "    print(sorted(Counter(v).items(), key=lambda x: x[1], reverse=True))"
   ]
  },
  {
   "cell_type": "code",
   "execution_count": 12,
   "metadata": {
    "collapsed": false,
    "pycharm": {
     "name": "#%%\n"
    }
   },
   "outputs": [
    {
     "name": "stdout",
     "output_type": "stream",
     "text": [
      "bf1\n",
      "False\n",
      "bf2\n",
      "True\n",
      "fb1\n",
      "False\n",
      "fb2\n",
      "False\n",
      "1\n",
      "False\n"
     ]
    }
   ],
   "source": [
    "for k, v in direction_types.items():\n",
    "    print(k)\n",
    "    print(\"<http://www.w3.org/1999/02/22-rdf-syntax-ns#type>\" in v)"
   ]
  },
  {
   "cell_type": "code",
   "execution_count": null,
   "metadata": {
    "collapsed": false,
    "pycharm": {
     "name": "#%%\n"
    }
   },
   "outputs": [],
   "source": []
  }
 ],
 "metadata": {
  "kernelspec": {
   "display_name": "Python [conda env:continue] *",
   "language": "python",
   "name": "conda-env-continue-py"
  },
  "language_info": {
   "codemirror_mode": {
    "name": "ipython",
    "version": 2
   },
   "file_extension": ".py",
   "mimetype": "text/x-python",
   "name": "python",
   "nbconvert_exporter": "python",
   "pygments_lexer": "ipython2",
   "version": "2.7.6"
  }
 },
 "nbformat": 4,
 "nbformat_minor": 0
}
