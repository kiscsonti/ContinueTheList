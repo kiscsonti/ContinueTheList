{
 "cells": [
  {
   "cell_type": "code",
   "execution_count": 4,
   "metadata": {
    "collapsed": true
   },
   "outputs": [
    {
     "name": "stdout",
     "output_type": "stream",
     "text": [
      "The autoreload extension is already loaded. To reload it, use:\n",
      "  %reload_ext autoreload\n"
     ]
    }
   ],
   "source": [
    "import pandas as pd\n",
    "%load_ext autoreload\n",
    "%autoreload 2"
   ]
  },
  {
   "cell_type": "code",
   "execution_count": 5,
   "metadata": {
    "collapsed": false
   },
   "outputs": [],
   "source": [
    "import os\n",
    "import sys\n",
    "module_path = os.path.abspath(os.path.join('..'))\n",
    "if module_path not in sys.path:\n",
    "    sys.path.append(module_path)"
   ]
  },
  {
   "cell_type": "code",
   "execution_count": 8,
   "metadata": {
    "collapsed": false
   },
   "outputs": [],
   "source": [
    "from loaders.loaders import *\n",
    "from evaluation.split_dataset import split_on_seed_dataset"
   ]
  },
  {
   "cell_type": "code",
   "execution_count": 10,
   "metadata": {
    "collapsed": false
   },
   "outputs": [],
   "source": [
    "SEED = 44\n",
    "SAMPLE_SIZE = 4\n",
    "\n",
    "lc_quad_train = load_on_path(ds_lc_quad_train_cleaned)\n",
    "splitted_lcquad = split_on_seed_dataset(lc_quad_train, SAMPLE_SIZE, SEED)"
   ]
  },
  {
   "cell_type": "code",
   "execution_count": 16,
   "metadata": {
    "collapsed": false
   },
   "outputs": [
    {
     "name": "stdout",
     "output_type": "stream",
     "text": [
      "22\n",
      "List the pole drivers in the grand prixes where Williams Grand Prix Engineering was a first team?\n",
      "97\n",
      "Who were the first drivers in the grand prix which took place at Autodromo Enzo e Dino Ferrari?\n",
      "142\n",
      "In all the grand prixes where the first team was Scuderia Ferrari, who all were the pole drivers?\n",
      "154\n",
      "Who were the first drivers in Grand Prixes where the first team was Scuderia Ferrari?\n"
     ]
    }
   ],
   "source": [
    "for i, record in enumerate(splitted_lcquad):\n",
    "    if \"driver\" in record[\"corrected_question\"].lower():\n",
    "        print(i)\n",
    "        print(record[\"corrected_question\"])"
   ]
  },
  {
   "cell_type": "code",
   "execution_count": 17,
   "metadata": {
    "collapsed": false
   },
   "outputs": [
    {
     "data": {
      "text/plain": [
       "{'_id': '4855',\n",
       " 'corrected_question': 'Who were the first drivers in the grand prix which took place at Autodromo Enzo e Dino Ferrari?',\n",
       " 'intermediary_question': 'What is the <first driver> of the <Grand Prixes> whose <location> is <Autodromo Enzo e Dino Ferrari>?',\n",
       " 'sparql_query': 'SELECT DISTINCT ?uri WHERE { ?x <http://dbpedia.org/ontology/location> <http://dbpedia.org/resource/Autodromo_Enzo_e_Dino_Ferrari> . ?x <http://dbpedia.org/ontology/firstDriver> ?uri  . }',\n",
       " 'sparql_template_id': 5,\n",
       " 'result': ['http://dbpedia.org/resource/Jim_Clark',\n",
       "  'http://dbpedia.org/resource/Ayrton_Senna',\n",
       "  'http://dbpedia.org/resource/Riccardo_Patrese',\n",
       "  'http://dbpedia.org/resource/Nigel_Mansell',\n",
       "  'http://dbpedia.org/resource/Alain_Prost',\n",
       "  'http://dbpedia.org/resource/Damon_Hill',\n",
       "  'http://dbpedia.org/resource/Heinz-Harald_Frentzen',\n",
       "  'http://dbpedia.org/resource/David_Coulthard',\n",
       "  'http://dbpedia.org/resource/Michael_Schumacher',\n",
       "  'http://dbpedia.org/resource/Ralf_Schumacher',\n",
       "  'http://dbpedia.org/resource/Fernando_Alonso',\n",
       "  'http://dbpedia.org/resource/Niki_Lauda',\n",
       "  'http://dbpedia.org/resource/Nelson_Piquet',\n",
       "  'http://dbpedia.org/resource/Didier_Pironi',\n",
       "  'http://dbpedia.org/resource/Patrick_Tambay',\n",
       "  'http://dbpedia.org/resource/Elio_de_Angelis'],\n",
       " 'graph': [['?x',\n",
       "   '<http://dbpedia.org/ontology/location>',\n",
       "   '<http://dbpedia.org/resource/Autodromo_Enzo_e_Dino_Ferrari>'],\n",
       "  ['?x', '<http://dbpedia.org/ontology/firstDriver>', '?uri']],\n",
       " 'result_cleaned': ['http://dbpedia.org/resource/Jim_Clark',\n",
       "  'http://dbpedia.org/resource/Ayrton_Senna',\n",
       "  'http://dbpedia.org/resource/Riccardo_Patrese',\n",
       "  'http://dbpedia.org/resource/Nigel_Mansell',\n",
       "  'http://dbpedia.org/resource/Alain_Prost',\n",
       "  'http://dbpedia.org/resource/Damon_Hill',\n",
       "  'http://dbpedia.org/resource/Heinz-Harald_Frentzen',\n",
       "  'http://dbpedia.org/resource/David_Coulthard',\n",
       "  'http://dbpedia.org/resource/Michael_Schumacher',\n",
       "  'http://dbpedia.org/resource/Ralf_Schumacher',\n",
       "  'http://dbpedia.org/resource/Fernando_Alonso',\n",
       "  'http://dbpedia.org/resource/Niki_Lauda',\n",
       "  'http://dbpedia.org/resource/Nelson_Piquet',\n",
       "  'http://dbpedia.org/resource/Didier_Pironi',\n",
       "  'http://dbpedia.org/resource/Patrick_Tambay',\n",
       "  'http://dbpedia.org/resource/Elio_de_Angelis'],\n",
       " 'result_urlonly': ['http://dbpedia.org/resource/Jim_Clark',\n",
       "  'http://dbpedia.org/resource/Ayrton_Senna',\n",
       "  'http://dbpedia.org/resource/Riccardo_Patrese',\n",
       "  'http://dbpedia.org/resource/Nigel_Mansell',\n",
       "  'http://dbpedia.org/resource/Alain_Prost',\n",
       "  'http://dbpedia.org/resource/Damon_Hill',\n",
       "  'http://dbpedia.org/resource/Heinz-Harald_Frentzen',\n",
       "  'http://dbpedia.org/resource/David_Coulthard',\n",
       "  'http://dbpedia.org/resource/Michael_Schumacher',\n",
       "  'http://dbpedia.org/resource/Ralf_Schumacher',\n",
       "  'http://dbpedia.org/resource/Fernando_Alonso',\n",
       "  'http://dbpedia.org/resource/Niki_Lauda',\n",
       "  'http://dbpedia.org/resource/Nelson_Piquet',\n",
       "  'http://dbpedia.org/resource/Didier_Pironi',\n",
       "  'http://dbpedia.org/resource/Patrick_Tambay',\n",
       "  'http://dbpedia.org/resource/Elio_de_Angelis'],\n",
       " 'seed': ['http://dbpedia.org/resource/Niki_Lauda',\n",
       "  'http://dbpedia.org/resource/Ayrton_Senna',\n",
       "  'http://dbpedia.org/resource/Nigel_Mansell',\n",
       "  'http://dbpedia.org/resource/Alain_Prost'],\n",
       " 'gold': ['http://dbpedia.org/resource/Damon_Hill',\n",
       "  'http://dbpedia.org/resource/Ralf_Schumacher',\n",
       "  'http://dbpedia.org/resource/Heinz-Harald_Frentzen',\n",
       "  'http://dbpedia.org/resource/Michael_Schumacher',\n",
       "  'http://dbpedia.org/resource/Didier_Pironi',\n",
       "  'http://dbpedia.org/resource/Fernando_Alonso',\n",
       "  'http://dbpedia.org/resource/Riccardo_Patrese',\n",
       "  'http://dbpedia.org/resource/David_Coulthard',\n",
       "  'http://dbpedia.org/resource/Nelson_Piquet',\n",
       "  'http://dbpedia.org/resource/Elio_de_Angelis',\n",
       "  'http://dbpedia.org/resource/Jim_Clark',\n",
       "  'http://dbpedia.org/resource/Patrick_Tambay']}"
      ]
     },
     "execution_count": 17,
     "metadata": {},
     "output_type": "execute_result"
    }
   ],
   "source": [
    "splitted_lcquad[97]"
   ]
  },
  {
   "cell_type": "code",
   "execution_count": 18,
   "metadata": {
    "collapsed": false
   },
   "outputs": [
    {
     "data": {
      "text/plain": [
       "['http://dbpedia.org/resource/Niki_Lauda',\n",
       " 'http://dbpedia.org/resource/Ayrton_Senna',\n",
       " 'http://dbpedia.org/resource/Nigel_Mansell',\n",
       " 'http://dbpedia.org/resource/Alain_Prost']"
      ]
     },
     "execution_count": 18,
     "metadata": {},
     "output_type": "execute_result"
    }
   ],
   "source": [
    "splitted_lcquad[97][\"seed\"]"
   ]
  },
  {
   "cell_type": "code",
   "execution_count": 19,
   "metadata": {
    "collapsed": false
   },
   "outputs": [
    {
     "data": {
      "text/plain": [
       "[['?x',\n",
       "  '<http://dbpedia.org/ontology/location>',\n",
       "  '<http://dbpedia.org/resource/Autodromo_Enzo_e_Dino_Ferrari>'],\n",
       " ['?x', '<http://dbpedia.org/ontology/firstDriver>', '?uri']]"
      ]
     },
     "execution_count": 19,
     "metadata": {},
     "output_type": "execute_result"
    }
   ],
   "source": [
    "splitted_lcquad[97][\"graph\"]"
   ]
  },
  {
   "cell_type": "code",
   "execution_count": 22,
   "metadata": {
    "collapsed": false
   },
   "outputs": [],
   "source": [
    "from query.query_functions2 import run_sparql_query, make_triplet"
   ]
  },
  {
   "cell_type": "code",
   "execution_count": 23,
   "metadata": {
    "collapsed": false
   },
   "outputs": [],
   "source": [
    "triples = splitted_lcquad[97][\"graph\"]\n",
    "query_command = f\"SELECT DISTINCT ?x WHERE {{ {' . '.join([make_triplet(item) for item in triples]) if isinstance(triples[0], list) else make_triplet(triples)} . }} LIMIT 1000\""
   ]
  },
  {
   "cell_type": "code",
   "execution_count": 24,
   "metadata": {
    "collapsed": false
   },
   "outputs": [
    {
     "data": {
      "text/plain": [
       "'SELECT DISTINCT ?x WHERE { ?x <http://dbpedia.org/ontology/location> <http://dbpedia.org/resource/Autodromo_Enzo_e_Dino_Ferrari> . ?x <http://dbpedia.org/ontology/firstDriver> ?uri . } LIMIT 1000'"
      ]
     },
     "execution_count": 24,
     "metadata": {},
     "output_type": "execute_result"
    }
   ],
   "source": [
    "query_command"
   ]
  },
  {
   "cell_type": "code",
   "execution_count": 25,
   "metadata": {
    "collapsed": false
   },
   "outputs": [],
   "source": [
    "q_res = list()\n",
    "for element in splitted_lcquad[97][\"seed\"]:\n",
    "    query_results = run_sparql_query(query_command.replace(\"?uri\", f\"<{element}>\"))\n",
    "    q_res.append(query_results)"
   ]
  },
  {
   "cell_type": "code",
   "execution_count": 32,
   "metadata": {
    "collapsed": false
   },
   "outputs": [
    {
     "name": "stdout",
     "output_type": "stream",
     "text": [
      "http://dbpedia.org/resource/Niki_Lauda http://dbpedia.org/resource/1979_Dino_Ferrari_Grand_Prix\n",
      "http://dbpedia.org/resource/Ayrton_Senna http://dbpedia.org/resource/1989_San_Marino_Grand_Prix\n",
      "http://dbpedia.org/resource/Nigel_Mansell http://dbpedia.org/resource/1992_San_Marino_Grand_Prix\n",
      "http://dbpedia.org/resource/Alain_Prost http://dbpedia.org/resource/1993_San_Marino_Grand_Prix\n"
     ]
    }
   ],
   "source": [
    "for i, element in enumerate(q_res):\n",
    "    print(splitted_lcquad[97][\"seed\"][i], element[0][\"x\"][\"value\"])"
   ]
  },
  {
   "cell_type": "markdown",
   "metadata": {
    "collapsed": false
   },
   "source": []
  }
 ],
 "metadata": {
  "kernelspec": {
   "display_name": "Python [conda env:continue] *",
   "language": "python",
   "name": "conda-env-continue-py"
  },
  "language_info": {
   "codemirror_mode": {
    "name": "ipython",
    "version": 2
   },
   "file_extension": ".py",
   "mimetype": "text/x-python",
   "name": "python",
   "nbconvert_exporter": "python",
   "pygments_lexer": "ipython2",
   "version": "2.7.6"
  }
 },
 "nbformat": 4,
 "nbformat_minor": 0
}
