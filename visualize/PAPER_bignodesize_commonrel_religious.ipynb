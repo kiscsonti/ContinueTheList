{
 "cells": [
  {
   "cell_type": "code",
   "execution_count": 5,
   "metadata": {
    "collapsed": false
   },
   "outputs": [
    {
     "name": "stdout",
     "output_type": "stream",
     "text": [
      "The autoreload extension is already loaded. To reload it, use:\n",
      "  %reload_ext autoreload\n"
     ]
    }
   ],
   "source": [
    "import pandas as pd\n",
    "%load_ext autoreload\n",
    "%autoreload 2"
   ]
  },
  {
   "cell_type": "code",
   "execution_count": 6,
   "metadata": {
    "collapsed": false
   },
   "outputs": [],
   "source": [
    "import os\n",
    "import sys\n",
    "module_path = os.path.abspath(os.path.join('..'))\n",
    "if module_path not in sys.path:\n",
    "    sys.path.append(module_path)"
   ]
  },
  {
   "cell_type": "code",
   "execution_count": 20,
   "metadata": {
    "collapsed": false
   },
   "outputs": [],
   "source": [
    "from loaders.loaders import *\n",
    "from evaluation.split_dataset import split_on_seed_dataset\n",
    "from query.query_functions2 import run_sparql_query, make_triplet, count_from_triples, run_sparql_query_paged"
   ]
  },
  {
   "cell_type": "code",
   "execution_count": 10,
   "metadata": {
    "collapsed": false
   },
   "outputs": [],
   "source": [
    "SEED = 44\n",
    "SAMPLE_SIZE = 4\n",
    "\n",
    "lc_quad_train = load_on_path(ds_lc_quad_train_cleaned)\n",
    "splitted_lcquad = split_on_seed_dataset(lc_quad_train, SAMPLE_SIZE, SEED)"
   ]
  },
  {
   "cell_type": "code",
   "execution_count": 11,
   "metadata": {
    "collapsed": false
   },
   "outputs": [
    {
     "name": "stdout",
     "output_type": "stream",
     "text": [
      "7\n",
      "47\n",
      "111\n",
      "128\n",
      "184\n",
      "246\n"
     ]
    }
   ],
   "source": [
    "for i, element in enumerate(splitted_lcquad):\n",
    "    for triple in element[\"graph\"]:\n",
    "        if \"religion\" in triple[1]:\n",
    "            print(i)"
   ]
  },
  {
   "cell_type": "code",
   "execution_count": 25,
   "metadata": {
    "collapsed": false
   },
   "outputs": [
    {
     "data": {
      "text/plain": [
       "{'_id': '4573',\n",
       " 'corrected_question': 'Which religions are followed by people in England?',\n",
       " 'intermediary_question': 'List the <faith> of the <people> whose <official residence> is <England>.',\n",
       " 'sparql_query': 'SELECT DISTINCT ?uri WHERE { ?x <http://dbpedia.org/property/residence> <http://dbpedia.org/resource/England> . ?x <http://dbpedia.org/property/religion> ?uri  . ?x <http://www.w3.org/1999/02/22-rdf-syntax-ns#type> <http://dbpedia.org/ontology/Person>}',\n",
       " 'sparql_template_id': 305,\n",
       " 'result': ['Shia Islam',\n",
       "  'http://dbpedia.org/resource/Islam',\n",
       "  'Quaker',\n",
       "  'http://dbpedia.org/resource/Christian',\n",
       "  'http://dbpedia.org/resource/Atheism',\n",
       "  'http://dbpedia.org/resource/Hindu',\n",
       "  'http://dbpedia.org/resource/Catholic_Church',\n",
       "  'http://dbpedia.org/resource/Anglicanism',\n",
       "  'http://dbpedia.org/resource/Jews',\n",
       "  'http://dbpedia.org/resource/Greek_Orthodox_Church',\n",
       "  'Christianity',\n",
       "  'Catholic',\n",
       "  'The Church of Jesus Christ of Latter-day Saints',\n",
       "  'Sunni Islam',\n",
       "  'http://dbpedia.org/resource/Sunni_Islam',\n",
       "  'Saintism'],\n",
       " 'graph': [['?x',\n",
       "   '<http://dbpedia.org/property/residence>',\n",
       "   '<http://dbpedia.org/resource/England>'],\n",
       "  ['?x', '<http://dbpedia.org/property/religion>', '?uri'],\n",
       "  ['?x',\n",
       "   '<http://www.w3.org/1999/02/22-rdf-syntax-ns#type>',\n",
       "   '<http://dbpedia.org/ontology/Person>']],\n",
       " 'result_cleaned': ['Shia Islam',\n",
       "  'http://dbpedia.org/resource/Islam',\n",
       "  'Quaker',\n",
       "  'http://dbpedia.org/resource/Christian',\n",
       "  'http://dbpedia.org/resource/Atheism',\n",
       "  'http://dbpedia.org/resource/Hindu',\n",
       "  'http://dbpedia.org/resource/Catholic_Church',\n",
       "  'http://dbpedia.org/resource/Anglicanism',\n",
       "  'http://dbpedia.org/resource/Jews',\n",
       "  'http://dbpedia.org/resource/Greek_Orthodox_Church',\n",
       "  'Christianity',\n",
       "  'Catholic',\n",
       "  'The Church of Jesus Christ of Latter-day Saints',\n",
       "  'Sunni Islam',\n",
       "  'http://dbpedia.org/resource/Sunni_Islam',\n",
       "  'Saintism'],\n",
       " 'result_urlonly': ['http://dbpedia.org/resource/Islam',\n",
       "  'http://dbpedia.org/resource/Christian',\n",
       "  'http://dbpedia.org/resource/Atheism',\n",
       "  'http://dbpedia.org/resource/Hindu',\n",
       "  'http://dbpedia.org/resource/Catholic_Church',\n",
       "  'http://dbpedia.org/resource/Anglicanism',\n",
       "  'http://dbpedia.org/resource/Jews',\n",
       "  'http://dbpedia.org/resource/Greek_Orthodox_Church',\n",
       "  'http://dbpedia.org/resource/Sunni_Islam'],\n",
       " 'seed': ['http://dbpedia.org/resource/Anglicanism',\n",
       "  'http://dbpedia.org/resource/Christian',\n",
       "  'http://dbpedia.org/resource/Hindu',\n",
       "  'http://dbpedia.org/resource/Catholic_Church'],\n",
       " 'gold': ['http://dbpedia.org/resource/Jews',\n",
       "  'http://dbpedia.org/resource/Atheism',\n",
       "  'http://dbpedia.org/resource/Islam',\n",
       "  'http://dbpedia.org/resource/Sunni_Islam',\n",
       "  'http://dbpedia.org/resource/Greek_Orthodox_Church']}"
      ]
     },
     "execution_count": 25,
     "metadata": {},
     "output_type": "execute_result"
    }
   ],
   "source": [
    "splitted_lcquad[184]"
   ]
  },
  {
   "cell_type": "code",
   "execution_count": 15,
   "metadata": {
    "collapsed": true
   },
   "outputs": [
    {
     "data": {
      "text/plain": [
       "10640"
      ]
     },
     "execution_count": 15,
     "metadata": {},
     "output_type": "execute_result"
    }
   ],
   "source": [
    "count_from_triples(['?uri', '<http://dbpedia.org/property/religion>', '<http://dbpedia.org/resource/Catholic_Church>'])"
   ]
  },
  {
   "cell_type": "code",
   "execution_count": 16,
   "metadata": {
    "collapsed": false
   },
   "outputs": [
    {
     "data": {
      "text/plain": [
       "985"
      ]
     },
     "execution_count": 16,
     "metadata": {},
     "output_type": "execute_result"
    }
   ],
   "source": [
    "count_from_triples(['?uri', '<http://dbpedia.org/property/religion>', '<http://dbpedia.org/resource/Christianity>'])"
   ]
  },
  {
   "cell_type": "code",
   "execution_count": 27,
   "metadata": {
    "collapsed": false
   },
   "outputs": [],
   "source": [
    "from copy import deepcopy\n",
    "\n",
    "def get_uri_triple(triples):\n",
    "    valid_triples = list()\n",
    "    for trip in triples:\n",
    "        qmark_counter = 0\n",
    "        for element in trip:\n",
    "            if element[0] == \"?\":\n",
    "                qmark_counter += 1\n",
    "        if qmark_counter > 1:\n",
    "            valid_triples.append(trip)\n",
    "    return valid_triples\n",
    "\n",
    "def replace_uri(trip, element):\n",
    "    trip_copy = deepcopy(trip)\n",
    "    for i, item in enumerate(trip):\n",
    "        if item == \"?uri\":\n",
    "            trip_copy[i] = element\n",
    "    return trip_copy\n",
    "\n",
    "\n",
    "def count_from_triples(triples):\n",
    "    # query_command = f\"SELECT count(?uri) WHERE {{ {' . '.join([make_triplet(item) for item in triples])} }}\"\n",
    "    query_command = f\"SELECT count(?x) WHERE {{ {' . '.join([make_triplet(item) for item in triples]) if isinstance(triples[0], list) else make_triplet(triples)} }}\"\n",
    "    query_results = run_sparql_query(query_command)\n",
    "    return int(query_results[0]['callret-0']['value'])"
   ]
  },
  {
   "cell_type": "code",
   "execution_count": 28,
   "metadata": {
    "collapsed": false
   },
   "outputs": [
    {
     "name": "stderr",
     "output_type": "stream",
     "text": [
      " 23%|█████████▌                                | 57/250 [00:13<01:46,  1.81it/s]"
     ]
    },
    {
     "name": "stdout",
     "output_type": "stream",
     "text": [
      "200000\n",
      "['?x', '<http://dbpedia.org/ontology/type>', 'http://dbpedia.org/resource/Privately_held_company']\n",
      "11067\n"
     ]
    },
    {
     "name": "stderr",
     "output_type": "stream",
     "text": [
      " 25%|██████████▍                               | 62/250 [00:19<03:19,  1.06s/it]"
     ]
    },
    {
     "name": "stdout",
     "output_type": "stream",
     "text": [
      "200000\n",
      "['?x', '<http://dbpedia.org/ontology/occupation>', 'http://dbpedia.org/resource/Actor']\n",
      "19802\n"
     ]
    },
    {
     "name": "stderr",
     "output_type": "stream",
     "text": [
      " 26%|███████████                               | 66/250 [00:25<04:13,  1.38s/it]"
     ]
    },
    {
     "name": "stdout",
     "output_type": "stream",
     "text": [
      "200000\n",
      "['?x', '<http://dbpedia.org/property/battles>', 'http://dbpedia.org/resource/World_War_II']\n",
      "10927\n"
     ]
    },
    {
     "name": "stderr",
     "output_type": "stream",
     "text": [
      " 30%|████████████▊                             | 76/250 [00:27<01:22,  2.12it/s]"
     ]
    },
    {
     "name": "stdout",
     "output_type": "stream",
     "text": [
      "200000\n",
      "['?x', '<http://dbpedia.org/ontology/battle>', 'http://dbpedia.org/resource/World_War_II']\n",
      "12105\n"
     ]
    },
    {
     "name": "stderr",
     "output_type": "stream",
     "text": [
      " 33%|█████████████▉                            | 83/250 [00:33<01:49,  1.53it/s]"
     ]
    },
    {
     "name": "stdout",
     "output_type": "stream",
     "text": [
      "200000\n",
      "['?x', '<http://dbpedia.org/ontology/birthPlace>', 'http://dbpedia.org/resource/England']\n",
      "24064\n"
     ]
    },
    {
     "name": "stderr",
     "output_type": "stream",
     "text": [
      " 58%|███████████████████████▌                 | 144/250 [00:49<00:10,  9.80it/s]"
     ]
    },
    {
     "name": "stdout",
     "output_type": "stream",
     "text": [
      "200000\n",
      "['?x', '<http://dbpedia.org/ontology/birthPlace>', 'http://dbpedia.org/resource/United_States']\n",
      "32205\n"
     ]
    },
    {
     "name": "stderr",
     "output_type": "stream",
     "text": [
      " 73%|█████████████████████████████▊           | 182/250 [01:01<00:09,  7.07it/s]"
     ]
    },
    {
     "name": "stdout",
     "output_type": "stream",
     "text": [
      "200000\n",
      "['?x', '<http://dbpedia.org/property/religion>', 'http://dbpedia.org/resource/Catholic_Church']\n",
      "10640\n"
     ]
    },
    {
     "name": "stderr",
     "output_type": "stream",
     "text": [
      "100%|█████████████████████████████████████████| 250/250 [01:17<00:00,  3.24it/s]\n"
     ]
    }
   ],
   "source": [
    "from tqdm import tqdm\n",
    "\n",
    "res_size = list()\n",
    "\n",
    "big_connection_list = list()\n",
    "\n",
    "for record in tqdm(lc_quad_train):\n",
    "    uri_triples = get_uri_triple(record[\"graph\"])\n",
    "\n",
    "    for trip in uri_triples:\n",
    "        for gold in record[\"result_urlonly\"]:\n",
    "            runnable_trip = replace_uri(trip, gold)\n",
    "            query_command = f\"SELECT DISTINCT ?x WHERE {{ {' . '.join([make_triplet(item) for item in runnable_trip]) if isinstance(runnable_trip[0], list) else make_triplet(runnable_trip)} . }}\"\n",
    "            query_results = run_sparql_query_paged(query_command, 20)\n",
    "            if query_results is None:\n",
    "                continue\n",
    "\n",
    "            if len(query_results) >= 20000:\n",
    "                print(len(query_results))\n",
    "                print(runnable_trip)\n",
    "                print(count_from_triples(runnable_trip))\n",
    "            res_size.append(len([item['x']['value'] for item in query_results]))"
   ]
  },
  {
   "cell_type": "code",
   "execution_count": 30,
   "metadata": {
    "collapsed": false
   },
   "outputs": [
    {
     "name": "stdout",
     "output_type": "stream",
     "text": [
      "1000000\n"
     ]
    }
   ],
   "source": [
    "runnable_trip = ['?x', '<http://dbpedia.org/ontology/birthPlace>', 'http://dbpedia.org/resource/United_States']\n",
    "\n",
    "query_command = f\"SELECT DISTINCT ?x WHERE {{ {' . '.join([make_triplet(item) for item in runnable_trip]) if isinstance(runnable_trip[0], list) else make_triplet(runnable_trip)} . }}\"\n",
    "query_results = run_sparql_query_paged(query_command, 100)\n",
    "\n",
    "print(len(query_results))"
   ]
  },
  {
   "cell_type": "code",
   "execution_count": null,
   "metadata": {
    "collapsed": false
   },
   "outputs": [],
   "source": []
  }
 ],
 "metadata": {
  "kernelspec": {
   "display_name": "Python [conda env:continue] *",
   "language": "python",
   "name": "conda-env-continue-py"
  },
  "language_info": {
   "codemirror_mode": {
    "name": "ipython",
    "version": 2
   },
   "file_extension": ".py",
   "mimetype": "text/x-python",
   "name": "python",
   "nbconvert_exporter": "python",
   "pygments_lexer": "ipython2",
   "version": "2.7.6"
  }
 },
 "nbformat": 4,
 "nbformat_minor": 0
}
