{
 "cells": [
  {
   "cell_type": "code",
   "execution_count": 2,
   "metadata": {
    "collapsed": true
   },
   "outputs": [],
   "source": [
    "import pandas as pd\n",
    "%load_ext autoreload\n",
    "%autoreload 2"
   ]
  },
  {
   "cell_type": "code",
   "execution_count": 3,
   "metadata": {
    "collapsed": false
   },
   "outputs": [],
   "source": [
    "import os\n",
    "import sys\n",
    "module_path = os.path.abspath(os.path.join('..'))\n",
    "if module_path not in sys.path:\n",
    "    sys.path.append(module_path)"
   ]
  },
  {
   "cell_type": "code",
   "execution_count": 12,
   "metadata": {
    "collapsed": false
   },
   "outputs": [],
   "source": [
    "from loaders.loaders import load_on_path, ds_lc_quad_train_cleaned, ds_lc_quad_test_cleaned\n",
    "from query.query_functions2 import get_all_triplets_from_s_ronly, get_all_triplets_from_sr\n",
    "lc_quad_train = load_on_path(ds_lc_quad_train_cleaned)"
   ]
  },
  {
   "cell_type": "code",
   "execution_count": 13,
   "metadata": {
    "collapsed": false
   },
   "outputs": [
    {
     "name": "stdout",
     "output_type": "stream",
     "text": [
      "{'_id': '2413', 'corrected_question': 'Starwood operates in which places?', 'intermediary_question': 'What is the <address> of the <hotels> whose <operator> is <Starwood Hotels and Resorts Worldwide>?', 'sparql_query': 'SELECT DISTINCT ?uri WHERE { ?x <http://dbpedia.org/property/operator> <http://dbpedia.org/resource/Starwood_Hotels_and_Resorts_Worldwide> . ?x <http://dbpedia.org/property/address> ?uri  . }', 'sparql_template_id': 5, 'result': ['181', 'http://dbpedia.org/resource/California', 'http://dbpedia.org/resource/San_Francisco', '2', 'Calle San Fernando, 2', '1', 'http://dbpedia.org/resource/Chennai', 'http://dbpedia.org/resource/Tamil_Nadu', 'Krakowskie Przedmiescie 42/44', '1900', 'http://dbpedia.org/resource/Seattle', '811', '333', '210', 'http://dbpedia.org/resource/Atlanta', '10600', 'http://dbpedia.org/resource/Westminster,_Colorado', 'Main Gulshan Avenue, Plot-01, Road 45, Gulshan-2, Dhaka 1212, Bangladesh', '211', 'http://dbpedia.org/resource/San_Jose,_California'], 'graph': [['?x', '<http://dbpedia.org/property/operator>', '<http://dbpedia.org/resource/Starwood_Hotels_and_Resorts_Worldwide>'], ['?x', '<http://dbpedia.org/property/address>', '?uri']], 'result_cleaned': ['http://dbpedia.org/resource/California', 'http://dbpedia.org/resource/San_Francisco', 'Calle San Fernando, 2', 'http://dbpedia.org/resource/Chennai', 'http://dbpedia.org/resource/Tamil_Nadu', 'Krakowskie Przedmiescie 42/44', 'http://dbpedia.org/resource/Seattle', 'http://dbpedia.org/resource/Atlanta', 'http://dbpedia.org/resource/Westminster,_Colorado', 'Main Gulshan Avenue, Plot-01, Road 45, Gulshan-2, Dhaka 1212, Bangladesh', 'http://dbpedia.org/resource/San_Jose,_California'], 'result_urlonly': ['http://dbpedia.org/resource/California', 'http://dbpedia.org/resource/San_Francisco', 'http://dbpedia.org/resource/Chennai', 'http://dbpedia.org/resource/Tamil_Nadu', 'http://dbpedia.org/resource/Seattle', 'http://dbpedia.org/resource/Atlanta', 'http://dbpedia.org/resource/Westminster,_Colorado', 'http://dbpedia.org/resource/San_Jose,_California']}\n"
     ]
    }
   ],
   "source": [
    "print(lc_quad_train[0])"
   ]
  },
  {
   "cell_type": "code",
   "execution_count": 24,
   "metadata": {
    "collapsed": false
   },
   "outputs": [
    {
     "name": "stdout",
     "output_type": "stream",
     "text": [
      "http://dbpedia.org/resource/Family_Memoir\n",
      "http://dbpedia.org/resource/Big_B'Z\n",
      "http://dbpedia.org/resource/Hynief\n",
      "http://dbpedia.org/resource/Nick_Haze\n",
      "http://dbpedia.org/resource/Richmond_Rab\n",
      "http://dbpedia.org/resource/Riq_Rose\n",
      "http://dbpedia.org/resource/SkullGizzy(Gamer)\n",
      "http://dbpedia.org/resource/Starr_(rapper)\n",
      "http://dbpedia.org/resource/Yung_Ja\n",
      "http://dbpedia.org/resource/Kaoru_Kurosaki\n",
      "http://dbpedia.org/resource/Robinson_Haruhara\n",
      "http://dbpedia.org/resource/Siegfried_Geisler\n",
      "http://dbpedia.org/resource/Eckardt_Köppen\n",
      "http://dbpedia.org/resource/You_Must_Be_Joking!_(1965_film)\n",
      "http://dbpedia.org/resource/Big_B'Z\n",
      "http://dbpedia.org/resource/Hynief\n",
      "http://dbpedia.org/resource/Nick_Haze\n",
      "http://dbpedia.org/resource/Richmond_Rab\n",
      "http://dbpedia.org/resource/Riq_Rose\n",
      "http://dbpedia.org/resource/SkullGizzy(Gamer)\n",
      "http://dbpedia.org/resource/Starr_(rapper)\n",
      "http://dbpedia.org/resource/Yung_Ja\n",
      "http://dbpedia.org/resource/Janna_Long\n",
      "http://dbpedia.org/resource/A.F.C_Arusha\n",
      "http://dbpedia.org/resource/Stand_United\n",
      "http://dbpedia.org/resource/Morogoro_Youth_Academy\n",
      "http://dbpedia.org/resource/Police_F.C._(Tanzania)\n",
      "http://dbpedia.org/resource/Tanzania_Soccer_Academy\n",
      "http://dbpedia.org/resource/FC_Valmont\n",
      "http://dbpedia.org/resource/Kajumulo_FC\n",
      "http://dbpedia.org/resource/Seattle_Saints\n",
      "http://dbpedia.org/resource/Costal_Union\n",
      "http://dbpedia.org/resource/Lionel_Bowen\n",
      "http://dbpedia.org/resource/Graham_Richardson\n",
      "http://dbpedia.org/resource/Front-engine,_four-wheel_drive_layout\n",
      "http://dbpedia.org/resource/FF_layout\n",
      "http://dbpedia.org/resource/Big_B'Z\n",
      "http://dbpedia.org/resource/Hynief\n",
      "http://dbpedia.org/resource/Nick_Haze\n",
      "http://dbpedia.org/resource/Richmond_Rab\n",
      "http://dbpedia.org/resource/Riq_Rose\n",
      "http://dbpedia.org/resource/SkullGizzy(Gamer)\n",
      "http://dbpedia.org/resource/Starr_(rapper)\n",
      "http://dbpedia.org/resource/Yung_Ja\n",
      "http://dbpedia.org/resource/Richard_Cotter\n",
      "http://dbpedia.org/resource/Prism_Video_Converter_Software\n",
      "http://dbpedia.org/resource/4th_Dimension_(software)__4D_Server__1\n",
      "http://dbpedia.org/resource/4th_Dimension_(software)__4D__1\n",
      "http://dbpedia.org/resource/James_Margellos\n",
      "http://dbpedia.org/resource/Merrill_H._Karpf\n",
      "http://dbpedia.org/resource/Rick_Rosenberg\n",
      "http://dbpedia.org/resource/Robert_W._Christiansen\n",
      "http://dbpedia.org/resource/Ted_Swanson\n",
      "http://dbpedia.org/resource/David_R._Ginsburg\n",
      "http://dbpedia.org/resource/Galina_Tuchinsky\n",
      "http://dbpedia.org/resource/Nick_Gillott\n",
      "http://dbpedia.org/resource/Tom_Patricia\n",
      "http://dbpedia.org/resource/Lee_Rafner\n",
      "http://dbpedia.org/resource/Norman_Marcus\n",
      "http://dbpedia.org/resource/Mia_och_Klara\n",
      "http://dbpedia.org/resource/Klasskamrater\n",
      "http://dbpedia.org/resource/Docklands_(club)\n",
      "http://dbpedia.org/resource/Christer_och_Morgan_Rapporterar\n",
      "http://dbpedia.org/resource/Satsommar\n",
      "http://dbpedia.org/resource/Ampleblood\n",
      "http://dbpedia.org/resource/Lolwe_F.C.\n",
      "http://dbpedia.org/resource/A.F.C_Arusha\n",
      "http://dbpedia.org/resource/Morogoro_Youth_Academy\n",
      "http://dbpedia.org/resource/Police_F.C._(Tanzania)\n",
      "http://dbpedia.org/resource/Do_You_Hear_the_Dogs_Barking%3F\n",
      "http://dbpedia.org/resource/Kien_Nam\n",
      "http://dbpedia.org/resource/Do_You_Hear_the_Dogs_Barking%3F\n",
      "http://dbpedia.org/resource/Young_Economist_Award\n",
      "http://dbpedia.org/resource/C.B.E\n",
      "http://dbpedia.org/resource/Delhi_Medical_Council,_gold_medal,_2005\n",
      "http://dbpedia.org/resource/Rotary_Club:_Distinguished_Clinician_Award,_2011\n",
      "http://dbpedia.org/resource/Vishist_Chikitsak_Rattan,_2012\n",
      "http://dbpedia.org/resource/Big_B'Z\n",
      "http://dbpedia.org/resource/Hynief\n",
      "http://dbpedia.org/resource/Nick_Haze\n",
      "http://dbpedia.org/resource/Richmond_Rab\n",
      "http://dbpedia.org/resource/Riq_Rose\n",
      "http://dbpedia.org/resource/SkullGizzy(Gamer)\n",
      "http://dbpedia.org/resource/Starr_(rapper)\n",
      "http://dbpedia.org/resource/Yung_Ja\n",
      "http://dbpedia.org/resource/Qaqun__Battle_of_Qaqun__1\n",
      "http://dbpedia.org/resource/Joseph_Mukasa_Balikuddembe\n",
      "http://dbpedia.org/resource/Selia_Selenggara_Selatan_Sdn_Bhd\n",
      "http://dbpedia.org/resource/Roadcare_Sdn_Bhd\n",
      "http://dbpedia.org/resource/Belati_Wangsa_Sdn_Bhd\n",
      "http://dbpedia.org/resource/Majlis_Daerah_Tangkak\n",
      "http://www.henrymorse.org.uk\n",
      "http://dbpedia.org/resource/Corporate_Banking\n",
      "http://dbpedia.org/resource/Credit_Financing\n",
      "http://dbpedia.org/resource/Rubber_Process_Oil\n",
      "http://dbpedia.org/resource/Sharon_Nazarian\n",
      "http://dbpedia.org/resource/Lumut_Straits\n",
      "http://dbpedia.org/resource/Lake_Raban\n",
      "http://dbpedia.org/resource/Simin_River\n",
      "http://dbpedia.org/resource/Chukai_River\n",
      "http://dbpedia.org/resource/Pengerang_Strait\n",
      "http://dbpedia.org/resource/Thai-Lao_Border\n",
      "http://dbpedia.org/resource/Galas_River\n",
      "http://dbpedia.org/resource/Sungai_Simpang_Kiri\n",
      "http://dbpedia.org/resource/Chenderoh_River\n",
      "http://dbpedia.org/resource/Lojing_Highlands\n",
      "http://dbpedia.org/resource/Labuan_Strait\n",
      "http://dbpedia.org/resource/Bukit_Putus\n",
      "http://dbpedia.org/resource/Lebaan_River\n",
      "http://dbpedia.org/resource/Mukah_River\n",
      "http://dbpedia.org/resource/Padas_River\n",
      "http://dbpedia.org/resource/Lawas_River\n",
      "http://dbpedia.org/resource/File:Flag_of_Ghana.svg\n",
      "http://dbpedia.org/resource/Malliwala\n",
      "http://dbpedia.org/resource/AM-Shilling\n",
      "http://dbpedia.org/resource/A_yen\n",
      "http://dbpedia.org/resource/Kita-Karuizawa\n",
      "http://dbpedia.org/resource/Hinduism,_Teli\n",
      "http://dbpedia.org/resource/Tina_Rana\n",
      "http://dbpedia.org/resource/Beena_(actress)\n",
      "http://etobicokedolphins.ca/\n",
      "http://www.nhlalumni.org\n",
      "http://dbpedia.org/resource/Alejandro_Sánchez_Pavón\n",
      "http://dbpedia.org/resource/Alfredo_Zardoya\n",
      "http://dbpedia.org/resource/Blas_Vilchez\n",
      "http://dbpedia.org/resource/Carlos_Alonso_Gómez\n",
      "http://dbpedia.org/resource/Daniel_Planchería\n",
      "http://dbpedia.org/resource/David_Cornellà\n",
      "http://dbpedia.org/resource/Eugenio_Plazuelo\n",
      "http://dbpedia.org/resource/Javier_Heredia\n",
      "http://dbpedia.org/resource/Jordi_Benet_Baixauli\n",
      "http://dbpedia.org/resource/Jordi_Folguera\n",
      "http://dbpedia.org/resource/Josué_Fernández\n",
      "http://dbpedia.org/resource/José_Manuel_Cabrera\n",
      "http://dbpedia.org/resource/José_Manuel_Hinojosa_Benjumea\n",
      "http://dbpedia.org/resource/José_de_la_Puente\n",
      "http://dbpedia.org/resource/Sergio_Urbano\n",
      "http://dbpedia.org/resource/Stefan_Rodríguez\n",
      "http://dbpedia.org/resource/Ismael_Remacha\n",
      "http://dbpedia.org/resource/Pau_Torres_Riba\n",
      "http://dbpedia.org/resource/Miguel_Ángel_Ramos_Prada\n",
      "http://dbpedia.org/resource/Whodunnit%3F_(2013_U.S._TV_series)\n",
      "http://dbpedia.org/resource/Andrea_Poapst\n",
      "http://dbpedia.org/resource/Maroc_Fassel\n",
      "http://dbpedia.org/resource/Linaro__1\n",
      "http://dbpedia.org/resource/Walter_Reed_National_Military_Medical_Center__Walter_Reed_National_Military_Medical_Center__1\n",
      "http://dbpedia.org/resource/San_Antonio_Black_Aces\n",
      "http://dbpedia.org/resource/Detroit_Stars\n",
      "http://dbpedia.org/resource/Holiday_Music\n",
      "http://dbpedia.org/resource/The_Road_to_Coronation_Street\n",
      "http://dbpedia.org/resource/David_Ruskey\n",
      "http://dbpedia.org/resource/Jon_Peper\n",
      "http://dbpedia.org/resource/Fascino_PGT\n",
      "http://dbpedia.org/resource/Grundy_Italia\n",
      "http://dbpedia.org/resource/Preston_M._Burch_Handicap\n",
      "https://www.ucollege.edu/student-life/athletics/gymnaires\n",
      "http://www.ucollege.edu/athletics\n",
      "http://www.ucollege.edu/campus-life/athletics/mens-golf\n",
      "http://www.ucollege.edu/student-life/athletics/volleyball\n",
      "http://www.dowlingathletics.com\n",
      "http://www.ltuathletics.com/\n",
      "http://dbpedia.org/resource/Buick_Series_60\n",
      "http://dbpedia.org/resource/Are_You_Sequenced%3F\n",
      "http://dbpedia.org/resource/Konstakademien_Stockholm\n",
      "http://dbpedia.org/resource/Maria_Bonnier_Dahlins_Stiftelse\n",
      "http://dbpedia.org/resource/Försvarsmaktens_medalj_för_sårade_i_strid\n",
      "http://dbpedia.org/resource/Royal_Medal_of_Vasa\n",
      "http://dbpedia.org/resource/BMF_Plaque\n",
      "http://dbpedia.org/resource/Selia_Selenggara_Selatan_Sdn_Bhd\n",
      "http://dbpedia.org/resource/Roadcare_Sdn_Bhd\n",
      "http://dbpedia.org/resource/SKVE_Holdings_Sdn_Bhd\n",
      "http://dbpedia.org/resource/Sarawak_Rivers_Board\n",
      "http://dbpedia.org/resource/Belati_Wangsa_Sdn_Bhd\n",
      "http://dbpedia.org/resource/Majlis_Daerah_Tangkak\n",
      "http://dbpedia.org/resource/Senai-Desaru_Expressway_Berhad\n",
      "http://dbpedia.org/resource/The_Road_to_Coronation_Street\n",
      "http://dbpedia.org/resource/Big_B'Z\n",
      "http://dbpedia.org/resource/Hynief\n",
      "http://dbpedia.org/resource/Nick_Haze\n",
      "http://dbpedia.org/resource/Richmond_Rab\n",
      "http://dbpedia.org/resource/Riq_Rose\n",
      "http://dbpedia.org/resource/SkullGizzy(Gamer)\n",
      "http://dbpedia.org/resource/Starr_(rapper)\n",
      "http://dbpedia.org/resource/Yung_Ja\n",
      "http://dbpedia.org/resource/Do_You_Hear_the_Dogs_Barking%3F\n",
      "http://dbpedia.org/resource/Abdi_Gusti\n",
      "http://dbpedia.org/resource/Abdul_Rosyid\n",
      "http://dbpedia.org/resource/Bayu_Andra\n",
      "http://dbpedia.org/resource/Dedi_Gunawan\n",
      "http://dbpedia.org/resource/Dian_Rompi\n",
      "http://dbpedia.org/resource/Ferryanto\n",
      "http://dbpedia.org/resource/Haryadi\n",
      "http://dbpedia.org/resource/Johan_Setyawan\n",
      "http://dbpedia.org/resource/Modestus_Setiawan\n",
      "http://dbpedia.org/resource/Nanang_Asripin\n",
      "http://dbpedia.org/resource/Qoiron_Sandy\n",
      "http://dbpedia.org/resource/Rahmat_Sabani\n",
      "http://dbpedia.org/resource/Rico_Fernanda\n",
      "http://dbpedia.org/resource/Sugeng_riyadi\n",
      "http://dbpedia.org/resource/Yanuar_Ruspuspito\n",
      "http://dbpedia.org/resource/Lake_Raban\n",
      "http://dbpedia.org/resource/Lake_Bajer\n",
      "http://dbpedia.org/resource/Chukai_River\n",
      "http://dbpedia.org/resource/Thai-Lao_Border\n",
      "http://dbpedia.org/resource/Maroon_Creek\n",
      "http://dbpedia.org/resource/Chenderoh_River\n",
      "http://dbpedia.org/resource/Lojing_Highlands\n",
      "http://dbpedia.org/resource/Bukit_Putus\n",
      "http://dbpedia.org/resource/Bukit_Merah_Lake\n",
      "http://dbpedia.org/resource/President_of_Bucknell_University\n",
      "http://dbpedia.org/resource/Cavender's\n",
      "http://dbpedia.org/resource/State_Natural_Science_Award\n",
      "http://dbpedia.org/resource/Do_You_Hear_the_Dogs_Barking%3F\n",
      "http://dallasdavidson.com/\n",
      "http://dbpedia.org/resource/Tenderloin_(novel)\n",
      "http://dbpedia.org/resource/Sound_Novel\n",
      "http://dbpedia.org/resource/Piedmont_Radio_Company\n",
      "http://dbpedia.org/resource/Sheridan_Broadcasting\n",
      "http://dbpedia.org/resource/Abraham__Abraham__1\n",
      "http://dbpedia.org/resource/David__King_David_the_Prophet__1\n",
      "http://dbpedia.org/resource/Jacob__/Israel__1\n",
      "http://dbpedia.org/resource/Richard_Cotter\n",
      "http://dbpedia.org/resource/Athletic_Association_for_Private_Schools\n",
      "http://dbpedia.org/resource/Metro_Manila_Inter-Collegiate_Athletic_Association\n",
      "http://dbpedia.org/resource/Quezon_City_Athletic_Association\n",
      "http://dbpedia.org/resource/UCSAA\n",
      "http://dbpedia.org/resource/Virginia_Kraft_Payson\n",
      "http://dbpedia.org/resource/Carlo_Vittadini_(horse_racing)\n",
      "http://dbpedia.org/resource/Paul_de_Moussac\n",
      "http://dbpedia.org/resource/John_Arthur_Dewar\n",
      "http://dbpedia.org/resource/Sharon_Nazarian\n",
      "http://dbpedia.org/resource/Prism_Video_Converter_Software\n",
      "http://dbpedia.org/resource/Walter_Reed_National_Military_Medical_Center__Walter_Reed_National_Military_Medical_Center__1\n",
      "http://dbpedia.org/resource/Do_You_Hear_the_Dogs_Barking%3F\n",
      "http://dbpedia.org/resource/Linden_Centre_for_Contemporary_Arts\n",
      "http://dbpedia.org/resource/Arthur_Guy_Memorial_Painting_Prize\n",
      "http://dbpedia.org/resource/Hans_Sumberg\n",
      "http://dbpedia.org/resource/Sylvia_Sumberg\n",
      "http://www.sheppartonartmuseum.com.au/exhibitionprogram/smfacaa/smfacaresults2010/\n",
      "http://dbpedia.org/resource/Theodor_Urbach\n",
      "http://dbpedia.org/resource/Buddhist\n",
      "http://dbpedia.org/resource/Dublin_James\n"
     ]
    }
   ],
   "source": [
    "link_name = \"http://dbpedia.org/ontology/abstract\"\n",
    "bad_ones = list()\n",
    "\n",
    "for i, record in enumerate(lc_quad_train):\n",
    "    for element in record[\"result_urlonly\"]:\n",
    "        # get_abstract\n",
    "        res = get_all_triplets_from_sr(element, link_name)\n",
    "        if res is not None and len(res) > 0:\n",
    "            pass\n",
    "        else:\n",
    "            print(element)\n",
    "            bad_ones.append([i, element])\n",
    "        # for item in get_all_triplets_from_s_ronly(element):\n",
    "        #     if \"abstract\" in item.lower():\n",
    "        #         print(item)\n"
   ]
  },
  {
   "cell_type": "code",
   "execution_count": 26,
   "metadata": {
    "collapsed": false
   },
   "outputs": [
    {
     "name": "stdout",
     "output_type": "stream",
     "text": [
      "7779 242\n"
     ]
    }
   ],
   "source": [
    "print(sum([len(item[\"result_urlonly\"]) for item in lc_quad_train]), len(bad_ones))"
   ]
  },
  {
   "cell_type": "code",
   "execution_count": 27,
   "metadata": {
    "collapsed": false
   },
   "outputs": [
    {
     "data": {
      "text/plain": [
       "250"
      ]
     },
     "execution_count": 27,
     "metadata": {},
     "output_type": "execute_result"
    }
   ],
   "source": [
    "len(lc_quad_train)"
   ]
  },
  {
   "cell_type": "code",
   "execution_count": 29,
   "metadata": {
    "collapsed": false
   },
   "outputs": [
    {
     "name": "stdout",
     "output_type": "stream",
     "text": [
      "73\n"
     ]
    }
   ],
   "source": [
    "bad_records = set(map(lambda x: x[0], bad_ones))\n",
    "print(len(bad_records))"
   ]
  },
  {
   "cell_type": "code",
   "execution_count": null,
   "metadata": {
    "collapsed": false
   },
   "outputs": [],
   "source": []
  }
 ],
 "metadata": {
  "kernelspec": {
   "display_name": "Python [conda env:continue] *",
   "language": "python",
   "name": "conda-env-continue-py"
  },
  "language_info": {
   "codemirror_mode": {
    "name": "ipython",
    "version": 2
   },
   "file_extension": ".py",
   "mimetype": "text/x-python",
   "name": "python",
   "nbconvert_exporter": "python",
   "pygments_lexer": "ipython2",
   "version": "2.7.6"
  }
 },
 "nbformat": 4,
 "nbformat_minor": 0
}
