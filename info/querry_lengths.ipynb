{
 "cells": [
  {
   "cell_type": "code",
   "execution_count": 1,
   "metadata": {
    "collapsed": true
   },
   "outputs": [],
   "source": [
    "import pandas as pd\n",
    "%load_ext autoreload\n",
    "%autoreload 2"
   ]
  },
  {
   "cell_type": "code",
   "execution_count": 2,
   "metadata": {
    "collapsed": false
   },
   "outputs": [],
   "source": [
    "import os\n",
    "import sys\n",
    "module_path = os.path.abspath(os.path.join('..'))\n",
    "if module_path not in sys.path:\n",
    "    sys.path.append(module_path)"
   ]
  },
  {
   "cell_type": "code",
   "execution_count": 3,
   "metadata": {
    "collapsed": false
   },
   "outputs": [],
   "source": [
    "from loaders.loaders import load_on_path, ds_lc_quad_train_cleaned, ds_lc_quad_test_cleaned\n",
    "from query.query_functions2 import get_all_triplets_from_s_ronly, get_all_triplets_from_sr\n",
    "lc_quad_train = load_on_path(ds_lc_quad_train_cleaned)"
   ]
  },
  {
   "cell_type": "code",
   "execution_count": 4,
   "metadata": {
    "collapsed": false
   },
   "outputs": [
    {
     "data": {
      "text/plain": [
       "{'_id': '2413',\n",
       " 'corrected_question': 'Starwood operates in which places?',\n",
       " 'intermediary_question': 'What is the <address> of the <hotels> whose <operator> is <Starwood Hotels and Resorts Worldwide>?',\n",
       " 'sparql_query': 'SELECT DISTINCT ?uri WHERE { ?x <http://dbpedia.org/property/operator> <http://dbpedia.org/resource/Starwood_Hotels_and_Resorts_Worldwide> . ?x <http://dbpedia.org/property/address> ?uri  . }',\n",
       " 'sparql_template_id': 5,\n",
       " 'result': ['181',\n",
       "  'http://dbpedia.org/resource/California',\n",
       "  'http://dbpedia.org/resource/San_Francisco',\n",
       "  '2',\n",
       "  'Calle San Fernando, 2',\n",
       "  '1',\n",
       "  'http://dbpedia.org/resource/Chennai',\n",
       "  'http://dbpedia.org/resource/Tamil_Nadu',\n",
       "  'Krakowskie Przedmiescie 42/44',\n",
       "  '1900',\n",
       "  'http://dbpedia.org/resource/Seattle',\n",
       "  '811',\n",
       "  '333',\n",
       "  '210',\n",
       "  'http://dbpedia.org/resource/Atlanta',\n",
       "  '10600',\n",
       "  'http://dbpedia.org/resource/Westminster,_Colorado',\n",
       "  'Main Gulshan Avenue, Plot-01, Road 45, Gulshan-2, Dhaka 1212, Bangladesh',\n",
       "  '211',\n",
       "  'http://dbpedia.org/resource/San_Jose,_California'],\n",
       " 'graph': [['?x',\n",
       "   '<http://dbpedia.org/property/operator>',\n",
       "   '<http://dbpedia.org/resource/Starwood_Hotels_and_Resorts_Worldwide>'],\n",
       "  ['?x', '<http://dbpedia.org/property/address>', '?uri']],\n",
       " 'result_cleaned': ['http://dbpedia.org/resource/California',\n",
       "  'http://dbpedia.org/resource/San_Francisco',\n",
       "  'Calle San Fernando, 2',\n",
       "  'http://dbpedia.org/resource/Chennai',\n",
       "  'http://dbpedia.org/resource/Tamil_Nadu',\n",
       "  'Krakowskie Przedmiescie 42/44',\n",
       "  'http://dbpedia.org/resource/Seattle',\n",
       "  'http://dbpedia.org/resource/Atlanta',\n",
       "  'http://dbpedia.org/resource/Westminster,_Colorado',\n",
       "  'Main Gulshan Avenue, Plot-01, Road 45, Gulshan-2, Dhaka 1212, Bangladesh',\n",
       "  'http://dbpedia.org/resource/San_Jose,_California'],\n",
       " 'result_urlonly': ['http://dbpedia.org/resource/California',\n",
       "  'http://dbpedia.org/resource/San_Francisco',\n",
       "  'http://dbpedia.org/resource/Chennai',\n",
       "  'http://dbpedia.org/resource/Tamil_Nadu',\n",
       "  'http://dbpedia.org/resource/Seattle',\n",
       "  'http://dbpedia.org/resource/Atlanta',\n",
       "  'http://dbpedia.org/resource/Westminster,_Colorado',\n",
       "  'http://dbpedia.org/resource/San_Jose,_California']}"
      ]
     },
     "execution_count": 4,
     "metadata": {},
     "output_type": "execute_result"
    }
   ],
   "source": [
    "lc_quad_train[0]"
   ]
  },
  {
   "cell_type": "code",
   "execution_count": 5,
   "metadata": {
    "collapsed": false
   },
   "outputs": [],
   "source": [
    "from collections import defaultdict\n",
    "length_container = defaultdict(int)\n",
    "for i, record in enumerate(lc_quad_train):\n",
    "    length_container[len(record[\"graph\"])] += 1"
   ]
  },
  {
   "cell_type": "code",
   "execution_count": 8,
   "metadata": {
    "collapsed": false
   },
   "outputs": [
    {
     "data": {
      "text/plain": [
       "[(1, 24), (2, 98), (3, 128)]"
      ]
     },
     "execution_count": 8,
     "metadata": {},
     "output_type": "execute_result"
    }
   ],
   "source": [
    "sorted(length_container.items())"
   ]
  },
  {
   "cell_type": "code",
   "execution_count": null,
   "metadata": {
    "collapsed": false
   },
   "outputs": [],
   "source": []
  }
 ],
 "metadata": {
  "kernelspec": {
   "display_name": "Python [conda env:continue] *",
   "language": "python",
   "name": "conda-env-continue-py"
  },
  "language_info": {
   "codemirror_mode": {
    "name": "ipython",
    "version": 2
   },
   "file_extension": ".py",
   "mimetype": "text/x-python",
   "name": "python",
   "nbconvert_exporter": "python",
   "pygments_lexer": "ipython2",
   "version": "2.7.6"
  }
 },
 "nbformat": 4,
 "nbformat_minor": 0
}
