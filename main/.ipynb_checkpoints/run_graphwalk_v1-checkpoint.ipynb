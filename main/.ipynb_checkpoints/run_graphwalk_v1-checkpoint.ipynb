{
 "cells": [
  {
   "cell_type": "code",
   "execution_count": 23,
   "metadata": {
    "collapsed": false
   },
   "outputs": [
    {
     "name": "stdout",
     "output_type": "stream",
     "text": [
      "The autoreload extension is already loaded. To reload it, use:\n",
      "  %reload_ext autoreload\n"
     ]
    }
   ],
   "source": [
    "import pandas as pd\n",
    "%load_ext autoreload\n",
    "%autoreload 2"
   ]
  },
  {
   "cell_type": "code",
   "execution_count": 24,
   "metadata": {
    "collapsed": false
   },
   "outputs": [],
   "source": [
    "import os\n",
    "import sys\n",
    "module_path = os.path.abspath(os.path.join('..'))\n",
    "if module_path not in sys.path:\n",
    "    sys.path.append(module_path)"
   ]
  },
  {
   "cell_type": "code",
   "execution_count": 30,
   "metadata": {
    "collapsed": false
   },
   "outputs": [],
   "source": [
    "from algorithm.grapwalk_functions_v1 import (node_excl_yago_func, node_excl_extra, node_excl_owlthing_func,\n",
    "                                             node_excl_wiki_func, run_on_dataset)\n",
    "from loaders.loaders import load_on_path, ds_lc_quad_train_cleaned, ds_lc_quad_test_cleaned\n",
    "from evaluation.split_dataset import split_on_seed_dataset\n",
    "import json\n",
    "\n",
    "exclude_paths = [\n",
    "    [\"\", \"http://www.w3.org/1999/02/22-rdf-syntax-ns#type\", \"http://www.w3.org/2004/02/skos/core#Concept\"]\n",
    "]\n",
    "relation_excludes = [\"http://xmlns.com/foaf/0.1/primaryTopic\",\n",
    "                     \"http://dbpedia.org/property/isCitedBy\",\n",
    "                     \"http://dbpedia.org/ontology/wikiPageWikiLink\",\n",
    "                     \"http://dbpedia.org/ontology/wikiPageWikiLinkText\",\n",
    "                     \"http://dbpedia.org/property/wikiPageUsesTemplate\",\n",
    "                     \"http://dbpedia.org/ontology/abstract\",\n",
    "                     \"http://www.w3.org/2000/01/rdf-schema#comment\", ]\n",
    "\n",
    "res_excludes_inside_point_relation = [\"http://purl.org/linguistics/gold/hypernym\",\n",
    "                                      \"http://www.w3.org/1999/02/22-rdf-syntax-ns#type\"]\n",
    "res_excludes_inside_point_node = []\n",
    "node_excludes_funcs = [node_excl_wiki_func, node_excl_owlthing_func, node_excl_yago_func, node_excl_extra]\n",
    "\n",
    "SEED = 43\n",
    "SAMPLE_SIZE = 4\n",
    "\n",
    "#Dataset load\n",
    "lc_quad_train = load_on_path(ds_lc_quad_train_cleaned)\n",
    "\n",
    "splitted_lcquad = split_on_seed_dataset(lc_quad_train, SAMPLE_SIZE, SEED)"
   ]
  },
  {
   "cell_type": "code",
   "execution_count": 31,
   "metadata": {
    "collapsed": false
   },
   "outputs": [
    {
     "data": {
      "text/plain": [
       "{'_id': '647',\n",
       " 'corrected_question': 'Bridges over what can carry vehicles?',\n",
       " 'intermediary_question': 'What is the <bridge over> of the <bridges> whose <carries> is <Motor vehicle>?',\n",
       " 'sparql_query': 'SELECT DISTINCT ?uri WHERE { ?x <http://dbpedia.org/property/carries> <http://dbpedia.org/resource/Motor_vehicle> . ?x <http://dbpedia.org/property/crosses> ?uri  . ?x <http://www.w3.org/1999/02/22-rdf-syntax-ns#type> <http://dbpedia.org/ontology/Bridge>}',\n",
       " 'sparql_template_id': 305,\n",
       " 'result': ['http://dbpedia.org/resource/Endau_River',\n",
       "  'http://dbpedia.org/resource/Johor_River',\n",
       "  'http://dbpedia.org/resource/Perak_River',\n",
       "  'http://dbpedia.org/resource/Selangor_River',\n",
       "  'http://dbpedia.org/resource/Kelantan_River',\n",
       "  'http://dbpedia.org/resource/Pahang_River',\n",
       "  'http://dbpedia.org/resource/Lumut_Straits',\n",
       "  'http://dbpedia.org/resource/Lake_Raban',\n",
       "  'http://dbpedia.org/resource/Linggi_River',\n",
       "  'http://dbpedia.org/resource/Sarawak_River',\n",
       "  'http://dbpedia.org/resource/Pandaruan_River',\n",
       "  'http://dbpedia.org/resource/Brunei_Bay',\n",
       "  'Skudai River and Danga River',\n",
       "  'http://dbpedia.org/resource/Simin_River',\n",
       "  'http://dbpedia.org/resource/Chukai_River',\n",
       "  'http://dbpedia.org/resource/Klang_River',\n",
       "  'http://dbpedia.org/resource/Malaysia–Thailand_border',\n",
       "  'http://dbpedia.org/resource/Golok_River',\n",
       "  'http://dbpedia.org/resource/Pengerang_Strait',\n",
       "  'http://dbpedia.org/resource/Straits_of_Johor',\n",
       "  'http://dbpedia.org/resource/Strait_of_Malacca',\n",
       "  'http://dbpedia.org/resource/Mekong',\n",
       "  'http://dbpedia.org/resource/Thai-Lao_Border',\n",
       "  'http://dbpedia.org/resource/Langat_River',\n",
       "  'http://dbpedia.org/resource/Brunei_River',\n",
       "  'http://dbpedia.org/resource/Putrajaya_Lake',\n",
       "  'http://dbpedia.org/resource/Malaysia',\n",
       "  'http://dbpedia.org/resource/Selatan_Strait',\n",
       "  'http://dbpedia.org/resource/Waikato_River',\n",
       "  'http://dbpedia.org/resource/Muar_River',\n",
       "  'http://dbpedia.org/resource/Galas_River',\n",
       "  'Gai River',\n",
       "  'http://dbpedia.org/resource/Temenggor_Lake',\n",
       "  'http://dbpedia.org/resource/Muda_River',\n",
       "  'http://dbpedia.org/resource/Sungai_Simpang_Kiri',\n",
       "  'Tebrau River and Pelentong River',\n",
       "  'http://dbpedia.org/resource/Penang',\n",
       "  'http://dbpedia.org/resource/Perai_River',\n",
       "  'http://dbpedia.org/resource/Terengganu_River',\n",
       "  'http://dbpedia.org/resource/Chenderoh_River',\n",
       "  'http://dbpedia.org/resource/Lojing_Highlands',\n",
       "  'http://dbpedia.org/resource/Dinding_River',\n",
       "  'http://dbpedia.org/resource/Labuan_Strait',\n",
       "  'http://dbpedia.org/resource/Sedili_Besar_River',\n",
       "  'http://dbpedia.org/resource/Baram_River',\n",
       "  'http://dbpedia.org/resource/Rajang_River',\n",
       "  'http://dbpedia.org/resource/Sarawak',\n",
       "  'http://dbpedia.org/resource/Bukit_Putus',\n",
       "  'http://dbpedia.org/resource/Malacca_River',\n",
       "  'http://dbpedia.org/resource/Lebaan_River',\n",
       "  'http://dbpedia.org/resource/Mukah_River',\n",
       "  'http://dbpedia.org/resource/Padas_River',\n",
       "  'http://dbpedia.org/resource/Lawas_River'],\n",
       " 'graph': [['?x',\n",
       "   '<http://dbpedia.org/property/carries>',\n",
       "   '<http://dbpedia.org/resource/Motor_vehicle>'],\n",
       "  ['?x', '<http://dbpedia.org/property/crosses>', '?uri'],\n",
       "  ['?x',\n",
       "   '<http://www.w3.org/1999/02/22-rdf-syntax-ns#type>',\n",
       "   '<http://dbpedia.org/ontology/Bridge>']],\n",
       " 'result_cleaned': ['http://dbpedia.org/resource/Endau_River',\n",
       "  'http://dbpedia.org/resource/Johor_River',\n",
       "  'http://dbpedia.org/resource/Perak_River',\n",
       "  'http://dbpedia.org/resource/Selangor_River',\n",
       "  'http://dbpedia.org/resource/Kelantan_River',\n",
       "  'http://dbpedia.org/resource/Pahang_River',\n",
       "  'http://dbpedia.org/resource/Lumut_Straits',\n",
       "  'http://dbpedia.org/resource/Lake_Raban',\n",
       "  'http://dbpedia.org/resource/Linggi_River',\n",
       "  'http://dbpedia.org/resource/Sarawak_River',\n",
       "  'http://dbpedia.org/resource/Pandaruan_River',\n",
       "  'http://dbpedia.org/resource/Brunei_Bay',\n",
       "  'Skudai River and Danga River',\n",
       "  'http://dbpedia.org/resource/Simin_River',\n",
       "  'http://dbpedia.org/resource/Chukai_River',\n",
       "  'http://dbpedia.org/resource/Klang_River',\n",
       "  'http://dbpedia.org/resource/Malaysia–Thailand_border',\n",
       "  'http://dbpedia.org/resource/Golok_River',\n",
       "  'http://dbpedia.org/resource/Pengerang_Strait',\n",
       "  'http://dbpedia.org/resource/Straits_of_Johor',\n",
       "  'http://dbpedia.org/resource/Strait_of_Malacca',\n",
       "  'http://dbpedia.org/resource/Mekong',\n",
       "  'http://dbpedia.org/resource/Thai-Lao_Border',\n",
       "  'http://dbpedia.org/resource/Langat_River',\n",
       "  'http://dbpedia.org/resource/Brunei_River',\n",
       "  'http://dbpedia.org/resource/Putrajaya_Lake',\n",
       "  'http://dbpedia.org/resource/Malaysia',\n",
       "  'http://dbpedia.org/resource/Selatan_Strait',\n",
       "  'http://dbpedia.org/resource/Waikato_River',\n",
       "  'http://dbpedia.org/resource/Muar_River',\n",
       "  'http://dbpedia.org/resource/Galas_River',\n",
       "  'Gai River',\n",
       "  'http://dbpedia.org/resource/Temenggor_Lake',\n",
       "  'http://dbpedia.org/resource/Muda_River',\n",
       "  'http://dbpedia.org/resource/Sungai_Simpang_Kiri',\n",
       "  'Tebrau River and Pelentong River',\n",
       "  'http://dbpedia.org/resource/Penang',\n",
       "  'http://dbpedia.org/resource/Perai_River',\n",
       "  'http://dbpedia.org/resource/Terengganu_River',\n",
       "  'http://dbpedia.org/resource/Chenderoh_River',\n",
       "  'http://dbpedia.org/resource/Lojing_Highlands',\n",
       "  'http://dbpedia.org/resource/Dinding_River',\n",
       "  'http://dbpedia.org/resource/Labuan_Strait',\n",
       "  'http://dbpedia.org/resource/Sedili_Besar_River',\n",
       "  'http://dbpedia.org/resource/Baram_River',\n",
       "  'http://dbpedia.org/resource/Rajang_River',\n",
       "  'http://dbpedia.org/resource/Sarawak',\n",
       "  'http://dbpedia.org/resource/Bukit_Putus',\n",
       "  'http://dbpedia.org/resource/Malacca_River',\n",
       "  'http://dbpedia.org/resource/Lebaan_River',\n",
       "  'http://dbpedia.org/resource/Mukah_River',\n",
       "  'http://dbpedia.org/resource/Padas_River',\n",
       "  'http://dbpedia.org/resource/Lawas_River'],\n",
       " 'result_urlonly': ['http://dbpedia.org/resource/Endau_River',\n",
       "  'http://dbpedia.org/resource/Johor_River',\n",
       "  'http://dbpedia.org/resource/Perak_River',\n",
       "  'http://dbpedia.org/resource/Selangor_River',\n",
       "  'http://dbpedia.org/resource/Kelantan_River',\n",
       "  'http://dbpedia.org/resource/Pahang_River',\n",
       "  'http://dbpedia.org/resource/Lumut_Straits',\n",
       "  'http://dbpedia.org/resource/Lake_Raban',\n",
       "  'http://dbpedia.org/resource/Linggi_River',\n",
       "  'http://dbpedia.org/resource/Sarawak_River',\n",
       "  'http://dbpedia.org/resource/Pandaruan_River',\n",
       "  'http://dbpedia.org/resource/Brunei_Bay',\n",
       "  'http://dbpedia.org/resource/Simin_River',\n",
       "  'http://dbpedia.org/resource/Chukai_River',\n",
       "  'http://dbpedia.org/resource/Klang_River',\n",
       "  'http://dbpedia.org/resource/Malaysia–Thailand_border',\n",
       "  'http://dbpedia.org/resource/Golok_River',\n",
       "  'http://dbpedia.org/resource/Pengerang_Strait',\n",
       "  'http://dbpedia.org/resource/Straits_of_Johor',\n",
       "  'http://dbpedia.org/resource/Strait_of_Malacca',\n",
       "  'http://dbpedia.org/resource/Mekong',\n",
       "  'http://dbpedia.org/resource/Thai-Lao_Border',\n",
       "  'http://dbpedia.org/resource/Langat_River',\n",
       "  'http://dbpedia.org/resource/Brunei_River',\n",
       "  'http://dbpedia.org/resource/Putrajaya_Lake',\n",
       "  'http://dbpedia.org/resource/Malaysia',\n",
       "  'http://dbpedia.org/resource/Selatan_Strait',\n",
       "  'http://dbpedia.org/resource/Waikato_River',\n",
       "  'http://dbpedia.org/resource/Muar_River',\n",
       "  'http://dbpedia.org/resource/Galas_River',\n",
       "  'http://dbpedia.org/resource/Temenggor_Lake',\n",
       "  'http://dbpedia.org/resource/Muda_River',\n",
       "  'http://dbpedia.org/resource/Sungai_Simpang_Kiri',\n",
       "  'http://dbpedia.org/resource/Penang',\n",
       "  'http://dbpedia.org/resource/Perai_River',\n",
       "  'http://dbpedia.org/resource/Terengganu_River',\n",
       "  'http://dbpedia.org/resource/Chenderoh_River',\n",
       "  'http://dbpedia.org/resource/Lojing_Highlands',\n",
       "  'http://dbpedia.org/resource/Dinding_River',\n",
       "  'http://dbpedia.org/resource/Labuan_Strait',\n",
       "  'http://dbpedia.org/resource/Sedili_Besar_River',\n",
       "  'http://dbpedia.org/resource/Baram_River',\n",
       "  'http://dbpedia.org/resource/Rajang_River',\n",
       "  'http://dbpedia.org/resource/Sarawak',\n",
       "  'http://dbpedia.org/resource/Bukit_Putus',\n",
       "  'http://dbpedia.org/resource/Malacca_River',\n",
       "  'http://dbpedia.org/resource/Lebaan_River',\n",
       "  'http://dbpedia.org/resource/Mukah_River',\n",
       "  'http://dbpedia.org/resource/Padas_River',\n",
       "  'http://dbpedia.org/resource/Lawas_River'],\n",
       " 'seed': ['http://dbpedia.org/resource/Golok_River',\n",
       "  'http://dbpedia.org/resource/Thai-Lao_Border',\n",
       "  'http://dbpedia.org/resource/Endau_River',\n",
       "  'http://dbpedia.org/resource/Kelantan_River'],\n",
       " 'gold': ['http://dbpedia.org/resource/Strait_of_Malacca',\n",
       "  'http://dbpedia.org/resource/Chenderoh_River',\n",
       "  'http://dbpedia.org/resource/Muar_River',\n",
       "  'http://dbpedia.org/resource/Klang_River',\n",
       "  'http://dbpedia.org/resource/Mekong',\n",
       "  'http://dbpedia.org/resource/Malacca_River',\n",
       "  'http://dbpedia.org/resource/Labuan_Strait',\n",
       "  'http://dbpedia.org/resource/Lumut_Straits',\n",
       "  'http://dbpedia.org/resource/Chukai_River',\n",
       "  'http://dbpedia.org/resource/Bukit_Putus',\n",
       "  'http://dbpedia.org/resource/Straits_of_Johor',\n",
       "  'http://dbpedia.org/resource/Galas_River',\n",
       "  'http://dbpedia.org/resource/Selangor_River',\n",
       "  'http://dbpedia.org/resource/Lojing_Highlands',\n",
       "  'http://dbpedia.org/resource/Pahang_River',\n",
       "  'http://dbpedia.org/resource/Linggi_River',\n",
       "  'http://dbpedia.org/resource/Selatan_Strait',\n",
       "  'http://dbpedia.org/resource/Lake_Raban',\n",
       "  'http://dbpedia.org/resource/Langat_River',\n",
       "  'http://dbpedia.org/resource/Muda_River',\n",
       "  'http://dbpedia.org/resource/Baram_River',\n",
       "  'http://dbpedia.org/resource/Penang',\n",
       "  'http://dbpedia.org/resource/Sarawak_River',\n",
       "  'http://dbpedia.org/resource/Rajang_River',\n",
       "  'http://dbpedia.org/resource/Pandaruan_River',\n",
       "  'http://dbpedia.org/resource/Sedili_Besar_River',\n",
       "  'http://dbpedia.org/resource/Malaysia–Thailand_border',\n",
       "  'http://dbpedia.org/resource/Putrajaya_Lake',\n",
       "  'http://dbpedia.org/resource/Simin_River',\n",
       "  'http://dbpedia.org/resource/Mukah_River',\n",
       "  'http://dbpedia.org/resource/Lebaan_River',\n",
       "  'http://dbpedia.org/resource/Sungai_Simpang_Kiri',\n",
       "  'http://dbpedia.org/resource/Lawas_River',\n",
       "  'http://dbpedia.org/resource/Sarawak',\n",
       "  'http://dbpedia.org/resource/Dinding_River',\n",
       "  'http://dbpedia.org/resource/Perai_River',\n",
       "  'http://dbpedia.org/resource/Johor_River',\n",
       "  'http://dbpedia.org/resource/Malaysia',\n",
       "  'http://dbpedia.org/resource/Brunei_Bay',\n",
       "  'http://dbpedia.org/resource/Terengganu_River',\n",
       "  'http://dbpedia.org/resource/Padas_River',\n",
       "  'http://dbpedia.org/resource/Brunei_River',\n",
       "  'http://dbpedia.org/resource/Temenggor_Lake',\n",
       "  'http://dbpedia.org/resource/Perak_River',\n",
       "  'http://dbpedia.org/resource/Waikato_River',\n",
       "  'http://dbpedia.org/resource/Pengerang_Strait']}"
      ]
     },
     "execution_count": 31,
     "metadata": {},
     "output_type": "execute_result"
    }
   ],
   "source": [
    "splitted_lcquad[100]"
   ]
  },
  {
   "cell_type": "code",
   "execution_count": null,
   "metadata": {
    "collapsed": false,
    "pycharm": {
     "is_executing": true
    }
   },
   "outputs": [
    {
     "name": "stdout",
     "output_type": "stream",
     "text": [
      "Forward Done!\n",
      "Backward Done!\n"
     ]
    },
    {
     "name": "stderr",
     "output_type": "stream",
     "text": [
      " 23%|█████████▉                                  | 7/31 [09:24<33:34, 83.93s/it]"
     ]
    }
   ],
   "source": [
    "lcquad_output = run_on_dataset(splitted_lcquad[99:104], exclude_paths, relation_excludes, node_excludes_funcs)\n",
    "\n",
    "# TODO - evaluate\n",
    "\n",
    "with open(\"/home/kardosp/continuethelist/outputs/graphwalk_v1_output.json\", \"w\") as f:\n",
    "    json.dump(lcquad_output, f)\n"
   ]
  },
  {
   "cell_type": "code",
   "execution_count": null,
   "metadata": {
    "collapsed": false
   },
   "outputs": [],
   "source": []
  },
  {
   "cell_type": "code",
   "execution_count": 21,
   "metadata": {
    "collapsed": false
   },
   "outputs": [
    {
     "data": {
      "text/plain": [
       "[{'_id': '1729',\n",
       "  'corrected_question': 'What other destinations do airlines go to, whose flights also come to Glasgow?',\n",
       "  'intermediary_question': 'What is the <destinations> of the <airlines> whose <target airport> is <Glasgow Airport>?',\n",
       "  'sparql_query': 'SELECT DISTINCT ?uri WHERE { ?x <http://dbpedia.org/ontology/targetAirport> <http://dbpedia.org/resource/Glasgow_Airport> . ?x <http://dbpedia.org/property/destinations> ?uri  . ?x <http://www.w3.org/1999/02/22-rdf-syntax-ns#type> <http://dbpedia.org/ontology/Airline>}',\n",
       "  'sparql_template_id': 305,\n",
       "  'result': ['58',\n",
       "   '42',\n",
       "   '95',\n",
       "   '102',\n",
       "   '24',\n",
       "   '96',\n",
       "   'http://dbpedia.org/resource/Caribbean',\n",
       "   'http://dbpedia.org/resource/Europe',\n",
       "   'http://dbpedia.org/resource/North_America',\n",
       "   '15',\n",
       "   'http://dbpedia.org/resource/Aberdeen',\n",
       "   'http://dbpedia.org/resource/Belfast',\n",
       "   'http://dbpedia.org/resource/Glasgow',\n",
       "   'http://dbpedia.org/resource/London',\n",
       "   'http://dbpedia.org/resource/Manchester',\n",
       "   '0',\n",
       "   'http://dbpedia.org/resource/Africa',\n",
       "   '30'],\n",
       "  'graph': [['?x',\n",
       "    '<http://dbpedia.org/ontology/targetAirport>',\n",
       "    '<http://dbpedia.org/resource/Glasgow_Airport>'],\n",
       "   ['?x', '<http://dbpedia.org/property/destinations>', '?uri'],\n",
       "   ['?x',\n",
       "    '<http://www.w3.org/1999/02/22-rdf-syntax-ns#type>',\n",
       "    '<http://dbpedia.org/ontology/Airline>']],\n",
       "  'result_cleaned': ['http://dbpedia.org/resource/Caribbean',\n",
       "   'http://dbpedia.org/resource/Europe',\n",
       "   'http://dbpedia.org/resource/North_America',\n",
       "   'http://dbpedia.org/resource/Aberdeen',\n",
       "   'http://dbpedia.org/resource/Belfast',\n",
       "   'http://dbpedia.org/resource/Glasgow',\n",
       "   'http://dbpedia.org/resource/London',\n",
       "   'http://dbpedia.org/resource/Manchester',\n",
       "   'http://dbpedia.org/resource/Africa'],\n",
       "  'result_urlonly': ['http://dbpedia.org/resource/Caribbean',\n",
       "   'http://dbpedia.org/resource/Europe',\n",
       "   'http://dbpedia.org/resource/North_America',\n",
       "   'http://dbpedia.org/resource/Aberdeen',\n",
       "   'http://dbpedia.org/resource/Belfast',\n",
       "   'http://dbpedia.org/resource/Glasgow',\n",
       "   'http://dbpedia.org/resource/London',\n",
       "   'http://dbpedia.org/resource/Manchester',\n",
       "   'http://dbpedia.org/resource/Africa'],\n",
       "  'seed': ['http://dbpedia.org/resource/North_America',\n",
       "   'http://dbpedia.org/resource/Belfast',\n",
       "   'http://dbpedia.org/resource/Aberdeen',\n",
       "   'http://dbpedia.org/resource/London'],\n",
       "  'gold': ['http://dbpedia.org/resource/Manchester',\n",
       "   'http://dbpedia.org/resource/Europe',\n",
       "   'http://dbpedia.org/resource/Glasgow',\n",
       "   'http://dbpedia.org/resource/Caribbean',\n",
       "   'http://dbpedia.org/resource/Africa']}]"
      ]
     },
     "execution_count": 21,
     "metadata": {},
     "output_type": "execute_result"
    }
   ],
   "source": [
    "splitted_lcquad[99:100]"
   ]
  },
  {
   "cell_type": "code",
   "execution_count": 32,
   "metadata": {
    "collapsed": false
   },
   "outputs": [
    {
     "name": "stdout",
     "output_type": "stream",
     "text": [
      "Forward Done!\n",
      "Backward Done!\n"
     ]
    },
    {
     "name": "stderr",
     "output_type": "stream",
     "text": [
      "100%|███████████████████████████████████████████| 25/25 [05:27<00:00, 13.08s/it]\n"
     ]
    },
    {
     "name": "stdout",
     "output_type": "stream",
     "text": [
      "Backward Inside Point Done!\n",
      "res_forward 2\n",
      "res_backward 0\n",
      "res_backward2 133\n",
      "record_seed ['http://dbpedia.org/resource/Glasgow', 'http://dbpedia.org/resource/Europe', 'http://dbpedia.org/resource/Caribbean', 'http://dbpedia.org/resource/Belfast']\n",
      "record_results:  {'http://dbpedia.org/resource/Glasgow', 'http://dbpedia.org/resource/Belfast', 'http://dbpedia.org/resource/Europe', 'http://dbpedia.org/resource/Singapore'}\n",
      "forward 2 2\n",
      "backward2 133 109\n",
      "len record_results:  4\n"
     ]
    }
   ],
   "source": [
    "from copy import copy\n",
    "from algorithm.grapwalk_functions_v1 import run_grapwalk_function_v1\n",
    "\n",
    "verbose=1\n",
    "\n",
    "for record in splitted_lcquad[99:100]:\n",
    "    result, explanation = run_grapwalk_function_v1(record[\"seed\"], exclude_paths, relation_excludes,\n",
    "                                                   node_excludes_funcs, verbose=verbose)\n",
    "    record[\"output\"] = result\n",
    "    record[\"explanation\"] = explanation"
   ]
  },
  {
   "cell_type": "code",
   "execution_count": null,
   "metadata": {
    "collapsed": false
   },
   "outputs": [],
   "source": []
  }
 ],
 "metadata": {
  "kernelspec": {
   "display_name": "Python 3",
   "language": "python",
   "name": "python3"
  },
  "language_info": {
   "codemirror_mode": {
    "name": "ipython",
    "version": 2
   },
   "file_extension": ".py",
   "mimetype": "text/x-python",
   "name": "python",
   "nbconvert_exporter": "python",
   "pygments_lexer": "ipython2",
   "version": "2.7.6"
  }
 },
 "nbformat": 4,
 "nbformat_minor": 0
}
